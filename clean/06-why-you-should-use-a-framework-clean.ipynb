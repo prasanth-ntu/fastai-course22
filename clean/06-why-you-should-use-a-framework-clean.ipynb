{
 "cells": [
  {
   "cell_type": "markdown",
   "id": "33152b3e",
   "metadata": {},
   "source": [
    "# README"
   ]
  },
  {
   "cell_type": "markdown",
   "id": "cdde2ce7",
   "metadata": {},
   "source": [
    "- Data: https://www.kaggle.com/competitions/titanic/data\n",
    "- My original GitHub notebook with markdown notes: [fastai/course22/06-why-you-should-use-a-framework.ipynb](https://github.com/prasanth-ntu/fastai-course22/blob/master/06-why-you-should-use-a-framework.ipynb)\n"
   ]
  },
  {
   "cell_type": "markdown",
   "id": "c863daad",
   "metadata": {},
   "source": [
    "## Introduction and set up"
   ]
  },
  {
   "cell_type": "code",
   "execution_count": 2,
   "id": "290aea98",
   "metadata": {
    "ExecuteTime": {
     "end_time": "2023-06-30T01:10:42.571672Z",
     "start_time": "2023-06-30T01:10:42.555565Z"
    }
   },
   "outputs": [],
   "source": [
    "from pathlib import Path\n",
    "import os\n",
    "import kaggle\n",
    "import zipfile"
   ]
  },
  {
   "cell_type": "code",
   "execution_count": 8,
   "id": "6e639b26",
   "metadata": {
    "ExecuteTime": {
     "end_time": "2023-06-30T01:14:31.758176Z",
     "start_time": "2023-06-30T01:14:29.923300Z"
    }
   },
   "outputs": [],
   "source": [
    "from fastai.tabular.all import *"
   ]
  },
  {
   "cell_type": "code",
   "execution_count": 7,
   "id": "4690c9a5",
   "metadata": {
    "ExecuteTime": {
     "end_time": "2023-06-30T01:14:11.602271Z",
     "start_time": "2023-06-30T01:14:11.584783Z"
    }
   },
   "outputs": [
    {
     "name": "stdout",
     "output_type": "stream",
     "text": [
      "path: '../titanic' exists\n",
      "Files: ['test.csv', 'train.csv', 'gender_submission.csv', 'sub.csv']\n"
     ]
    }
   ],
   "source": [
    "iskaggle = os.environ.get('KAGGLE_KERNEL_RUN_TYPE', '')\n",
    "\n",
    "if iskaggle:\n",
    "    path = Path('../input/titanic')\n",
    "else:\n",
    "    competition_name = 'titanic'\n",
    "    path = Path(f'../{competition_name}')\n",
    "    if not path.exists():\n",
    "        kaggle.api.competition_download_cli(competition=competition_name)\n",
    "        zipfile.ZipFile(file=f'{path}.zip').extractall(path)\n",
    "    else:\n",
    "        print (f\"path: '{path}' exists\")\n",
    "print (f\"Files: {os.listdir(path)}\")"
   ]
  },
  {
   "cell_type": "code",
   "execution_count": 23,
   "id": "0665787d",
   "metadata": {
    "ExecuteTime": {
     "end_time": "2023-06-30T01:19:53.342173Z",
     "start_time": "2023-06-30T01:19:53.328559Z"
    }
   },
   "outputs": [
    {
     "name": "stdout",
     "output_type": "stream",
     "text": [
      "Default | numpy > printoptions > linewidth: 140\n",
      "Default | pandas > display.width: 140\n",
      "Default | pytorch > printoptions > linewidth: 80\n"
     ]
    }
   ],
   "source": [
    "print (f\"Default | numpy > printoptions > linewidth: {np.get_printoptions()['linewidth']}\")\n",
    "print (f\"Default | pandas > display.width: {pd.get_option('display.width')}\")\n",
    "print (f\"Default | pytorch > printoptions > linewidth: {80}\")\n",
    "\n",
    "np.set_printoptions(linewidth=140)\n",
    "torch.set_printoptions(linewidth=140, sci_mode=False, edgeitems=7)\n",
    "pd.set_option('display.width', 140)\n",
    "\n",
    "pd.options.display.float_format = \"{:.2f}\".format"
   ]
  },
  {
   "cell_type": "code",
   "execution_count": 24,
   "id": "f4e2ddcd",
   "metadata": {
    "ExecuteTime": {
     "end_time": "2023-06-30T01:19:53.505521Z",
     "start_time": "2023-06-30T01:19:53.489126Z"
    }
   },
   "outputs": [],
   "source": [
    "set_seed(42) # For reproducibility"
   ]
  },
  {
   "cell_type": "markdown",
   "id": "e14ae03e",
   "metadata": {},
   "source": [
    "## Prep the data"
   ]
  },
  {
   "cell_type": "code",
   "execution_count": 79,
   "id": "110196e2",
   "metadata": {
    "ExecuteTime": {
     "end_time": "2023-06-30T02:10:27.847262Z",
     "start_time": "2023-06-30T02:10:27.823347Z"
    }
   },
   "outputs": [
    {
     "name": "stdout",
     "output_type": "stream",
     "text": [
      "(891, 12)\n"
     ]
    },
    {
     "data": {
      "text/html": [
       "<div>\n",
       "<style scoped>\n",
       "    .dataframe tbody tr th:only-of-type {\n",
       "        vertical-align: middle;\n",
       "    }\n",
       "\n",
       "    .dataframe tbody tr th {\n",
       "        vertical-align: top;\n",
       "    }\n",
       "\n",
       "    .dataframe thead th {\n",
       "        text-align: right;\n",
       "    }\n",
       "</style>\n",
       "<table border=\"1\" class=\"dataframe\">\n",
       "  <thead>\n",
       "    <tr style=\"text-align: right;\">\n",
       "      <th></th>\n",
       "      <th>PassengerId</th>\n",
       "      <th>Survived</th>\n",
       "      <th>Pclass</th>\n",
       "      <th>Name</th>\n",
       "      <th>Sex</th>\n",
       "      <th>Age</th>\n",
       "      <th>SibSp</th>\n",
       "      <th>Parch</th>\n",
       "      <th>Ticket</th>\n",
       "      <th>Fare</th>\n",
       "      <th>Cabin</th>\n",
       "      <th>Embarked</th>\n",
       "    </tr>\n",
       "  </thead>\n",
       "  <tbody>\n",
       "    <tr>\n",
       "      <th>0</th>\n",
       "      <td>1</td>\n",
       "      <td>0</td>\n",
       "      <td>3</td>\n",
       "      <td>Braund, Mr. Owen Harris</td>\n",
       "      <td>male</td>\n",
       "      <td>22.00</td>\n",
       "      <td>1</td>\n",
       "      <td>0</td>\n",
       "      <td>A/5 21171</td>\n",
       "      <td>7.25</td>\n",
       "      <td>NaN</td>\n",
       "      <td>S</td>\n",
       "    </tr>\n",
       "  </tbody>\n",
       "</table>\n",
       "</div>"
      ],
      "text/plain": [
       "   PassengerId  Survived  Pclass                     Name   Sex   Age  SibSp  Parch     Ticket  Fare Cabin Embarked\n",
       "0            1         0       3  Braund, Mr. Owen Harris  male 22.00      1      0  A/5 21171  7.25   NaN        S"
      ]
     },
     "execution_count": 79,
     "metadata": {},
     "output_type": "execute_result"
    }
   ],
   "source": [
    "df = pd.read_csv(f\"{path}/train.csv\")\n",
    "print (df.shape)\n",
    "df.head(1)"
   ]
  },
  {
   "cell_type": "code",
   "execution_count": 80,
   "id": "41cdf0b5",
   "metadata": {
    "ExecuteTime": {
     "end_time": "2023-06-30T02:10:27.947238Z",
     "start_time": "2023-06-30T02:10:27.926619Z"
    }
   },
   "outputs": [
    {
     "name": "stdout",
     "output_type": "stream",
     "text": [
      "<class 'pandas.core.frame.DataFrame'>\n",
      "RangeIndex: 891 entries, 0 to 890\n",
      "Data columns (total 12 columns):\n",
      " #   Column       Non-Null Count  Dtype  \n",
      "---  ------       --------------  -----  \n",
      " 0   PassengerId  891 non-null    int64  \n",
      " 1   Survived     891 non-null    int64  \n",
      " 2   Pclass       891 non-null    int64  \n",
      " 3   Name         891 non-null    object \n",
      " 4   Sex          891 non-null    object \n",
      " 5   Age          714 non-null    float64\n",
      " 6   SibSp        891 non-null    int64  \n",
      " 7   Parch        891 non-null    int64  \n",
      " 8   Ticket       891 non-null    object \n",
      " 9   Fare         891 non-null    float64\n",
      " 10  Cabin        204 non-null    object \n",
      " 11  Embarked     889 non-null    object \n",
      "dtypes: float64(2), int64(5), object(5)\n",
      "memory usage: 83.7+ KB\n"
     ]
    }
   ],
   "source": [
    "df.info()"
   ]
  },
  {
   "cell_type": "code",
   "execution_count": 74,
   "id": "52f66edf",
   "metadata": {
    "ExecuteTime": {
     "end_time": "2023-06-30T01:48:07.945071Z",
     "start_time": "2023-06-30T01:48:07.931778Z"
    }
   },
   "outputs": [
    {
     "data": {
      "text/plain": [
       "PassengerId      0\n",
       "Survived         0\n",
       "Pclass           0\n",
       "Name             0\n",
       "Sex              0\n",
       "Age            177\n",
       "SibSp            0\n",
       "Parch            0\n",
       "Ticket           0\n",
       "Fare             0\n",
       "Cabin          687\n",
       "Embarked         2\n",
       "dtype: int64"
      ]
     },
     "execution_count": 74,
     "metadata": {},
     "output_type": "execute_result"
    }
   ],
   "source": [
    "df.isna().sum()"
   ]
  },
  {
   "cell_type": "code",
   "execution_count": 75,
   "id": "d1822648",
   "metadata": {
    "ExecuteTime": {
     "end_time": "2023-06-30T01:48:09.542761Z",
     "start_time": "2023-06-30T01:48:09.516100Z"
    }
   },
   "outputs": [],
   "source": [
    "def add_features(df):\n",
    "    '''Feature engineering (Creating new features)'''\n",
    "    df['LogFare'] = np.log1p(df['Fare'])\n",
    "    df['Deck'] = df['Cabin'].str[0].map({\n",
    "        'A': 'ABC', 'B': 'ABC', 'C': 'ABC',\n",
    "        'D': 'DE', 'E': 'DE',\n",
    "        'F': 'FG', 'G': 'FG',\n",
    "    })\n",
    "    df['Family'] = df['Parch'] + df['SibSp']\n",
    "    df['Alone'] = df['Family']==0\n",
    "    df['TicketFreq'] = df.groupby(['Ticket'])['Ticket'].transform('count')\n",
    "    df['Title'] = df['Name'].str.split(', ', expand=True)[1].str.split('.', expand=True)[0]\n",
    "    # df['Title'] = df['Title'].map(dict(Mr='Mr', Miss='Miss', Mrs='Mrs', Master='Master')).value_counts(dropna=False)\n",
    "add_features(df)"
   ]
  },
  {
   "cell_type": "code",
   "execution_count": 76,
   "id": "0728d2e4",
   "metadata": {
    "ExecuteTime": {
     "end_time": "2023-06-30T01:48:10.299292Z",
     "start_time": "2023-06-30T01:48:10.283559Z"
    }
   },
   "outputs": [
    {
     "name": "stdout",
     "output_type": "stream",
     "text": [
      "(891, 18)\n"
     ]
    },
    {
     "data": {
      "text/html": [
       "<div>\n",
       "<style scoped>\n",
       "    .dataframe tbody tr th:only-of-type {\n",
       "        vertical-align: middle;\n",
       "    }\n",
       "\n",
       "    .dataframe tbody tr th {\n",
       "        vertical-align: top;\n",
       "    }\n",
       "\n",
       "    .dataframe thead th {\n",
       "        text-align: right;\n",
       "    }\n",
       "</style>\n",
       "<table border=\"1\" class=\"dataframe\">\n",
       "  <thead>\n",
       "    <tr style=\"text-align: right;\">\n",
       "      <th></th>\n",
       "      <th>PassengerId</th>\n",
       "      <th>Survived</th>\n",
       "      <th>Pclass</th>\n",
       "      <th>Name</th>\n",
       "      <th>Sex</th>\n",
       "      <th>Age</th>\n",
       "      <th>SibSp</th>\n",
       "      <th>Parch</th>\n",
       "      <th>Ticket</th>\n",
       "      <th>Fare</th>\n",
       "      <th>Cabin</th>\n",
       "      <th>Embarked</th>\n",
       "      <th>LogFare</th>\n",
       "      <th>Deck</th>\n",
       "      <th>Family</th>\n",
       "      <th>Alone</th>\n",
       "      <th>TicketFreq</th>\n",
       "      <th>Title</th>\n",
       "    </tr>\n",
       "  </thead>\n",
       "  <tbody>\n",
       "    <tr>\n",
       "      <th>0</th>\n",
       "      <td>1</td>\n",
       "      <td>0</td>\n",
       "      <td>3</td>\n",
       "      <td>Braund, Mr. Owen Harris</td>\n",
       "      <td>male</td>\n",
       "      <td>22.00</td>\n",
       "      <td>1</td>\n",
       "      <td>0</td>\n",
       "      <td>A/5 21171</td>\n",
       "      <td>7.25</td>\n",
       "      <td>NaN</td>\n",
       "      <td>S</td>\n",
       "      <td>2.11</td>\n",
       "      <td>NaN</td>\n",
       "      <td>1</td>\n",
       "      <td>False</td>\n",
       "      <td>1</td>\n",
       "      <td>Mr</td>\n",
       "    </tr>\n",
       "  </tbody>\n",
       "</table>\n",
       "</div>"
      ],
      "text/plain": [
       "   PassengerId  Survived  Pclass                     Name   Sex   Age  SibSp  Parch     Ticket  Fare Cabin Embarked  LogFare Deck  Family  \\\n",
       "0            1         0       3  Braund, Mr. Owen Harris  male 22.00      1      0  A/5 21171  7.25   NaN        S     2.11  NaN       1   \n",
       "\n",
       "   Alone  TicketFreq Title  \n",
       "0  False           1    Mr  "
      ]
     },
     "execution_count": 76,
     "metadata": {},
     "output_type": "execute_result"
    }
   ],
   "source": [
    "print (df.shape)\n",
    "df.head(1)"
   ]
  },
  {
   "cell_type": "code",
   "execution_count": 72,
   "id": "8baa44f7",
   "metadata": {
    "ExecuteTime": {
     "end_time": "2023-06-30T01:46:26.293996Z",
     "start_time": "2023-06-30T01:46:26.276474Z"
    }
   },
   "outputs": [],
   "source": [
    "splits = RandomSplitter(seed=42)(df)"
   ]
  },
  {
   "cell_type": "code",
   "execution_count": 78,
   "id": "de50dd11",
   "metadata": {
    "ExecuteTime": {
     "end_time": "2023-06-30T01:53:03.415584Z",
     "start_time": "2023-06-30T01:53:03.345828Z"
    }
   },
   "outputs": [],
   "source": [
    "# Getting the data ready for training\n",
    "dls = TabularPandas(\n",
    "    df=df, splits=splits,\n",
    "    # Turn strings into categories, fill missing values in numeric cols with median, normalize all numeric cols\n",
    "    procs=[Categorify, FillMissing, Normalize], \n",
    "    cat_names=['Sex', 'Pclass', 'Embarked', 'Deck', 'Title'],\n",
    "    cont_names = ['Age', 'SibSp', 'Parch', 'LogFare', 'Alone', 'TicketFreq', 'Family'],\n",
    "    y_names='Survived',\n",
    "    y_block=CategoryBlock(), # Tell fastai to do classification, not regression\n",
    ").dataloaders(path='.')"
   ]
  },
  {
   "cell_type": "markdown",
   "id": "caee20be",
   "metadata": {},
   "source": [
    "## Train the model"
   ]
  },
  {
   "cell_type": "code",
   "execution_count": 82,
   "id": "a2cfc4fe",
   "metadata": {
    "ExecuteTime": {
     "end_time": "2023-06-30T02:12:41.542765Z",
     "start_time": "2023-06-30T02:12:41.519146Z"
    }
   },
   "outputs": [],
   "source": [
    "learn = tabular_learner(dls=dls, metrics=accuracy, layers=[10,10])"
   ]
  },
  {
   "cell_type": "code",
   "execution_count": 83,
   "id": "774017a6",
   "metadata": {
    "ExecuteTime": {
     "end_time": "2023-06-30T02:13:22.864466Z",
     "start_time": "2023-06-30T02:13:19.623488Z"
    }
   },
   "outputs": [
    {
     "data": {
      "text/html": [
       "\n",
       "<style>\n",
       "    /* Turns off some styling */\n",
       "    progress {\n",
       "        /* gets rid of default border in Firefox and Opera. */\n",
       "        border: none;\n",
       "        /* Needs to be in here for Safari polyfill so background images work as expected. */\n",
       "        background-size: auto;\n",
       "    }\n",
       "    progress:not([value]), progress:not([value])::-webkit-progress-bar {\n",
       "        background: repeating-linear-gradient(45deg, #7e7e7e, #7e7e7e 10px, #5c5c5c 10px, #5c5c5c 20px);\n",
       "    }\n",
       "    .progress-bar-interrupted, .progress-bar-interrupted::-webkit-progress-bar {\n",
       "        background: #F44336;\n",
       "    }\n",
       "</style>\n"
      ],
      "text/plain": [
       "<IPython.core.display.HTML object>"
      ]
     },
     "metadata": {},
     "output_type": "display_data"
    },
    {
     "data": {
      "text/html": [],
      "text/plain": [
       "<IPython.core.display.HTML object>"
      ]
     },
     "metadata": {},
     "output_type": "display_data"
    },
    {
     "data": {
      "text/plain": [
       "SuggestedLRs(slide=0.12022644281387329, valley=0.009120108559727669)"
      ]
     },
     "execution_count": 83,
     "metadata": {},
     "output_type": "execute_result"
    },
    {
     "data": {
      "image/png": "[encoded data removed]",
      "text/plain": [
       "<Figure size 640x480 with 1 Axes>"
      ]
     },
     "metadata": {},
     "output_type": "display_data"
    }
   ],
   "source": [
    "# Using fastai tools to find optimal learning rate\n",
    "learn.lr_find(suggest_funcs=(slide, valley))"
   ]
  },
  {
   "cell_type": "code",
   "execution_count": 84,
   "id": "5d300cfb",
   "metadata": {
    "ExecuteTime": {
     "end_time": "2023-06-30T02:14:53.830370Z",
     "start_time": "2023-06-30T02:14:50.474314Z"
    }
   },
   "outputs": [
    {
     "data": {
      "text/html": [
       "\n",
       "<style>\n",
       "    /* Turns off some styling */\n",
       "    progress {\n",
       "        /* gets rid of default border in Firefox and Opera. */\n",
       "        border: none;\n",
       "        /* Needs to be in here for Safari polyfill so background images work as expected. */\n",
       "        background-size: auto;\n",
       "    }\n",
       "    progress:not([value]), progress:not([value])::-webkit-progress-bar {\n",
       "        background: repeating-linear-gradient(45deg, #7e7e7e, #7e7e7e 10px, #5c5c5c 10px, #5c5c5c 20px);\n",
       "    }\n",
       "    .progress-bar-interrupted, .progress-bar-interrupted::-webkit-progress-bar {\n",
       "        background: #F44336;\n",
       "    }\n",
       "</style>\n"
      ],
      "text/plain": [
       "<IPython.core.display.HTML object>"
      ]
     },
     "metadata": {},
     "output_type": "display_data"
    },
    {
     "data": {
      "text/html": [
       "<table border=\"1\" class=\"dataframe\">\n",
       "  <thead>\n",
       "    <tr style=\"text-align: left;\">\n",
       "      <th>epoch</th>\n",
       "      <th>train_loss</th>\n",
       "      <th>valid_loss</th>\n",
       "      <th>accuracy</th>\n",
       "      <th>time</th>\n",
       "    </tr>\n",
       "  </thead>\n",
       "  <tbody>\n",
       "    <tr>\n",
       "      <td>0</td>\n",
       "      <td>0.572027</td>\n",
       "      <td>0.561040</td>\n",
       "      <td>0.595506</td>\n",
       "      <td>00:00</td>\n",
       "    </tr>\n",
       "    <tr>\n",
       "      <td>1</td>\n",
       "      <td>0.498225</td>\n",
       "      <td>0.480605</td>\n",
       "      <td>0.797753</td>\n",
       "      <td>00:00</td>\n",
       "    </tr>\n",
       "    <tr>\n",
       "      <td>2</td>\n",
       "      <td>0.462795</td>\n",
       "      <td>0.483255</td>\n",
       "      <td>0.820225</td>\n",
       "      <td>00:00</td>\n",
       "    </tr>\n",
       "    <tr>\n",
       "      <td>3</td>\n",
       "      <td>0.452451</td>\n",
       "      <td>0.483890</td>\n",
       "      <td>0.803371</td>\n",
       "      <td>00:00</td>\n",
       "    </tr>\n",
       "    <tr>\n",
       "      <td>4</td>\n",
       "      <td>0.449872</td>\n",
       "      <td>0.548933</td>\n",
       "      <td>0.825843</td>\n",
       "      <td>00:00</td>\n",
       "    </tr>\n",
       "    <tr>\n",
       "      <td>5</td>\n",
       "      <td>0.441701</td>\n",
       "      <td>0.491516</td>\n",
       "      <td>0.820225</td>\n",
       "      <td>00:00</td>\n",
       "    </tr>\n",
       "    <tr>\n",
       "      <td>6</td>\n",
       "      <td>0.432830</td>\n",
       "      <td>0.429545</td>\n",
       "      <td>0.820225</td>\n",
       "      <td>00:00</td>\n",
       "    </tr>\n",
       "    <tr>\n",
       "      <td>7</td>\n",
       "      <td>0.423594</td>\n",
       "      <td>0.426521</td>\n",
       "      <td>0.808989</td>\n",
       "      <td>00:00</td>\n",
       "    </tr>\n",
       "    <tr>\n",
       "      <td>8</td>\n",
       "      <td>0.417347</td>\n",
       "      <td>0.411991</td>\n",
       "      <td>0.820225</td>\n",
       "      <td>00:00</td>\n",
       "    </tr>\n",
       "    <tr>\n",
       "      <td>9</td>\n",
       "      <td>0.410619</td>\n",
       "      <td>0.441100</td>\n",
       "      <td>0.814607</td>\n",
       "      <td>00:00</td>\n",
       "    </tr>\n",
       "    <tr>\n",
       "      <td>10</td>\n",
       "      <td>0.406085</td>\n",
       "      <td>0.447085</td>\n",
       "      <td>0.808989</td>\n",
       "      <td>00:00</td>\n",
       "    </tr>\n",
       "    <tr>\n",
       "      <td>11</td>\n",
       "      <td>0.403320</td>\n",
       "      <td>0.417378</td>\n",
       "      <td>0.825843</td>\n",
       "      <td>00:00</td>\n",
       "    </tr>\n",
       "    <tr>\n",
       "      <td>12</td>\n",
       "      <td>0.396286</td>\n",
       "      <td>0.456077</td>\n",
       "      <td>0.808989</td>\n",
       "      <td>00:00</td>\n",
       "    </tr>\n",
       "    <tr>\n",
       "      <td>13</td>\n",
       "      <td>0.394822</td>\n",
       "      <td>0.435355</td>\n",
       "      <td>0.792135</td>\n",
       "      <td>00:00</td>\n",
       "    </tr>\n",
       "    <tr>\n",
       "      <td>14</td>\n",
       "      <td>0.391741</td>\n",
       "      <td>0.423939</td>\n",
       "      <td>0.814607</td>\n",
       "      <td>00:00</td>\n",
       "    </tr>\n",
       "    <tr>\n",
       "      <td>15</td>\n",
       "      <td>0.389892</td>\n",
       "      <td>0.421186</td>\n",
       "      <td>0.803371</td>\n",
       "      <td>00:00</td>\n",
       "    </tr>\n",
       "  </tbody>\n",
       "</table>"
      ],
      "text/plain": [
       "<IPython.core.display.HTML object>"
      ]
     },
     "metadata": {},
     "output_type": "display_data"
    }
   ],
   "source": [
    "# Pick somewhere between slide and valley\n",
    "learn.fit(n_epoch=16, lr=0.03)"
   ]
  },
  {
   "cell_type": "code",
   "execution_count": null,
   "id": "b3959f69",
   "metadata": {},
   "outputs": [],
   "source": [
    "# The accuracy on validation set is closer to what we achieved in previous notebook \n",
    "# 05-linear-model-and-neural-net-from-scratch-clean.ipynb"
   ]
  },
  {
   "cell_type": "markdown",
   "id": "fecef5f8",
   "metadata": {},
   "source": [
    "## Submit to Kaggle"
   ]
  },
  {
   "cell_type": "code",
   "execution_count": 86,
   "id": "7ceca3b9",
   "metadata": {
    "ExecuteTime": {
     "end_time": "2023-06-30T02:16:33.035879Z",
     "start_time": "2023-06-30T02:16:33.017168Z"
    },
    "scrolled": true
   },
   "outputs": [
    {
     "name": "stdout",
     "output_type": "stream",
     "text": [
      "(418, 11)\n"
     ]
    },
    {
     "data": {
      "text/html": [
       "<div>\n",
       "<style scoped>\n",
       "    .dataframe tbody tr th:only-of-type {\n",
       "        vertical-align: middle;\n",
       "    }\n",
       "\n",
       "    .dataframe tbody tr th {\n",
       "        vertical-align: top;\n",
       "    }\n",
       "\n",
       "    .dataframe thead th {\n",
       "        text-align: right;\n",
       "    }\n",
       "</style>\n",
       "<table border=\"1\" class=\"dataframe\">\n",
       "  <thead>\n",
       "    <tr style=\"text-align: right;\">\n",
       "      <th></th>\n",
       "      <th>PassengerId</th>\n",
       "      <th>Pclass</th>\n",
       "      <th>Name</th>\n",
       "      <th>Sex</th>\n",
       "      <th>Age</th>\n",
       "      <th>SibSp</th>\n",
       "      <th>Parch</th>\n",
       "      <th>Ticket</th>\n",
       "      <th>Fare</th>\n",
       "      <th>Cabin</th>\n",
       "      <th>Embarked</th>\n",
       "    </tr>\n",
       "  </thead>\n",
       "  <tbody>\n",
       "    <tr>\n",
       "      <th>0</th>\n",
       "      <td>892</td>\n",
       "      <td>3</td>\n",
       "      <td>Kelly, Mr. James</td>\n",
       "      <td>male</td>\n",
       "      <td>34.50</td>\n",
       "      <td>0</td>\n",
       "      <td>0</td>\n",
       "      <td>330911</td>\n",
       "      <td>7.83</td>\n",
       "      <td>NaN</td>\n",
       "      <td>Q</td>\n",
       "    </tr>\n",
       "    <tr>\n",
       "      <th>1</th>\n",
       "      <td>893</td>\n",
       "      <td>3</td>\n",
       "      <td>Wilkes, Mrs. James (Ellen Needs)</td>\n",
       "      <td>female</td>\n",
       "      <td>47.00</td>\n",
       "      <td>1</td>\n",
       "      <td>0</td>\n",
       "      <td>363272</td>\n",
       "      <td>7.00</td>\n",
       "      <td>NaN</td>\n",
       "      <td>S</td>\n",
       "    </tr>\n",
       "  </tbody>\n",
       "</table>\n",
       "</div>"
      ],
      "text/plain": [
       "   PassengerId  Pclass                              Name     Sex   Age  SibSp  Parch  Ticket  Fare Cabin Embarked\n",
       "0          892       3                  Kelly, Mr. James    male 34.50      0      0  330911  7.83   NaN        Q\n",
       "1          893       3  Wilkes, Mrs. James (Ellen Needs)  female 47.00      1      0  363272  7.00   NaN        S"
      ]
     },
     "execution_count": 86,
     "metadata": {},
     "output_type": "execute_result"
    }
   ],
   "source": [
    "tst_df = pd.read_csv(f\"{path}/test.csv\")\n",
    "print (tst_df.shape)\n",
    "tst_df.head(2)"
   ]
  },
  {
   "cell_type": "code",
   "execution_count": 87,
   "id": "7acbf192",
   "metadata": {
    "ExecuteTime": {
     "end_time": "2023-06-30T02:17:23.378383Z",
     "start_time": "2023-06-30T02:17:23.362963Z"
    }
   },
   "outputs": [
    {
     "data": {
      "text/plain": [
       "PassengerId      0\n",
       "Pclass           0\n",
       "Name             0\n",
       "Sex              0\n",
       "Age             86\n",
       "SibSp            0\n",
       "Parch            0\n",
       "Ticket           0\n",
       "Fare             1\n",
       "Cabin          327\n",
       "Embarked         0\n",
       "dtype: int64"
      ]
     },
     "execution_count": 87,
     "metadata": {},
     "output_type": "execute_result"
    }
   ],
   "source": [
    "tst_df.isna().sum()"
   ]
  },
  {
   "cell_type": "code",
   "execution_count": 92,
   "id": "205b8dde",
   "metadata": {
    "ExecuteTime": {
     "end_time": "2023-06-30T02:21:17.178385Z",
     "start_time": "2023-06-30T02:21:17.149616Z"
    }
   },
   "outputs": [
    {
     "name": "stdout",
     "output_type": "stream",
     "text": [
      "(418, 17)\n"
     ]
    },
    {
     "data": {
      "text/html": [
       "<div>\n",
       "<style scoped>\n",
       "    .dataframe tbody tr th:only-of-type {\n",
       "        vertical-align: middle;\n",
       "    }\n",
       "\n",
       "    .dataframe tbody tr th {\n",
       "        vertical-align: top;\n",
       "    }\n",
       "\n",
       "    .dataframe thead th {\n",
       "        text-align: right;\n",
       "    }\n",
       "</style>\n",
       "<table border=\"1\" class=\"dataframe\">\n",
       "  <thead>\n",
       "    <tr style=\"text-align: right;\">\n",
       "      <th></th>\n",
       "      <th>PassengerId</th>\n",
       "      <th>Pclass</th>\n",
       "      <th>Name</th>\n",
       "      <th>Sex</th>\n",
       "      <th>Age</th>\n",
       "      <th>SibSp</th>\n",
       "      <th>Parch</th>\n",
       "      <th>Ticket</th>\n",
       "      <th>Fare</th>\n",
       "      <th>Cabin</th>\n",
       "      <th>Embarked</th>\n",
       "      <th>LogFare</th>\n",
       "      <th>Deck</th>\n",
       "      <th>Family</th>\n",
       "      <th>Alone</th>\n",
       "      <th>TicketFreq</th>\n",
       "      <th>Title</th>\n",
       "    </tr>\n",
       "  </thead>\n",
       "  <tbody>\n",
       "    <tr>\n",
       "      <th>0</th>\n",
       "      <td>892</td>\n",
       "      <td>3</td>\n",
       "      <td>Kelly, Mr. James</td>\n",
       "      <td>male</td>\n",
       "      <td>34.50</td>\n",
       "      <td>0</td>\n",
       "      <td>0</td>\n",
       "      <td>330911</td>\n",
       "      <td>7.83</td>\n",
       "      <td>NaN</td>\n",
       "      <td>Q</td>\n",
       "      <td>2.18</td>\n",
       "      <td>NaN</td>\n",
       "      <td>0</td>\n",
       "      <td>True</td>\n",
       "      <td>1</td>\n",
       "      <td>Mr</td>\n",
       "    </tr>\n",
       "    <tr>\n",
       "      <th>1</th>\n",
       "      <td>893</td>\n",
       "      <td>3</td>\n",
       "      <td>Wilkes, Mrs. James (Ellen Needs)</td>\n",
       "      <td>female</td>\n",
       "      <td>47.00</td>\n",
       "      <td>1</td>\n",
       "      <td>0</td>\n",
       "      <td>363272</td>\n",
       "      <td>7.00</td>\n",
       "      <td>NaN</td>\n",
       "      <td>S</td>\n",
       "      <td>2.08</td>\n",
       "      <td>NaN</td>\n",
       "      <td>1</td>\n",
       "      <td>False</td>\n",
       "      <td>1</td>\n",
       "      <td>Mrs</td>\n",
       "    </tr>\n",
       "  </tbody>\n",
       "</table>\n",
       "</div>"
      ],
      "text/plain": [
       "   PassengerId  Pclass                              Name     Sex   Age  SibSp  Parch  Ticket  Fare Cabin Embarked  LogFare Deck  Family  \\\n",
       "0          892       3                  Kelly, Mr. James    male 34.50      0      0  330911  7.83   NaN        Q     2.18  NaN       0   \n",
       "1          893       3  Wilkes, Mrs. James (Ellen Needs)  female 47.00      1      0  363272  7.00   NaN        S     2.08  NaN       1   \n",
       "\n",
       "   Alone  TicketFreq Title  \n",
       "0   True           1    Mr  \n",
       "1  False           1   Mrs  "
      ]
     },
     "execution_count": 92,
     "metadata": {},
     "output_type": "execute_result"
    }
   ],
   "source": [
    "tst_df['Fare'] = tst_df['Fare'].fillna(0)\n",
    "add_features(tst_df)\n",
    "print (tst_df.shape)\n",
    "tst_df.head(2)"
   ]
  },
  {
   "cell_type": "code",
   "execution_count": 105,
   "id": "3af88153",
   "metadata": {
    "ExecuteTime": {
     "end_time": "2023-06-30T02:22:42.133778Z",
     "start_time": "2023-06-30T02:22:42.107024Z"
    },
    "scrolled": true
   },
   "outputs": [
    {
     "data": {
      "text/html": [
       "<div>\n",
       "<style scoped>\n",
       "    .dataframe tbody tr th:only-of-type {\n",
       "        vertical-align: middle;\n",
       "    }\n",
       "\n",
       "    .dataframe tbody tr th {\n",
       "        vertical-align: top;\n",
       "    }\n",
       "\n",
       "    .dataframe thead th {\n",
       "        text-align: right;\n",
       "    }\n",
       "</style>\n",
       "<table border=\"1\" class=\"dataframe\">\n",
       "  <thead>\n",
       "    <tr style=\"text-align: right;\">\n",
       "      <th></th>\n",
       "      <th>Sex</th>\n",
       "      <th>Pclass</th>\n",
       "      <th>Embarked</th>\n",
       "      <th>Deck</th>\n",
       "      <th>Title</th>\n",
       "      <th>Age_na</th>\n",
       "      <th>Age</th>\n",
       "      <th>SibSp</th>\n",
       "      <th>Parch</th>\n",
       "      <th>LogFare</th>\n",
       "      <th>Alone</th>\n",
       "      <th>TicketFreq</th>\n",
       "      <th>Family</th>\n",
       "    </tr>\n",
       "  </thead>\n",
       "  <tbody>\n",
       "    <tr>\n",
       "      <th>0</th>\n",
       "      <td>2</td>\n",
       "      <td>3</td>\n",
       "      <td>2</td>\n",
       "      <td>0</td>\n",
       "      <td>12</td>\n",
       "      <td>1</td>\n",
       "      <td>0.40</td>\n",
       "      <td>-0.46</td>\n",
       "      <td>-0.46</td>\n",
       "      <td>-0.77</td>\n",
       "      <td>0.79</td>\n",
       "      <td>-0.58</td>\n",
       "      <td>-0.55</td>\n",
       "    </tr>\n",
       "    <tr>\n",
       "      <th>1</th>\n",
       "      <td>1</td>\n",
       "      <td>3</td>\n",
       "      <td>3</td>\n",
       "      <td>0</td>\n",
       "      <td>13</td>\n",
       "      <td>1</td>\n",
       "      <td>1.36</td>\n",
       "      <td>0.46</td>\n",
       "      <td>-0.46</td>\n",
       "      <td>-0.87</td>\n",
       "      <td>-1.26</td>\n",
       "      <td>-0.58</td>\n",
       "      <td>0.08</td>\n",
       "    </tr>\n",
       "  </tbody>\n",
       "</table>\n",
       "</div>"
      ],
      "text/plain": [
       "   Sex  Pclass  Embarked  Deck  Title  Age_na  Age  SibSp  Parch  LogFare  Alone  TicketFreq  Family\n",
       "0    2       3         2     0     12       1 0.40  -0.46  -0.46    -0.77   0.79       -0.58   -0.55\n",
       "1    1       3         3     0     13       1 1.36   0.46  -0.46    -0.87  -1.26       -0.58    0.08"
      ]
     },
     "execution_count": 105,
     "metadata": {},
     "output_type": "execute_result"
    }
   ],
   "source": [
    "tst_dl = learn.dls.test_dl(tst_df)\n",
    "tst_dl.xs.head(2)"
   ]
  },
  {
   "cell_type": "code",
   "execution_count": 106,
   "id": "8593b4f8",
   "metadata": {
    "ExecuteTime": {
     "end_time": "2023-06-30T02:23:16.711808Z",
     "start_time": "2023-06-30T02:23:16.611760Z"
    }
   },
   "outputs": [
    {
     "data": {
      "text/html": [
       "\n",
       "<style>\n",
       "    /* Turns off some styling */\n",
       "    progress {\n",
       "        /* gets rid of default border in Firefox and Opera. */\n",
       "        border: none;\n",
       "        /* Needs to be in here for Safari polyfill so background images work as expected. */\n",
       "        background-size: auto;\n",
       "    }\n",
       "    progress:not([value]), progress:not([value])::-webkit-progress-bar {\n",
       "        background: repeating-linear-gradient(45deg, #7e7e7e, #7e7e7e 10px, #5c5c5c 10px, #5c5c5c 20px);\n",
       "    }\n",
       "    .progress-bar-interrupted, .progress-bar-interrupted::-webkit-progress-bar {\n",
       "        background: #F44336;\n",
       "    }\n",
       "</style>\n"
      ],
      "text/plain": [
       "<IPython.core.display.HTML object>"
      ]
     },
     "metadata": {},
     "output_type": "display_data"
    },
    {
     "data": {
      "text/html": [],
      "text/plain": [
       "<IPython.core.display.HTML object>"
      ]
     },
     "metadata": {},
     "output_type": "display_data"
    },
    {
     "name": "stdout",
     "output_type": "stream",
     "text": [
      "torch.Size([418, 2])\n"
     ]
    },
    {
     "data": {
      "text/plain": [
       "tensor([[0.8885, 0.1115],\n",
       "        [0.5869, 0.4131],\n",
       "        [0.9352, 0.0648],\n",
       "        [0.9204, 0.0796],\n",
       "        [0.2361, 0.7639]])"
      ]
     },
     "execution_count": 106,
     "metadata": {},
     "output_type": "execute_result"
    }
   ],
   "source": [
    "preds,_ = learn.get_preds(dl=tst_dl)\n",
    "print (preds.shape)\n",
    "preds[:5]"
   ]
  },
  {
   "cell_type": "code",
   "execution_count": 108,
   "id": "72caf71d",
   "metadata": {
    "ExecuteTime": {
     "end_time": "2023-06-30T02:24:18.540192Z",
     "start_time": "2023-06-30T02:24:18.525891Z"
    }
   },
   "outputs": [],
   "source": [
    "tst_df['Survived'] = (preds[:,1]>0.5).int()\n",
    "sub_df = tst_df[['PassengerId', 'Survived']]\n",
    "sub_df.to_csv('sub.csv', index=False)"
   ]
  },
  {
   "cell_type": "code",
   "execution_count": 109,
   "id": "fd902b79",
   "metadata": {
    "ExecuteTime": {
     "end_time": "2023-06-30T02:24:29.969746Z",
     "start_time": "2023-06-30T02:24:29.819587Z"
    }
   },
   "outputs": [
    {
     "name": "stdout",
     "output_type": "stream",
     "text": [
      "PassengerId,Survived\r\n",
      "892,0\r\n",
      "893,1\r\n",
      "894,0\r\n",
      "895,0\r\n",
      "896,1\r\n",
      "897,0\r\n",
      "898,1\r\n",
      "899,0\r\n",
      "900,1\r\n"
     ]
    }
   ],
   "source": [
    "!head '../sub.csv'"
   ]
  },
  {
   "cell_type": "markdown",
   "id": "980aaaa0",
   "metadata": {},
   "source": [
    "## Ensembling"
   ]
  },
  {
   "cell_type": "code",
   "execution_count": 129,
   "id": "b41da2f4",
   "metadata": {
    "ExecuteTime": {
     "end_time": "2023-06-30T02:30:39.443975Z",
     "start_time": "2023-06-30T02:30:39.430576Z"
    }
   },
   "outputs": [],
   "source": [
    "def ensemble(dls, tst_dl):\n",
    "    learn = tabular_learner(dls=dls, metrics=accuracy, layers=[10,10])\n",
    "    with learn.no_bar(), learn.no_logging():\n",
    "        learn.fit(n_epoch=16, lr=0.03)\n",
    "    preds,_ = learn.get_preds(dl=tst_dl)\n",
    "    return preds"
   ]
  },
  {
   "cell_type": "code",
   "execution_count": 132,
   "id": "83b42a7c",
   "metadata": {
    "ExecuteTime": {
     "end_time": "2023-06-30T02:32:30.375220Z",
     "start_time": "2023-06-30T02:32:17.613767Z"
    },
    "scrolled": true
   },
   "outputs": [
    {
     "data": {
      "text/html": [
       "\n",
       "<style>\n",
       "    /* Turns off some styling */\n",
       "    progress {\n",
       "        /* gets rid of default border in Firefox and Opera. */\n",
       "        border: none;\n",
       "        /* Needs to be in here for Safari polyfill so background images work as expected. */\n",
       "        background-size: auto;\n",
       "    }\n",
       "    progress:not([value]), progress:not([value])::-webkit-progress-bar {\n",
       "        background: repeating-linear-gradient(45deg, #7e7e7e, #7e7e7e 10px, #5c5c5c 10px, #5c5c5c 20px);\n",
       "    }\n",
       "    .progress-bar-interrupted, .progress-bar-interrupted::-webkit-progress-bar {\n",
       "        background: #F44336;\n",
       "    }\n",
       "</style>\n"
      ],
      "text/plain": [
       "<IPython.core.display.HTML object>"
      ]
     },
     "metadata": {},
     "output_type": "display_data"
    },
    {
     "data": {
      "text/html": [],
      "text/plain": [
       "<IPython.core.display.HTML object>"
      ]
     },
     "metadata": {},
     "output_type": "display_data"
    },
    {
     "data": {
      "text/html": [
       "\n",
       "<style>\n",
       "    /* Turns off some styling */\n",
       "    progress {\n",
       "        /* gets rid of default border in Firefox and Opera. */\n",
       "        border: none;\n",
       "        /* Needs to be in here for Safari polyfill so background images work as expected. */\n",
       "        background-size: auto;\n",
       "    }\n",
       "    progress:not([value]), progress:not([value])::-webkit-progress-bar {\n",
       "        background: repeating-linear-gradient(45deg, #7e7e7e, #7e7e7e 10px, #5c5c5c 10px, #5c5c5c 20px);\n",
       "    }\n",
       "    .progress-bar-interrupted, .progress-bar-interrupted::-webkit-progress-bar {\n",
       "        background: #F44336;\n",
       "    }\n",
       "</style>\n"
      ],
      "text/plain": [
       "<IPython.core.display.HTML object>"
      ]
     },
     "metadata": {},
     "output_type": "display_data"
    },
    {
     "data": {
      "text/html": [],
      "text/plain": [
       "<IPython.core.display.HTML object>"
      ]
     },
     "metadata": {},
     "output_type": "display_data"
    },
    {
     "data": {
      "text/html": [
       "\n",
       "<style>\n",
       "    /* Turns off some styling */\n",
       "    progress {\n",
       "        /* gets rid of default border in Firefox and Opera. */\n",
       "        border: none;\n",
       "        /* Needs to be in here for Safari polyfill so background images work as expected. */\n",
       "        background-size: auto;\n",
       "    }\n",
       "    progress:not([value]), progress:not([value])::-webkit-progress-bar {\n",
       "        background: repeating-linear-gradient(45deg, #7e7e7e, #7e7e7e 10px, #5c5c5c 10px, #5c5c5c 20px);\n",
       "    }\n",
       "    .progress-bar-interrupted, .progress-bar-interrupted::-webkit-progress-bar {\n",
       "        background: #F44336;\n",
       "    }\n",
       "</style>\n"
      ],
      "text/plain": [
       "<IPython.core.display.HTML object>"
      ]
     },
     "metadata": {},
     "output_type": "display_data"
    },
    {
     "data": {
      "text/html": [],
      "text/plain": [
       "<IPython.core.display.HTML object>"
      ]
     },
     "metadata": {},
     "output_type": "display_data"
    },
    {
     "data": {
      "text/html": [
       "\n",
       "<style>\n",
       "    /* Turns off some styling */\n",
       "    progress {\n",
       "        /* gets rid of default border in Firefox and Opera. */\n",
       "        border: none;\n",
       "        /* Needs to be in here for Safari polyfill so background images work as expected. */\n",
       "        background-size: auto;\n",
       "    }\n",
       "    progress:not([value]), progress:not([value])::-webkit-progress-bar {\n",
       "        background: repeating-linear-gradient(45deg, #7e7e7e, #7e7e7e 10px, #5c5c5c 10px, #5c5c5c 20px);\n",
       "    }\n",
       "    .progress-bar-interrupted, .progress-bar-interrupted::-webkit-progress-bar {\n",
       "        background: #F44336;\n",
       "    }\n",
       "</style>\n"
      ],
      "text/plain": [
       "<IPython.core.display.HTML object>"
      ]
     },
     "metadata": {},
     "output_type": "display_data"
    },
    {
     "data": {
      "text/html": [],
      "text/plain": [
       "<IPython.core.display.HTML object>"
      ]
     },
     "metadata": {},
     "output_type": "display_data"
    },
    {
     "data": {
      "text/html": [
       "\n",
       "<style>\n",
       "    /* Turns off some styling */\n",
       "    progress {\n",
       "        /* gets rid of default border in Firefox and Opera. */\n",
       "        border: none;\n",
       "        /* Needs to be in here for Safari polyfill so background images work as expected. */\n",
       "        background-size: auto;\n",
       "    }\n",
       "    progress:not([value]), progress:not([value])::-webkit-progress-bar {\n",
       "        background: repeating-linear-gradient(45deg, #7e7e7e, #7e7e7e 10px, #5c5c5c 10px, #5c5c5c 20px);\n",
       "    }\n",
       "    .progress-bar-interrupted, .progress-bar-interrupted::-webkit-progress-bar {\n",
       "        background: #F44336;\n",
       "    }\n",
       "</style>\n"
      ],
      "text/plain": [
       "<IPython.core.display.HTML object>"
      ]
     },
     "metadata": {},
     "output_type": "display_data"
    },
    {
     "data": {
      "text/html": [],
      "text/plain": [
       "<IPython.core.display.HTML object>"
      ]
     },
     "metadata": {},
     "output_type": "display_data"
    },
    {
     "name": "stdout",
     "output_type": "stream",
     "text": [
      "5\n",
      "torch.Size([418, 2])\n"
     ]
    }
   ],
   "source": [
    "# Create 5 separate models, each trained with different random coeffs during init, and average the results\n",
    "learns = [ensemble(dls, tst_dl) for _ in range(5)]\n",
    "print (len(learns))\n",
    "print (learns[0].shape)"
   ]
  },
  {
   "cell_type": "code",
   "execution_count": 150,
   "id": "2e5a23d8",
   "metadata": {
    "ExecuteTime": {
     "end_time": "2023-06-30T02:35:25.349565Z",
     "start_time": "2023-06-30T02:35:25.338052Z"
    }
   },
   "outputs": [
    {
     "name": "stdout",
     "output_type": "stream",
     "text": [
      "torch.Size([5, 418, 2])\n"
     ]
    }
   ],
   "source": [
    "print (torch.stack(learns).shape)"
   ]
  },
  {
   "cell_type": "code",
   "execution_count": 151,
   "id": "8b733f23",
   "metadata": {
    "ExecuteTime": {
     "end_time": "2023-06-30T02:35:25.895094Z",
     "start_time": "2023-06-30T02:35:25.881567Z"
    }
   },
   "outputs": [
    {
     "name": "stdout",
     "output_type": "stream",
     "text": [
      "torch.Size([418, 2])\n"
     ]
    }
   ],
   "source": [
    "ens_preds = torch.stack(learns).mean(axis=0)\n",
    "print (ens_preds.shape)"
   ]
  },
  {
   "cell_type": "code",
   "execution_count": 149,
   "id": "7dd6df3c",
   "metadata": {
    "ExecuteTime": {
     "end_time": "2023-06-30T02:35:12.883489Z",
     "start_time": "2023-06-30T02:35:12.864712Z"
    }
   },
   "outputs": [],
   "source": [
    "tst_df['Survived'] = (ens_preds[:,1]>0.5).int()\n",
    "sub_df = tst_df[['PassengerId', 'Survived']]\n",
    "sub_df.to_csv('sub.csv', index=False)"
   ]
  },
  {
   "cell_type": "code",
   "execution_count": 152,
   "id": "034f27c5",
   "metadata": {
    "ExecuteTime": {
     "end_time": "2023-06-30T02:35:32.253166Z",
     "start_time": "2023-06-30T02:35:32.088181Z"
    }
   },
   "outputs": [
    {
     "name": "stdout",
     "output_type": "stream",
     "text": [
      "PassengerId,Survived\r\n",
      "892,0\r\n",
      "893,1\r\n",
      "894,0\r\n",
      "895,0\r\n",
      "896,1\r\n",
      "897,0\r\n",
      "898,1\r\n",
      "899,0\r\n",
      "900,1\r\n"
     ]
    }
   ],
   "source": [
    "!head '../sub.csv'"
   ]
  },
  {
   "cell_type": "markdown",
   "id": "a3d6a57e",
   "metadata": {},
   "source": [
    "## Final thoughts"
   ]
  },
  {
   "cell_type": "code",
   "execution_count": null,
   "id": "5fe60e91",
   "metadata": {},
   "outputs": [],
   "source": []
  }
 ],
 "metadata": {
  "kernelspec": {
   "display_name": "fastai_related",
   "language": "python",
   "name": "fastai_related"
  },
  "language_info": {
   "codemirror_mode": {
    "name": "ipython",
    "version": 3
   },
   "file_extension": ".py",
   "mimetype": "text/x-python",
   "name": "python",
   "nbconvert_exporter": "python",
   "pygments_lexer": "ipython3",
   "version": "3.10.5"
  },
  "toc": {
   "base_numbering": 1,
   "nav_menu": {},
   "number_sections": true,
   "sideBar": true,
   "skip_h1_title": false,
   "title_cell": "Table of Contents",
   "title_sidebar": "Contents",
   "toc_cell": false,
   "toc_position": {
    "height": "calc(100% - 180px)",
    "left": "10px",
    "top": "150px",
    "width": "384px"
   },
   "toc_section_display": true,
   "toc_window_display": true
  }
 },
 "nbformat": 4,
 "nbformat_minor": 5
}
