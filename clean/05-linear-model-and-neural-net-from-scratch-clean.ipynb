{
 "cells": [
  {
   "cell_type": "markdown",
   "id": "e9ee85d9",
   "metadata": {},
   "source": [
    "## README"
   ]
  },
  {
   "cell_type": "markdown",
   "id": "baa76d90",
   "metadata": {},
   "source": [
    "- Data: https://www.kaggle.com/competitions/titanic/data\n",
    "- My original GitHub notebook with markdown notes: [fastai/course22/05-linear-model-and-neural-net-from-scratch.ipynb](https://github.com/prasanth-ntu/fastai-course22/blob/master/05-linear-model-and-neural-net-from-scratch.ipynb)\n"
   ]
  },
  {
   "cell_type": "markdown",
   "id": "6ddc5421",
   "metadata": {},
   "source": [
    "## Introduction"
   ]
  },
  {
   "cell_type": "code",
   "execution_count": 272,
   "id": "ad9d2ec2",
   "metadata": {
    "ExecuteTime": {
     "end_time": "2023-06-29T23:35:39.358491Z",
     "start_time": "2023-06-29T23:35:39.349681Z"
    }
   },
   "outputs": [],
   "source": [
    "import os\n",
    "from pathlib import Path\n",
    "import zipfile, kaggle\n",
    "\n",
    "import torch, numpy as np, pandas as pd\n",
    "\n",
    "import matplotlib.pyplot as plt\n",
    "import seaborn as sns"
   ]
  },
  {
   "cell_type": "code",
   "execution_count": 273,
   "id": "bdb9c00e",
   "metadata": {
    "ExecuteTime": {
     "end_time": "2023-06-29T23:35:39.368572Z",
     "start_time": "2023-06-29T23:35:39.363251Z"
    }
   },
   "outputs": [],
   "source": [
    "from torch import tensor\n",
    "import torch.nn.functional as F\n",
    "\n",
    "from fastai.data.transforms import RandomSplitter"
   ]
  },
  {
   "cell_type": "code",
   "execution_count": 274,
   "id": "c25ae6d0",
   "metadata": {
    "ExecuteTime": {
     "end_time": "2023-06-29T23:35:39.371837Z",
     "start_time": "2023-06-29T23:35:39.369905Z"
    }
   },
   "outputs": [],
   "source": [
    "import sympy"
   ]
  },
  {
   "cell_type": "code",
   "execution_count": 275,
   "id": "8dd2d586",
   "metadata": {
    "ExecuteTime": {
     "end_time": "2023-06-29T23:35:39.376009Z",
     "start_time": "2023-06-29T23:35:39.373123Z"
    }
   },
   "outputs": [
    {
     "name": "stdout",
     "output_type": "stream",
     "text": [
      "path: '../titanic' exists\n",
      "Files: ['test.csv', 'train.csv', 'gender_submission.csv', 'sub.csv']\n"
     ]
    }
   ],
   "source": [
    "iskaggle = os.environ.get('KAGGLE_KERNEL_RUN_TYPE', '')\n",
    "if iskaggle: \n",
    "    path = Path('../input/titanic')\n",
    "else:\n",
    "    competition_name = 'titanic'\n",
    "    path = Path(f'../{competition_name}')\n",
    "    if not path.exists():\n",
    "        kaggle.api.competition_download_cli(competition=competition_name, path = '../')\n",
    "        zipfile.ZipFile(f'{path}.zip').extractall(path)\n",
    "    else:\n",
    "        print (f\"path: '{path}' exists\")\n",
    "print (f\"Files: {os.listdir(path)}\")"
   ]
  },
  {
   "cell_type": "code",
   "execution_count": 276,
   "id": "b765a0d2",
   "metadata": {
    "ExecuteTime": {
     "end_time": "2023-06-29T23:35:39.380977Z",
     "start_time": "2023-06-29T23:35:39.378449Z"
    }
   },
   "outputs": [
    {
     "name": "stdout",
     "output_type": "stream",
     "text": [
      "Default | numpy > printoptions > linewidth: 140\n",
      "Default | pandas > display.width: 140\n",
      "Default | pytorch > printoptions > linewidth: 80\n"
     ]
    }
   ],
   "source": [
    "print (f\"Default | numpy > printoptions > linewidth: {np.get_printoptions()['linewidth']}\")\n",
    "print (f\"Default | pandas > display.width: {pd.get_option('display.width')}\")\n",
    "print (f\"Default | pytorch > printoptions > linewidth: {80}\")\n",
    "\n",
    "np.set_printoptions(linewidth=140)\n",
    "torch.set_printoptions(linewidth=140, sci_mode=False, edgeitems=7)\n",
    "pd.set_option('display.width', 140)"
   ]
  },
  {
   "cell_type": "markdown",
   "id": "629a03ed",
   "metadata": {},
   "source": [
    "## Cleaning the data"
   ]
  },
  {
   "cell_type": "code",
   "execution_count": 277,
   "id": "c5ad9de7",
   "metadata": {
    "ExecuteTime": {
     "end_time": "2023-06-29T23:35:39.395899Z",
     "start_time": "2023-06-29T23:35:39.382020Z"
    }
   },
   "outputs": [
    {
     "name": "stdout",
     "output_type": "stream",
     "text": [
      "(891, 12)\n"
     ]
    },
    {
     "data": {
      "text/html": [
       "<div>\n",
       "<style scoped>\n",
       "    .dataframe tbody tr th:only-of-type {\n",
       "        vertical-align: middle;\n",
       "    }\n",
       "\n",
       "    .dataframe tbody tr th {\n",
       "        vertical-align: top;\n",
       "    }\n",
       "\n",
       "    .dataframe thead th {\n",
       "        text-align: right;\n",
       "    }\n",
       "</style>\n",
       "<table border=\"1\" class=\"dataframe\">\n",
       "  <thead>\n",
       "    <tr style=\"text-align: right;\">\n",
       "      <th></th>\n",
       "      <th>PassengerId</th>\n",
       "      <th>Survived</th>\n",
       "      <th>Pclass</th>\n",
       "      <th>Name</th>\n",
       "      <th>Sex</th>\n",
       "      <th>Age</th>\n",
       "      <th>SibSp</th>\n",
       "      <th>Parch</th>\n",
       "      <th>Ticket</th>\n",
       "      <th>Fare</th>\n",
       "      <th>Cabin</th>\n",
       "      <th>Embarked</th>\n",
       "    </tr>\n",
       "  </thead>\n",
       "  <tbody>\n",
       "    <tr>\n",
       "      <th>0</th>\n",
       "      <td>1</td>\n",
       "      <td>0</td>\n",
       "      <td>3</td>\n",
       "      <td>Braund, Mr. Owen Harris</td>\n",
       "      <td>male</td>\n",
       "      <td>22.0</td>\n",
       "      <td>1</td>\n",
       "      <td>0</td>\n",
       "      <td>A/5 21171</td>\n",
       "      <td>7.2500</td>\n",
       "      <td>NaN</td>\n",
       "      <td>S</td>\n",
       "    </tr>\n",
       "    <tr>\n",
       "      <th>1</th>\n",
       "      <td>2</td>\n",
       "      <td>1</td>\n",
       "      <td>1</td>\n",
       "      <td>Cumings, Mrs. John Bradley (Florence Briggs Thayer)</td>\n",
       "      <td>female</td>\n",
       "      <td>38.0</td>\n",
       "      <td>1</td>\n",
       "      <td>0</td>\n",
       "      <td>PC 17599</td>\n",
       "      <td>71.2833</td>\n",
       "      <td>C85</td>\n",
       "      <td>C</td>\n",
       "    </tr>\n",
       "    <tr>\n",
       "      <th>2</th>\n",
       "      <td>3</td>\n",
       "      <td>1</td>\n",
       "      <td>3</td>\n",
       "      <td>Heikkinen, Miss. Laina</td>\n",
       "      <td>female</td>\n",
       "      <td>26.0</td>\n",
       "      <td>0</td>\n",
       "      <td>0</td>\n",
       "      <td>STON/O2. 3101282</td>\n",
       "      <td>7.9250</td>\n",
       "      <td>NaN</td>\n",
       "      <td>S</td>\n",
       "    </tr>\n",
       "    <tr>\n",
       "      <th>3</th>\n",
       "      <td>4</td>\n",
       "      <td>1</td>\n",
       "      <td>1</td>\n",
       "      <td>Futrelle, Mrs. Jacques Heath (Lily May Peel)</td>\n",
       "      <td>female</td>\n",
       "      <td>35.0</td>\n",
       "      <td>1</td>\n",
       "      <td>0</td>\n",
       "      <td>113803</td>\n",
       "      <td>53.1000</td>\n",
       "      <td>C123</td>\n",
       "      <td>S</td>\n",
       "    </tr>\n",
       "    <tr>\n",
       "      <th>4</th>\n",
       "      <td>5</td>\n",
       "      <td>0</td>\n",
       "      <td>3</td>\n",
       "      <td>Allen, Mr. William Henry</td>\n",
       "      <td>male</td>\n",
       "      <td>35.0</td>\n",
       "      <td>0</td>\n",
       "      <td>0</td>\n",
       "      <td>373450</td>\n",
       "      <td>8.0500</td>\n",
       "      <td>NaN</td>\n",
       "      <td>S</td>\n",
       "    </tr>\n",
       "  </tbody>\n",
       "</table>\n",
       "</div>"
      ],
      "text/plain": [
       "   PassengerId  Survived  Pclass                                                 Name     Sex   Age  SibSp  Parch            Ticket  \\\n",
       "0            1         0       3                              Braund, Mr. Owen Harris    male  22.0      1      0         A/5 21171   \n",
       "1            2         1       1  Cumings, Mrs. John Bradley (Florence Briggs Thayer)  female  38.0      1      0          PC 17599   \n",
       "2            3         1       3                               Heikkinen, Miss. Laina  female  26.0      0      0  STON/O2. 3101282   \n",
       "3            4         1       1         Futrelle, Mrs. Jacques Heath (Lily May Peel)  female  35.0      1      0            113803   \n",
       "4            5         0       3                             Allen, Mr. William Henry    male  35.0      0      0            373450   \n",
       "\n",
       "      Fare Cabin Embarked  \n",
       "0   7.2500   NaN        S  \n",
       "1  71.2833   C85        C  \n",
       "2   7.9250   NaN        S  \n",
       "3  53.1000  C123        S  \n",
       "4   8.0500   NaN        S  "
      ]
     },
     "execution_count": 277,
     "metadata": {},
     "output_type": "execute_result"
    }
   ],
   "source": [
    "df = pd.read_csv(f\"{path}/train.csv\")\n",
    "print (df.shape)\n",
    "df.head()"
   ]
  },
  {
   "cell_type": "code",
   "execution_count": 278,
   "id": "bd2258ef",
   "metadata": {
    "ExecuteTime": {
     "end_time": "2023-06-29T23:35:39.401886Z",
     "start_time": "2023-06-29T23:35:39.397757Z"
    }
   },
   "outputs": [
    {
     "data": {
      "text/plain": [
       "PassengerId      0\n",
       "Survived         0\n",
       "Pclass           0\n",
       "Name             0\n",
       "Sex              0\n",
       "Age            177\n",
       "SibSp            0\n",
       "Parch            0\n",
       "Ticket           0\n",
       "Fare             0\n",
       "Cabin          687\n",
       "Embarked         2\n",
       "dtype: int64"
      ]
     },
     "execution_count": 278,
     "metadata": {},
     "output_type": "execute_result"
    }
   ],
   "source": [
    "# check for missing values\n",
    "df.isna().sum()"
   ]
  },
  {
   "cell_type": "code",
   "execution_count": 279,
   "id": "0d042426",
   "metadata": {
    "ExecuteTime": {
     "end_time": "2023-06-29T23:35:39.411883Z",
     "start_time": "2023-06-29T23:35:39.404034Z"
    }
   },
   "outputs": [
    {
     "data": {
      "text/plain": [
       "PassengerId                      1\n",
       "Survived                       0.0\n",
       "Pclass                         3.0\n",
       "Name           Abbing, Mr. Anthony\n",
       "Sex                           male\n",
       "Age                           24.0\n",
       "SibSp                          0.0\n",
       "Parch                          0.0\n",
       "Ticket                        1601\n",
       "Fare                          8.05\n",
       "Cabin                      B96 B98\n",
       "Embarked                         S\n",
       "Name: 0, dtype: object"
      ]
     },
     "execution_count": 279,
     "metadata": {},
     "output_type": "execute_result"
    }
   ],
   "source": [
    "# Replace missing values by using mode!\n",
    "# Note: There are better approaches, but let's keep it simple for start\n",
    "modes = df.mode().iloc[0]\n",
    "modes"
   ]
  },
  {
   "cell_type": "code",
   "execution_count": 280,
   "id": "4490df2a",
   "metadata": {
    "ExecuteTime": {
     "end_time": "2023-06-29T23:35:39.416617Z",
     "start_time": "2023-06-29T23:35:39.413023Z"
    }
   },
   "outputs": [],
   "source": [
    "df.fillna(value=modes, inplace=True)"
   ]
  },
  {
   "cell_type": "code",
   "execution_count": 281,
   "id": "9c0675a3",
   "metadata": {
    "ExecuteTime": {
     "end_time": "2023-06-29T23:35:39.420312Z",
     "start_time": "2023-06-29T23:35:39.417607Z"
    }
   },
   "outputs": [
    {
     "data": {
      "text/plain": [
       "PassengerId    0\n",
       "Survived       0\n",
       "Pclass         0\n",
       "Name           0\n",
       "Sex            0\n",
       "Age            0\n",
       "SibSp          0\n",
       "Parch          0\n",
       "Ticket         0\n",
       "Fare           0\n",
       "Cabin          0\n",
       "Embarked       0\n",
       "dtype: int64"
      ]
     },
     "execution_count": 281,
     "metadata": {},
     "output_type": "execute_result"
    }
   ],
   "source": [
    "df.isna().sum()"
   ]
  },
  {
   "cell_type": "code",
   "execution_count": 282,
   "id": "292471ae",
   "metadata": {
    "ExecuteTime": {
     "end_time": "2023-06-29T23:35:39.431613Z",
     "start_time": "2023-06-29T23:35:39.421283Z"
    }
   },
   "outputs": [
    {
     "data": {
      "text/html": [
       "<div>\n",
       "<style scoped>\n",
       "    .dataframe tbody tr th:only-of-type {\n",
       "        vertical-align: middle;\n",
       "    }\n",
       "\n",
       "    .dataframe tbody tr th {\n",
       "        vertical-align: top;\n",
       "    }\n",
       "\n",
       "    .dataframe thead th {\n",
       "        text-align: right;\n",
       "    }\n",
       "</style>\n",
       "<table border=\"1\" class=\"dataframe\">\n",
       "  <thead>\n",
       "    <tr style=\"text-align: right;\">\n",
       "      <th></th>\n",
       "      <th>PassengerId</th>\n",
       "      <th>Survived</th>\n",
       "      <th>Pclass</th>\n",
       "      <th>Age</th>\n",
       "      <th>SibSp</th>\n",
       "      <th>Parch</th>\n",
       "      <th>Fare</th>\n",
       "    </tr>\n",
       "  </thead>\n",
       "  <tbody>\n",
       "    <tr>\n",
       "      <th>count</th>\n",
       "      <td>891.000000</td>\n",
       "      <td>891.000000</td>\n",
       "      <td>891.000000</td>\n",
       "      <td>891.000000</td>\n",
       "      <td>891.000000</td>\n",
       "      <td>891.000000</td>\n",
       "      <td>891.000000</td>\n",
       "    </tr>\n",
       "    <tr>\n",
       "      <th>mean</th>\n",
       "      <td>446.000000</td>\n",
       "      <td>0.383838</td>\n",
       "      <td>2.308642</td>\n",
       "      <td>28.566970</td>\n",
       "      <td>0.523008</td>\n",
       "      <td>0.381594</td>\n",
       "      <td>32.204208</td>\n",
       "    </tr>\n",
       "    <tr>\n",
       "      <th>std</th>\n",
       "      <td>257.353842</td>\n",
       "      <td>0.486592</td>\n",
       "      <td>0.836071</td>\n",
       "      <td>13.199572</td>\n",
       "      <td>1.102743</td>\n",
       "      <td>0.806057</td>\n",
       "      <td>49.693429</td>\n",
       "    </tr>\n",
       "    <tr>\n",
       "      <th>min</th>\n",
       "      <td>1.000000</td>\n",
       "      <td>0.000000</td>\n",
       "      <td>1.000000</td>\n",
       "      <td>0.420000</td>\n",
       "      <td>0.000000</td>\n",
       "      <td>0.000000</td>\n",
       "      <td>0.000000</td>\n",
       "    </tr>\n",
       "    <tr>\n",
       "      <th>25%</th>\n",
       "      <td>223.500000</td>\n",
       "      <td>0.000000</td>\n",
       "      <td>2.000000</td>\n",
       "      <td>22.000000</td>\n",
       "      <td>0.000000</td>\n",
       "      <td>0.000000</td>\n",
       "      <td>7.910400</td>\n",
       "    </tr>\n",
       "    <tr>\n",
       "      <th>50%</th>\n",
       "      <td>446.000000</td>\n",
       "      <td>0.000000</td>\n",
       "      <td>3.000000</td>\n",
       "      <td>24.000000</td>\n",
       "      <td>0.000000</td>\n",
       "      <td>0.000000</td>\n",
       "      <td>14.454200</td>\n",
       "    </tr>\n",
       "    <tr>\n",
       "      <th>75%</th>\n",
       "      <td>668.500000</td>\n",
       "      <td>1.000000</td>\n",
       "      <td>3.000000</td>\n",
       "      <td>35.000000</td>\n",
       "      <td>1.000000</td>\n",
       "      <td>0.000000</td>\n",
       "      <td>31.000000</td>\n",
       "    </tr>\n",
       "    <tr>\n",
       "      <th>max</th>\n",
       "      <td>891.000000</td>\n",
       "      <td>1.000000</td>\n",
       "      <td>3.000000</td>\n",
       "      <td>80.000000</td>\n",
       "      <td>8.000000</td>\n",
       "      <td>6.000000</td>\n",
       "      <td>512.329200</td>\n",
       "    </tr>\n",
       "  </tbody>\n",
       "</table>\n",
       "</div>"
      ],
      "text/plain": [
       "       PassengerId    Survived      Pclass         Age       SibSp       Parch        Fare\n",
       "count   891.000000  891.000000  891.000000  891.000000  891.000000  891.000000  891.000000\n",
       "mean    446.000000    0.383838    2.308642   28.566970    0.523008    0.381594   32.204208\n",
       "std     257.353842    0.486592    0.836071   13.199572    1.102743    0.806057   49.693429\n",
       "min       1.000000    0.000000    1.000000    0.420000    0.000000    0.000000    0.000000\n",
       "25%     223.500000    0.000000    2.000000   22.000000    0.000000    0.000000    7.910400\n",
       "50%     446.000000    0.000000    3.000000   24.000000    0.000000    0.000000   14.454200\n",
       "75%     668.500000    1.000000    3.000000   35.000000    1.000000    0.000000   31.000000\n",
       "max     891.000000    1.000000    3.000000   80.000000    8.000000    6.000000  512.329200"
      ]
     },
     "execution_count": 282,
     "metadata": {},
     "output_type": "execute_result"
    }
   ],
   "source": [
    "df.describe()"
   ]
  },
  {
   "cell_type": "code",
   "execution_count": 283,
   "id": "05083ed3",
   "metadata": {
    "ExecuteTime": {
     "end_time": "2023-06-29T23:35:39.440811Z",
     "start_time": "2023-06-29T23:35:39.432793Z"
    }
   },
   "outputs": [
    {
     "data": {
      "text/html": [
       "<div>\n",
       "<style scoped>\n",
       "    .dataframe tbody tr th:only-of-type {\n",
       "        vertical-align: middle;\n",
       "    }\n",
       "\n",
       "    .dataframe tbody tr th {\n",
       "        vertical-align: top;\n",
       "    }\n",
       "\n",
       "    .dataframe thead th {\n",
       "        text-align: right;\n",
       "    }\n",
       "</style>\n",
       "<table border=\"1\" class=\"dataframe\">\n",
       "  <thead>\n",
       "    <tr style=\"text-align: right;\">\n",
       "      <th></th>\n",
       "      <th>Name</th>\n",
       "      <th>Sex</th>\n",
       "      <th>Ticket</th>\n",
       "      <th>Cabin</th>\n",
       "      <th>Embarked</th>\n",
       "    </tr>\n",
       "  </thead>\n",
       "  <tbody>\n",
       "    <tr>\n",
       "      <th>count</th>\n",
       "      <td>891</td>\n",
       "      <td>891</td>\n",
       "      <td>891</td>\n",
       "      <td>891</td>\n",
       "      <td>891</td>\n",
       "    </tr>\n",
       "    <tr>\n",
       "      <th>unique</th>\n",
       "      <td>891</td>\n",
       "      <td>2</td>\n",
       "      <td>681</td>\n",
       "      <td>147</td>\n",
       "      <td>3</td>\n",
       "    </tr>\n",
       "    <tr>\n",
       "      <th>top</th>\n",
       "      <td>Braund, Mr. Owen Harris</td>\n",
       "      <td>male</td>\n",
       "      <td>347082</td>\n",
       "      <td>B96 B98</td>\n",
       "      <td>S</td>\n",
       "    </tr>\n",
       "    <tr>\n",
       "      <th>freq</th>\n",
       "      <td>1</td>\n",
       "      <td>577</td>\n",
       "      <td>7</td>\n",
       "      <td>691</td>\n",
       "      <td>646</td>\n",
       "    </tr>\n",
       "  </tbody>\n",
       "</table>\n",
       "</div>"
      ],
      "text/plain": [
       "                           Name   Sex  Ticket    Cabin Embarked\n",
       "count                       891   891     891      891      891\n",
       "unique                      891     2     681      147        3\n",
       "top     Braund, Mr. Owen Harris  male  347082  B96 B98        S\n",
       "freq                          1   577       7      691      646"
      ]
     },
     "execution_count": 283,
     "metadata": {},
     "output_type": "execute_result"
    }
   ],
   "source": [
    "df.describe(include='object')"
   ]
  },
  {
   "cell_type": "code",
   "execution_count": 284,
   "id": "271ff7be",
   "metadata": {
    "ExecuteTime": {
     "end_time": "2023-06-29T23:35:39.444196Z",
     "start_time": "2023-06-29T23:35:39.442049Z"
    }
   },
   "outputs": [
    {
     "data": {
      "text/plain": [
       "Index(['PassengerId', 'Survived', 'Pclass', 'Name', 'Sex', 'Age', 'SibSp', 'Parch', 'Ticket', 'Fare', 'Cabin', 'Embarked'], dtype='object')"
      ]
     },
     "execution_count": 284,
     "metadata": {},
     "output_type": "execute_result"
    }
   ],
   "source": [
    "df.columns"
   ]
  },
  {
   "cell_type": "code",
   "execution_count": 285,
   "id": "b8e34aa4",
   "metadata": {
    "ExecuteTime": {
     "end_time": "2023-06-29T23:35:39.449608Z",
     "start_time": "2023-06-29T23:35:39.447224Z"
    }
   },
   "outputs": [
    {
     "data": {
      "text/plain": [
       "['Pclass', 'Sex', 'Embarked']"
      ]
     },
     "execution_count": 285,
     "metadata": {},
     "output_type": "execute_result"
    }
   ],
   "source": [
    "# Let's preprocess the following features\n",
    "['Age', 'SibSp', 'Parch'] # Continuous: No processing (as SibSp and Parch are ordinal)\n",
    "['Fare'] # Continuous: Fix long tail data distribution issue\n",
    "['Pclass', 'Sex', 'Embarked'] # Categorial: Generate dummy variables (as they are categorical) for nominal"
   ]
  },
  {
   "cell_type": "code",
   "execution_count": 286,
   "id": "2d80fde8",
   "metadata": {
    "ExecuteTime": {
     "end_time": "2023-06-29T23:35:39.543472Z",
     "start_time": "2023-06-29T23:35:39.450733Z"
    }
   },
   "outputs": [
    {
     "data": {
      "image/png": "[encoded data removed]",
      "text/plain": [
       "<Figure size 500x300 with 1 Axes>"
      ]
     },
     "metadata": {},
     "output_type": "display_data"
    }
   ],
   "source": [
    "df['Fare'].hist(figsize=(5,3), bins=20);"
   ]
  },
  {
   "cell_type": "code",
   "execution_count": 287,
   "id": "da1ae3c6",
   "metadata": {
    "ExecuteTime": {
     "end_time": "2023-06-29T23:35:39.686395Z",
     "start_time": "2023-06-29T23:35:39.550912Z"
    }
   },
   "outputs": [
    {
     "data": {
      "image/png": "[encoded data removed]",
      "text/plain": [
       "<Figure size 500x300 with 1 Axes>"
      ]
     },
     "metadata": {},
     "output_type": "display_data"
    }
   ],
   "source": [
    "# Taking log to solve the skewness in the data to make it more uniformly distributed\n",
    "df['LogFare'] = np.log(df['Fare']+1) # +1 to handle log(0) error as some Fare values are 0.\n",
    "df['LogFare'].hist(figsize=(5,3), bins=20);"
   ]
  },
  {
   "cell_type": "code",
   "execution_count": 288,
   "id": "4c0f2a11",
   "metadata": {
    "ExecuteTime": {
     "end_time": "2023-06-29T23:35:39.762024Z",
     "start_time": "2023-06-29T23:35:39.689326Z"
    },
    "scrolled": true
   },
   "outputs": [
    {
     "name": "stdout",
     "output_type": "stream",
     "text": [
      "The 3 'Pclass' are [1, 2, 3]\n"
     ]
    },
    {
     "data": {
      "image/png": "[encoded data removed]",
      "text/plain": [
       "<Figure size 400x300 with 1 Axes>"
      ]
     },
     "metadata": {},
     "output_type": "display_data"
    }
   ],
   "source": [
    "pclasses = sorted(df['Pclass'].unique())\n",
    "print (f\"The {len(pclasses)} 'Pclass' are {pclasses}\")\n",
    "plt.figure(figsize=(4,3))\n",
    "sns.countplot(df, x='Pclass');"
   ]
  },
  {
   "cell_type": "code",
   "execution_count": 289,
   "id": "065d6280",
   "metadata": {
    "ExecuteTime": {
     "end_time": "2023-06-29T23:35:39.821628Z",
     "start_time": "2023-06-29T23:35:39.763071Z"
    },
    "scrolled": true
   },
   "outputs": [
    {
     "name": "stdout",
     "output_type": "stream",
     "text": [
      "The 3 'Embarked' places are ['C', 'Q', 'S']\n"
     ]
    },
    {
     "data": {
      "image/png": "[encoded data removed]",
      "text/plain": [
       "<Figure size 400x300 with 1 Axes>"
      ]
     },
     "metadata": {},
     "output_type": "display_data"
    }
   ],
   "source": [
    "embarked_places = sorted(df['Embarked'].unique())\n",
    "print (f\"The {len(embarked_places)} 'Embarked' places are {embarked_places}\")\n",
    "plt.figure(figsize=(4,3))\n",
    "sns.countplot(df, x='Embarked');"
   ]
  },
  {
   "cell_type": "code",
   "execution_count": 290,
   "id": "80ae7837",
   "metadata": {
    "ExecuteTime": {
     "end_time": "2023-06-29T23:35:39.872197Z",
     "start_time": "2023-06-29T23:35:39.822918Z"
    }
   },
   "outputs": [
    {
     "name": "stdout",
     "output_type": "stream",
     "text": [
      "The 'Sex' vlaues are ['male' 'female']\n"
     ]
    },
    {
     "data": {
      "image/png": "[encoded data removed]",
      "text/plain": [
       "<Figure size 300x300 with 1 Axes>"
      ]
     },
     "metadata": {},
     "output_type": "display_data"
    }
   ],
   "source": [
    "print (f\"The 'Sex' vlaues are {df['Sex'].unique()}\")\n",
    "plt.figure(figsize=(3,3))\n",
    "sns.countplot(df, x='Sex');"
   ]
  },
  {
   "cell_type": "code",
   "execution_count": 291,
   "id": "bde1d278",
   "metadata": {
    "ExecuteTime": {
     "end_time": "2023-06-29T23:35:39.877934Z",
     "start_time": "2023-06-29T23:35:39.873254Z"
    }
   },
   "outputs": [
    {
     "data": {
      "text/plain": [
       "Index(['PassengerId', 'Survived', 'Name', 'Age', 'SibSp', 'Parch', 'Ticket', 'Fare', 'Cabin', 'LogFare', 'Sex_female', 'Sex_male',\n",
       "       'Pclass_1', 'Pclass_2', 'Pclass_3', 'Embarked_C', 'Embarked_Q', 'Embarked_S'],\n",
       "      dtype='object')"
      ]
     },
     "execution_count": 291,
     "metadata": {},
     "output_type": "execute_result"
    }
   ],
   "source": [
    "# Add dummy variables as additional cols\n",
    "df = pd.get_dummies(df, columns=['Sex', 'Pclass', 'Embarked'])\n",
    "df.columns"
   ]
  },
  {
   "cell_type": "code",
   "execution_count": 292,
   "id": "361207ee",
   "metadata": {
    "ExecuteTime": {
     "end_time": "2023-06-29T23:35:39.883652Z",
     "start_time": "2023-06-29T23:35:39.878989Z"
    }
   },
   "outputs": [
    {
     "data": {
      "text/html": [
       "<div>\n",
       "<style scoped>\n",
       "    .dataframe tbody tr th:only-of-type {\n",
       "        vertical-align: middle;\n",
       "    }\n",
       "\n",
       "    .dataframe tbody tr th {\n",
       "        vertical-align: top;\n",
       "    }\n",
       "\n",
       "    .dataframe thead th {\n",
       "        text-align: right;\n",
       "    }\n",
       "</style>\n",
       "<table border=\"1\" class=\"dataframe\">\n",
       "  <thead>\n",
       "    <tr style=\"text-align: right;\">\n",
       "      <th></th>\n",
       "      <th>Sex_male</th>\n",
       "      <th>Sex_female</th>\n",
       "      <th>Pclass_1</th>\n",
       "      <th>Pclass_2</th>\n",
       "      <th>Pclass_3</th>\n",
       "      <th>Embarked_C</th>\n",
       "      <th>Embarked_Q</th>\n",
       "      <th>Embarked_S</th>\n",
       "    </tr>\n",
       "  </thead>\n",
       "  <tbody>\n",
       "    <tr>\n",
       "      <th>0</th>\n",
       "      <td>True</td>\n",
       "      <td>False</td>\n",
       "      <td>False</td>\n",
       "      <td>False</td>\n",
       "      <td>True</td>\n",
       "      <td>False</td>\n",
       "      <td>False</td>\n",
       "      <td>True</td>\n",
       "    </tr>\n",
       "    <tr>\n",
       "      <th>1</th>\n",
       "      <td>False</td>\n",
       "      <td>True</td>\n",
       "      <td>True</td>\n",
       "      <td>False</td>\n",
       "      <td>False</td>\n",
       "      <td>True</td>\n",
       "      <td>False</td>\n",
       "      <td>False</td>\n",
       "    </tr>\n",
       "  </tbody>\n",
       "</table>\n",
       "</div>"
      ],
      "text/plain": [
       "   Sex_male  Sex_female  Pclass_1  Pclass_2  Pclass_3  Embarked_C  Embarked_Q  Embarked_S\n",
       "0      True       False     False     False      True       False       False        True\n",
       "1     False        True      True     False     False        True       False       False"
      ]
     },
     "execution_count": 292,
     "metadata": {},
     "output_type": "execute_result"
    }
   ],
   "source": [
    "added_cols = ['Sex_male', 'Sex_female',\n",
    "              'Pclass_1', 'Pclass_2', 'Pclass_3', \n",
    "              'Embarked_C', 'Embarked_Q', 'Embarked_S']\n",
    "df[added_cols].head(2)"
   ]
  },
  {
   "cell_type": "code",
   "execution_count": 293,
   "id": "85e2d0c2",
   "metadata": {
    "ExecuteTime": {
     "end_time": "2023-06-29T23:35:39.887978Z",
     "start_time": "2023-06-29T23:35:39.884557Z"
    },
    "scrolled": true
   },
   "outputs": [
    {
     "name": "stdout",
     "output_type": "stream",
     "text": [
      "Shape: torch.Size([891])\n",
      "Rank : 1\n",
      "tensor([0, 1, 1, 1, 0, 0, 0, 0, 1, 1])\n"
     ]
    }
   ],
   "source": [
    "# Create dependent variable as Rank 1 Tensor\n",
    "t_dep = tensor(df['Survived'])\n",
    "print (f\"Shape: {t_dep.shape}\") # 1D data\n",
    "print (f\"Rank : {len(t_dep.shape)}\")\n",
    "print (t_dep[:10])"
   ]
  },
  {
   "cell_type": "code",
   "execution_count": 294,
   "id": "6e56e7a7",
   "metadata": {
    "ExecuteTime": {
     "end_time": "2023-06-29T23:35:39.893051Z",
     "start_time": "2023-06-29T23:35:39.889408Z"
    },
    "scrolled": true
   },
   "outputs": [
    {
     "name": "stdout",
     "output_type": "stream",
     "text": [
      "Shape: torch.Size([891, 12])\n",
      "Rank : 2\n",
      "tensor([[22.0000,  1.0000,  0.0000,  2.1102,  1.0000,  0.0000,  0.0000,  0.0000,  1.0000,  0.0000,  0.0000,  1.0000],\n",
      "        [38.0000,  1.0000,  0.0000,  4.2806,  0.0000,  1.0000,  1.0000,  0.0000,  0.0000,  1.0000,  0.0000,  0.0000]])\n"
     ]
    }
   ],
   "source": [
    "# Create dependent variables as a Rank 2 Tensor\n",
    "indep_cols = ['Age', 'SibSp', 'Parch', 'LogFare'] + added_cols\n",
    "\n",
    "t_indep = tensor(df[indep_cols].values.astype(float), dtype=torch.float) # torch.float == torch.float32\n",
    "print (f\"Shape: {t_indep.shape}\") # 2D data\n",
    "print (f\"Rank : {len(t_indep.shape)}\")\n",
    "print (t_indep[:2])"
   ]
  },
  {
   "cell_type": "markdown",
   "id": "b0839619",
   "metadata": {
    "ExecuteTime": {
     "end_time": "2023-06-29T10:27:27.364158Z",
     "start_time": "2023-06-29T10:27:27.347040Z"
    }
   },
   "source": [
    "## Setting up a linear model"
   ]
  },
  {
   "cell_type": "code",
   "execution_count": 295,
   "id": "8b8d21ba",
   "metadata": {
    "ExecuteTime": {
     "end_time": "2023-06-29T23:35:39.898654Z",
     "start_time": "2023-06-29T23:35:39.894111Z"
    }
   },
   "outputs": [
    {
     "name": "stdout",
     "output_type": "stream",
     "text": [
      "torch.Size([12])\n"
     ]
    },
    {
     "data": {
      "text/plain": [
       "tensor([-0.4629,  0.1386,  0.2409, -0.2262, -0.2632, -0.3147,  0.4876,  0.3136,  0.2799, -0.4392,  0.2103,  0.3625])"
      ]
     },
     "execution_count": 295,
     "metadata": {},
     "output_type": "execute_result"
    }
   ],
   "source": [
    "torch.manual_seed(442)\n",
    "\n",
    "# Create initial coefficients for our linear model\n",
    "n_coeffs = t_indep.shape[1]\n",
    "coeffs = torch.rand(n_coeffs) - 0.5\n",
    "print (f\"{coeffs.shape}\")\n",
    "coeffs"
   ]
  },
  {
   "cell_type": "code",
   "execution_count": 296,
   "id": "38653cbf",
   "metadata": {
    "ExecuteTime": {
     "end_time": "2023-06-29T23:35:39.902486Z",
     "start_time": "2023-06-29T23:35:39.899745Z"
    }
   },
   "outputs": [
    {
     "data": {
      "text/plain": [
       "tensor([[-10.1838,   0.1386,   0.0000,  -0.4772,  -0.2632,  -0.0000,   0.0000,   0.0000,   0.2799,  -0.0000,   0.0000,   0.3625],\n",
       "        [-17.5902,   0.1386,   0.0000,  -0.9681,  -0.0000,  -0.3147,   0.4876,   0.0000,   0.0000,  -0.4392,   0.0000,   0.0000],\n",
       "        [-12.0354,   0.0000,   0.0000,  -0.4950,  -0.0000,  -0.3147,   0.0000,   0.0000,   0.2799,  -0.0000,   0.0000,   0.3625],\n",
       "        [-16.2015,   0.1386,   0.0000,  -0.9025,  -0.0000,  -0.3147,   0.4876,   0.0000,   0.0000,  -0.0000,   0.0000,   0.3625],\n",
       "        [-16.2015,   0.0000,   0.0000,  -0.4982,  -0.2632,  -0.0000,   0.0000,   0.0000,   0.2799,  -0.0000,   0.0000,   0.3625],\n",
       "        [-11.1096,   0.0000,   0.0000,  -0.5081,  -0.2632,  -0.0000,   0.0000,   0.0000,   0.2799,  -0.0000,   0.2103,   0.0000],\n",
       "        [-24.9966,   0.0000,   0.0000,  -0.8973,  -0.2632,  -0.0000,   0.4876,   0.0000,   0.0000,  -0.0000,   0.0000,   0.3625],\n",
       "        ...,\n",
       "        [-11.5725,   0.0000,   0.0000,  -0.4717,  -0.2632,  -0.0000,   0.0000,   0.0000,   0.2799,  -0.0000,   0.0000,   0.3625],\n",
       "        [-18.0531,   0.0000,   1.2045,  -0.7701,  -0.0000,  -0.3147,   0.0000,   0.0000,   0.2799,  -0.0000,   0.2103,   0.0000],\n",
       "        [-12.4983,   0.0000,   0.0000,  -0.5968,  -0.2632,  -0.0000,   0.0000,   0.3136,   0.0000,  -0.0000,   0.0000,   0.3625],\n",
       "        [ -8.7951,   0.0000,   0.0000,  -0.7766,  -0.0000,  -0.3147,   0.4876,   0.0000,   0.0000,  -0.0000,   0.0000,   0.3625],\n",
       "        [-11.1096,   0.1386,   0.4818,  -0.7229,  -0.0000,  -0.3147,   0.0000,   0.0000,   0.2799,  -0.0000,   0.0000,   0.3625],\n",
       "        [-12.0354,   0.0000,   0.0000,  -0.7766,  -0.2632,  -0.0000,   0.4876,   0.0000,   0.0000,  -0.4392,   0.0000,   0.0000],\n",
       "        [-14.8128,   0.0000,   0.0000,  -0.4905,  -0.2632,  -0.0000,   0.0000,   0.0000,   0.2799,  -0.0000,   0.2103,   0.0000]])"
      ]
     },
     "execution_count": 296,
     "metadata": {},
     "output_type": "execute_result"
    }
   ],
   "source": [
    "# y_pred = w1x1 + w2x2 + ... + wnxn\n",
    "# Lets compute the [w1x1 w2x2 ... wnxn] as a matrix\n",
    "t_indep*coeffs"
   ]
  },
  {
   "cell_type": "code",
   "execution_count": 297,
   "id": "99f31f25",
   "metadata": {
    "ExecuteTime": {
     "end_time": "2023-06-29T23:35:39.905548Z",
     "start_time": "2023-06-29T23:35:39.903598Z"
    }
   },
   "outputs": [],
   "source": [
    "# Problem: Since some feature cols (esp. Age) are of high magnitude, they would dominate the other cols\n",
    "# Solution: Divide all the feature cols by their max (primitive approach), so max value will be 1\n",
    "\n",
    "vals, indices = t_indep.max(dim=0)\n",
    "t_indep = t_indep / vals # (Auto-) Broadcasting vector into matrix for division across all rows"
   ]
  },
  {
   "cell_type": "code",
   "execution_count": 298,
   "id": "1c10f7b2",
   "metadata": {
    "ExecuteTime": {
     "end_time": "2023-06-29T23:35:39.909957Z",
     "start_time": "2023-06-29T23:35:39.906580Z"
    }
   },
   "outputs": [
    {
     "data": {
      "text/plain": [
       "tensor([[-0.1273,  0.0173,  0.0000, -0.0765, -0.2632, -0.0000,  0.0000,  0.0000,  0.2799, -0.0000,  0.0000,  0.3625],\n",
       "        [-0.2199,  0.0173,  0.0000, -0.1551, -0.0000, -0.3147,  0.4876,  0.0000,  0.0000, -0.4392,  0.0000,  0.0000],\n",
       "        [-0.1504,  0.0000,  0.0000, -0.0793, -0.0000, -0.3147,  0.0000,  0.0000,  0.2799, -0.0000,  0.0000,  0.3625],\n",
       "        [-0.2025,  0.0173,  0.0000, -0.1446, -0.0000, -0.3147,  0.4876,  0.0000,  0.0000, -0.0000,  0.0000,  0.3625],\n",
       "        [-0.2025,  0.0000,  0.0000, -0.0798, -0.2632, -0.0000,  0.0000,  0.0000,  0.2799, -0.0000,  0.0000,  0.3625],\n",
       "        [-0.1389,  0.0000,  0.0000, -0.0814, -0.2632, -0.0000,  0.0000,  0.0000,  0.2799, -0.0000,  0.2103,  0.0000],\n",
       "        [-0.3125,  0.0000,  0.0000, -0.1438, -0.2632, -0.0000,  0.4876,  0.0000,  0.0000, -0.0000,  0.0000,  0.3625],\n",
       "        ...,\n",
       "        [-0.1447,  0.0000,  0.0000, -0.0756, -0.2632, -0.0000,  0.0000,  0.0000,  0.2799, -0.0000,  0.0000,  0.3625],\n",
       "        [-0.2257,  0.0000,  0.2008, -0.1234, -0.0000, -0.3147,  0.0000,  0.0000,  0.2799, -0.0000,  0.2103,  0.0000],\n",
       "        [-0.1562,  0.0000,  0.0000, -0.0956, -0.2632, -0.0000,  0.0000,  0.3136,  0.0000, -0.0000,  0.0000,  0.3625],\n",
       "        [-0.1099,  0.0000,  0.0000, -0.1244, -0.0000, -0.3147,  0.4876,  0.0000,  0.0000, -0.0000,  0.0000,  0.3625],\n",
       "        [-0.1389,  0.0173,  0.0803, -0.1158, -0.0000, -0.3147,  0.0000,  0.0000,  0.2799, -0.0000,  0.0000,  0.3625],\n",
       "        [-0.1504,  0.0000,  0.0000, -0.1244, -0.2632, -0.0000,  0.4876,  0.0000,  0.0000, -0.4392,  0.0000,  0.0000],\n",
       "        [-0.1852,  0.0000,  0.0000, -0.0786, -0.2632, -0.0000,  0.0000,  0.0000,  0.2799, -0.0000,  0.2103,  0.0000]])"
      ]
     },
     "execution_count": 298,
     "metadata": {},
     "output_type": "execute_result"
    }
   ],
   "source": [
    "t_indep*coeffs"
   ]
  },
  {
   "cell_type": "code",
   "execution_count": 299,
   "id": "37153137",
   "metadata": {
    "ExecuteTime": {
     "end_time": "2023-06-29T23:35:39.915386Z",
     "start_time": "2023-06-29T23:35:39.911206Z"
    }
   },
   "outputs": [
    {
     "name": "stdout",
     "output_type": "stream",
     "text": [
      "torch.Size([891])\n"
     ]
    },
    {
     "data": {
      "text/plain": [
       "tensor([ 0.1927, -0.6239,  0.0979,  0.2056,  0.0968,  0.0066,  0.1306,  0.3476,  0.1613, -0.6285])"
      ]
     },
     "execution_count": 299,
     "metadata": {},
     "output_type": "execute_result"
    }
   ],
   "source": [
    "preds = (t_indep*coeffs).sum(dim=1)\n",
    "print (preds.shape)\n",
    "preds[:10]"
   ]
  },
  {
   "cell_type": "code",
   "execution_count": 300,
   "id": "eaa5a063",
   "metadata": {
    "ExecuteTime": {
     "end_time": "2023-06-29T23:35:39.919460Z",
     "start_time": "2023-06-29T23:35:39.916492Z"
    }
   },
   "outputs": [
    {
     "data": {
      "text/plain": [
       "tensor(0.5382)"
      ]
     },
     "execution_count": 300,
     "metadata": {},
     "output_type": "execute_result"
    }
   ],
   "source": [
    "# define loss function as MAE (to do gradient descent to optimize weights, we need loss function)\n",
    "loss = torch.abs(preds - t_dep).mean()\n",
    "loss"
   ]
  },
  {
   "cell_type": "code",
   "execution_count": 301,
   "id": "a7cc05d0",
   "metadata": {
    "ExecuteTime": {
     "end_time": "2023-06-29T23:35:39.922608Z",
     "start_time": "2023-06-29T23:35:39.920636Z"
    }
   },
   "outputs": [],
   "source": [
    "def calc_preds(coeffs, indeps):\n",
    "    preds = (indeps*coeffs).sum(axis=1)\n",
    "    return preds\n",
    "\n",
    "def calc_loss(coeffs, indeps, deps):\n",
    "    preds = calc_preds(coeffs, indeps)\n",
    "    loss = torch.abs(preds - deps).mean()\n",
    "    return loss"
   ]
  },
  {
   "cell_type": "markdown",
   "id": "6a61655d",
   "metadata": {},
   "source": [
    "## Doing a gradient descent step"
   ]
  },
  {
   "cell_type": "code",
   "execution_count": 302,
   "id": "8cd0e82c",
   "metadata": {
    "ExecuteTime": {
     "end_time": "2023-06-29T23:35:39.925965Z",
     "start_time": "2023-06-29T23:35:39.923456Z"
    }
   },
   "outputs": [
    {
     "data": {
      "text/plain": [
       "tensor([-0.4629,  0.1386,  0.2409, -0.2262, -0.2632, -0.3147,  0.4876,  0.3136,  0.2799, -0.4392,  0.2103,  0.3625], requires_grad=True)"
      ]
     },
     "execution_count": 302,
     "metadata": {},
     "output_type": "execute_result"
    }
   ],
   "source": [
    "# Enable tracking in computational graph (so that PyTorch compute gradients during backprop)\n",
    "coeffs.requires_grad_()"
   ]
  },
  {
   "cell_type": "code",
   "execution_count": 303,
   "id": "a75bd9d4",
   "metadata": {
    "ExecuteTime": {
     "end_time": "2023-06-29T23:35:39.930425Z",
     "start_time": "2023-06-29T23:35:39.927076Z"
    }
   },
   "outputs": [
    {
     "data": {
      "text/plain": [
       "tensor(0.5382, grad_fn=<MeanBackward0>)"
      ]
     },
     "execution_count": 303,
     "metadata": {},
     "output_type": "execute_result"
    }
   ],
   "source": [
    "# Calculate loss (and PyTorch will keep track of all the steps so that PyTorch compute gradients during backprop)\n",
    "loss = calc_loss(coeffs=coeffs, indeps=t_indep, deps=t_dep)\n",
    "loss"
   ]
  },
  {
   "cell_type": "code",
   "execution_count": 304,
   "id": "b95465b4",
   "metadata": {
    "ExecuteTime": {
     "end_time": "2023-06-29T23:35:39.933397Z",
     "start_time": "2023-06-29T23:35:39.931467Z"
    }
   },
   "outputs": [],
   "source": [
    "loss.backward()"
   ]
  },
  {
   "cell_type": "code",
   "execution_count": 305,
   "id": "20ca8f62",
   "metadata": {
    "ExecuteTime": {
     "end_time": "2023-06-29T23:35:39.936966Z",
     "start_time": "2023-06-29T23:35:39.934183Z"
    }
   },
   "outputs": [
    {
     "data": {
      "text/plain": [
       "tensor([-0.0106,  0.0129, -0.0041, -0.0484,  0.2099, -0.2132, -0.1212, -0.0247,  0.1425, -0.1886, -0.0191,  0.2043])"
      ]
     },
     "execution_count": 305,
     "metadata": {},
     "output_type": "execute_result"
    }
   ],
   "source": [
    "# A negative grad implies that the coefficient needs to be increased and viceversa\n",
    "coeffs.grad"
   ]
  },
  {
   "cell_type": "code",
   "execution_count": 306,
   "id": "85a8c284",
   "metadata": {
    "ExecuteTime": {
     "end_time": "2023-06-29T23:35:39.940950Z",
     "start_time": "2023-06-29T23:35:39.937738Z"
    }
   },
   "outputs": [
    {
     "name": "stdout",
     "output_type": "stream",
     "text": [
      "tensor(0.5382, grad_fn=<MeanBackward0>)\n"
     ]
    },
    {
     "data": {
      "text/plain": [
       "tensor([-0.0212,  0.0258, -0.0082, -0.0969,  0.4198, -0.4265, -0.2424, -0.0494,  0.2851, -0.3771, -0.0382,  0.4085])"
      ]
     },
     "execution_count": 306,
     "metadata": {},
     "output_type": "execute_result"
    }
   ],
   "source": [
    "# Each time when we call loss.backward(), the gradients are added to coeffs.grad attribute value\n",
    "loss = calc_loss(coeffs=coeffs, indeps=t_indep, deps=t_dep)\n",
    "print (loss)\n",
    "loss.backward()\n",
    "coeffs.grad "
   ]
  },
  {
   "cell_type": "code",
   "execution_count": 307,
   "id": "bcfaaf80",
   "metadata": {
    "ExecuteTime": {
     "end_time": "2023-06-29T23:35:39.942974Z",
     "start_time": "2023-06-29T23:35:39.941735Z"
    }
   },
   "outputs": [],
   "source": [
    "# So, we need to set the coeffs.grad after using the gradients to do a gradient descent step"
   ]
  },
  {
   "cell_type": "code",
   "execution_count": 308,
   "id": "d6d350ba",
   "metadata": {
    "ExecuteTime": {
     "end_time": "2023-06-29T23:35:39.946717Z",
     "start_time": "2023-06-29T23:35:39.943699Z"
    }
   },
   "outputs": [
    {
     "name": "stdout",
     "output_type": "stream",
     "text": [
      "tensor(0.5197)\n"
     ]
    }
   ],
   "source": [
    "# Let's do one gradient step and see whether the loss decreases\n",
    "\n",
    "coeffs.grad.zero_()\n",
    "loss = calc_loss(coeffs=coeffs, indeps=t_indep, deps=t_dep)\n",
    "loss.backward()\n",
    "\n",
    "with torch.no_grad(): # disabled gradient calculation\n",
    "    coeffs = coeffs.sub_(other=0.1 * coeffs.grad) # coeff = coeff - learning_rate*gradient\n",
    "    coeffs.grad.zero_()\n",
    "    loss = calc_loss(coeffs=coeffs, indeps=t_indep, deps=t_dep)    \n",
    "    print (loss)"
   ]
  },
  {
   "cell_type": "code",
   "execution_count": 309,
   "id": "ceea8d46",
   "metadata": {
    "ExecuteTime": {
     "end_time": "2023-06-29T23:35:39.950174Z",
     "start_time": "2023-06-29T23:35:39.948007Z"
    }
   },
   "outputs": [],
   "source": [
    "# The loss value has decreased from 0.5382 to 0.5197 after one gradient descent step"
   ]
  },
  {
   "cell_type": "markdown",
   "id": "498c6bd0",
   "metadata": {},
   "source": [
    "## Training the linear model"
   ]
  },
  {
   "cell_type": "code",
   "execution_count": 310,
   "id": "b203c331",
   "metadata": {
    "ExecuteTime": {
     "end_time": "2023-06-29T23:35:39.953924Z",
     "start_time": "2023-06-29T23:35:39.951260Z"
    }
   },
   "outputs": [
    {
     "name": "stdout",
     "output_type": "stream",
     "text": [
      "713 178\n",
      "[788, 525, 821, 253, 374] [303, 778, 531, 385, 134]\n"
     ]
    }
   ],
   "source": [
    "# Split data into train and valid sets\n",
    "\n",
    "# Get indices for trn and val split\n",
    "trn_split_indices, val_split_indices = RandomSplitter(seed=42)(df)\n",
    "print (len(trn_split_indices), len(val_split_indices))\n",
    "print (trn_split_indices[:5], val_split_indices[:5])"
   ]
  },
  {
   "cell_type": "code",
   "execution_count": 311,
   "id": "8ebf69d9",
   "metadata": {
    "ExecuteTime": {
     "end_time": "2023-06-29T23:35:39.958411Z",
     "start_time": "2023-06-29T23:35:39.954899Z"
    }
   },
   "outputs": [
    {
     "name": "stdout",
     "output_type": "stream",
     "text": [
      "713 178\n"
     ]
    }
   ],
   "source": [
    "# apply the indices to our indep and dep var\n",
    "trn_indep, val_indep = t_indep[trn_split_indices], t_indep[val_split_indices]\n",
    "trn_dep, val_dep = t_dep[trn_split_indices], t_dep[val_split_indices]\n",
    "print (len(trn_indep), len(val_indep))"
   ]
  },
  {
   "cell_type": "code",
   "execution_count": 312,
   "id": "fbf4dbb2",
   "metadata": {
    "ExecuteTime": {
     "end_time": "2023-06-29T23:35:39.967638Z",
     "start_time": "2023-06-29T23:35:39.964696Z"
    }
   },
   "outputs": [],
   "source": [
    "# create fns for updating coeffs, doing one full grad desc step, and init coefs\n",
    "def init_coeffs(n_coeffs):\n",
    "    coeffs = torch.rand(n_coeffs) - 0.5\n",
    "    coeffs.requires_grad_()\n",
    "    return coeffs\n",
    "\n",
    "def update_coeffs(coeffs, lr):\n",
    "    coeffs.sub_(lr*coeffs.grad)\n",
    "    return coeffs.grad.zero_()\n",
    "    \n",
    "def one_epoch(coeffs, lr, indeps, deps):\n",
    "    loss = calc_loss(coeffs, indeps, deps)\n",
    "    loss.backward()\n",
    "    with torch.no_grad():\n",
    "        update_coeffs(coeffs, lr)\n",
    "    return coeffs, loss"
   ]
  },
  {
   "cell_type": "code",
   "execution_count": 313,
   "id": "8566320f",
   "metadata": {
    "ExecuteTime": {
     "end_time": "2023-06-29T23:35:39.971075Z",
     "start_time": "2023-06-29T23:35:39.968994Z"
    }
   },
   "outputs": [],
   "source": [
    "def train_model(n_coeffs, indeps, deps, epochs=30, lr=0.01):\n",
    "    torch.manual_seed(442)\n",
    "    coeffs = init_coeffs(n_coeffs)\n",
    "    for i in range(epochs):\n",
    "        coeffs, loss = one_epoch(coeffs, lr, indeps, deps)\n",
    "        # Print loss after every gradient descent update step for each epoch\n",
    "        print (f\"i={i:>3d} | loss={loss:>5.3f}\")\n",
    "    return coeffs"
   ]
  },
  {
   "cell_type": "code",
   "execution_count": 314,
   "id": "126f94f0",
   "metadata": {
    "ExecuteTime": {
     "end_time": "2023-06-29T23:35:39.976134Z",
     "start_time": "2023-06-29T23:35:39.972124Z"
    }
   },
   "outputs": [
    {
     "name": "stdout",
     "output_type": "stream",
     "text": [
      "i=  0 | loss=0.536\n",
      "i=  1 | loss=0.502\n",
      "i=  2 | loss=0.477\n",
      "i=  3 | loss=0.454\n",
      "i=  4 | loss=0.431\n",
      "i=  5 | loss=0.409\n",
      "i=  6 | loss=0.388\n",
      "i=  7 | loss=0.367\n",
      "i=  8 | loss=0.349\n",
      "i=  9 | loss=0.336\n",
      "i= 10 | loss=0.330\n",
      "i= 11 | loss=0.326\n",
      "i= 12 | loss=0.329\n",
      "i= 13 | loss=0.304\n",
      "i= 14 | loss=0.314\n",
      "i= 15 | loss=0.296\n",
      "i= 16 | loss=0.300\n",
      "i= 17 | loss=0.289\n"
     ]
    }
   ],
   "source": [
    "# Loss should decrease after every epoch\n",
    "coeffs = train_model(n_coeffs=n_coeffs, indeps=trn_indep, deps=trn_dep, epochs=18, lr=0.2)"
   ]
  },
  {
   "cell_type": "code",
   "execution_count": 315,
   "id": "dac83c2b",
   "metadata": {
    "ExecuteTime": {
     "end_time": "2023-06-29T23:35:39.979810Z",
     "start_time": "2023-06-29T23:35:39.977401Z"
    }
   },
   "outputs": [
    {
     "data": {
      "text/plain": [
       "tensor([-0.2694,  0.0901,  0.2359,  0.0280, -0.3990,  0.2345,  0.7232,  0.4112,  0.3601,  0.0955,  0.2395,  0.2122], requires_grad=True)"
      ]
     },
     "execution_count": 315,
     "metadata": {},
     "output_type": "execute_result"
    }
   ],
   "source": [
    "coeffs"
   ]
  },
  {
   "cell_type": "code",
   "execution_count": 316,
   "id": "ac41afb5",
   "metadata": {
    "ExecuteTime": {
     "end_time": "2023-06-29T23:35:39.983780Z",
     "start_time": "2023-06-29T23:35:39.980744Z"
    }
   },
   "outputs": [
    {
     "data": {
      "text/plain": [
       "tensor([-0.2694,  0.0901,  0.2359,  0.0280, -0.3990,  0.2345,  0.7232,  0.4112,  0.3601,  0.0955,  0.2395,  0.2122])"
      ]
     },
     "execution_count": 316,
     "metadata": {},
     "output_type": "execute_result"
    }
   ],
   "source": [
    "# Turn off requires_grad_ to False as training is completed, and we will only do inference\n",
    "coeffs.requires_grad_(False)"
   ]
  },
  {
   "cell_type": "code",
   "execution_count": 317,
   "id": "ec9127ea",
   "metadata": {
    "ExecuteTime": {
     "end_time": "2023-06-29T23:35:39.987498Z",
     "start_time": "2023-06-29T23:35:39.984844Z"
    }
   },
   "outputs": [
    {
     "data": {
      "text/plain": [
       "{'Age': -0.26935664,\n",
       " 'SibSp': 0.090121895,\n",
       " 'Parch': 0.2359452,\n",
       " 'LogFare': 0.027992353,\n",
       " 'Sex_male': -0.3990123,\n",
       " 'Sex_female': 0.2345131,\n",
       " 'Pclass_1': 0.7232336,\n",
       " 'Pclass_2': 0.4111845,\n",
       " 'Pclass_3': 0.36010766,\n",
       " 'Embarked_C': 0.09548305,\n",
       " 'Embarked_Q': 0.23946138,\n",
       " 'Embarked_S': 0.2121628}"
      ]
     },
     "execution_count": 317,
     "metadata": {},
     "output_type": "execute_result"
    }
   ],
   "source": [
    "def show_coeffs(coeffs, indep_cols):\n",
    "    return dict(zip(indep_cols, coeffs.numpy()))\n",
    "show_coeffs(coeffs, indep_cols)"
   ]
  },
  {
   "cell_type": "markdown",
   "id": "1a12833e",
   "metadata": {},
   "source": [
    "## Measuring accuracy"
   ]
  },
  {
   "cell_type": "code",
   "execution_count": 318,
   "id": "14566c36",
   "metadata": {
    "ExecuteTime": {
     "end_time": "2023-06-29T23:35:39.990045Z",
     "start_time": "2023-06-29T23:35:39.988472Z"
    }
   },
   "outputs": [],
   "source": [
    "preds = calc_preds(coeffs, indeps=val_indep)"
   ]
  },
  {
   "cell_type": "code",
   "execution_count": 319,
   "id": "78674869",
   "metadata": {
    "ExecuteTime": {
     "end_time": "2023-06-29T23:35:40.048498Z",
     "start_time": "2023-06-29T23:35:39.990827Z"
    },
    "scrolled": true
   },
   "outputs": [
    {
     "data": {
      "image/png": "[encoded data removed]",
      "text/plain": [
       "<Figure size 400x100 with 1 Axes>"
      ]
     },
     "metadata": {},
     "output_type": "display_data"
    }
   ],
   "source": [
    "plt.figure(figsize=(4,1))\n",
    "sns.boxplot(data=preds.numpy(), orient='h');\n",
    "plt.title(f\"Distribution of predictions: min={preds.min():.3f}, max={preds.max():.3f}\");"
   ]
  },
  {
   "cell_type": "code",
   "execution_count": 320,
   "id": "8c904cf1",
   "metadata": {
    "ExecuteTime": {
     "end_time": "2023-06-29T23:35:40.052446Z",
     "start_time": "2023-06-29T23:35:40.049484Z"
    }
   },
   "outputs": [
    {
     "data": {
      "text/plain": [
       "tensor([True, True, True, True, True])"
      ]
     },
     "execution_count": 320,
     "metadata": {},
     "output_type": "execute_result"
    }
   ],
   "source": [
    "results = (val_dep == (preds>0.5))\n",
    "results[:5]"
   ]
  },
  {
   "cell_type": "code",
   "execution_count": 321,
   "id": "9331ebec",
   "metadata": {
    "ExecuteTime": {
     "end_time": "2023-06-29T23:35:40.055952Z",
     "start_time": "2023-06-29T23:35:40.053309Z"
    }
   },
   "outputs": [
    {
     "data": {
      "text/plain": [
       "tensor(0.7865)"
      ]
     },
     "execution_count": 321,
     "metadata": {},
     "output_type": "execute_result"
    }
   ],
   "source": [
    "results.float().mean() # Accuracy"
   ]
  },
  {
   "cell_type": "code",
   "execution_count": 322,
   "id": "4b7fd655",
   "metadata": {
    "ExecuteTime": {
     "end_time": "2023-06-29T23:35:40.060039Z",
     "start_time": "2023-06-29T23:35:40.056991Z"
    }
   },
   "outputs": [
    {
     "data": {
      "text/plain": [
       "tensor(0.7865)"
      ]
     },
     "execution_count": 322,
     "metadata": {},
     "output_type": "execute_result"
    }
   ],
   "source": [
    "def calc_acc(coeffs, indeps, deps):\n",
    "    preds = calc_preds(coeffs, indeps)\n",
    "    results = (val_dep == (preds>0.5)).float().mean()\n",
    "    return results\n",
    "\n",
    "calc_acc(coeffs=coeffs, indeps=val_indep, deps=val_dep)"
   ]
  },
  {
   "cell_type": "markdown",
   "id": "d045cd19",
   "metadata": {},
   "source": [
    "## Using sigmoid"
   ]
  },
  {
   "cell_type": "code",
   "execution_count": 323,
   "id": "48bb199a",
   "metadata": {
    "ExecuteTime": {
     "end_time": "2023-06-29T23:35:40.062420Z",
     "start_time": "2023-06-29T23:35:40.061080Z"
    }
   },
   "outputs": [],
   "source": [
    "# Problem: The pred outputs of survival are bounded within - and 1.\n",
    "# Solution: Use sigmoid to force the outputs to be between 0 and 1"
   ]
  },
  {
   "cell_type": "code",
   "execution_count": 324,
   "id": "21307238",
   "metadata": {
    "ExecuteTime": {
     "end_time": "2023-06-29T23:35:40.154610Z",
     "start_time": "2023-06-29T23:35:40.063348Z"
    }
   },
   "outputs": [
    {
     "data": {
      "image/png": "[encoded data removed]",
      "text/plain": [
       "<Figure size 640x480 with 1 Axes>"
      ]
     },
     "metadata": {},
     "output_type": "display_data"
    },
    {
     "data": {
      "text/plain": [
       "<sympy.plotting.plot.Plot at 0x2c0fb7070>"
      ]
     },
     "execution_count": 324,
     "metadata": {},
     "output_type": "execute_result"
    }
   ],
   "source": [
    "sympy.plot(\"1/(1+exp(-x))\", xlim=(-5, 5), figsize=(3,2))"
   ]
  },
  {
   "cell_type": "code",
   "execution_count": 325,
   "id": "e3dbb42d",
   "metadata": {
    "ExecuteTime": {
     "end_time": "2023-06-29T23:35:40.157979Z",
     "start_time": "2023-06-29T23:35:40.156056Z"
    }
   },
   "outputs": [],
   "source": [
    "# Modify the function using pytorch sigmoid function\n",
    "def calc_preds(coeffs, indeps):\n",
    "    preds = torch.sigmoid((indeps*coeffs).sum(axis=1))\n",
    "    return preds"
   ]
  },
  {
   "cell_type": "code",
   "execution_count": 326,
   "id": "cf33c10a",
   "metadata": {
    "ExecuteTime": {
     "end_time": "2023-06-29T23:35:40.163879Z",
     "start_time": "2023-06-29T23:35:40.158819Z"
    },
    "scrolled": true
   },
   "outputs": [
    {
     "name": "stdout",
     "output_type": "stream",
     "text": [
      "i=  0 | loss=0.510\n",
      "i=  1 | loss=0.327\n",
      "i=  2 | loss=0.294\n",
      "i=  3 | loss=0.207\n",
      "i=  4 | loss=0.201\n",
      "i=  5 | loss=0.199\n",
      "i=  6 | loss=0.198\n",
      "i=  7 | loss=0.197\n",
      "i=  8 | loss=0.196\n",
      "i=  9 | loss=0.196\n",
      "i= 10 | loss=0.196\n",
      "i= 11 | loss=0.195\n",
      "i= 12 | loss=0.195\n",
      "i= 13 | loss=0.195\n",
      "i= 14 | loss=0.195\n",
      "i= 15 | loss=0.195\n",
      "i= 16 | loss=0.195\n",
      "i= 17 | loss=0.195\n",
      "i= 18 | loss=0.194\n",
      "i= 19 | loss=0.194\n",
      "i= 20 | loss=0.194\n",
      "i= 21 | loss=0.194\n",
      "i= 22 | loss=0.194\n",
      "i= 23 | loss=0.194\n",
      "i= 24 | loss=0.194\n",
      "i= 25 | loss=0.194\n",
      "i= 26 | loss=0.194\n",
      "i= 27 | loss=0.194\n",
      "i= 28 | loss=0.194\n",
      "i= 29 | loss=0.194\n"
     ]
    }
   ],
   "source": [
    "coeffs = train_model(n_coeffs=n_coeffs, indeps=trn_indep, deps=trn_dep, epochs=30, lr=100)"
   ]
  },
  {
   "cell_type": "code",
   "execution_count": 327,
   "id": "c162bda2",
   "metadata": {
    "ExecuteTime": {
     "end_time": "2023-06-29T23:35:40.167515Z",
     "start_time": "2023-06-29T23:35:40.164754Z"
    }
   },
   "outputs": [
    {
     "data": {
      "text/plain": [
       "tensor(0.8258)"
      ]
     },
     "execution_count": 327,
     "metadata": {},
     "output_type": "execute_result"
    }
   ],
   "source": [
    "calc_acc(coeffs, indeps=val_indep, deps=val_dep)"
   ]
  },
  {
   "cell_type": "code",
   "execution_count": 328,
   "id": "48999359",
   "metadata": {
    "ExecuteTime": {
     "end_time": "2023-06-29T23:35:40.170658Z",
     "start_time": "2023-06-29T23:35:40.168371Z"
    }
   },
   "outputs": [
    {
     "data": {
      "text/plain": [
       "{'Age': -1.506051,\n",
       " 'SibSp': -1.1574632,\n",
       " 'Parch': -0.42667046,\n",
       " 'LogFare': 0.2542521,\n",
       " 'Sex_male': -10.332026,\n",
       " 'Sex_female': 8.418526,\n",
       " 'Pclass_1': 3.8388915,\n",
       " 'Pclass_2': 2.1397836,\n",
       " 'Pclass_3': -6.233148,\n",
       " 'Embarked_C': 1.4771262,\n",
       " 'Embarked_Q': 2.116762,\n",
       " 'Embarked_S': -4.79578}"
      ]
     },
     "execution_count": 328,
     "metadata": {},
     "output_type": "execute_result"
    }
   ],
   "source": [
    "# Both loss and accuracy has got better with sigmoid in the preds\n",
    "coeffs.requires_grad_(False)\n",
    "show_coeffs(coeffs, indep_cols)"
   ]
  },
  {
   "cell_type": "markdown",
   "id": "46b95a83",
   "metadata": {},
   "source": [
    "## Submitting to Kaggle"
   ]
  },
  {
   "cell_type": "code",
   "execution_count": 329,
   "id": "259560f7",
   "metadata": {
    "ExecuteTime": {
     "end_time": "2023-06-29T23:35:40.178929Z",
     "start_time": "2023-06-29T23:35:40.171868Z"
    }
   },
   "outputs": [
    {
     "name": "stdout",
     "output_type": "stream",
     "text": [
      "(418, 11)\n"
     ]
    },
    {
     "data": {
      "text/html": [
       "<div>\n",
       "<style scoped>\n",
       "    .dataframe tbody tr th:only-of-type {\n",
       "        vertical-align: middle;\n",
       "    }\n",
       "\n",
       "    .dataframe tbody tr th {\n",
       "        vertical-align: top;\n",
       "    }\n",
       "\n",
       "    .dataframe thead th {\n",
       "        text-align: right;\n",
       "    }\n",
       "</style>\n",
       "<table border=\"1\" class=\"dataframe\">\n",
       "  <thead>\n",
       "    <tr style=\"text-align: right;\">\n",
       "      <th></th>\n",
       "      <th>PassengerId</th>\n",
       "      <th>Pclass</th>\n",
       "      <th>Name</th>\n",
       "      <th>Sex</th>\n",
       "      <th>Age</th>\n",
       "      <th>SibSp</th>\n",
       "      <th>Parch</th>\n",
       "      <th>Ticket</th>\n",
       "      <th>Fare</th>\n",
       "      <th>Cabin</th>\n",
       "      <th>Embarked</th>\n",
       "    </tr>\n",
       "  </thead>\n",
       "  <tbody>\n",
       "    <tr>\n",
       "      <th>0</th>\n",
       "      <td>892</td>\n",
       "      <td>3</td>\n",
       "      <td>Kelly, Mr. James</td>\n",
       "      <td>male</td>\n",
       "      <td>34.5</td>\n",
       "      <td>0</td>\n",
       "      <td>0</td>\n",
       "      <td>330911</td>\n",
       "      <td>7.8292</td>\n",
       "      <td>NaN</td>\n",
       "      <td>Q</td>\n",
       "    </tr>\n",
       "    <tr>\n",
       "      <th>1</th>\n",
       "      <td>893</td>\n",
       "      <td>3</td>\n",
       "      <td>Wilkes, Mrs. James (Ellen Needs)</td>\n",
       "      <td>female</td>\n",
       "      <td>47.0</td>\n",
       "      <td>1</td>\n",
       "      <td>0</td>\n",
       "      <td>363272</td>\n",
       "      <td>7.0000</td>\n",
       "      <td>NaN</td>\n",
       "      <td>S</td>\n",
       "    </tr>\n",
       "  </tbody>\n",
       "</table>\n",
       "</div>"
      ],
      "text/plain": [
       "   PassengerId  Pclass                              Name     Sex   Age  SibSp  Parch  Ticket    Fare Cabin Embarked\n",
       "0          892       3                  Kelly, Mr. James    male  34.5      0      0  330911  7.8292   NaN        Q\n",
       "1          893       3  Wilkes, Mrs. James (Ellen Needs)  female  47.0      1      0  363272  7.0000   NaN        S"
      ]
     },
     "execution_count": 329,
     "metadata": {},
     "output_type": "execute_result"
    }
   ],
   "source": [
    "tst_df = pd.read_csv(f'{path}/test.csv')\n",
    "print (tst_df.shape)\n",
    "tst_df.head(2)"
   ]
  },
  {
   "cell_type": "code",
   "execution_count": 330,
   "id": "9bc08242",
   "metadata": {
    "ExecuteTime": {
     "end_time": "2023-06-29T23:35:40.189735Z",
     "start_time": "2023-06-29T23:35:40.179895Z"
    }
   },
   "outputs": [
    {
     "data": {
      "text/html": [
       "<div>\n",
       "<style scoped>\n",
       "    .dataframe tbody tr th:only-of-type {\n",
       "        vertical-align: middle;\n",
       "    }\n",
       "\n",
       "    .dataframe tbody tr th {\n",
       "        vertical-align: top;\n",
       "    }\n",
       "\n",
       "    .dataframe thead th {\n",
       "        text-align: right;\n",
       "    }\n",
       "</style>\n",
       "<table border=\"1\" class=\"dataframe\">\n",
       "  <thead>\n",
       "    <tr style=\"text-align: right;\">\n",
       "      <th></th>\n",
       "      <th>PassengerId</th>\n",
       "      <th>Pclass</th>\n",
       "      <th>Age</th>\n",
       "      <th>SibSp</th>\n",
       "      <th>Parch</th>\n",
       "      <th>Fare</th>\n",
       "    </tr>\n",
       "  </thead>\n",
       "  <tbody>\n",
       "    <tr>\n",
       "      <th>count</th>\n",
       "      <td>418.000000</td>\n",
       "      <td>418.000000</td>\n",
       "      <td>332.000000</td>\n",
       "      <td>418.000000</td>\n",
       "      <td>418.000000</td>\n",
       "      <td>417.000000</td>\n",
       "    </tr>\n",
       "    <tr>\n",
       "      <th>mean</th>\n",
       "      <td>1100.500000</td>\n",
       "      <td>2.265550</td>\n",
       "      <td>30.272590</td>\n",
       "      <td>0.447368</td>\n",
       "      <td>0.392344</td>\n",
       "      <td>35.627188</td>\n",
       "    </tr>\n",
       "    <tr>\n",
       "      <th>std</th>\n",
       "      <td>120.810458</td>\n",
       "      <td>0.841838</td>\n",
       "      <td>14.181209</td>\n",
       "      <td>0.896760</td>\n",
       "      <td>0.981429</td>\n",
       "      <td>55.907576</td>\n",
       "    </tr>\n",
       "    <tr>\n",
       "      <th>min</th>\n",
       "      <td>892.000000</td>\n",
       "      <td>1.000000</td>\n",
       "      <td>0.170000</td>\n",
       "      <td>0.000000</td>\n",
       "      <td>0.000000</td>\n",
       "      <td>0.000000</td>\n",
       "    </tr>\n",
       "    <tr>\n",
       "      <th>25%</th>\n",
       "      <td>996.250000</td>\n",
       "      <td>1.000000</td>\n",
       "      <td>21.000000</td>\n",
       "      <td>0.000000</td>\n",
       "      <td>0.000000</td>\n",
       "      <td>7.895800</td>\n",
       "    </tr>\n",
       "    <tr>\n",
       "      <th>50%</th>\n",
       "      <td>1100.500000</td>\n",
       "      <td>3.000000</td>\n",
       "      <td>27.000000</td>\n",
       "      <td>0.000000</td>\n",
       "      <td>0.000000</td>\n",
       "      <td>14.454200</td>\n",
       "    </tr>\n",
       "    <tr>\n",
       "      <th>75%</th>\n",
       "      <td>1204.750000</td>\n",
       "      <td>3.000000</td>\n",
       "      <td>39.000000</td>\n",
       "      <td>1.000000</td>\n",
       "      <td>0.000000</td>\n",
       "      <td>31.500000</td>\n",
       "    </tr>\n",
       "    <tr>\n",
       "      <th>max</th>\n",
       "      <td>1309.000000</td>\n",
       "      <td>3.000000</td>\n",
       "      <td>76.000000</td>\n",
       "      <td>8.000000</td>\n",
       "      <td>9.000000</td>\n",
       "      <td>512.329200</td>\n",
       "    </tr>\n",
       "  </tbody>\n",
       "</table>\n",
       "</div>"
      ],
      "text/plain": [
       "       PassengerId      Pclass         Age       SibSp       Parch        Fare\n",
       "count   418.000000  418.000000  332.000000  418.000000  418.000000  417.000000\n",
       "mean   1100.500000    2.265550   30.272590    0.447368    0.392344   35.627188\n",
       "std     120.810458    0.841838   14.181209    0.896760    0.981429   55.907576\n",
       "min     892.000000    1.000000    0.170000    0.000000    0.000000    0.000000\n",
       "25%     996.250000    1.000000   21.000000    0.000000    0.000000    7.895800\n",
       "50%    1100.500000    3.000000   27.000000    0.000000    0.000000   14.454200\n",
       "75%    1204.750000    3.000000   39.000000    1.000000    0.000000   31.500000\n",
       "max    1309.000000    3.000000   76.000000    8.000000    9.000000  512.329200"
      ]
     },
     "execution_count": 330,
     "metadata": {},
     "output_type": "execute_result"
    }
   ],
   "source": [
    "tst_df.describe()"
   ]
  },
  {
   "cell_type": "code",
   "execution_count": 331,
   "id": "fbe1f2eb",
   "metadata": {
    "ExecuteTime": {
     "end_time": "2023-06-29T23:35:40.194165Z",
     "start_time": "2023-06-29T23:35:40.190777Z"
    }
   },
   "outputs": [
    {
     "data": {
      "text/plain": [
       "PassengerId      0\n",
       "Pclass           0\n",
       "Name             0\n",
       "Sex              0\n",
       "Age             86\n",
       "SibSp            0\n",
       "Parch            0\n",
       "Ticket           0\n",
       "Fare             1\n",
       "Cabin          327\n",
       "Embarked         0\n",
       "dtype: int64"
      ]
     },
     "execution_count": 331,
     "metadata": {},
     "output_type": "execute_result"
    }
   ],
   "source": [
    "tst_df.isna().sum()"
   ]
  },
  {
   "cell_type": "code",
   "execution_count": 332,
   "id": "5b227e4e",
   "metadata": {
    "ExecuteTime": {
     "end_time": "2023-06-29T23:35:40.202292Z",
     "start_time": "2023-06-29T23:35:40.195338Z"
    },
    "scrolled": true
   },
   "outputs": [],
   "source": [
    "# Preprocessing\n",
    "tst_df.fillna(value=modes, inplace=True)\n",
    "tst_df['LogFare'] = np.log(tst_df['Fare']+1)\n",
    "tst_df = pd.get_dummies(tst_df, columns=['Sex', 'Pclass', 'Embarked'])\n",
    "\n",
    "tst_indep = tensor(tst_df[indep_cols].values.astype(float), dtype=torch.float)\n",
    "tst_indep = tst_indep/vals"
   ]
  },
  {
   "cell_type": "code",
   "execution_count": 333,
   "id": "f62677c4",
   "metadata": {
    "ExecuteTime": {
     "end_time": "2023-06-29T23:35:40.206079Z",
     "start_time": "2023-06-29T23:35:40.203178Z"
    }
   },
   "outputs": [
    {
     "data": {
      "text/plain": [
       "tensor([[0.4313, 0.0000, 0.0000, 0.3490, 1.0000, 0.0000, 0.0000, 0.0000, 1.0000, 0.0000, 1.0000, 0.0000],\n",
       "        [0.5875, 0.1250, 0.0000, 0.3332, 0.0000, 1.0000, 0.0000, 0.0000, 1.0000, 0.0000, 0.0000, 1.0000],\n",
       "        [0.7750, 0.0000, 0.0000, 0.3796, 1.0000, 0.0000, 0.0000, 1.0000, 0.0000, 0.0000, 1.0000, 0.0000],\n",
       "        [0.3375, 0.0000, 0.0000, 0.3634, 1.0000, 0.0000, 0.0000, 0.0000, 1.0000, 0.0000, 0.0000, 1.0000],\n",
       "        [0.2750, 0.1250, 0.1667, 0.4145, 0.0000, 1.0000, 0.0000, 0.0000, 1.0000, 0.0000, 0.0000, 1.0000]])"
      ]
     },
     "execution_count": 333,
     "metadata": {},
     "output_type": "execute_result"
    }
   ],
   "source": [
    "tst_indep[:5] # Sanity check"
   ]
  },
  {
   "cell_type": "code",
   "execution_count": 334,
   "id": "48bdf48e",
   "metadata": {
    "ExecuteTime": {
     "end_time": "2023-06-29T23:35:40.210624Z",
     "start_time": "2023-06-29T23:35:40.207131Z"
    }
   },
   "outputs": [
    {
     "data": {
      "text/plain": [
       "0    0\n",
       "1    0\n",
       "Name: Survived, dtype: int32"
      ]
     },
     "execution_count": 334,
     "metadata": {},
     "output_type": "execute_result"
    }
   ],
   "source": [
    "tst_df['Survived'] = (calc_preds(coeffs, indeps=tst_indep)>0.5).int() # Kaggle expects the preds as int dtype\n",
    "tst_df['Survived'].head(2)"
   ]
  },
  {
   "cell_type": "code",
   "execution_count": 335,
   "id": "9a5dd457",
   "metadata": {
    "ExecuteTime": {
     "end_time": "2023-06-29T23:35:40.217232Z",
     "start_time": "2023-06-29T23:35:40.211701Z"
    },
    "scrolled": true
   },
   "outputs": [
    {
     "data": {
      "text/html": [
       "<div>\n",
       "<style scoped>\n",
       "    .dataframe tbody tr th:only-of-type {\n",
       "        vertical-align: middle;\n",
       "    }\n",
       "\n",
       "    .dataframe tbody tr th {\n",
       "        vertical-align: top;\n",
       "    }\n",
       "\n",
       "    .dataframe thead th {\n",
       "        text-align: right;\n",
       "    }\n",
       "</style>\n",
       "<table border=\"1\" class=\"dataframe\">\n",
       "  <thead>\n",
       "    <tr style=\"text-align: right;\">\n",
       "      <th></th>\n",
       "      <th>PassengerId</th>\n",
       "      <th>Survived</th>\n",
       "    </tr>\n",
       "  </thead>\n",
       "  <tbody>\n",
       "    <tr>\n",
       "      <th>0</th>\n",
       "      <td>892</td>\n",
       "      <td>0</td>\n",
       "    </tr>\n",
       "    <tr>\n",
       "      <th>1</th>\n",
       "      <td>893</td>\n",
       "      <td>0</td>\n",
       "    </tr>\n",
       "  </tbody>\n",
       "</table>\n",
       "</div>"
      ],
      "text/plain": [
       "   PassengerId  Survived\n",
       "0          892         0\n",
       "1          893         0"
      ]
     },
     "execution_count": 335,
     "metadata": {},
     "output_type": "execute_result"
    }
   ],
   "source": [
    "# Kaggle competition expects the submission in specific .csv format\n",
    "sub_df = tst_df[['PassengerId', 'Survived']]\n",
    "sub_df.to_csv(f'{path}/sub.csv')\n",
    "sub_df.head(2)"
   ]
  },
  {
   "cell_type": "code",
   "execution_count": 336,
   "id": "b19c6229",
   "metadata": {
    "ExecuteTime": {
     "end_time": "2023-06-29T23:35:40.351010Z",
     "start_time": "2023-06-29T23:35:40.218182Z"
    }
   },
   "outputs": [
    {
     "name": "stdout",
     "output_type": "stream",
     "text": [
      "PassengerId,Survived\r\n",
      "892,0\r\n",
      "893,1\r\n",
      "894,0\r\n",
      "895,0\r\n",
      "896,1\r\n",
      "897,0\r\n",
      "898,1\r\n",
      "899,0\r\n",
      "900,1\r\n"
     ]
    }
   ],
   "source": [
    "!head '../sub.csv'"
   ]
  },
  {
   "cell_type": "markdown",
   "id": "c14fae6a",
   "metadata": {
    "ExecuteTime": {
     "end_time": "2023-06-29T23:02:49.164797Z",
     "start_time": "2023-06-29T23:02:49.162545Z"
    }
   },
   "source": [
    "## Using matrix product"
   ]
  },
  {
   "cell_type": "code",
   "execution_count": 262,
   "id": "19a507cd",
   "metadata": {
    "ExecuteTime": {
     "end_time": "2023-06-29T23:34:57.432534Z",
     "start_time": "2023-06-29T23:34:57.430142Z"
    }
   },
   "outputs": [],
   "source": [
    "# For inner-most calculation of 'w_1x_1 + ... w_nx_n', \n",
    "# we can use PyTorch @ operator to indicate matrix products as they are highly optimized"
   ]
  },
  {
   "cell_type": "code",
   "execution_count": 341,
   "id": "a243786d",
   "metadata": {
    "ExecuteTime": {
     "end_time": "2023-06-29T23:36:10.296053Z",
     "start_time": "2023-06-29T23:36:10.273257Z"
    },
    "scrolled": true
   },
   "outputs": [
    {
     "name": "stdout",
     "output_type": "stream",
     "text": [
      "The slowest run took 5.66 times longer than the fastest. This could mean that an intermediate result is being cached.\n",
      "23.5 µs ± 15.3 µs per loop (mean ± std. dev. of 7 runs, 100 loops each)\n"
     ]
    }
   ],
   "source": [
    "%%timeit -n 100\n",
    "(val_indep*coeffs).sum(axis=1)"
   ]
  },
  {
   "cell_type": "code",
   "execution_count": 343,
   "id": "601e087f",
   "metadata": {
    "ExecuteTime": {
     "end_time": "2023-06-29T23:36:26.355449Z",
     "start_time": "2023-06-29T23:36:26.342815Z"
    }
   },
   "outputs": [
    {
     "name": "stdout",
     "output_type": "stream",
     "text": [
      "The slowest run took 4.83 times longer than the fastest. This could mean that an intermediate result is being cached.\n",
      "7.39 µs ± 4.55 µs per loop (mean ± std. dev. of 7 runs, 100 loops each)\n"
     ]
    }
   ],
   "source": [
    "%%timeit -n 100\n",
    "val_indep@coeffs"
   ]
  },
  {
   "cell_type": "code",
   "execution_count": 344,
   "id": "f6762ff5",
   "metadata": {
    "ExecuteTime": {
     "end_time": "2023-06-29T23:36:43.473941Z",
     "start_time": "2023-06-29T23:36:43.467085Z"
    }
   },
   "outputs": [
    {
     "name": "stdout",
     "output_type": "stream",
     "text": [
      "torch.Size([178]) torch.Size([178])\n"
     ]
    }
   ],
   "source": [
    "# Sanity checks\n",
    "print(((val_indep*coeffs).sum(axis=1)).shape, (val_indep@coeffs).shape)"
   ]
  },
  {
   "cell_type": "code",
   "execution_count": 346,
   "id": "86b9b7d4",
   "metadata": {
    "ExecuteTime": {
     "end_time": "2023-06-29T23:37:10.033276Z",
     "start_time": "2023-06-29T23:37:10.019534Z"
    }
   },
   "outputs": [
    {
     "name": "stdout",
     "output_type": "stream",
     "text": [
      "tensor([ 12.3288, -14.8119, -15.4540, -13.1513, -13.3511])\n",
      "tensor([ 12.3288, -14.8119, -15.4540, -13.1513, -13.3511])\n"
     ]
    }
   ],
   "source": [
    "print ((val_indep*coeffs).sum(axis=1)[:5])\n",
    "print ((val_indep@coeffs)[:5])"
   ]
  },
  {
   "cell_type": "code",
   "execution_count": 347,
   "id": "7372339e",
   "metadata": {
    "ExecuteTime": {
     "end_time": "2023-06-29T23:37:14.024358Z",
     "start_time": "2023-06-29T23:37:14.014415Z"
    }
   },
   "outputs": [],
   "source": [
    "def calc_preds(coeffs, indeps):\n",
    "    preds = torch.sigmoid((indeps@coeffs)) #.sum(axis=1))\n",
    "    return preds"
   ]
  },
  {
   "cell_type": "code",
   "execution_count": 348,
   "id": "845a9578",
   "metadata": {
    "ExecuteTime": {
     "end_time": "2023-06-29T23:37:14.226463Z",
     "start_time": "2023-06-29T23:37:14.214740Z"
    }
   },
   "outputs": [],
   "source": [
    "# To do matrix-matrix products (which we will need in next NN section)\n",
    "# Turn our coeffs into a col vector (matrix with single cols a.k.a Rank 2 matrix)\n",
    "def init_coeffs(n_coeffs):\n",
    "    coeffs = torch.rand(n_coeffs, 1) - 0.5\n",
    "    return coeffs.requires_grad_() "
   ]
  },
  {
   "cell_type": "code",
   "execution_count": 349,
   "id": "a3b1dd3c",
   "metadata": {
    "ExecuteTime": {
     "end_time": "2023-06-29T23:37:14.394884Z",
     "start_time": "2023-06-29T23:37:14.383889Z"
    }
   },
   "outputs": [
    {
     "name": "stdout",
     "output_type": "stream",
     "text": [
      "Before: torch.Size([713]), torch.Size([178])\n",
      "After: torch.Size([713, 1]), torch.Size([178, 1])\n"
     ]
    }
   ],
   "source": [
    "# Also. need to turn our dep variables into Rank 2 matrix\n",
    "print (f\"Before: {trn_dep.shape}, {val_dep.shape}\")\n",
    "trn_dep = trn_dep[:, None]\n",
    "val_dep = val_dep[:, None]\n",
    "print (f\"After: {trn_dep.shape}, {val_dep.shape}\")"
   ]
  },
  {
   "cell_type": "code",
   "execution_count": 350,
   "id": "b3270b37",
   "metadata": {
    "ExecuteTime": {
     "end_time": "2023-06-29T23:37:14.880155Z",
     "start_time": "2023-06-29T23:37:14.862060Z"
    },
    "scrolled": true
   },
   "outputs": [
    {
     "name": "stdout",
     "output_type": "stream",
     "text": [
      "i=  0 | loss=0.510\n",
      "i=  1 | loss=0.327\n",
      "i=  2 | loss=0.294\n",
      "i=  3 | loss=0.207\n",
      "i=  4 | loss=0.201\n",
      "i=  5 | loss=0.199\n",
      "i=  6 | loss=0.198\n",
      "i=  7 | loss=0.197\n",
      "i=  8 | loss=0.196\n",
      "i=  9 | loss=0.196\n",
      "i= 10 | loss=0.196\n",
      "i= 11 | loss=0.195\n",
      "i= 12 | loss=0.195\n",
      "i= 13 | loss=0.195\n",
      "i= 14 | loss=0.195\n",
      "i= 15 | loss=0.195\n",
      "i= 16 | loss=0.195\n",
      "i= 17 | loss=0.195\n",
      "i= 18 | loss=0.194\n",
      "i= 19 | loss=0.194\n",
      "i= 20 | loss=0.194\n",
      "i= 21 | loss=0.194\n",
      "i= 22 | loss=0.194\n",
      "i= 23 | loss=0.194\n",
      "i= 24 | loss=0.194\n",
      "i= 25 | loss=0.194\n",
      "i= 26 | loss=0.194\n",
      "i= 27 | loss=0.194\n",
      "i= 28 | loss=0.194\n",
      "i= 29 | loss=0.194\n"
     ]
    }
   ],
   "source": [
    "coeffs = train_model(n_coeffs=n_coeffs, indeps=trn_indep, deps=trn_dep, epochs=30, lr=100)"
   ]
  },
  {
   "cell_type": "code",
   "execution_count": 351,
   "id": "8b391083",
   "metadata": {
    "ExecuteTime": {
     "end_time": "2023-06-29T23:37:17.372359Z",
     "start_time": "2023-06-29T23:37:17.356897Z"
    }
   },
   "outputs": [
    {
     "data": {
      "text/plain": [
       "tensor(0.8258)"
      ]
     },
     "execution_count": 351,
     "metadata": {},
     "output_type": "execute_result"
    }
   ],
   "source": [
    "# The accuracy and loss are similar to previous results\n",
    "calc_acc(coeffs=coeffs, indeps=val_indep, deps=val_dep)"
   ]
  },
  {
   "cell_type": "markdown",
   "id": "c6f5ac80",
   "metadata": {
    "ExecuteTime": {
     "end_time": "2023-06-29T23:38:10.904768Z",
     "start_time": "2023-06-29T23:38:10.895670Z"
    }
   },
   "source": [
    "## Neural Network"
   ]
  },
  {
   "cell_type": "code",
   "execution_count": 373,
   "id": "d8ee4472",
   "metadata": {
    "ExecuteTime": {
     "end_time": "2023-06-29T23:53:00.391564Z",
     "start_time": "2023-06-29T23:53:00.383396Z"
    }
   },
   "outputs": [],
   "source": [
    "def init_coeffs(n_coeffs, n_hidden=20):\n",
    "    # For layer 1, we do not need const term as we are using 'n' dummy variables\n",
    "    # Dividing layer1 coeffs by n_hidden so that when we sum up in next layer, we will end up with similar magnitude\n",
    "    layer1 = (torch.rand(n_coeffs, n_hidden)-0.5)/n_hidden\n",
    "    layer1.requires_grad_()\n",
    "    # For layer 2, we need constant term\n",
    "    layer2 = (torch.rand(n_hidden,1)-0.3) # 0.3 is chosed by trial and error\n",
    "    const2 = torch.rand(1)\n",
    "    layer2.requires_grad_()\n",
    "    const2.requires_grad_()\n",
    "    return layer1, layer2, const2"
   ]
  },
  {
   "cell_type": "code",
   "execution_count": 374,
   "id": "1af7f41c",
   "metadata": {
    "ExecuteTime": {
     "end_time": "2023-06-29T23:53:00.543798Z",
     "start_time": "2023-06-29T23:53:00.532860Z"
    }
   },
   "outputs": [],
   "source": [
    "def calc_preds(coeffs, indeps):\n",
    "    l1, l2, const2 = coeffs\n",
    "    res = F.relu(indeps@l1)\n",
    "    res = F.sigmoid((res@l2) + const2)\n",
    "    return res"
   ]
  },
  {
   "cell_type": "code",
   "execution_count": 375,
   "id": "8c1d3676",
   "metadata": {
    "ExecuteTime": {
     "end_time": "2023-06-29T23:53:00.705932Z",
     "start_time": "2023-06-29T23:53:00.694298Z"
    }
   },
   "outputs": [],
   "source": [
    "def update_coeffs(coeffs, lr):\n",
    "    for layer in coeffs:\n",
    "        layer.sub_(lr * layer.grad)\n",
    "        layer.grad.zero_()\n",
    "    return coeffs"
   ]
  },
  {
   "cell_type": "code",
   "execution_count": 376,
   "id": "9826167d",
   "metadata": {
    "ExecuteTime": {
     "end_time": "2023-06-29T23:53:00.850205Z",
     "start_time": "2023-06-29T23:53:00.836108Z"
    },
    "scrolled": true
   },
   "outputs": [
    {
     "name": "stdout",
     "output_type": "stream",
     "text": [
      "i=  0 | loss=0.543\n",
      "i=  1 | loss=0.532\n",
      "i=  2 | loss=0.520\n",
      "i=  3 | loss=0.505\n",
      "i=  4 | loss=0.487\n",
      "i=  5 | loss=0.466\n",
      "i=  6 | loss=0.439\n",
      "i=  7 | loss=0.407\n",
      "i=  8 | loss=0.373\n",
      "i=  9 | loss=0.343\n",
      "i= 10 | loss=0.319\n",
      "i= 11 | loss=0.301\n",
      "i= 12 | loss=0.286\n",
      "i= 13 | loss=0.274\n",
      "i= 14 | loss=0.264\n",
      "i= 15 | loss=0.256\n",
      "i= 16 | loss=0.250\n",
      "i= 17 | loss=0.245\n",
      "i= 18 | loss=0.240\n",
      "i= 19 | loss=0.237\n",
      "i= 20 | loss=0.234\n",
      "i= 21 | loss=0.231\n",
      "i= 22 | loss=0.229\n",
      "i= 23 | loss=0.227\n",
      "i= 24 | loss=0.226\n",
      "i= 25 | loss=0.224\n",
      "i= 26 | loss=0.223\n",
      "i= 27 | loss=0.222\n",
      "i= 28 | loss=0.221\n",
      "i= 29 | loss=0.220\n"
     ]
    }
   ],
   "source": [
    "coeffs = train_model(n_coeffs=n_coeffs, indeps=trn_indep, deps=trn_dep, epochs=30, lr=1.4)"
   ]
  },
  {
   "cell_type": "code",
   "execution_count": 378,
   "id": "3c0006b6",
   "metadata": {
    "ExecuteTime": {
     "end_time": "2023-06-29T23:53:33.352051Z",
     "start_time": "2023-06-29T23:53:33.330998Z"
    },
    "scrolled": true
   },
   "outputs": [
    {
     "name": "stdout",
     "output_type": "stream",
     "text": [
      "i=  0 | loss=0.543\n",
      "i=  1 | loss=0.400\n",
      "i=  2 | loss=0.260\n",
      "i=  3 | loss=0.390\n",
      "i=  4 | loss=0.221\n",
      "i=  5 | loss=0.211\n",
      "i=  6 | loss=0.197\n",
      "i=  7 | loss=0.195\n",
      "i=  8 | loss=0.193\n",
      "i=  9 | loss=0.193\n",
      "i= 10 | loss=0.193\n",
      "i= 11 | loss=0.193\n",
      "i= 12 | loss=0.193\n",
      "i= 13 | loss=0.193\n",
      "i= 14 | loss=0.193\n",
      "i= 15 | loss=0.193\n",
      "i= 16 | loss=0.193\n",
      "i= 17 | loss=0.192\n",
      "i= 18 | loss=0.192\n",
      "i= 19 | loss=0.192\n",
      "i= 20 | loss=0.192\n",
      "i= 21 | loss=0.192\n",
      "i= 22 | loss=0.192\n",
      "i= 23 | loss=0.192\n",
      "i= 24 | loss=0.192\n",
      "i= 25 | loss=0.192\n",
      "i= 26 | loss=0.192\n",
      "i= 27 | loss=0.192\n",
      "i= 28 | loss=0.192\n",
      "i= 29 | loss=0.192\n"
     ]
    }
   ],
   "source": [
    "coeffs = train_model(n_coeffs=n_coeffs, indeps=trn_indep, deps=trn_dep, epochs=30, lr=20)"
   ]
  },
  {
   "cell_type": "code",
   "execution_count": 379,
   "id": "027fe4d8",
   "metadata": {
    "ExecuteTime": {
     "end_time": "2023-06-29T23:53:37.468732Z",
     "start_time": "2023-06-29T23:53:37.455344Z"
    }
   },
   "outputs": [
    {
     "data": {
      "text/plain": [
       "tensor(0.8258)"
      ]
     },
     "execution_count": 379,
     "metadata": {},
     "output_type": "execute_result"
    }
   ],
   "source": [
    "# Our loss with NN is slightly lower than before with linear model, but accuracy is still the same\n",
    "calc_acc(coeffs=coeffs, indeps=val_indep, deps=val_dep)"
   ]
  },
  {
   "cell_type": "markdown",
   "id": "ce3dd846",
   "metadata": {
    "ExecuteTime": {
     "end_time": "2023-06-29T23:57:42.945512Z",
     "start_time": "2023-06-29T23:57:42.937680Z"
    }
   },
   "source": [
    "## Deep learning"
   ]
  },
  {
   "cell_type": "code",
   "execution_count": 399,
   "id": "d9c20dda",
   "metadata": {
    "ExecuteTime": {
     "end_time": "2023-06-30T00:18:24.681862Z",
     "start_time": "2023-06-30T00:18:24.667765Z"
    }
   },
   "outputs": [],
   "source": [
    "def init_coeffs(n_coeffs, n_hidden=[10,10]):\n",
    "    sizes = [n_coeffs] + n_hidden + [1] # [input] + [hidden_layers] + [output]\n",
    "    n_layers = len(sizes)\n",
    "    layers = [(torch.rand(sizes[i], sizes[i+1])-0.3)/sizes[i+1]*4 for i in range(n_layers-1)]\n",
    "    consts = [(torch.rand(1)[0] - 0.5)*0.1 for i in range(n_layers-1)] # 0.1 is chosen by trial and error\n",
    "    for l in layers + consts:\n",
    "        l.requires_grad_()\n",
    "        print (f\"Coeff shape: {l.shape}\")\n",
    "    print (f\"{'-'*20}\")\n",
    "    return layers, consts\n",
    "\n",
    "# Sanity check\n",
    "# init_coeffs(n_coeffs);"
   ]
  },
  {
   "cell_type": "code",
   "execution_count": 400,
   "id": "20385294",
   "metadata": {
    "ExecuteTime": {
     "end_time": "2023-06-30T00:18:24.864840Z",
     "start_time": "2023-06-30T00:18:24.856245Z"
    }
   },
   "outputs": [],
   "source": [
    "def calc_preds(coeffs, indeps):\n",
    "    layers, consts = coeffs\n",
    "    n_layers = len(layers)\n",
    "    res = indeps\n",
    "    for i in range(n_layers):\n",
    "        res = res@layers[i] + consts[i]\n",
    "        if i<(n_layers-1):\n",
    "            res = F.relu(res)\n",
    "        else:\n",
    "            res = F.sigmoid(res)\n",
    "    return res"
   ]
  },
  {
   "cell_type": "code",
   "execution_count": 406,
   "id": "00e816bf",
   "metadata": {
    "ExecuteTime": {
     "end_time": "2023-06-30T00:19:38.388036Z",
     "start_time": "2023-06-30T00:19:38.372306Z"
    }
   },
   "outputs": [],
   "source": [
    "def update_coeffs(coeffs, lr):\n",
    "    layers, consts = coeffs\n",
    "    for layer in layers+consts:\n",
    "        layer.sub_(lr * layer.grad)\n",
    "        layer.grad.zero_()\n",
    "    return layers, consts"
   ]
  },
  {
   "cell_type": "code",
   "execution_count": 407,
   "id": "d0c511cc",
   "metadata": {
    "ExecuteTime": {
     "end_time": "2023-06-30T00:19:38.628142Z",
     "start_time": "2023-06-30T00:19:38.602265Z"
    }
   },
   "outputs": [
    {
     "name": "stdout",
     "output_type": "stream",
     "text": [
      "Coeff shape: torch.Size([12, 10])\n",
      "Coeff shape: torch.Size([10, 10])\n",
      "Coeff shape: torch.Size([10, 1])\n",
      "Coeff shape: torch.Size([])\n",
      "Coeff shape: torch.Size([])\n",
      "Coeff shape: torch.Size([])\n",
      "--------------------\n",
      "i=  0 | loss=0.521\n",
      "i=  1 | loss=0.483\n",
      "i=  2 | loss=0.427\n",
      "i=  3 | loss=0.379\n",
      "i=  4 | loss=0.379\n",
      "i=  5 | loss=0.379\n",
      "i=  6 | loss=0.379\n",
      "i=  7 | loss=0.378\n",
      "i=  8 | loss=0.378\n",
      "i=  9 | loss=0.378\n",
      "i= 10 | loss=0.378\n",
      "i= 11 | loss=0.378\n",
      "i= 12 | loss=0.378\n",
      "i= 13 | loss=0.378\n",
      "i= 14 | loss=0.378\n",
      "i= 15 | loss=0.378\n",
      "i= 16 | loss=0.377\n",
      "i= 17 | loss=0.376\n",
      "i= 18 | loss=0.371\n",
      "i= 19 | loss=0.333\n",
      "i= 20 | loss=0.239\n",
      "i= 21 | loss=0.224\n",
      "i= 22 | loss=0.208\n",
      "i= 23 | loss=0.204\n",
      "i= 24 | loss=0.203\n",
      "i= 25 | loss=0.203\n",
      "i= 26 | loss=0.207\n",
      "i= 27 | loss=0.197\n",
      "i= 28 | loss=0.196\n",
      "i= 29 | loss=0.195\n"
     ]
    }
   ],
   "source": [
    "coeffs = train_model(n_coeffs=n_coeffs, indeps=trn_indep, deps=trn_dep, lr=4)"
   ]
  },
  {
   "cell_type": "code",
   "execution_count": 408,
   "id": "107e7a2e",
   "metadata": {
    "ExecuteTime": {
     "end_time": "2023-06-30T00:19:52.007701Z",
     "start_time": "2023-06-30T00:19:51.988760Z"
    }
   },
   "outputs": [
    {
     "data": {
      "text/plain": [
       "tensor(0.8258)"
      ]
     },
     "execution_count": 408,
     "metadata": {},
     "output_type": "execute_result"
    }
   ],
   "source": [
    "calc_acc(coeffs=coeffs, indeps=val_indep, deps=val_dep)"
   ]
  }
 ],
 "metadata": {
  "kernelspec": {
   "display_name": "fastai_related",
   "language": "python",
   "name": "fastai_related"
  },
  "language_info": {
   "codemirror_mode": {
    "name": "ipython",
    "version": 3
   },
   "file_extension": ".py",
   "mimetype": "text/x-python",
   "name": "python",
   "nbconvert_exporter": "python",
   "pygments_lexer": "ipython3",
   "version": "3.10.5"
  },
  "toc": {
   "base_numbering": 1,
   "nav_menu": {},
   "number_sections": true,
   "sideBar": true,
   "skip_h1_title": false,
   "title_cell": "Table of Contents",
   "title_sidebar": "Contents",
   "toc_cell": false,
   "toc_position": {
    "height": "796px",
    "left": "49px",
    "top": "111.125px",
    "width": "384px"
   },
   "toc_section_display": true,
   "toc_window_display": true
  }
 },
 "nbformat": 4,
 "nbformat_minor": 5
}
