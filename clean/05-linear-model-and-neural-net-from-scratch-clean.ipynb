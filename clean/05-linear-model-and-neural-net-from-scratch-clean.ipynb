{
 "cells": [
  {
   "cell_type": "markdown",
   "id": "b6c80808",
   "metadata": {},
   "source": [
    "## README"
   ]
  },
  {
   "cell_type": "markdown",
   "id": "d93f1bcd",
   "metadata": {},
   "source": [
    "- Data: https://www.kaggle.com/competitions/titanic/data\n",
    "- My GitHub with markdown notes: [fastai/course22/05-linear-model-and-neural-net-from-scratch.ipynb](https://github.com/prasanth-ntu/fastai-course22/blob/master/05-linear-model-and-neural-net-from-scratch.ipynb)\n"
   ]
  },
  {
   "cell_type": "markdown",
   "id": "6ddc5421",
   "metadata": {},
   "source": [
    "## Introduction"
   ]
  },
  {
   "cell_type": "code",
   "execution_count": 1,
   "id": "ad9d2ec2",
   "metadata": {
    "ExecuteTime": {
     "end_time": "2023-06-29T11:40:53.091144Z",
     "start_time": "2023-06-29T11:40:51.381359Z"
    }
   },
   "outputs": [
    {
     "name": "stdout",
     "output_type": "stream",
     "text": [
      "Warning: Your Kaggle API key is readable by other users on this system! To fix this, you can run 'chmod 600 /Users/prasanth.thangavel/.kaggle/kaggle.json'\n"
     ]
    }
   ],
   "source": [
    "import os\n",
    "from pathlib import Path\n",
    "import zipfile, kaggle\n",
    "\n",
    "import torch, numpy as np, pandas as pd\n",
    "\n",
    "import matplotlib.pyplot as plt\n",
    "import seaborn as sns"
   ]
  },
  {
   "cell_type": "code",
   "execution_count": 2,
   "id": "8cd31c99",
   "metadata": {
    "ExecuteTime": {
     "end_time": "2023-06-29T11:40:53.197408Z",
     "start_time": "2023-06-29T11:40:53.092553Z"
    }
   },
   "outputs": [],
   "source": [
    "from torch import tensor\n",
    "import torch.nn.functional as F\n",
    "\n",
    "from fastai.data.transforms import RandomSplitter"
   ]
  },
  {
   "cell_type": "code",
   "execution_count": null,
   "id": "a7b0fcb7",
   "metadata": {},
   "outputs": [],
   "source": [
    "from fastai.data.transforms import RandomSpliddtter\n"
   ]
  },
  {
   "cell_type": "code",
   "execution_count": 3,
   "id": "8dd2d586",
   "metadata": {
    "ExecuteTime": {
     "end_time": "2023-06-29T11:40:53.201971Z",
     "start_time": "2023-06-29T11:40:53.199242Z"
    }
   },
   "outputs": [
    {
     "name": "stdout",
     "output_type": "stream",
     "text": [
      "path: '../titanic' exists\n",
      "Files: ['test.csv', 'train.csv', 'gender_submission.csv']\n"
     ]
    }
   ],
   "source": [
    "iskaggle = os.environ.get('KAGGLE_KERNEL_RUN_TYPE', '')\n",
    "if iskaggle: \n",
    "    path = Path('../input/titanic')\n",
    "else:\n",
    "    competition_name = 'titanic'\n",
    "    path = Path(f'../{competition_name}')\n",
    "    if not path.exists():\n",
    "        kaggle.api.competition_download_cli(competition=competition_name, path = '../')\n",
    "        zipfile.ZipFile(f'{path}.zip').extractall(path)\n",
    "    else:\n",
    "        print (f\"path: '{path}' exists\")\n",
    "print (f\"Files: {os.listdir(path)}\")"
   ]
  },
  {
   "cell_type": "code",
   "execution_count": 4,
   "id": "b765a0d2",
   "metadata": {
    "ExecuteTime": {
     "end_time": "2023-06-29T11:40:53.205793Z",
     "start_time": "2023-06-29T11:40:53.203676Z"
    }
   },
   "outputs": [
    {
     "name": "stdout",
     "output_type": "stream",
     "text": [
      "Default | numpy > printoptions > linewidth: 75\n",
      "Default | pandas > display.width: 80\n",
      "Default | pytorch > printoptions > linewidth: 80\n"
     ]
    }
   ],
   "source": [
    "print (f\"Default | numpy > printoptions > linewidth: {np.get_printoptions()['linewidth']}\")\n",
    "print (f\"Default | pandas > display.width: {pd.get_option('display.width')}\")\n",
    "print (f\"Default | pytorch > printoptions > linewidth: {80}\")\n",
    "\n",
    "np.set_printoptions(linewidth=140)\n",
    "torch.set_printoptions(linewidth=140, sci_mode=False, edgeitems=7)\n",
    "pd.set_option('display.width', 140)"
   ]
  },
  {
   "cell_type": "markdown",
   "id": "64cbf8ff",
   "metadata": {},
   "source": [
    "## Cleaning the data"
   ]
  },
  {
   "cell_type": "code",
   "execution_count": 5,
   "id": "6219203b",
   "metadata": {
    "ExecuteTime": {
     "end_time": "2023-06-29T11:40:53.217885Z",
     "start_time": "2023-06-29T11:40:53.206969Z"
    }
   },
   "outputs": [
    {
     "name": "stdout",
     "output_type": "stream",
     "text": [
      "(891, 12)\n"
     ]
    },
    {
     "data": {
      "text/html": [
       "<div>\n",
       "<style scoped>\n",
       "    .dataframe tbody tr th:only-of-type {\n",
       "        vertical-align: middle;\n",
       "    }\n",
       "\n",
       "    .dataframe tbody tr th {\n",
       "        vertical-align: top;\n",
       "    }\n",
       "\n",
       "    .dataframe thead th {\n",
       "        text-align: right;\n",
       "    }\n",
       "</style>\n",
       "<table border=\"1\" class=\"dataframe\">\n",
       "  <thead>\n",
       "    <tr style=\"text-align: right;\">\n",
       "      <th></th>\n",
       "      <th>PassengerId</th>\n",
       "      <th>Survived</th>\n",
       "      <th>Pclass</th>\n",
       "      <th>Name</th>\n",
       "      <th>Sex</th>\n",
       "      <th>Age</th>\n",
       "      <th>SibSp</th>\n",
       "      <th>Parch</th>\n",
       "      <th>Ticket</th>\n",
       "      <th>Fare</th>\n",
       "      <th>Cabin</th>\n",
       "      <th>Embarked</th>\n",
       "    </tr>\n",
       "  </thead>\n",
       "  <tbody>\n",
       "    <tr>\n",
       "      <th>0</th>\n",
       "      <td>1</td>\n",
       "      <td>0</td>\n",
       "      <td>3</td>\n",
       "      <td>Braund, Mr. Owen Harris</td>\n",
       "      <td>male</td>\n",
       "      <td>22.0</td>\n",
       "      <td>1</td>\n",
       "      <td>0</td>\n",
       "      <td>A/5 21171</td>\n",
       "      <td>7.2500</td>\n",
       "      <td>NaN</td>\n",
       "      <td>S</td>\n",
       "    </tr>\n",
       "    <tr>\n",
       "      <th>1</th>\n",
       "      <td>2</td>\n",
       "      <td>1</td>\n",
       "      <td>1</td>\n",
       "      <td>Cumings, Mrs. John Bradley (Florence Briggs Thayer)</td>\n",
       "      <td>female</td>\n",
       "      <td>38.0</td>\n",
       "      <td>1</td>\n",
       "      <td>0</td>\n",
       "      <td>PC 17599</td>\n",
       "      <td>71.2833</td>\n",
       "      <td>C85</td>\n",
       "      <td>C</td>\n",
       "    </tr>\n",
       "    <tr>\n",
       "      <th>2</th>\n",
       "      <td>3</td>\n",
       "      <td>1</td>\n",
       "      <td>3</td>\n",
       "      <td>Heikkinen, Miss. Laina</td>\n",
       "      <td>female</td>\n",
       "      <td>26.0</td>\n",
       "      <td>0</td>\n",
       "      <td>0</td>\n",
       "      <td>STON/O2. 3101282</td>\n",
       "      <td>7.9250</td>\n",
       "      <td>NaN</td>\n",
       "      <td>S</td>\n",
       "    </tr>\n",
       "    <tr>\n",
       "      <th>3</th>\n",
       "      <td>4</td>\n",
       "      <td>1</td>\n",
       "      <td>1</td>\n",
       "      <td>Futrelle, Mrs. Jacques Heath (Lily May Peel)</td>\n",
       "      <td>female</td>\n",
       "      <td>35.0</td>\n",
       "      <td>1</td>\n",
       "      <td>0</td>\n",
       "      <td>113803</td>\n",
       "      <td>53.1000</td>\n",
       "      <td>C123</td>\n",
       "      <td>S</td>\n",
       "    </tr>\n",
       "    <tr>\n",
       "      <th>4</th>\n",
       "      <td>5</td>\n",
       "      <td>0</td>\n",
       "      <td>3</td>\n",
       "      <td>Allen, Mr. William Henry</td>\n",
       "      <td>male</td>\n",
       "      <td>35.0</td>\n",
       "      <td>0</td>\n",
       "      <td>0</td>\n",
       "      <td>373450</td>\n",
       "      <td>8.0500</td>\n",
       "      <td>NaN</td>\n",
       "      <td>S</td>\n",
       "    </tr>\n",
       "  </tbody>\n",
       "</table>\n",
       "</div>"
      ],
      "text/plain": [
       "   PassengerId  Survived  Pclass                                                 Name     Sex   Age  SibSp  Parch            Ticket  \\\n",
       "0            1         0       3                              Braund, Mr. Owen Harris    male  22.0      1      0         A/5 21171   \n",
       "1            2         1       1  Cumings, Mrs. John Bradley (Florence Briggs Thayer)  female  38.0      1      0          PC 17599   \n",
       "2            3         1       3                               Heikkinen, Miss. Laina  female  26.0      0      0  STON/O2. 3101282   \n",
       "3            4         1       1         Futrelle, Mrs. Jacques Heath (Lily May Peel)  female  35.0      1      0            113803   \n",
       "4            5         0       3                             Allen, Mr. William Henry    male  35.0      0      0            373450   \n",
       "\n",
       "      Fare Cabin Embarked  \n",
       "0   7.2500   NaN        S  \n",
       "1  71.2833   C85        C  \n",
       "2   7.9250   NaN        S  \n",
       "3  53.1000  C123        S  \n",
       "4   8.0500   NaN        S  "
      ]
     },
     "execution_count": 5,
     "metadata": {},
     "output_type": "execute_result"
    }
   ],
   "source": [
    "df = pd.read_csv(f\"{path}/train.csv\")\n",
    "print (df.shape)\n",
    "df.head()"
   ]
  },
  {
   "cell_type": "code",
   "execution_count": 6,
   "id": "d84db6b1",
   "metadata": {
    "ExecuteTime": {
     "end_time": "2023-06-29T11:40:53.222571Z",
     "start_time": "2023-06-29T11:40:53.219075Z"
    }
   },
   "outputs": [
    {
     "data": {
      "text/plain": [
       "PassengerId      0\n",
       "Survived         0\n",
       "Pclass           0\n",
       "Name             0\n",
       "Sex              0\n",
       "Age            177\n",
       "SibSp            0\n",
       "Parch            0\n",
       "Ticket           0\n",
       "Fare             0\n",
       "Cabin          687\n",
       "Embarked         2\n",
       "dtype: int64"
      ]
     },
     "execution_count": 6,
     "metadata": {},
     "output_type": "execute_result"
    }
   ],
   "source": [
    "# check for missing values\n",
    "df.isna().sum()"
   ]
  },
  {
   "cell_type": "code",
   "execution_count": 7,
   "id": "35c4a1f0",
   "metadata": {
    "ExecuteTime": {
     "end_time": "2023-06-29T11:40:53.233416Z",
     "start_time": "2023-06-29T11:40:53.223391Z"
    }
   },
   "outputs": [
    {
     "data": {
      "text/plain": [
       "PassengerId                      1\n",
       "Survived                       0.0\n",
       "Pclass                         3.0\n",
       "Name           Abbing, Mr. Anthony\n",
       "Sex                           male\n",
       "Age                           24.0\n",
       "SibSp                          0.0\n",
       "Parch                          0.0\n",
       "Ticket                        1601\n",
       "Fare                          8.05\n",
       "Cabin                      B96 B98\n",
       "Embarked                         S\n",
       "Name: 0, dtype: object"
      ]
     },
     "execution_count": 7,
     "metadata": {},
     "output_type": "execute_result"
    }
   ],
   "source": [
    "# Replace missing values by using mode!\n",
    "# Note: There are better approaches, but let's keep it simple for start\n",
    "modes = df.mode().iloc[0]\n",
    "modes"
   ]
  },
  {
   "cell_type": "code",
   "execution_count": 8,
   "id": "486689d6",
   "metadata": {
    "ExecuteTime": {
     "end_time": "2023-06-29T11:40:53.242853Z",
     "start_time": "2023-06-29T11:40:53.238369Z"
    }
   },
   "outputs": [],
   "source": [
    "df.fillna(value=modes, inplace=True)"
   ]
  },
  {
   "cell_type": "code",
   "execution_count": 9,
   "id": "6151eea2",
   "metadata": {
    "ExecuteTime": {
     "end_time": "2023-06-29T11:40:53.247197Z",
     "start_time": "2023-06-29T11:40:53.244066Z"
    }
   },
   "outputs": [
    {
     "data": {
      "text/plain": [
       "PassengerId    0\n",
       "Survived       0\n",
       "Pclass         0\n",
       "Name           0\n",
       "Sex            0\n",
       "Age            0\n",
       "SibSp          0\n",
       "Parch          0\n",
       "Ticket         0\n",
       "Fare           0\n",
       "Cabin          0\n",
       "Embarked       0\n",
       "dtype: int64"
      ]
     },
     "execution_count": 9,
     "metadata": {},
     "output_type": "execute_result"
    }
   ],
   "source": [
    "df.isna().sum()"
   ]
  },
  {
   "cell_type": "code",
   "execution_count": 10,
   "id": "c3e30018",
   "metadata": {
    "ExecuteTime": {
     "end_time": "2023-06-29T11:40:53.259092Z",
     "start_time": "2023-06-29T11:40:53.248441Z"
    }
   },
   "outputs": [
    {
     "data": {
      "text/html": [
       "<div>\n",
       "<style scoped>\n",
       "    .dataframe tbody tr th:only-of-type {\n",
       "        vertical-align: middle;\n",
       "    }\n",
       "\n",
       "    .dataframe tbody tr th {\n",
       "        vertical-align: top;\n",
       "    }\n",
       "\n",
       "    .dataframe thead th {\n",
       "        text-align: right;\n",
       "    }\n",
       "</style>\n",
       "<table border=\"1\" class=\"dataframe\">\n",
       "  <thead>\n",
       "    <tr style=\"text-align: right;\">\n",
       "      <th></th>\n",
       "      <th>PassengerId</th>\n",
       "      <th>Survived</th>\n",
       "      <th>Pclass</th>\n",
       "      <th>Age</th>\n",
       "      <th>SibSp</th>\n",
       "      <th>Parch</th>\n",
       "      <th>Fare</th>\n",
       "    </tr>\n",
       "  </thead>\n",
       "  <tbody>\n",
       "    <tr>\n",
       "      <th>count</th>\n",
       "      <td>891.000000</td>\n",
       "      <td>891.000000</td>\n",
       "      <td>891.000000</td>\n",
       "      <td>891.000000</td>\n",
       "      <td>891.000000</td>\n",
       "      <td>891.000000</td>\n",
       "      <td>891.000000</td>\n",
       "    </tr>\n",
       "    <tr>\n",
       "      <th>mean</th>\n",
       "      <td>446.000000</td>\n",
       "      <td>0.383838</td>\n",
       "      <td>2.308642</td>\n",
       "      <td>28.566970</td>\n",
       "      <td>0.523008</td>\n",
       "      <td>0.381594</td>\n",
       "      <td>32.204208</td>\n",
       "    </tr>\n",
       "    <tr>\n",
       "      <th>std</th>\n",
       "      <td>257.353842</td>\n",
       "      <td>0.486592</td>\n",
       "      <td>0.836071</td>\n",
       "      <td>13.199572</td>\n",
       "      <td>1.102743</td>\n",
       "      <td>0.806057</td>\n",
       "      <td>49.693429</td>\n",
       "    </tr>\n",
       "    <tr>\n",
       "      <th>min</th>\n",
       "      <td>1.000000</td>\n",
       "      <td>0.000000</td>\n",
       "      <td>1.000000</td>\n",
       "      <td>0.420000</td>\n",
       "      <td>0.000000</td>\n",
       "      <td>0.000000</td>\n",
       "      <td>0.000000</td>\n",
       "    </tr>\n",
       "    <tr>\n",
       "      <th>25%</th>\n",
       "      <td>223.500000</td>\n",
       "      <td>0.000000</td>\n",
       "      <td>2.000000</td>\n",
       "      <td>22.000000</td>\n",
       "      <td>0.000000</td>\n",
       "      <td>0.000000</td>\n",
       "      <td>7.910400</td>\n",
       "    </tr>\n",
       "    <tr>\n",
       "      <th>50%</th>\n",
       "      <td>446.000000</td>\n",
       "      <td>0.000000</td>\n",
       "      <td>3.000000</td>\n",
       "      <td>24.000000</td>\n",
       "      <td>0.000000</td>\n",
       "      <td>0.000000</td>\n",
       "      <td>14.454200</td>\n",
       "    </tr>\n",
       "    <tr>\n",
       "      <th>75%</th>\n",
       "      <td>668.500000</td>\n",
       "      <td>1.000000</td>\n",
       "      <td>3.000000</td>\n",
       "      <td>35.000000</td>\n",
       "      <td>1.000000</td>\n",
       "      <td>0.000000</td>\n",
       "      <td>31.000000</td>\n",
       "    </tr>\n",
       "    <tr>\n",
       "      <th>max</th>\n",
       "      <td>891.000000</td>\n",
       "      <td>1.000000</td>\n",
       "      <td>3.000000</td>\n",
       "      <td>80.000000</td>\n",
       "      <td>8.000000</td>\n",
       "      <td>6.000000</td>\n",
       "      <td>512.329200</td>\n",
       "    </tr>\n",
       "  </tbody>\n",
       "</table>\n",
       "</div>"
      ],
      "text/plain": [
       "       PassengerId    Survived      Pclass         Age       SibSp       Parch        Fare\n",
       "count   891.000000  891.000000  891.000000  891.000000  891.000000  891.000000  891.000000\n",
       "mean    446.000000    0.383838    2.308642   28.566970    0.523008    0.381594   32.204208\n",
       "std     257.353842    0.486592    0.836071   13.199572    1.102743    0.806057   49.693429\n",
       "min       1.000000    0.000000    1.000000    0.420000    0.000000    0.000000    0.000000\n",
       "25%     223.500000    0.000000    2.000000   22.000000    0.000000    0.000000    7.910400\n",
       "50%     446.000000    0.000000    3.000000   24.000000    0.000000    0.000000   14.454200\n",
       "75%     668.500000    1.000000    3.000000   35.000000    1.000000    0.000000   31.000000\n",
       "max     891.000000    1.000000    3.000000   80.000000    8.000000    6.000000  512.329200"
      ]
     },
     "execution_count": 10,
     "metadata": {},
     "output_type": "execute_result"
    }
   ],
   "source": [
    "df.describe()"
   ]
  },
  {
   "cell_type": "code",
   "execution_count": 11,
   "id": "f3d160f6",
   "metadata": {
    "ExecuteTime": {
     "end_time": "2023-06-29T11:40:53.267236Z",
     "start_time": "2023-06-29T11:40:53.260172Z"
    }
   },
   "outputs": [
    {
     "data": {
      "text/html": [
       "<div>\n",
       "<style scoped>\n",
       "    .dataframe tbody tr th:only-of-type {\n",
       "        vertical-align: middle;\n",
       "    }\n",
       "\n",
       "    .dataframe tbody tr th {\n",
       "        vertical-align: top;\n",
       "    }\n",
       "\n",
       "    .dataframe thead th {\n",
       "        text-align: right;\n",
       "    }\n",
       "</style>\n",
       "<table border=\"1\" class=\"dataframe\">\n",
       "  <thead>\n",
       "    <tr style=\"text-align: right;\">\n",
       "      <th></th>\n",
       "      <th>Name</th>\n",
       "      <th>Sex</th>\n",
       "      <th>Ticket</th>\n",
       "      <th>Cabin</th>\n",
       "      <th>Embarked</th>\n",
       "    </tr>\n",
       "  </thead>\n",
       "  <tbody>\n",
       "    <tr>\n",
       "      <th>count</th>\n",
       "      <td>891</td>\n",
       "      <td>891</td>\n",
       "      <td>891</td>\n",
       "      <td>891</td>\n",
       "      <td>891</td>\n",
       "    </tr>\n",
       "    <tr>\n",
       "      <th>unique</th>\n",
       "      <td>891</td>\n",
       "      <td>2</td>\n",
       "      <td>681</td>\n",
       "      <td>147</td>\n",
       "      <td>3</td>\n",
       "    </tr>\n",
       "    <tr>\n",
       "      <th>top</th>\n",
       "      <td>Braund, Mr. Owen Harris</td>\n",
       "      <td>male</td>\n",
       "      <td>347082</td>\n",
       "      <td>B96 B98</td>\n",
       "      <td>S</td>\n",
       "    </tr>\n",
       "    <tr>\n",
       "      <th>freq</th>\n",
       "      <td>1</td>\n",
       "      <td>577</td>\n",
       "      <td>7</td>\n",
       "      <td>691</td>\n",
       "      <td>646</td>\n",
       "    </tr>\n",
       "  </tbody>\n",
       "</table>\n",
       "</div>"
      ],
      "text/plain": [
       "                           Name   Sex  Ticket    Cabin Embarked\n",
       "count                       891   891     891      891      891\n",
       "unique                      891     2     681      147        3\n",
       "top     Braund, Mr. Owen Harris  male  347082  B96 B98        S\n",
       "freq                          1   577       7      691      646"
      ]
     },
     "execution_count": 11,
     "metadata": {},
     "output_type": "execute_result"
    }
   ],
   "source": [
    "df.describe(include='object')"
   ]
  },
  {
   "cell_type": "code",
   "execution_count": 12,
   "id": "389adf12",
   "metadata": {
    "ExecuteTime": {
     "end_time": "2023-06-29T11:40:53.270516Z",
     "start_time": "2023-06-29T11:40:53.268211Z"
    }
   },
   "outputs": [
    {
     "data": {
      "text/plain": [
       "Index(['PassengerId', 'Survived', 'Pclass', 'Name', 'Sex', 'Age', 'SibSp', 'Parch', 'Ticket', 'Fare', 'Cabin', 'Embarked'], dtype='object')"
      ]
     },
     "execution_count": 12,
     "metadata": {},
     "output_type": "execute_result"
    }
   ],
   "source": [
    "df.columns"
   ]
  },
  {
   "cell_type": "code",
   "execution_count": 13,
   "id": "be6e2c9e",
   "metadata": {
    "ExecuteTime": {
     "end_time": "2023-06-29T11:40:53.276341Z",
     "start_time": "2023-06-29T11:40:53.273886Z"
    }
   },
   "outputs": [
    {
     "data": {
      "text/plain": [
       "['Pclass', 'Sex', 'Embarked']"
      ]
     },
     "execution_count": 13,
     "metadata": {},
     "output_type": "execute_result"
    }
   ],
   "source": [
    "# Let's preprocess the following features\n",
    "['Age', 'SibSp', 'Parch'] # Continuous: No processing (as SibSp and Parch are ordinal)\n",
    "['Fare'] # Continuous: Fix long tail data distribution issue\n",
    "['Pclass', 'Sex', 'Embarked'] # Categorial: Generate dummy variables (as they are categorical) for nominal"
   ]
  },
  {
   "cell_type": "code",
   "execution_count": 14,
   "id": "1b9c6c36",
   "metadata": {
    "ExecuteTime": {
     "end_time": "2023-06-29T11:40:53.363607Z",
     "start_time": "2023-06-29T11:40:53.277434Z"
    }
   },
   "outputs": [
    {
     "data": {
      "image/png": "[encoded data removed]",
      "text/plain": [
       "<Figure size 500x300 with 1 Axes>"
      ]
     },
     "metadata": {},
     "output_type": "display_data"
    }
   ],
   "source": [
    "df['Fare'].hist(figsize=(5,3), bins=20);"
   ]
  },
  {
   "cell_type": "code",
   "execution_count": 15,
   "id": "6f1a2a80",
   "metadata": {
    "ExecuteTime": {
     "end_time": "2023-06-29T11:40:53.444538Z",
     "start_time": "2023-06-29T11:40:53.364846Z"
    }
   },
   "outputs": [
    {
     "data": {
      "image/png": "[encoded data removed]",
      "text/plain": [
       "<Figure size 500x300 with 1 Axes>"
      ]
     },
     "metadata": {},
     "output_type": "display_data"
    }
   ],
   "source": [
    "# Taking log to solve the skewness in the data to make it more uniformly distributed\n",
    "df['LogFare'] = np.log(df['Fare']+1) # +1 to handle log(0) error as some Fare values are 0.\n",
    "df['LogFare'].hist(figsize=(5,3), bins=20);"
   ]
  },
  {
   "cell_type": "code",
   "execution_count": 16,
   "id": "0219bff1",
   "metadata": {
    "ExecuteTime": {
     "end_time": "2023-06-29T11:40:53.496795Z",
     "start_time": "2023-06-29T11:40:53.445711Z"
    },
    "scrolled": true
   },
   "outputs": [
    {
     "name": "stdout",
     "output_type": "stream",
     "text": [
      "The 3 'Pclass' are [1, 2, 3]\n"
     ]
    },
    {
     "data": {
      "image/png": "[encoded data removed]",
      "text/plain": [
       "<Figure size 400x300 with 1 Axes>"
      ]
     },
     "metadata": {},
     "output_type": "display_data"
    }
   ],
   "source": [
    "pclasses = sorted(df['Pclass'].unique())\n",
    "print (f\"The {len(pclasses)} 'Pclass' are {pclasses}\")\n",
    "plt.figure(figsize=(4,3))\n",
    "sns.countplot(df, x='Pclass');"
   ]
  },
  {
   "cell_type": "code",
   "execution_count": 17,
   "id": "7ce6b64d",
   "metadata": {
    "ExecuteTime": {
     "end_time": "2023-06-29T11:40:53.548428Z",
     "start_time": "2023-06-29T11:40:53.497947Z"
    },
    "scrolled": true
   },
   "outputs": [
    {
     "name": "stdout",
     "output_type": "stream",
     "text": [
      "The 3 'Embarked' places are ['C', 'Q', 'S']\n"
     ]
    },
    {
     "data": {
      "image/png": "[encoded data removed]",
      "text/plain": [
       "<Figure size 400x300 with 1 Axes>"
      ]
     },
     "metadata": {},
     "output_type": "display_data"
    }
   ],
   "source": [
    "embarked_places = sorted(df['Embarked'].unique())\n",
    "print (f\"The {len(embarked_places)} 'Embarked' places are {embarked_places}\")\n",
    "plt.figure(figsize=(4,3))\n",
    "sns.countplot(df, x='Embarked');"
   ]
  },
  {
   "cell_type": "code",
   "execution_count": 18,
   "id": "a92001f1",
   "metadata": {
    "ExecuteTime": {
     "end_time": "2023-06-29T11:40:53.598450Z",
     "start_time": "2023-06-29T11:40:53.549404Z"
    }
   },
   "outputs": [
    {
     "name": "stdout",
     "output_type": "stream",
     "text": [
      "The 'Sex' vlaues are ['male' 'female']\n"
     ]
    },
    {
     "data": {
      "image/png": "[encoded data removed]",
      "text/plain": [
       "<Figure size 300x300 with 1 Axes>"
      ]
     },
     "metadata": {},
     "output_type": "display_data"
    }
   ],
   "source": [
    "print (f\"The 'Sex' vlaues are {df['Sex'].unique()}\")\n",
    "plt.figure(figsize=(3,3))\n",
    "sns.countplot(df, x='Sex');"
   ]
  },
  {
   "cell_type": "code",
   "execution_count": 19,
   "id": "892195d9",
   "metadata": {
    "ExecuteTime": {
     "end_time": "2023-06-29T11:40:53.604542Z",
     "start_time": "2023-06-29T11:40:53.599510Z"
    }
   },
   "outputs": [
    {
     "data": {
      "text/plain": [
       "Index(['PassengerId', 'Survived', 'Name', 'Age', 'SibSp', 'Parch', 'Ticket', 'Fare', 'Cabin', 'LogFare', 'Sex_female', 'Sex_male',\n",
       "       'Pclass_1', 'Pclass_2', 'Pclass_3', 'Embarked_C', 'Embarked_Q', 'Embarked_S'],\n",
       "      dtype='object')"
      ]
     },
     "execution_count": 19,
     "metadata": {},
     "output_type": "execute_result"
    }
   ],
   "source": [
    "# Add dummy variables as additional cols\n",
    "df = pd.get_dummies(df, columns=['Sex', 'Pclass', 'Embarked'])\n",
    "df.columns"
   ]
  },
  {
   "cell_type": "code",
   "execution_count": 20,
   "id": "e37db8cd",
   "metadata": {
    "ExecuteTime": {
     "end_time": "2023-06-29T11:40:53.610697Z",
     "start_time": "2023-06-29T11:40:53.605399Z"
    }
   },
   "outputs": [
    {
     "data": {
      "text/html": [
       "<div>\n",
       "<style scoped>\n",
       "    .dataframe tbody tr th:only-of-type {\n",
       "        vertical-align: middle;\n",
       "    }\n",
       "\n",
       "    .dataframe tbody tr th {\n",
       "        vertical-align: top;\n",
       "    }\n",
       "\n",
       "    .dataframe thead th {\n",
       "        text-align: right;\n",
       "    }\n",
       "</style>\n",
       "<table border=\"1\" class=\"dataframe\">\n",
       "  <thead>\n",
       "    <tr style=\"text-align: right;\">\n",
       "      <th></th>\n",
       "      <th>Sex_male</th>\n",
       "      <th>Sex_female</th>\n",
       "      <th>Pclass_1</th>\n",
       "      <th>Pclass_2</th>\n",
       "      <th>Pclass_3</th>\n",
       "      <th>Embarked_C</th>\n",
       "      <th>Embarked_Q</th>\n",
       "      <th>Embarked_S</th>\n",
       "    </tr>\n",
       "  </thead>\n",
       "  <tbody>\n",
       "    <tr>\n",
       "      <th>0</th>\n",
       "      <td>True</td>\n",
       "      <td>False</td>\n",
       "      <td>False</td>\n",
       "      <td>False</td>\n",
       "      <td>True</td>\n",
       "      <td>False</td>\n",
       "      <td>False</td>\n",
       "      <td>True</td>\n",
       "    </tr>\n",
       "    <tr>\n",
       "      <th>1</th>\n",
       "      <td>False</td>\n",
       "      <td>True</td>\n",
       "      <td>True</td>\n",
       "      <td>False</td>\n",
       "      <td>False</td>\n",
       "      <td>True</td>\n",
       "      <td>False</td>\n",
       "      <td>False</td>\n",
       "    </tr>\n",
       "  </tbody>\n",
       "</table>\n",
       "</div>"
      ],
      "text/plain": [
       "   Sex_male  Sex_female  Pclass_1  Pclass_2  Pclass_3  Embarked_C  Embarked_Q  Embarked_S\n",
       "0      True       False     False     False      True       False       False        True\n",
       "1     False        True      True     False     False        True       False       False"
      ]
     },
     "execution_count": 20,
     "metadata": {},
     "output_type": "execute_result"
    }
   ],
   "source": [
    "added_cols = ['Sex_male', 'Sex_female',\n",
    "              'Pclass_1', 'Pclass_2', 'Pclass_3', \n",
    "              'Embarked_C', 'Embarked_Q', 'Embarked_S']\n",
    "df[added_cols].head(2)"
   ]
  },
  {
   "cell_type": "code",
   "execution_count": 21,
   "id": "44d5861a",
   "metadata": {
    "ExecuteTime": {
     "end_time": "2023-06-29T11:40:53.615968Z",
     "start_time": "2023-06-29T11:40:53.611875Z"
    },
    "scrolled": true
   },
   "outputs": [
    {
     "name": "stdout",
     "output_type": "stream",
     "text": [
      "Shape: torch.Size([891])\n",
      "Rank : 1\n",
      "tensor([0, 1, 1, 1, 0, 0, 0, 0, 1, 1])\n"
     ]
    }
   ],
   "source": [
    "# Create dependent variable as Rank 1 Tensor\n",
    "t_dep = tensor(df['Survived'])\n",
    "print (f\"Shape: {t_dep.shape}\") # 1D data\n",
    "print (f\"Rank : {len(t_dep.shape)}\")\n",
    "print (t_dep[:10])"
   ]
  },
  {
   "cell_type": "code",
   "execution_count": 22,
   "id": "698456e3",
   "metadata": {
    "ExecuteTime": {
     "end_time": "2023-06-29T11:40:53.621211Z",
     "start_time": "2023-06-29T11:40:53.617010Z"
    },
    "scrolled": true
   },
   "outputs": [
    {
     "name": "stdout",
     "output_type": "stream",
     "text": [
      "Shape: torch.Size([891, 12])\n",
      "Rank : 2\n",
      "tensor([[22.0000,  1.0000,  0.0000,  2.1102,  1.0000,  0.0000,  0.0000,  0.0000,  1.0000,  0.0000,  0.0000,  1.0000],\n",
      "        [38.0000,  1.0000,  0.0000,  4.2806,  0.0000,  1.0000,  1.0000,  0.0000,  0.0000,  1.0000,  0.0000,  0.0000]])\n"
     ]
    }
   ],
   "source": [
    "# Create dependent variables as a Rank 2 Tensor\n",
    "indep_cols = ['Age', 'SibSp', 'Parch', 'LogFare'] + added_cols\n",
    "\n",
    "t_indep = tensor(df[indep_cols].values.astype(float), dtype=torch.float) # torch.float == torch.float32\n",
    "print (f\"Shape: {t_indep.shape}\") # 2D data\n",
    "print (f\"Rank : {len(t_indep.shape)}\")\n",
    "print (t_indep[:2])"
   ]
  },
  {
   "cell_type": "markdown",
   "id": "f43af693",
   "metadata": {
    "ExecuteTime": {
     "end_time": "2023-06-29T10:27:27.364158Z",
     "start_time": "2023-06-29T10:27:27.347040Z"
    }
   },
   "source": [
    "## Setting up a linear model"
   ]
  },
  {
   "cell_type": "code",
   "execution_count": 68,
   "id": "3724ec14",
   "metadata": {
    "ExecuteTime": {
     "end_time": "2023-06-29T11:42:36.586951Z",
     "start_time": "2023-06-29T11:42:36.571064Z"
    }
   },
   "outputs": [
    {
     "name": "stdout",
     "output_type": "stream",
     "text": [
      "torch.Size([12])\n"
     ]
    },
    {
     "data": {
      "text/plain": [
       "tensor([-0.4629,  0.1386,  0.2409, -0.2262, -0.2632, -0.3147,  0.4876,  0.3136,  0.2799, -0.4392,  0.2103,  0.3625])"
      ]
     },
     "execution_count": 68,
     "metadata": {},
     "output_type": "execute_result"
    }
   ],
   "source": [
    "torch.manual_seed(442)\n",
    "\n",
    "# Create initial coefficients for our linear model\n",
    "n_coeffs = t_indep.shape[1]\n",
    "coeffs = torch.rand(n_coeffs) - 0.5\n",
    "print (f\"{coeffs.shape}\")\n",
    "coeffs"
   ]
  },
  {
   "cell_type": "code",
   "execution_count": 69,
   "id": "afa68b9c",
   "metadata": {
    "ExecuteTime": {
     "end_time": "2023-06-29T11:42:36.724261Z",
     "start_time": "2023-06-29T11:42:36.710226Z"
    }
   },
   "outputs": [
    {
     "data": {
      "text/plain": [
       "tensor([[-0.1273,  0.0173,  0.0000, -0.0765, -0.2632, -0.0000,  0.0000,  0.0000,  0.2799, -0.0000,  0.0000,  0.3625],\n",
       "        [-0.2199,  0.0173,  0.0000, -0.1551, -0.0000, -0.3147,  0.4876,  0.0000,  0.0000, -0.4392,  0.0000,  0.0000],\n",
       "        [-0.1504,  0.0000,  0.0000, -0.0793, -0.0000, -0.3147,  0.0000,  0.0000,  0.2799, -0.0000,  0.0000,  0.3625],\n",
       "        [-0.2025,  0.0173,  0.0000, -0.1446, -0.0000, -0.3147,  0.4876,  0.0000,  0.0000, -0.0000,  0.0000,  0.3625],\n",
       "        [-0.2025,  0.0000,  0.0000, -0.0798, -0.2632, -0.0000,  0.0000,  0.0000,  0.2799, -0.0000,  0.0000,  0.3625],\n",
       "        [-0.1389,  0.0000,  0.0000, -0.0814, -0.2632, -0.0000,  0.0000,  0.0000,  0.2799, -0.0000,  0.2103,  0.0000],\n",
       "        [-0.3125,  0.0000,  0.0000, -0.1438, -0.2632, -0.0000,  0.4876,  0.0000,  0.0000, -0.0000,  0.0000,  0.3625],\n",
       "        ...,\n",
       "        [-0.1447,  0.0000,  0.0000, -0.0756, -0.2632, -0.0000,  0.0000,  0.0000,  0.2799, -0.0000,  0.0000,  0.3625],\n",
       "        [-0.2257,  0.0000,  0.2008, -0.1234, -0.0000, -0.3147,  0.0000,  0.0000,  0.2799, -0.0000,  0.2103,  0.0000],\n",
       "        [-0.1562,  0.0000,  0.0000, -0.0956, -0.2632, -0.0000,  0.0000,  0.3136,  0.0000, -0.0000,  0.0000,  0.3625],\n",
       "        [-0.1099,  0.0000,  0.0000, -0.1244, -0.0000, -0.3147,  0.4876,  0.0000,  0.0000, -0.0000,  0.0000,  0.3625],\n",
       "        [-0.1389,  0.0173,  0.0803, -0.1158, -0.0000, -0.3147,  0.0000,  0.0000,  0.2799, -0.0000,  0.0000,  0.3625],\n",
       "        [-0.1504,  0.0000,  0.0000, -0.1244, -0.2632, -0.0000,  0.4876,  0.0000,  0.0000, -0.4392,  0.0000,  0.0000],\n",
       "        [-0.1852,  0.0000,  0.0000, -0.0786, -0.2632, -0.0000,  0.0000,  0.0000,  0.2799, -0.0000,  0.2103,  0.0000]])"
      ]
     },
     "execution_count": 69,
     "metadata": {},
     "output_type": "execute_result"
    }
   ],
   "source": [
    "# y_pred = w1x1 + w2x2 + ... + wnxn\n",
    "# Lets compute the [w1x1 w2x2 ... wnxn] as a matrix\n",
    "t_indep*coeffs"
   ]
  },
  {
   "cell_type": "code",
   "execution_count": 70,
   "id": "eacc2758",
   "metadata": {
    "ExecuteTime": {
     "end_time": "2023-06-29T11:42:37.230725Z",
     "start_time": "2023-06-29T11:42:37.221619Z"
    }
   },
   "outputs": [],
   "source": [
    "# Problem: Since some feature cols (esp. Age) are of high magnitude, they would dominate the other cols\n",
    "# Solution: Divide all the feature cols by their max (primitive approach), so max value will be 1\n",
    "\n",
    "vals, indices = t_indep.max(dim=0)\n",
    "t_indep = t_indep / vals # (Auto-) Broadcasting vector into matrix for division across all rows"
   ]
  },
  {
   "cell_type": "code",
   "execution_count": 71,
   "id": "16540dac",
   "metadata": {
    "ExecuteTime": {
     "end_time": "2023-06-29T11:42:37.312232Z",
     "start_time": "2023-06-29T11:42:37.299280Z"
    }
   },
   "outputs": [
    {
     "data": {
      "text/plain": [
       "tensor([[-0.1273,  0.0173,  0.0000, -0.0765, -0.2632, -0.0000,  0.0000,  0.0000,  0.2799, -0.0000,  0.0000,  0.3625],\n",
       "        [-0.2199,  0.0173,  0.0000, -0.1551, -0.0000, -0.3147,  0.4876,  0.0000,  0.0000, -0.4392,  0.0000,  0.0000],\n",
       "        [-0.1504,  0.0000,  0.0000, -0.0793, -0.0000, -0.3147,  0.0000,  0.0000,  0.2799, -0.0000,  0.0000,  0.3625],\n",
       "        [-0.2025,  0.0173,  0.0000, -0.1446, -0.0000, -0.3147,  0.4876,  0.0000,  0.0000, -0.0000,  0.0000,  0.3625],\n",
       "        [-0.2025,  0.0000,  0.0000, -0.0798, -0.2632, -0.0000,  0.0000,  0.0000,  0.2799, -0.0000,  0.0000,  0.3625],\n",
       "        [-0.1389,  0.0000,  0.0000, -0.0814, -0.2632, -0.0000,  0.0000,  0.0000,  0.2799, -0.0000,  0.2103,  0.0000],\n",
       "        [-0.3125,  0.0000,  0.0000, -0.1438, -0.2632, -0.0000,  0.4876,  0.0000,  0.0000, -0.0000,  0.0000,  0.3625],\n",
       "        ...,\n",
       "        [-0.1447,  0.0000,  0.0000, -0.0756, -0.2632, -0.0000,  0.0000,  0.0000,  0.2799, -0.0000,  0.0000,  0.3625],\n",
       "        [-0.2257,  0.0000,  0.2008, -0.1234, -0.0000, -0.3147,  0.0000,  0.0000,  0.2799, -0.0000,  0.2103,  0.0000],\n",
       "        [-0.1562,  0.0000,  0.0000, -0.0956, -0.2632, -0.0000,  0.0000,  0.3136,  0.0000, -0.0000,  0.0000,  0.3625],\n",
       "        [-0.1099,  0.0000,  0.0000, -0.1244, -0.0000, -0.3147,  0.4876,  0.0000,  0.0000, -0.0000,  0.0000,  0.3625],\n",
       "        [-0.1389,  0.0173,  0.0803, -0.1158, -0.0000, -0.3147,  0.0000,  0.0000,  0.2799, -0.0000,  0.0000,  0.3625],\n",
       "        [-0.1504,  0.0000,  0.0000, -0.1244, -0.2632, -0.0000,  0.4876,  0.0000,  0.0000, -0.4392,  0.0000,  0.0000],\n",
       "        [-0.1852,  0.0000,  0.0000, -0.0786, -0.2632, -0.0000,  0.0000,  0.0000,  0.2799, -0.0000,  0.2103,  0.0000]])"
      ]
     },
     "execution_count": 71,
     "metadata": {},
     "output_type": "execute_result"
    }
   ],
   "source": [
    "t_indep*coeffs"
   ]
  },
  {
   "cell_type": "code",
   "execution_count": 72,
   "id": "200f549e",
   "metadata": {
    "ExecuteTime": {
     "end_time": "2023-06-29T11:42:37.389349Z",
     "start_time": "2023-06-29T11:42:37.377462Z"
    }
   },
   "outputs": [
    {
     "name": "stdout",
     "output_type": "stream",
     "text": [
      "torch.Size([891])\n"
     ]
    },
    {
     "data": {
      "text/plain": [
       "tensor([ 0.1927, -0.6239,  0.0979,  0.2056,  0.0968,  0.0066,  0.1306,  0.3476,  0.1613, -0.6285])"
      ]
     },
     "execution_count": 72,
     "metadata": {},
     "output_type": "execute_result"
    }
   ],
   "source": [
    "preds = (t_indep*coeffs).sum(dim=1)\n",
    "print (preds.shape)\n",
    "preds[:10]"
   ]
  },
  {
   "cell_type": "code",
   "execution_count": 73,
   "id": "458366e1",
   "metadata": {
    "ExecuteTime": {
     "end_time": "2023-06-29T11:42:37.470898Z",
     "start_time": "2023-06-29T11:42:37.459884Z"
    }
   },
   "outputs": [
    {
     "data": {
      "text/plain": [
       "tensor(0.5382)"
      ]
     },
     "execution_count": 73,
     "metadata": {},
     "output_type": "execute_result"
    }
   ],
   "source": [
    "# define loss function as MAE (to do gradient descent to optimize weights, we need loss function)\n",
    "loss = torch.abs(preds - t_dep).mean()\n",
    "loss"
   ]
  },
  {
   "cell_type": "code",
   "execution_count": 74,
   "id": "a57da09b",
   "metadata": {
    "ExecuteTime": {
     "end_time": "2023-06-29T11:42:37.555934Z",
     "start_time": "2023-06-29T11:42:37.545448Z"
    }
   },
   "outputs": [],
   "source": [
    "def calc_preds(coeffs, indeps):\n",
    "    preds = (indeps*coeffs).sum(axis=1)\n",
    "    return preds\n",
    "\n",
    "def cal_loss(coeffs, indeps, deps):\n",
    "    preds = calc_preds(coeffs, indeps)\n",
    "    loss = torch.abs(preds - deps).mean()\n",
    "    return loss"
   ]
  },
  {
   "cell_type": "markdown",
   "id": "1ad9af1d",
   "metadata": {},
   "source": [
    "## Doing a gradient descent step"
   ]
  },
  {
   "cell_type": "code",
   "execution_count": 75,
   "id": "da71be1f",
   "metadata": {
    "ExecuteTime": {
     "end_time": "2023-06-29T11:42:37.723619Z",
     "start_time": "2023-06-29T11:42:37.713088Z"
    }
   },
   "outputs": [
    {
     "data": {
      "text/plain": [
       "tensor([-0.4629,  0.1386,  0.2409, -0.2262, -0.2632, -0.3147,  0.4876,  0.3136,  0.2799, -0.4392,  0.2103,  0.3625], requires_grad=True)"
      ]
     },
     "execution_count": 75,
     "metadata": {},
     "output_type": "execute_result"
    }
   ],
   "source": [
    "# Enable tracking in computational graph (so that PyTorch compute gradients during backprop)\n",
    "coeffs.requires_grad_()"
   ]
  },
  {
   "cell_type": "code",
   "execution_count": 76,
   "id": "256b515a",
   "metadata": {
    "ExecuteTime": {
     "end_time": "2023-06-29T11:42:38.099853Z",
     "start_time": "2023-06-29T11:42:38.085725Z"
    }
   },
   "outputs": [
    {
     "data": {
      "text/plain": [
       "tensor(0.5382, grad_fn=<MeanBackward0>)"
      ]
     },
     "execution_count": 76,
     "metadata": {},
     "output_type": "execute_result"
    }
   ],
   "source": [
    "# Calculate loss (and PyTorch will keep track of all the steps so that PyTorch compute gradients during backprop)\n",
    "loss = cal_loss(coeffs=coeffs, indeps=t_indep, deps=t_dep)\n",
    "loss"
   ]
  },
  {
   "cell_type": "code",
   "execution_count": 77,
   "id": "2d4a1cd1",
   "metadata": {
    "ExecuteTime": {
     "end_time": "2023-06-29T11:42:38.245614Z",
     "start_time": "2023-06-29T11:42:38.235645Z"
    }
   },
   "outputs": [],
   "source": [
    "loss.backward()"
   ]
  },
  {
   "cell_type": "code",
   "execution_count": 78,
   "id": "9821d185",
   "metadata": {
    "ExecuteTime": {
     "end_time": "2023-06-29T11:42:38.358783Z",
     "start_time": "2023-06-29T11:42:38.350518Z"
    }
   },
   "outputs": [
    {
     "data": {
      "text/plain": [
       "tensor([-0.0106,  0.0129, -0.0041, -0.0484,  0.2099, -0.2132, -0.1212, -0.0247,  0.1425, -0.1886, -0.0191,  0.2043])"
      ]
     },
     "execution_count": 78,
     "metadata": {},
     "output_type": "execute_result"
    }
   ],
   "source": [
    "# A negative grad implies that the coefficient needs to be increased and viceversa\n",
    "coeffs.grad"
   ]
  },
  {
   "cell_type": "code",
   "execution_count": 79,
   "id": "bcfd775c",
   "metadata": {
    "ExecuteTime": {
     "end_time": "2023-06-29T11:42:38.506989Z",
     "start_time": "2023-06-29T11:42:38.495857Z"
    }
   },
   "outputs": [
    {
     "name": "stdout",
     "output_type": "stream",
     "text": [
      "tensor(0.5382, grad_fn=<MeanBackward0>)\n"
     ]
    },
    {
     "data": {
      "text/plain": [
       "tensor([-0.0212,  0.0258, -0.0082, -0.0969,  0.4198, -0.4265, -0.2424, -0.0494,  0.2851, -0.3771, -0.0382,  0.4085])"
      ]
     },
     "execution_count": 79,
     "metadata": {},
     "output_type": "execute_result"
    }
   ],
   "source": [
    "# Each time when we call loss.backward(), the gradients are added to coeffs.grad attribute value\n",
    "loss = cal_loss(coeffs=coeffs, indeps=t_indep, deps=t_dep)\n",
    "print (loss)\n",
    "loss.backward()\n",
    "coeffs.grad "
   ]
  },
  {
   "cell_type": "code",
   "execution_count": 80,
   "id": "e40546e1",
   "metadata": {
    "ExecuteTime": {
     "end_time": "2023-06-29T11:42:38.896838Z",
     "start_time": "2023-06-29T11:42:38.888643Z"
    }
   },
   "outputs": [],
   "source": [
    "# So, we need to set the coeffs.grad after using the gradients to do a gradient descent step"
   ]
  },
  {
   "cell_type": "code",
   "execution_count": 81,
   "id": "613bbeae",
   "metadata": {
    "ExecuteTime": {
     "end_time": "2023-06-29T11:42:39.633401Z",
     "start_time": "2023-06-29T11:42:39.618898Z"
    }
   },
   "outputs": [
    {
     "name": "stdout",
     "output_type": "stream",
     "text": [
      "tensor(0.5197)\n"
     ]
    }
   ],
   "source": [
    "# Let's do one gradient step and see whether the loss decreases\n",
    "\n",
    "coeffs.grad.zero_()\n",
    "loss = cal_loss(coeffs=coeffs, indeps=t_indep, deps=t_dep)\n",
    "loss.backward()\n",
    "\n",
    "with torch.no_grad(): # disabled gradient calculation\n",
    "    coeffs = coeffs.sub_(other=0.1 * coeffs.grad) # coeff = coeff - learning_rate*gradient\n",
    "    coeffs.grad.zero_()\n",
    "    loss = cal_loss(coeffs=coeffs, indeps=t_indep, deps=t_dep)    \n",
    "    print (loss)"
   ]
  },
  {
   "cell_type": "code",
   "execution_count": null,
   "id": "e8b59f20",
   "metadata": {},
   "outputs": [],
   "source": [
    "# The loss value has decreased from 0.5382 to 0.5197 after one gradient descent step"
   ]
  },
  {
   "cell_type": "markdown",
   "id": "869152ec",
   "metadata": {},
   "source": [
    "## Training the linear model"
   ]
  },
  {
   "cell_type": "code",
   "execution_count": 86,
   "id": "75a80662",
   "metadata": {
    "ExecuteTime": {
     "end_time": "2023-06-29T12:17:02.373243Z",
     "start_time": "2023-06-29T12:17:02.359000Z"
    }
   },
   "outputs": [
    {
     "name": "stdout",
     "output_type": "stream",
     "text": [
      "713 178\n",
      "[788, 525, 821, 253, 374] [303, 778, 531, 385, 134]\n"
     ]
    }
   ],
   "source": [
    "# Split data into train and valid sets\n",
    "\n",
    "# Get indices for trn and val split\n",
    "trn_split_indices, val_split_indices = RandomSplitter(seed=42)(df)\n",
    "print (len(trn_split_indices), len(val_split_indices))\n",
    "print (trn_split_indices[:5], val_split_indices[:5])"
   ]
  },
  {
   "cell_type": "code",
   "execution_count": 88,
   "id": "2ce9521a",
   "metadata": {
    "ExecuteTime": {
     "end_time": "2023-06-29T12:17:58.354181Z",
     "start_time": "2023-06-29T12:17:58.338588Z"
    }
   },
   "outputs": [
    {
     "name": "stdout",
     "output_type": "stream",
     "text": [
      "713 178\n"
     ]
    }
   ],
   "source": [
    "# apply the indices to our indep and dep var\n",
    "trn_indep, val_indep = t_indep[trn_split_indices], t_indep[val_split_indices]\n",
    "trn_dep, val_dep = t_dep[trn_split_indices], t_dep[val_split_indices]\n",
    "print (len(trn_indep), len(val_indep))"
   ]
  },
  {
   "cell_type": "code",
   "execution_count": 110,
   "id": "593c79e4",
   "metadata": {
    "ExecuteTime": {
     "end_time": "2023-06-29T12:30:28.978617Z",
     "start_time": "2023-06-29T12:30:28.964849Z"
    }
   },
   "outputs": [],
   "source": [
    "# create fns for updating coeffs, doing one full grad desc step, and init coefs\n",
    "def init_coeffs(n_coeffs):\n",
    "    coeffs = torch.rand(n_coeffs) - 0.5\n",
    "    coeffs.requires_grad_()\n",
    "    return coeffs\n",
    "\n",
    "def update_coeffs(coeffs, lr):\n",
    "    coeffs.sub_(lr*coeffs.grad)\n",
    "    return coeffs.grad.zero_()\n",
    "    \n",
    "def one_epoch(coeffs, lr, indeps, deps):\n",
    "    loss = cal_loss(coeffs, indeps, deps)\n",
    "    loss.backward()\n",
    "    with torch.no_grad():\n",
    "        update_coeffs(coeffs, lr)\n",
    "    return coeffs, loss"
   ]
  },
  {
   "cell_type": "code",
   "execution_count": 133,
   "id": "a7d13c81",
   "metadata": {
    "ExecuteTime": {
     "end_time": "2023-06-29T12:33:36.039963Z",
     "start_time": "2023-06-29T12:33:36.027262Z"
    }
   },
   "outputs": [],
   "source": [
    "def train_model(n_coeffs, indeps, deps, epochs=30, lr=0.01):\n",
    "    torch.manual_seed(442)\n",
    "    coeffs = init_coeffs(n_coeffs)\n",
    "    for i in range(epochs):\n",
    "        coeffs, loss = one_epoch(coeffs, lr, indeps, deps)\n",
    "        # Print loss after every gradient descent update step for each epoch\n",
    "        print (f\"i={i:>3d} | loss={loss:>5.3f}\")\n",
    "    return coeffs"
   ]
  },
  {
   "cell_type": "code",
   "execution_count": 134,
   "id": "429cb497",
   "metadata": {
    "ExecuteTime": {
     "end_time": "2023-06-29T12:33:36.181122Z",
     "start_time": "2023-06-29T12:33:36.164277Z"
    }
   },
   "outputs": [
    {
     "name": "stdout",
     "output_type": "stream",
     "text": [
      "i=  0 | loss=0.536\n",
      "i=  1 | loss=0.502\n",
      "i=  2 | loss=0.477\n",
      "i=  3 | loss=0.454\n",
      "i=  4 | loss=0.431\n",
      "i=  5 | loss=0.409\n",
      "i=  6 | loss=0.388\n",
      "i=  7 | loss=0.367\n",
      "i=  8 | loss=0.349\n",
      "i=  9 | loss=0.336\n",
      "i= 10 | loss=0.330\n",
      "i= 11 | loss=0.326\n",
      "i= 12 | loss=0.329\n",
      "i= 13 | loss=0.304\n",
      "i= 14 | loss=0.314\n",
      "i= 15 | loss=0.296\n",
      "i= 16 | loss=0.300\n",
      "i= 17 | loss=0.289\n"
     ]
    }
   ],
   "source": [
    "# Loss should decrease after every epoch\n",
    "coeffs = train_model(n_coeffs=n_coeffs, indeps=trn_indep, deps=trn_dep, epochs=18, lr=0.2)"
   ]
  },
  {
   "cell_type": "code",
   "execution_count": 138,
   "id": "ac87342b",
   "metadata": {
    "ExecuteTime": {
     "end_time": "2023-06-29T12:35:19.081652Z",
     "start_time": "2023-06-29T12:35:19.072834Z"
    }
   },
   "outputs": [
    {
     "data": {
      "text/plain": [
       "tensor([-0.2694,  0.0901,  0.2359,  0.0280, -0.3990,  0.2345,  0.7232,  0.4112,  0.3601,  0.0955,  0.2395,  0.2122], requires_grad=True)"
      ]
     },
     "execution_count": 138,
     "metadata": {},
     "output_type": "execute_result"
    }
   ],
   "source": [
    "coeffs"
   ]
  },
  {
   "cell_type": "code",
   "execution_count": 165,
   "id": "25d65fa9",
   "metadata": {
    "ExecuteTime": {
     "end_time": "2023-06-29T12:38:46.664726Z",
     "start_time": "2023-06-29T12:38:46.653975Z"
    }
   },
   "outputs": [
    {
     "data": {
      "text/plain": [
       "tensor([-0.2694,  0.0901,  0.2359,  0.0280, -0.3990,  0.2345,  0.7232,  0.4112,  0.3601,  0.0955,  0.2395,  0.2122])"
      ]
     },
     "execution_count": 165,
     "metadata": {},
     "output_type": "execute_result"
    }
   ],
   "source": [
    "# Turn off requires_grad_ to False as training is completed, and we will only do inference\n",
    "coeffs.requires_grad_(False)"
   ]
  },
  {
   "cell_type": "code",
   "execution_count": 170,
   "id": "c95188a8",
   "metadata": {
    "ExecuteTime": {
     "end_time": "2023-06-29T12:39:13.210017Z",
     "start_time": "2023-06-29T12:39:13.196678Z"
    }
   },
   "outputs": [
    {
     "data": {
      "text/plain": [
       "{'Age': -0.26935664,\n",
       " 'SibSp': 0.090121895,\n",
       " 'Parch': 0.2359452,\n",
       " 'LogFare': 0.027992353,\n",
       " 'Sex_male': -0.3990123,\n",
       " 'Sex_female': 0.2345131,\n",
       " 'Pclass_1': 0.7232336,\n",
       " 'Pclass_2': 0.4111845,\n",
       " 'Pclass_3': 0.36010766,\n",
       " 'Embarked_C': 0.09548305,\n",
       " 'Embarked_Q': 0.23946138,\n",
       " 'Embarked_S': 0.2121628}"
      ]
     },
     "execution_count": 170,
     "metadata": {},
     "output_type": "execute_result"
    }
   ],
   "source": [
    "def show_coeffs(coeffs, indep_cols):\n",
    "    return dict(zip(indep_cols, coeffs.numpy()))\n",
    "show_coeffs(coeffs, indep_cols)"
   ]
  },
  {
   "cell_type": "markdown",
   "id": "a16c42bf",
   "metadata": {},
   "source": [
    "## Measuring accuracy"
   ]
  },
  {
   "cell_type": "code",
   "execution_count": null,
   "id": "23973153",
   "metadata": {},
   "outputs": [],
   "source": []
  }
 ],
 "metadata": {
  "kernelspec": {
   "display_name": "fastai_related",
   "language": "python",
   "name": "fastai_related"
  },
  "language_info": {
   "codemirror_mode": {
    "name": "ipython",
    "version": 3
   },
   "file_extension": ".py",
   "mimetype": "text/x-python",
   "name": "python",
   "nbconvert_exporter": "python",
   "pygments_lexer": "ipython3",
   "version": "3.10.5"
  },
  "toc": {
   "base_numbering": 1,
   "nav_menu": {},
   "number_sections": true,
   "sideBar": true,
   "skip_h1_title": false,
   "title_cell": "Table of Contents",
   "title_sidebar": "Contents",
   "toc_cell": false,
   "toc_position": {
    "height": "796px",
    "left": "49px",
    "top": "111.125px",
    "width": "384px"
   },
   "toc_section_display": true,
   "toc_window_display": true
  }
 },
 "nbformat": 4,
 "nbformat_minor": 5
}
