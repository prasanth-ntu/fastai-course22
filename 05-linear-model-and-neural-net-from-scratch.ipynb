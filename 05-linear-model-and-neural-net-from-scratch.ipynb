{
 "cells": [
  {
   "cell_type": "markdown",
   "metadata": {},
   "source": [
    "## Introduction"
   ]
  },
  {
   "cell_type": "markdown",
   "metadata": {},
   "source": [
    "In this notebook we're going to build and train a deep learning model \"from scratch\" -- by which I mean that we're not going to use any pre-built architecture, or optimizers, or data loading frameworks, etc.\n",
    "\n",
    "We'll be assuming you already know the basics of how a neural network works. If you don't, read this notebook first: [How does a neural net really work?\n",
    "](https://www.kaggle.com/code/jhoward/how-does-a-neural-net-really-work). We'll be using Kaggle's [Titanic](https://www.kaggle.com/competitions/titanic/) competition in this notebook, because it's very small and simple, but also has displays many of the tricky real-life issues that we need to handle in most practical projects. (Note, however, that this competition is a small \"learner\" competition on Kaggle, so don't expect to actually see much benefits from using a neural net just yet; that will come once we try our some real competitions!)\n",
    "\n",
    "It's great to be able to run the same notebook on your own machine or Colab, as well as Kaggle. To allow for this, we use this code to download the data as needed when not on Kaggle (see [this notebook](https://www.kaggle.com/code/jhoward/getting-started-with-nlp-for-absolute-beginners/) for details about this technique):"
   ]
  },
  {
   "cell_type": "code",
   "execution_count": null,
   "metadata": {
    "ExecuteTime": {
     "end_time": "2023-06-24T01:39:24.910131Z",
     "start_time": "2023-06-24T01:39:24.910123Z"
    },
    "scrolled": true
   },
   "outputs": [],
   "source": [
    "# !pip install kaggle"
   ]
  },
  {
   "cell_type": "code",
   "execution_count": 50,
   "metadata": {
    "ExecuteTime": {
     "end_time": "2023-06-24T02:00:35.101408Z",
     "start_time": "2023-06-24T02:00:35.086600Z"
    },
    "execution": {
     "iopub.execute_input": "2022-05-30T22:34:17.763822Z",
     "iopub.status.busy": "2022-05-30T22:34:17.763494Z",
     "iopub.status.idle": "2022-05-30T22:34:17.771348Z",
     "shell.execute_reply": "2022-05-30T22:34:17.770444Z",
     "shell.execute_reply.started": "2022-05-30T22:34:17.763787Z"
    }
   },
   "outputs": [],
   "source": [
    "import os\n",
    "from pathlib import Path\n",
    "\n",
    "iskaggle = os.environ.get('KAGGLE_KERNEL_RUN_TYPE', '')\n",
    "if iskaggle: path = Path('../input/titanic')\n",
    "else:\n",
    "    path = Path('titanic')\n",
    "    if not path.exists():\n",
    "        import zipfile,kaggle\n",
    "        kaggle.api.competition_download_cli(str(path))\n",
    "        zipfile.ZipFile(f'{path}.zip').extractall(path)"
   ]
  },
  {
   "cell_type": "markdown",
   "metadata": {
    "hidden": true
   },
   "source": [
    "Note that the data for Kaggle comps always lives in the `../input` folder. The easiest way to get the path is to click the \"K\" button in the top-right of the Kaggle notebook, click on the folder shown there, and click the copy button.\n",
    "\n",
    "We'll be using *numpy* and *pytorch* for array calculations in this notebook, and *pandas* for working with tabular data, so we'll import them and set them to display using a bit more space than they default to."
   ]
  },
  {
   "cell_type": "code",
   "execution_count": 51,
   "metadata": {
    "ExecuteTime": {
     "end_time": "2023-06-24T02:00:35.475310Z",
     "start_time": "2023-06-24T02:00:35.468033Z"
    },
    "execution": {
     "iopub.execute_input": "2022-05-30T22:34:17.811857Z",
     "iopub.status.busy": "2022-05-30T22:34:17.810967Z",
     "iopub.status.idle": "2022-05-30T22:34:17.817725Z",
     "shell.execute_reply": "2022-05-30T22:34:17.816849Z",
     "shell.execute_reply.started": "2022-05-30T22:34:17.811797Z"
    }
   },
   "outputs": [],
   "source": [
    "import torch, numpy as np, pandas as pd\n",
    "np.set_printoptions(linewidth=140)\n",
    "torch.set_printoptions(linewidth=140, sci_mode=False, edgeitems=7)\n",
    "pd.set_option('display.width', 140)"
   ]
  },
  {
   "cell_type": "code",
   "execution_count": 52,
   "metadata": {
    "ExecuteTime": {
     "end_time": "2023-06-24T02:00:35.626390Z",
     "start_time": "2023-06-24T02:00:35.619853Z"
    }
   },
   "outputs": [],
   "source": [
    "# !pip install seaborn"
   ]
  },
  {
   "cell_type": "code",
   "execution_count": 53,
   "metadata": {
    "ExecuteTime": {
     "end_time": "2023-06-24T02:00:35.770116Z",
     "start_time": "2023-06-24T02:00:35.762804Z"
    }
   },
   "outputs": [],
   "source": [
    "import matplotlib.pyplot as plt\n",
    "import seaborn as sns"
   ]
  },
  {
   "cell_type": "markdown",
   "metadata": {
    "heading_collapsed": true
   },
   "source": [
    "## Cleaning the data"
   ]
  },
  {
   "cell_type": "markdown",
   "metadata": {
    "hidden": true
   },
   "source": [
    "This is a *tabular data* competition -- the data is in the form of a table. It's provided as a Comma Separated Values (CSV) file. We can open it using the *pandas* library, which will create a `DataFrame`."
   ]
  },
  {
   "cell_type": "code",
   "execution_count": 54,
   "metadata": {
    "ExecuteTime": {
     "end_time": "2023-06-24T02:00:36.890363Z",
     "start_time": "2023-06-24T02:00:36.856423Z"
    },
    "execution": {
     "iopub.execute_input": "2022-05-30T22:34:17.899238Z",
     "iopub.status.busy": "2022-05-30T22:34:17.898249Z",
     "iopub.status.idle": "2022-05-30T22:34:17.932714Z",
     "shell.execute_reply": "2022-05-30T22:34:17.931738Z",
     "shell.execute_reply.started": "2022-05-30T22:34:17.899131Z"
    },
    "hidden": true,
    "scrolled": true
   },
   "outputs": [
    {
     "data": {
      "text/html": [
       "<div>\n",
       "<style scoped>\n",
       "    .dataframe tbody tr th:only-of-type {\n",
       "        vertical-align: middle;\n",
       "    }\n",
       "\n",
       "    .dataframe tbody tr th {\n",
       "        vertical-align: top;\n",
       "    }\n",
       "\n",
       "    .dataframe thead th {\n",
       "        text-align: right;\n",
       "    }\n",
       "</style>\n",
       "<table border=\"1\" class=\"dataframe\">\n",
       "  <thead>\n",
       "    <tr style=\"text-align: right;\">\n",
       "      <th></th>\n",
       "      <th>PassengerId</th>\n",
       "      <th>Survived</th>\n",
       "      <th>Pclass</th>\n",
       "      <th>Name</th>\n",
       "      <th>Sex</th>\n",
       "      <th>Age</th>\n",
       "      <th>SibSp</th>\n",
       "      <th>Parch</th>\n",
       "      <th>Ticket</th>\n",
       "      <th>Fare</th>\n",
       "      <th>Cabin</th>\n",
       "      <th>Embarked</th>\n",
       "    </tr>\n",
       "  </thead>\n",
       "  <tbody>\n",
       "    <tr>\n",
       "      <th>0</th>\n",
       "      <td>1</td>\n",
       "      <td>0</td>\n",
       "      <td>3</td>\n",
       "      <td>Braund, Mr. Owen Harris</td>\n",
       "      <td>male</td>\n",
       "      <td>22.0</td>\n",
       "      <td>1</td>\n",
       "      <td>0</td>\n",
       "      <td>A/5 21171</td>\n",
       "      <td>7.2500</td>\n",
       "      <td>NaN</td>\n",
       "      <td>S</td>\n",
       "    </tr>\n",
       "    <tr>\n",
       "      <th>1</th>\n",
       "      <td>2</td>\n",
       "      <td>1</td>\n",
       "      <td>1</td>\n",
       "      <td>Cumings, Mrs. John Bradley (Florence Briggs Th...</td>\n",
       "      <td>female</td>\n",
       "      <td>38.0</td>\n",
       "      <td>1</td>\n",
       "      <td>0</td>\n",
       "      <td>PC 17599</td>\n",
       "      <td>71.2833</td>\n",
       "      <td>C85</td>\n",
       "      <td>C</td>\n",
       "    </tr>\n",
       "    <tr>\n",
       "      <th>2</th>\n",
       "      <td>3</td>\n",
       "      <td>1</td>\n",
       "      <td>3</td>\n",
       "      <td>Heikkinen, Miss. Laina</td>\n",
       "      <td>female</td>\n",
       "      <td>26.0</td>\n",
       "      <td>0</td>\n",
       "      <td>0</td>\n",
       "      <td>STON/O2. 3101282</td>\n",
       "      <td>7.9250</td>\n",
       "      <td>NaN</td>\n",
       "      <td>S</td>\n",
       "    </tr>\n",
       "    <tr>\n",
       "      <th>3</th>\n",
       "      <td>4</td>\n",
       "      <td>1</td>\n",
       "      <td>1</td>\n",
       "      <td>Futrelle, Mrs. Jacques Heath (Lily May Peel)</td>\n",
       "      <td>female</td>\n",
       "      <td>35.0</td>\n",
       "      <td>1</td>\n",
       "      <td>0</td>\n",
       "      <td>113803</td>\n",
       "      <td>53.1000</td>\n",
       "      <td>C123</td>\n",
       "      <td>S</td>\n",
       "    </tr>\n",
       "    <tr>\n",
       "      <th>4</th>\n",
       "      <td>5</td>\n",
       "      <td>0</td>\n",
       "      <td>3</td>\n",
       "      <td>Allen, Mr. William Henry</td>\n",
       "      <td>male</td>\n",
       "      <td>35.0</td>\n",
       "      <td>0</td>\n",
       "      <td>0</td>\n",
       "      <td>373450</td>\n",
       "      <td>8.0500</td>\n",
       "      <td>NaN</td>\n",
       "      <td>S</td>\n",
       "    </tr>\n",
       "    <tr>\n",
       "      <th>...</th>\n",
       "      <td>...</td>\n",
       "      <td>...</td>\n",
       "      <td>...</td>\n",
       "      <td>...</td>\n",
       "      <td>...</td>\n",
       "      <td>...</td>\n",
       "      <td>...</td>\n",
       "      <td>...</td>\n",
       "      <td>...</td>\n",
       "      <td>...</td>\n",
       "      <td>...</td>\n",
       "      <td>...</td>\n",
       "    </tr>\n",
       "    <tr>\n",
       "      <th>886</th>\n",
       "      <td>887</td>\n",
       "      <td>0</td>\n",
       "      <td>2</td>\n",
       "      <td>Montvila, Rev. Juozas</td>\n",
       "      <td>male</td>\n",
       "      <td>27.0</td>\n",
       "      <td>0</td>\n",
       "      <td>0</td>\n",
       "      <td>211536</td>\n",
       "      <td>13.0000</td>\n",
       "      <td>NaN</td>\n",
       "      <td>S</td>\n",
       "    </tr>\n",
       "    <tr>\n",
       "      <th>887</th>\n",
       "      <td>888</td>\n",
       "      <td>1</td>\n",
       "      <td>1</td>\n",
       "      <td>Graham, Miss. Margaret Edith</td>\n",
       "      <td>female</td>\n",
       "      <td>19.0</td>\n",
       "      <td>0</td>\n",
       "      <td>0</td>\n",
       "      <td>112053</td>\n",
       "      <td>30.0000</td>\n",
       "      <td>B42</td>\n",
       "      <td>S</td>\n",
       "    </tr>\n",
       "    <tr>\n",
       "      <th>888</th>\n",
       "      <td>889</td>\n",
       "      <td>0</td>\n",
       "      <td>3</td>\n",
       "      <td>Johnston, Miss. Catherine Helen \"Carrie\"</td>\n",
       "      <td>female</td>\n",
       "      <td>NaN</td>\n",
       "      <td>1</td>\n",
       "      <td>2</td>\n",
       "      <td>W./C. 6607</td>\n",
       "      <td>23.4500</td>\n",
       "      <td>NaN</td>\n",
       "      <td>S</td>\n",
       "    </tr>\n",
       "    <tr>\n",
       "      <th>889</th>\n",
       "      <td>890</td>\n",
       "      <td>1</td>\n",
       "      <td>1</td>\n",
       "      <td>Behr, Mr. Karl Howell</td>\n",
       "      <td>male</td>\n",
       "      <td>26.0</td>\n",
       "      <td>0</td>\n",
       "      <td>0</td>\n",
       "      <td>111369</td>\n",
       "      <td>30.0000</td>\n",
       "      <td>C148</td>\n",
       "      <td>C</td>\n",
       "    </tr>\n",
       "    <tr>\n",
       "      <th>890</th>\n",
       "      <td>891</td>\n",
       "      <td>0</td>\n",
       "      <td>3</td>\n",
       "      <td>Dooley, Mr. Patrick</td>\n",
       "      <td>male</td>\n",
       "      <td>32.0</td>\n",
       "      <td>0</td>\n",
       "      <td>0</td>\n",
       "      <td>370376</td>\n",
       "      <td>7.7500</td>\n",
       "      <td>NaN</td>\n",
       "      <td>Q</td>\n",
       "    </tr>\n",
       "  </tbody>\n",
       "</table>\n",
       "<p>891 rows × 12 columns</p>\n",
       "</div>"
      ],
      "text/plain": [
       "     PassengerId  Survived  Pclass                                               Name     Sex   Age  SibSp  Parch            Ticket  \\\n",
       "0              1         0       3                            Braund, Mr. Owen Harris    male  22.0      1      0         A/5 21171   \n",
       "1              2         1       1  Cumings, Mrs. John Bradley (Florence Briggs Th...  female  38.0      1      0          PC 17599   \n",
       "2              3         1       3                             Heikkinen, Miss. Laina  female  26.0      0      0  STON/O2. 3101282   \n",
       "3              4         1       1       Futrelle, Mrs. Jacques Heath (Lily May Peel)  female  35.0      1      0            113803   \n",
       "4              5         0       3                           Allen, Mr. William Henry    male  35.0      0      0            373450   \n",
       "..           ...       ...     ...                                                ...     ...   ...    ...    ...               ...   \n",
       "886          887         0       2                              Montvila, Rev. Juozas    male  27.0      0      0            211536   \n",
       "887          888         1       1                       Graham, Miss. Margaret Edith  female  19.0      0      0            112053   \n",
       "888          889         0       3           Johnston, Miss. Catherine Helen \"Carrie\"  female   NaN      1      2        W./C. 6607   \n",
       "889          890         1       1                              Behr, Mr. Karl Howell    male  26.0      0      0            111369   \n",
       "890          891         0       3                                Dooley, Mr. Patrick    male  32.0      0      0            370376   \n",
       "\n",
       "        Fare Cabin Embarked  \n",
       "0     7.2500   NaN        S  \n",
       "1    71.2833   C85        C  \n",
       "2     7.9250   NaN        S  \n",
       "3    53.1000  C123        S  \n",
       "4     8.0500   NaN        S  \n",
       "..       ...   ...      ...  \n",
       "886  13.0000   NaN        S  \n",
       "887  30.0000   B42        S  \n",
       "888  23.4500   NaN        S  \n",
       "889  30.0000  C148        C  \n",
       "890   7.7500   NaN        Q  \n",
       "\n",
       "[891 rows x 12 columns]"
      ]
     },
     "execution_count": 54,
     "metadata": {},
     "output_type": "execute_result"
    }
   ],
   "source": [
    "df = pd.read_csv(path/'train.csv')\n",
    "df"
   ]
  },
  {
   "cell_type": "markdown",
   "metadata": {
    "hidden": true
   },
   "source": [
    "As we learned in the *How does a neural net really work* notebook, we going to want to multiply each column by some coefficients. But we can see in the `Cabin` column that there are `NaN` values, which is how Pandas refers to missing values. We can't multiply something by a missing value!\n",
    "\n",
    "Let's check which columns contain `NaN` values. Pandas' `isna()` function returns `True` (which is treated as `1` when used as a number) for `NaN` values, so we can just add them up for each column:"
   ]
  },
  {
   "cell_type": "code",
   "execution_count": 55,
   "metadata": {
    "ExecuteTime": {
     "end_time": "2023-06-24T02:00:37.293996Z",
     "start_time": "2023-06-24T02:00:37.276403Z"
    },
    "execution": {
     "iopub.execute_input": "2022-05-30T22:34:17.955557Z",
     "iopub.status.busy": "2022-05-30T22:34:17.95524Z",
     "iopub.status.idle": "2022-05-30T22:34:17.966199Z",
     "shell.execute_reply": "2022-05-30T22:34:17.96534Z",
     "shell.execute_reply.started": "2022-05-30T22:34:17.955525Z"
    },
    "hidden": true
   },
   "outputs": [
    {
     "data": {
      "text/plain": [
       "PassengerId      0\n",
       "Survived         0\n",
       "Pclass           0\n",
       "Name             0\n",
       "Sex              0\n",
       "Age            177\n",
       "SibSp            0\n",
       "Parch            0\n",
       "Ticket           0\n",
       "Fare             0\n",
       "Cabin          687\n",
       "Embarked         2\n",
       "dtype: int64"
      ]
     },
     "execution_count": 55,
     "metadata": {},
     "output_type": "execute_result"
    }
   ],
   "source": [
    "df.isna().sum()"
   ]
  },
  {
   "cell_type": "markdown",
   "metadata": {
    "hidden": true
   },
   "source": [
    "Notice that by default Pandas sums over columns.\n",
    "\n",
    "We'll need to replace the missing values with something. It doesn't generally matter too much what we choose. We'll use the most common value (the \"*mode*\"). We can use the `mode` function for that. One wrinkle is that it returns more than one row in the case of ties, so we just grab the first row with `iloc[0]`:"
   ]
  },
  {
   "cell_type": "code",
   "execution_count": 56,
   "metadata": {
    "ExecuteTime": {
     "end_time": "2023-06-24T02:00:37.619121Z",
     "start_time": "2023-06-24T02:00:37.591658Z"
    },
    "execution": {
     "iopub.execute_input": "2022-05-30T22:34:18.012387Z",
     "iopub.status.busy": "2022-05-30T22:34:18.011876Z",
     "iopub.status.idle": "2022-05-30T22:34:18.030165Z",
     "shell.execute_reply": "2022-05-30T22:34:18.029316Z",
     "shell.execute_reply.started": "2022-05-30T22:34:18.012338Z"
    },
    "hidden": true
   },
   "outputs": [
    {
     "data": {
      "text/plain": [
       "PassengerId                      1\n",
       "Survived                       0.0\n",
       "Pclass                         3.0\n",
       "Name           Abbing, Mr. Anthony\n",
       "Sex                           male\n",
       "Age                           24.0\n",
       "SibSp                          0.0\n",
       "Parch                          0.0\n",
       "Ticket                        1601\n",
       "Fare                          8.05\n",
       "Cabin                      B96 B98\n",
       "Embarked                         S\n",
       "Name: 0, dtype: object"
      ]
     },
     "execution_count": 56,
     "metadata": {},
     "output_type": "execute_result"
    }
   ],
   "source": [
    "modes = df.mode().iloc[0]\n",
    "modes"
   ]
  },
  {
   "cell_type": "markdown",
   "metadata": {
    "hidden": true
   },
   "source": [
    "BTW, it's never a good idea to use functions without understanding them. So be sure to google for anything you're not familiar with. E.g if you want to learn about `iloc` (which is a very important function indeed!) then Google will give you a link to a [great tutorial](https://www.shanelynn.ie/pandas-iloc-loc-select-rows-and-columns-dataframe/).\n",
    "\n",
    "Now that we've got the mode of each column, we can use `fillna` to replace the missing values with the mode of each column. We'll do it \"in place\" -- meaning that we'll change the dataframe itself, rather than returning a new one."
   ]
  },
  {
   "cell_type": "code",
   "execution_count": 57,
   "metadata": {
    "ExecuteTime": {
     "end_time": "2023-06-24T02:00:37.869780Z",
     "start_time": "2023-06-24T02:00:37.856454Z"
    },
    "execution": {
     "iopub.execute_input": "2022-05-30T22:34:18.069624Z",
     "iopub.status.busy": "2022-05-30T22:34:18.069123Z",
     "iopub.status.idle": "2022-05-30T22:34:18.078805Z",
     "shell.execute_reply": "2022-05-30T22:34:18.077978Z",
     "shell.execute_reply.started": "2022-05-30T22:34:18.069573Z"
    },
    "hidden": true
   },
   "outputs": [],
   "source": [
    "df.fillna(modes, inplace=True)"
   ]
  },
  {
   "cell_type": "markdown",
   "metadata": {
    "hidden": true
   },
   "source": [
    "We can now check there's no missing values left:"
   ]
  },
  {
   "cell_type": "code",
   "execution_count": 58,
   "metadata": {
    "ExecuteTime": {
     "end_time": "2023-06-24T02:00:38.153847Z",
     "start_time": "2023-06-24T02:00:38.129801Z"
    },
    "execution": {
     "iopub.execute_input": "2022-05-30T22:34:18.139844Z",
     "iopub.status.busy": "2022-05-30T22:34:18.13936Z",
     "iopub.status.idle": "2022-05-30T22:34:18.149896Z",
     "shell.execute_reply": "2022-05-30T22:34:18.148884Z",
     "shell.execute_reply.started": "2022-05-30T22:34:18.139793Z"
    },
    "hidden": true
   },
   "outputs": [
    {
     "data": {
      "text/plain": [
       "PassengerId    0\n",
       "Survived       0\n",
       "Pclass         0\n",
       "Name           0\n",
       "Sex            0\n",
       "Age            0\n",
       "SibSp          0\n",
       "Parch          0\n",
       "Ticket         0\n",
       "Fare           0\n",
       "Cabin          0\n",
       "Embarked       0\n",
       "dtype: int64"
      ]
     },
     "execution_count": 58,
     "metadata": {},
     "output_type": "execute_result"
    }
   ],
   "source": [
    "df.isna().sum()"
   ]
  },
  {
   "cell_type": "markdown",
   "metadata": {
    "hidden": true
   },
   "source": [
    "Here's how we get a quick summary of all the numeric columns in the dataset:"
   ]
  },
  {
   "cell_type": "code",
   "execution_count": 59,
   "metadata": {
    "ExecuteTime": {
     "end_time": "2023-06-24T02:00:38.442144Z",
     "start_time": "2023-06-24T02:00:38.418464Z"
    },
    "execution": {
     "iopub.execute_input": "2022-05-30T22:34:18.205953Z",
     "iopub.status.busy": "2022-05-30T22:34:18.205483Z",
     "iopub.status.idle": "2022-05-30T22:34:18.240196Z",
     "shell.execute_reply": "2022-05-30T22:34:18.239106Z",
     "shell.execute_reply.started": "2022-05-30T22:34:18.205897Z"
    },
    "hidden": true
   },
   "outputs": [
    {
     "data": {
      "text/html": [
       "<div>\n",
       "<style scoped>\n",
       "    .dataframe tbody tr th:only-of-type {\n",
       "        vertical-align: middle;\n",
       "    }\n",
       "\n",
       "    .dataframe tbody tr th {\n",
       "        vertical-align: top;\n",
       "    }\n",
       "\n",
       "    .dataframe thead th {\n",
       "        text-align: right;\n",
       "    }\n",
       "</style>\n",
       "<table border=\"1\" class=\"dataframe\">\n",
       "  <thead>\n",
       "    <tr style=\"text-align: right;\">\n",
       "      <th></th>\n",
       "      <th>PassengerId</th>\n",
       "      <th>Survived</th>\n",
       "      <th>Pclass</th>\n",
       "      <th>Age</th>\n",
       "      <th>SibSp</th>\n",
       "      <th>Parch</th>\n",
       "      <th>Fare</th>\n",
       "    </tr>\n",
       "  </thead>\n",
       "  <tbody>\n",
       "    <tr>\n",
       "      <th>count</th>\n",
       "      <td>891.000000</td>\n",
       "      <td>891.000000</td>\n",
       "      <td>891.000000</td>\n",
       "      <td>891.000000</td>\n",
       "      <td>891.000000</td>\n",
       "      <td>891.000000</td>\n",
       "      <td>891.000000</td>\n",
       "    </tr>\n",
       "    <tr>\n",
       "      <th>mean</th>\n",
       "      <td>446.000000</td>\n",
       "      <td>0.383838</td>\n",
       "      <td>2.308642</td>\n",
       "      <td>28.566970</td>\n",
       "      <td>0.523008</td>\n",
       "      <td>0.381594</td>\n",
       "      <td>32.204208</td>\n",
       "    </tr>\n",
       "    <tr>\n",
       "      <th>std</th>\n",
       "      <td>257.353842</td>\n",
       "      <td>0.486592</td>\n",
       "      <td>0.836071</td>\n",
       "      <td>13.199572</td>\n",
       "      <td>1.102743</td>\n",
       "      <td>0.806057</td>\n",
       "      <td>49.693429</td>\n",
       "    </tr>\n",
       "    <tr>\n",
       "      <th>min</th>\n",
       "      <td>1.000000</td>\n",
       "      <td>0.000000</td>\n",
       "      <td>1.000000</td>\n",
       "      <td>0.420000</td>\n",
       "      <td>0.000000</td>\n",
       "      <td>0.000000</td>\n",
       "      <td>0.000000</td>\n",
       "    </tr>\n",
       "    <tr>\n",
       "      <th>25%</th>\n",
       "      <td>223.500000</td>\n",
       "      <td>0.000000</td>\n",
       "      <td>2.000000</td>\n",
       "      <td>22.000000</td>\n",
       "      <td>0.000000</td>\n",
       "      <td>0.000000</td>\n",
       "      <td>7.910400</td>\n",
       "    </tr>\n",
       "    <tr>\n",
       "      <th>50%</th>\n",
       "      <td>446.000000</td>\n",
       "      <td>0.000000</td>\n",
       "      <td>3.000000</td>\n",
       "      <td>24.000000</td>\n",
       "      <td>0.000000</td>\n",
       "      <td>0.000000</td>\n",
       "      <td>14.454200</td>\n",
       "    </tr>\n",
       "    <tr>\n",
       "      <th>75%</th>\n",
       "      <td>668.500000</td>\n",
       "      <td>1.000000</td>\n",
       "      <td>3.000000</td>\n",
       "      <td>35.000000</td>\n",
       "      <td>1.000000</td>\n",
       "      <td>0.000000</td>\n",
       "      <td>31.000000</td>\n",
       "    </tr>\n",
       "    <tr>\n",
       "      <th>max</th>\n",
       "      <td>891.000000</td>\n",
       "      <td>1.000000</td>\n",
       "      <td>3.000000</td>\n",
       "      <td>80.000000</td>\n",
       "      <td>8.000000</td>\n",
       "      <td>6.000000</td>\n",
       "      <td>512.329200</td>\n",
       "    </tr>\n",
       "  </tbody>\n",
       "</table>\n",
       "</div>"
      ],
      "text/plain": [
       "       PassengerId    Survived      Pclass         Age       SibSp       Parch        Fare\n",
       "count   891.000000  891.000000  891.000000  891.000000  891.000000  891.000000  891.000000\n",
       "mean    446.000000    0.383838    2.308642   28.566970    0.523008    0.381594   32.204208\n",
       "std     257.353842    0.486592    0.836071   13.199572    1.102743    0.806057   49.693429\n",
       "min       1.000000    0.000000    1.000000    0.420000    0.000000    0.000000    0.000000\n",
       "25%     223.500000    0.000000    2.000000   22.000000    0.000000    0.000000    7.910400\n",
       "50%     446.000000    0.000000    3.000000   24.000000    0.000000    0.000000   14.454200\n",
       "75%     668.500000    1.000000    3.000000   35.000000    1.000000    0.000000   31.000000\n",
       "max     891.000000    1.000000    3.000000   80.000000    8.000000    6.000000  512.329200"
      ]
     },
     "execution_count": 59,
     "metadata": {},
     "output_type": "execute_result"
    }
   ],
   "source": [
    "import numpy as np\n",
    "\n",
    "df.describe(include=(np.number))"
   ]
  },
  {
   "cell_type": "markdown",
   "metadata": {
    "execution": {
     "iopub.execute_input": "2022-05-13T11:02:34.328433Z",
     "iopub.status.busy": "2022-05-13T11:02:34.327999Z",
     "iopub.status.idle": "2022-05-13T11:02:34.336993Z",
     "shell.execute_reply": "2022-05-13T11:02:34.335466Z",
     "shell.execute_reply.started": "2022-05-13T11:02:34.32838Z"
    },
    "hidden": true
   },
   "source": [
    "We can see that `Fare` contains mainly values of around `0` to `30`, but there's a few really big ones. <span style=\"color:red\">This is very common with fields contain monetary values, and it can cause problems for our model, because once that column is multiplied by a coefficient later, the few rows with really big values will dominate the result.</span>\n",
    "\n",
    "<span style=\"color:blue\">You can see the issue most clearly visually by looking at a histogram, which shows <b>a long tail to the right</b></span> (and don't forget: if you're not entirely sure what a histogram is, Google \"[histogram tutorial](https://www.google.com/search?q=histogram+tutorial&oq=histogram+tutorial)\" and do a bit of reading before continuing on):"
   ]
  },
  {
   "cell_type": "code",
   "execution_count": 60,
   "metadata": {
    "ExecuteTime": {
     "end_time": "2023-06-24T02:00:38.785344Z",
     "start_time": "2023-06-24T02:00:38.692805Z"
    },
    "execution": {
     "iopub.execute_input": "2022-05-30T22:34:18.242123Z",
     "iopub.status.busy": "2022-05-30T22:34:18.241874Z",
     "iopub.status.idle": "2022-05-30T22:34:18.471439Z",
     "shell.execute_reply": "2022-05-30T22:34:18.470441Z",
     "shell.execute_reply.started": "2022-05-30T22:34:18.242094Z"
    },
    "hidden": true
   },
   "outputs": [
    {
     "data": {
      "image/png": "[encoded data removed]",
      "text/plain": [
       "<Figure size 640x480 with 1 Axes>"
      ]
     },
     "metadata": {},
     "output_type": "display_data"
    }
   ],
   "source": [
    "df['Fare'].hist();"
   ]
  },
  {
   "cell_type": "markdown",
   "metadata": {
    "execution": {
     "iopub.execute_input": "2022-05-13T11:02:34.328433Z",
     "iopub.status.busy": "2022-05-13T11:02:34.327999Z",
     "iopub.status.idle": "2022-05-13T11:02:34.336993Z",
     "shell.execute_reply": "2022-05-13T11:02:34.335466Z",
     "shell.execute_reply.started": "2022-05-13T11:02:34.32838Z"
    },
    "hidden": true
   },
   "source": [
    "<span style=\"color:green\">To fix this, the most common approach is to take the logarithm, which squishes the big numbers and makes the distribution more reasonable</span>. Note, however, that there are zeros in the `Fare` column, and `log(0)` is infinite -- to fix this, we'll simply add `1` to all values first:"
   ]
  },
  {
   "cell_type": "code",
   "execution_count": 61,
   "metadata": {
    "ExecuteTime": {
     "end_time": "2023-06-24T02:00:39.451032Z",
     "start_time": "2023-06-24T02:00:39.440651Z"
    },
    "execution": {
     "iopub.execute_input": "2022-05-30T22:34:18.47382Z",
     "iopub.status.busy": "2022-05-30T22:34:18.473109Z",
     "iopub.status.idle": "2022-05-30T22:34:18.478776Z",
     "shell.execute_reply": "2022-05-30T22:34:18.478149Z",
     "shell.execute_reply.started": "2022-05-30T22:34:18.473778Z"
    },
    "hidden": true
   },
   "outputs": [],
   "source": [
    "df['LogFare'] = np.log(df['Fare']+1)"
   ]
  },
  {
   "cell_type": "markdown",
   "metadata": {
    "hidden": true
   },
   "source": [
    "The histogram now shows a more even distribution of values without the long tail:"
   ]
  },
  {
   "cell_type": "code",
   "execution_count": 62,
   "metadata": {
    "ExecuteTime": {
     "end_time": "2023-06-24T02:00:40.487868Z",
     "start_time": "2023-06-24T02:00:40.391954Z"
    },
    "execution": {
     "iopub.execute_input": "2022-05-30T22:34:18.480926Z",
     "iopub.status.busy": "2022-05-30T22:34:18.480088Z",
     "iopub.status.idle": "2022-05-30T22:34:18.855605Z",
     "shell.execute_reply": "2022-05-30T22:34:18.854915Z",
     "shell.execute_reply.started": "2022-05-30T22:34:18.480885Z"
    },
    "hidden": true
   },
   "outputs": [
    {
     "data": {
      "image/png": "[encoded data removed]",
      "text/plain": [
       "<Figure size 640x480 with 1 Axes>"
      ]
     },
     "metadata": {},
     "output_type": "display_data"
    }
   ],
   "source": [
    "df['LogFare'].hist();"
   ]
  },
  {
   "cell_type": "markdown",
   "metadata": {
    "hidden": true
   },
   "source": [
    "It looks from the `describe()` output like `Pclass` contains just 3 values, which we can confirm by looking at the [Data Dictionary](https://www.kaggle.com/competitions/titanic/data) (which you should always study carefully for any project!) -- "
   ]
  },
  {
   "cell_type": "code",
   "execution_count": 63,
   "metadata": {
    "ExecuteTime": {
     "end_time": "2023-06-24T02:00:41.541892Z",
     "start_time": "2023-06-24T02:00:41.523088Z"
    },
    "execution": {
     "iopub.execute_input": "2022-05-30T22:34:18.857676Z",
     "iopub.status.busy": "2022-05-30T22:34:18.857312Z",
     "iopub.status.idle": "2022-05-30T22:34:18.863672Z",
     "shell.execute_reply": "2022-05-30T22:34:18.862791Z",
     "shell.execute_reply.started": "2022-05-30T22:34:18.857643Z"
    },
    "hidden": true
   },
   "outputs": [
    {
     "data": {
      "text/plain": [
       "[1, 2, 3]"
      ]
     },
     "execution_count": 63,
     "metadata": {},
     "output_type": "execute_result"
    }
   ],
   "source": [
    "pclasses = sorted(df.Pclass.unique())\n",
    "pclasses"
   ]
  },
  {
   "cell_type": "code",
   "execution_count": 64,
   "metadata": {
    "ExecuteTime": {
     "end_time": "2023-06-24T02:00:41.877387Z",
     "start_time": "2023-06-24T02:00:41.798780Z"
    }
   },
   "outputs": [
    {
     "data": {
      "image/png": "[encoded data removed]",
      "text/plain": [
       "<Figure size 500x250 with 1 Axes>"
      ]
     },
     "metadata": {},
     "output_type": "display_data"
    }
   ],
   "source": [
    "plt.figure(figsize=(5,2.5))\n",
    "sns.countplot(x=df.Pclass)\n",
    "plt.grid(axis='y')"
   ]
  },
  {
   "cell_type": "markdown",
   "metadata": {
    "hidden": true
   },
   "source": [
    "Here's how we get a quick summary of all the non-numeric columns in the dataset:"
   ]
  },
  {
   "cell_type": "code",
   "execution_count": 65,
   "metadata": {
    "ExecuteTime": {
     "end_time": "2023-06-24T02:00:42.204219Z",
     "start_time": "2023-06-24T02:00:42.195411Z"
    },
    "execution": {
     "iopub.execute_input": "2022-05-30T22:34:18.865154Z",
     "iopub.status.busy": "2022-05-30T22:34:18.864893Z",
     "iopub.status.idle": "2022-05-30T22:34:18.89758Z",
     "shell.execute_reply": "2022-05-30T22:34:18.896706Z",
     "shell.execute_reply.started": "2022-05-30T22:34:18.865115Z"
    },
    "hidden": true
   },
   "outputs": [
    {
     "data": {
      "text/html": [
       "<div>\n",
       "<style scoped>\n",
       "    .dataframe tbody tr th:only-of-type {\n",
       "        vertical-align: middle;\n",
       "    }\n",
       "\n",
       "    .dataframe tbody tr th {\n",
       "        vertical-align: top;\n",
       "    }\n",
       "\n",
       "    .dataframe thead th {\n",
       "        text-align: right;\n",
       "    }\n",
       "</style>\n",
       "<table border=\"1\" class=\"dataframe\">\n",
       "  <thead>\n",
       "    <tr style=\"text-align: right;\">\n",
       "      <th></th>\n",
       "      <th>Name</th>\n",
       "      <th>Sex</th>\n",
       "      <th>Ticket</th>\n",
       "      <th>Cabin</th>\n",
       "      <th>Embarked</th>\n",
       "    </tr>\n",
       "  </thead>\n",
       "  <tbody>\n",
       "    <tr>\n",
       "      <th>count</th>\n",
       "      <td>891</td>\n",
       "      <td>891</td>\n",
       "      <td>891</td>\n",
       "      <td>891</td>\n",
       "      <td>891</td>\n",
       "    </tr>\n",
       "    <tr>\n",
       "      <th>unique</th>\n",
       "      <td>891</td>\n",
       "      <td>2</td>\n",
       "      <td>681</td>\n",
       "      <td>147</td>\n",
       "      <td>3</td>\n",
       "    </tr>\n",
       "    <tr>\n",
       "      <th>top</th>\n",
       "      <td>Braund, Mr. Owen Harris</td>\n",
       "      <td>male</td>\n",
       "      <td>347082</td>\n",
       "      <td>B96 B98</td>\n",
       "      <td>S</td>\n",
       "    </tr>\n",
       "    <tr>\n",
       "      <th>freq</th>\n",
       "      <td>1</td>\n",
       "      <td>577</td>\n",
       "      <td>7</td>\n",
       "      <td>691</td>\n",
       "      <td>646</td>\n",
       "    </tr>\n",
       "  </tbody>\n",
       "</table>\n",
       "</div>"
      ],
      "text/plain": [
       "                           Name   Sex  Ticket    Cabin Embarked\n",
       "count                       891   891     891      891      891\n",
       "unique                      891     2     681      147        3\n",
       "top     Braund, Mr. Owen Harris  male  347082  B96 B98        S\n",
       "freq                          1   577       7      691      646"
      ]
     },
     "execution_count": 65,
     "metadata": {},
     "output_type": "execute_result"
    }
   ],
   "source": [
    "df.describe(include=[object])"
   ]
  },
  {
   "cell_type": "markdown",
   "metadata": {
    "hidden": true
   },
   "source": [
    "Clearly we can't multiply strings like `male` or `S` by coefficients, so we need to replace those with numbers.\n",
    "\n",
    "We do that by creating new columns containing *dummy variables*. A dummy variable is a column that contains a `1` where a particular column contains a particular value, or a `0` otherwise. For instance, we could create a dummy variable for `Sex='male'`, which would be a new column containing `1` for rows where `Sex` is `'male'`, and 0 for rows where it isn't.\n",
    "\n",
    "Pandas can create these automatically using `get_dummies`, which also remove the original columns. We'll create dummy variables for `Pclass`, even although it's numeric, since the numbers `1`, `2`, and `3` correspond to first, second, and third class cabins - not to counts or measures that make sense to multiply by. We'll also create dummies for `Sex` and `Embarked` since we'll want to use those as predictors in our model. On the other hand, `Cabin`, `Name`, and `Ticket` have too many unique values for it to make sense creating dummy variables for them."
   ]
  },
  {
   "cell_type": "code",
   "execution_count": 66,
   "metadata": {
    "ExecuteTime": {
     "end_time": "2023-06-24T02:00:42.998212Z",
     "start_time": "2023-06-24T02:00:42.982321Z"
    },
    "execution": {
     "iopub.execute_input": "2022-05-30T22:34:18.899369Z",
     "iopub.status.busy": "2022-05-30T22:34:18.899127Z",
     "iopub.status.idle": "2022-05-30T22:34:18.914993Z",
     "shell.execute_reply": "2022-05-30T22:34:18.914167Z",
     "shell.execute_reply.started": "2022-05-30T22:34:18.899338Z"
    },
    "hidden": true
   },
   "outputs": [
    {
     "data": {
      "text/plain": [
       "Index(['PassengerId', 'Survived', 'Name', 'Age', 'SibSp', 'Parch', 'Ticket', 'Fare', 'Cabin', 'LogFare', 'Sex_female', 'Sex_male',\n",
       "       'Pclass_1', 'Pclass_2', 'Pclass_3', 'Embarked_C', 'Embarked_Q', 'Embarked_S'],\n",
       "      dtype='object')"
      ]
     },
     "execution_count": 66,
     "metadata": {},
     "output_type": "execute_result"
    }
   ],
   "source": [
    "df = pd.get_dummies(df, columns=[\"Sex\",\"Pclass\",\"Embarked\"])\n",
    "df.columns"
   ]
  },
  {
   "cell_type": "markdown",
   "metadata": {
    "hidden": true
   },
   "source": [
    "We can see that 5 columns have been added to the end -- one for each of the possible values of each of the three columns we requested, and that those three requested columns have been removed.\n",
    "\n",
    "Here's what the first few rows of those newly added columns look like:"
   ]
  },
  {
   "cell_type": "code",
   "execution_count": 67,
   "metadata": {
    "ExecuteTime": {
     "end_time": "2023-06-24T02:00:43.937465Z",
     "start_time": "2023-06-24T02:00:43.919202Z"
    },
    "execution": {
     "iopub.execute_input": "2022-05-30T22:34:18.916456Z",
     "iopub.status.busy": "2022-05-30T22:34:18.916186Z",
     "iopub.status.idle": "2022-05-30T22:34:18.933746Z",
     "shell.execute_reply": "2022-05-30T22:34:18.933135Z",
     "shell.execute_reply.started": "2022-05-30T22:34:18.916426Z"
    },
    "hidden": true
   },
   "outputs": [
    {
     "data": {
      "text/html": [
       "<div>\n",
       "<style scoped>\n",
       "    .dataframe tbody tr th:only-of-type {\n",
       "        vertical-align: middle;\n",
       "    }\n",
       "\n",
       "    .dataframe tbody tr th {\n",
       "        vertical-align: top;\n",
       "    }\n",
       "\n",
       "    .dataframe thead th {\n",
       "        text-align: right;\n",
       "    }\n",
       "</style>\n",
       "<table border=\"1\" class=\"dataframe\">\n",
       "  <thead>\n",
       "    <tr style=\"text-align: right;\">\n",
       "      <th></th>\n",
       "      <th>Sex_male</th>\n",
       "      <th>Sex_female</th>\n",
       "      <th>Pclass_1</th>\n",
       "      <th>Pclass_2</th>\n",
       "      <th>Pclass_3</th>\n",
       "      <th>Embarked_C</th>\n",
       "      <th>Embarked_Q</th>\n",
       "      <th>Embarked_S</th>\n",
       "    </tr>\n",
       "  </thead>\n",
       "  <tbody>\n",
       "    <tr>\n",
       "      <th>0</th>\n",
       "      <td>True</td>\n",
       "      <td>False</td>\n",
       "      <td>False</td>\n",
       "      <td>False</td>\n",
       "      <td>True</td>\n",
       "      <td>False</td>\n",
       "      <td>False</td>\n",
       "      <td>True</td>\n",
       "    </tr>\n",
       "    <tr>\n",
       "      <th>1</th>\n",
       "      <td>False</td>\n",
       "      <td>True</td>\n",
       "      <td>True</td>\n",
       "      <td>False</td>\n",
       "      <td>False</td>\n",
       "      <td>True</td>\n",
       "      <td>False</td>\n",
       "      <td>False</td>\n",
       "    </tr>\n",
       "    <tr>\n",
       "      <th>2</th>\n",
       "      <td>False</td>\n",
       "      <td>True</td>\n",
       "      <td>False</td>\n",
       "      <td>False</td>\n",
       "      <td>True</td>\n",
       "      <td>False</td>\n",
       "      <td>False</td>\n",
       "      <td>True</td>\n",
       "    </tr>\n",
       "    <tr>\n",
       "      <th>3</th>\n",
       "      <td>False</td>\n",
       "      <td>True</td>\n",
       "      <td>True</td>\n",
       "      <td>False</td>\n",
       "      <td>False</td>\n",
       "      <td>False</td>\n",
       "      <td>False</td>\n",
       "      <td>True</td>\n",
       "    </tr>\n",
       "    <tr>\n",
       "      <th>4</th>\n",
       "      <td>True</td>\n",
       "      <td>False</td>\n",
       "      <td>False</td>\n",
       "      <td>False</td>\n",
       "      <td>True</td>\n",
       "      <td>False</td>\n",
       "      <td>False</td>\n",
       "      <td>True</td>\n",
       "    </tr>\n",
       "  </tbody>\n",
       "</table>\n",
       "</div>"
      ],
      "text/plain": [
       "   Sex_male  Sex_female  Pclass_1  Pclass_2  Pclass_3  Embarked_C  Embarked_Q  Embarked_S\n",
       "0      True       False     False     False      True       False       False        True\n",
       "1     False        True      True     False     False        True       False       False\n",
       "2     False        True     False     False      True       False       False        True\n",
       "3     False        True      True     False     False       False       False        True\n",
       "4      True       False     False     False      True       False       False        True"
      ]
     },
     "execution_count": 67,
     "metadata": {},
     "output_type": "execute_result"
    }
   ],
   "source": [
    "added_cols = ['Sex_male', 'Sex_female', \n",
    "              'Pclass_1', 'Pclass_2', 'Pclass_3', \n",
    "              'Embarked_C', 'Embarked_Q', 'Embarked_S']\n",
    "df[added_cols].head()"
   ]
  },
  {
   "cell_type": "markdown",
   "metadata": {
    "hidden": true
   },
   "source": [
    "Now we can create our independent (predictors) and dependent (target) variables. They both need to be PyTorch tensors. Our dependent variable is `Survived`:"
   ]
  },
  {
   "cell_type": "code",
   "execution_count": 76,
   "metadata": {
    "ExecuteTime": {
     "end_time": "2023-06-24T02:06:55.033222Z",
     "start_time": "2023-06-24T02:06:55.016263Z"
    },
    "execution": {
     "iopub.execute_input": "2022-05-30T22:34:18.935422Z",
     "iopub.status.busy": "2022-05-30T22:34:18.934648Z",
     "iopub.status.idle": "2022-05-30T22:34:18.944596Z",
     "shell.execute_reply": "2022-05-30T22:34:18.943444Z",
     "shell.execute_reply.started": "2022-05-30T22:34:18.935384Z"
    },
    "hidden": true
   },
   "outputs": [
    {
     "data": {
      "text/plain": [
       "tensor([0, 1, 1, 1, 0, 0, 0, 0, 1, 1])"
      ]
     },
     "execution_count": 76,
     "metadata": {},
     "output_type": "execute_result"
    }
   ],
   "source": [
    "from torch import tensor\n",
    "\n",
    "t_dep = tensor(df.Survived)\n",
    "t_dep[:10]"
   ]
  },
  {
   "cell_type": "code",
   "execution_count": 80,
   "metadata": {
    "ExecuteTime": {
     "end_time": "2023-06-24T02:07:41.340553Z",
     "start_time": "2023-06-24T02:07:41.331503Z"
    }
   },
   "outputs": [
    {
     "name": "stdout",
     "output_type": "stream",
     "text": [
      "t_dep.shape=torch.Size([891])\n",
      "Rank=1\n"
     ]
    }
   ],
   "source": [
    "print (f\"t_dep.shape={t_dep.shape}\")\n",
    "print (f\"Rank={len(t_dep.shape)}\") # => 1D"
   ]
  },
  {
   "cell_type": "markdown",
   "metadata": {
    "hidden": true
   },
   "source": [
    "Our independent variables are all the continuous variables of interest plus all the dummy variables we just created:"
   ]
  },
  {
   "cell_type": "code",
   "execution_count": 70,
   "metadata": {
    "ExecuteTime": {
     "end_time": "2023-06-24T02:01:32.918913Z",
     "start_time": "2023-06-24T02:01:32.900547Z"
    }
   },
   "outputs": [
    {
     "name": "stdout",
     "output_type": "stream",
     "text": [
      "<class 'pandas.core.frame.DataFrame'>\n",
      "RangeIndex: 891 entries, 0 to 890\n",
      "Data columns (total 12 columns):\n",
      " #   Column      Non-Null Count  Dtype  \n",
      "---  ------      --------------  -----  \n",
      " 0   Age         891 non-null    float64\n",
      " 1   SibSp       891 non-null    int64  \n",
      " 2   Parch       891 non-null    int64  \n",
      " 3   LogFare     891 non-null    float64\n",
      " 4   Sex_male    891 non-null    bool   \n",
      " 5   Sex_female  891 non-null    bool   \n",
      " 6   Pclass_1    891 non-null    bool   \n",
      " 7   Pclass_2    891 non-null    bool   \n",
      " 8   Pclass_3    891 non-null    bool   \n",
      " 9   Embarked_C  891 non-null    bool   \n",
      " 10  Embarked_Q  891 non-null    bool   \n",
      " 11  Embarked_S  891 non-null    bool   \n",
      "dtypes: bool(8), float64(2), int64(2)\n",
      "memory usage: 34.9 KB\n"
     ]
    }
   ],
   "source": [
    "df[indep_cols].info()"
   ]
  },
  {
   "cell_type": "code",
   "execution_count": 77,
   "metadata": {
    "ExecuteTime": {
     "end_time": "2023-06-24T02:06:59.145507Z",
     "start_time": "2023-06-24T02:06:59.128043Z"
    },
    "execution": {
     "iopub.execute_input": "2022-05-30T22:34:18.946772Z",
     "iopub.status.busy": "2022-05-30T22:34:18.94652Z",
     "iopub.status.idle": "2022-05-30T22:34:18.96487Z",
     "shell.execute_reply": "2022-05-30T22:34:18.963667Z",
     "shell.execute_reply.started": "2022-05-30T22:34:18.946741Z"
    },
    "hidden": true
   },
   "outputs": [
    {
     "data": {
      "text/plain": [
       "tensor([[22.0000,  1.0000,  0.0000,  2.1102,  1.0000,  0.0000,  0.0000,  0.0000,  1.0000,  0.0000,  0.0000,  1.0000],\n",
       "        [38.0000,  1.0000,  0.0000,  4.2806,  0.0000,  1.0000,  1.0000,  0.0000,  0.0000,  1.0000,  0.0000,  0.0000],\n",
       "        [26.0000,  0.0000,  0.0000,  2.1889,  0.0000,  1.0000,  0.0000,  0.0000,  1.0000,  0.0000,  0.0000,  1.0000],\n",
       "        [35.0000,  1.0000,  0.0000,  3.9908,  0.0000,  1.0000,  1.0000,  0.0000,  0.0000,  0.0000,  0.0000,  1.0000],\n",
       "        [35.0000,  0.0000,  0.0000,  2.2028,  1.0000,  0.0000,  0.0000,  0.0000,  1.0000,  0.0000,  0.0000,  1.0000],\n",
       "        [24.0000,  0.0000,  0.0000,  2.2469,  1.0000,  0.0000,  0.0000,  0.0000,  1.0000,  0.0000,  1.0000,  0.0000],\n",
       "        [54.0000,  0.0000,  0.0000,  3.9677,  1.0000,  0.0000,  1.0000,  0.0000,  0.0000,  0.0000,  0.0000,  1.0000],\n",
       "        [ 2.0000,  3.0000,  1.0000,  3.0944,  1.0000,  0.0000,  0.0000,  0.0000,  1.0000,  0.0000,  0.0000,  1.0000],\n",
       "        [27.0000,  0.0000,  2.0000,  2.4960,  0.0000,  1.0000,  0.0000,  0.0000,  1.0000,  0.0000,  0.0000,  1.0000],\n",
       "        [14.0000,  1.0000,  0.0000,  3.4363,  0.0000,  1.0000,  0.0000,  1.0000,  0.0000,  1.0000,  0.0000,  0.0000]])"
      ]
     },
     "execution_count": 77,
     "metadata": {},
     "output_type": "execute_result"
    }
   ],
   "source": [
    "indep_cols = ['Age', 'SibSp', 'Parch', 'LogFare'] + added_cols\n",
    "\n",
    "t_indep = tensor(df[indep_cols].values.astype(float), dtype=torch.float)\n",
    "t_indep[:10]"
   ]
  },
  {
   "cell_type": "markdown",
   "metadata": {
    "hidden": true
   },
   "source": [
    "Here's the number of rows and columns we have for our independent variables:"
   ]
  },
  {
   "cell_type": "code",
   "execution_count": 81,
   "metadata": {
    "ExecuteTime": {
     "end_time": "2023-06-24T02:07:57.978796Z",
     "start_time": "2023-06-24T02:07:57.971472Z"
    },
    "execution": {
     "iopub.execute_input": "2022-05-30T22:34:18.969136Z",
     "iopub.status.busy": "2022-05-30T22:34:18.968005Z",
     "iopub.status.idle": "2022-05-30T22:34:18.98114Z",
     "shell.execute_reply": "2022-05-30T22:34:18.980184Z",
     "shell.execute_reply.started": "2022-05-30T22:34:18.969092Z"
    },
    "hidden": true
   },
   "outputs": [
    {
     "name": "stdout",
     "output_type": "stream",
     "text": [
      "t_indep.shape=torch.Size([891, 12])\n",
      "Rank=2\n"
     ]
    }
   ],
   "source": [
    "print (f\"t_indep.shape={t_indep.shape}\")\n",
    "print (f\"Rank={len(t_indep.shape)}\") # => 2D"
   ]
  },
  {
   "cell_type": "markdown",
   "metadata": {},
   "source": [
    "## Setting up a linear model"
   ]
  },
  {
   "cell_type": "markdown",
   "metadata": {},
   "source": [
    "Now that we've got a matrix of independent variables and a dependent variable vector, we can work on calculating our predictions and our loss. In this section, we're going to manually do a single step of calculating predictions and loss for every row of our data.\n",
    "\n",
    "Our first model will be a simple linear model. <b>We'll need a coefficient for each column in `t_indep`</b>. We'll pick random numbers in the range `(-0.5,0.5)`, and set our manual seed so that my explanations in the prose in this notebook will be consistent with what you see when you run it."
   ]
  },
  {
   "cell_type": "code",
   "execution_count": 106,
   "metadata": {
    "ExecuteTime": {
     "end_time": "2023-06-24T02:31:29.477744Z",
     "start_time": "2023-06-24T02:31:29.460532Z"
    },
    "execution": {
     "iopub.execute_input": "2022-05-30T22:34:18.983237Z",
     "iopub.status.busy": "2022-05-30T22:34:18.982492Z",
     "iopub.status.idle": "2022-05-30T22:34:18.995038Z",
     "shell.execute_reply": "2022-05-30T22:34:18.994437Z",
     "shell.execute_reply.started": "2022-05-30T22:34:18.983187Z"
    }
   },
   "outputs": [
    {
     "data": {
      "text/plain": [
       "tensor([-0.4629,  0.1386,  0.2409, -0.2262, -0.2632, -0.3147,  0.4876,  0.3136,  0.2799, -0.4392,  0.2103,  0.3625])"
      ]
     },
     "execution_count": 106,
     "metadata": {},
     "output_type": "execute_result"
    }
   ],
   "source": [
    "torch.manual_seed(442)\n",
    "\n",
    "n_coeff = t_indep.shape[1]\n",
    "coeffs = torch.rand(n_coeff)-0.5\n",
    "coeffs"
   ]
  },
  {
   "cell_type": "markdown",
   "metadata": {},
   "source": [
    "Our predictions will be calculated by multiplying each row by the coefficients, and adding them up. <span style=\"color:blue\">One interesting point here is that <b>we don't need a separate constant term (also known as a \"bias\" or \"intercept\" term), or a column of all `1`s to give the same effect has having a constant term</b>. That's because our dummy variables already cover the entire dataset -- e.g. there's a column for \"male\" and a column for \"female\", and everyone in the dataset is in exactly one of these; therefore, we don't need a separate intercept term to cover rows that aren't otherwise part of a column.</span>\n",
    "\n",
    "For more explanation on why we can skip the bias term when one-hot encoding dummy variables, refer this [blog](https://forums.fast.ai/t/lesson-5-official-topic/96491/124).\n",
    "\n",
    "Here's what the multiplication looks like:"
   ]
  },
  {
   "cell_type": "code",
   "execution_count": 107,
   "metadata": {
    "ExecuteTime": {
     "end_time": "2023-06-24T02:31:29.767500Z",
     "start_time": "2023-06-24T02:31:29.756846Z"
    },
    "execution": {
     "iopub.execute_input": "2022-05-30T22:34:19.000637Z",
     "iopub.status.busy": "2022-05-30T22:34:18.999409Z",
     "iopub.status.idle": "2022-05-30T22:34:19.009362Z",
     "shell.execute_reply": "2022-05-30T22:34:19.00847Z",
     "shell.execute_reply.started": "2022-05-30T22:34:19.000588Z"
    }
   },
   "outputs": [
    {
     "data": {
      "text/plain": [
       "tensor([[-0.1273,  0.0173,  0.0000, -0.0765, -0.2632, -0.0000,  0.0000,  0.0000,  0.2799, -0.0000,  0.0000,  0.3625],\n",
       "        [-0.2199,  0.0173,  0.0000, -0.1551, -0.0000, -0.3147,  0.4876,  0.0000,  0.0000, -0.4392,  0.0000,  0.0000],\n",
       "        [-0.1504,  0.0000,  0.0000, -0.0793, -0.0000, -0.3147,  0.0000,  0.0000,  0.2799, -0.0000,  0.0000,  0.3625],\n",
       "        [-0.2025,  0.0173,  0.0000, -0.1446, -0.0000, -0.3147,  0.4876,  0.0000,  0.0000, -0.0000,  0.0000,  0.3625],\n",
       "        [-0.2025,  0.0000,  0.0000, -0.0798, -0.2632, -0.0000,  0.0000,  0.0000,  0.2799, -0.0000,  0.0000,  0.3625],\n",
       "        [-0.1389,  0.0000,  0.0000, -0.0814, -0.2632, -0.0000,  0.0000,  0.0000,  0.2799, -0.0000,  0.2103,  0.0000],\n",
       "        [-0.3125,  0.0000,  0.0000, -0.1438, -0.2632, -0.0000,  0.4876,  0.0000,  0.0000, -0.0000,  0.0000,  0.3625],\n",
       "        ...,\n",
       "        [-0.1447,  0.0000,  0.0000, -0.0756, -0.2632, -0.0000,  0.0000,  0.0000,  0.2799, -0.0000,  0.0000,  0.3625],\n",
       "        [-0.2257,  0.0000,  0.2008, -0.1234, -0.0000, -0.3147,  0.0000,  0.0000,  0.2799, -0.0000,  0.2103,  0.0000],\n",
       "        [-0.1562,  0.0000,  0.0000, -0.0956, -0.2632, -0.0000,  0.0000,  0.3136,  0.0000, -0.0000,  0.0000,  0.3625],\n",
       "        [-0.1099,  0.0000,  0.0000, -0.1244, -0.0000, -0.3147,  0.4876,  0.0000,  0.0000, -0.0000,  0.0000,  0.3625],\n",
       "        [-0.1389,  0.0173,  0.0803, -0.1158, -0.0000, -0.3147,  0.0000,  0.0000,  0.2799, -0.0000,  0.0000,  0.3625],\n",
       "        [-0.1504,  0.0000,  0.0000, -0.1244, -0.2632, -0.0000,  0.4876,  0.0000,  0.0000, -0.4392,  0.0000,  0.0000],\n",
       "        [-0.1852,  0.0000,  0.0000, -0.0786, -0.2632, -0.0000,  0.0000,  0.0000,  0.2799, -0.0000,  0.2103,  0.0000]])"
      ]
     },
     "execution_count": 107,
     "metadata": {},
     "output_type": "execute_result"
    }
   ],
   "source": [
    "t_indep*coeffs # elementwise multiplication"
   ]
  },
  {
   "cell_type": "markdown",
   "metadata": {},
   "source": [
    "<span style=\"color:red\">We can see we've got a problem here. <b>The sums of each row will be dominated by the first column, which is `Age`, since that's bigger on average</b> than all the others.</span>\n",
    "\n",
    "<span style=\"color:green\">Let's make all the columns contain numbers from `0` to `1`, by dividing each column by its `max()`:</span>"
   ]
  },
  {
   "cell_type": "code",
   "execution_count": 108,
   "metadata": {
    "ExecuteTime": {
     "end_time": "2023-06-24T02:31:30.027940Z",
     "start_time": "2023-06-24T02:31:30.015592Z"
    },
    "execution": {
     "iopub.execute_input": "2022-05-30T22:34:19.011202Z",
     "iopub.status.busy": "2022-05-30T22:34:19.010954Z",
     "iopub.status.idle": "2022-05-30T22:34:19.02202Z",
     "shell.execute_reply": "2022-05-30T22:34:19.02133Z",
     "shell.execute_reply.started": "2022-05-30T22:34:19.011171Z"
    }
   },
   "outputs": [],
   "source": [
    "vals,indices = t_indep.max(dim=0)\n",
    "t_indep = t_indep / vals"
   ]
  },
  {
   "cell_type": "markdown",
   "metadata": {},
   "source": [
    "As we see, that removes the problem of one column dominating all the others:"
   ]
  },
  {
   "cell_type": "code",
   "execution_count": 109,
   "metadata": {
    "ExecuteTime": {
     "end_time": "2023-06-24T02:31:30.302278Z",
     "start_time": "2023-06-24T02:31:30.288032Z"
    },
    "execution": {
     "iopub.execute_input": "2022-05-30T22:34:19.04269Z",
     "iopub.status.busy": "2022-05-30T22:34:19.042223Z",
     "iopub.status.idle": "2022-05-30T22:34:19.050475Z",
     "shell.execute_reply": "2022-05-30T22:34:19.049515Z",
     "shell.execute_reply.started": "2022-05-30T22:34:19.042652Z"
    }
   },
   "outputs": [
    {
     "data": {
      "text/plain": [
       "tensor([[-0.1273,  0.0173,  0.0000, -0.0765, -0.2632, -0.0000,  0.0000,  0.0000,  0.2799, -0.0000,  0.0000,  0.3625],\n",
       "        [-0.2199,  0.0173,  0.0000, -0.1551, -0.0000, -0.3147,  0.4876,  0.0000,  0.0000, -0.4392,  0.0000,  0.0000],\n",
       "        [-0.1504,  0.0000,  0.0000, -0.0793, -0.0000, -0.3147,  0.0000,  0.0000,  0.2799, -0.0000,  0.0000,  0.3625],\n",
       "        [-0.2025,  0.0173,  0.0000, -0.1446, -0.0000, -0.3147,  0.4876,  0.0000,  0.0000, -0.0000,  0.0000,  0.3625],\n",
       "        [-0.2025,  0.0000,  0.0000, -0.0798, -0.2632, -0.0000,  0.0000,  0.0000,  0.2799, -0.0000,  0.0000,  0.3625],\n",
       "        [-0.1389,  0.0000,  0.0000, -0.0814, -0.2632, -0.0000,  0.0000,  0.0000,  0.2799, -0.0000,  0.2103,  0.0000],\n",
       "        [-0.3125,  0.0000,  0.0000, -0.1438, -0.2632, -0.0000,  0.4876,  0.0000,  0.0000, -0.0000,  0.0000,  0.3625],\n",
       "        ...,\n",
       "        [-0.1447,  0.0000,  0.0000, -0.0756, -0.2632, -0.0000,  0.0000,  0.0000,  0.2799, -0.0000,  0.0000,  0.3625],\n",
       "        [-0.2257,  0.0000,  0.2008, -0.1234, -0.0000, -0.3147,  0.0000,  0.0000,  0.2799, -0.0000,  0.2103,  0.0000],\n",
       "        [-0.1562,  0.0000,  0.0000, -0.0956, -0.2632, -0.0000,  0.0000,  0.3136,  0.0000, -0.0000,  0.0000,  0.3625],\n",
       "        [-0.1099,  0.0000,  0.0000, -0.1244, -0.0000, -0.3147,  0.4876,  0.0000,  0.0000, -0.0000,  0.0000,  0.3625],\n",
       "        [-0.1389,  0.0173,  0.0803, -0.1158, -0.0000, -0.3147,  0.0000,  0.0000,  0.2799, -0.0000,  0.0000,  0.3625],\n",
       "        [-0.1504,  0.0000,  0.0000, -0.1244, -0.2632, -0.0000,  0.4876,  0.0000,  0.0000, -0.4392,  0.0000,  0.0000],\n",
       "        [-0.1852,  0.0000,  0.0000, -0.0786, -0.2632, -0.0000,  0.0000,  0.0000,  0.2799, -0.0000,  0.2103,  0.0000]])"
      ]
     },
     "execution_count": 109,
     "metadata": {},
     "output_type": "execute_result"
    }
   ],
   "source": [
    "t_indep*coeffs"
   ]
  },
  {
   "cell_type": "markdown",
   "metadata": {},
   "source": [
    "One thing you hopefully noticed is how amazingly cool this line of code is:\n",
    "\n",
    "    t_indep = t_indep / vals\n",
    "\n",
    "That is <span style=\"color:blue\"><b>dividing a matrix by a vector</b> -- what on earth does that mean?!? The trick here is that we're taking advantage of a technique in numpy and PyTorch (and many other languages, going all the way back to APL) called [broadcasting](https://numpy.org/doc/stable/user/basics.broadcasting.html)</span>. In short, this acts as if there's a separate copy of the vector for every row of the matrix, so it divides each row of the matrix by the vector. In practice, it doesn't actually make any copies, and does the whole thing in a highly optimized way, taking full advantage of modern CPUs (or, indeed, GPUs, if we're using them). Broadcasting is one of the most important techniques for making your code concise, maintainable, and fast, so it's well worth studying and practicing.\n",
    "\n",
    "We can now create predictions from our linear model, by adding up the rows of the product:"
   ]
  },
  {
   "cell_type": "code",
   "execution_count": 110,
   "metadata": {
    "ExecuteTime": {
     "end_time": "2023-06-24T02:31:30.786181Z",
     "start_time": "2023-06-24T02:31:30.777958Z"
    },
    "execution": {
     "iopub.execute_input": "2022-05-30T22:34:19.097604Z",
     "iopub.status.busy": "2022-05-30T22:34:19.096685Z",
     "iopub.status.idle": "2022-05-30T22:34:19.1028Z",
     "shell.execute_reply": "2022-05-30T22:34:19.10218Z",
     "shell.execute_reply.started": "2022-05-30T22:34:19.097545Z"
    }
   },
   "outputs": [],
   "source": [
    "preds = (t_indep*coeffs).sum(axis=1)"
   ]
  },
  {
   "cell_type": "markdown",
   "metadata": {},
   "source": [
    "Let's take a look at the first few:"
   ]
  },
  {
   "cell_type": "code",
   "execution_count": 111,
   "metadata": {
    "ExecuteTime": {
     "end_time": "2023-06-24T02:31:31.197600Z",
     "start_time": "2023-06-24T02:31:31.184645Z"
    },
    "execution": {
     "iopub.execute_input": "2022-05-30T22:34:19.160794Z",
     "iopub.status.busy": "2022-05-30T22:34:19.160318Z",
     "iopub.status.idle": "2022-05-30T22:34:19.168117Z",
     "shell.execute_reply": "2022-05-30T22:34:19.167355Z",
     "shell.execute_reply.started": "2022-05-30T22:34:19.160761Z"
    }
   },
   "outputs": [
    {
     "data": {
      "text/plain": [
       "tensor([ 0.1927, -0.6239,  0.0979,  0.2056,  0.0968,  0.0066,  0.1306,  0.3476,  0.1613, -0.6285])"
      ]
     },
     "execution_count": 111,
     "metadata": {},
     "output_type": "execute_result"
    }
   ],
   "source": [
    "preds[:10]"
   ]
  },
  {
   "cell_type": "markdown",
   "metadata": {},
   "source": [
    "Of course, these predictions aren't going to be any use, since our coefficients are random -- they're just a starting point for our gradient descent process.\n",
    "\n",
    "<b>To do gradient descent, we need a loss function</b>. Taking the average error of the rows (i.e. the absolute value of the difference between the prediction and the dependent) is generally a reasonable approach:"
   ]
  },
  {
   "cell_type": "code",
   "execution_count": 112,
   "metadata": {
    "ExecuteTime": {
     "end_time": "2023-06-24T02:31:31.512132Z",
     "start_time": "2023-06-24T02:31:31.499277Z"
    },
    "execution": {
     "iopub.execute_input": "2022-05-30T22:34:19.235623Z",
     "iopub.status.busy": "2022-05-30T22:34:19.235318Z",
     "iopub.status.idle": "2022-05-30T22:34:19.24312Z",
     "shell.execute_reply": "2022-05-30T22:34:19.242356Z",
     "shell.execute_reply.started": "2022-05-30T22:34:19.235589Z"
    }
   },
   "outputs": [
    {
     "data": {
      "text/plain": [
       "tensor(0.5382)"
      ]
     },
     "execution_count": 112,
     "metadata": {},
     "output_type": "execute_result"
    }
   ],
   "source": [
    "loss = torch.abs(preds-t_dep).mean() # MAE\n",
    "loss"
   ]
  },
  {
   "cell_type": "markdown",
   "metadata": {},
   "source": [
    "Now that we've tested out a way of calculating predictions, and loss, let's pop them into functions to make life easier:"
   ]
  },
  {
   "cell_type": "code",
   "execution_count": 113,
   "metadata": {
    "ExecuteTime": {
     "end_time": "2023-06-24T02:31:32.000366Z",
     "start_time": "2023-06-24T02:31:31.993410Z"
    },
    "execution": {
     "iopub.execute_input": "2022-05-30T22:34:19.296558Z",
     "iopub.status.busy": "2022-05-30T22:34:19.295577Z",
     "iopub.status.idle": "2022-05-30T22:34:19.301478Z",
     "shell.execute_reply": "2022-05-30T22:34:19.300683Z",
     "shell.execute_reply.started": "2022-05-30T22:34:19.296517Z"
    }
   },
   "outputs": [],
   "source": [
    "def calc_preds(coeffs, indeps): return (indeps*coeffs).sum(axis=1)\n",
    "def calc_loss(coeffs, indeps, deps): return torch.abs(calc_preds(coeffs, indeps)-deps).mean()"
   ]
  },
  {
   "cell_type": "markdown",
   "metadata": {},
   "source": [
    "## Doing a gradient descent step"
   ]
  },
  {
   "cell_type": "markdown",
   "metadata": {},
   "source": [
    "In this section, we're going to do a single \"epoch\" of gradient descent manually. The only thing we're going to automate is calculating gradients, because let's face it that's pretty tedious and entirely pointless to do by hand! To get PyTorch to calculate gradients, we'll need to call `requires_grad_()` on our `coeffs` (if you're not sure why, review the previous notebook, [How does a neural net really work?](https://www.kaggle.com/code/jhoward/how-does-a-neural-net-really-work), before continuing):"
   ]
  },
  {
   "cell_type": "markdown",
   "metadata": {},
   "source": [
    "The `_` in `requires_grad_()` implies we will compute gradient and update `coeffs` at the same time. In PyTorch, `_` implies *inplace* operation."
   ]
  },
  {
   "cell_type": "code",
   "execution_count": 114,
   "metadata": {
    "ExecuteTime": {
     "end_time": "2023-06-24T02:31:33.173883Z",
     "start_time": "2023-06-24T02:31:33.162245Z"
    },
    "execution": {
     "iopub.execute_input": "2022-05-30T22:34:19.376212Z",
     "iopub.status.busy": "2022-05-30T22:34:19.375387Z",
     "iopub.status.idle": "2022-05-30T22:34:19.382205Z",
     "shell.execute_reply": "2022-05-30T22:34:19.381536Z",
     "shell.execute_reply.started": "2022-05-30T22:34:19.376163Z"
    }
   },
   "outputs": [
    {
     "data": {
      "text/plain": [
       "tensor([-0.4629,  0.1386,  0.2409, -0.2262, -0.2632, -0.3147,  0.4876,  0.3136,  0.2799, -0.4392,  0.2103,  0.3625], requires_grad=True)"
      ]
     },
     "execution_count": 114,
     "metadata": {},
     "output_type": "execute_result"
    }
   ],
   "source": [
    "coeffs.requires_grad_()"
   ]
  },
  {
   "cell_type": "markdown",
   "metadata": {},
   "source": [
    "Now when we calculate our loss, PyTorch will keep track of all the steps, so we'll be able to get the gradients afterwards:"
   ]
  },
  {
   "cell_type": "code",
   "execution_count": 115,
   "metadata": {
    "ExecuteTime": {
     "end_time": "2023-06-24T02:31:34.449722Z",
     "start_time": "2023-06-24T02:31:34.441177Z"
    },
    "execution": {
     "iopub.execute_input": "2022-05-30T22:34:19.438026Z",
     "iopub.status.busy": "2022-05-30T22:34:19.437208Z",
     "iopub.status.idle": "2022-05-30T22:34:19.444641Z",
     "shell.execute_reply": "2022-05-30T22:34:19.443791Z",
     "shell.execute_reply.started": "2022-05-30T22:34:19.437985Z"
    }
   },
   "outputs": [
    {
     "data": {
      "text/plain": [
       "tensor(0.5382, grad_fn=<MeanBackward0>)"
      ]
     },
     "execution_count": 115,
     "metadata": {},
     "output_type": "execute_result"
    }
   ],
   "source": [
    "loss = calc_loss(coeffs, t_indep, t_dep)\n",
    "loss"
   ]
  },
  {
   "cell_type": "markdown",
   "metadata": {},
   "source": [
    "Use `backward()` to ask PyTorch to calculate gradients now:"
   ]
  },
  {
   "cell_type": "code",
   "execution_count": 116,
   "metadata": {
    "ExecuteTime": {
     "end_time": "2023-06-24T02:31:34.761422Z",
     "start_time": "2023-06-24T02:31:34.753482Z"
    },
    "execution": {
     "iopub.execute_input": "2022-05-30T22:34:19.49239Z",
     "iopub.status.busy": "2022-05-30T22:34:19.491601Z",
     "iopub.status.idle": "2022-05-30T22:34:19.496556Z",
     "shell.execute_reply": "2022-05-30T22:34:19.495831Z",
     "shell.execute_reply.started": "2022-05-30T22:34:19.492353Z"
    }
   },
   "outputs": [],
   "source": [
    "loss.backward()"
   ]
  },
  {
   "cell_type": "markdown",
   "metadata": {},
   "source": [
    "Let's see what they look like:"
   ]
  },
  {
   "cell_type": "code",
   "execution_count": 117,
   "metadata": {
    "ExecuteTime": {
     "end_time": "2023-06-24T02:31:35.280167Z",
     "start_time": "2023-06-24T02:31:35.270436Z"
    },
    "execution": {
     "iopub.execute_input": "2022-05-30T22:34:19.550501Z",
     "iopub.status.busy": "2022-05-30T22:34:19.549651Z",
     "iopub.status.idle": "2022-05-30T22:34:19.555905Z",
     "shell.execute_reply": "2022-05-30T22:34:19.555257Z",
     "shell.execute_reply.started": "2022-05-30T22:34:19.550456Z"
    }
   },
   "outputs": [
    {
     "data": {
      "text/plain": [
       "tensor([-0.0106,  0.0129, -0.0041, -0.0484,  0.2099, -0.2132, -0.1212, -0.0247,  0.1425, -0.1886, -0.0191,  0.2043])"
      ]
     },
     "execution_count": 117,
     "metadata": {},
     "output_type": "execute_result"
    }
   ],
   "source": [
    "coeffs.grad"
   ]
  },
  {
   "cell_type": "markdown",
   "metadata": {},
   "source": [
    "From the gradient, we can infer that \n",
    "- Since the gradient of the `Age` col is negative (-0.0106), decreasing the coefficient value of `Age` will help us to reduce the loss\n",
    "- ..."
   ]
  },
  {
   "cell_type": "markdown",
   "metadata": {},
   "source": [
    "<b>Note that each time we call `backward`, the gradients are actually *added* to whatever is in the `.grad` attribute</b>. Let's try running the above steps again:"
   ]
  },
  {
   "cell_type": "code",
   "execution_count": 118,
   "metadata": {
    "ExecuteTime": {
     "end_time": "2023-06-24T02:31:36.457768Z",
     "start_time": "2023-06-24T02:31:36.443614Z"
    },
    "execution": {
     "iopub.execute_input": "2022-05-30T22:34:19.603236Z",
     "iopub.status.busy": "2022-05-30T22:34:19.60283Z",
     "iopub.status.idle": "2022-05-30T22:34:19.610594Z",
     "shell.execute_reply": "2022-05-30T22:34:19.609647Z",
     "shell.execute_reply.started": "2022-05-30T22:34:19.603206Z"
    }
   },
   "outputs": [
    {
     "data": {
      "text/plain": [
       "tensor([-0.0212,  0.0258, -0.0082, -0.0969,  0.4198, -0.4265, -0.2424, -0.0494,  0.2851, -0.3771, -0.0382,  0.4085])"
      ]
     },
     "execution_count": 118,
     "metadata": {},
     "output_type": "execute_result"
    }
   ],
   "source": [
    "loss = calc_loss(coeffs, t_indep, t_dep)\n",
    "loss.backward() \n",
    "coeffs.grad"
   ]
  },
  {
   "cell_type": "markdown",
   "metadata": {},
   "source": [
    "As you see, our `.grad` values are have doubled. That's because it added the gradients a second time. <b>For this reason, after we use the gradients to do a gradient descent step, we need to set them back to zero.</b>\n",
    "\n",
    "We can now do one gradient descent step, and check that our loss decreases:"
   ]
  },
  {
   "cell_type": "code",
   "execution_count": 119,
   "metadata": {
    "ExecuteTime": {
     "end_time": "2023-06-24T02:31:48.427850Z",
     "start_time": "2023-06-24T02:31:48.413160Z"
    },
    "execution": {
     "iopub.execute_input": "2022-05-30T22:34:19.665739Z",
     "iopub.status.busy": "2022-05-30T22:34:19.665238Z",
     "iopub.status.idle": "2022-05-30T22:34:19.674839Z",
     "shell.execute_reply": "2022-05-30T22:34:19.673727Z",
     "shell.execute_reply.started": "2022-05-30T22:34:19.665705Z"
    }
   },
   "outputs": [
    {
     "name": "stdout",
     "output_type": "stream",
     "text": [
      "tensor(0.5197)\n"
     ]
    }
   ],
   "source": [
    "coeffs.grad.zero_()\n",
    "loss = calc_loss(coeffs, t_indep, t_dep)\n",
    "loss.backward()\n",
    "with torch.no_grad():\n",
    "    coeffs.sub_(coeffs.grad * 0.1) # Coefficient - Gradient * Learning rate \n",
    "    coeffs.grad.zero_()\n",
    "    print(calc_loss(coeffs, t_indep, t_dep))"
   ]
  },
  {
   "cell_type": "markdown",
   "metadata": {},
   "source": [
    "Note that `a.sub_(b)` subtracts `b` from `a` in-place. In PyTorch, any method that ends in `_` changes its object in-place. Similarly, `a.zero_()` sets all elements of a tensor to zero."
   ]
  },
  {
   "cell_type": "markdown",
   "metadata": {
    "ExecuteTime": {
     "end_time": "2023-06-24T02:32:39.843940Z",
     "start_time": "2023-06-24T02:32:39.829777Z"
    }
   },
   "source": [
    "We can see that with one gradient descent step, our loss descreases from $0.5382$ to $0.5197$."
   ]
  },
  {
   "cell_type": "markdown",
   "metadata": {},
   "source": [
    "## Training the linear model"
   ]
  },
  {
   "cell_type": "markdown",
   "metadata": {},
   "source": [
    "Before we begin training our model, we'll need to ensure that we hold out a validation set for calculating our metrics (for details on this, see \"[Getting started with NLP for absolute beginners](https://www.kaggle.com/code/jhoward/getting-started-with-nlp-for-absolute-beginners#Test-and-validation-sets)\".\n",
    "\n",
    "There's lots of different ways we can do this. In the next notebook we'll be comparing our approach here to what the fastai library does, so we'll want to ensure we split the data in the same way. So let's use `RandomSplitter` to get indices that will split our data into training and validation sets:"
   ]
  },
  {
   "cell_type": "code",
   "execution_count": 135,
   "metadata": {
    "ExecuteTime": {
     "end_time": "2023-06-24T02:34:07.260345Z",
     "start_time": "2023-06-24T02:34:07.247203Z"
    },
    "execution": {
     "iopub.execute_input": "2022-05-30T22:35:26.57635Z",
     "iopub.status.busy": "2022-05-30T22:35:26.57605Z",
     "iopub.status.idle": "2022-05-30T22:35:27.821258Z",
     "shell.execute_reply": "2022-05-30T22:35:27.820329Z",
     "shell.execute_reply.started": "2022-05-30T22:35:26.57632Z"
    }
   },
   "outputs": [
    {
     "name": "stdout",
     "output_type": "stream",
     "text": [
      "713 178\n",
      "[788, 525, 821, 253, 374] [303, 778, 531, 385, 134]\n"
     ]
    }
   ],
   "source": [
    "from fastai.data.transforms import RandomSplitter\n",
    "trn_split,val_split=RandomSplitter(seed=42)(df)\n",
    "\n",
    "print (len(trn_split), len(val_split))\n",
    "print (trn_split[:5], val_split[:5])"
   ]
  },
  {
   "cell_type": "markdown",
   "metadata": {},
   "source": [
    "Now we can apply those indicies to our independent and dependent variables:"
   ]
  },
  {
   "cell_type": "code",
   "execution_count": 136,
   "metadata": {
    "ExecuteTime": {
     "end_time": "2023-06-24T02:34:09.779867Z",
     "start_time": "2023-06-24T02:34:09.765866Z"
    },
    "execution": {
     "iopub.execute_input": "2022-05-30T22:35:27.822887Z",
     "iopub.status.busy": "2022-05-30T22:35:27.822671Z",
     "iopub.status.idle": "2022-05-30T22:35:27.836937Z",
     "shell.execute_reply": "2022-05-30T22:35:27.836081Z",
     "shell.execute_reply.started": "2022-05-30T22:35:27.822859Z"
    }
   },
   "outputs": [
    {
     "data": {
      "text/plain": [
       "(713, 178)"
      ]
     },
     "execution_count": 136,
     "metadata": {},
     "output_type": "execute_result"
    }
   ],
   "source": [
    "trn_indep,val_indep = t_indep[trn_split],t_indep[val_split]\n",
    "trn_dep,val_dep = t_dep[trn_split],t_dep[val_split]\n",
    "len(trn_indep),len(val_indep)"
   ]
  },
  {
   "cell_type": "markdown",
   "metadata": {},
   "source": [
    "We'll create functions for the three things we did manually above: updating `coeffs`, doing one full gradient descent step, and initilising `coeffs` to random numbers:"
   ]
  },
  {
   "cell_type": "code",
   "execution_count": 137,
   "metadata": {
    "ExecuteTime": {
     "end_time": "2023-06-24T02:34:24.232526Z",
     "start_time": "2023-06-24T02:34:24.219180Z"
    },
    "execution": {
     "iopub.execute_input": "2022-05-30T22:35:35.029177Z",
     "iopub.status.busy": "2022-05-30T22:35:35.028649Z",
     "iopub.status.idle": "2022-05-30T22:35:35.034346Z",
     "shell.execute_reply": "2022-05-30T22:35:35.033261Z",
     "shell.execute_reply.started": "2022-05-30T22:35:35.029143Z"
    }
   },
   "outputs": [],
   "source": [
    "def update_coeffs(coeffs, lr):\n",
    "    coeffs.sub_(coeffs.grad * lr)\n",
    "    coeffs.grad.zero_()"
   ]
  },
  {
   "cell_type": "code",
   "execution_count": 138,
   "metadata": {
    "ExecuteTime": {
     "end_time": "2023-06-24T02:35:01.531292Z",
     "start_time": "2023-06-24T02:35:01.525980Z"
    },
    "execution": {
     "iopub.execute_input": "2022-05-30T22:35:35.633995Z",
     "iopub.status.busy": "2022-05-30T22:35:35.633703Z",
     "iopub.status.idle": "2022-05-30T22:35:35.639103Z",
     "shell.execute_reply": "2022-05-30T22:35:35.63814Z",
     "shell.execute_reply.started": "2022-05-30T22:35:35.633964Z"
    }
   },
   "outputs": [],
   "source": [
    "def one_epoch(coeffs, lr):\n",
    "    loss = calc_loss(coeffs, trn_indep, trn_dep)\n",
    "    loss.backward()\n",
    "    with torch.no_grad(): update_coeffs(coeffs, lr)\n",
    "    print(f\"{loss:.3f}\", end=\"; \")"
   ]
  },
  {
   "cell_type": "code",
   "execution_count": 139,
   "metadata": {
    "ExecuteTime": {
     "end_time": "2023-06-24T02:36:17.246235Z",
     "start_time": "2023-06-24T02:36:17.238836Z"
    },
    "execution": {
     "iopub.execute_input": "2022-05-30T22:35:36.293837Z",
     "iopub.status.busy": "2022-05-30T22:35:36.293565Z",
     "iopub.status.idle": "2022-05-30T22:35:36.297457Z",
     "shell.execute_reply": "2022-05-30T22:35:36.296816Z",
     "shell.execute_reply.started": "2022-05-30T22:35:36.293808Z"
    }
   },
   "outputs": [],
   "source": [
    "def init_coeffs(): return (torch.rand(n_coeff)-0.5).requires_grad_()"
   ]
  },
  {
   "cell_type": "markdown",
   "metadata": {},
   "source": [
    "We can now use these functions to train our model:"
   ]
  },
  {
   "cell_type": "code",
   "execution_count": 140,
   "metadata": {
    "ExecuteTime": {
     "end_time": "2023-06-24T02:36:30.548940Z",
     "start_time": "2023-06-24T02:36:30.538922Z"
    },
    "execution": {
     "iopub.execute_input": "2022-05-30T22:35:38.772314Z",
     "iopub.status.busy": "2022-05-30T22:35:38.771827Z",
     "iopub.status.idle": "2022-05-30T22:35:38.777313Z",
     "shell.execute_reply": "2022-05-30T22:35:38.776439Z",
     "shell.execute_reply.started": "2022-05-30T22:35:38.772247Z"
    }
   },
   "outputs": [],
   "source": [
    "def train_model(epochs=30, lr=0.01):\n",
    "    torch.manual_seed(442)\n",
    "    coeffs = init_coeffs()\n",
    "    for i in range(epochs): one_epoch(coeffs, lr=lr)\n",
    "    return coeffs"
   ]
  },
  {
   "cell_type": "markdown",
   "metadata": {},
   "source": [
    "Let's try it. Our loss will print at the end of every step, so we hope we'll see it going down:"
   ]
  },
  {
   "cell_type": "code",
   "execution_count": 141,
   "metadata": {
    "ExecuteTime": {
     "end_time": "2023-06-24T02:36:32.546921Z",
     "start_time": "2023-06-24T02:36:32.529040Z"
    },
    "execution": {
     "iopub.execute_input": "2022-05-30T22:36:14.16788Z",
     "iopub.status.busy": "2022-05-30T22:36:14.16706Z",
     "iopub.status.idle": "2022-05-30T22:36:14.181652Z",
     "shell.execute_reply": "2022-05-30T22:36:14.180496Z",
     "shell.execute_reply.started": "2022-05-30T22:36:14.167812Z"
    }
   },
   "outputs": [
    {
     "name": "stdout",
     "output_type": "stream",
     "text": [
      "0.536; 0.502; 0.477; 0.454; 0.431; 0.409; 0.388; 0.367; 0.349; 0.336; 0.330; 0.326; 0.329; 0.304; 0.314; 0.296; 0.300; 0.289; "
     ]
    }
   ],
   "source": [
    "coeffs = train_model(18, lr=0.2)"
   ]
  },
  {
   "cell_type": "markdown",
   "metadata": {},
   "source": [
    "It does!\n",
    "\n",
    "Let's take a look at the coefficients for each column:"
   ]
  },
  {
   "cell_type": "code",
   "execution_count": 142,
   "metadata": {
    "ExecuteTime": {
     "end_time": "2023-06-24T02:36:42.107901Z",
     "start_time": "2023-06-24T02:36:42.093676Z"
    },
    "execution": {
     "iopub.execute_input": "2022-05-30T22:36:21.980389Z",
     "iopub.status.busy": "2022-05-30T22:36:21.97957Z",
     "iopub.status.idle": "2022-05-30T22:36:21.990088Z",
     "shell.execute_reply": "2022-05-30T22:36:21.989021Z",
     "shell.execute_reply.started": "2022-05-30T22:36:21.98035Z"
    }
   },
   "outputs": [
    {
     "data": {
      "text/plain": [
       "{'Age': tensor(-0.2694),\n",
       " 'SibSp': tensor(0.0901),\n",
       " 'Parch': tensor(0.2359),\n",
       " 'LogFare': tensor(0.0280),\n",
       " 'Sex_male': tensor(-0.3990),\n",
       " 'Sex_female': tensor(0.2345),\n",
       " 'Pclass_1': tensor(0.7232),\n",
       " 'Pclass_2': tensor(0.4112),\n",
       " 'Pclass_3': tensor(0.3601),\n",
       " 'Embarked_C': tensor(0.0955),\n",
       " 'Embarked_Q': tensor(0.2395),\n",
       " 'Embarked_S': tensor(0.2122)}"
      ]
     },
     "execution_count": 142,
     "metadata": {},
     "output_type": "execute_result"
    }
   ],
   "source": [
    "def show_coeffs(): return dict(zip(indep_cols, coeffs.requires_grad_(False)))\n",
    "show_coeffs()"
   ]
  },
  {
   "cell_type": "markdown",
   "metadata": {},
   "source": [
    "## Measuring accuracy"
   ]
  },
  {
   "cell_type": "markdown",
   "metadata": {},
   "source": [
    "The Kaggle competition is not, however, scored by absolute error (which is our loss function). It's scored by *accuracy* -- the proportion of rows where we correctly predict survival. Let's see how accurate we were on the validation set. First, calculate the predictions:"
   ]
  },
  {
   "cell_type": "code",
   "execution_count": 143,
   "metadata": {
    "ExecuteTime": {
     "end_time": "2023-06-24T02:37:10.523650Z",
     "start_time": "2023-06-24T02:37:10.511885Z"
    },
    "execution": {
     "iopub.execute_input": "2022-05-30T22:36:30.826372Z",
     "iopub.status.busy": "2022-05-30T22:36:30.825856Z",
     "iopub.status.idle": "2022-05-30T22:36:30.831613Z",
     "shell.execute_reply": "2022-05-30T22:36:30.830756Z",
     "shell.execute_reply.started": "2022-05-30T22:36:30.826322Z"
    }
   },
   "outputs": [],
   "source": [
    "preds = calc_preds(coeffs, val_indep)"
   ]
  },
  {
   "cell_type": "code",
   "execution_count": 166,
   "metadata": {
    "ExecuteTime": {
     "end_time": "2023-06-24T02:41:23.887714Z",
     "start_time": "2023-06-24T02:41:23.878595Z"
    }
   },
   "outputs": [
    {
     "name": "stdout",
     "output_type": "stream",
     "text": [
      "Predictions - Distribution \n",
      "min=-0.035, max=1.234\n"
     ]
    }
   ],
   "source": [
    "print ()"
   ]
  },
  {
   "cell_type": "code",
   "execution_count": 170,
   "metadata": {
    "ExecuteTime": {
     "end_time": "2023-06-24T02:41:47.227770Z",
     "start_time": "2023-06-24T02:41:47.158310Z"
    }
   },
   "outputs": [
    {
     "data": {
      "image/png": "[encoded data removed]",
      "text/plain": [
       "<Figure size 500x100 with 1 Axes>"
      ]
     },
     "metadata": {},
     "output_type": "display_data"
    }
   ],
   "source": [
    "plt.figure(figsize=(5,1))\n",
    "sns.boxplot(preds.tolist(), orient='h')\n",
    "plt.title(f'Distribution of Predictions \\nmin={preds.min():.3f}, max={preds.max():.3f}');"
   ]
  },
  {
   "cell_type": "markdown",
   "metadata": {},
   "source": [
    "We'll assume that any passenger with a score of over `0.5` is predicted to survive. So that means we're correct for each row where `preds>0.5` is the same as the dependent variable:"
   ]
  },
  {
   "cell_type": "code",
   "execution_count": 144,
   "metadata": {
    "ExecuteTime": {
     "end_time": "2023-06-24T02:37:23.406716Z",
     "start_time": "2023-06-24T02:37:23.393004Z"
    },
    "execution": {
     "iopub.execute_input": "2022-05-30T22:36:33.618899Z",
     "iopub.status.busy": "2022-05-30T22:36:33.618455Z",
     "iopub.status.idle": "2022-05-30T22:36:33.62703Z",
     "shell.execute_reply": "2022-05-30T22:36:33.625949Z",
     "shell.execute_reply.started": "2022-05-30T22:36:33.618867Z"
    }
   },
   "outputs": [
    {
     "data": {
      "text/plain": [
       "tensor([ True,  True,  True,  True,  True,  True,  True,  True,  True,  True, False, False, False,  True,  True, False])"
      ]
     },
     "execution_count": 144,
     "metadata": {},
     "output_type": "execute_result"
    }
   ],
   "source": [
    "results = val_dep.bool()==(preds>0.5)\n",
    "results[:16]"
   ]
  },
  {
   "cell_type": "markdown",
   "metadata": {},
   "source": [
    "Let's see what our average accuracy is:"
   ]
  },
  {
   "cell_type": "code",
   "execution_count": 145,
   "metadata": {
    "ExecuteTime": {
     "end_time": "2023-06-24T02:37:28.279855Z",
     "start_time": "2023-06-24T02:37:28.266721Z"
    },
    "execution": {
     "iopub.execute_input": "2022-05-30T22:36:35.725637Z",
     "iopub.status.busy": "2022-05-30T22:36:35.725112Z",
     "iopub.status.idle": "2022-05-30T22:36:35.732969Z",
     "shell.execute_reply": "2022-05-30T22:36:35.732241Z",
     "shell.execute_reply.started": "2022-05-30T22:36:35.725599Z"
    }
   },
   "outputs": [
    {
     "data": {
      "text/plain": [
       "tensor(0.7865)"
      ]
     },
     "execution_count": 145,
     "metadata": {},
     "output_type": "execute_result"
    }
   ],
   "source": [
    "results.float().mean()"
   ]
  },
  {
   "cell_type": "markdown",
   "metadata": {},
   "source": [
    "That's not a bad start at all! We'll create a function so we can calcuate the accuracy easy for other models we train:"
   ]
  },
  {
   "cell_type": "code",
   "execution_count": 146,
   "metadata": {
    "ExecuteTime": {
     "end_time": "2023-06-24T02:37:38.871155Z",
     "start_time": "2023-06-24T02:37:38.854306Z"
    },
    "execution": {
     "iopub.execute_input": "2022-05-30T22:36:40.356505Z",
     "iopub.status.busy": "2022-05-30T22:36:40.356043Z",
     "iopub.status.idle": "2022-05-30T22:36:40.365187Z",
     "shell.execute_reply": "2022-05-30T22:36:40.364153Z",
     "shell.execute_reply.started": "2022-05-30T22:36:40.356471Z"
    }
   },
   "outputs": [
    {
     "data": {
      "text/plain": [
       "tensor(0.7865)"
      ]
     },
     "execution_count": 146,
     "metadata": {},
     "output_type": "execute_result"
    }
   ],
   "source": [
    "def acc(coeffs): return (val_dep.bool()==(calc_preds(coeffs, val_indep)>0.5)).float().mean()\n",
    "acc(coeffs)"
   ]
  },
  {
   "cell_type": "markdown",
   "metadata": {},
   "source": [
    "## Using sigmoid"
   ]
  },
  {
   "cell_type": "markdown",
   "metadata": {},
   "source": [
    "Looking at our predictions, there's one obvious problem -- some of our predictions of the probability of survival are `>1`, and some are `<0`:"
   ]
  },
  {
   "cell_type": "code",
   "execution_count": 158,
   "metadata": {
    "ExecuteTime": {
     "end_time": "2023-06-24T02:40:01.356185Z",
     "start_time": "2023-06-24T02:40:01.340395Z"
    },
    "execution": {
     "iopub.execute_input": "2022-05-30T22:36:42.344823Z",
     "iopub.status.busy": "2022-05-30T22:36:42.344533Z",
     "iopub.status.idle": "2022-05-30T22:36:42.352948Z",
     "shell.execute_reply": "2022-05-30T22:36:42.351968Z",
     "shell.execute_reply.started": "2022-05-30T22:36:42.344794Z"
    }
   },
   "outputs": [
    {
     "data": {
      "text/plain": [
       "tensor([ 0.8160,  0.1295, -0.0148,  0.1831,  0.1520,  0.1350,  0.7279,  0.7754,  0.3222,  0.6740,  0.0753,  0.0389,  0.2216,  0.7631,\n",
       "         0.0678,  0.3997,  0.3324,  0.8278,  0.1078,  0.7126,  0.1023,  0.3627,  0.9937,  0.8050,  0.1153,  0.1455,  0.8652,  0.3425])"
      ]
     },
     "execution_count": 158,
     "metadata": {},
     "output_type": "execute_result"
    }
   ],
   "source": [
    "preds[:28]"
   ]
  },
  {
   "cell_type": "markdown",
   "metadata": {},
   "source": [
    "To fix this, we should pass every prediction through the *sigmoid function*, which has a minimum at zero and maximum at one, and is defined as follows:"
   ]
  },
  {
   "cell_type": "code",
   "execution_count": 171,
   "metadata": {
    "ExecuteTime": {
     "end_time": "2023-06-24T02:41:55.639635Z",
     "start_time": "2023-06-24T02:41:55.443148Z"
    },
    "execution": {
     "iopub.execute_input": "2022-05-30T22:36:44.914015Z",
     "iopub.status.busy": "2022-05-30T22:36:44.913101Z",
     "iopub.status.idle": "2022-05-30T22:36:46.311818Z",
     "shell.execute_reply": "2022-05-30T22:36:46.311008Z",
     "shell.execute_reply.started": "2022-05-30T22:36:44.913968Z"
    }
   },
   "outputs": [
    {
     "data": {
      "image/png": "[encoded data removed]",
      "text/plain": [
       "<Figure size 640x480 with 1 Axes>"
      ]
     },
     "metadata": {},
     "output_type": "display_data"
    }
   ],
   "source": [
    "import sympy\n",
    "sympy.plot(\"1/(1+exp(-x))\", xlim=(-5,5));"
   ]
  },
  {
   "cell_type": "markdown",
   "metadata": {},
   "source": [
    "PyTorch already defines that function for us, so we can modify `calc_preds` to use it:"
   ]
  },
  {
   "cell_type": "code",
   "execution_count": 172,
   "metadata": {
    "ExecuteTime": {
     "end_time": "2023-06-24T02:42:09.608892Z",
     "start_time": "2023-06-24T02:42:09.600375Z"
    },
    "execution": {
     "iopub.execute_input": "2022-05-30T22:36:46.313644Z",
     "iopub.status.busy": "2022-05-30T22:36:46.313435Z",
     "iopub.status.idle": "2022-05-30T22:36:46.317749Z",
     "shell.execute_reply": "2022-05-30T22:36:46.3169Z",
     "shell.execute_reply.started": "2022-05-30T22:36:46.313618Z"
    }
   },
   "outputs": [],
   "source": [
    "def calc_preds(coeffs, indeps): return torch.sigmoid((indeps*coeffs).sum(axis=1))"
   ]
  },
  {
   "cell_type": "markdown",
   "metadata": {},
   "source": [
    "Let's train a new model now, using this updated function to calculate predictions:"
   ]
  },
  {
   "cell_type": "code",
   "execution_count": 173,
   "metadata": {
    "ExecuteTime": {
     "end_time": "2023-06-24T02:42:11.788069Z",
     "start_time": "2023-06-24T02:42:11.766166Z"
    },
    "execution": {
     "iopub.execute_input": "2022-05-30T22:38:23.22576Z",
     "iopub.status.busy": "2022-05-30T22:38:23.225051Z",
     "iopub.status.idle": "2022-05-30T22:38:23.250206Z",
     "shell.execute_reply": "2022-05-30T22:38:23.249321Z",
     "shell.execute_reply.started": "2022-05-30T22:38:23.225722Z"
    }
   },
   "outputs": [
    {
     "name": "stdout",
     "output_type": "stream",
     "text": [
      "0.510; 0.327; 0.294; 0.207; 0.201; 0.199; 0.198; 0.197; 0.196; 0.196; 0.196; 0.195; 0.195; 0.195; 0.195; 0.195; 0.195; 0.195; 0.194; 0.194; 0.194; 0.194; 0.194; 0.194; 0.194; 0.194; 0.194; 0.194; 0.194; 0.194; "
     ]
    }
   ],
   "source": [
    "coeffs = train_model(lr=100)"
   ]
  },
  {
   "cell_type": "markdown",
   "metadata": {},
   "source": [
    "The loss has improved by a lot. Let's check the accuracy:"
   ]
  },
  {
   "cell_type": "code",
   "execution_count": 174,
   "metadata": {
    "ExecuteTime": {
     "end_time": "2023-06-24T02:42:18.100454Z",
     "start_time": "2023-06-24T02:42:18.084259Z"
    },
    "execution": {
     "iopub.execute_input": "2022-05-30T22:38:28.519132Z",
     "iopub.status.busy": "2022-05-30T22:38:28.518642Z",
     "iopub.status.idle": "2022-05-30T22:38:28.527145Z",
     "shell.execute_reply": "2022-05-30T22:38:28.526248Z",
     "shell.execute_reply.started": "2022-05-30T22:38:28.519078Z"
    }
   },
   "outputs": [
    {
     "data": {
      "text/plain": [
       "tensor(0.8258)"
      ]
     },
     "execution_count": 174,
     "metadata": {},
     "output_type": "execute_result"
    }
   ],
   "source": [
    "acc(coeffs)"
   ]
  },
  {
   "cell_type": "markdown",
   "metadata": {},
   "source": [
    "That's improved too! Here's the coefficients of our trained model:"
   ]
  },
  {
   "cell_type": "code",
   "execution_count": 175,
   "metadata": {
    "ExecuteTime": {
     "end_time": "2023-06-24T02:42:27.494899Z",
     "start_time": "2023-06-24T02:42:27.481290Z"
    },
    "execution": {
     "iopub.execute_input": "2022-05-30T22:38:32.01697Z",
     "iopub.status.busy": "2022-05-30T22:38:32.015953Z",
     "iopub.status.idle": "2022-05-30T22:38:32.02724Z",
     "shell.execute_reply": "2022-05-30T22:38:32.026125Z",
     "shell.execute_reply.started": "2022-05-30T22:38:32.016924Z"
    }
   },
   "outputs": [
    {
     "data": {
      "text/plain": [
       "{'Age': tensor(-1.5061),\n",
       " 'SibSp': tensor(-1.1575),\n",
       " 'Parch': tensor(-0.4267),\n",
       " 'LogFare': tensor(0.2543),\n",
       " 'Sex_male': tensor(-10.3320),\n",
       " 'Sex_female': tensor(8.4185),\n",
       " 'Pclass_1': tensor(3.8389),\n",
       " 'Pclass_2': tensor(2.1398),\n",
       " 'Pclass_3': tensor(-6.2331),\n",
       " 'Embarked_C': tensor(1.4771),\n",
       " 'Embarked_Q': tensor(2.1168),\n",
       " 'Embarked_S': tensor(-4.7958)}"
      ]
     },
     "execution_count": 175,
     "metadata": {},
     "output_type": "execute_result"
    }
   ],
   "source": [
    "show_coeffs()"
   ]
  },
  {
   "cell_type": "markdown",
   "metadata": {},
   "source": [
    "These coefficients seem reasonable -- in general, older people and males were less likely to survive, and first class passengers were more likely to survive."
   ]
  },
  {
   "cell_type": "markdown",
   "metadata": {},
   "source": [
    "## Submitting to Kaggle"
   ]
  },
  {
   "cell_type": "markdown",
   "metadata": {},
   "source": [
    "Now that we've got a trained model, we can prepare a submission to Kaggle. To do that, first we need to read the test set:"
   ]
  },
  {
   "cell_type": "code",
   "execution_count": 182,
   "metadata": {
    "ExecuteTime": {
     "end_time": "2023-06-24T02:51:11.558581Z",
     "start_time": "2023-06-24T02:51:11.545003Z"
    },
    "execution": {
     "iopub.execute_input": "2022-05-30T22:38:35.172909Z",
     "iopub.status.busy": "2022-05-30T22:38:35.172343Z",
     "iopub.status.idle": "2022-05-30T22:38:35.188597Z",
     "shell.execute_reply": "2022-05-30T22:38:35.187826Z",
     "shell.execute_reply.started": "2022-05-30T22:38:35.172873Z"
    }
   },
   "outputs": [],
   "source": [
    "tst_df = pd.read_csv(path/'test.csv')"
   ]
  },
  {
   "cell_type": "markdown",
   "metadata": {},
   "source": [
    "In this case, it turns out that the test set is missing `Fare` for one passenger. We'll just fill it with `0` to avoid problems:"
   ]
  },
  {
   "cell_type": "code",
   "execution_count": 183,
   "metadata": {
    "ExecuteTime": {
     "end_time": "2023-06-24T02:51:12.025339Z",
     "start_time": "2023-06-24T02:51:12.016682Z"
    },
    "execution": {
     "iopub.execute_input": "2022-05-30T22:38:36.353392Z",
     "iopub.status.busy": "2022-05-30T22:38:36.352687Z",
     "iopub.status.idle": "2022-05-30T22:38:36.358237Z",
     "shell.execute_reply": "2022-05-30T22:38:36.35739Z",
     "shell.execute_reply.started": "2022-05-30T22:38:36.353355Z"
    }
   },
   "outputs": [],
   "source": [
    "tst_df['Fare'] = tst_df.Fare.fillna(0)"
   ]
  },
  {
   "cell_type": "markdown",
   "metadata": {},
   "source": [
    "Now we can just copy the same steps we did to our training set and do the same exact things on our test set to preprocess the data:"
   ]
  },
  {
   "cell_type": "code",
   "execution_count": 184,
   "metadata": {
    "ExecuteTime": {
     "end_time": "2023-06-24T02:51:14.497394Z",
     "start_time": "2023-06-24T02:51:14.474600Z"
    },
    "execution": {
     "iopub.execute_input": "2022-05-30T22:38:38.198549Z",
     "iopub.status.busy": "2022-05-30T22:38:38.198257Z",
     "iopub.status.idle": "2022-05-30T22:38:38.220592Z",
     "shell.execute_reply": "2022-05-30T22:38:38.219629Z",
     "shell.execute_reply.started": "2022-05-30T22:38:38.198519Z"
    },
    "scrolled": true
   },
   "outputs": [],
   "source": [
    "# Preprocessing\n",
    "tst_df.fillna(modes, inplace=True)\n",
    "tst_df['LogFare'] = np.log(tst_df['Fare']+1)\n",
    "tst_df = pd.get_dummies(tst_df, columns=[\"Sex\",\"Pclass\",\"Embarked\"])\n",
    "\n",
    "tst_indep = tensor(tst_df[indep_cols].values.astype(float), dtype=torch.float)\n",
    "tst_indep = tst_indep / vals"
   ]
  },
  {
   "cell_type": "markdown",
   "metadata": {},
   "source": [
    "Let's calculate our predictions of which passengers survived in the test set:"
   ]
  },
  {
   "cell_type": "code",
   "execution_count": 185,
   "metadata": {
    "ExecuteTime": {
     "end_time": "2023-06-24T02:51:18.657070Z",
     "start_time": "2023-06-24T02:51:18.645061Z"
    },
    "execution": {
     "iopub.execute_input": "2022-05-30T22:38:39.206547Z",
     "iopub.status.busy": "2022-05-30T22:38:39.206216Z",
     "iopub.status.idle": "2022-05-30T22:38:39.212386Z",
     "shell.execute_reply": "2022-05-30T22:38:39.211631Z",
     "shell.execute_reply.started": "2022-05-30T22:38:39.206512Z"
    }
   },
   "outputs": [],
   "source": [
    "tst_df['Survived'] = (calc_preds(tst_indep, coeffs)>0.5).int()"
   ]
  },
  {
   "cell_type": "markdown",
   "metadata": {},
   "source": [
    "The sample submission on the Kaggle competition site shows that we're expected to upload a CSV with just `PassengerId` and `Survived`, so let's create that and save it:"
   ]
  },
  {
   "cell_type": "code",
   "execution_count": 186,
   "metadata": {
    "ExecuteTime": {
     "end_time": "2023-06-24T02:51:20.022833Z",
     "start_time": "2023-06-24T02:51:20.007821Z"
    },
    "execution": {
     "iopub.execute_input": "2022-05-30T22:38:40.161382Z",
     "iopub.status.busy": "2022-05-30T22:38:40.161034Z",
     "iopub.status.idle": "2022-05-30T22:38:40.173242Z",
     "shell.execute_reply": "2022-05-30T22:38:40.17258Z",
     "shell.execute_reply.started": "2022-05-30T22:38:40.161336Z"
    }
   },
   "outputs": [],
   "source": [
    "sub_df = tst_df[['PassengerId','Survived']]\n",
    "sub_df.to_csv('sub.csv', index=False)"
   ]
  },
  {
   "cell_type": "markdown",
   "metadata": {},
   "source": [
    "We can check the first few rows of the file to make sure it looks reasonable:"
   ]
  },
  {
   "cell_type": "code",
   "execution_count": 187,
   "metadata": {
    "ExecuteTime": {
     "end_time": "2023-06-24T02:51:32.485968Z",
     "start_time": "2023-06-24T02:51:32.330006Z"
    },
    "execution": {
     "iopub.execute_input": "2022-05-30T22:38:42.869402Z",
     "iopub.status.busy": "2022-05-30T22:38:42.86855Z",
     "iopub.status.idle": "2022-05-30T22:38:43.638832Z",
     "shell.execute_reply": "2022-05-30T22:38:43.637559Z",
     "shell.execute_reply.started": "2022-05-30T22:38:42.869362Z"
    }
   },
   "outputs": [
    {
     "name": "stdout",
     "output_type": "stream",
     "text": [
      "PassengerId,Survived\r\n",
      "892,0\r\n",
      "893,0\r\n",
      "894,0\r\n",
      "895,0\r\n",
      "896,0\r\n",
      "897,0\r\n",
      "898,0\r\n",
      "899,0\r\n",
      "900,0\r\n"
     ]
    }
   ],
   "source": [
    "!head sub.csv"
   ]
  },
  {
   "cell_type": "markdown",
   "metadata": {},
   "source": [
    "When you click \"save version\" in Kaggle, and wait for the notebook to run, you'll see that `sub.csv` appears in the \"Data\" tab. Clicking on that file will show a *Submit* button, which allows you to submit to the competition."
   ]
  },
  {
   "cell_type": "markdown",
   "metadata": {},
   "source": [
    "## Using matrix product"
   ]
  },
  {
   "cell_type": "markdown",
   "metadata": {},
   "source": [
    "We can make things quite a bit neater...\n",
    "\n",
    "Take a look at the inner-most calculation we're doing to get the predictions:"
   ]
  },
  {
   "cell_type": "code",
   "execution_count": 188,
   "metadata": {
    "ExecuteTime": {
     "end_time": "2023-06-24T03:28:57.932661Z",
     "start_time": "2023-06-24T03:28:57.870589Z"
    },
    "execution": {
     "iopub.execute_input": "2022-05-30T22:38:48.248084Z",
     "iopub.status.busy": "2022-05-30T22:38:48.247768Z",
     "iopub.status.idle": "2022-05-30T22:38:48.258935Z",
     "shell.execute_reply": "2022-05-30T22:38:48.258184Z",
     "shell.execute_reply.started": "2022-05-30T22:38:48.248052Z"
    }
   },
   "outputs": [
    {
     "data": {
      "text/plain": [
       "tensor([ 12.3288, -14.8119, -15.4540, -13.1513, -13.3511, -13.6468,   3.6248,   5.3429, -22.0878,   3.1233, -21.8742, -15.6421, -21.5504,\n",
       "          3.9393, -21.9190, -12.0010, -12.3775,   5.3550, -13.5880,  -3.1015, -21.7237, -12.2081,  12.9767,   4.7427, -21.6525, -14.9135,\n",
       "         -2.7433, -12.3210, -21.5886,   3.9387,   5.3890,  -3.6196, -21.6296, -21.8454,  12.2159,  -3.2275, -12.0289,  13.4560, -21.7230,\n",
       "         -3.1366, -13.2462, -21.7230, -13.6831,  13.3092, -21.6477,  -3.5868, -21.6854, -21.8316, -14.8158,  -2.9386,  -5.3103, -22.2384,\n",
       "        -22.1097, -21.7466, -13.3780, -13.4909, -14.8119, -22.0690, -21.6666, -21.7818,  -5.4439, -21.7407, -12.6551, -21.6671,   4.9238,\n",
       "        -11.5777, -13.3323, -21.9638, -15.3030,   5.0243, -21.7614,   3.1820, -13.4721, -21.7170, -11.6066, -21.5737, -21.7230, -11.9652,\n",
       "        -13.2382, -13.7599, -13.2170,  13.1347, -21.7049, -21.7268,   4.9207,  -7.3198,  -5.3081,   7.1066,  11.4948, -13.3135, -21.8723,\n",
       "        -21.7230,  13.3603, -15.5669,   3.4105,  -7.2857, -13.7197,   3.6909,   3.9763, -14.7227, -21.8268,   3.9387, -21.8743, -21.8367,\n",
       "        -11.8518, -13.6712, -21.8299,   4.9440,  -5.4471, -21.9666,   5.1333,  -3.2187, -11.6008,  13.7920, -21.7230,  12.6369,  -3.7268,\n",
       "        -14.8119, -22.0637,  12.9468, -22.1610,  -6.1827, -14.8119,  -3.2838, -15.4540, -11.6950,  -2.9926,  -3.0110, -21.5664, -13.8268,\n",
       "          7.3426, -21.8418,   5.0744,   5.2582,  13.3415, -21.6289, -13.9898, -21.8112,  -7.3316,   5.2296, -13.4453,  12.7891, -22.1235,\n",
       "        -14.9625,  -3.4339,   6.3089, -21.9839,   3.1968,   7.2400,   2.8558,  -3.1187,   3.7965,   5.4667, -15.1101, -15.0597, -22.9391,\n",
       "        -21.7230,  -3.0346, -13.5206, -21.7011,  13.4425,  -7.2690, -21.8335, -12.0582,  13.0489,   6.7993,   5.2160,   5.0794, -12.6957,\n",
       "        -12.1838,  -3.0873, -21.6070,   7.0745, -21.7170, -22.1001,   6.8159, -11.6002, -21.6310])"
      ]
     },
     "execution_count": 188,
     "metadata": {},
     "output_type": "execute_result"
    }
   ],
   "source": [
    "(val_indep*coeffs).sum(axis=1)"
   ]
  },
  {
   "cell_type": "markdown",
   "metadata": {},
   "source": [
    "Multiplying elements together and then adding across rows is identical to doing a matrix-vector product! Python uses the `@` operator to indicate matrix products, and is supported by PyTorch tensors. Therefore, we can replicate the above calculate more simply like so:"
   ]
  },
  {
   "cell_type": "code",
   "execution_count": 189,
   "metadata": {
    "ExecuteTime": {
     "end_time": "2023-06-24T03:29:40.981037Z",
     "start_time": "2023-06-24T03:29:40.963544Z"
    },
    "execution": {
     "iopub.execute_input": "2022-05-30T22:38:51.959798Z",
     "iopub.status.busy": "2022-05-30T22:38:51.959362Z",
     "iopub.status.idle": "2022-05-30T22:38:51.97614Z",
     "shell.execute_reply": "2022-05-30T22:38:51.975461Z",
     "shell.execute_reply.started": "2022-05-30T22:38:51.959765Z"
    }
   },
   "outputs": [
    {
     "data": {
      "text/plain": [
       "tensor([ 12.3288, -14.8119, -15.4540, -13.1513, -13.3511, -13.6468,   3.6248,   5.3429, -22.0878,   3.1233, -21.8742, -15.6421, -21.5504,\n",
       "          3.9393, -21.9190, -12.0010, -12.3775,   5.3550, -13.5880,  -3.1015, -21.7237, -12.2081,  12.9767,   4.7427, -21.6525, -14.9135,\n",
       "         -2.7433, -12.3210, -21.5886,   3.9387,   5.3890,  -3.6196, -21.6296, -21.8454,  12.2159,  -3.2275, -12.0289,  13.4560, -21.7230,\n",
       "         -3.1366, -13.2462, -21.7230, -13.6831,  13.3092, -21.6477,  -3.5868, -21.6854, -21.8316, -14.8158,  -2.9386,  -5.3103, -22.2384,\n",
       "        -22.1097, -21.7466, -13.3780, -13.4909, -14.8119, -22.0690, -21.6666, -21.7818,  -5.4439, -21.7407, -12.6551, -21.6671,   4.9238,\n",
       "        -11.5777, -13.3323, -21.9638, -15.3030,   5.0243, -21.7614,   3.1820, -13.4721, -21.7170, -11.6066, -21.5737, -21.7230, -11.9652,\n",
       "        -13.2382, -13.7599, -13.2170,  13.1347, -21.7049, -21.7268,   4.9207,  -7.3198,  -5.3081,   7.1065,  11.4948, -13.3135, -21.8723,\n",
       "        -21.7230,  13.3603, -15.5669,   3.4105,  -7.2857, -13.7197,   3.6909,   3.9763, -14.7227, -21.8268,   3.9387, -21.8743, -21.8367,\n",
       "        -11.8518, -13.6712, -21.8299,   4.9440,  -5.4471, -21.9666,   5.1333,  -3.2187, -11.6008,  13.7920, -21.7230,  12.6369,  -3.7268,\n",
       "        -14.8119, -22.0637,  12.9468, -22.1610,  -6.1827, -14.8119,  -3.2838, -15.4540, -11.6950,  -2.9926,  -3.0110, -21.5664, -13.8268,\n",
       "          7.3426, -21.8418,   5.0744,   5.2582,  13.3415, -21.6289, -13.9898, -21.8112,  -7.3316,   5.2296, -13.4453,  12.7891, -22.1235,\n",
       "        -14.9625,  -3.4339,   6.3089, -21.9839,   3.1968,   7.2400,   2.8558,  -3.1187,   3.7965,   5.4667, -15.1101, -15.0597, -22.9391,\n",
       "        -21.7230,  -3.0346, -13.5206, -21.7011,  13.4425,  -7.2690, -21.8335, -12.0582,  13.0489,   6.7993,   5.2160,   5.0794, -12.6957,\n",
       "        -12.1838,  -3.0873, -21.6070,   7.0745, -21.7170, -22.1001,   6.8159, -11.6002, -21.6310])"
      ]
     },
     "execution_count": 189,
     "metadata": {},
     "output_type": "execute_result"
    }
   ],
   "source": [
    "val_indep@coeffs"
   ]
  },
  {
   "cell_type": "markdown",
   "metadata": {},
   "source": [
    "It also turns out that this is much faster, because matrix products in PyTorch are very highly optimised.\n",
    "\n",
    "Let's use this to replace how `calc_preds` works:"
   ]
  },
  {
   "cell_type": "code",
   "execution_count": 190,
   "metadata": {
    "ExecuteTime": {
     "end_time": "2023-06-24T03:29:52.209627Z",
     "start_time": "2023-06-24T03:29:52.196806Z"
    },
    "execution": {
     "iopub.execute_input": "2022-05-30T22:38:56.322255Z",
     "iopub.status.busy": "2022-05-30T22:38:56.321807Z",
     "iopub.status.idle": "2022-05-30T22:38:56.326812Z",
     "shell.execute_reply": "2022-05-30T22:38:56.32606Z",
     "shell.execute_reply.started": "2022-05-30T22:38:56.322213Z"
    }
   },
   "outputs": [],
   "source": [
    "def calc_preds(coeffs, indeps): return torch.sigmoid(indeps@coeffs)"
   ]
  },
  {
   "cell_type": "markdown",
   "metadata": {},
   "source": [
    "In order to do matrix-matrix products (which we'll need in the next NN section), we need to turn `coeffs` into a column vector (i.e. a matrix with a single column), which we can do by passing a second argument `1` to `torch.rand()`, indicating that we want our coefficients to have one column:"
   ]
  },
  {
   "cell_type": "code",
   "execution_count": 191,
   "metadata": {
    "ExecuteTime": {
     "end_time": "2023-06-24T03:31:04.240277Z",
     "start_time": "2023-06-24T03:31:04.231501Z"
    },
    "execution": {
     "iopub.execute_input": "2022-05-30T22:38:58.895779Z",
     "iopub.status.busy": "2022-05-30T22:38:58.895467Z",
     "iopub.status.idle": "2022-05-30T22:38:58.900851Z",
     "shell.execute_reply": "2022-05-30T22:38:58.899931Z",
     "shell.execute_reply.started": "2022-05-30T22:38:58.895744Z"
    }
   },
   "outputs": [],
   "source": [
    "def init_coeffs(): return (torch.rand(n_coeff, 1)*0.1).requires_grad_() # Rank 2 Tensor"
   ]
  },
  {
   "cell_type": "markdown",
   "metadata": {},
   "source": [
    "We'll also need to turn our dependent variable into a column vector, which we can do by indexing the column dimension with the special value `None`, which tells PyTorch to add a new dimension in this position:"
   ]
  },
  {
   "cell_type": "code",
   "execution_count": 192,
   "metadata": {
    "ExecuteTime": {
     "end_time": "2023-06-24T03:31:34.721728Z",
     "start_time": "2023-06-24T03:31:34.715194Z"
    },
    "execution": {
     "iopub.execute_input": "2022-05-30T22:38:59.789678Z",
     "iopub.status.busy": "2022-05-30T22:38:59.788799Z",
     "iopub.status.idle": "2022-05-30T22:38:59.794227Z",
     "shell.execute_reply": "2022-05-30T22:38:59.793326Z",
     "shell.execute_reply.started": "2022-05-30T22:38:59.789625Z"
    }
   },
   "outputs": [],
   "source": [
    "trn_dep = trn_dep[:,None]\n",
    "val_dep = val_dep[:,None]"
   ]
  },
  {
   "cell_type": "code",
   "execution_count": 196,
   "metadata": {
    "ExecuteTime": {
     "end_time": "2023-06-24T03:32:05.771029Z",
     "start_time": "2023-06-24T03:32:05.754234Z"
    }
   },
   "outputs": [
    {
     "name": "stdout",
     "output_type": "stream",
     "text": [
      "torch.Size([713, 1]) torch.Size([178, 1])\n"
     ]
    }
   ],
   "source": [
    "print (trn_dep.shape, val_dep.shape)"
   ]
  },
  {
   "cell_type": "markdown",
   "metadata": {},
   "source": [
    "We can now train our model as before and confirm we get identical outputs...:"
   ]
  },
  {
   "cell_type": "code",
   "execution_count": 193,
   "metadata": {
    "ExecuteTime": {
     "end_time": "2023-06-24T03:31:36.880782Z",
     "start_time": "2023-06-24T03:31:36.844104Z"
    },
    "execution": {
     "iopub.execute_input": "2022-05-30T22:39:38.071003Z",
     "iopub.status.busy": "2022-05-30T22:39:38.070545Z",
     "iopub.status.idle": "2022-05-30T22:39:38.094666Z",
     "shell.execute_reply": "2022-05-30T22:39:38.093641Z",
     "shell.execute_reply.started": "2022-05-30T22:39:38.070972Z"
    }
   },
   "outputs": [
    {
     "name": "stdout",
     "output_type": "stream",
     "text": [
      "0.512; 0.323; 0.290; 0.205; 0.200; 0.198; 0.197; 0.197; 0.196; 0.196; 0.196; 0.195; 0.195; 0.195; 0.195; 0.195; 0.195; 0.194; 0.194; 0.194; 0.194; 0.194; 0.194; 0.194; 0.194; 0.194; 0.194; 0.194; 0.194; 0.194; "
     ]
    }
   ],
   "source": [
    "coeffs = train_model(lr=100)"
   ]
  },
  {
   "cell_type": "code",
   "execution_count": 198,
   "metadata": {
    "ExecuteTime": {
     "end_time": "2023-06-24T03:33:50.333899Z",
     "start_time": "2023-06-24T03:33:50.325401Z"
    }
   },
   "outputs": [
    {
     "name": "stdout",
     "output_type": "stream",
     "text": [
      "torch.Size([12, 1])\n"
     ]
    }
   ],
   "source": [
    "print (coeffs.shape) # \"coeffs\" is a Rank 2 matrix"
   ]
  },
  {
   "cell_type": "markdown",
   "metadata": {},
   "source": [
    "...and identical accuracy:"
   ]
  },
  {
   "cell_type": "code",
   "execution_count": 199,
   "metadata": {
    "ExecuteTime": {
     "end_time": "2023-06-24T03:33:52.330728Z",
     "start_time": "2023-06-24T03:33:52.317524Z"
    },
    "execution": {
     "iopub.execute_input": "2022-05-30T22:39:40.463735Z",
     "iopub.status.busy": "2022-05-30T22:39:40.463301Z",
     "iopub.status.idle": "2022-05-30T22:39:40.469684Z",
     "shell.execute_reply": "2022-05-30T22:39:40.468652Z",
     "shell.execute_reply.started": "2022-05-30T22:39:40.463702Z"
    }
   },
   "outputs": [
    {
     "data": {
      "text/plain": [
       "tensor(0.8258)"
      ]
     },
     "execution_count": 199,
     "metadata": {},
     "output_type": "execute_result"
    }
   ],
   "source": [
    "acc(coeffs)"
   ]
  },
  {
   "cell_type": "markdown",
   "metadata": {},
   "source": [
    "## A neural network"
   ]
  },
  {
   "cell_type": "markdown",
   "metadata": {},
   "source": [
    "We've now got what we need to implement our neural network.\n",
    "\n",
    "<span style=\"color:blue\">First, we'll need to create coefficients for each of our layers. Our first set of coefficients will take our `n_coeff` inputs, and create `n_hidden` outputs. We can choose whatever `n_hidden` we like -- <b>a higher number gives our network more flexibility, but makes it slower and harder to train</b>. So we need a matrix of size `n_coeff` by `n_hidden`. <b>We'll divide these coefficients by `n_hidden` so that when we sum them up in the next layer we'll end up with similar magnitude numbers to what we started with.</b></span>\n",
    "\n",
    "Then our second layer will need to take the `n_hidden` inputs and create a single output, so that means we need a `n_hidden` by `1` matrix there. The second layer will also need a constant term added."
   ]
  },
  {
   "cell_type": "code",
   "execution_count": 200,
   "metadata": {
    "ExecuteTime": {
     "end_time": "2023-06-24T03:34:57.095623Z",
     "start_time": "2023-06-24T03:34:57.084185Z"
    },
    "execution": {
     "iopub.execute_input": "2022-05-30T22:39:44.428599Z",
     "iopub.status.busy": "2022-05-30T22:39:44.428254Z",
     "iopub.status.idle": "2022-05-30T22:39:44.434009Z",
     "shell.execute_reply": "2022-05-30T22:39:44.433164Z",
     "shell.execute_reply.started": "2022-05-30T22:39:44.428563Z"
    }
   },
   "outputs": [],
   "source": [
    "### NN with 1 hidden layer ###\n",
    "def init_coeffs(n_hidden=20):\n",
    "    # For layer 1, we are using categorical features with \"n\" dummy variabels => We do not need a constant term\n",
    "    layer1 = (torch.rand(n_coeff, n_hidden)-0.5)/n_hidden \n",
    "    # For layer 2, we need the constant/bias term\n",
    "    layer2 = torch.rand(n_hidden, 1)-0.3\n",
    "    const = torch.rand(1)[0]\n",
    "    return layer1.requires_grad_(),layer2.requires_grad_(),const.requires_grad_()"
   ]
  },
  {
   "cell_type": "markdown",
   "metadata": {},
   "source": [
    "Now we have our coefficients, we can create our neural net. The key steps are the two matrix products, `indeps@l1` and `res@l2` (where `res` is the output of the first layer). The first layer output is passed to `F.relu` (that's our non-linearity), and the second is passed to `torch.sigmoid` as before."
   ]
  },
  {
   "cell_type": "code",
   "execution_count": 202,
   "metadata": {
    "ExecuteTime": {
     "end_time": "2023-06-24T03:40:22.901779Z",
     "start_time": "2023-06-24T03:40:22.889883Z"
    },
    "execution": {
     "iopub.execute_input": "2022-05-30T22:39:45.302903Z",
     "iopub.status.busy": "2022-05-30T22:39:45.302573Z",
     "iopub.status.idle": "2022-05-30T22:39:45.309472Z",
     "shell.execute_reply": "2022-05-30T22:39:45.308498Z",
     "shell.execute_reply.started": "2022-05-30T22:39:45.302864Z"
    }
   },
   "outputs": [],
   "source": [
    "import torch.nn.functional as F\n",
    "\n",
    "def calc_preds(coeffs, indeps):\n",
    "    l1,l2,const = coeffs\n",
    "    res = F.relu(indeps@l1)\n",
    "    res = res@l2 + const\n",
    "    return torch.sigmoid(res)"
   ]
  },
  {
   "cell_type": "markdown",
   "metadata": {},
   "source": [
    "Finally, now that we have more than one set of coefficients, we need to add a loop to update each one:"
   ]
  },
  {
   "cell_type": "code",
   "execution_count": 203,
   "metadata": {
    "ExecuteTime": {
     "end_time": "2023-06-24T03:41:11.020005Z",
     "start_time": "2023-06-24T03:41:11.011426Z"
    },
    "execution": {
     "iopub.execute_input": "2022-05-30T22:39:55.366945Z",
     "iopub.status.busy": "2022-05-30T22:39:55.3665Z",
     "iopub.status.idle": "2022-05-30T22:39:55.371578Z",
     "shell.execute_reply": "2022-05-30T22:39:55.370699Z",
     "shell.execute_reply.started": "2022-05-30T22:39:55.366914Z"
    }
   },
   "outputs": [],
   "source": [
    "def update_coeffs(coeffs, lr):\n",
    "    for layer in coeffs:\n",
    "        layer.sub_(layer.grad * lr)\n",
    "        layer.grad.zero_()"
   ]
  },
  {
   "cell_type": "markdown",
   "metadata": {},
   "source": [
    "That's it -- we're now ready to train our model!"
   ]
  },
  {
   "cell_type": "code",
   "execution_count": 204,
   "metadata": {
    "ExecuteTime": {
     "end_time": "2023-06-24T03:41:12.011430Z",
     "start_time": "2023-06-24T03:41:11.982570Z"
    },
    "execution": {
     "iopub.execute_input": "2022-05-30T22:39:58.189982Z",
     "iopub.status.busy": "2022-05-30T22:39:58.189651Z",
     "iopub.status.idle": "2022-05-30T22:39:58.227202Z",
     "shell.execute_reply": "2022-05-30T22:39:58.226226Z",
     "shell.execute_reply.started": "2022-05-30T22:39:58.189951Z"
    }
   },
   "outputs": [
    {
     "name": "stdout",
     "output_type": "stream",
     "text": [
      "0.543; 0.532; 0.520; 0.505; 0.487; 0.466; 0.439; 0.407; 0.373; 0.343; 0.319; 0.301; 0.286; 0.274; 0.264; 0.256; 0.250; 0.245; 0.240; 0.237; 0.234; 0.231; 0.229; 0.227; 0.226; 0.224; 0.223; 0.222; 0.221; 0.220; "
     ]
    }
   ],
   "source": [
    "coeffs = train_model(lr=1.4)"
   ]
  },
  {
   "cell_type": "code",
   "execution_count": 205,
   "metadata": {
    "ExecuteTime": {
     "end_time": "2023-06-24T03:41:13.557506Z",
     "start_time": "2023-06-24T03:41:13.536446Z"
    },
    "execution": {
     "iopub.execute_input": "2022-05-30T22:40:16.338016Z",
     "iopub.status.busy": "2022-05-30T22:40:16.337512Z",
     "iopub.status.idle": "2022-05-30T22:40:16.368327Z",
     "shell.execute_reply": "2022-05-30T22:40:16.367439Z",
     "shell.execute_reply.started": "2022-05-30T22:40:16.337959Z"
    }
   },
   "outputs": [
    {
     "name": "stdout",
     "output_type": "stream",
     "text": [
      "0.543; 0.400; 0.260; 0.390; 0.221; 0.211; 0.197; 0.195; 0.193; 0.193; 0.193; 0.193; 0.193; 0.193; 0.193; 0.193; 0.193; 0.192; 0.192; 0.192; 0.192; 0.192; 0.192; 0.192; 0.192; 0.192; 0.192; 0.192; 0.192; 0.192; "
     ]
    }
   ],
   "source": [
    "coeffs = train_model(lr=20)"
   ]
  },
  {
   "cell_type": "markdown",
   "metadata": {},
   "source": [
    "It's looking good -- our loss is lower than before. Let's see if that translates to a better result on the validation set:"
   ]
  },
  {
   "cell_type": "code",
   "execution_count": 206,
   "metadata": {
    "ExecuteTime": {
     "end_time": "2023-06-24T03:41:39.802701Z",
     "start_time": "2023-06-24T03:41:39.794245Z"
    },
    "execution": {
     "iopub.execute_input": "2022-05-30T22:40:18.644458Z",
     "iopub.status.busy": "2022-05-30T22:40:18.644153Z",
     "iopub.status.idle": "2022-05-30T22:40:18.651372Z",
     "shell.execute_reply": "2022-05-30T22:40:18.650102Z",
     "shell.execute_reply.started": "2022-05-30T22:40:18.644427Z"
    }
   },
   "outputs": [
    {
     "data": {
      "text/plain": [
       "tensor(0.8258)"
      ]
     },
     "execution_count": 206,
     "metadata": {},
     "output_type": "execute_result"
    }
   ],
   "source": [
    "acc(coeffs)"
   ]
  },
  {
   "cell_type": "markdown",
   "metadata": {},
   "source": [
    "<span style=\"color:red\">In this case our neural net isn't showing better results than the linear model. That's not surprising; <b>this dataset is very small and very simple, and isn't the kind of thing we'd expect to see neural networks excel at. Furthermore, our validation set is too small to reliably see much accuracy difference</b>. But the key thing is that we now know exactly what a real neural net looks like!</span>"
   ]
  },
  {
   "cell_type": "markdown",
   "metadata": {},
   "source": [
    "## Deep learning"
   ]
  },
  {
   "cell_type": "markdown",
   "metadata": {},
   "source": [
    "The neural net in the previous section only uses one hidden layer, so it doesn't count as \"deep\" learning. But we can use the exact same technique to make our neural net deep, by adding more matrix multiplications.\n",
    "\n",
    "First, we'll need to create additional coefficients for each layer:"
   ]
  },
  {
   "cell_type": "code",
   "execution_count": 217,
   "metadata": {
    "ExecuteTime": {
     "end_time": "2023-06-24T03:47:13.844592Z",
     "start_time": "2023-06-24T03:47:13.830997Z"
    },
    "execution": {
     "iopub.execute_input": "2022-05-30T22:40:55.255291Z",
     "iopub.status.busy": "2022-05-30T22:40:55.25457Z",
     "iopub.status.idle": "2022-05-30T22:40:55.261806Z",
     "shell.execute_reply": "2022-05-30T22:40:55.261271Z",
     "shell.execute_reply.started": "2022-05-30T22:40:55.255242Z"
    }
   },
   "outputs": [],
   "source": [
    "### NN with 2 hidden layers ###\n",
    "def init_coeffs():  hiddens = [10, 10]  # <-- set this to the size of each hidden layer you want\n",
    "    sizes = [n_coeff] + hiddens + [1]\n",
    "    n = len(sizes)\n",
    "    layers = [(torch.rand(sizes[i], sizes[i+1])-0.3)/sizes[i+1]*4 for i in range(n-1)]\n",
    "    consts = [(torch.rand(1)[0]-0.5)*0.1 for i in range(n-1)]\n",
    "    for l in layers+consts: \n",
    "        l.requires_grad_()\n",
    "        print (\"Coeff shape:\", l.shape)\n",
    "    return layers,consts"
   ]
  },
  {
   "cell_type": "markdown",
   "metadata": {},
   "source": [
    "You'll notice here that there's a lot of messy constants to get the random numbers in just the right ranges. When you train the model in a moment, you'll see that the tiniest changes to these initialisations can cause our model to fail to train at all! This is a key reason that deep learning failed to make much progress in the early days -- it's very finicky to get a good starting point for our coefficients. Nowadays, we have ways to deal with that, which we'll learn about in other notebooks.\n",
    "\n",
    "Our deep learning `calc_preds` looks much the same as before, but now we loop through each layer, instead of listing them separately:"
   ]
  },
  {
   "cell_type": "code",
   "execution_count": 218,
   "metadata": {
    "ExecuteTime": {
     "end_time": "2023-06-24T03:47:14.145839Z",
     "start_time": "2023-06-24T03:47:14.137333Z"
    },
    "execution": {
     "iopub.execute_input": "2022-05-30T22:40:57.610974Z",
     "iopub.status.busy": "2022-05-30T22:40:57.610142Z",
     "iopub.status.idle": "2022-05-30T22:40:57.618154Z",
     "shell.execute_reply": "2022-05-30T22:40:57.617329Z",
     "shell.execute_reply.started": "2022-05-30T22:40:57.610916Z"
    }
   },
   "outputs": [],
   "source": [
    "import torch.nn.functional as F\n",
    "\n",
    "def calc_preds(coeffs, indeps):\n",
    "    layers,consts = coeffs\n",
    "    n = len(layers)\n",
    "    res = indeps\n",
    "    for i,l in enumerate(layers):\n",
    "        res = res@l + consts[i]\n",
    "        if i!=n-1: res = F.relu(res) # If not last layer, do relu\n",
    "    return torch.sigmoid(res)"
   ]
  },
  {
   "cell_type": "markdown",
   "metadata": {},
   "source": [
    "We also need a minor update to `update_coeffs` since we've got `layers` and `consts` separated now:"
   ]
  },
  {
   "cell_type": "code",
   "execution_count": 219,
   "metadata": {
    "ExecuteTime": {
     "end_time": "2023-06-24T03:47:14.558771Z",
     "start_time": "2023-06-24T03:47:14.555539Z"
    },
    "execution": {
     "iopub.execute_input": "2022-05-30T22:41:08.513049Z",
     "iopub.status.busy": "2022-05-30T22:41:08.512494Z",
     "iopub.status.idle": "2022-05-30T22:41:08.519219Z",
     "shell.execute_reply": "2022-05-30T22:41:08.518093Z",
     "shell.execute_reply.started": "2022-05-30T22:41:08.512999Z"
    }
   },
   "outputs": [],
   "source": [
    "def update_coeffs(coeffs, lr):\n",
    "    layers,consts = coeffs\n",
    "    for layer in layers+consts:\n",
    "        layer.sub_(layer.grad * lr)\n",
    "        layer.grad.zero_()"
   ]
  },
  {
   "cell_type": "markdown",
   "metadata": {},
   "source": [
    "Let's train our model..."
   ]
  },
  {
   "cell_type": "code",
   "execution_count": 220,
   "metadata": {
    "ExecuteTime": {
     "end_time": "2023-06-24T03:47:15.549096Z",
     "start_time": "2023-06-24T03:47:15.523634Z"
    },
    "execution": {
     "iopub.execute_input": "2022-05-30T22:41:23.633004Z",
     "iopub.status.busy": "2022-05-30T22:41:23.632516Z",
     "iopub.status.idle": "2022-05-30T22:41:23.666981Z",
     "shell.execute_reply": "2022-05-30T22:41:23.666048Z",
     "shell.execute_reply.started": "2022-05-30T22:41:23.632953Z"
    }
   },
   "outputs": [
    {
     "name": "stdout",
     "output_type": "stream",
     "text": [
      "Coeff shape: torch.Size([12, 10])\n",
      "Coeff shape: torch.Size([10, 10])\n",
      "Coeff shape: torch.Size([10, 1])\n",
      "Coeff shape: torch.Size([])\n",
      "Coeff shape: torch.Size([])\n",
      "Coeff shape: torch.Size([])\n",
      "0.521; 0.483; 0.427; 0.379; 0.379; 0.379; 0.379; 0.378; 0.378; 0.378; 0.378; 0.378; 0.378; 0.378; 0.378; 0.378; 0.377; 0.376; 0.371; 0.333; 0.239; 0.224; 0.208; 0.204; 0.203; 0.203; 0.207; 0.197; 0.196; 0.195; "
     ]
    }
   ],
   "source": [
    "coeffs = train_model(lr=4)"
   ]
  },
  {
   "cell_type": "markdown",
   "metadata": {},
   "source": [
    "...and check its accuracy:"
   ]
  },
  {
   "cell_type": "code",
   "execution_count": 221,
   "metadata": {
    "ExecuteTime": {
     "end_time": "2023-06-24T03:47:16.607176Z",
     "start_time": "2023-06-24T03:47:16.590183Z"
    },
    "execution": {
     "iopub.execute_input": "2022-05-30T22:41:25.491182Z",
     "iopub.status.busy": "2022-05-30T22:41:25.490656Z",
     "iopub.status.idle": "2022-05-30T22:41:25.497888Z",
     "shell.execute_reply": "2022-05-30T22:41:25.49695Z",
     "shell.execute_reply.started": "2022-05-30T22:41:25.491146Z"
    }
   },
   "outputs": [
    {
     "data": {
      "text/plain": [
       "tensor(0.8258)"
      ]
     },
     "execution_count": 221,
     "metadata": {},
     "output_type": "execute_result"
    }
   ],
   "source": [
    "acc(coeffs)"
   ]
  },
  {
   "cell_type": "markdown",
   "metadata": {},
   "source": [
    "## Final thoughts"
   ]
  },
  {
   "cell_type": "markdown",
   "metadata": {},
   "source": [
    "It's actually pretty cool that we've managed to create a real deep learning model from scratch and trained it to get over 80% accuracy on this task, all in the course of a single notebook!\n",
    "\n",
    "The \"real\" deep learning models that are used in research and industry look very similar to this, and in fact if you look inside the source code of any deep learning model you'll recognise the basic steps are the same.\n",
    "\n",
    "The biggest differences in practical models to what we have above are:\n",
    "\n",
    "- How initialisation and normalisation is done to ensure the model trains correctly every time\n",
    "- Regularization (to avoid over-fitting)\n",
    "- Modifying the neural net itself to take advantage of knowledge of the problem domain\n",
    "- Doing gradient descent steps on smaller batches, rather than the whole dataset.\n",
    "\n",
    "I'll be adding notebooks about all these later, and will add links here once they're ready.\n",
    "\n",
    "If you found this notebook useful, please remember to click the little up-arrow at the top to upvote it, since I like to know when people have found my work useful, and it helps others find it too. (BTW, be sure you're looking at my [original notebook here](https://www.kaggle.com/code/jhoward/linear-model-and-neural-net-from-scratch) when you do that, and are not on your own copy of it, otherwise your upvote won't get counted!) And if you have any questions or comments, please pop them below -- I read every comment I receive!"
   ]
  },
  {
   "cell_type": "markdown",
   "metadata": {},
   "source": [
    "# Readups"
   ]
  },
  {
   "cell_type": "markdown",
   "metadata": {
    "ExecuteTime": {
     "end_time": "2023-06-24T02:22:55.513613Z",
     "start_time": "2023-06-24T02:22:55.501881Z"
    }
   },
   "source": [
    "- [ ] [Broadcasting in numpy](https://numpy.org/doc/stable/user/basics.broadcasting.html) - Run through this!\n",
    "- [ ] `torch.no_grad():` - Why do we use this line of code?\n",
    "- [ ] [Titanic using Name only [0.81818]](https://www.kaggle.com/code/cdeotte/titanic-using-name-only-0-81818/notebook) - Kaggle notebook to run through"
   ]
  },
  {
   "cell_type": "code",
   "execution_count": null,
   "metadata": {},
   "outputs": [],
   "source": []
  }
 ],
 "metadata": {
  "kernelspec": {
   "display_name": "fastai_related",
   "language": "python",
   "name": "fastai_related"
  },
  "language_info": {
   "codemirror_mode": {
    "name": "ipython",
    "version": 3
   },
   "file_extension": ".py",
   "mimetype": "text/x-python",
   "name": "python",
   "nbconvert_exporter": "python",
   "pygments_lexer": "ipython3",
   "version": "3.10.5"
  },
  "toc": {
   "base_numbering": 1,
   "nav_menu": {},
   "number_sections": true,
   "sideBar": true,
   "skip_h1_title": false,
   "title_cell": "Table of Contents",
   "title_sidebar": "Contents",
   "toc_cell": false,
   "toc_position": {
    "height": "calc(100% - 180px)",
    "left": "10px",
    "top": "150px",
    "width": "384px"
   },
   "toc_section_display": true,
   "toc_window_display": true
  }
 },
 "nbformat": 4,
 "nbformat_minor": 4
}
