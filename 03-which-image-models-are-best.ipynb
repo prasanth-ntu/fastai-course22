{
 "cells": [
  {
   "cell_type": "markdown",
   "metadata": {},
   "source": [
    "<a href=\"https://www.kaggle.com/code/prasanth07/which-image-models-are-best?scriptVersionId=133043418\" target=\"_blank\"><img align=\"left\" alt=\"Kaggle\" title=\"Open in Kaggle\" src=\"https://kaggle.com/static/images/open-in-kaggle.svg\"></a>"
   ]
  },
  {
   "cell_type": "markdown",
   "metadata": {},
   "source": [
    "*Note:*\n",
    "- If we want the plots to be interactive, visit the [kaggle version](https://www.kaggle.com/code/prasanth07/which-image-models-are-best)\n",
    "- Else, run it locally by downloading it from [github](https://github.com/prasanth-ntu/fastai-course22/blob/master/03-which-image-models-are-best.ipynb)"
   ]
  },
  {
   "cell_type": "markdown",
   "metadata": {},
   "source": [
    "*The data, concept, and initial implementation of this notebook was done in Colab by Ross Wightman, the creator of timm. I (Jeremy Howard) did some refactoring, curating, and expanding of the analysis, and added prose.*"
   ]
  },
  {
   "cell_type": "markdown",
   "metadata": {},
   "source": [
    "## timm\n",
    "\n",
    "[PyTorch Image Models](https://timm.fast.ai/) (timm) is a wonderful library by Ross Wightman which provides state-of-the-art pre-trained computer vision models. It's like Huggingface Transformers, but for computer vision instead of NLP (and it's not restricted to transformers-based models)!\n",
    "\n",
    "Ross has been kind enough to help me understand how to best take advantage of this library by identifying the top models. I'm going to share here so of what I've learned from him, plus some additional ideas."
   ]
  },
  {
   "cell_type": "markdown",
   "metadata": {},
   "source": [
    "## The data\n",
    "\n",
    "Ross regularly benchmarks new models as they are added to timm, and puts the results in a CSV in the project's GitHub repo. To analyse the data, we'll first clone the repo:"
   ]
  },
  {
   "cell_type": "code",
   "execution_count": 2,
   "metadata": {
    "ExecuteTime": {
     "end_time": "2023-12-08T02:56:58.866631Z",
     "start_time": "2023-12-08T02:56:56.459521Z"
    },
    "execution": {
     "iopub.execute_input": "2023-06-10T09:01:57.472319Z",
     "iopub.status.busy": "2023-06-10T09:01:57.471089Z",
     "iopub.status.idle": "2023-06-10T09:02:00.007032Z",
     "shell.execute_reply": "2023-06-10T09:02:00.005777Z",
     "shell.execute_reply.started": "2023-06-10T09:01:57.472116Z"
    }
   },
   "outputs": [
    {
     "name": "stdout",
     "output_type": "stream",
     "text": [
      "Cloning into 'pytorch-image-models'...\n",
      "remote: Enumerating objects: 568, done.\u001b[K\n",
      "remote: Counting objects: 100% (568/568), done.\u001b[K\n",
      "remote: Compressing objects: 100% (401/401), done.\u001b[K\n",
      "remote: Total 568 (delta 220), reused 378 (delta 161), pack-reused 0\u001b[K\n",
      "Receiving objects: 100% (568/568), 2.56 MiB | 10.77 MiB/s, done.\n",
      "Resolving deltas: 100% (220/220), done.\n"
     ]
    }
   ],
   "source": [
    "# Run only once locally\n",
    "# ! git clone --depth 1 https://github.com/rwightman/pytorch-image-models.git\n",
    "# ! cd pytorch-image-models/results"
   ]
  },
  {
   "cell_type": "code",
   "execution_count": 4,
   "metadata": {
    "ExecuteTime": {
     "end_time": "2023-12-08T02:57:29.284323Z",
     "start_time": "2023-12-08T02:57:29.129104Z"
    },
    "scrolled": true
   },
   "outputs": [
    {
     "name": "stdout",
     "output_type": "stream",
     "text": [
      "README.md\r\n",
      "benchmark-infer-amp-nchw-pt111-cu113-rtx3090.csv\r\n",
      "benchmark-infer-amp-nchw-pt112-cu113-rtx3090.csv\r\n",
      "benchmark-infer-amp-nchw-pt113-cu117-rtx3090.csv\r\n",
      "benchmark-infer-amp-nhwc-pt111-cu113-rtx3090.csv\r\n",
      "benchmark-infer-amp-nhwc-pt112-cu113-rtx3090.csv\r\n",
      "benchmark-infer-amp-nhwc-pt113-cu117-rtx3090.csv\r\n",
      "benchmark-train-amp-nchw-pt111-cu113-rtx3090.csv\r\n",
      "benchmark-train-amp-nchw-pt112-cu113-rtx3090.csv\r\n",
      "benchmark-train-amp-nhwc-pt111-cu113-rtx3090.csv\r\n",
      "benchmark-train-amp-nhwc-pt112-cu113-rtx3090.csv\r\n",
      "generate_csv_results.py\r\n",
      "model_metadata-in1k.csv\r\n",
      "\u001b[34mpytorch-image-models\u001b[m\u001b[m\r\n",
      "results-imagenet-a-clean.csv\r\n",
      "results-imagenet-a.csv\r\n",
      "results-imagenet-r-clean.csv\r\n",
      "results-imagenet-r.csv\r\n",
      "results-imagenet-real.csv\r\n",
      "results-imagenet.csv\r\n",
      "results-imagenetv2-matched-frequency.csv\r\n",
      "results-sketch.csv\r\n"
     ]
    }
   ],
   "source": [
    "# Files in local env that are cloned from git \n",
    "!ls"
   ]
  },
  {
   "cell_type": "markdown",
   "metadata": {},
   "source": [
    "Using Pandas, we can read the two CSV files we need, and merge them together."
   ]
  },
  {
   "cell_type": "code",
   "execution_count": 27,
   "metadata": {
    "ExecuteTime": {
     "end_time": "2023-12-08T03:04:28.423225Z",
     "start_time": "2023-12-08T03:04:28.371371Z"
    },
    "execution": {
     "iopub.execute_input": "2023-06-10T09:02:00.012702Z",
     "iopub.status.busy": "2023-06-10T09:02:00.010155Z",
     "iopub.status.idle": "2023-06-10T09:02:00.075748Z",
     "shell.execute_reply": "2023-06-10T09:02:00.074499Z",
     "shell.execute_reply.started": "2023-06-10T09:02:00.012626Z"
    }
   },
   "outputs": [
    {
     "name": "stdout",
     "output_type": "stream",
     "text": [
      "(1002, 9)\n"
     ]
    },
    {
     "data": {
      "text/html": [
       "<div>\n",
       "<style scoped>\n",
       "    .dataframe tbody tr th:only-of-type {\n",
       "        vertical-align: middle;\n",
       "    }\n",
       "\n",
       "    .dataframe tbody tr th {\n",
       "        vertical-align: top;\n",
       "    }\n",
       "\n",
       "    .dataframe thead th {\n",
       "        text-align: right;\n",
       "    }\n",
       "</style>\n",
       "<table border=\"1\" class=\"dataframe\">\n",
       "  <thead>\n",
       "    <tr style=\"text-align: right;\">\n",
       "      <th></th>\n",
       "      <th>model</th>\n",
       "      <th>top1</th>\n",
       "      <th>top1_err</th>\n",
       "      <th>top5</th>\n",
       "      <th>top5_err</th>\n",
       "      <th>param_count</th>\n",
       "      <th>img_size</th>\n",
       "      <th>crop_pct</th>\n",
       "      <th>interpolation</th>\n",
       "    </tr>\n",
       "  </thead>\n",
       "  <tbody>\n",
       "    <tr>\n",
       "      <th>504</th>\n",
       "      <td>xcit_small_12_p16_224.fb_in1k</td>\n",
       "      <td>81.97</td>\n",
       "      <td>18.03</td>\n",
       "      <td>95.812</td>\n",
       "      <td>4.188</td>\n",
       "      <td>26.25</td>\n",
       "      <td>224</td>\n",
       "      <td>1.0</td>\n",
       "      <td>bicubic</td>\n",
       "    </tr>\n",
       "  </tbody>\n",
       "</table>\n",
       "</div>"
      ],
      "text/plain": [
       "                             model   top1  top1_err    top5  top5_err  \\\n",
       "504  xcit_small_12_p16_224.fb_in1k  81.97     18.03  95.812     4.188   \n",
       "\n",
       "    param_count  img_size  crop_pct interpolation  \n",
       "504       26.25       224       1.0       bicubic  "
      ]
     },
     "execution_count": 27,
     "metadata": {},
     "output_type": "execute_result"
    }
   ],
   "source": [
    "import pandas as pd\n",
    "df_results = pd.read_csv('results-imagenet.csv')\n",
    "print (df_results.shape)\n",
    "df_results.sample(1)"
   ]
  },
  {
   "cell_type": "code",
   "execution_count": 28,
   "metadata": {
    "ExecuteTime": {
     "end_time": "2023-12-08T03:04:28.753411Z",
     "start_time": "2023-12-08T03:04:28.740823Z"
    },
    "execution": {
     "iopub.execute_input": "2023-06-10T09:02:00.078621Z",
     "iopub.status.busy": "2023-06-10T09:02:00.077514Z",
     "iopub.status.idle": "2023-06-10T09:02:00.098849Z",
     "shell.execute_reply": "2023-06-10T09:02:00.097199Z",
     "shell.execute_reply.started": "2023-06-10T09:02:00.078545Z"
    }
   },
   "outputs": [],
   "source": [
    "# Modifying to be compatible with model naming convention\n",
    "df_results['model_org'] = df_results['model'] \n",
    "df_results['model'] = df_results['model'].str.split('.').str[0]"
   ]
  },
  {
   "cell_type": "markdown",
   "metadata": {},
   "source": [
    "We'll also add a \"family\" column that will allow us to group architectures into categories with similar characteristics:\n",
    "\n",
    "Ross has told me which models he's found the most usable in practice, so I'll limit the charts to just look at these. (I also include VGG, not because it's good, but as a comparison to show how far things have come in the last few years.)"
   ]
  },
  {
   "cell_type": "code",
   "execution_count": 29,
   "metadata": {
    "ExecuteTime": {
     "end_time": "2023-12-08T03:04:29.205829Z",
     "start_time": "2023-12-08T03:04:29.188559Z"
    },
    "execution": {
     "iopub.execute_input": "2023-06-10T09:02:00.103852Z",
     "iopub.status.busy": "2023-06-10T09:02:00.103307Z",
     "iopub.status.idle": "2023-06-10T09:02:00.118263Z",
     "shell.execute_reply": "2023-06-10T09:02:00.116465Z",
     "shell.execute_reply.started": "2023-06-10T09:02:00.10379Z"
    }
   },
   "outputs": [],
   "source": [
    "def get_data(part, col):\n",
    "    df = pd.read_csv(f'benchmark-{part}-amp-nhwc-pt111-cu113-rtx3090.csv').merge(df_results, on='model')\n",
    "    df['secs'] = 1. / df[col]\n",
    "    df['family'] = df.model.str.extract('^([a-z]+?(?:v2)?)(?:\\d|_|$)')\n",
    "    df = df[~df.model.str.endswith('gn')]\n",
    "    df.loc[df.model.str.contains('in22'),'family'] = df.loc[df.model.str.contains('in22'),'family'] + '_in22'\n",
    "    df.loc[df.model.str.contains('resnet.*d'),'family'] = df.loc[df.model.str.contains('resnet.*d'),'family'] + 'd'\n",
    "    return df[df.family.str.contains('^re[sg]netd?|beit|convnext|levit|efficient|vit|vgg|swin')]"
   ]
  },
  {
   "cell_type": "code",
   "execution_count": 30,
   "metadata": {
    "ExecuteTime": {
     "end_time": "2023-12-08T03:04:29.405907Z",
     "start_time": "2023-12-08T03:04:29.359820Z"
    },
    "execution": {
     "iopub.execute_input": "2023-06-10T09:02:00.120576Z",
     "iopub.status.busy": "2023-06-10T09:02:00.120176Z",
     "iopub.status.idle": "2023-06-10T09:02:00.196694Z",
     "shell.execute_reply": "2023-06-10T09:02:00.195504Z",
     "shell.execute_reply.started": "2023-06-10T09:02:00.120524Z"
    }
   },
   "outputs": [
    {
     "data": {
      "text/html": [
       "<div>\n",
       "<style scoped>\n",
       "    .dataframe tbody tr th:only-of-type {\n",
       "        vertical-align: middle;\n",
       "    }\n",
       "\n",
       "    .dataframe tbody tr th {\n",
       "        vertical-align: top;\n",
       "    }\n",
       "\n",
       "    .dataframe thead th {\n",
       "        text-align: right;\n",
       "    }\n",
       "</style>\n",
       "<table border=\"1\" class=\"dataframe\">\n",
       "  <thead>\n",
       "    <tr style=\"text-align: right;\">\n",
       "      <th></th>\n",
       "      <th>model</th>\n",
       "      <th>infer_samples_per_sec</th>\n",
       "      <th>infer_step_time</th>\n",
       "      <th>infer_batch_size</th>\n",
       "      <th>infer_img_size</th>\n",
       "      <th>param_count_x</th>\n",
       "      <th>top1</th>\n",
       "      <th>top1_err</th>\n",
       "      <th>top5</th>\n",
       "      <th>top5_err</th>\n",
       "      <th>param_count_y</th>\n",
       "      <th>img_size</th>\n",
       "      <th>crop_pct</th>\n",
       "      <th>interpolation</th>\n",
       "      <th>model_org</th>\n",
       "      <th>secs</th>\n",
       "      <th>family</th>\n",
       "    </tr>\n",
       "  </thead>\n",
       "  <tbody>\n",
       "    <tr>\n",
       "      <th>133</th>\n",
       "      <td>regnetx_016</td>\n",
       "      <td>3776.49</td>\n",
       "      <td>271.139</td>\n",
       "      <td>1024</td>\n",
       "      <td>224</td>\n",
       "      <td>9.19</td>\n",
       "      <td>76.924</td>\n",
       "      <td>23.076</td>\n",
       "      <td>93.416</td>\n",
       "      <td>6.584</td>\n",
       "      <td>9.19</td>\n",
       "      <td>224</td>\n",
       "      <td>0.875</td>\n",
       "      <td>bicubic</td>\n",
       "      <td>regnetx_016.pycls_in1k</td>\n",
       "      <td>0.000265</td>\n",
       "      <td>regnetx</td>\n",
       "    </tr>\n",
       "  </tbody>\n",
       "</table>\n",
       "</div>"
      ],
      "text/plain": [
       "           model  infer_samples_per_sec  infer_step_time  infer_batch_size  \\\n",
       "133  regnetx_016                3776.49          271.139              1024   \n",
       "\n",
       "     infer_img_size  param_count_x    top1  top1_err    top5  top5_err  \\\n",
       "133             224           9.19  76.924    23.076  93.416     6.584   \n",
       "\n",
       "    param_count_y  img_size  crop_pct interpolation               model_org  \\\n",
       "133          9.19       224     0.875       bicubic  regnetx_016.pycls_in1k   \n",
       "\n",
       "         secs   family  \n",
       "133  0.000265  regnetx  "
      ]
     },
     "execution_count": 30,
     "metadata": {},
     "output_type": "execute_result"
    }
   ],
   "source": [
    "df = get_data('infer', 'infer_samples_per_sec')\n",
    "df.sample(1)"
   ]
  },
  {
   "cell_type": "markdown",
   "metadata": {},
   "source": [
    "## Inference results"
   ]
  },
  {
   "cell_type": "markdown",
   "metadata": {},
   "source": [
    "Here's the results for inference performance (see the last section for training performance). In this chart:\n",
    "\n",
    "- <span style=\"color:blue\">the x axis shows how many seconds it takes to process one image (**note**: it's a log scale)</span>\n",
    "- <span style=\"color:blue\">the y axis is the accuracy on Imagenet</span>\n",
    "- <span style=\"color:blue\">the size of each bubble is proportional to the size of images used in testing</span>\n",
    "- <span style=\"color:blue\">the color shows what \"family\" the architecture is from.</span>\n",
    "\n",
    "Hover your mouse over a marker to see details about the model. Double-click in the legend to display just one family. Single-click in the legend to show or hide a family.\n",
    "\n",
    "**Note**: on my screen, Kaggle cuts off the family selector and some plotly functionality -- to see the whole thing, collapse the table of contents on the right by clicking the little arrow to the right of \"*Contents*\"."
   ]
  },
  {
   "cell_type": "code",
   "execution_count": 38,
   "metadata": {
    "ExecuteTime": {
     "end_time": "2023-12-08T03:07:17.709003Z",
     "start_time": "2023-12-08T03:07:17.687022Z"
    }
   },
   "outputs": [],
   "source": [
    "import plotly.express as px\n",
    "w,h = 1000,800\n",
    "\n",
    "def show_all(df, title, size):\n",
    "    fig = px.scatter(\n",
    "        df, width=w, height=h, size=df[size]**2, title=title,\n",
    "        x='secs',  \n",
    "        y='top1', log_x=True, color='family', hover_name='model', hover_data=[size])\n",
    "    \n",
    "    fig.update_xaxes(title_text='secs (how many seconds it takes to process one image)')\n",
    "    fig.update_yaxes(title_text='top1 (accuracy on Imagenet)')\n",
    "    \n",
    "    return fig"
   ]
  },
  {
   "cell_type": "code",
   "execution_count": 40,
   "metadata": {
    "ExecuteTime": {
     "end_time": "2023-12-08T03:07:26.273115Z",
     "start_time": "2023-12-08T03:07:26.179762Z"
    },
    "execution": {
     "iopub.execute_input": "2023-06-10T09:02:02.327814Z",
     "iopub.status.busy": "2023-06-10T09:02:02.327478Z",
     "iopub.status.idle": "2023-06-10T09:02:04.16098Z",
     "shell.execute_reply": "2023-06-10T09:02:04.159727Z",
     "shell.execute_reply.started": "2023-06-10T09:02:02.327761Z"
    },
    "scrolled": false
   },
   "outputs": [
    {
     "data": {
      "application/vnd.plotly.v1+json": {
       "config": {
        "plotlyServerURL": "https://plot.ly"
       },
       "data": [
        {
         "customdata": [
          [
           224
          ],
          [
           224
          ],
          [
           224
          ],
          [
           224
          ],
          [
           224
          ]
         ],
         "hovertemplate": "<b>%{hovertext}</b><br><br>family=levit<br>secs=%{x}<br>top1=%{y}<br>size=%{marker.size}<br>infer_img_size=%{customdata[0]}<extra></extra>",
         "hovertext": [
          "levit_128s",
          "levit_128",
          "levit_192",
          "levit_256",
          "levit_384"
         ],
         "legendgroup": "levit",
         "marker": {
          "color": "#636efa",
          "size": [
           50176,
           50176,
           50176,
           50176,
           50176
          ],
          "sizemode": "area",
          "sizeref": 655.36,
          "symbol": "circle"
         },
         "mode": "markers",
         "name": "levit",
         "orientation": "v",
         "showlegend": true,
         "type": "scatter",
         "x": [
          4.654236751715086e-05,
          6.822292249261998e-05,
          7.756230968148262e-05,
          0.00010599687945186893,
          0.00017720128293728847
         ],
         "xaxis": "x",
         "y": [
          76.526,
          78.49,
          79.838,
          81.514,
          82.596
         ],
         "yaxis": "y"
        },
        {
         "customdata": [
          [
           224
          ],
          [
           224
          ],
          [
           224
          ],
          [
           224
          ],
          [
           224
          ],
          [
           224
          ],
          [
           224
          ],
          [
           224
          ],
          [
           224
          ],
          [
           224
          ],
          [
           224
          ],
          [
           224
          ],
          [
           224
          ],
          [
           224
          ],
          [
           224
          ],
          [
           224
          ],
          [
           224
          ],
          [
           224
          ]
         ],
         "hovertemplate": "<b>%{hovertext}</b><br><br>family=regnetx<br>secs=%{x}<br>top1=%{y}<br>size=%{marker.size}<br>infer_img_size=%{customdata[0]}<extra></extra>",
         "hovertext": [
          "regnetx_002",
          "regnetx_004",
          "regnetx_008",
          "regnetx_008",
          "regnetx_006",
          "regnetx_016",
          "regnetx_016",
          "regnetx_032",
          "regnetx_032",
          "regnetx_040",
          "regnetx_080",
          "regnetx_080",
          "regnetx_064",
          "regnetx_120",
          "regnetx_160",
          "regnetx_160",
          "regnetx_320",
          "regnetx_320"
         ],
         "legendgroup": "regnetx",
         "marker": {
          "color": "#EF553B",
          "size": [
           50176,
           50176,
           50176,
           50176,
           50176,
           50176,
           50176,
           50176,
           50176,
           50176,
           50176,
           50176,
           50176,
           50176,
           50176,
           50176,
           50176,
           50176
          ],
          "sizemode": "area",
          "sizeref": 655.36,
          "symbol": "circle"
         },
         "mode": "markers",
         "name": "regnetx",
         "orientation": "v",
         "showlegend": true,
         "type": "scatter",
         "x": [
          5.611048828469115e-05,
          6.925193368711838e-05,
          0.00011822399190402103,
          0.00011822399190402103,
          0.0001259786970023369,
          0.00026479614668647344,
          0.00026479614668647344,
          0.0006228278877415016,
          0.0006228278877415016,
          0.0006304057291272663,
          0.0007938902208602596,
          0.0007938902208602596,
          0.0008572212316554657,
          0.0012854296548621376,
          0.001604157977477622,
          0.001604157977477622,
          0.0038134462113411888,
          0.0038134462113411888
         ],
         "xaxis": "x",
         "y": [
          68.746,
          72.398,
          77.304,
          75.03,
          73.868,
          79.436,
          76.924,
          80.926,
          78.168,
          78.492,
          81.538,
          79.202,
          79.066,
          79.588,
          82.566,
          79.866,
          82.81,
          80.246
         ],
         "yaxis": "y"
        },
        {
         "customdata": [
          [
           224
          ],
          [
           224
          ],
          [
           224
          ],
          [
           224
          ],
          [
           224
          ],
          [
           224
          ],
          [
           224
          ],
          [
           288
          ],
          [
           288
          ],
          [
           288
          ],
          [
           288
          ],
          [
           288
          ],
          [
           224
          ],
          [
           224
          ],
          [
           288
          ],
          [
           288
          ],
          [
           288
          ],
          [
           288
          ],
          [
           224
          ],
          [
           224
          ],
          [
           224
          ],
          [
           224
          ],
          [
           224
          ],
          [
           288
          ],
          [
           288
          ],
          [
           288
          ],
          [
           288
          ],
          [
           288
          ],
          [
           288
          ],
          [
           288
          ]
         ],
         "hovertemplate": "<b>%{hovertext}</b><br><br>family=regnety<br>secs=%{x}<br>top1=%{y}<br>size=%{marker.size}<br>infer_img_size=%{customdata[0]}<extra></extra>",
         "hovertext": [
          "regnety_002",
          "regnety_006",
          "regnety_004",
          "regnety_004",
          "regnety_008",
          "regnety_016",
          "regnety_016",
          "regnety_032",
          "regnety_032",
          "regnety_032",
          "regnety_040",
          "regnety_040",
          "regnety_120",
          "regnety_120",
          "regnety_080",
          "regnety_080",
          "regnety_064",
          "regnety_064",
          "regnety_320",
          "regnety_320",
          "regnety_320",
          "regnety_320",
          "regnety_320",
          "regnety_160",
          "regnety_160",
          "regnety_160",
          "regnety_160",
          "regnety_160",
          "regnety_160",
          "regnety_160"
         ],
         "legendgroup": "regnety",
         "marker": {
          "color": "#00cc96",
          "size": [
           50176,
           50176,
           50176,
           50176,
           50176,
           50176,
           50176,
           82944,
           82944,
           82944,
           82944,
           82944,
           50176,
           50176,
           82944,
           82944,
           82944,
           82944,
           50176,
           50176,
           50176,
           50176,
           50176,
           82944,
           82944,
           82944,
           82944,
           82944,
           82944,
           82944
          ],
          "sizemode": "area",
          "sizeref": 655.36,
          "symbol": "circle"
         },
         "mode": "markers",
         "name": "regnety",
         "orientation": "v",
         "showlegend": true,
         "type": "scatter",
         "x": [
          5.9976920880845045e-05,
          0.00010017450398594352,
          0.00010468376082691796,
          0.00010468376082691796,
          0.00012704688411164372,
          0.00029335406368716726,
          0.00029335406368716726,
          0.0007311277645768598,
          0.0007311277645768598,
          0.0007311277645768598,
          0.0011773986554107355,
          0.0011773986554107355,
          0.0013256445946841651,
          0.0013256445946841651,
          0.0018643499011894553,
          0.0018643499011894553,
          0.0021192726656211586,
          0.0021192726656211586,
          0.002407666008571291,
          0.002407666008571291,
          0.002407666008571291,
          0.002407666008571291,
          0.002407666008571291,
          0.0024128362890577875,
          0.0024128362890577875,
          0.0024128362890577875,
          0.0024128362890577875,
          0.0024128362890577875,
          0.0024128362890577875,
          0.0024128362890577875
         ],
         "xaxis": "x",
         "y": [
          70.278,
          75.27,
          75.598,
          74.028,
          76.302,
          80.668,
          77.862,
          82.728,
          81.756,
          78.876,
          83.044,
          79.232,
          85.4,
          80.386,
          83.926,
          79.868,
          83.72,
          79.714,
          86.836,
          84.546,
          83.334,
          83.162,
          80.808,
          86.01,
          85.986,
          85.986,
          83.782,
          83.69,
          82.642,
          80.298
         ],
         "yaxis": "y"
        },
        {
         "customdata": [
          [
           224
          ],
          [
           224
          ],
          [
           224
          ],
          [
           224
          ],
          [
           224
          ],
          [
           224
          ],
          [
           384
          ],
          [
           224
          ],
          [
           224
          ],
          [
           384
          ],
          [
           224
          ],
          [
           384
          ],
          [
           384
          ],
          [
           384
          ],
          [
           224
          ],
          [
           224
          ],
          [
           224
          ],
          [
           224
          ],
          [
           224
          ],
          [
           224
          ],
          [
           224
          ],
          [
           384
          ],
          [
           384
          ],
          [
           384
          ],
          [
           384
          ],
          [
           224
          ],
          [
           384
          ],
          [
           384
          ],
          [
           384
          ],
          [
           384
          ],
          [
           224
          ],
          [
           224
          ],
          [
           384
          ],
          [
           384
          ]
         ],
         "hovertemplate": "<b>%{hovertext}</b><br><br>family=vit<br>secs=%{x}<br>top1=%{y}<br>size=%{marker.size}<br>infer_img_size=%{customdata[0]}<extra></extra>",
         "hovertext": [
          "vit_small_patch32_224",
          "vit_tiny_r_s16_p8_224",
          "vit_tiny_patch16_224",
          "vit_base_patch32_224",
          "vit_base_patch32_224",
          "vit_base_patch32_224",
          "vit_small_patch32_384",
          "vit_small_patch16_224",
          "vit_small_patch16_224",
          "vit_tiny_r_s16_p8_384",
          "vit_small_r26_s32_224",
          "vit_tiny_patch16_384",
          "vit_base_patch32_384",
          "vit_base_patch32_384",
          "vit_base_patch16_224_miil",
          "vit_base_patch16_224",
          "vit_base_patch16_224",
          "vit_base_patch16_224",
          "vit_base_patch16_224",
          "vit_base_patch16_224",
          "vit_large_r50_s32_224",
          "vit_small_patch16_384",
          "vit_small_patch16_384",
          "vit_small_r26_s32_384",
          "vit_large_patch32_384",
          "vit_large_patch16_224",
          "vit_base_patch16_384",
          "vit_base_patch16_384",
          "vit_base_patch16_384",
          "vit_large_r50_s32_384",
          "vit_base_patch8_224",
          "vit_base_patch8_224",
          "vit_base_r50_s16_384",
          "vit_large_patch16_384"
         ],
         "legendgroup": "vit",
         "marker": {
          "color": "#ab63fa",
          "size": [
           50176,
           50176,
           50176,
           50176,
           50176,
           50176,
           147456,
           50176,
           50176,
           147456,
           50176,
           147456,
           147456,
           147456,
           50176,
           50176,
           50176,
           50176,
           50176,
           50176,
           50176,
           147456,
           147456,
           147456,
           147456,
           50176,
           147456,
           147456,
           147456,
           147456,
           50176,
           50176,
           147456,
           147456
          ],
          "sizemode": "area",
          "sizeref": 655.36,
          "symbol": "circle"
         },
         "mode": "markers",
         "name": "vit",
         "orientation": "v",
         "showlegend": true,
         "type": "scatter",
         "x": [
          8.26542597112556e-05,
          0.00010105327831992861,
          0.0001606500543800434,
          0.00023169601482854495,
          0.00023169601482854495,
          0.00023169601482854495,
          0.0002629917946560067,
          0.0003523347461956656,
          0.0003523347461956656,
          0.0003702675182819587,
          0.0005623284898106078,
          0.0006846126461648,
          0.0007257578726585237,
          0.0007257578726585237,
          0.0009018027036045053,
          0.0009315670821455853,
          0.0009315670821455853,
          0.0009315670821455853,
          0.0009315670821455853,
          0.0009315670821455853,
          0.0013855980934170233,
          0.0014628865677755345,
          0.0014628865677755345,
          0.0017152952880838436,
          0.002085723224528105,
          0.0028202380280895707,
          0.0036026948157221604,
          0.0036026948157221604,
          0.0036026948157221604,
          0.004231729507849859,
          0.005465078150617554,
          0.005465078150617554,
          0.005822416302765648,
          0.010594342621040365
         ],
         "xaxis": "x",
         "y": [
          75.994,
          71.798,
          75.454,
          80.716,
          74.894,
          73.694,
          80.486,
          81.384,
          78.846,
          75.962,
          81.864,
          78.424,
          83.35,
          78.752,
          84.266,
          85.096,
          84.532,
          81.786,
          80.244,
          79.154,
          84.422,
          83.802,
          81.116,
          84.048,
          81.51,
          85.834,
          85.996,
          84.2,
          81.102,
          86.182,
          86.218,
          85.798,
          84.976,
          87.084
         ],
         "yaxis": "y"
        },
        {
         "customdata": [
          [
           224
          ],
          [
           224
          ],
          [
           224
          ],
          [
           224
          ],
          [
           224
          ],
          [
           224
          ],
          [
           224
          ],
          [
           224
          ],
          [
           224
          ],
          [
           224
          ],
          [
           224
          ],
          [
           224
          ],
          [
           224
          ],
          [
           256
          ],
          [
           224
          ],
          [
           224
          ],
          [
           224
          ],
          [
           224
          ],
          [
           224
          ],
          [
           224
          ],
          [
           224
          ],
          [
           224
          ],
          [
           224
          ],
          [
           224
          ],
          [
           224
          ],
          [
           224
          ],
          [
           224
          ],
          [
           224
          ],
          [
           224
          ],
          [
           224
          ],
          [
           224
          ],
          [
           224
          ],
          [
           256
          ],
          [
           256
          ],
          [
           224
          ],
          [
           224
          ],
          [
           224
          ],
          [
           224
          ],
          [
           224
          ],
          [
           224
          ],
          [
           224
          ],
          [
           288
          ],
          [
           288
          ],
          [
           224
          ],
          [
           224
          ],
          [
           224
          ],
          [
           224
          ],
          [
           224
          ],
          [
           224
          ],
          [
           224
          ]
         ],
         "hovertemplate": "<b>%{hovertext}</b><br><br>family=resnet<br>secs=%{x}<br>top1=%{y}<br>size=%{marker.size}<br>infer_img_size=%{customdata[0]}<extra></extra>",
         "hovertext": [
          "resnet18",
          "resnet18",
          "resnet18",
          "resnet18",
          "resnet18",
          "resnet18",
          "resnet18",
          "resnet34",
          "resnet34",
          "resnet34",
          "resnet34",
          "resnet34",
          "resnet26",
          "resnet26t",
          "resnet50",
          "resnet50",
          "resnet50",
          "resnet50",
          "resnet50",
          "resnet50",
          "resnet50",
          "resnet50",
          "resnet50",
          "resnet50",
          "resnet50",
          "resnet50",
          "resnet50",
          "resnet50",
          "resnet50",
          "resnet50",
          "resnet50",
          "resnet50",
          "resnet32ts",
          "resnet33ts",
          "resnet101",
          "resnet101",
          "resnet101",
          "resnet101",
          "resnet101",
          "resnet101",
          "resnet101",
          "resnet51q",
          "resnet61q",
          "resnet152",
          "resnet152",
          "resnet152",
          "resnet152",
          "resnet152",
          "resnet152",
          "resnet152"
         ],
         "legendgroup": "resnet",
         "marker": {
          "color": "#FFA15A",
          "size": [
           50176,
           50176,
           50176,
           50176,
           50176,
           50176,
           50176,
           50176,
           50176,
           50176,
           50176,
           50176,
           50176,
           65536,
           50176,
           50176,
           50176,
           50176,
           50176,
           50176,
           50176,
           50176,
           50176,
           50176,
           50176,
           50176,
           50176,
           50176,
           50176,
           50176,
           50176,
           50176,
           65536,
           65536,
           50176,
           50176,
           50176,
           50176,
           50176,
           50176,
           50176,
           82944,
           82944,
           50176,
           50176,
           50176,
           50176,
           50176,
           50176,
           50176
          ],
          "sizemode": "area",
          "sizeref": 655.36,
          "symbol": "circle"
         },
         "mode": "markers",
         "name": "resnet",
         "orientation": "v",
         "showlegend": true,
         "type": "scatter",
         "x": [
          9.236979323021786e-05,
          9.236979323021786e-05,
          9.236979323021786e-05,
          9.236979323021786e-05,
          9.236979323021786e-05,
          9.236979323021786e-05,
          9.236979323021786e-05,
          0.00015969338869370808,
          0.00015969338869370808,
          0.00015969338869370808,
          0.00015969338869370808,
          0.00015969338869370808,
          0.00017561482751111642,
          0.0002638710409448694,
          0.00028338807446305045,
          0.00028338807446305045,
          0.00028338807446305045,
          0.00028338807446305045,
          0.00028338807446305045,
          0.00028338807446305045,
          0.00028338807446305045,
          0.00028338807446305045,
          0.00028338807446305045,
          0.00028338807446305045,
          0.00028338807446305045,
          0.00028338807446305045,
          0.00028338807446305045,
          0.00028338807446305045,
          0.00028338807446305045,
          0.00028338807446305045,
          0.00028338807446305045,
          0.00028338807446305045,
          0.00029286350217890445,
          0.00029674294938752255,
          0.00046063207933926936,
          0.00046063207933926936,
          0.00046063207933926936,
          0.00046063207933926936,
          0.00046063207933926936,
          0.00046063207933926936,
          0.00046063207933926936,
          0.000534896657965681,
          0.0005959830740806961,
          0.0006634335339114052,
          0.0006634335339114052,
          0.0006634335339114052,
          0.0006634335339114052,
          0.0006634335339114052,
          0.0006634335339114052,
          0.0006634335339114052
         ],
         "xaxis": "x",
         "y": [
          73.282,
          73.158,
          72.594,
          72.372,
          70.838,
          69.76,
          68.254,
          77.918,
          77.158,
          76.48,
          74.578,
          72.97,
          76.366,
          78.332,
          81.214,
          81.182,
          80.972,
          80.912,
          80.87,
          80.85,
          80.772,
          80.706,
          80.676,
          80.454,
          79.976,
          79.836,
          79.64,
          79.234,
          78.998,
          78.048,
          77.58,
          76.13,
          79.392,
          79.726,
          82.778,
          82.322,
          82.236,
          81.89,
          79.814,
          79.31,
          77.376,
          82.36,
          82.524,
          83.45,
          82.732,
          82.608,
          82.288,
          80.546,
          79.694,
          78.322
         ],
         "yaxis": "y"
        },
        {
         "customdata": [
          [
           224
          ],
          [
           224
          ],
          [
           240
          ],
          [
           224
          ],
          [
           224
          ],
          [
           256
          ],
          [
           260
          ],
          [
           240
          ],
          [
           288
          ],
          [
           300
          ],
          [
           320
          ],
          [
           300
          ],
          [
           300
          ],
          [
           384
          ],
          [
           456
          ]
         ],
         "hovertemplate": "<b>%{hovertext}</b><br><br>family=efficientnet<br>secs=%{x}<br>top1=%{y}<br>size=%{marker.size}<br>infer_img_size=%{customdata[0]}<extra></extra>",
         "hovertext": [
          "efficientnet_lite0",
          "efficientnet_b0",
          "efficientnet_b1_pruned",
          "efficientnet_es",
          "efficientnet_es_pruned",
          "efficientnet_b1",
          "efficientnet_b2_pruned",
          "efficientnet_em",
          "efficientnet_b2",
          "efficientnet_b3_pruned",
          "efficientnet_b3",
          "efficientnet_el",
          "efficientnet_el_pruned",
          "efficientnet_b4",
          "efficientnet_b5"
         ],
         "legendgroup": "efficientnet",
         "marker": {
          "color": "#19d3f3",
          "size": [
           50176,
           50176,
           57600,
           50176,
           50176,
           65536,
           67600,
           57600,
           82944,
           90000,
           102400,
           90000,
           90000,
           147456,
           207936
          ],
          "sizemode": "area",
          "sizeref": 655.36,
          "symbol": "circle"
         },
         "mode": "markers",
         "name": "efficientnet",
         "orientation": "v",
         "showlegend": true,
         "type": "scatter",
         "x": [
          0.00011112172940969915,
          0.0001301779923689661,
          0.00016600486062231902,
          0.00017507769072525934,
          0.00017510804166170527,
          0.00024378530315921374,
          0.0002616848842960284,
          0.0002911538719097656,
          0.00032120258246876303,
          0.00032275451614256713,
          0.000539647933688062,
          0.0006642355645005945,
          0.0006644474123095528,
          0.0010264938051098862,
          0.0021380313007782433
         ],
         "xaxis": "x",
         "y": [
          75.48,
          77.694,
          78.242,
          78.054,
          75.014,
          78.8,
          79.92,
          79.24,
          80.61,
          80.852,
          82.242,
          81.312,
          80.3,
          83.414,
          85.892
         ],
         "yaxis": "y"
        },
        {
         "customdata": [
          [
           224
          ],
          [
           224
          ],
          [
           224
          ],
          [
           224
          ],
          [
           224
          ],
          [
           224
          ],
          [
           224
          ],
          [
           224
          ],
          [
           320
          ],
          [
           320
          ],
          [
           320
          ],
          [
           320
          ],
          [
           320
          ]
         ],
         "hovertemplate": "<b>%{hovertext}</b><br><br>family=resnetd<br>secs=%{x}<br>top1=%{y}<br>size=%{marker.size}<br>infer_img_size=%{customdata[0]}<extra></extra>",
         "hovertext": [
          "resnet18d",
          "resnet34d",
          "resnet26d",
          "resnet50d",
          "resnet50d",
          "resnet50d",
          "resnet50d",
          "resnet50d",
          "resnet101d",
          "resnet101d",
          "resnet152d",
          "resnet152d",
          "resnet200d"
         ],
         "legendgroup": "resnetd",
         "marker": {
          "color": "#FF6692",
          "size": [
           50176,
           50176,
           50176,
           50176,
           50176,
           50176,
           50176,
           50176,
           102400,
           102400,
           102400,
           102400,
           102400
          ],
          "sizemode": "area",
          "sizeref": 655.36,
          "symbol": "circle"
         },
         "mode": "markers",
         "name": "resnetd",
         "orientation": "v",
         "showlegend": true,
         "type": "scatter",
         "x": [
          0.00011218547400045547,
          0.00017947263760167124,
          0.0002044542400742578,
          0.00031235065734195835,
          0.00031235065734195835,
          0.00031235065734195835,
          0.00031235065734195835,
          0.00031235065734195835,
          0.0010008807750820723,
          0.0010008807750820723,
          0.0014054023666975855,
          0.0014054023666975855,
          0.0019066503965832825
         ],
         "xaxis": "x",
         "y": [
          73.794,
          78.436,
          77.408,
          81.45,
          81.356,
          81.164,
          79.078,
          78.722,
          83.016,
          80.426,
          83.684,
          80.476,
          83.964
         ],
         "yaxis": "y"
        },
        {
         "customdata": [
          [
           256
          ],
          [
           256
          ],
          [
           256
          ]
         ],
         "hovertemplate": "<b>%{hovertext}</b><br><br>family=mobilevit<br>secs=%{x}<br>top1=%{y}<br>size=%{marker.size}<br>infer_img_size=%{customdata[0]}<extra></extra>",
         "hovertext": [
          "mobilevit_xxs",
          "mobilevit_xs",
          "mobilevit_s"
         ],
         "legendgroup": "mobilevit",
         "marker": {
          "color": "#B6E880",
          "size": [
           65536,
           65536,
           65536
          ],
          "sizemode": "area",
          "sizeref": 655.36,
          "symbol": "circle"
         },
         "mode": "markers",
         "name": "mobilevit",
         "orientation": "v",
         "showlegend": true,
         "type": "scatter",
         "x": [
          0.00019510063290645313,
          0.00032276493352656195,
          0.0004140683875348853
         ],
         "xaxis": "x",
         "y": [
          68.932,
          74.636,
          78.312
         ],
         "yaxis": "y"
        },
        {
         "customdata": [
          [
           224
          ],
          [
           224
          ],
          [
           224
          ],
          [
           224
          ],
          [
           224
          ],
          [
           224
          ],
          [
           224
          ],
          [
           224
          ]
         ],
         "hovertemplate": "<b>%{hovertext}</b><br><br>family=repvgg<br>secs=%{x}<br>top1=%{y}<br>size=%{marker.size}<br>infer_img_size=%{customdata[0]}<extra></extra>",
         "hovertext": [
          "repvgg_b0",
          "repvgg_a2",
          "repvgg_b1",
          "repvgg_b1g4",
          "repvgg_b2",
          "repvgg_b3",
          "repvgg_b2g4",
          "repvgg_b3g4"
         ],
         "legendgroup": "repvgg",
         "marker": {
          "color": "#FF97FF",
          "size": [
           50176,
           50176,
           50176,
           50176,
           50176,
           50176,
           50176,
           50176
          ],
          "sizemode": "area",
          "sizeref": 655.36,
          "symbol": "circle"
         },
         "mode": "markers",
         "name": "repvgg",
         "orientation": "v",
         "showlegend": true,
         "type": "scatter",
         "x": [
          0.00019805588344807372,
          0.00025848743492578826,
          0.0005164995790528431,
          0.0006192755714365336,
          0.0008039813154742284,
          0.0009981932701809725,
          0.0012302090125112257,
          0.0015526503741887404
         ],
         "xaxis": "x",
         "y": [
          75.142,
          76.458,
          78.368,
          77.582,
          78.792,
          80.506,
          79.382,
          80.216
         ],
         "yaxis": "y"
        },
        {
         "customdata": [
          [
           240
          ],
          [
           240
          ],
          [
           240
          ],
          [
           240
          ],
          [
           240
          ],
          [
           240
          ],
          [
           240
          ],
          [
           240
          ],
          [
           240
          ],
          [
           408
          ],
          [
           408
          ]
         ],
         "hovertemplate": "<b>%{hovertext}</b><br><br>family=crossvit<br>secs=%{x}<br>top1=%{y}<br>size=%{marker.size}<br>infer_img_size=%{customdata[0]}<extra></extra>",
         "hovertext": [
          "crossvit_tiny_240",
          "crossvit_9_240",
          "crossvit_9_dagger_240",
          "crossvit_small_240",
          "crossvit_15_240",
          "crossvit_15_dagger_240",
          "crossvit_18_240",
          "crossvit_18_dagger_240",
          "crossvit_base_240",
          "crossvit_15_dagger_408",
          "crossvit_18_dagger_408"
         ],
         "legendgroup": "crossvit",
         "marker": {
          "color": "#FECB52",
          "size": [
           57600,
           57600,
           57600,
           57600,
           57600,
           57600,
           57600,
           57600,
           57600,
           166464,
           166464
          ],
          "sizemode": "area",
          "sizeref": 655.36,
          "symbol": "circle"
         },
         "mode": "markers",
         "name": "crossvit",
         "orientation": "v",
         "showlegend": true,
         "type": "scatter",
         "x": [
          0.00025943432938820195,
          0.0002746551018558445,
          0.0002807190900209978,
          0.0005422640609070993,
          0.0005881107530170082,
          0.0006054331571522846,
          0.0008294969101240098,
          0.0008531185749507324,
          0.0013383297644539614,
          0.002823662289990117,
          0.0038593647485623862
         ],
         "xaxis": "x",
         "y": [
          73.336,
          73.958,
          76.98,
          81.016,
          81.534,
          82.33,
          82.396,
          82.516,
          82.216,
          83.842,
          84.198
         ],
         "yaxis": "y"
        },
        {
         "customdata": [
          [
           224
          ],
          [
           224
          ]
         ],
         "hovertemplate": "<b>%{hovertext}</b><br><br>family=resnetv2<br>secs=%{x}<br>top1=%{y}<br>size=%{marker.size}<br>infer_img_size=%{customdata[0]}<extra></extra>",
         "hovertext": [
          "resnetv2_50",
          "resnetv2_101"
         ],
         "legendgroup": "resnetv2",
         "marker": {
          "color": "#636efa",
          "size": [
           50176,
           50176
          ],
          "sizemode": "area",
          "sizeref": 655.36,
          "symbol": "circle"
         },
         "mode": "markers",
         "name": "resnetv2",
         "orientation": "v",
         "showlegend": true,
         "type": "scatter",
         "x": [
          0.00027003891260730673,
          0.0004473172150030194
         ],
         "xaxis": "x",
         "y": [
          81.398,
          83.002
         ],
         "yaxis": "y"
        },
        {
         "customdata": [
          [
           224
          ],
          [
           224
          ],
          [
           224
          ]
         ],
         "hovertemplate": "<b>%{hovertext}</b><br><br>family=convit<br>secs=%{x}<br>top1=%{y}<br>size=%{marker.size}<br>infer_img_size=%{customdata[0]}<extra></extra>",
         "hovertext": [
          "convit_tiny",
          "convit_small",
          "convit_base"
         ],
         "legendgroup": "convit",
         "marker": {
          "color": "#EF553B",
          "size": [
           50176,
           50176,
           50176
          ],
          "sizemode": "area",
          "sizeref": 655.36,
          "symbol": "circle"
         },
         "mode": "markers",
         "name": "convit",
         "orientation": "v",
         "showlegend": true,
         "type": "scatter",
         "x": [
          0.0003142578800163414,
          0.0007307163943530237,
          0.0014544608313698112
         ],
         "xaxis": "x",
         "y": [
          73.112,
          81.42,
          82.29
         ],
         "yaxis": "y"
        },
        {
         "customdata": [
          [
           224
          ],
          [
           224
          ]
         ],
         "hovertemplate": "<b>%{hovertext}</b><br><br>family=resnetaad<br>secs=%{x}<br>top1=%{y}<br>size=%{marker.size}<br>infer_img_size=%{customdata[0]}<extra></extra>",
         "hovertext": [
          "resnetaa50d",
          "resnetaa101d"
         ],
         "legendgroup": "resnetaad",
         "marker": {
          "color": "#00cc96",
          "size": [
           50176,
           50176
          ],
          "sizemode": "area",
          "sizeref": 655.36,
          "symbol": "circle"
         },
         "mode": "markers",
         "name": "resnetaad",
         "orientation": "v",
         "showlegend": true,
         "type": "scatter",
         "x": [
          0.00034852799202567954,
          0.0005280918457338101
         ],
         "xaxis": "x",
         "y": [
          82.6,
          84.124
         ],
         "yaxis": "y"
        },
        {
         "customdata": [
          [
           224
          ],
          [
           288
          ],
          [
           320
          ],
          [
           320
          ],
          [
           352
          ],
          [
           384
          ],
          [
           416
          ]
         ],
         "hovertemplate": "<b>%{hovertext}</b><br><br>family=resnetrs<br>secs=%{x}<br>top1=%{y}<br>size=%{marker.size}<br>infer_img_size=%{customdata[0]}<extra></extra>",
         "hovertext": [
          "resnetrs50",
          "resnetrs101",
          "resnetrs152",
          "resnetrs200",
          "resnetrs270",
          "resnetrs350",
          "resnetrs420"
         ],
         "legendgroup": "resnetrs",
         "marker": {
          "color": "#ab63fa",
          "size": [
           50176,
           82944,
           102400,
           102400,
           123904,
           147456,
           173056
          ],
          "sizemode": "area",
          "sizeref": 655.36,
          "symbol": "circle"
         },
         "mode": "markers",
         "name": "resnetrs",
         "orientation": "v",
         "showlegend": true,
         "type": "scatter",
         "x": [
          0.000351576645466595,
          0.0009125586318920991,
          0.0015921792156925183,
          0.0021917327839389824,
          0.0034781398907864076,
          0.005297171310520182,
          0.007450454477723141
         ],
         "xaxis": "x",
         "y": [
          79.896,
          82.284,
          83.702,
          84.444,
          84.428,
          84.714,
          85.006
         ],
         "yaxis": "y"
        },
        {
         "customdata": [
          [
           288
          ],
          [
           320
          ],
          [
           320
          ],
          [
           320
          ],
          [
           320
          ],
          [
           320
          ],
          [
           320
          ],
          [
           320
          ]
         ],
         "hovertemplate": "<b>%{hovertext}</b><br><br>family=regnetz<br>secs=%{x}<br>top1=%{y}<br>size=%{marker.size}<br>infer_img_size=%{customdata[0]}<extra></extra>",
         "hovertext": [
          "regnetz_b16",
          "regnetz_c16",
          "regnetz_d8",
          "regnetz_040",
          "regnetz_d32",
          "regnetz_e8",
          "regnetz_c16_evos",
          "regnetz_d8_evos"
         ],
         "legendgroup": "regnetz",
         "marker": {
          "color": "#FFA15A",
          "size": [
           82944,
           102400,
           102400,
           102400,
           102400,
           102400,
           102400,
           102400
          ],
          "sizemode": "area",
          "sizeref": 655.36,
          "symbol": "circle"
         },
         "mode": "markers",
         "name": "regnetz",
         "orientation": "v",
         "showlegend": true,
         "type": "scatter",
         "x": [
          0.00036824952587873543,
          0.0005641494319015222,
          0.0008748829844008363,
          0.000961917679085024,
          0.0009901872444079175,
          0.0016463344363774057,
          0.00167117884956048,
          0.002579646588417387
         ],
         "xaxis": "x",
         "y": [
          80.728,
          82.634,
          84.054,
          84.24,
          84.022,
          85.036,
          82.632,
          84.126
         ],
         "yaxis": "y"
        },
        {
         "customdata": [
          [
           224
          ]
         ],
         "hovertemplate": "<b>%{hovertext}</b><br><br>family=resnetblur<br>secs=%{x}<br>top1=%{y}<br>size=%{marker.size}<br>infer_img_size=%{customdata[0]}<extra></extra>",
         "hovertext": [
          "resnetblur50"
         ],
         "legendgroup": "resnetblur",
         "marker": {
          "color": "#19d3f3",
          "size": [
           50176
          ],
          "sizemode": "area",
          "sizeref": 655.36,
          "symbol": "circle"
         },
         "mode": "markers",
         "name": "resnetblur",
         "orientation": "v",
         "showlegend": true,
         "type": "scatter",
         "x": [
          0.00038181346121538863
         ],
         "xaxis": "x",
         "y": [
          80.234
         ],
         "yaxis": "y"
        },
        {
         "customdata": [
          [
           224
          ],
          [
           224
          ],
          [
           224
          ],
          [
           224
          ],
          [
           224
          ],
          [
           224
          ],
          [
           224
          ]
         ],
         "hovertemplate": "<b>%{hovertext}</b><br><br>family=vgg<br>secs=%{x}<br>top1=%{y}<br>size=%{marker.size}<br>infer_img_size=%{customdata[0]}<extra></extra>",
         "hovertext": [
          "vgg11_bn",
          "vgg13",
          "vgg13_bn",
          "vgg16",
          "vgg19",
          "vgg16_bn",
          "vgg19_bn"
         ],
         "legendgroup": "vgg",
         "marker": {
          "color": "#FF6692",
          "size": [
           50176,
           50176,
           50176,
           50176,
           50176,
           50176,
           50176
          ],
          "sizemode": "area",
          "sizeref": 655.36,
          "symbol": "circle"
         },
         "mode": "markers",
         "name": "vgg",
         "orientation": "v",
         "showlegend": true,
         "type": "scatter",
         "x": [
          0.0003856239395341663,
          0.000495051955702751,
          0.000609002271578473,
          0.00061273383454961,
          0.0007314379338341244,
          0.0007335465508641178,
          0.0008591212907438273
         ],
         "xaxis": "x",
         "y": [
          70.382,
          69.932,
          71.588,
          71.592,
          72.378,
          73.37,
          74.216
         ],
         "yaxis": "y"
        },
        {
         "customdata": [
          [
           288
          ],
          [
           384
          ],
          [
           416
          ]
         ],
         "hovertemplate": "<b>%{hovertext}</b><br><br>family=efficientnetv2<br>secs=%{x}<br>top1=%{y}<br>size=%{marker.size}<br>infer_img_size=%{customdata[0]}<extra></extra>",
         "hovertext": [
          "efficientnetv2_rw_t",
          "efficientnetv2_rw_s",
          "efficientnetv2_rw_m"
         ],
         "legendgroup": "efficientnetv2",
         "marker": {
          "color": "#B6E880",
          "size": [
           82944,
           147456,
           173056
          ],
          "sizemode": "area",
          "sizeref": 655.36,
          "symbol": "circle"
         },
         "mode": "markers",
         "name": "efficientnetv2",
         "orientation": "v",
         "showlegend": true,
         "type": "scatter",
         "x": [
          0.00039287790926091805,
          0.0009177342975661686,
          0.0025433643623785545
         ],
         "xaxis": "x",
         "y": [
          82.35,
          83.808,
          84.812
         ],
         "yaxis": "y"
        },
        {
         "customdata": [
          [
           224
          ],
          [
           224
          ],
          [
           224
          ],
          [
           224
          ],
          [
           224
          ],
          [
           224
          ],
          [
           224
          ],
          [
           224
          ],
          [
           224
          ],
          [
           224
          ],
          [
           224
          ],
          [
           224
          ],
          [
           224
          ],
          [
           224
          ],
          [
           224
          ],
          [
           224
          ],
          [
           224
          ],
          [
           224
          ],
          [
           224
          ],
          [
           224
          ],
          [
           224
          ]
         ],
         "hovertemplate": "<b>%{hovertext}</b><br><br>family=convnext<br>secs=%{x}<br>top1=%{y}<br>size=%{marker.size}<br>infer_img_size=%{customdata[0]}<extra></extra>",
         "hovertext": [
          "convnext_tiny",
          "convnext_tiny",
          "convnext_tiny",
          "convnext_tiny",
          "convnext_tiny",
          "convnext_tiny_hnf",
          "convnext_small",
          "convnext_small",
          "convnext_small",
          "convnext_small",
          "convnext_small",
          "convnext_base",
          "convnext_base",
          "convnext_base",
          "convnext_base",
          "convnext_base",
          "convnext_base",
          "convnext_base",
          "convnext_large",
          "convnext_large",
          "convnext_large"
         ],
         "legendgroup": "convnext",
         "marker": {
          "color": "#FF97FF",
          "size": [
           50176,
           50176,
           50176,
           50176,
           50176,
           50176,
           50176,
           50176,
           50176,
           50176,
           50176,
           50176,
           50176,
           50176,
           50176,
           50176,
           50176,
           50176,
           50176,
           50176,
           50176
          ],
          "sizemode": "area",
          "sizeref": 655.36,
          "symbol": "circle"
         },
         "mode": "markers",
         "name": "convnext",
         "orientation": "v",
         "showlegend": true,
         "type": "scatter",
         "x": [
          0.00043947351073414054,
          0.00043947351073414054,
          0.00043947351073414054,
          0.00043947351073414054,
          0.00043947351073414054,
          0.00048231356169272765,
          0.0007089131652263915,
          0.0007089131652263915,
          0.0007089131652263915,
          0.0007089131652263915,
          0.0007089131652263915,
          0.001017356094980365,
          0.001017356094980365,
          0.001017356094980365,
          0.001017356094980365,
          0.001017356094980365,
          0.001017356094980365,
          0.001017356094980365,
          0.001837424665588711,
          0.001837424665588711,
          0.001837424665588711
         ],
         "xaxis": "x",
         "y": [
          85.122,
          84.45,
          84.088,
          82.698,
          78.898,
          82.584,
          86.182,
          85.778,
          85.33,
          85.262,
          83.7,
          87.134,
          86.796,
          86.502,
          86.37,
          86.274,
          86.158,
          84.428,
          87.472,
          87.026,
          84.846
         ],
         "yaxis": "y"
        },
        {
         "customdata": [
          [
           224
          ],
          [
           224
          ],
          [
           224
          ],
          [
           224
          ],
          [
           224
          ],
          [
           224
          ],
          [
           224
          ],
          [
           224
          ],
          [
           224
          ],
          [
           224
          ],
          [
           384
          ],
          [
           384
          ],
          [
           384
          ]
         ],
         "hovertemplate": "<b>%{hovertext}</b><br><br>family=swin<br>secs=%{x}<br>top1=%{y}<br>size=%{marker.size}<br>infer_img_size=%{customdata[0]}<extra></extra>",
         "hovertext": [
          "swin_tiny_patch4_window7_224",
          "swin_tiny_patch4_window7_224",
          "swin_s3_tiny_224",
          "swin_small_patch4_window7_224",
          "swin_small_patch4_window7_224",
          "swin_s3_small_224",
          "swin_base_patch4_window7_224",
          "swin_base_patch4_window7_224",
          "swin_s3_base_224",
          "swin_large_patch4_window7_224",
          "swin_base_patch4_window12_384",
          "swin_base_patch4_window12_384",
          "swin_large_patch4_window12_384"
         ],
         "legendgroup": "swin",
         "marker": {
          "color": "#FECB52",
          "size": [
           50176,
           50176,
           50176,
           50176,
           50176,
           50176,
           50176,
           50176,
           50176,
           50176,
           147456,
           147456,
           147456
          ],
          "sizemode": "area",
          "sizeref": 655.36,
          "symbol": "circle"
         },
         "mode": "markers",
         "name": "swin",
         "orientation": "v",
         "showlegend": true,
         "type": "scatter",
         "x": [
          0.0005460184335823177,
          0.0005460184335823177,
          0.000599319173418996,
          0.0008899409969119047,
          0.0008899409969119047,
          0.0012179822905374956,
          0.001254390366281987,
          0.001254390366281987,
          0.001502765087761481,
          0.002185123678000175,
          0.004700352526439483,
          0.004700352526439483,
          0.007950389569088886
         ],
         "xaxis": "x",
         "y": [
          81.376,
          80.968,
          82.144,
          83.298,
          83.208,
          83.756,
          85.272,
          83.606,
          83.92,
          86.312,
          86.438,
          84.476,
          87.132
         ],
         "yaxis": "y"
        },
        {
         "customdata": [
          [
           224
          ],
          [
           224
          ],
          [
           384
          ],
          [
           384
          ],
          [
           512
          ]
         ],
         "hovertemplate": "<b>%{hovertext}</b><br><br>family=beit<br>secs=%{x}<br>top1=%{y}<br>size=%{marker.size}<br>infer_img_size=%{customdata[0]}<extra></extra>",
         "hovertext": [
          "beit_base_patch16_224",
          "beit_large_patch16_224",
          "beit_base_patch16_384",
          "beit_large_patch16_384",
          "beit_large_patch16_512"
         ],
         "legendgroup": "beit",
         "marker": {
          "color": "#636efa",
          "size": [
           50176,
           50176,
           147456,
           147456,
           262144
          ],
          "sizemode": "area",
          "sizeref": 655.36,
          "symbol": "circle"
         },
         "mode": "markers",
         "name": "beit",
         "orientation": "v",
         "showlegend": true,
         "type": "scatter",
         "x": [
          0.0010062791820962809,
          0.0030446034404018876,
          0.00418007774944614,
          0.0121580547112462,
          0.030184123151222455
         ],
         "xaxis": "x",
         "y": [
          85.212,
          87.478,
          86.8,
          88.402,
          88.596
         ],
         "yaxis": "y"
        },
        {
         "customdata": [
          [
           288
          ],
          [
           288
          ]
         ],
         "hovertemplate": "<b>%{hovertext}</b><br><br>family=regnetv<br>secs=%{x}<br>top1=%{y}<br>size=%{marker.size}<br>infer_img_size=%{customdata[0]}<extra></extra>",
         "hovertext": [
          "regnetv_040",
          "regnetv_064"
         ],
         "legendgroup": "regnetv",
         "marker": {
          "color": "#EF553B",
          "size": [
           82944,
           82944
          ],
          "sizemode": "area",
          "sizeref": 655.36,
          "symbol": "circle"
         },
         "mode": "markers",
         "name": "regnetv",
         "orientation": "v",
         "showlegend": true,
         "type": "scatter",
         "x": [
          0.0011776343680813981,
          0.0021355201059217975
         ],
         "xaxis": "x",
         "y": [
          83.198,
          83.716
         ],
         "yaxis": "y"
        },
        {
         "customdata": [
          [
           288
          ]
         ],
         "hovertemplate": "<b>%{hovertext}</b><br><br>family=resnetv2d<br>secs=%{x}<br>top1=%{y}<br>size=%{marker.size}<br>infer_img_size=%{customdata[0]}<extra></extra>",
         "hovertext": [
          "resnetv2_50d_evos"
         ],
         "legendgroup": "resnetv2d",
         "marker": {
          "color": "#00cc96",
          "size": [
           82944
          ],
          "sizemode": "area",
          "sizeref": 655.36,
          "symbol": "circle"
         },
         "mode": "markers",
         "name": "resnetv2d",
         "orientation": "v",
         "showlegend": true,
         "type": "scatter",
         "x": [
          0.0011976191331632715
         ],
         "xaxis": "x",
         "y": [
          82
         ],
         "yaxis": "y"
        }
       ],
       "layout": {
        "height": 800,
        "legend": {
         "itemsizing": "constant",
         "title": {
          "text": "family"
         },
         "tracegroupgap": 0
        },
        "template": {
         "data": {
          "bar": [
           {
            "error_x": {
             "color": "#2a3f5f"
            },
            "error_y": {
             "color": "#2a3f5f"
            },
            "marker": {
             "line": {
              "color": "#E5ECF6",
              "width": 0.5
             },
             "pattern": {
              "fillmode": "overlay",
              "size": 10,
              "solidity": 0.2
             }
            },
            "type": "bar"
           }
          ],
          "barpolar": [
           {
            "marker": {
             "line": {
              "color": "#E5ECF6",
              "width": 0.5
             },
             "pattern": {
              "fillmode": "overlay",
              "size": 10,
              "solidity": 0.2
             }
            },
            "type": "barpolar"
           }
          ],
          "carpet": [
           {
            "aaxis": {
             "endlinecolor": "#2a3f5f",
             "gridcolor": "white",
             "linecolor": "white",
             "minorgridcolor": "white",
             "startlinecolor": "#2a3f5f"
            },
            "baxis": {
             "endlinecolor": "#2a3f5f",
             "gridcolor": "white",
             "linecolor": "white",
             "minorgridcolor": "white",
             "startlinecolor": "#2a3f5f"
            },
            "type": "carpet"
           }
          ],
          "choropleth": [
           {
            "colorbar": {
             "outlinewidth": 0,
             "ticks": ""
            },
            "type": "choropleth"
           }
          ],
          "contour": [
           {
            "colorbar": {
             "outlinewidth": 0,
             "ticks": ""
            },
            "colorscale": [
             [
              0,
              "#0d0887"
             ],
             [
              0.1111111111111111,
              "#46039f"
             ],
             [
              0.2222222222222222,
              "#7201a8"
             ],
             [
              0.3333333333333333,
              "#9c179e"
             ],
             [
              0.4444444444444444,
              "#bd3786"
             ],
             [
              0.5555555555555556,
              "#d8576b"
             ],
             [
              0.6666666666666666,
              "#ed7953"
             ],
             [
              0.7777777777777778,
              "#fb9f3a"
             ],
             [
              0.8888888888888888,
              "#fdca26"
             ],
             [
              1,
              "#f0f921"
             ]
            ],
            "type": "contour"
           }
          ],
          "contourcarpet": [
           {
            "colorbar": {
             "outlinewidth": 0,
             "ticks": ""
            },
            "type": "contourcarpet"
           }
          ],
          "heatmap": [
           {
            "colorbar": {
             "outlinewidth": 0,
             "ticks": ""
            },
            "colorscale": [
             [
              0,
              "#0d0887"
             ],
             [
              0.1111111111111111,
              "#46039f"
             ],
             [
              0.2222222222222222,
              "#7201a8"
             ],
             [
              0.3333333333333333,
              "#9c179e"
             ],
             [
              0.4444444444444444,
              "#bd3786"
             ],
             [
              0.5555555555555556,
              "#d8576b"
             ],
             [
              0.6666666666666666,
              "#ed7953"
             ],
             [
              0.7777777777777778,
              "#fb9f3a"
             ],
             [
              0.8888888888888888,
              "#fdca26"
             ],
             [
              1,
              "#f0f921"
             ]
            ],
            "type": "heatmap"
           }
          ],
          "heatmapgl": [
           {
            "colorbar": {
             "outlinewidth": 0,
             "ticks": ""
            },
            "colorscale": [
             [
              0,
              "#0d0887"
             ],
             [
              0.1111111111111111,
              "#46039f"
             ],
             [
              0.2222222222222222,
              "#7201a8"
             ],
             [
              0.3333333333333333,
              "#9c179e"
             ],
             [
              0.4444444444444444,
              "#bd3786"
             ],
             [
              0.5555555555555556,
              "#d8576b"
             ],
             [
              0.6666666666666666,
              "#ed7953"
             ],
             [
              0.7777777777777778,
              "#fb9f3a"
             ],
             [
              0.8888888888888888,
              "#fdca26"
             ],
             [
              1,
              "#f0f921"
             ]
            ],
            "type": "heatmapgl"
           }
          ],
          "histogram": [
           {
            "marker": {
             "pattern": {
              "fillmode": "overlay",
              "size": 10,
              "solidity": 0.2
             }
            },
            "type": "histogram"
           }
          ],
          "histogram2d": [
           {
            "colorbar": {
             "outlinewidth": 0,
             "ticks": ""
            },
            "colorscale": [
             [
              0,
              "#0d0887"
             ],
             [
              0.1111111111111111,
              "#46039f"
             ],
             [
              0.2222222222222222,
              "#7201a8"
             ],
             [
              0.3333333333333333,
              "#9c179e"
             ],
             [
              0.4444444444444444,
              "#bd3786"
             ],
             [
              0.5555555555555556,
              "#d8576b"
             ],
             [
              0.6666666666666666,
              "#ed7953"
             ],
             [
              0.7777777777777778,
              "#fb9f3a"
             ],
             [
              0.8888888888888888,
              "#fdca26"
             ],
             [
              1,
              "#f0f921"
             ]
            ],
            "type": "histogram2d"
           }
          ],
          "histogram2dcontour": [
           {
            "colorbar": {
             "outlinewidth": 0,
             "ticks": ""
            },
            "colorscale": [
             [
              0,
              "#0d0887"
             ],
             [
              0.1111111111111111,
              "#46039f"
             ],
             [
              0.2222222222222222,
              "#7201a8"
             ],
             [
              0.3333333333333333,
              "#9c179e"
             ],
             [
              0.4444444444444444,
              "#bd3786"
             ],
             [
              0.5555555555555556,
              "#d8576b"
             ],
             [
              0.6666666666666666,
              "#ed7953"
             ],
             [
              0.7777777777777778,
              "#fb9f3a"
             ],
             [
              0.8888888888888888,
              "#fdca26"
             ],
             [
              1,
              "#f0f921"
             ]
            ],
            "type": "histogram2dcontour"
           }
          ],
          "mesh3d": [
           {
            "colorbar": {
             "outlinewidth": 0,
             "ticks": ""
            },
            "type": "mesh3d"
           }
          ],
          "parcoords": [
           {
            "line": {
             "colorbar": {
              "outlinewidth": 0,
              "ticks": ""
             }
            },
            "type": "parcoords"
           }
          ],
          "pie": [
           {
            "automargin": true,
            "type": "pie"
           }
          ],
          "scatter": [
           {
            "fillpattern": {
             "fillmode": "overlay",
             "size": 10,
             "solidity": 0.2
            },
            "type": "scatter"
           }
          ],
          "scatter3d": [
           {
            "line": {
             "colorbar": {
              "outlinewidth": 0,
              "ticks": ""
             }
            },
            "marker": {
             "colorbar": {
              "outlinewidth": 0,
              "ticks": ""
             }
            },
            "type": "scatter3d"
           }
          ],
          "scattercarpet": [
           {
            "marker": {
             "colorbar": {
              "outlinewidth": 0,
              "ticks": ""
             }
            },
            "type": "scattercarpet"
           }
          ],
          "scattergeo": [
           {
            "marker": {
             "colorbar": {
              "outlinewidth": 0,
              "ticks": ""
             }
            },
            "type": "scattergeo"
           }
          ],
          "scattergl": [
           {
            "marker": {
             "colorbar": {
              "outlinewidth": 0,
              "ticks": ""
             }
            },
            "type": "scattergl"
           }
          ],
          "scattermapbox": [
           {
            "marker": {
             "colorbar": {
              "outlinewidth": 0,
              "ticks": ""
             }
            },
            "type": "scattermapbox"
           }
          ],
          "scatterpolar": [
           {
            "marker": {
             "colorbar": {
              "outlinewidth": 0,
              "ticks": ""
             }
            },
            "type": "scatterpolar"
           }
          ],
          "scatterpolargl": [
           {
            "marker": {
             "colorbar": {
              "outlinewidth": 0,
              "ticks": ""
             }
            },
            "type": "scatterpolargl"
           }
          ],
          "scatterternary": [
           {
            "marker": {
             "colorbar": {
              "outlinewidth": 0,
              "ticks": ""
             }
            },
            "type": "scatterternary"
           }
          ],
          "surface": [
           {
            "colorbar": {
             "outlinewidth": 0,
             "ticks": ""
            },
            "colorscale": [
             [
              0,
              "#0d0887"
             ],
             [
              0.1111111111111111,
              "#46039f"
             ],
             [
              0.2222222222222222,
              "#7201a8"
             ],
             [
              0.3333333333333333,
              "#9c179e"
             ],
             [
              0.4444444444444444,
              "#bd3786"
             ],
             [
              0.5555555555555556,
              "#d8576b"
             ],
             [
              0.6666666666666666,
              "#ed7953"
             ],
             [
              0.7777777777777778,
              "#fb9f3a"
             ],
             [
              0.8888888888888888,
              "#fdca26"
             ],
             [
              1,
              "#f0f921"
             ]
            ],
            "type": "surface"
           }
          ],
          "table": [
           {
            "cells": {
             "fill": {
              "color": "#EBF0F8"
             },
             "line": {
              "color": "white"
             }
            },
            "header": {
             "fill": {
              "color": "#C8D4E3"
             },
             "line": {
              "color": "white"
             }
            },
            "type": "table"
           }
          ]
         },
         "layout": {
          "annotationdefaults": {
           "arrowcolor": "#2a3f5f",
           "arrowhead": 0,
           "arrowwidth": 1
          },
          "autotypenumbers": "strict",
          "coloraxis": {
           "colorbar": {
            "outlinewidth": 0,
            "ticks": ""
           }
          },
          "colorscale": {
           "diverging": [
            [
             0,
             "#8e0152"
            ],
            [
             0.1,
             "#c51b7d"
            ],
            [
             0.2,
             "#de77ae"
            ],
            [
             0.3,
             "#f1b6da"
            ],
            [
             0.4,
             "#fde0ef"
            ],
            [
             0.5,
             "#f7f7f7"
            ],
            [
             0.6,
             "#e6f5d0"
            ],
            [
             0.7,
             "#b8e186"
            ],
            [
             0.8,
             "#7fbc41"
            ],
            [
             0.9,
             "#4d9221"
            ],
            [
             1,
             "#276419"
            ]
           ],
           "sequential": [
            [
             0,
             "#0d0887"
            ],
            [
             0.1111111111111111,
             "#46039f"
            ],
            [
             0.2222222222222222,
             "#7201a8"
            ],
            [
             0.3333333333333333,
             "#9c179e"
            ],
            [
             0.4444444444444444,
             "#bd3786"
            ],
            [
             0.5555555555555556,
             "#d8576b"
            ],
            [
             0.6666666666666666,
             "#ed7953"
            ],
            [
             0.7777777777777778,
             "#fb9f3a"
            ],
            [
             0.8888888888888888,
             "#fdca26"
            ],
            [
             1,
             "#f0f921"
            ]
           ],
           "sequentialminus": [
            [
             0,
             "#0d0887"
            ],
            [
             0.1111111111111111,
             "#46039f"
            ],
            [
             0.2222222222222222,
             "#7201a8"
            ],
            [
             0.3333333333333333,
             "#9c179e"
            ],
            [
             0.4444444444444444,
             "#bd3786"
            ],
            [
             0.5555555555555556,
             "#d8576b"
            ],
            [
             0.6666666666666666,
             "#ed7953"
            ],
            [
             0.7777777777777778,
             "#fb9f3a"
            ],
            [
             0.8888888888888888,
             "#fdca26"
            ],
            [
             1,
             "#f0f921"
            ]
           ]
          },
          "colorway": [
           "#636efa",
           "#EF553B",
           "#00cc96",
           "#ab63fa",
           "#FFA15A",
           "#19d3f3",
           "#FF6692",
           "#B6E880",
           "#FF97FF",
           "#FECB52"
          ],
          "font": {
           "color": "#2a3f5f"
          },
          "geo": {
           "bgcolor": "white",
           "lakecolor": "white",
           "landcolor": "#E5ECF6",
           "showlakes": true,
           "showland": true,
           "subunitcolor": "white"
          },
          "hoverlabel": {
           "align": "left"
          },
          "hovermode": "closest",
          "mapbox": {
           "style": "light"
          },
          "paper_bgcolor": "white",
          "plot_bgcolor": "#E5ECF6",
          "polar": {
           "angularaxis": {
            "gridcolor": "white",
            "linecolor": "white",
            "ticks": ""
           },
           "bgcolor": "#E5ECF6",
           "radialaxis": {
            "gridcolor": "white",
            "linecolor": "white",
            "ticks": ""
           }
          },
          "scene": {
           "xaxis": {
            "backgroundcolor": "#E5ECF6",
            "gridcolor": "white",
            "gridwidth": 2,
            "linecolor": "white",
            "showbackground": true,
            "ticks": "",
            "zerolinecolor": "white"
           },
           "yaxis": {
            "backgroundcolor": "#E5ECF6",
            "gridcolor": "white",
            "gridwidth": 2,
            "linecolor": "white",
            "showbackground": true,
            "ticks": "",
            "zerolinecolor": "white"
           },
           "zaxis": {
            "backgroundcolor": "#E5ECF6",
            "gridcolor": "white",
            "gridwidth": 2,
            "linecolor": "white",
            "showbackground": true,
            "ticks": "",
            "zerolinecolor": "white"
           }
          },
          "shapedefaults": {
           "line": {
            "color": "#2a3f5f"
           }
          },
          "ternary": {
           "aaxis": {
            "gridcolor": "white",
            "linecolor": "white",
            "ticks": ""
           },
           "baxis": {
            "gridcolor": "white",
            "linecolor": "white",
            "ticks": ""
           },
           "bgcolor": "#E5ECF6",
           "caxis": {
            "gridcolor": "white",
            "linecolor": "white",
            "ticks": ""
           }
          },
          "title": {
           "x": 0.05
          },
          "xaxis": {
           "automargin": true,
           "gridcolor": "white",
           "linecolor": "white",
           "ticks": "",
           "title": {
            "standoff": 15
           },
           "zerolinecolor": "white",
           "zerolinewidth": 2
          },
          "yaxis": {
           "automargin": true,
           "gridcolor": "white",
           "linecolor": "white",
           "ticks": "",
           "title": {
            "standoff": 15
           },
           "zerolinecolor": "white",
           "zerolinewidth": 2
          }
         }
        },
        "title": {
         "text": "Inference performance (processing time vs. accuracy) of different models"
        },
        "width": 1000,
        "xaxis": {
         "anchor": "y",
         "domain": [
          0,
          1
         ],
         "title": {
          "text": "secs (how many seconds it takes to process one image)"
         },
         "type": "log"
        },
        "yaxis": {
         "anchor": "x",
         "domain": [
          0,
          1
         ],
         "title": {
          "text": "top1 (accuracy on Imagenet)"
         }
        }
       }
      },
      "text/html": [
       "<div>                            <div id=\"0bf3fa09-0cd3-4016-acda-c6f758c5d334\" class=\"plotly-graph-div\" style=\"height:800px; width:1000px;\"></div>            <script type=\"text/javascript\">                require([\"plotly\"], function(Plotly) {                    window.PLOTLYENV=window.PLOTLYENV || {};                                    if (document.getElementById(\"0bf3fa09-0cd3-4016-acda-c6f758c5d334\")) {                    Plotly.newPlot(                        \"0bf3fa09-0cd3-4016-acda-c6f758c5d334\",                        [{\"customdata\":[[224],[224],[224],[224],[224]],\"hovertemplate\":\"<b>%{hovertext}</b><br><br>family=levit<br>secs=%{x}<br>top1=%{y}<br>size=%{marker.size}<br>infer_img_size=%{customdata[0]}<extra></extra>\",\"hovertext\":[\"levit_128s\",\"levit_128\",\"levit_192\",\"levit_256\",\"levit_384\"],\"legendgroup\":\"levit\",\"marker\":{\"color\":\"#636efa\",\"size\":[50176,50176,50176,50176,50176],\"sizemode\":\"area\",\"sizeref\":655.36,\"symbol\":\"circle\"},\"mode\":\"markers\",\"name\":\"levit\",\"orientation\":\"v\",\"showlegend\":true,\"x\":[0.00004654236751715086,0.00006822292249261998,0.00007756230968148262,0.00010599687945186893,0.00017720128293728847],\"xaxis\":\"x\",\"y\":[76.526,78.49,79.838,81.514,82.596],\"yaxis\":\"y\",\"type\":\"scatter\"},{\"customdata\":[[224],[224],[224],[224],[224],[224],[224],[224],[224],[224],[224],[224],[224],[224],[224],[224],[224],[224]],\"hovertemplate\":\"<b>%{hovertext}</b><br><br>family=regnetx<br>secs=%{x}<br>top1=%{y}<br>size=%{marker.size}<br>infer_img_size=%{customdata[0]}<extra></extra>\",\"hovertext\":[\"regnetx_002\",\"regnetx_004\",\"regnetx_008\",\"regnetx_008\",\"regnetx_006\",\"regnetx_016\",\"regnetx_016\",\"regnetx_032\",\"regnetx_032\",\"regnetx_040\",\"regnetx_080\",\"regnetx_080\",\"regnetx_064\",\"regnetx_120\",\"regnetx_160\",\"regnetx_160\",\"regnetx_320\",\"regnetx_320\"],\"legendgroup\":\"regnetx\",\"marker\":{\"color\":\"#EF553B\",\"size\":[50176,50176,50176,50176,50176,50176,50176,50176,50176,50176,50176,50176,50176,50176,50176,50176,50176,50176],\"sizemode\":\"area\",\"sizeref\":655.36,\"symbol\":\"circle\"},\"mode\":\"markers\",\"name\":\"regnetx\",\"orientation\":\"v\",\"showlegend\":true,\"x\":[0.00005611048828469115,0.00006925193368711838,0.00011822399190402103,0.00011822399190402103,0.0001259786970023369,0.00026479614668647344,0.00026479614668647344,0.0006228278877415016,0.0006228278877415016,0.0006304057291272663,0.0007938902208602596,0.0007938902208602596,0.0008572212316554657,0.0012854296548621376,0.001604157977477622,0.001604157977477622,0.0038134462113411888,0.0038134462113411888],\"xaxis\":\"x\",\"y\":[68.746,72.398,77.304,75.03,73.868,79.436,76.924,80.926,78.168,78.492,81.538,79.202,79.066,79.588,82.566,79.866,82.81,80.246],\"yaxis\":\"y\",\"type\":\"scatter\"},{\"customdata\":[[224],[224],[224],[224],[224],[224],[224],[288],[288],[288],[288],[288],[224],[224],[288],[288],[288],[288],[224],[224],[224],[224],[224],[288],[288],[288],[288],[288],[288],[288]],\"hovertemplate\":\"<b>%{hovertext}</b><br><br>family=regnety<br>secs=%{x}<br>top1=%{y}<br>size=%{marker.size}<br>infer_img_size=%{customdata[0]}<extra></extra>\",\"hovertext\":[\"regnety_002\",\"regnety_006\",\"regnety_004\",\"regnety_004\",\"regnety_008\",\"regnety_016\",\"regnety_016\",\"regnety_032\",\"regnety_032\",\"regnety_032\",\"regnety_040\",\"regnety_040\",\"regnety_120\",\"regnety_120\",\"regnety_080\",\"regnety_080\",\"regnety_064\",\"regnety_064\",\"regnety_320\",\"regnety_320\",\"regnety_320\",\"regnety_320\",\"regnety_320\",\"regnety_160\",\"regnety_160\",\"regnety_160\",\"regnety_160\",\"regnety_160\",\"regnety_160\",\"regnety_160\"],\"legendgroup\":\"regnety\",\"marker\":{\"color\":\"#00cc96\",\"size\":[50176,50176,50176,50176,50176,50176,50176,82944,82944,82944,82944,82944,50176,50176,82944,82944,82944,82944,50176,50176,50176,50176,50176,82944,82944,82944,82944,82944,82944,82944],\"sizemode\":\"area\",\"sizeref\":655.36,\"symbol\":\"circle\"},\"mode\":\"markers\",\"name\":\"regnety\",\"orientation\":\"v\",\"showlegend\":true,\"x\":[0.000059976920880845045,0.00010017450398594352,0.00010468376082691796,0.00010468376082691796,0.00012704688411164372,0.00029335406368716726,0.00029335406368716726,0.0007311277645768598,0.0007311277645768598,0.0007311277645768598,0.0011773986554107355,0.0011773986554107355,0.0013256445946841651,0.0013256445946841651,0.0018643499011894553,0.0018643499011894553,0.0021192726656211586,0.0021192726656211586,0.002407666008571291,0.002407666008571291,0.002407666008571291,0.002407666008571291,0.002407666008571291,0.0024128362890577875,0.0024128362890577875,0.0024128362890577875,0.0024128362890577875,0.0024128362890577875,0.0024128362890577875,0.0024128362890577875],\"xaxis\":\"x\",\"y\":[70.278,75.27,75.598,74.028,76.302,80.668,77.862,82.728,81.756,78.876,83.044,79.232,85.4,80.386,83.926,79.868,83.72,79.714,86.836,84.546,83.334,83.162,80.808,86.01,85.986,85.986,83.782,83.69,82.642,80.298],\"yaxis\":\"y\",\"type\":\"scatter\"},{\"customdata\":[[224],[224],[224],[224],[224],[224],[384],[224],[224],[384],[224],[384],[384],[384],[224],[224],[224],[224],[224],[224],[224],[384],[384],[384],[384],[224],[384],[384],[384],[384],[224],[224],[384],[384]],\"hovertemplate\":\"<b>%{hovertext}</b><br><br>family=vit<br>secs=%{x}<br>top1=%{y}<br>size=%{marker.size}<br>infer_img_size=%{customdata[0]}<extra></extra>\",\"hovertext\":[\"vit_small_patch32_224\",\"vit_tiny_r_s16_p8_224\",\"vit_tiny_patch16_224\",\"vit_base_patch32_224\",\"vit_base_patch32_224\",\"vit_base_patch32_224\",\"vit_small_patch32_384\",\"vit_small_patch16_224\",\"vit_small_patch16_224\",\"vit_tiny_r_s16_p8_384\",\"vit_small_r26_s32_224\",\"vit_tiny_patch16_384\",\"vit_base_patch32_384\",\"vit_base_patch32_384\",\"vit_base_patch16_224_miil\",\"vit_base_patch16_224\",\"vit_base_patch16_224\",\"vit_base_patch16_224\",\"vit_base_patch16_224\",\"vit_base_patch16_224\",\"vit_large_r50_s32_224\",\"vit_small_patch16_384\",\"vit_small_patch16_384\",\"vit_small_r26_s32_384\",\"vit_large_patch32_384\",\"vit_large_patch16_224\",\"vit_base_patch16_384\",\"vit_base_patch16_384\",\"vit_base_patch16_384\",\"vit_large_r50_s32_384\",\"vit_base_patch8_224\",\"vit_base_patch8_224\",\"vit_base_r50_s16_384\",\"vit_large_patch16_384\"],\"legendgroup\":\"vit\",\"marker\":{\"color\":\"#ab63fa\",\"size\":[50176,50176,50176,50176,50176,50176,147456,50176,50176,147456,50176,147456,147456,147456,50176,50176,50176,50176,50176,50176,50176,147456,147456,147456,147456,50176,147456,147456,147456,147456,50176,50176,147456,147456],\"sizemode\":\"area\",\"sizeref\":655.36,\"symbol\":\"circle\"},\"mode\":\"markers\",\"name\":\"vit\",\"orientation\":\"v\",\"showlegend\":true,\"x\":[0.0000826542597112556,0.00010105327831992861,0.0001606500543800434,0.00023169601482854495,0.00023169601482854495,0.00023169601482854495,0.0002629917946560067,0.0003523347461956656,0.0003523347461956656,0.0003702675182819587,0.0005623284898106078,0.0006846126461648,0.0007257578726585237,0.0007257578726585237,0.0009018027036045053,0.0009315670821455853,0.0009315670821455853,0.0009315670821455853,0.0009315670821455853,0.0009315670821455853,0.0013855980934170233,0.0014628865677755345,0.0014628865677755345,0.0017152952880838436,0.002085723224528105,0.0028202380280895707,0.0036026948157221604,0.0036026948157221604,0.0036026948157221604,0.004231729507849859,0.005465078150617554,0.005465078150617554,0.005822416302765648,0.010594342621040365],\"xaxis\":\"x\",\"y\":[75.994,71.798,75.454,80.716,74.894,73.694,80.486,81.384,78.846,75.962,81.864,78.424,83.35,78.752,84.266,85.096,84.532,81.786,80.244,79.154,84.422,83.802,81.116,84.048,81.51,85.834,85.996,84.2,81.102,86.182,86.218,85.798,84.976,87.084],\"yaxis\":\"y\",\"type\":\"scatter\"},{\"customdata\":[[224],[224],[224],[224],[224],[224],[224],[224],[224],[224],[224],[224],[224],[256],[224],[224],[224],[224],[224],[224],[224],[224],[224],[224],[224],[224],[224],[224],[224],[224],[224],[224],[256],[256],[224],[224],[224],[224],[224],[224],[224],[288],[288],[224],[224],[224],[224],[224],[224],[224]],\"hovertemplate\":\"<b>%{hovertext}</b><br><br>family=resnet<br>secs=%{x}<br>top1=%{y}<br>size=%{marker.size}<br>infer_img_size=%{customdata[0]}<extra></extra>\",\"hovertext\":[\"resnet18\",\"resnet18\",\"resnet18\",\"resnet18\",\"resnet18\",\"resnet18\",\"resnet18\",\"resnet34\",\"resnet34\",\"resnet34\",\"resnet34\",\"resnet34\",\"resnet26\",\"resnet26t\",\"resnet50\",\"resnet50\",\"resnet50\",\"resnet50\",\"resnet50\",\"resnet50\",\"resnet50\",\"resnet50\",\"resnet50\",\"resnet50\",\"resnet50\",\"resnet50\",\"resnet50\",\"resnet50\",\"resnet50\",\"resnet50\",\"resnet50\",\"resnet50\",\"resnet32ts\",\"resnet33ts\",\"resnet101\",\"resnet101\",\"resnet101\",\"resnet101\",\"resnet101\",\"resnet101\",\"resnet101\",\"resnet51q\",\"resnet61q\",\"resnet152\",\"resnet152\",\"resnet152\",\"resnet152\",\"resnet152\",\"resnet152\",\"resnet152\"],\"legendgroup\":\"resnet\",\"marker\":{\"color\":\"#FFA15A\",\"size\":[50176,50176,50176,50176,50176,50176,50176,50176,50176,50176,50176,50176,50176,65536,50176,50176,50176,50176,50176,50176,50176,50176,50176,50176,50176,50176,50176,50176,50176,50176,50176,50176,65536,65536,50176,50176,50176,50176,50176,50176,50176,82944,82944,50176,50176,50176,50176,50176,50176,50176],\"sizemode\":\"area\",\"sizeref\":655.36,\"symbol\":\"circle\"},\"mode\":\"markers\",\"name\":\"resnet\",\"orientation\":\"v\",\"showlegend\":true,\"x\":[0.00009236979323021786,0.00009236979323021786,0.00009236979323021786,0.00009236979323021786,0.00009236979323021786,0.00009236979323021786,0.00009236979323021786,0.00015969338869370808,0.00015969338869370808,0.00015969338869370808,0.00015969338869370808,0.00015969338869370808,0.00017561482751111642,0.0002638710409448694,0.00028338807446305045,0.00028338807446305045,0.00028338807446305045,0.00028338807446305045,0.00028338807446305045,0.00028338807446305045,0.00028338807446305045,0.00028338807446305045,0.00028338807446305045,0.00028338807446305045,0.00028338807446305045,0.00028338807446305045,0.00028338807446305045,0.00028338807446305045,0.00028338807446305045,0.00028338807446305045,0.00028338807446305045,0.00028338807446305045,0.00029286350217890445,0.00029674294938752255,0.00046063207933926936,0.00046063207933926936,0.00046063207933926936,0.00046063207933926936,0.00046063207933926936,0.00046063207933926936,0.00046063207933926936,0.000534896657965681,0.0005959830740806961,0.0006634335339114052,0.0006634335339114052,0.0006634335339114052,0.0006634335339114052,0.0006634335339114052,0.0006634335339114052,0.0006634335339114052],\"xaxis\":\"x\",\"y\":[73.282,73.158,72.594,72.372,70.838,69.76,68.254,77.918,77.158,76.48,74.578,72.97,76.366,78.332,81.214,81.182,80.972,80.912,80.87,80.85,80.772,80.706,80.676,80.454,79.976,79.836,79.64,79.234,78.998,78.048,77.58,76.13,79.392,79.726,82.778,82.322,82.236,81.89,79.814,79.31,77.376,82.36,82.524,83.45,82.732,82.608,82.288,80.546,79.694,78.322],\"yaxis\":\"y\",\"type\":\"scatter\"},{\"customdata\":[[224],[224],[240],[224],[224],[256],[260],[240],[288],[300],[320],[300],[300],[384],[456]],\"hovertemplate\":\"<b>%{hovertext}</b><br><br>family=efficientnet<br>secs=%{x}<br>top1=%{y}<br>size=%{marker.size}<br>infer_img_size=%{customdata[0]}<extra></extra>\",\"hovertext\":[\"efficientnet_lite0\",\"efficientnet_b0\",\"efficientnet_b1_pruned\",\"efficientnet_es\",\"efficientnet_es_pruned\",\"efficientnet_b1\",\"efficientnet_b2_pruned\",\"efficientnet_em\",\"efficientnet_b2\",\"efficientnet_b3_pruned\",\"efficientnet_b3\",\"efficientnet_el\",\"efficientnet_el_pruned\",\"efficientnet_b4\",\"efficientnet_b5\"],\"legendgroup\":\"efficientnet\",\"marker\":{\"color\":\"#19d3f3\",\"size\":[50176,50176,57600,50176,50176,65536,67600,57600,82944,90000,102400,90000,90000,147456,207936],\"sizemode\":\"area\",\"sizeref\":655.36,\"symbol\":\"circle\"},\"mode\":\"markers\",\"name\":\"efficientnet\",\"orientation\":\"v\",\"showlegend\":true,\"x\":[0.00011112172940969915,0.0001301779923689661,0.00016600486062231902,0.00017507769072525934,0.00017510804166170527,0.00024378530315921374,0.0002616848842960284,0.0002911538719097656,0.00032120258246876303,0.00032275451614256713,0.000539647933688062,0.0006642355645005945,0.0006644474123095528,0.0010264938051098862,0.0021380313007782433],\"xaxis\":\"x\",\"y\":[75.48,77.694,78.242,78.054,75.014,78.8,79.92,79.24,80.61,80.852,82.242,81.312,80.3,83.414,85.892],\"yaxis\":\"y\",\"type\":\"scatter\"},{\"customdata\":[[224],[224],[224],[224],[224],[224],[224],[224],[320],[320],[320],[320],[320]],\"hovertemplate\":\"<b>%{hovertext}</b><br><br>family=resnetd<br>secs=%{x}<br>top1=%{y}<br>size=%{marker.size}<br>infer_img_size=%{customdata[0]}<extra></extra>\",\"hovertext\":[\"resnet18d\",\"resnet34d\",\"resnet26d\",\"resnet50d\",\"resnet50d\",\"resnet50d\",\"resnet50d\",\"resnet50d\",\"resnet101d\",\"resnet101d\",\"resnet152d\",\"resnet152d\",\"resnet200d\"],\"legendgroup\":\"resnetd\",\"marker\":{\"color\":\"#FF6692\",\"size\":[50176,50176,50176,50176,50176,50176,50176,50176,102400,102400,102400,102400,102400],\"sizemode\":\"area\",\"sizeref\":655.36,\"symbol\":\"circle\"},\"mode\":\"markers\",\"name\":\"resnetd\",\"orientation\":\"v\",\"showlegend\":true,\"x\":[0.00011218547400045547,0.00017947263760167124,0.0002044542400742578,0.00031235065734195835,0.00031235065734195835,0.00031235065734195835,0.00031235065734195835,0.00031235065734195835,0.0010008807750820723,0.0010008807750820723,0.0014054023666975855,0.0014054023666975855,0.0019066503965832825],\"xaxis\":\"x\",\"y\":[73.794,78.436,77.408,81.45,81.356,81.164,79.078,78.722,83.016,80.426,83.684,80.476,83.964],\"yaxis\":\"y\",\"type\":\"scatter\"},{\"customdata\":[[256],[256],[256]],\"hovertemplate\":\"<b>%{hovertext}</b><br><br>family=mobilevit<br>secs=%{x}<br>top1=%{y}<br>size=%{marker.size}<br>infer_img_size=%{customdata[0]}<extra></extra>\",\"hovertext\":[\"mobilevit_xxs\",\"mobilevit_xs\",\"mobilevit_s\"],\"legendgroup\":\"mobilevit\",\"marker\":{\"color\":\"#B6E880\",\"size\":[65536,65536,65536],\"sizemode\":\"area\",\"sizeref\":655.36,\"symbol\":\"circle\"},\"mode\":\"markers\",\"name\":\"mobilevit\",\"orientation\":\"v\",\"showlegend\":true,\"x\":[0.00019510063290645313,0.00032276493352656195,0.0004140683875348853],\"xaxis\":\"x\",\"y\":[68.932,74.636,78.312],\"yaxis\":\"y\",\"type\":\"scatter\"},{\"customdata\":[[224],[224],[224],[224],[224],[224],[224],[224]],\"hovertemplate\":\"<b>%{hovertext}</b><br><br>family=repvgg<br>secs=%{x}<br>top1=%{y}<br>size=%{marker.size}<br>infer_img_size=%{customdata[0]}<extra></extra>\",\"hovertext\":[\"repvgg_b0\",\"repvgg_a2\",\"repvgg_b1\",\"repvgg_b1g4\",\"repvgg_b2\",\"repvgg_b3\",\"repvgg_b2g4\",\"repvgg_b3g4\"],\"legendgroup\":\"repvgg\",\"marker\":{\"color\":\"#FF97FF\",\"size\":[50176,50176,50176,50176,50176,50176,50176,50176],\"sizemode\":\"area\",\"sizeref\":655.36,\"symbol\":\"circle\"},\"mode\":\"markers\",\"name\":\"repvgg\",\"orientation\":\"v\",\"showlegend\":true,\"x\":[0.00019805588344807372,0.00025848743492578826,0.0005164995790528431,0.0006192755714365336,0.0008039813154742284,0.0009981932701809725,0.0012302090125112257,0.0015526503741887404],\"xaxis\":\"x\",\"y\":[75.142,76.458,78.368,77.582,78.792,80.506,79.382,80.216],\"yaxis\":\"y\",\"type\":\"scatter\"},{\"customdata\":[[240],[240],[240],[240],[240],[240],[240],[240],[240],[408],[408]],\"hovertemplate\":\"<b>%{hovertext}</b><br><br>family=crossvit<br>secs=%{x}<br>top1=%{y}<br>size=%{marker.size}<br>infer_img_size=%{customdata[0]}<extra></extra>\",\"hovertext\":[\"crossvit_tiny_240\",\"crossvit_9_240\",\"crossvit_9_dagger_240\",\"crossvit_small_240\",\"crossvit_15_240\",\"crossvit_15_dagger_240\",\"crossvit_18_240\",\"crossvit_18_dagger_240\",\"crossvit_base_240\",\"crossvit_15_dagger_408\",\"crossvit_18_dagger_408\"],\"legendgroup\":\"crossvit\",\"marker\":{\"color\":\"#FECB52\",\"size\":[57600,57600,57600,57600,57600,57600,57600,57600,57600,166464,166464],\"sizemode\":\"area\",\"sizeref\":655.36,\"symbol\":\"circle\"},\"mode\":\"markers\",\"name\":\"crossvit\",\"orientation\":\"v\",\"showlegend\":true,\"x\":[0.00025943432938820195,0.0002746551018558445,0.0002807190900209978,0.0005422640609070993,0.0005881107530170082,0.0006054331571522846,0.0008294969101240098,0.0008531185749507324,0.0013383297644539614,0.002823662289990117,0.0038593647485623862],\"xaxis\":\"x\",\"y\":[73.336,73.958,76.98,81.016,81.534,82.33,82.396,82.516,82.216,83.842,84.198],\"yaxis\":\"y\",\"type\":\"scatter\"},{\"customdata\":[[224],[224]],\"hovertemplate\":\"<b>%{hovertext}</b><br><br>family=resnetv2<br>secs=%{x}<br>top1=%{y}<br>size=%{marker.size}<br>infer_img_size=%{customdata[0]}<extra></extra>\",\"hovertext\":[\"resnetv2_50\",\"resnetv2_101\"],\"legendgroup\":\"resnetv2\",\"marker\":{\"color\":\"#636efa\",\"size\":[50176,50176],\"sizemode\":\"area\",\"sizeref\":655.36,\"symbol\":\"circle\"},\"mode\":\"markers\",\"name\":\"resnetv2\",\"orientation\":\"v\",\"showlegend\":true,\"x\":[0.00027003891260730673,0.0004473172150030194],\"xaxis\":\"x\",\"y\":[81.398,83.002],\"yaxis\":\"y\",\"type\":\"scatter\"},{\"customdata\":[[224],[224],[224]],\"hovertemplate\":\"<b>%{hovertext}</b><br><br>family=convit<br>secs=%{x}<br>top1=%{y}<br>size=%{marker.size}<br>infer_img_size=%{customdata[0]}<extra></extra>\",\"hovertext\":[\"convit_tiny\",\"convit_small\",\"convit_base\"],\"legendgroup\":\"convit\",\"marker\":{\"color\":\"#EF553B\",\"size\":[50176,50176,50176],\"sizemode\":\"area\",\"sizeref\":655.36,\"symbol\":\"circle\"},\"mode\":\"markers\",\"name\":\"convit\",\"orientation\":\"v\",\"showlegend\":true,\"x\":[0.0003142578800163414,0.0007307163943530237,0.0014544608313698112],\"xaxis\":\"x\",\"y\":[73.112,81.42,82.29],\"yaxis\":\"y\",\"type\":\"scatter\"},{\"customdata\":[[224],[224]],\"hovertemplate\":\"<b>%{hovertext}</b><br><br>family=resnetaad<br>secs=%{x}<br>top1=%{y}<br>size=%{marker.size}<br>infer_img_size=%{customdata[0]}<extra></extra>\",\"hovertext\":[\"resnetaa50d\",\"resnetaa101d\"],\"legendgroup\":\"resnetaad\",\"marker\":{\"color\":\"#00cc96\",\"size\":[50176,50176],\"sizemode\":\"area\",\"sizeref\":655.36,\"symbol\":\"circle\"},\"mode\":\"markers\",\"name\":\"resnetaad\",\"orientation\":\"v\",\"showlegend\":true,\"x\":[0.00034852799202567954,0.0005280918457338101],\"xaxis\":\"x\",\"y\":[82.6,84.124],\"yaxis\":\"y\",\"type\":\"scatter\"},{\"customdata\":[[224],[288],[320],[320],[352],[384],[416]],\"hovertemplate\":\"<b>%{hovertext}</b><br><br>family=resnetrs<br>secs=%{x}<br>top1=%{y}<br>size=%{marker.size}<br>infer_img_size=%{customdata[0]}<extra></extra>\",\"hovertext\":[\"resnetrs50\",\"resnetrs101\",\"resnetrs152\",\"resnetrs200\",\"resnetrs270\",\"resnetrs350\",\"resnetrs420\"],\"legendgroup\":\"resnetrs\",\"marker\":{\"color\":\"#ab63fa\",\"size\":[50176,82944,102400,102400,123904,147456,173056],\"sizemode\":\"area\",\"sizeref\":655.36,\"symbol\":\"circle\"},\"mode\":\"markers\",\"name\":\"resnetrs\",\"orientation\":\"v\",\"showlegend\":true,\"x\":[0.000351576645466595,0.0009125586318920991,0.0015921792156925183,0.0021917327839389824,0.0034781398907864076,0.005297171310520182,0.007450454477723141],\"xaxis\":\"x\",\"y\":[79.896,82.284,83.702,84.444,84.428,84.714,85.006],\"yaxis\":\"y\",\"type\":\"scatter\"},{\"customdata\":[[288],[320],[320],[320],[320],[320],[320],[320]],\"hovertemplate\":\"<b>%{hovertext}</b><br><br>family=regnetz<br>secs=%{x}<br>top1=%{y}<br>size=%{marker.size}<br>infer_img_size=%{customdata[0]}<extra></extra>\",\"hovertext\":[\"regnetz_b16\",\"regnetz_c16\",\"regnetz_d8\",\"regnetz_040\",\"regnetz_d32\",\"regnetz_e8\",\"regnetz_c16_evos\",\"regnetz_d8_evos\"],\"legendgroup\":\"regnetz\",\"marker\":{\"color\":\"#FFA15A\",\"size\":[82944,102400,102400,102400,102400,102400,102400,102400],\"sizemode\":\"area\",\"sizeref\":655.36,\"symbol\":\"circle\"},\"mode\":\"markers\",\"name\":\"regnetz\",\"orientation\":\"v\",\"showlegend\":true,\"x\":[0.00036824952587873543,0.0005641494319015222,0.0008748829844008363,0.000961917679085024,0.0009901872444079175,0.0016463344363774057,0.00167117884956048,0.002579646588417387],\"xaxis\":\"x\",\"y\":[80.728,82.634,84.054,84.24,84.022,85.036,82.632,84.126],\"yaxis\":\"y\",\"type\":\"scatter\"},{\"customdata\":[[224]],\"hovertemplate\":\"<b>%{hovertext}</b><br><br>family=resnetblur<br>secs=%{x}<br>top1=%{y}<br>size=%{marker.size}<br>infer_img_size=%{customdata[0]}<extra></extra>\",\"hovertext\":[\"resnetblur50\"],\"legendgroup\":\"resnetblur\",\"marker\":{\"color\":\"#19d3f3\",\"size\":[50176],\"sizemode\":\"area\",\"sizeref\":655.36,\"symbol\":\"circle\"},\"mode\":\"markers\",\"name\":\"resnetblur\",\"orientation\":\"v\",\"showlegend\":true,\"x\":[0.00038181346121538863],\"xaxis\":\"x\",\"y\":[80.234],\"yaxis\":\"y\",\"type\":\"scatter\"},{\"customdata\":[[224],[224],[224],[224],[224],[224],[224]],\"hovertemplate\":\"<b>%{hovertext}</b><br><br>family=vgg<br>secs=%{x}<br>top1=%{y}<br>size=%{marker.size}<br>infer_img_size=%{customdata[0]}<extra></extra>\",\"hovertext\":[\"vgg11_bn\",\"vgg13\",\"vgg13_bn\",\"vgg16\",\"vgg19\",\"vgg16_bn\",\"vgg19_bn\"],\"legendgroup\":\"vgg\",\"marker\":{\"color\":\"#FF6692\",\"size\":[50176,50176,50176,50176,50176,50176,50176],\"sizemode\":\"area\",\"sizeref\":655.36,\"symbol\":\"circle\"},\"mode\":\"markers\",\"name\":\"vgg\",\"orientation\":\"v\",\"showlegend\":true,\"x\":[0.0003856239395341663,0.000495051955702751,0.000609002271578473,0.00061273383454961,0.0007314379338341244,0.0007335465508641178,0.0008591212907438273],\"xaxis\":\"x\",\"y\":[70.382,69.932,71.588,71.592,72.378,73.37,74.216],\"yaxis\":\"y\",\"type\":\"scatter\"},{\"customdata\":[[288],[384],[416]],\"hovertemplate\":\"<b>%{hovertext}</b><br><br>family=efficientnetv2<br>secs=%{x}<br>top1=%{y}<br>size=%{marker.size}<br>infer_img_size=%{customdata[0]}<extra></extra>\",\"hovertext\":[\"efficientnetv2_rw_t\",\"efficientnetv2_rw_s\",\"efficientnetv2_rw_m\"],\"legendgroup\":\"efficientnetv2\",\"marker\":{\"color\":\"#B6E880\",\"size\":[82944,147456,173056],\"sizemode\":\"area\",\"sizeref\":655.36,\"symbol\":\"circle\"},\"mode\":\"markers\",\"name\":\"efficientnetv2\",\"orientation\":\"v\",\"showlegend\":true,\"x\":[0.00039287790926091805,0.0009177342975661686,0.0025433643623785545],\"xaxis\":\"x\",\"y\":[82.35,83.808,84.812],\"yaxis\":\"y\",\"type\":\"scatter\"},{\"customdata\":[[224],[224],[224],[224],[224],[224],[224],[224],[224],[224],[224],[224],[224],[224],[224],[224],[224],[224],[224],[224],[224]],\"hovertemplate\":\"<b>%{hovertext}</b><br><br>family=convnext<br>secs=%{x}<br>top1=%{y}<br>size=%{marker.size}<br>infer_img_size=%{customdata[0]}<extra></extra>\",\"hovertext\":[\"convnext_tiny\",\"convnext_tiny\",\"convnext_tiny\",\"convnext_tiny\",\"convnext_tiny\",\"convnext_tiny_hnf\",\"convnext_small\",\"convnext_small\",\"convnext_small\",\"convnext_small\",\"convnext_small\",\"convnext_base\",\"convnext_base\",\"convnext_base\",\"convnext_base\",\"convnext_base\",\"convnext_base\",\"convnext_base\",\"convnext_large\",\"convnext_large\",\"convnext_large\"],\"legendgroup\":\"convnext\",\"marker\":{\"color\":\"#FF97FF\",\"size\":[50176,50176,50176,50176,50176,50176,50176,50176,50176,50176,50176,50176,50176,50176,50176,50176,50176,50176,50176,50176,50176],\"sizemode\":\"area\",\"sizeref\":655.36,\"symbol\":\"circle\"},\"mode\":\"markers\",\"name\":\"convnext\",\"orientation\":\"v\",\"showlegend\":true,\"x\":[0.00043947351073414054,0.00043947351073414054,0.00043947351073414054,0.00043947351073414054,0.00043947351073414054,0.00048231356169272765,0.0007089131652263915,0.0007089131652263915,0.0007089131652263915,0.0007089131652263915,0.0007089131652263915,0.001017356094980365,0.001017356094980365,0.001017356094980365,0.001017356094980365,0.001017356094980365,0.001017356094980365,0.001017356094980365,0.001837424665588711,0.001837424665588711,0.001837424665588711],\"xaxis\":\"x\",\"y\":[85.122,84.45,84.088,82.698,78.898,82.584,86.182,85.778,85.33,85.262,83.7,87.134,86.796,86.502,86.37,86.274,86.158,84.428,87.472,87.026,84.846],\"yaxis\":\"y\",\"type\":\"scatter\"},{\"customdata\":[[224],[224],[224],[224],[224],[224],[224],[224],[224],[224],[384],[384],[384]],\"hovertemplate\":\"<b>%{hovertext}</b><br><br>family=swin<br>secs=%{x}<br>top1=%{y}<br>size=%{marker.size}<br>infer_img_size=%{customdata[0]}<extra></extra>\",\"hovertext\":[\"swin_tiny_patch4_window7_224\",\"swin_tiny_patch4_window7_224\",\"swin_s3_tiny_224\",\"swin_small_patch4_window7_224\",\"swin_small_patch4_window7_224\",\"swin_s3_small_224\",\"swin_base_patch4_window7_224\",\"swin_base_patch4_window7_224\",\"swin_s3_base_224\",\"swin_large_patch4_window7_224\",\"swin_base_patch4_window12_384\",\"swin_base_patch4_window12_384\",\"swin_large_patch4_window12_384\"],\"legendgroup\":\"swin\",\"marker\":{\"color\":\"#FECB52\",\"size\":[50176,50176,50176,50176,50176,50176,50176,50176,50176,50176,147456,147456,147456],\"sizemode\":\"area\",\"sizeref\":655.36,\"symbol\":\"circle\"},\"mode\":\"markers\",\"name\":\"swin\",\"orientation\":\"v\",\"showlegend\":true,\"x\":[0.0005460184335823177,0.0005460184335823177,0.000599319173418996,0.0008899409969119047,0.0008899409969119047,0.0012179822905374956,0.001254390366281987,0.001254390366281987,0.001502765087761481,0.002185123678000175,0.004700352526439483,0.004700352526439483,0.007950389569088886],\"xaxis\":\"x\",\"y\":[81.376,80.968,82.144,83.298,83.208,83.756,85.272,83.606,83.92,86.312,86.438,84.476,87.132],\"yaxis\":\"y\",\"type\":\"scatter\"},{\"customdata\":[[224],[224],[384],[384],[512]],\"hovertemplate\":\"<b>%{hovertext}</b><br><br>family=beit<br>secs=%{x}<br>top1=%{y}<br>size=%{marker.size}<br>infer_img_size=%{customdata[0]}<extra></extra>\",\"hovertext\":[\"beit_base_patch16_224\",\"beit_large_patch16_224\",\"beit_base_patch16_384\",\"beit_large_patch16_384\",\"beit_large_patch16_512\"],\"legendgroup\":\"beit\",\"marker\":{\"color\":\"#636efa\",\"size\":[50176,50176,147456,147456,262144],\"sizemode\":\"area\",\"sizeref\":655.36,\"symbol\":\"circle\"},\"mode\":\"markers\",\"name\":\"beit\",\"orientation\":\"v\",\"showlegend\":true,\"x\":[0.0010062791820962809,0.0030446034404018876,0.00418007774944614,0.0121580547112462,0.030184123151222455],\"xaxis\":\"x\",\"y\":[85.212,87.478,86.8,88.402,88.596],\"yaxis\":\"y\",\"type\":\"scatter\"},{\"customdata\":[[288],[288]],\"hovertemplate\":\"<b>%{hovertext}</b><br><br>family=regnetv<br>secs=%{x}<br>top1=%{y}<br>size=%{marker.size}<br>infer_img_size=%{customdata[0]}<extra></extra>\",\"hovertext\":[\"regnetv_040\",\"regnetv_064\"],\"legendgroup\":\"regnetv\",\"marker\":{\"color\":\"#EF553B\",\"size\":[82944,82944],\"sizemode\":\"area\",\"sizeref\":655.36,\"symbol\":\"circle\"},\"mode\":\"markers\",\"name\":\"regnetv\",\"orientation\":\"v\",\"showlegend\":true,\"x\":[0.0011776343680813981,0.0021355201059217975],\"xaxis\":\"x\",\"y\":[83.198,83.716],\"yaxis\":\"y\",\"type\":\"scatter\"},{\"customdata\":[[288]],\"hovertemplate\":\"<b>%{hovertext}</b><br><br>family=resnetv2d<br>secs=%{x}<br>top1=%{y}<br>size=%{marker.size}<br>infer_img_size=%{customdata[0]}<extra></extra>\",\"hovertext\":[\"resnetv2_50d_evos\"],\"legendgroup\":\"resnetv2d\",\"marker\":{\"color\":\"#00cc96\",\"size\":[82944],\"sizemode\":\"area\",\"sizeref\":655.36,\"symbol\":\"circle\"},\"mode\":\"markers\",\"name\":\"resnetv2d\",\"orientation\":\"v\",\"showlegend\":true,\"x\":[0.0011976191331632715],\"xaxis\":\"x\",\"y\":[82.0],\"yaxis\":\"y\",\"type\":\"scatter\"}],                        {\"template\":{\"data\":{\"histogram2dcontour\":[{\"type\":\"histogram2dcontour\",\"colorbar\":{\"outlinewidth\":0,\"ticks\":\"\"},\"colorscale\":[[0.0,\"#0d0887\"],[0.1111111111111111,\"#46039f\"],[0.2222222222222222,\"#7201a8\"],[0.3333333333333333,\"#9c179e\"],[0.4444444444444444,\"#bd3786\"],[0.5555555555555556,\"#d8576b\"],[0.6666666666666666,\"#ed7953\"],[0.7777777777777778,\"#fb9f3a\"],[0.8888888888888888,\"#fdca26\"],[1.0,\"#f0f921\"]]}],\"choropleth\":[{\"type\":\"choropleth\",\"colorbar\":{\"outlinewidth\":0,\"ticks\":\"\"}}],\"histogram2d\":[{\"type\":\"histogram2d\",\"colorbar\":{\"outlinewidth\":0,\"ticks\":\"\"},\"colorscale\":[[0.0,\"#0d0887\"],[0.1111111111111111,\"#46039f\"],[0.2222222222222222,\"#7201a8\"],[0.3333333333333333,\"#9c179e\"],[0.4444444444444444,\"#bd3786\"],[0.5555555555555556,\"#d8576b\"],[0.6666666666666666,\"#ed7953\"],[0.7777777777777778,\"#fb9f3a\"],[0.8888888888888888,\"#fdca26\"],[1.0,\"#f0f921\"]]}],\"heatmap\":[{\"type\":\"heatmap\",\"colorbar\":{\"outlinewidth\":0,\"ticks\":\"\"},\"colorscale\":[[0.0,\"#0d0887\"],[0.1111111111111111,\"#46039f\"],[0.2222222222222222,\"#7201a8\"],[0.3333333333333333,\"#9c179e\"],[0.4444444444444444,\"#bd3786\"],[0.5555555555555556,\"#d8576b\"],[0.6666666666666666,\"#ed7953\"],[0.7777777777777778,\"#fb9f3a\"],[0.8888888888888888,\"#fdca26\"],[1.0,\"#f0f921\"]]}],\"heatmapgl\":[{\"type\":\"heatmapgl\",\"colorbar\":{\"outlinewidth\":0,\"ticks\":\"\"},\"colorscale\":[[0.0,\"#0d0887\"],[0.1111111111111111,\"#46039f\"],[0.2222222222222222,\"#7201a8\"],[0.3333333333333333,\"#9c179e\"],[0.4444444444444444,\"#bd3786\"],[0.5555555555555556,\"#d8576b\"],[0.6666666666666666,\"#ed7953\"],[0.7777777777777778,\"#fb9f3a\"],[0.8888888888888888,\"#fdca26\"],[1.0,\"#f0f921\"]]}],\"contourcarpet\":[{\"type\":\"contourcarpet\",\"colorbar\":{\"outlinewidth\":0,\"ticks\":\"\"}}],\"contour\":[{\"type\":\"contour\",\"colorbar\":{\"outlinewidth\":0,\"ticks\":\"\"},\"colorscale\":[[0.0,\"#0d0887\"],[0.1111111111111111,\"#46039f\"],[0.2222222222222222,\"#7201a8\"],[0.3333333333333333,\"#9c179e\"],[0.4444444444444444,\"#bd3786\"],[0.5555555555555556,\"#d8576b\"],[0.6666666666666666,\"#ed7953\"],[0.7777777777777778,\"#fb9f3a\"],[0.8888888888888888,\"#fdca26\"],[1.0,\"#f0f921\"]]}],\"surface\":[{\"type\":\"surface\",\"colorbar\":{\"outlinewidth\":0,\"ticks\":\"\"},\"colorscale\":[[0.0,\"#0d0887\"],[0.1111111111111111,\"#46039f\"],[0.2222222222222222,\"#7201a8\"],[0.3333333333333333,\"#9c179e\"],[0.4444444444444444,\"#bd3786\"],[0.5555555555555556,\"#d8576b\"],[0.6666666666666666,\"#ed7953\"],[0.7777777777777778,\"#fb9f3a\"],[0.8888888888888888,\"#fdca26\"],[1.0,\"#f0f921\"]]}],\"mesh3d\":[{\"type\":\"mesh3d\",\"colorbar\":{\"outlinewidth\":0,\"ticks\":\"\"}}],\"scatter\":[{\"fillpattern\":{\"fillmode\":\"overlay\",\"size\":10,\"solidity\":0.2},\"type\":\"scatter\"}],\"parcoords\":[{\"type\":\"parcoords\",\"line\":{\"colorbar\":{\"outlinewidth\":0,\"ticks\":\"\"}}}],\"scatterpolargl\":[{\"type\":\"scatterpolargl\",\"marker\":{\"colorbar\":{\"outlinewidth\":0,\"ticks\":\"\"}}}],\"bar\":[{\"error_x\":{\"color\":\"#2a3f5f\"},\"error_y\":{\"color\":\"#2a3f5f\"},\"marker\":{\"line\":{\"color\":\"#E5ECF6\",\"width\":0.5},\"pattern\":{\"fillmode\":\"overlay\",\"size\":10,\"solidity\":0.2}},\"type\":\"bar\"}],\"scattergeo\":[{\"type\":\"scattergeo\",\"marker\":{\"colorbar\":{\"outlinewidth\":0,\"ticks\":\"\"}}}],\"scatterpolar\":[{\"type\":\"scatterpolar\",\"marker\":{\"colorbar\":{\"outlinewidth\":0,\"ticks\":\"\"}}}],\"histogram\":[{\"marker\":{\"pattern\":{\"fillmode\":\"overlay\",\"size\":10,\"solidity\":0.2}},\"type\":\"histogram\"}],\"scattergl\":[{\"type\":\"scattergl\",\"marker\":{\"colorbar\":{\"outlinewidth\":0,\"ticks\":\"\"}}}],\"scatter3d\":[{\"type\":\"scatter3d\",\"line\":{\"colorbar\":{\"outlinewidth\":0,\"ticks\":\"\"}},\"marker\":{\"colorbar\":{\"outlinewidth\":0,\"ticks\":\"\"}}}],\"scattermapbox\":[{\"type\":\"scattermapbox\",\"marker\":{\"colorbar\":{\"outlinewidth\":0,\"ticks\":\"\"}}}],\"scatterternary\":[{\"type\":\"scatterternary\",\"marker\":{\"colorbar\":{\"outlinewidth\":0,\"ticks\":\"\"}}}],\"scattercarpet\":[{\"type\":\"scattercarpet\",\"marker\":{\"colorbar\":{\"outlinewidth\":0,\"ticks\":\"\"}}}],\"carpet\":[{\"aaxis\":{\"endlinecolor\":\"#2a3f5f\",\"gridcolor\":\"white\",\"linecolor\":\"white\",\"minorgridcolor\":\"white\",\"startlinecolor\":\"#2a3f5f\"},\"baxis\":{\"endlinecolor\":\"#2a3f5f\",\"gridcolor\":\"white\",\"linecolor\":\"white\",\"minorgridcolor\":\"white\",\"startlinecolor\":\"#2a3f5f\"},\"type\":\"carpet\"}],\"table\":[{\"cells\":{\"fill\":{\"color\":\"#EBF0F8\"},\"line\":{\"color\":\"white\"}},\"header\":{\"fill\":{\"color\":\"#C8D4E3\"},\"line\":{\"color\":\"white\"}},\"type\":\"table\"}],\"barpolar\":[{\"marker\":{\"line\":{\"color\":\"#E5ECF6\",\"width\":0.5},\"pattern\":{\"fillmode\":\"overlay\",\"size\":10,\"solidity\":0.2}},\"type\":\"barpolar\"}],\"pie\":[{\"automargin\":true,\"type\":\"pie\"}]},\"layout\":{\"autotypenumbers\":\"strict\",\"colorway\":[\"#636efa\",\"#EF553B\",\"#00cc96\",\"#ab63fa\",\"#FFA15A\",\"#19d3f3\",\"#FF6692\",\"#B6E880\",\"#FF97FF\",\"#FECB52\"],\"font\":{\"color\":\"#2a3f5f\"},\"hovermode\":\"closest\",\"hoverlabel\":{\"align\":\"left\"},\"paper_bgcolor\":\"white\",\"plot_bgcolor\":\"#E5ECF6\",\"polar\":{\"bgcolor\":\"#E5ECF6\",\"angularaxis\":{\"gridcolor\":\"white\",\"linecolor\":\"white\",\"ticks\":\"\"},\"radialaxis\":{\"gridcolor\":\"white\",\"linecolor\":\"white\",\"ticks\":\"\"}},\"ternary\":{\"bgcolor\":\"#E5ECF6\",\"aaxis\":{\"gridcolor\":\"white\",\"linecolor\":\"white\",\"ticks\":\"\"},\"baxis\":{\"gridcolor\":\"white\",\"linecolor\":\"white\",\"ticks\":\"\"},\"caxis\":{\"gridcolor\":\"white\",\"linecolor\":\"white\",\"ticks\":\"\"}},\"coloraxis\":{\"colorbar\":{\"outlinewidth\":0,\"ticks\":\"\"}},\"colorscale\":{\"sequential\":[[0.0,\"#0d0887\"],[0.1111111111111111,\"#46039f\"],[0.2222222222222222,\"#7201a8\"],[0.3333333333333333,\"#9c179e\"],[0.4444444444444444,\"#bd3786\"],[0.5555555555555556,\"#d8576b\"],[0.6666666666666666,\"#ed7953\"],[0.7777777777777778,\"#fb9f3a\"],[0.8888888888888888,\"#fdca26\"],[1.0,\"#f0f921\"]],\"sequentialminus\":[[0.0,\"#0d0887\"],[0.1111111111111111,\"#46039f\"],[0.2222222222222222,\"#7201a8\"],[0.3333333333333333,\"#9c179e\"],[0.4444444444444444,\"#bd3786\"],[0.5555555555555556,\"#d8576b\"],[0.6666666666666666,\"#ed7953\"],[0.7777777777777778,\"#fb9f3a\"],[0.8888888888888888,\"#fdca26\"],[1.0,\"#f0f921\"]],\"diverging\":[[0,\"#8e0152\"],[0.1,\"#c51b7d\"],[0.2,\"#de77ae\"],[0.3,\"#f1b6da\"],[0.4,\"#fde0ef\"],[0.5,\"#f7f7f7\"],[0.6,\"#e6f5d0\"],[0.7,\"#b8e186\"],[0.8,\"#7fbc41\"],[0.9,\"#4d9221\"],[1,\"#276419\"]]},\"xaxis\":{\"gridcolor\":\"white\",\"linecolor\":\"white\",\"ticks\":\"\",\"title\":{\"standoff\":15},\"zerolinecolor\":\"white\",\"automargin\":true,\"zerolinewidth\":2},\"yaxis\":{\"gridcolor\":\"white\",\"linecolor\":\"white\",\"ticks\":\"\",\"title\":{\"standoff\":15},\"zerolinecolor\":\"white\",\"automargin\":true,\"zerolinewidth\":2},\"scene\":{\"xaxis\":{\"backgroundcolor\":\"#E5ECF6\",\"gridcolor\":\"white\",\"linecolor\":\"white\",\"showbackground\":true,\"ticks\":\"\",\"zerolinecolor\":\"white\",\"gridwidth\":2},\"yaxis\":{\"backgroundcolor\":\"#E5ECF6\",\"gridcolor\":\"white\",\"linecolor\":\"white\",\"showbackground\":true,\"ticks\":\"\",\"zerolinecolor\":\"white\",\"gridwidth\":2},\"zaxis\":{\"backgroundcolor\":\"#E5ECF6\",\"gridcolor\":\"white\",\"linecolor\":\"white\",\"showbackground\":true,\"ticks\":\"\",\"zerolinecolor\":\"white\",\"gridwidth\":2}},\"shapedefaults\":{\"line\":{\"color\":\"#2a3f5f\"}},\"annotationdefaults\":{\"arrowcolor\":\"#2a3f5f\",\"arrowhead\":0,\"arrowwidth\":1},\"geo\":{\"bgcolor\":\"white\",\"landcolor\":\"#E5ECF6\",\"subunitcolor\":\"white\",\"showland\":true,\"showlakes\":true,\"lakecolor\":\"white\"},\"title\":{\"x\":0.05},\"mapbox\":{\"style\":\"light\"}}},\"xaxis\":{\"anchor\":\"y\",\"domain\":[0.0,1.0],\"title\":{\"text\":\"secs (how many seconds it takes to process one image)\"},\"type\":\"log\"},\"yaxis\":{\"anchor\":\"x\",\"domain\":[0.0,1.0],\"title\":{\"text\":\"top1 (accuracy on Imagenet)\"}},\"legend\":{\"title\":{\"text\":\"family\"},\"tracegroupgap\":0,\"itemsizing\":\"constant\"},\"title\":{\"text\":\"Inference performance (processing time vs. accuracy) of different models\"},\"height\":800,\"width\":1000},                        {\"responsive\": true}                    ).then(function(){\n",
       "                            \n",
       "var gd = document.getElementById('0bf3fa09-0cd3-4016-acda-c6f758c5d334');\n",
       "var x = new MutationObserver(function (mutations, observer) {{\n",
       "        var display = window.getComputedStyle(gd).display;\n",
       "        if (!display || display === 'none') {{\n",
       "            console.log([gd, 'removed!']);\n",
       "            Plotly.purge(gd);\n",
       "            observer.disconnect();\n",
       "        }}\n",
       "}});\n",
       "\n",
       "// Listen for the removal of the full notebook cells\n",
       "var notebookContainer = gd.closest('#notebook-container');\n",
       "if (notebookContainer) {{\n",
       "    x.observe(notebookContainer, {childList: true});\n",
       "}}\n",
       "\n",
       "// Listen for the clearing of the current output cell\n",
       "var outputEl = gd.closest('.output');\n",
       "if (outputEl) {{\n",
       "    x.observe(outputEl, {childList: true});\n",
       "}}\n",
       "\n",
       "                        })                };                });            </script>        </div>"
      ]
     },
     "metadata": {},
     "output_type": "display_data"
    }
   ],
   "source": [
    "show_all(df, 'Inference performance (processing time vs. accuracy) of different models', 'infer_img_size')"
   ]
  },
  {
   "cell_type": "markdown",
   "metadata": {},
   "source": [
    "That number of families can be a bit overwhelming, so I'll just pick a subset which represents a single key model from each of the families that are looking best in our plot. I've also separated convnext models into those which have been pretrained on the larger 22,000 category imagenet sample (`convnext_in22`) vs those that haven't (`convnext`). (Note that many of the best performing models were trained on the larger sample -- see the papers for details before coming to conclusions about the effectiveness of these architectures more generally.)"
   ]
  },
  {
   "cell_type": "code",
   "execution_count": 41,
   "metadata": {
    "ExecuteTime": {
     "end_time": "2023-12-08T03:07:26.511384Z",
     "start_time": "2023-12-08T03:07:26.507303Z"
    },
    "execution": {
     "iopub.execute_input": "2023-06-10T09:02:04.162894Z",
     "iopub.status.busy": "2023-06-10T09:02:04.162562Z",
     "iopub.status.idle": "2023-06-10T09:02:04.16869Z",
     "shell.execute_reply": "2023-06-10T09:02:04.167463Z",
     "shell.execute_reply.started": "2023-06-10T09:02:04.162851Z"
    }
   },
   "outputs": [],
   "source": [
    "subs = 'levit|resnetd?|regnetx|vgg|convnext.*|efficientnetv2|beit|swin'"
   ]
  },
  {
   "cell_type": "markdown",
   "metadata": {},
   "source": [
    "In this chart, I'll add lines through the points of each family, to help see how they compare -- but note that we can see that a linear fit isn't actually ideal here! It's just there to help visually see the groups."
   ]
  },
  {
   "cell_type": "code",
   "execution_count": 44,
   "metadata": {
    "ExecuteTime": {
     "end_time": "2023-12-08T03:07:52.371608Z",
     "start_time": "2023-12-08T03:07:52.356131Z"
    },
    "execution": {
     "iopub.execute_input": "2023-06-10T09:02:04.170506Z",
     "iopub.status.busy": "2023-06-10T09:02:04.170171Z",
     "iopub.status.idle": "2023-06-10T09:02:04.187727Z",
     "shell.execute_reply": "2023-06-10T09:02:04.186494Z",
     "shell.execute_reply.started": "2023-06-10T09:02:04.170463Z"
    }
   },
   "outputs": [],
   "source": [
    "def show_subs(df, title, size):\n",
    "    df_subs = df[df.family.str.fullmatch(subs)]\n",
    "    fig = px.scatter(df_subs, width=w, height=h, size=df_subs[size]**2, title=title,\n",
    "        trendline=\"ols\", trendline_options={'log_x':True},\n",
    "        x='secs',  y='top1', log_x=True, color='family', hover_name='model', hover_data=[size])\n",
    "\n",
    "    fig.update_xaxes(title_text='secs (how many seconds it takes to process one image)')\n",
    "    fig.update_yaxes(title_text='top1 (accuracy on Imagenet)')\n",
    "    \n",
    "    return fig"
   ]
  },
  {
   "cell_type": "code",
   "execution_count": 45,
   "metadata": {
    "ExecuteTime": {
     "end_time": "2023-12-08T03:07:52.605292Z",
     "start_time": "2023-12-08T03:07:52.506814Z"
    },
    "execution": {
     "iopub.execute_input": "2023-06-10T09:02:04.191834Z",
     "iopub.status.busy": "2023-06-10T09:02:04.191418Z",
     "iopub.status.idle": "2023-06-10T09:02:05.610895Z",
     "shell.execute_reply": "2023-06-10T09:02:05.610064Z",
     "shell.execute_reply.started": "2023-06-10T09:02:04.191778Z"
    }
   },
   "outputs": [
    {
     "data": {
      "application/vnd.plotly.v1+json": {
       "config": {
        "plotlyServerURL": "https://plot.ly"
       },
       "data": [
        {
         "customdata": [
          [
           224
          ],
          [
           224
          ],
          [
           224
          ],
          [
           224
          ],
          [
           224
          ]
         ],
         "hovertemplate": "<b>%{hovertext}</b><br><br>family=levit<br>secs=%{x}<br>top1=%{y}<br>size=%{marker.size}<br>infer_img_size=%{customdata[0]}<extra></extra>",
         "hovertext": [
          "levit_128s",
          "levit_128",
          "levit_192",
          "levit_256",
          "levit_384"
         ],
         "legendgroup": "levit",
         "marker": {
          "color": "#636efa",
          "size": [
           50176,
           50176,
           50176,
           50176,
           50176
          ],
          "sizemode": "area",
          "sizeref": 655.36,
          "symbol": "circle"
         },
         "mode": "markers",
         "name": "levit",
         "orientation": "v",
         "showlegend": true,
         "type": "scatter",
         "x": [
          4.654236751715086e-05,
          6.822292249261998e-05,
          7.756230968148262e-05,
          0.00010599687945186893,
          0.00017720128293728847
         ],
         "xaxis": "x",
         "y": [
          76.526,
          78.49,
          79.838,
          81.514,
          82.596
         ],
         "yaxis": "y"
        },
        {
         "hovertemplate": "<b>OLS trendline</b><br>top1 = 10.7162 * log10(secs) + 123.375<br>R<sup>2</sup>=0.940996<br><br>family=levit<br>secs=%{x}<br>top1=%{y} <b>(trend)</b><extra></extra>",
         "legendgroup": "levit",
         "marker": {
          "color": "#636efa",
          "symbol": "circle"
         },
         "mode": "lines",
         "name": "levit",
         "showlegend": false,
         "type": "scatter",
         "x": [
          4.654236751715086e-05,
          6.822292249261998e-05,
          7.756230968148262e-05,
          0.00010599687945186893,
          0.00017720128293728847
         ],
         "xaxis": "x",
         "y": [
          76.95096801723024,
          78.73074001900808,
          79.32785302803964,
          80.78142819739196,
          83.17301073833028
         ],
         "yaxis": "y"
        },
        {
         "customdata": [
          [
           224
          ],
          [
           224
          ],
          [
           224
          ],
          [
           224
          ],
          [
           224
          ],
          [
           224
          ],
          [
           224
          ],
          [
           224
          ],
          [
           224
          ],
          [
           224
          ],
          [
           224
          ],
          [
           224
          ],
          [
           224
          ],
          [
           224
          ],
          [
           224
          ],
          [
           224
          ],
          [
           224
          ],
          [
           224
          ]
         ],
         "hovertemplate": "<b>%{hovertext}</b><br><br>family=regnetx<br>secs=%{x}<br>top1=%{y}<br>size=%{marker.size}<br>infer_img_size=%{customdata[0]}<extra></extra>",
         "hovertext": [
          "regnetx_002",
          "regnetx_004",
          "regnetx_008",
          "regnetx_008",
          "regnetx_006",
          "regnetx_016",
          "regnetx_016",
          "regnetx_032",
          "regnetx_032",
          "regnetx_040",
          "regnetx_080",
          "regnetx_080",
          "regnetx_064",
          "regnetx_120",
          "regnetx_160",
          "regnetx_160",
          "regnetx_320",
          "regnetx_320"
         ],
         "legendgroup": "regnetx",
         "marker": {
          "color": "#EF553B",
          "size": [
           50176,
           50176,
           50176,
           50176,
           50176,
           50176,
           50176,
           50176,
           50176,
           50176,
           50176,
           50176,
           50176,
           50176,
           50176,
           50176,
           50176,
           50176
          ],
          "sizemode": "area",
          "sizeref": 655.36,
          "symbol": "circle"
         },
         "mode": "markers",
         "name": "regnetx",
         "orientation": "v",
         "showlegend": true,
         "type": "scatter",
         "x": [
          5.611048828469115e-05,
          6.925193368711838e-05,
          0.00011822399190402103,
          0.00011822399190402103,
          0.0001259786970023369,
          0.00026479614668647344,
          0.00026479614668647344,
          0.0006228278877415016,
          0.0006228278877415016,
          0.0006304057291272663,
          0.0007938902208602596,
          0.0007938902208602596,
          0.0008572212316554657,
          0.0012854296548621376,
          0.001604157977477622,
          0.001604157977477622,
          0.0038134462113411888,
          0.0038134462113411888
         ],
         "xaxis": "x",
         "y": [
          68.746,
          72.398,
          77.304,
          75.03,
          73.868,
          79.436,
          76.924,
          80.926,
          78.168,
          78.492,
          81.538,
          79.202,
          79.066,
          79.588,
          82.566,
          79.866,
          82.81,
          80.246
         ],
         "yaxis": "y"
        },
        {
         "hovertemplate": "<b>OLS trendline</b><br>top1 = 5.61518 * log10(secs) + 96.687<br>R<sup>2</sup>=0.746676<br><br>family=regnetx<br>secs=%{x}<br>top1=%{y} <b>(trend)</b><extra></extra>",
         "legendgroup": "regnetx",
         "marker": {
          "color": "#EF553B",
          "symbol": "circle"
         },
         "mode": "lines",
         "name": "regnetx",
         "showlegend": false,
         "type": "scatter",
         "x": [
          5.611048828469115e-05,
          6.925193368711838e-05,
          0.00011822399190402103,
          0.00011822399190402103,
          0.0001259786970023369,
          0.00026479614668647344,
          0.00026479614668647344,
          0.0006228278877415016,
          0.0006228278877415016,
          0.0006304057291272663,
          0.0007938902208602596,
          0.0007938902208602596,
          0.0008572212316554657,
          0.0012854296548621376,
          0.001604157977477622,
          0.001604157977477622,
          0.0038134462113411888,
          0.0038134462113411888
         ],
         "xaxis": "x",
         "y": [
          72.81712701145526,
          73.33028628679247,
          74.63454503496246,
          74.63454503496246,
          74.78947623616791,
          76.6010150391476,
          76.6010150391476,
          78.68680957427863,
          78.68680957427863,
          78.71630106780745,
          79.27860689563482,
          79.27860689563482,
          79.46577470059948,
          80.45379594191857,
          80.99396964700496,
          80.99396964700496,
          83.10567318660095,
          83.10567318660095
         ],
         "yaxis": "y"
        },
        {
         "customdata": [
          [
           224
          ],
          [
           224
          ],
          [
           224
          ],
          [
           224
          ],
          [
           224
          ],
          [
           224
          ],
          [
           224
          ],
          [
           224
          ],
          [
           224
          ],
          [
           224
          ],
          [
           224
          ],
          [
           224
          ],
          [
           224
          ],
          [
           256
          ],
          [
           224
          ],
          [
           224
          ],
          [
           224
          ],
          [
           224
          ],
          [
           224
          ],
          [
           224
          ],
          [
           224
          ],
          [
           224
          ],
          [
           224
          ],
          [
           224
          ],
          [
           224
          ],
          [
           224
          ],
          [
           224
          ],
          [
           224
          ],
          [
           224
          ],
          [
           224
          ],
          [
           224
          ],
          [
           224
          ],
          [
           256
          ],
          [
           256
          ],
          [
           224
          ],
          [
           224
          ],
          [
           224
          ],
          [
           224
          ],
          [
           224
          ],
          [
           224
          ],
          [
           224
          ],
          [
           288
          ],
          [
           288
          ],
          [
           224
          ],
          [
           224
          ],
          [
           224
          ],
          [
           224
          ],
          [
           224
          ],
          [
           224
          ],
          [
           224
          ]
         ],
         "hovertemplate": "<b>%{hovertext}</b><br><br>family=resnet<br>secs=%{x}<br>top1=%{y}<br>size=%{marker.size}<br>infer_img_size=%{customdata[0]}<extra></extra>",
         "hovertext": [
          "resnet18",
          "resnet18",
          "resnet18",
          "resnet18",
          "resnet18",
          "resnet18",
          "resnet18",
          "resnet34",
          "resnet34",
          "resnet34",
          "resnet34",
          "resnet34",
          "resnet26",
          "resnet26t",
          "resnet50",
          "resnet50",
          "resnet50",
          "resnet50",
          "resnet50",
          "resnet50",
          "resnet50",
          "resnet50",
          "resnet50",
          "resnet50",
          "resnet50",
          "resnet50",
          "resnet50",
          "resnet50",
          "resnet50",
          "resnet50",
          "resnet50",
          "resnet50",
          "resnet32ts",
          "resnet33ts",
          "resnet101",
          "resnet101",
          "resnet101",
          "resnet101",
          "resnet101",
          "resnet101",
          "resnet101",
          "resnet51q",
          "resnet61q",
          "resnet152",
          "resnet152",
          "resnet152",
          "resnet152",
          "resnet152",
          "resnet152",
          "resnet152"
         ],
         "legendgroup": "resnet",
         "marker": {
          "color": "#00cc96",
          "size": [
           50176,
           50176,
           50176,
           50176,
           50176,
           50176,
           50176,
           50176,
           50176,
           50176,
           50176,
           50176,
           50176,
           65536,
           50176,
           50176,
           50176,
           50176,
           50176,
           50176,
           50176,
           50176,
           50176,
           50176,
           50176,
           50176,
           50176,
           50176,
           50176,
           50176,
           50176,
           50176,
           65536,
           65536,
           50176,
           50176,
           50176,
           50176,
           50176,
           50176,
           50176,
           82944,
           82944,
           50176,
           50176,
           50176,
           50176,
           50176,
           50176,
           50176
          ],
          "sizemode": "area",
          "sizeref": 655.36,
          "symbol": "circle"
         },
         "mode": "markers",
         "name": "resnet",
         "orientation": "v",
         "showlegend": true,
         "type": "scatter",
         "x": [
          9.236979323021786e-05,
          9.236979323021786e-05,
          9.236979323021786e-05,
          9.236979323021786e-05,
          9.236979323021786e-05,
          9.236979323021786e-05,
          9.236979323021786e-05,
          0.00015969338869370808,
          0.00015969338869370808,
          0.00015969338869370808,
          0.00015969338869370808,
          0.00015969338869370808,
          0.00017561482751111642,
          0.0002638710409448694,
          0.00028338807446305045,
          0.00028338807446305045,
          0.00028338807446305045,
          0.00028338807446305045,
          0.00028338807446305045,
          0.00028338807446305045,
          0.00028338807446305045,
          0.00028338807446305045,
          0.00028338807446305045,
          0.00028338807446305045,
          0.00028338807446305045,
          0.00028338807446305045,
          0.00028338807446305045,
          0.00028338807446305045,
          0.00028338807446305045,
          0.00028338807446305045,
          0.00028338807446305045,
          0.00028338807446305045,
          0.00029286350217890445,
          0.00029674294938752255,
          0.00046063207933926936,
          0.00046063207933926936,
          0.00046063207933926936,
          0.00046063207933926936,
          0.00046063207933926936,
          0.00046063207933926936,
          0.00046063207933926936,
          0.000534896657965681,
          0.0005959830740806961,
          0.0006634335339114052,
          0.0006634335339114052,
          0.0006634335339114052,
          0.0006634335339114052,
          0.0006634335339114052,
          0.0006634335339114052,
          0.0006634335339114052
         ],
         "xaxis": "x",
         "y": [
          73.282,
          73.158,
          72.594,
          72.372,
          70.838,
          69.76,
          68.254,
          77.918,
          77.158,
          76.48,
          74.578,
          72.97,
          76.366,
          78.332,
          81.214,
          81.182,
          80.972,
          80.912,
          80.87,
          80.85,
          80.772,
          80.706,
          80.676,
          80.454,
          79.976,
          79.836,
          79.64,
          79.234,
          78.998,
          78.048,
          77.58,
          76.13,
          79.392,
          79.726,
          82.778,
          82.322,
          82.236,
          81.89,
          79.814,
          79.31,
          77.376,
          82.36,
          82.524,
          83.45,
          82.732,
          82.608,
          82.288,
          80.546,
          79.694,
          78.322
         ],
         "yaxis": "y"
        },
        {
         "hovertemplate": "<b>OLS trendline</b><br>top1 = 11.8619 * log10(secs) + 120.758<br>R<sup>2</sup>=0.729144<br><br>family=resnet<br>secs=%{x}<br>top1=%{y} <b>(trend)</b><extra></extra>",
         "legendgroup": "resnet",
         "marker": {
          "color": "#00cc96",
          "symbol": "circle"
         },
         "mode": "lines",
         "name": "resnet",
         "showlegend": false,
         "type": "scatter",
         "x": [
          9.236979323021786e-05,
          9.236979323021786e-05,
          9.236979323021786e-05,
          9.236979323021786e-05,
          9.236979323021786e-05,
          9.236979323021786e-05,
          9.236979323021786e-05,
          0.00015969338869370808,
          0.00015969338869370808,
          0.00015969338869370808,
          0.00015969338869370808,
          0.00015969338869370808,
          0.00017561482751111642,
          0.0002638710409448694,
          0.00028338807446305045,
          0.00028338807446305045,
          0.00028338807446305045,
          0.00028338807446305045,
          0.00028338807446305045,
          0.00028338807446305045,
          0.00028338807446305045,
          0.00028338807446305045,
          0.00028338807446305045,
          0.00028338807446305045,
          0.00028338807446305045,
          0.00028338807446305045,
          0.00028338807446305045,
          0.00028338807446305045,
          0.00028338807446305045,
          0.00028338807446305045,
          0.00028338807446305045,
          0.00028338807446305045,
          0.00029286350217890445,
          0.00029674294938752255,
          0.00046063207933926936,
          0.00046063207933926936,
          0.00046063207933926936,
          0.00046063207933926936,
          0.00046063207933926936,
          0.00046063207933926936,
          0.00046063207933926936,
          0.000534896657965681,
          0.0005959830740806961,
          0.0006634335339114052,
          0.0006634335339114052,
          0.0006634335339114052,
          0.0006634335339114052,
          0.0006634335339114052,
          0.0006634335339114052,
          0.0006634335339114052
         ],
         "xaxis": "x",
         "y": [
          72.90117975826325,
          72.90117975826325,
          72.90117975826325,
          72.90117975826325,
          72.90117975826325,
          72.90117975826325,
          72.90117975826325,
          75.72143552808528,
          75.72143552808528,
          75.72143552808528,
          75.72143552808528,
          75.72143552808528,
          76.21102760701524,
          78.30857867190001,
          78.67617789222192,
          78.67617789222192,
          78.67617789222192,
          78.67617789222192,
          78.67617789222192,
          78.67617789222192,
          78.67617789222192,
          78.67617789222192,
          78.67617789222192,
          78.67617789222192,
          78.67617789222192,
          78.67617789222192,
          78.67617789222192,
          78.67617789222192,
          78.67617789222192,
          78.67617789222192,
          78.67617789222192,
          78.67617789222192,
          78.8456098764255,
          78.9134026560883,
          81.17871958879762,
          81.17871958879762,
          81.17871958879762,
          81.17871958879762,
          81.17871958879762,
          81.17871958879762,
          81.17871958879762,
          81.9487449392072,
          82.50582897216368,
          83.05816173533596,
          83.05816173533596,
          83.05816173533596,
          83.05816173533596,
          83.05816173533596,
          83.05816173533596,
          83.05816173533596
         ],
         "yaxis": "y"
        },
        {
         "customdata": [
          [
           224
          ],
          [
           224
          ],
          [
           224
          ],
          [
           224
          ],
          [
           224
          ],
          [
           224
          ],
          [
           224
          ],
          [
           224
          ],
          [
           320
          ],
          [
           320
          ],
          [
           320
          ],
          [
           320
          ],
          [
           320
          ]
         ],
         "hovertemplate": "<b>%{hovertext}</b><br><br>family=resnetd<br>secs=%{x}<br>top1=%{y}<br>size=%{marker.size}<br>infer_img_size=%{customdata[0]}<extra></extra>",
         "hovertext": [
          "resnet18d",
          "resnet34d",
          "resnet26d",
          "resnet50d",
          "resnet50d",
          "resnet50d",
          "resnet50d",
          "resnet50d",
          "resnet101d",
          "resnet101d",
          "resnet152d",
          "resnet152d",
          "resnet200d"
         ],
         "legendgroup": "resnetd",
         "marker": {
          "color": "#ab63fa",
          "size": [
           50176,
           50176,
           50176,
           50176,
           50176,
           50176,
           50176,
           50176,
           102400,
           102400,
           102400,
           102400,
           102400
          ],
          "sizemode": "area",
          "sizeref": 655.36,
          "symbol": "circle"
         },
         "mode": "markers",
         "name": "resnetd",
         "orientation": "v",
         "showlegend": true,
         "type": "scatter",
         "x": [
          0.00011218547400045547,
          0.00017947263760167124,
          0.0002044542400742578,
          0.00031235065734195835,
          0.00031235065734195835,
          0.00031235065734195835,
          0.00031235065734195835,
          0.00031235065734195835,
          0.0010008807750820723,
          0.0010008807750820723,
          0.0014054023666975855,
          0.0014054023666975855,
          0.0019066503965832825
         ],
         "xaxis": "x",
         "y": [
          73.794,
          78.436,
          77.408,
          81.45,
          81.356,
          81.164,
          79.078,
          78.722,
          83.016,
          80.426,
          83.684,
          80.476,
          83.964
         ],
         "yaxis": "y"
        },
        {
         "hovertemplate": "<b>OLS trendline</b><br>top1 = 5.6549 * log10(secs) + 99.0794<br>R<sup>2</sup>=0.645118<br><br>family=resnetd<br>secs=%{x}<br>top1=%{y} <b>(trend)</b><extra></extra>",
         "legendgroup": "resnetd",
         "marker": {
          "color": "#ab63fa",
          "symbol": "circle"
         },
         "mode": "lines",
         "name": "resnetd",
         "showlegend": false,
         "type": "scatter",
         "x": [
          0.00011218547400045547,
          0.00017947263760167124,
          0.0002044542400742578,
          0.00031235065734195835,
          0.00031235065734195835,
          0.00031235065734195835,
          0.00031235065734195835,
          0.00031235065734195835,
          0.0010008807750820723,
          0.0010008807750820723,
          0.0014054023666975855,
          0.0014054023666975855,
          0.0019066503965832825
         ],
         "xaxis": "x",
         "y": [
          76.74221699212639,
          77.89616507547633,
          78.21622041619179,
          79.25698388797704,
          79.25698388797704,
          79.25698388797704,
          79.25698388797704,
          79.25698388797704,
          82.11689267526668,
          82.11689267526668,
          82.95052863536013,
          82.95052863536013,
          83.6996354550672
         ],
         "yaxis": "y"
        },
        {
         "customdata": [
          [
           224
          ],
          [
           224
          ],
          [
           224
          ],
          [
           224
          ],
          [
           224
          ],
          [
           224
          ],
          [
           224
          ]
         ],
         "hovertemplate": "<b>%{hovertext}</b><br><br>family=vgg<br>secs=%{x}<br>top1=%{y}<br>size=%{marker.size}<br>infer_img_size=%{customdata[0]}<extra></extra>",
         "hovertext": [
          "vgg11_bn",
          "vgg13",
          "vgg13_bn",
          "vgg16",
          "vgg19",
          "vgg16_bn",
          "vgg19_bn"
         ],
         "legendgroup": "vgg",
         "marker": {
          "color": "#FFA15A",
          "size": [
           50176,
           50176,
           50176,
           50176,
           50176,
           50176,
           50176
          ],
          "sizemode": "area",
          "sizeref": 655.36,
          "symbol": "circle"
         },
         "mode": "markers",
         "name": "vgg",
         "orientation": "v",
         "showlegend": true,
         "type": "scatter",
         "x": [
          0.0003856239395341663,
          0.000495051955702751,
          0.000609002271578473,
          0.00061273383454961,
          0.0007314379338341244,
          0.0007335465508641178,
          0.0008591212907438273
         ],
         "xaxis": "x",
         "y": [
          70.382,
          69.932,
          71.588,
          71.592,
          72.378,
          73.37,
          74.216
         ],
         "yaxis": "y"
        },
        {
         "hovertemplate": "<b>OLS trendline</b><br>top1 = 11.8636 * log10(secs) + 110.028<br>R<sup>2</sup>=0.823327<br><br>family=vgg<br>secs=%{x}<br>top1=%{y} <b>(trend)</b><extra></extra>",
         "legendgroup": "vgg",
         "marker": {
          "color": "#FFA15A",
          "symbol": "circle"
         },
         "mode": "lines",
         "name": "vgg",
         "showlegend": false,
         "type": "scatter",
         "x": [
          0.0003856239395341663,
          0.000495051955702751,
          0.000609002271578473,
          0.00061273383454961,
          0.0007314379338341244,
          0.0007335465508641178,
          0.0008591212907438273
         ],
         "xaxis": "x",
         "y": [
          69.52744196709092,
          70.81449063233087,
          71.88184049620665,
          71.91331414679179,
          72.82569499432967,
          72.84052691476138,
          73.65469084848861
         ],
         "yaxis": "y"
        },
        {
         "customdata": [
          [
           288
          ],
          [
           384
          ],
          [
           416
          ]
         ],
         "hovertemplate": "<b>%{hovertext}</b><br><br>family=efficientnetv2<br>secs=%{x}<br>top1=%{y}<br>size=%{marker.size}<br>infer_img_size=%{customdata[0]}<extra></extra>",
         "hovertext": [
          "efficientnetv2_rw_t",
          "efficientnetv2_rw_s",
          "efficientnetv2_rw_m"
         ],
         "legendgroup": "efficientnetv2",
         "marker": {
          "color": "#19d3f3",
          "size": [
           82944,
           147456,
           173056
          ],
          "sizemode": "area",
          "sizeref": 655.36,
          "symbol": "circle"
         },
         "mode": "markers",
         "name": "efficientnetv2",
         "orientation": "v",
         "showlegend": true,
         "type": "scatter",
         "x": [
          0.00039287790926091805,
          0.0009177342975661686,
          0.0025433643623785545
         ],
         "xaxis": "x",
         "y": [
          82.35,
          83.808,
          84.812
         ],
         "yaxis": "y"
        },
        {
         "hovertemplate": "<b>OLS trendline</b><br>top1 = 3.00972 * log10(secs) + 92.7236<br>R<sup>2</sup>=0.974977<br><br>family=efficientnetv2<br>secs=%{x}<br>top1=%{y} <b>(trend)</b><extra></extra>",
         "legendgroup": "efficientnetv2",
         "marker": {
          "color": "#19d3f3",
          "symbol": "circle"
         },
         "mode": "lines",
         "name": "efficientnetv2",
         "showlegend": false,
         "type": "scatter",
         "x": [
          0.00039287790926091805,
          0.0009177342975661686,
          0.0025433643623785545
         ],
         "xaxis": "x",
         "y": [
          82.47323531828717,
          83.58219394486419,
          84.91457073684838
         ],
         "yaxis": "y"
        },
        {
         "customdata": [
          [
           224
          ],
          [
           224
          ],
          [
           224
          ],
          [
           224
          ],
          [
           224
          ],
          [
           224
          ],
          [
           224
          ],
          [
           224
          ],
          [
           224
          ],
          [
           224
          ],
          [
           224
          ],
          [
           224
          ],
          [
           224
          ],
          [
           224
          ],
          [
           224
          ],
          [
           224
          ],
          [
           224
          ],
          [
           224
          ],
          [
           224
          ],
          [
           224
          ],
          [
           224
          ]
         ],
         "hovertemplate": "<b>%{hovertext}</b><br><br>family=convnext<br>secs=%{x}<br>top1=%{y}<br>size=%{marker.size}<br>infer_img_size=%{customdata[0]}<extra></extra>",
         "hovertext": [
          "convnext_tiny",
          "convnext_tiny",
          "convnext_tiny",
          "convnext_tiny",
          "convnext_tiny",
          "convnext_tiny_hnf",
          "convnext_small",
          "convnext_small",
          "convnext_small",
          "convnext_small",
          "convnext_small",
          "convnext_base",
          "convnext_base",
          "convnext_base",
          "convnext_base",
          "convnext_base",
          "convnext_base",
          "convnext_base",
          "convnext_large",
          "convnext_large",
          "convnext_large"
         ],
         "legendgroup": "convnext",
         "marker": {
          "color": "#FF6692",
          "size": [
           50176,
           50176,
           50176,
           50176,
           50176,
           50176,
           50176,
           50176,
           50176,
           50176,
           50176,
           50176,
           50176,
           50176,
           50176,
           50176,
           50176,
           50176,
           50176,
           50176,
           50176
          ],
          "sizemode": "area",
          "sizeref": 655.36,
          "symbol": "circle"
         },
         "mode": "markers",
         "name": "convnext",
         "orientation": "v",
         "showlegend": true,
         "type": "scatter",
         "x": [
          0.00043947351073414054,
          0.00043947351073414054,
          0.00043947351073414054,
          0.00043947351073414054,
          0.00043947351073414054,
          0.00048231356169272765,
          0.0007089131652263915,
          0.0007089131652263915,
          0.0007089131652263915,
          0.0007089131652263915,
          0.0007089131652263915,
          0.001017356094980365,
          0.001017356094980365,
          0.001017356094980365,
          0.001017356094980365,
          0.001017356094980365,
          0.001017356094980365,
          0.001017356094980365,
          0.001837424665588711,
          0.001837424665588711,
          0.001837424665588711
         ],
         "xaxis": "x",
         "y": [
          85.122,
          84.45,
          84.088,
          82.698,
          78.898,
          82.584,
          86.182,
          85.778,
          85.33,
          85.262,
          83.7,
          87.134,
          86.796,
          86.502,
          86.37,
          86.274,
          86.158,
          84.428,
          87.472,
          87.026,
          84.846
         ],
         "yaxis": "y"
        },
        {
         "hovertemplate": "<b>OLS trendline</b><br>top1 = 6.3023 * log10(secs) + 104.608<br>R<sup>2</sup>=0.438464<br><br>family=convnext<br>secs=%{x}<br>top1=%{y} <b>(trend)</b><extra></extra>",
         "legendgroup": "convnext",
         "marker": {
          "color": "#FF6692",
          "symbol": "circle"
         },
         "mode": "lines",
         "name": "convnext",
         "showlegend": false,
         "type": "scatter",
         "x": [
          0.00043947351073414054,
          0.00043947351073414054,
          0.00043947351073414054,
          0.00043947351073414054,
          0.00043947351073414054,
          0.00048231356169272765,
          0.0007089131652263915,
          0.0007089131652263915,
          0.0007089131652263915,
          0.0007089131652263915,
          0.0007089131652263915,
          0.001017356094980365,
          0.001017356094980365,
          0.001017356094980365,
          0.001017356094980365,
          0.001017356094980365,
          0.001017356094980365,
          0.001017356094980365,
          0.001837424665588711,
          0.001837424665588711,
          0.001837424665588711
         ],
         "xaxis": "x",
         "y": [
          83.45100915074946,
          83.45100915074946,
          83.45100915074946,
          83.45100915074946,
          83.45100915074946,
          83.70560180292426,
          84.75974734246832,
          84.75974734246832,
          84.75974734246832,
          84.75974734246832,
          84.75974734246832,
          85.74845218086034,
          85.74845218086034,
          85.74845218086034,
          85.74845218086034,
          85.74845218086034,
          85.74845218086034,
          85.74845218086034,
          87.36648348832037,
          87.36648348832037,
          87.36648348832037
         ],
         "yaxis": "y"
        },
        {
         "customdata": [
          [
           224
          ],
          [
           224
          ],
          [
           224
          ],
          [
           224
          ],
          [
           224
          ],
          [
           224
          ],
          [
           224
          ],
          [
           224
          ],
          [
           224
          ],
          [
           224
          ],
          [
           384
          ],
          [
           384
          ],
          [
           384
          ]
         ],
         "hovertemplate": "<b>%{hovertext}</b><br><br>family=swin<br>secs=%{x}<br>top1=%{y}<br>size=%{marker.size}<br>infer_img_size=%{customdata[0]}<extra></extra>",
         "hovertext": [
          "swin_tiny_patch4_window7_224",
          "swin_tiny_patch4_window7_224",
          "swin_s3_tiny_224",
          "swin_small_patch4_window7_224",
          "swin_small_patch4_window7_224",
          "swin_s3_small_224",
          "swin_base_patch4_window7_224",
          "swin_base_patch4_window7_224",
          "swin_s3_base_224",
          "swin_large_patch4_window7_224",
          "swin_base_patch4_window12_384",
          "swin_base_patch4_window12_384",
          "swin_large_patch4_window12_384"
         ],
         "legendgroup": "swin",
         "marker": {
          "color": "#B6E880",
          "size": [
           50176,
           50176,
           50176,
           50176,
           50176,
           50176,
           50176,
           50176,
           50176,
           50176,
           147456,
           147456,
           147456
          ],
          "sizemode": "area",
          "sizeref": 655.36,
          "symbol": "circle"
         },
         "mode": "markers",
         "name": "swin",
         "orientation": "v",
         "showlegend": true,
         "type": "scatter",
         "x": [
          0.0005460184335823177,
          0.0005460184335823177,
          0.000599319173418996,
          0.0008899409969119047,
          0.0008899409969119047,
          0.0012179822905374956,
          0.001254390366281987,
          0.001254390366281987,
          0.001502765087761481,
          0.002185123678000175,
          0.004700352526439483,
          0.004700352526439483,
          0.007950389569088886
         ],
         "xaxis": "x",
         "y": [
          81.376,
          80.968,
          82.144,
          83.298,
          83.208,
          83.756,
          85.272,
          83.606,
          83.92,
          86.312,
          86.438,
          84.476,
          87.132
         ],
         "yaxis": "y"
        },
        {
         "hovertemplate": "<b>OLS trendline</b><br>top1 = 4.44822 * log10(secs) + 96.5866<br>R<sup>2</sup>=0.772263<br><br>family=swin<br>secs=%{x}<br>top1=%{y} <b>(trend)</b><extra></extra>",
         "legendgroup": "swin",
         "marker": {
          "color": "#B6E880",
          "symbol": "circle"
         },
         "mode": "lines",
         "name": "swin",
         "showlegend": false,
         "type": "scatter",
         "x": [
          0.0005460184335823177,
          0.0005460184335823177,
          0.000599319173418996,
          0.0008899409969119047,
          0.0008899409969119047,
          0.0012179822905374956,
          0.001254390366281987,
          0.001254390366281987,
          0.001502765087761481,
          0.002185123678000175,
          0.004700352526439483,
          0.004700352526439483,
          0.007950389569088886
         ],
         "xaxis": "x",
         "y": [
          82.07297953517897,
          82.07297953517897,
          82.25291375045578,
          83.0166860577838,
          83.0166860577838,
          83.62288793625564,
          83.67978834880434,
          83.67978834880434,
          84.0287882417208,
          84.75200119523174,
          86.2317200278345,
          86.2317200278345,
          87.24706093713318
         ],
         "yaxis": "y"
        },
        {
         "customdata": [
          [
           224
          ],
          [
           224
          ],
          [
           384
          ],
          [
           384
          ],
          [
           512
          ]
         ],
         "hovertemplate": "<b>%{hovertext}</b><br><br>family=beit<br>secs=%{x}<br>top1=%{y}<br>size=%{marker.size}<br>infer_img_size=%{customdata[0]}<extra></extra>",
         "hovertext": [
          "beit_base_patch16_224",
          "beit_large_patch16_224",
          "beit_base_patch16_384",
          "beit_large_patch16_384",
          "beit_large_patch16_512"
         ],
         "legendgroup": "beit",
         "marker": {
          "color": "#FF97FF",
          "size": [
           50176,
           50176,
           147456,
           147456,
           262144
          ],
          "sizemode": "area",
          "sizeref": 655.36,
          "symbol": "circle"
         },
         "mode": "markers",
         "name": "beit",
         "orientation": "v",
         "showlegend": true,
         "type": "scatter",
         "x": [
          0.0010062791820962809,
          0.0030446034404018876,
          0.00418007774944614,
          0.0121580547112462,
          0.030184123151222455
         ],
         "xaxis": "x",
         "y": [
          85.212,
          87.478,
          86.8,
          88.402,
          88.596
         ],
         "yaxis": "y"
        },
        {
         "hovertemplate": "<b>OLS trendline</b><br>top1 = 2.24263 * log10(secs) + 92.3785<br>R<sup>2</sup>=0.860671<br><br>family=beit<br>secs=%{x}<br>top1=%{y} <b>(trend)</b><extra></extra>",
         "legendgroup": "beit",
         "marker": {
          "color": "#FF97FF",
          "symbol": "circle"
         },
         "mode": "lines",
         "name": "beit",
         "showlegend": false,
         "type": "scatter",
         "x": [
          0.0010062791820962809,
          0.0030446034404018876,
          0.00418007774944614,
          0.0121580547112462,
          0.030184123151222455
         ],
         "xaxis": "x",
         "y": [
          85.65667590377421,
          86.73495920794268,
          87.04366516942372,
          88.08352661170264,
          88.9691731071566
         ],
         "yaxis": "y"
        }
       ],
       "layout": {
        "height": 800,
        "legend": {
         "itemsizing": "constant",
         "title": {
          "text": "family"
         },
         "tracegroupgap": 0
        },
        "template": {
         "data": {
          "bar": [
           {
            "error_x": {
             "color": "#2a3f5f"
            },
            "error_y": {
             "color": "#2a3f5f"
            },
            "marker": {
             "line": {
              "color": "#E5ECF6",
              "width": 0.5
             },
             "pattern": {
              "fillmode": "overlay",
              "size": 10,
              "solidity": 0.2
             }
            },
            "type": "bar"
           }
          ],
          "barpolar": [
           {
            "marker": {
             "line": {
              "color": "#E5ECF6",
              "width": 0.5
             },
             "pattern": {
              "fillmode": "overlay",
              "size": 10,
              "solidity": 0.2
             }
            },
            "type": "barpolar"
           }
          ],
          "carpet": [
           {
            "aaxis": {
             "endlinecolor": "#2a3f5f",
             "gridcolor": "white",
             "linecolor": "white",
             "minorgridcolor": "white",
             "startlinecolor": "#2a3f5f"
            },
            "baxis": {
             "endlinecolor": "#2a3f5f",
             "gridcolor": "white",
             "linecolor": "white",
             "minorgridcolor": "white",
             "startlinecolor": "#2a3f5f"
            },
            "type": "carpet"
           }
          ],
          "choropleth": [
           {
            "colorbar": {
             "outlinewidth": 0,
             "ticks": ""
            },
            "type": "choropleth"
           }
          ],
          "contour": [
           {
            "colorbar": {
             "outlinewidth": 0,
             "ticks": ""
            },
            "colorscale": [
             [
              0,
              "#0d0887"
             ],
             [
              0.1111111111111111,
              "#46039f"
             ],
             [
              0.2222222222222222,
              "#7201a8"
             ],
             [
              0.3333333333333333,
              "#9c179e"
             ],
             [
              0.4444444444444444,
              "#bd3786"
             ],
             [
              0.5555555555555556,
              "#d8576b"
             ],
             [
              0.6666666666666666,
              "#ed7953"
             ],
             [
              0.7777777777777778,
              "#fb9f3a"
             ],
             [
              0.8888888888888888,
              "#fdca26"
             ],
             [
              1,
              "#f0f921"
             ]
            ],
            "type": "contour"
           }
          ],
          "contourcarpet": [
           {
            "colorbar": {
             "outlinewidth": 0,
             "ticks": ""
            },
            "type": "contourcarpet"
           }
          ],
          "heatmap": [
           {
            "colorbar": {
             "outlinewidth": 0,
             "ticks": ""
            },
            "colorscale": [
             [
              0,
              "#0d0887"
             ],
             [
              0.1111111111111111,
              "#46039f"
             ],
             [
              0.2222222222222222,
              "#7201a8"
             ],
             [
              0.3333333333333333,
              "#9c179e"
             ],
             [
              0.4444444444444444,
              "#bd3786"
             ],
             [
              0.5555555555555556,
              "#d8576b"
             ],
             [
              0.6666666666666666,
              "#ed7953"
             ],
             [
              0.7777777777777778,
              "#fb9f3a"
             ],
             [
              0.8888888888888888,
              "#fdca26"
             ],
             [
              1,
              "#f0f921"
             ]
            ],
            "type": "heatmap"
           }
          ],
          "heatmapgl": [
           {
            "colorbar": {
             "outlinewidth": 0,
             "ticks": ""
            },
            "colorscale": [
             [
              0,
              "#0d0887"
             ],
             [
              0.1111111111111111,
              "#46039f"
             ],
             [
              0.2222222222222222,
              "#7201a8"
             ],
             [
              0.3333333333333333,
              "#9c179e"
             ],
             [
              0.4444444444444444,
              "#bd3786"
             ],
             [
              0.5555555555555556,
              "#d8576b"
             ],
             [
              0.6666666666666666,
              "#ed7953"
             ],
             [
              0.7777777777777778,
              "#fb9f3a"
             ],
             [
              0.8888888888888888,
              "#fdca26"
             ],
             [
              1,
              "#f0f921"
             ]
            ],
            "type": "heatmapgl"
           }
          ],
          "histogram": [
           {
            "marker": {
             "pattern": {
              "fillmode": "overlay",
              "size": 10,
              "solidity": 0.2
             }
            },
            "type": "histogram"
           }
          ],
          "histogram2d": [
           {
            "colorbar": {
             "outlinewidth": 0,
             "ticks": ""
            },
            "colorscale": [
             [
              0,
              "#0d0887"
             ],
             [
              0.1111111111111111,
              "#46039f"
             ],
             [
              0.2222222222222222,
              "#7201a8"
             ],
             [
              0.3333333333333333,
              "#9c179e"
             ],
             [
              0.4444444444444444,
              "#bd3786"
             ],
             [
              0.5555555555555556,
              "#d8576b"
             ],
             [
              0.6666666666666666,
              "#ed7953"
             ],
             [
              0.7777777777777778,
              "#fb9f3a"
             ],
             [
              0.8888888888888888,
              "#fdca26"
             ],
             [
              1,
              "#f0f921"
             ]
            ],
            "type": "histogram2d"
           }
          ],
          "histogram2dcontour": [
           {
            "colorbar": {
             "outlinewidth": 0,
             "ticks": ""
            },
            "colorscale": [
             [
              0,
              "#0d0887"
             ],
             [
              0.1111111111111111,
              "#46039f"
             ],
             [
              0.2222222222222222,
              "#7201a8"
             ],
             [
              0.3333333333333333,
              "#9c179e"
             ],
             [
              0.4444444444444444,
              "#bd3786"
             ],
             [
              0.5555555555555556,
              "#d8576b"
             ],
             [
              0.6666666666666666,
              "#ed7953"
             ],
             [
              0.7777777777777778,
              "#fb9f3a"
             ],
             [
              0.8888888888888888,
              "#fdca26"
             ],
             [
              1,
              "#f0f921"
             ]
            ],
            "type": "histogram2dcontour"
           }
          ],
          "mesh3d": [
           {
            "colorbar": {
             "outlinewidth": 0,
             "ticks": ""
            },
            "type": "mesh3d"
           }
          ],
          "parcoords": [
           {
            "line": {
             "colorbar": {
              "outlinewidth": 0,
              "ticks": ""
             }
            },
            "type": "parcoords"
           }
          ],
          "pie": [
           {
            "automargin": true,
            "type": "pie"
           }
          ],
          "scatter": [
           {
            "fillpattern": {
             "fillmode": "overlay",
             "size": 10,
             "solidity": 0.2
            },
            "type": "scatter"
           }
          ],
          "scatter3d": [
           {
            "line": {
             "colorbar": {
              "outlinewidth": 0,
              "ticks": ""
             }
            },
            "marker": {
             "colorbar": {
              "outlinewidth": 0,
              "ticks": ""
             }
            },
            "type": "scatter3d"
           }
          ],
          "scattercarpet": [
           {
            "marker": {
             "colorbar": {
              "outlinewidth": 0,
              "ticks": ""
             }
            },
            "type": "scattercarpet"
           }
          ],
          "scattergeo": [
           {
            "marker": {
             "colorbar": {
              "outlinewidth": 0,
              "ticks": ""
             }
            },
            "type": "scattergeo"
           }
          ],
          "scattergl": [
           {
            "marker": {
             "colorbar": {
              "outlinewidth": 0,
              "ticks": ""
             }
            },
            "type": "scattergl"
           }
          ],
          "scattermapbox": [
           {
            "marker": {
             "colorbar": {
              "outlinewidth": 0,
              "ticks": ""
             }
            },
            "type": "scattermapbox"
           }
          ],
          "scatterpolar": [
           {
            "marker": {
             "colorbar": {
              "outlinewidth": 0,
              "ticks": ""
             }
            },
            "type": "scatterpolar"
           }
          ],
          "scatterpolargl": [
           {
            "marker": {
             "colorbar": {
              "outlinewidth": 0,
              "ticks": ""
             }
            },
            "type": "scatterpolargl"
           }
          ],
          "scatterternary": [
           {
            "marker": {
             "colorbar": {
              "outlinewidth": 0,
              "ticks": ""
             }
            },
            "type": "scatterternary"
           }
          ],
          "surface": [
           {
            "colorbar": {
             "outlinewidth": 0,
             "ticks": ""
            },
            "colorscale": [
             [
              0,
              "#0d0887"
             ],
             [
              0.1111111111111111,
              "#46039f"
             ],
             [
              0.2222222222222222,
              "#7201a8"
             ],
             [
              0.3333333333333333,
              "#9c179e"
             ],
             [
              0.4444444444444444,
              "#bd3786"
             ],
             [
              0.5555555555555556,
              "#d8576b"
             ],
             [
              0.6666666666666666,
              "#ed7953"
             ],
             [
              0.7777777777777778,
              "#fb9f3a"
             ],
             [
              0.8888888888888888,
              "#fdca26"
             ],
             [
              1,
              "#f0f921"
             ]
            ],
            "type": "surface"
           }
          ],
          "table": [
           {
            "cells": {
             "fill": {
              "color": "#EBF0F8"
             },
             "line": {
              "color": "white"
             }
            },
            "header": {
             "fill": {
              "color": "#C8D4E3"
             },
             "line": {
              "color": "white"
             }
            },
            "type": "table"
           }
          ]
         },
         "layout": {
          "annotationdefaults": {
           "arrowcolor": "#2a3f5f",
           "arrowhead": 0,
           "arrowwidth": 1
          },
          "autotypenumbers": "strict",
          "coloraxis": {
           "colorbar": {
            "outlinewidth": 0,
            "ticks": ""
           }
          },
          "colorscale": {
           "diverging": [
            [
             0,
             "#8e0152"
            ],
            [
             0.1,
             "#c51b7d"
            ],
            [
             0.2,
             "#de77ae"
            ],
            [
             0.3,
             "#f1b6da"
            ],
            [
             0.4,
             "#fde0ef"
            ],
            [
             0.5,
             "#f7f7f7"
            ],
            [
             0.6,
             "#e6f5d0"
            ],
            [
             0.7,
             "#b8e186"
            ],
            [
             0.8,
             "#7fbc41"
            ],
            [
             0.9,
             "#4d9221"
            ],
            [
             1,
             "#276419"
            ]
           ],
           "sequential": [
            [
             0,
             "#0d0887"
            ],
            [
             0.1111111111111111,
             "#46039f"
            ],
            [
             0.2222222222222222,
             "#7201a8"
            ],
            [
             0.3333333333333333,
             "#9c179e"
            ],
            [
             0.4444444444444444,
             "#bd3786"
            ],
            [
             0.5555555555555556,
             "#d8576b"
            ],
            [
             0.6666666666666666,
             "#ed7953"
            ],
            [
             0.7777777777777778,
             "#fb9f3a"
            ],
            [
             0.8888888888888888,
             "#fdca26"
            ],
            [
             1,
             "#f0f921"
            ]
           ],
           "sequentialminus": [
            [
             0,
             "#0d0887"
            ],
            [
             0.1111111111111111,
             "#46039f"
            ],
            [
             0.2222222222222222,
             "#7201a8"
            ],
            [
             0.3333333333333333,
             "#9c179e"
            ],
            [
             0.4444444444444444,
             "#bd3786"
            ],
            [
             0.5555555555555556,
             "#d8576b"
            ],
            [
             0.6666666666666666,
             "#ed7953"
            ],
            [
             0.7777777777777778,
             "#fb9f3a"
            ],
            [
             0.8888888888888888,
             "#fdca26"
            ],
            [
             1,
             "#f0f921"
            ]
           ]
          },
          "colorway": [
           "#636efa",
           "#EF553B",
           "#00cc96",
           "#ab63fa",
           "#FFA15A",
           "#19d3f3",
           "#FF6692",
           "#B6E880",
           "#FF97FF",
           "#FECB52"
          ],
          "font": {
           "color": "#2a3f5f"
          },
          "geo": {
           "bgcolor": "white",
           "lakecolor": "white",
           "landcolor": "#E5ECF6",
           "showlakes": true,
           "showland": true,
           "subunitcolor": "white"
          },
          "hoverlabel": {
           "align": "left"
          },
          "hovermode": "closest",
          "mapbox": {
           "style": "light"
          },
          "paper_bgcolor": "white",
          "plot_bgcolor": "#E5ECF6",
          "polar": {
           "angularaxis": {
            "gridcolor": "white",
            "linecolor": "white",
            "ticks": ""
           },
           "bgcolor": "#E5ECF6",
           "radialaxis": {
            "gridcolor": "white",
            "linecolor": "white",
            "ticks": ""
           }
          },
          "scene": {
           "xaxis": {
            "backgroundcolor": "#E5ECF6",
            "gridcolor": "white",
            "gridwidth": 2,
            "linecolor": "white",
            "showbackground": true,
            "ticks": "",
            "zerolinecolor": "white"
           },
           "yaxis": {
            "backgroundcolor": "#E5ECF6",
            "gridcolor": "white",
            "gridwidth": 2,
            "linecolor": "white",
            "showbackground": true,
            "ticks": "",
            "zerolinecolor": "white"
           },
           "zaxis": {
            "backgroundcolor": "#E5ECF6",
            "gridcolor": "white",
            "gridwidth": 2,
            "linecolor": "white",
            "showbackground": true,
            "ticks": "",
            "zerolinecolor": "white"
           }
          },
          "shapedefaults": {
           "line": {
            "color": "#2a3f5f"
           }
          },
          "ternary": {
           "aaxis": {
            "gridcolor": "white",
            "linecolor": "white",
            "ticks": ""
           },
           "baxis": {
            "gridcolor": "white",
            "linecolor": "white",
            "ticks": ""
           },
           "bgcolor": "#E5ECF6",
           "caxis": {
            "gridcolor": "white",
            "linecolor": "white",
            "ticks": ""
           }
          },
          "title": {
           "x": 0.05
          },
          "xaxis": {
           "automargin": true,
           "gridcolor": "white",
           "linecolor": "white",
           "ticks": "",
           "title": {
            "standoff": 15
           },
           "zerolinecolor": "white",
           "zerolinewidth": 2
          },
          "yaxis": {
           "automargin": true,
           "gridcolor": "white",
           "linecolor": "white",
           "ticks": "",
           "title": {
            "standoff": 15
           },
           "zerolinecolor": "white",
           "zerolinewidth": 2
          }
         }
        },
        "title": {
         "text": "Inference performance (processing time vs. accuracy) of different models"
        },
        "width": 1000,
        "xaxis": {
         "anchor": "y",
         "domain": [
          0,
          1
         ],
         "title": {
          "text": "secs (how many seconds it takes to process one image)"
         },
         "type": "log"
        },
        "yaxis": {
         "anchor": "x",
         "domain": [
          0,
          1
         ],
         "title": {
          "text": "top1 (accuracy on Imagenet)"
         }
        }
       }
      },
      "text/html": [
       "<div>                            <div id=\"bccb2ca7-6290-4db6-97ad-5bc09768906c\" class=\"plotly-graph-div\" style=\"height:800px; width:1000px;\"></div>            <script type=\"text/javascript\">                require([\"plotly\"], function(Plotly) {                    window.PLOTLYENV=window.PLOTLYENV || {};                                    if (document.getElementById(\"bccb2ca7-6290-4db6-97ad-5bc09768906c\")) {                    Plotly.newPlot(                        \"bccb2ca7-6290-4db6-97ad-5bc09768906c\",                        [{\"customdata\":[[224],[224],[224],[224],[224]],\"hovertemplate\":\"<b>%{hovertext}</b><br><br>family=levit<br>secs=%{x}<br>top1=%{y}<br>size=%{marker.size}<br>infer_img_size=%{customdata[0]}<extra></extra>\",\"hovertext\":[\"levit_128s\",\"levit_128\",\"levit_192\",\"levit_256\",\"levit_384\"],\"legendgroup\":\"levit\",\"marker\":{\"color\":\"#636efa\",\"size\":[50176,50176,50176,50176,50176],\"sizemode\":\"area\",\"sizeref\":655.36,\"symbol\":\"circle\"},\"mode\":\"markers\",\"name\":\"levit\",\"orientation\":\"v\",\"showlegend\":true,\"x\":[0.00004654236751715086,0.00006822292249261998,0.00007756230968148262,0.00010599687945186893,0.00017720128293728847],\"xaxis\":\"x\",\"y\":[76.526,78.49,79.838,81.514,82.596],\"yaxis\":\"y\",\"type\":\"scatter\"},{\"hovertemplate\":\"<b>OLS trendline</b><br>top1 = 10.7162 * log10(secs) + 123.375<br>R<sup>2</sup>=0.940996<br><br>family=levit<br>secs=%{x}<br>top1=%{y} <b>(trend)</b><extra></extra>\",\"legendgroup\":\"levit\",\"marker\":{\"color\":\"#636efa\",\"symbol\":\"circle\"},\"mode\":\"lines\",\"name\":\"levit\",\"showlegend\":false,\"x\":[0.00004654236751715086,0.00006822292249261998,0.00007756230968148262,0.00010599687945186893,0.00017720128293728847],\"xaxis\":\"x\",\"y\":[76.95096801723024,78.73074001900808,79.32785302803964,80.78142819739196,83.17301073833028],\"yaxis\":\"y\",\"type\":\"scatter\"},{\"customdata\":[[224],[224],[224],[224],[224],[224],[224],[224],[224],[224],[224],[224],[224],[224],[224],[224],[224],[224]],\"hovertemplate\":\"<b>%{hovertext}</b><br><br>family=regnetx<br>secs=%{x}<br>top1=%{y}<br>size=%{marker.size}<br>infer_img_size=%{customdata[0]}<extra></extra>\",\"hovertext\":[\"regnetx_002\",\"regnetx_004\",\"regnetx_008\",\"regnetx_008\",\"regnetx_006\",\"regnetx_016\",\"regnetx_016\",\"regnetx_032\",\"regnetx_032\",\"regnetx_040\",\"regnetx_080\",\"regnetx_080\",\"regnetx_064\",\"regnetx_120\",\"regnetx_160\",\"regnetx_160\",\"regnetx_320\",\"regnetx_320\"],\"legendgroup\":\"regnetx\",\"marker\":{\"color\":\"#EF553B\",\"size\":[50176,50176,50176,50176,50176,50176,50176,50176,50176,50176,50176,50176,50176,50176,50176,50176,50176,50176],\"sizemode\":\"area\",\"sizeref\":655.36,\"symbol\":\"circle\"},\"mode\":\"markers\",\"name\":\"regnetx\",\"orientation\":\"v\",\"showlegend\":true,\"x\":[0.00005611048828469115,0.00006925193368711838,0.00011822399190402103,0.00011822399190402103,0.0001259786970023369,0.00026479614668647344,0.00026479614668647344,0.0006228278877415016,0.0006228278877415016,0.0006304057291272663,0.0007938902208602596,0.0007938902208602596,0.0008572212316554657,0.0012854296548621376,0.001604157977477622,0.001604157977477622,0.0038134462113411888,0.0038134462113411888],\"xaxis\":\"x\",\"y\":[68.746,72.398,77.304,75.03,73.868,79.436,76.924,80.926,78.168,78.492,81.538,79.202,79.066,79.588,82.566,79.866,82.81,80.246],\"yaxis\":\"y\",\"type\":\"scatter\"},{\"hovertemplate\":\"<b>OLS trendline</b><br>top1 = 5.61518 * log10(secs) + 96.687<br>R<sup>2</sup>=0.746676<br><br>family=regnetx<br>secs=%{x}<br>top1=%{y} <b>(trend)</b><extra></extra>\",\"legendgroup\":\"regnetx\",\"marker\":{\"color\":\"#EF553B\",\"symbol\":\"circle\"},\"mode\":\"lines\",\"name\":\"regnetx\",\"showlegend\":false,\"x\":[0.00005611048828469115,0.00006925193368711838,0.00011822399190402103,0.00011822399190402103,0.0001259786970023369,0.00026479614668647344,0.00026479614668647344,0.0006228278877415016,0.0006228278877415016,0.0006304057291272663,0.0007938902208602596,0.0007938902208602596,0.0008572212316554657,0.0012854296548621376,0.001604157977477622,0.001604157977477622,0.0038134462113411888,0.0038134462113411888],\"xaxis\":\"x\",\"y\":[72.81712701145526,73.33028628679247,74.63454503496246,74.63454503496246,74.78947623616791,76.6010150391476,76.6010150391476,78.68680957427863,78.68680957427863,78.71630106780745,79.27860689563482,79.27860689563482,79.46577470059948,80.45379594191857,80.99396964700496,80.99396964700496,83.10567318660095,83.10567318660095],\"yaxis\":\"y\",\"type\":\"scatter\"},{\"customdata\":[[224],[224],[224],[224],[224],[224],[224],[224],[224],[224],[224],[224],[224],[256],[224],[224],[224],[224],[224],[224],[224],[224],[224],[224],[224],[224],[224],[224],[224],[224],[224],[224],[256],[256],[224],[224],[224],[224],[224],[224],[224],[288],[288],[224],[224],[224],[224],[224],[224],[224]],\"hovertemplate\":\"<b>%{hovertext}</b><br><br>family=resnet<br>secs=%{x}<br>top1=%{y}<br>size=%{marker.size}<br>infer_img_size=%{customdata[0]}<extra></extra>\",\"hovertext\":[\"resnet18\",\"resnet18\",\"resnet18\",\"resnet18\",\"resnet18\",\"resnet18\",\"resnet18\",\"resnet34\",\"resnet34\",\"resnet34\",\"resnet34\",\"resnet34\",\"resnet26\",\"resnet26t\",\"resnet50\",\"resnet50\",\"resnet50\",\"resnet50\",\"resnet50\",\"resnet50\",\"resnet50\",\"resnet50\",\"resnet50\",\"resnet50\",\"resnet50\",\"resnet50\",\"resnet50\",\"resnet50\",\"resnet50\",\"resnet50\",\"resnet50\",\"resnet50\",\"resnet32ts\",\"resnet33ts\",\"resnet101\",\"resnet101\",\"resnet101\",\"resnet101\",\"resnet101\",\"resnet101\",\"resnet101\",\"resnet51q\",\"resnet61q\",\"resnet152\",\"resnet152\",\"resnet152\",\"resnet152\",\"resnet152\",\"resnet152\",\"resnet152\"],\"legendgroup\":\"resnet\",\"marker\":{\"color\":\"#00cc96\",\"size\":[50176,50176,50176,50176,50176,50176,50176,50176,50176,50176,50176,50176,50176,65536,50176,50176,50176,50176,50176,50176,50176,50176,50176,50176,50176,50176,50176,50176,50176,50176,50176,50176,65536,65536,50176,50176,50176,50176,50176,50176,50176,82944,82944,50176,50176,50176,50176,50176,50176,50176],\"sizemode\":\"area\",\"sizeref\":655.36,\"symbol\":\"circle\"},\"mode\":\"markers\",\"name\":\"resnet\",\"orientation\":\"v\",\"showlegend\":true,\"x\":[0.00009236979323021786,0.00009236979323021786,0.00009236979323021786,0.00009236979323021786,0.00009236979323021786,0.00009236979323021786,0.00009236979323021786,0.00015969338869370808,0.00015969338869370808,0.00015969338869370808,0.00015969338869370808,0.00015969338869370808,0.00017561482751111642,0.0002638710409448694,0.00028338807446305045,0.00028338807446305045,0.00028338807446305045,0.00028338807446305045,0.00028338807446305045,0.00028338807446305045,0.00028338807446305045,0.00028338807446305045,0.00028338807446305045,0.00028338807446305045,0.00028338807446305045,0.00028338807446305045,0.00028338807446305045,0.00028338807446305045,0.00028338807446305045,0.00028338807446305045,0.00028338807446305045,0.00028338807446305045,0.00029286350217890445,0.00029674294938752255,0.00046063207933926936,0.00046063207933926936,0.00046063207933926936,0.00046063207933926936,0.00046063207933926936,0.00046063207933926936,0.00046063207933926936,0.000534896657965681,0.0005959830740806961,0.0006634335339114052,0.0006634335339114052,0.0006634335339114052,0.0006634335339114052,0.0006634335339114052,0.0006634335339114052,0.0006634335339114052],\"xaxis\":\"x\",\"y\":[73.282,73.158,72.594,72.372,70.838,69.76,68.254,77.918,77.158,76.48,74.578,72.97,76.366,78.332,81.214,81.182,80.972,80.912,80.87,80.85,80.772,80.706,80.676,80.454,79.976,79.836,79.64,79.234,78.998,78.048,77.58,76.13,79.392,79.726,82.778,82.322,82.236,81.89,79.814,79.31,77.376,82.36,82.524,83.45,82.732,82.608,82.288,80.546,79.694,78.322],\"yaxis\":\"y\",\"type\":\"scatter\"},{\"hovertemplate\":\"<b>OLS trendline</b><br>top1 = 11.8619 * log10(secs) + 120.758<br>R<sup>2</sup>=0.729144<br><br>family=resnet<br>secs=%{x}<br>top1=%{y} <b>(trend)</b><extra></extra>\",\"legendgroup\":\"resnet\",\"marker\":{\"color\":\"#00cc96\",\"symbol\":\"circle\"},\"mode\":\"lines\",\"name\":\"resnet\",\"showlegend\":false,\"x\":[0.00009236979323021786,0.00009236979323021786,0.00009236979323021786,0.00009236979323021786,0.00009236979323021786,0.00009236979323021786,0.00009236979323021786,0.00015969338869370808,0.00015969338869370808,0.00015969338869370808,0.00015969338869370808,0.00015969338869370808,0.00017561482751111642,0.0002638710409448694,0.00028338807446305045,0.00028338807446305045,0.00028338807446305045,0.00028338807446305045,0.00028338807446305045,0.00028338807446305045,0.00028338807446305045,0.00028338807446305045,0.00028338807446305045,0.00028338807446305045,0.00028338807446305045,0.00028338807446305045,0.00028338807446305045,0.00028338807446305045,0.00028338807446305045,0.00028338807446305045,0.00028338807446305045,0.00028338807446305045,0.00029286350217890445,0.00029674294938752255,0.00046063207933926936,0.00046063207933926936,0.00046063207933926936,0.00046063207933926936,0.00046063207933926936,0.00046063207933926936,0.00046063207933926936,0.000534896657965681,0.0005959830740806961,0.0006634335339114052,0.0006634335339114052,0.0006634335339114052,0.0006634335339114052,0.0006634335339114052,0.0006634335339114052,0.0006634335339114052],\"xaxis\":\"x\",\"y\":[72.90117975826325,72.90117975826325,72.90117975826325,72.90117975826325,72.90117975826325,72.90117975826325,72.90117975826325,75.72143552808528,75.72143552808528,75.72143552808528,75.72143552808528,75.72143552808528,76.21102760701524,78.30857867190001,78.67617789222192,78.67617789222192,78.67617789222192,78.67617789222192,78.67617789222192,78.67617789222192,78.67617789222192,78.67617789222192,78.67617789222192,78.67617789222192,78.67617789222192,78.67617789222192,78.67617789222192,78.67617789222192,78.67617789222192,78.67617789222192,78.67617789222192,78.67617789222192,78.8456098764255,78.9134026560883,81.17871958879762,81.17871958879762,81.17871958879762,81.17871958879762,81.17871958879762,81.17871958879762,81.17871958879762,81.9487449392072,82.50582897216368,83.05816173533596,83.05816173533596,83.05816173533596,83.05816173533596,83.05816173533596,83.05816173533596,83.05816173533596],\"yaxis\":\"y\",\"type\":\"scatter\"},{\"customdata\":[[224],[224],[224],[224],[224],[224],[224],[224],[320],[320],[320],[320],[320]],\"hovertemplate\":\"<b>%{hovertext}</b><br><br>family=resnetd<br>secs=%{x}<br>top1=%{y}<br>size=%{marker.size}<br>infer_img_size=%{customdata[0]}<extra></extra>\",\"hovertext\":[\"resnet18d\",\"resnet34d\",\"resnet26d\",\"resnet50d\",\"resnet50d\",\"resnet50d\",\"resnet50d\",\"resnet50d\",\"resnet101d\",\"resnet101d\",\"resnet152d\",\"resnet152d\",\"resnet200d\"],\"legendgroup\":\"resnetd\",\"marker\":{\"color\":\"#ab63fa\",\"size\":[50176,50176,50176,50176,50176,50176,50176,50176,102400,102400,102400,102400,102400],\"sizemode\":\"area\",\"sizeref\":655.36,\"symbol\":\"circle\"},\"mode\":\"markers\",\"name\":\"resnetd\",\"orientation\":\"v\",\"showlegend\":true,\"x\":[0.00011218547400045547,0.00017947263760167124,0.0002044542400742578,0.00031235065734195835,0.00031235065734195835,0.00031235065734195835,0.00031235065734195835,0.00031235065734195835,0.0010008807750820723,0.0010008807750820723,0.0014054023666975855,0.0014054023666975855,0.0019066503965832825],\"xaxis\":\"x\",\"y\":[73.794,78.436,77.408,81.45,81.356,81.164,79.078,78.722,83.016,80.426,83.684,80.476,83.964],\"yaxis\":\"y\",\"type\":\"scatter\"},{\"hovertemplate\":\"<b>OLS trendline</b><br>top1 = 5.6549 * log10(secs) + 99.0794<br>R<sup>2</sup>=0.645118<br><br>family=resnetd<br>secs=%{x}<br>top1=%{y} <b>(trend)</b><extra></extra>\",\"legendgroup\":\"resnetd\",\"marker\":{\"color\":\"#ab63fa\",\"symbol\":\"circle\"},\"mode\":\"lines\",\"name\":\"resnetd\",\"showlegend\":false,\"x\":[0.00011218547400045547,0.00017947263760167124,0.0002044542400742578,0.00031235065734195835,0.00031235065734195835,0.00031235065734195835,0.00031235065734195835,0.00031235065734195835,0.0010008807750820723,0.0010008807750820723,0.0014054023666975855,0.0014054023666975855,0.0019066503965832825],\"xaxis\":\"x\",\"y\":[76.74221699212639,77.89616507547633,78.21622041619179,79.25698388797704,79.25698388797704,79.25698388797704,79.25698388797704,79.25698388797704,82.11689267526668,82.11689267526668,82.95052863536013,82.95052863536013,83.6996354550672],\"yaxis\":\"y\",\"type\":\"scatter\"},{\"customdata\":[[224],[224],[224],[224],[224],[224],[224]],\"hovertemplate\":\"<b>%{hovertext}</b><br><br>family=vgg<br>secs=%{x}<br>top1=%{y}<br>size=%{marker.size}<br>infer_img_size=%{customdata[0]}<extra></extra>\",\"hovertext\":[\"vgg11_bn\",\"vgg13\",\"vgg13_bn\",\"vgg16\",\"vgg19\",\"vgg16_bn\",\"vgg19_bn\"],\"legendgroup\":\"vgg\",\"marker\":{\"color\":\"#FFA15A\",\"size\":[50176,50176,50176,50176,50176,50176,50176],\"sizemode\":\"area\",\"sizeref\":655.36,\"symbol\":\"circle\"},\"mode\":\"markers\",\"name\":\"vgg\",\"orientation\":\"v\",\"showlegend\":true,\"x\":[0.0003856239395341663,0.000495051955702751,0.000609002271578473,0.00061273383454961,0.0007314379338341244,0.0007335465508641178,0.0008591212907438273],\"xaxis\":\"x\",\"y\":[70.382,69.932,71.588,71.592,72.378,73.37,74.216],\"yaxis\":\"y\",\"type\":\"scatter\"},{\"hovertemplate\":\"<b>OLS trendline</b><br>top1 = 11.8636 * log10(secs) + 110.028<br>R<sup>2</sup>=0.823327<br><br>family=vgg<br>secs=%{x}<br>top1=%{y} <b>(trend)</b><extra></extra>\",\"legendgroup\":\"vgg\",\"marker\":{\"color\":\"#FFA15A\",\"symbol\":\"circle\"},\"mode\":\"lines\",\"name\":\"vgg\",\"showlegend\":false,\"x\":[0.0003856239395341663,0.000495051955702751,0.000609002271578473,0.00061273383454961,0.0007314379338341244,0.0007335465508641178,0.0008591212907438273],\"xaxis\":\"x\",\"y\":[69.52744196709092,70.81449063233087,71.88184049620665,71.91331414679179,72.82569499432967,72.84052691476138,73.65469084848861],\"yaxis\":\"y\",\"type\":\"scatter\"},{\"customdata\":[[288],[384],[416]],\"hovertemplate\":\"<b>%{hovertext}</b><br><br>family=efficientnetv2<br>secs=%{x}<br>top1=%{y}<br>size=%{marker.size}<br>infer_img_size=%{customdata[0]}<extra></extra>\",\"hovertext\":[\"efficientnetv2_rw_t\",\"efficientnetv2_rw_s\",\"efficientnetv2_rw_m\"],\"legendgroup\":\"efficientnetv2\",\"marker\":{\"color\":\"#19d3f3\",\"size\":[82944,147456,173056],\"sizemode\":\"area\",\"sizeref\":655.36,\"symbol\":\"circle\"},\"mode\":\"markers\",\"name\":\"efficientnetv2\",\"orientation\":\"v\",\"showlegend\":true,\"x\":[0.00039287790926091805,0.0009177342975661686,0.0025433643623785545],\"xaxis\":\"x\",\"y\":[82.35,83.808,84.812],\"yaxis\":\"y\",\"type\":\"scatter\"},{\"hovertemplate\":\"<b>OLS trendline</b><br>top1 = 3.00972 * log10(secs) + 92.7236<br>R<sup>2</sup>=0.974977<br><br>family=efficientnetv2<br>secs=%{x}<br>top1=%{y} <b>(trend)</b><extra></extra>\",\"legendgroup\":\"efficientnetv2\",\"marker\":{\"color\":\"#19d3f3\",\"symbol\":\"circle\"},\"mode\":\"lines\",\"name\":\"efficientnetv2\",\"showlegend\":false,\"x\":[0.00039287790926091805,0.0009177342975661686,0.0025433643623785545],\"xaxis\":\"x\",\"y\":[82.47323531828717,83.58219394486419,84.91457073684838],\"yaxis\":\"y\",\"type\":\"scatter\"},{\"customdata\":[[224],[224],[224],[224],[224],[224],[224],[224],[224],[224],[224],[224],[224],[224],[224],[224],[224],[224],[224],[224],[224]],\"hovertemplate\":\"<b>%{hovertext}</b><br><br>family=convnext<br>secs=%{x}<br>top1=%{y}<br>size=%{marker.size}<br>infer_img_size=%{customdata[0]}<extra></extra>\",\"hovertext\":[\"convnext_tiny\",\"convnext_tiny\",\"convnext_tiny\",\"convnext_tiny\",\"convnext_tiny\",\"convnext_tiny_hnf\",\"convnext_small\",\"convnext_small\",\"convnext_small\",\"convnext_small\",\"convnext_small\",\"convnext_base\",\"convnext_base\",\"convnext_base\",\"convnext_base\",\"convnext_base\",\"convnext_base\",\"convnext_base\",\"convnext_large\",\"convnext_large\",\"convnext_large\"],\"legendgroup\":\"convnext\",\"marker\":{\"color\":\"#FF6692\",\"size\":[50176,50176,50176,50176,50176,50176,50176,50176,50176,50176,50176,50176,50176,50176,50176,50176,50176,50176,50176,50176,50176],\"sizemode\":\"area\",\"sizeref\":655.36,\"symbol\":\"circle\"},\"mode\":\"markers\",\"name\":\"convnext\",\"orientation\":\"v\",\"showlegend\":true,\"x\":[0.00043947351073414054,0.00043947351073414054,0.00043947351073414054,0.00043947351073414054,0.00043947351073414054,0.00048231356169272765,0.0007089131652263915,0.0007089131652263915,0.0007089131652263915,0.0007089131652263915,0.0007089131652263915,0.001017356094980365,0.001017356094980365,0.001017356094980365,0.001017356094980365,0.001017356094980365,0.001017356094980365,0.001017356094980365,0.001837424665588711,0.001837424665588711,0.001837424665588711],\"xaxis\":\"x\",\"y\":[85.122,84.45,84.088,82.698,78.898,82.584,86.182,85.778,85.33,85.262,83.7,87.134,86.796,86.502,86.37,86.274,86.158,84.428,87.472,87.026,84.846],\"yaxis\":\"y\",\"type\":\"scatter\"},{\"hovertemplate\":\"<b>OLS trendline</b><br>top1 = 6.3023 * log10(secs) + 104.608<br>R<sup>2</sup>=0.438464<br><br>family=convnext<br>secs=%{x}<br>top1=%{y} <b>(trend)</b><extra></extra>\",\"legendgroup\":\"convnext\",\"marker\":{\"color\":\"#FF6692\",\"symbol\":\"circle\"},\"mode\":\"lines\",\"name\":\"convnext\",\"showlegend\":false,\"x\":[0.00043947351073414054,0.00043947351073414054,0.00043947351073414054,0.00043947351073414054,0.00043947351073414054,0.00048231356169272765,0.0007089131652263915,0.0007089131652263915,0.0007089131652263915,0.0007089131652263915,0.0007089131652263915,0.001017356094980365,0.001017356094980365,0.001017356094980365,0.001017356094980365,0.001017356094980365,0.001017356094980365,0.001017356094980365,0.001837424665588711,0.001837424665588711,0.001837424665588711],\"xaxis\":\"x\",\"y\":[83.45100915074946,83.45100915074946,83.45100915074946,83.45100915074946,83.45100915074946,83.70560180292426,84.75974734246832,84.75974734246832,84.75974734246832,84.75974734246832,84.75974734246832,85.74845218086034,85.74845218086034,85.74845218086034,85.74845218086034,85.74845218086034,85.74845218086034,85.74845218086034,87.36648348832037,87.36648348832037,87.36648348832037],\"yaxis\":\"y\",\"type\":\"scatter\"},{\"customdata\":[[224],[224],[224],[224],[224],[224],[224],[224],[224],[224],[384],[384],[384]],\"hovertemplate\":\"<b>%{hovertext}</b><br><br>family=swin<br>secs=%{x}<br>top1=%{y}<br>size=%{marker.size}<br>infer_img_size=%{customdata[0]}<extra></extra>\",\"hovertext\":[\"swin_tiny_patch4_window7_224\",\"swin_tiny_patch4_window7_224\",\"swin_s3_tiny_224\",\"swin_small_patch4_window7_224\",\"swin_small_patch4_window7_224\",\"swin_s3_small_224\",\"swin_base_patch4_window7_224\",\"swin_base_patch4_window7_224\",\"swin_s3_base_224\",\"swin_large_patch4_window7_224\",\"swin_base_patch4_window12_384\",\"swin_base_patch4_window12_384\",\"swin_large_patch4_window12_384\"],\"legendgroup\":\"swin\",\"marker\":{\"color\":\"#B6E880\",\"size\":[50176,50176,50176,50176,50176,50176,50176,50176,50176,50176,147456,147456,147456],\"sizemode\":\"area\",\"sizeref\":655.36,\"symbol\":\"circle\"},\"mode\":\"markers\",\"name\":\"swin\",\"orientation\":\"v\",\"showlegend\":true,\"x\":[0.0005460184335823177,0.0005460184335823177,0.000599319173418996,0.0008899409969119047,0.0008899409969119047,0.0012179822905374956,0.001254390366281987,0.001254390366281987,0.001502765087761481,0.002185123678000175,0.004700352526439483,0.004700352526439483,0.007950389569088886],\"xaxis\":\"x\",\"y\":[81.376,80.968,82.144,83.298,83.208,83.756,85.272,83.606,83.92,86.312,86.438,84.476,87.132],\"yaxis\":\"y\",\"type\":\"scatter\"},{\"hovertemplate\":\"<b>OLS trendline</b><br>top1 = 4.44822 * log10(secs) + 96.5866<br>R<sup>2</sup>=0.772263<br><br>family=swin<br>secs=%{x}<br>top1=%{y} <b>(trend)</b><extra></extra>\",\"legendgroup\":\"swin\",\"marker\":{\"color\":\"#B6E880\",\"symbol\":\"circle\"},\"mode\":\"lines\",\"name\":\"swin\",\"showlegend\":false,\"x\":[0.0005460184335823177,0.0005460184335823177,0.000599319173418996,0.0008899409969119047,0.0008899409969119047,0.0012179822905374956,0.001254390366281987,0.001254390366281987,0.001502765087761481,0.002185123678000175,0.004700352526439483,0.004700352526439483,0.007950389569088886],\"xaxis\":\"x\",\"y\":[82.07297953517897,82.07297953517897,82.25291375045578,83.0166860577838,83.0166860577838,83.62288793625564,83.67978834880434,83.67978834880434,84.0287882417208,84.75200119523174,86.2317200278345,86.2317200278345,87.24706093713318],\"yaxis\":\"y\",\"type\":\"scatter\"},{\"customdata\":[[224],[224],[384],[384],[512]],\"hovertemplate\":\"<b>%{hovertext}</b><br><br>family=beit<br>secs=%{x}<br>top1=%{y}<br>size=%{marker.size}<br>infer_img_size=%{customdata[0]}<extra></extra>\",\"hovertext\":[\"beit_base_patch16_224\",\"beit_large_patch16_224\",\"beit_base_patch16_384\",\"beit_large_patch16_384\",\"beit_large_patch16_512\"],\"legendgroup\":\"beit\",\"marker\":{\"color\":\"#FF97FF\",\"size\":[50176,50176,147456,147456,262144],\"sizemode\":\"area\",\"sizeref\":655.36,\"symbol\":\"circle\"},\"mode\":\"markers\",\"name\":\"beit\",\"orientation\":\"v\",\"showlegend\":true,\"x\":[0.0010062791820962809,0.0030446034404018876,0.00418007774944614,0.0121580547112462,0.030184123151222455],\"xaxis\":\"x\",\"y\":[85.212,87.478,86.8,88.402,88.596],\"yaxis\":\"y\",\"type\":\"scatter\"},{\"hovertemplate\":\"<b>OLS trendline</b><br>top1 = 2.24263 * log10(secs) + 92.3785<br>R<sup>2</sup>=0.860671<br><br>family=beit<br>secs=%{x}<br>top1=%{y} <b>(trend)</b><extra></extra>\",\"legendgroup\":\"beit\",\"marker\":{\"color\":\"#FF97FF\",\"symbol\":\"circle\"},\"mode\":\"lines\",\"name\":\"beit\",\"showlegend\":false,\"x\":[0.0010062791820962809,0.0030446034404018876,0.00418007774944614,0.0121580547112462,0.030184123151222455],\"xaxis\":\"x\",\"y\":[85.65667590377421,86.73495920794268,87.04366516942372,88.08352661170264,88.9691731071566],\"yaxis\":\"y\",\"type\":\"scatter\"}],                        {\"template\":{\"data\":{\"histogram2dcontour\":[{\"type\":\"histogram2dcontour\",\"colorbar\":{\"outlinewidth\":0,\"ticks\":\"\"},\"colorscale\":[[0.0,\"#0d0887\"],[0.1111111111111111,\"#46039f\"],[0.2222222222222222,\"#7201a8\"],[0.3333333333333333,\"#9c179e\"],[0.4444444444444444,\"#bd3786\"],[0.5555555555555556,\"#d8576b\"],[0.6666666666666666,\"#ed7953\"],[0.7777777777777778,\"#fb9f3a\"],[0.8888888888888888,\"#fdca26\"],[1.0,\"#f0f921\"]]}],\"choropleth\":[{\"type\":\"choropleth\",\"colorbar\":{\"outlinewidth\":0,\"ticks\":\"\"}}],\"histogram2d\":[{\"type\":\"histogram2d\",\"colorbar\":{\"outlinewidth\":0,\"ticks\":\"\"},\"colorscale\":[[0.0,\"#0d0887\"],[0.1111111111111111,\"#46039f\"],[0.2222222222222222,\"#7201a8\"],[0.3333333333333333,\"#9c179e\"],[0.4444444444444444,\"#bd3786\"],[0.5555555555555556,\"#d8576b\"],[0.6666666666666666,\"#ed7953\"],[0.7777777777777778,\"#fb9f3a\"],[0.8888888888888888,\"#fdca26\"],[1.0,\"#f0f921\"]]}],\"heatmap\":[{\"type\":\"heatmap\",\"colorbar\":{\"outlinewidth\":0,\"ticks\":\"\"},\"colorscale\":[[0.0,\"#0d0887\"],[0.1111111111111111,\"#46039f\"],[0.2222222222222222,\"#7201a8\"],[0.3333333333333333,\"#9c179e\"],[0.4444444444444444,\"#bd3786\"],[0.5555555555555556,\"#d8576b\"],[0.6666666666666666,\"#ed7953\"],[0.7777777777777778,\"#fb9f3a\"],[0.8888888888888888,\"#fdca26\"],[1.0,\"#f0f921\"]]}],\"heatmapgl\":[{\"type\":\"heatmapgl\",\"colorbar\":{\"outlinewidth\":0,\"ticks\":\"\"},\"colorscale\":[[0.0,\"#0d0887\"],[0.1111111111111111,\"#46039f\"],[0.2222222222222222,\"#7201a8\"],[0.3333333333333333,\"#9c179e\"],[0.4444444444444444,\"#bd3786\"],[0.5555555555555556,\"#d8576b\"],[0.6666666666666666,\"#ed7953\"],[0.7777777777777778,\"#fb9f3a\"],[0.8888888888888888,\"#fdca26\"],[1.0,\"#f0f921\"]]}],\"contourcarpet\":[{\"type\":\"contourcarpet\",\"colorbar\":{\"outlinewidth\":0,\"ticks\":\"\"}}],\"contour\":[{\"type\":\"contour\",\"colorbar\":{\"outlinewidth\":0,\"ticks\":\"\"},\"colorscale\":[[0.0,\"#0d0887\"],[0.1111111111111111,\"#46039f\"],[0.2222222222222222,\"#7201a8\"],[0.3333333333333333,\"#9c179e\"],[0.4444444444444444,\"#bd3786\"],[0.5555555555555556,\"#d8576b\"],[0.6666666666666666,\"#ed7953\"],[0.7777777777777778,\"#fb9f3a\"],[0.8888888888888888,\"#fdca26\"],[1.0,\"#f0f921\"]]}],\"surface\":[{\"type\":\"surface\",\"colorbar\":{\"outlinewidth\":0,\"ticks\":\"\"},\"colorscale\":[[0.0,\"#0d0887\"],[0.1111111111111111,\"#46039f\"],[0.2222222222222222,\"#7201a8\"],[0.3333333333333333,\"#9c179e\"],[0.4444444444444444,\"#bd3786\"],[0.5555555555555556,\"#d8576b\"],[0.6666666666666666,\"#ed7953\"],[0.7777777777777778,\"#fb9f3a\"],[0.8888888888888888,\"#fdca26\"],[1.0,\"#f0f921\"]]}],\"mesh3d\":[{\"type\":\"mesh3d\",\"colorbar\":{\"outlinewidth\":0,\"ticks\":\"\"}}],\"scatter\":[{\"fillpattern\":{\"fillmode\":\"overlay\",\"size\":10,\"solidity\":0.2},\"type\":\"scatter\"}],\"parcoords\":[{\"type\":\"parcoords\",\"line\":{\"colorbar\":{\"outlinewidth\":0,\"ticks\":\"\"}}}],\"scatterpolargl\":[{\"type\":\"scatterpolargl\",\"marker\":{\"colorbar\":{\"outlinewidth\":0,\"ticks\":\"\"}}}],\"bar\":[{\"error_x\":{\"color\":\"#2a3f5f\"},\"error_y\":{\"color\":\"#2a3f5f\"},\"marker\":{\"line\":{\"color\":\"#E5ECF6\",\"width\":0.5},\"pattern\":{\"fillmode\":\"overlay\",\"size\":10,\"solidity\":0.2}},\"type\":\"bar\"}],\"scattergeo\":[{\"type\":\"scattergeo\",\"marker\":{\"colorbar\":{\"outlinewidth\":0,\"ticks\":\"\"}}}],\"scatterpolar\":[{\"type\":\"scatterpolar\",\"marker\":{\"colorbar\":{\"outlinewidth\":0,\"ticks\":\"\"}}}],\"histogram\":[{\"marker\":{\"pattern\":{\"fillmode\":\"overlay\",\"size\":10,\"solidity\":0.2}},\"type\":\"histogram\"}],\"scattergl\":[{\"type\":\"scattergl\",\"marker\":{\"colorbar\":{\"outlinewidth\":0,\"ticks\":\"\"}}}],\"scatter3d\":[{\"type\":\"scatter3d\",\"line\":{\"colorbar\":{\"outlinewidth\":0,\"ticks\":\"\"}},\"marker\":{\"colorbar\":{\"outlinewidth\":0,\"ticks\":\"\"}}}],\"scattermapbox\":[{\"type\":\"scattermapbox\",\"marker\":{\"colorbar\":{\"outlinewidth\":0,\"ticks\":\"\"}}}],\"scatterternary\":[{\"type\":\"scatterternary\",\"marker\":{\"colorbar\":{\"outlinewidth\":0,\"ticks\":\"\"}}}],\"scattercarpet\":[{\"type\":\"scattercarpet\",\"marker\":{\"colorbar\":{\"outlinewidth\":0,\"ticks\":\"\"}}}],\"carpet\":[{\"aaxis\":{\"endlinecolor\":\"#2a3f5f\",\"gridcolor\":\"white\",\"linecolor\":\"white\",\"minorgridcolor\":\"white\",\"startlinecolor\":\"#2a3f5f\"},\"baxis\":{\"endlinecolor\":\"#2a3f5f\",\"gridcolor\":\"white\",\"linecolor\":\"white\",\"minorgridcolor\":\"white\",\"startlinecolor\":\"#2a3f5f\"},\"type\":\"carpet\"}],\"table\":[{\"cells\":{\"fill\":{\"color\":\"#EBF0F8\"},\"line\":{\"color\":\"white\"}},\"header\":{\"fill\":{\"color\":\"#C8D4E3\"},\"line\":{\"color\":\"white\"}},\"type\":\"table\"}],\"barpolar\":[{\"marker\":{\"line\":{\"color\":\"#E5ECF6\",\"width\":0.5},\"pattern\":{\"fillmode\":\"overlay\",\"size\":10,\"solidity\":0.2}},\"type\":\"barpolar\"}],\"pie\":[{\"automargin\":true,\"type\":\"pie\"}]},\"layout\":{\"autotypenumbers\":\"strict\",\"colorway\":[\"#636efa\",\"#EF553B\",\"#00cc96\",\"#ab63fa\",\"#FFA15A\",\"#19d3f3\",\"#FF6692\",\"#B6E880\",\"#FF97FF\",\"#FECB52\"],\"font\":{\"color\":\"#2a3f5f\"},\"hovermode\":\"closest\",\"hoverlabel\":{\"align\":\"left\"},\"paper_bgcolor\":\"white\",\"plot_bgcolor\":\"#E5ECF6\",\"polar\":{\"bgcolor\":\"#E5ECF6\",\"angularaxis\":{\"gridcolor\":\"white\",\"linecolor\":\"white\",\"ticks\":\"\"},\"radialaxis\":{\"gridcolor\":\"white\",\"linecolor\":\"white\",\"ticks\":\"\"}},\"ternary\":{\"bgcolor\":\"#E5ECF6\",\"aaxis\":{\"gridcolor\":\"white\",\"linecolor\":\"white\",\"ticks\":\"\"},\"baxis\":{\"gridcolor\":\"white\",\"linecolor\":\"white\",\"ticks\":\"\"},\"caxis\":{\"gridcolor\":\"white\",\"linecolor\":\"white\",\"ticks\":\"\"}},\"coloraxis\":{\"colorbar\":{\"outlinewidth\":0,\"ticks\":\"\"}},\"colorscale\":{\"sequential\":[[0.0,\"#0d0887\"],[0.1111111111111111,\"#46039f\"],[0.2222222222222222,\"#7201a8\"],[0.3333333333333333,\"#9c179e\"],[0.4444444444444444,\"#bd3786\"],[0.5555555555555556,\"#d8576b\"],[0.6666666666666666,\"#ed7953\"],[0.7777777777777778,\"#fb9f3a\"],[0.8888888888888888,\"#fdca26\"],[1.0,\"#f0f921\"]],\"sequentialminus\":[[0.0,\"#0d0887\"],[0.1111111111111111,\"#46039f\"],[0.2222222222222222,\"#7201a8\"],[0.3333333333333333,\"#9c179e\"],[0.4444444444444444,\"#bd3786\"],[0.5555555555555556,\"#d8576b\"],[0.6666666666666666,\"#ed7953\"],[0.7777777777777778,\"#fb9f3a\"],[0.8888888888888888,\"#fdca26\"],[1.0,\"#f0f921\"]],\"diverging\":[[0,\"#8e0152\"],[0.1,\"#c51b7d\"],[0.2,\"#de77ae\"],[0.3,\"#f1b6da\"],[0.4,\"#fde0ef\"],[0.5,\"#f7f7f7\"],[0.6,\"#e6f5d0\"],[0.7,\"#b8e186\"],[0.8,\"#7fbc41\"],[0.9,\"#4d9221\"],[1,\"#276419\"]]},\"xaxis\":{\"gridcolor\":\"white\",\"linecolor\":\"white\",\"ticks\":\"\",\"title\":{\"standoff\":15},\"zerolinecolor\":\"white\",\"automargin\":true,\"zerolinewidth\":2},\"yaxis\":{\"gridcolor\":\"white\",\"linecolor\":\"white\",\"ticks\":\"\",\"title\":{\"standoff\":15},\"zerolinecolor\":\"white\",\"automargin\":true,\"zerolinewidth\":2},\"scene\":{\"xaxis\":{\"backgroundcolor\":\"#E5ECF6\",\"gridcolor\":\"white\",\"linecolor\":\"white\",\"showbackground\":true,\"ticks\":\"\",\"zerolinecolor\":\"white\",\"gridwidth\":2},\"yaxis\":{\"backgroundcolor\":\"#E5ECF6\",\"gridcolor\":\"white\",\"linecolor\":\"white\",\"showbackground\":true,\"ticks\":\"\",\"zerolinecolor\":\"white\",\"gridwidth\":2},\"zaxis\":{\"backgroundcolor\":\"#E5ECF6\",\"gridcolor\":\"white\",\"linecolor\":\"white\",\"showbackground\":true,\"ticks\":\"\",\"zerolinecolor\":\"white\",\"gridwidth\":2}},\"shapedefaults\":{\"line\":{\"color\":\"#2a3f5f\"}},\"annotationdefaults\":{\"arrowcolor\":\"#2a3f5f\",\"arrowhead\":0,\"arrowwidth\":1},\"geo\":{\"bgcolor\":\"white\",\"landcolor\":\"#E5ECF6\",\"subunitcolor\":\"white\",\"showland\":true,\"showlakes\":true,\"lakecolor\":\"white\"},\"title\":{\"x\":0.05},\"mapbox\":{\"style\":\"light\"}}},\"xaxis\":{\"anchor\":\"y\",\"domain\":[0.0,1.0],\"title\":{\"text\":\"secs (how many seconds it takes to process one image)\"},\"type\":\"log\"},\"yaxis\":{\"anchor\":\"x\",\"domain\":[0.0,1.0],\"title\":{\"text\":\"top1 (accuracy on Imagenet)\"}},\"legend\":{\"title\":{\"text\":\"family\"},\"tracegroupgap\":0,\"itemsizing\":\"constant\"},\"title\":{\"text\":\"Inference performance (processing time vs. accuracy) of different models\"},\"height\":800,\"width\":1000},                        {\"responsive\": true}                    ).then(function(){\n",
       "                            \n",
       "var gd = document.getElementById('bccb2ca7-6290-4db6-97ad-5bc09768906c');\n",
       "var x = new MutationObserver(function (mutations, observer) {{\n",
       "        var display = window.getComputedStyle(gd).display;\n",
       "        if (!display || display === 'none') {{\n",
       "            console.log([gd, 'removed!']);\n",
       "            Plotly.purge(gd);\n",
       "            observer.disconnect();\n",
       "        }}\n",
       "}});\n",
       "\n",
       "// Listen for the removal of the full notebook cells\n",
       "var notebookContainer = gd.closest('#notebook-container');\n",
       "if (notebookContainer) {{\n",
       "    x.observe(notebookContainer, {childList: true});\n",
       "}}\n",
       "\n",
       "// Listen for the clearing of the current output cell\n",
       "var outputEl = gd.closest('.output');\n",
       "if (outputEl) {{\n",
       "    x.observe(outputEl, {childList: true});\n",
       "}}\n",
       "\n",
       "                        })                };                });            </script>        </div>"
      ]
     },
     "metadata": {},
     "output_type": "display_data"
    }
   ],
   "source": [
    "show_subs(df, 'Inference performance (processing time vs. accuracy) of different models', 'infer_img_size')"
   ]
  },
  {
   "cell_type": "markdown",
   "metadata": {},
   "source": [
    "From this, we can see that <span style=\"color:blue\">the *levit* family models are extremely fast for image recognition, and clearly the most accurate amongst the faster models</span>. That's not surprising, since <span style=\"color:blue\">these models are a hybrid of the best ideas from CNNs and transformers, so get the benefit of each</span>. In fact, we see a similar thing even in the middle category of speeds -- the best is the ConvNeXt, which is a pure CNN, but which takes advantage of ideas from the transformers literature.\n",
    "\n",
    "For the slowest models, *beit* is the most accurate -- although we need to be a bit careful of interpreting this, since it's trained on a larger dataset (ImageNet-21k, which is also used for *vit* models).\n",
    "\n",
    "I'll add one other plot here, which is of speed vs parameter count. Often, parameter count is used in papers as a proxy for speed. However, as we see, there is a wide variation in speeds at each level of parameter count, so it's really not a useful proxy.\n",
    "\n",
    "<span style=\"color:blue\">(Parameter count may be be useful for identifying how much memory a model needs, but even for that it's not always a great proxy.)</span>"
   ]
  },
  {
   "cell_type": "code",
   "execution_count": 52,
   "metadata": {
    "ExecuteTime": {
     "end_time": "2023-12-08T04:29:45.371947Z",
     "start_time": "2023-12-08T04:29:45.304224Z"
    },
    "execution": {
     "iopub.execute_input": "2023-06-10T09:02:05.613474Z",
     "iopub.status.busy": "2023-06-10T09:02:05.612461Z",
     "iopub.status.idle": "2023-06-10T09:02:05.743843Z",
     "shell.execute_reply": "2023-06-10T09:02:05.742458Z",
     "shell.execute_reply.started": "2023-06-10T09:02:05.613424Z"
    }
   },
   "outputs": [
    {
     "data": {
      "application/vnd.plotly.v1+json": {
       "config": {
        "plotlyServerURL": "https://plot.ly"
       },
       "data": [
        {
         "customdata": [
          [
           21485.8,
           "levit"
          ],
          [
           17821.98,
           "regnetx"
          ],
          [
           16673.08,
           "regnety"
          ],
          [
           14657.83,
           "levit"
          ],
          [
           14440.03,
           "regnetx"
          ],
          [
           12892.86,
           "levit"
          ],
          [
           12098.59,
           "vit"
          ],
          [
           10826.05,
           "resnet"
          ],
          [
           10826.05,
           "resnet"
          ],
          [
           10826.05,
           "resnet"
          ],
          [
           10826.05,
           "resnet"
          ],
          [
           10826.05,
           "resnet"
          ],
          [
           10826.05,
           "resnet"
          ],
          [
           10826.05,
           "resnet"
          ],
          [
           9982.58,
           "regnety"
          ],
          [
           9895.77,
           "vit"
          ],
          [
           9552.58,
           "regnety"
          ],
          [
           9552.58,
           "regnety"
          ],
          [
           9434.24,
           "levit"
          ],
          [
           8999.14,
           "efficientnet"
          ],
          [
           8913.81,
           "resnetd"
          ],
          [
           8458.52,
           "regnetx"
          ],
          [
           8458.52,
           "regnetx"
          ],
          [
           7937.85,
           "regnetx"
          ],
          [
           7871.11,
           "regnety"
          ],
          [
           7681.79,
           "efficientnet"
          ],
          [
           6262,
           "resnet"
          ],
          [
           6262,
           "resnet"
          ],
          [
           6262,
           "resnet"
          ],
          [
           6262,
           "resnet"
          ],
          [
           6262,
           "resnet"
          ],
          [
           6224.71,
           "vit"
          ],
          [
           6023.92,
           "efficientnet"
          ],
          [
           5711.75,
           "efficientnet"
          ],
          [
           5710.76,
           "efficientnet"
          ],
          [
           5694.28,
           "resnet"
          ],
          [
           5643.3,
           "levit"
          ],
          [
           5571.88,
           "resnetd"
          ],
          [
           5125.56,
           "mobilevit"
          ],
          [
           5049.08,
           "repvgg"
          ],
          [
           4891.07,
           "resnetd"
          ],
          [
           4316,
           "vit"
          ],
          [
           4316,
           "vit"
          ],
          [
           4316,
           "vit"
          ],
          [
           4101.97,
           "efficientnet"
          ],
          [
           3868.66,
           "repvgg"
          ],
          [
           3854.54,
           "crossvit"
          ],
          [
           3821.39,
           "efficientnet"
          ],
          [
           3802.4,
           "vit"
          ],
          [
           3789.73,
           "resnet"
          ],
          [
           3776.49,
           "regnetx"
          ],
          [
           3776.49,
           "regnetx"
          ],
          [
           3703.17,
           "resnetv2"
          ],
          [
           3640.93,
           "crossvit"
          ],
          [
           3562.28,
           "crossvit"
          ],
          [
           3528.73,
           "resnet"
          ],
          [
           3528.73,
           "resnet"
          ],
          [
           3528.73,
           "resnet"
          ],
          [
           3528.73,
           "resnet"
          ],
          [
           3528.73,
           "resnet"
          ],
          [
           3528.73,
           "resnet"
          ],
          [
           3528.73,
           "resnet"
          ],
          [
           3528.73,
           "resnet"
          ],
          [
           3528.73,
           "resnet"
          ],
          [
           3528.73,
           "resnet"
          ],
          [
           3528.73,
           "resnet"
          ],
          [
           3528.73,
           "resnet"
          ],
          [
           3528.73,
           "resnet"
          ],
          [
           3528.73,
           "resnet"
          ],
          [
           3528.73,
           "resnet"
          ],
          [
           3528.73,
           "resnet"
          ],
          [
           3528.73,
           "resnet"
          ],
          [
           3528.73,
           "resnet"
          ],
          [
           3434.61,
           "efficientnet"
          ],
          [
           3414.56,
           "resnet"
          ],
          [
           3408.85,
           "regnety"
          ],
          [
           3408.85,
           "regnety"
          ],
          [
           3369.92,
           "resnet"
          ],
          [
           3201.53,
           "resnetd"
          ],
          [
           3201.53,
           "resnetd"
          ],
          [
           3201.53,
           "resnetd"
          ],
          [
           3201.53,
           "resnetd"
          ],
          [
           3201.53,
           "resnetd"
          ],
          [
           3182.1,
           "convit"
          ],
          [
           3113.3,
           "efficientnet"
          ],
          [
           3098.33,
           "efficientnet"
          ],
          [
           3098.23,
           "mobilevit"
          ],
          [
           2869.21,
           "resnetaad"
          ],
          [
           2844.33,
           "resnetrs"
          ],
          [
           2838.21,
           "vit"
          ],
          [
           2838.21,
           "vit"
          ],
          [
           2715.55,
           "regnetz"
          ],
          [
           2700.75,
           "vit"
          ],
          [
           2619.08,
           "resnetblur"
          ],
          [
           2593.2,
           "vgg"
          ],
          [
           2545.32,
           "efficientnetv2"
          ],
          [
           2415.06,
           "mobilevit"
          ],
          [
           2275.45,
           "convnext"
          ],
          [
           2275.45,
           "convnext"
          ],
          [
           2275.45,
           "convnext"
          ],
          [
           2275.45,
           "convnext"
          ],
          [
           2275.45,
           "convnext"
          ],
          [
           2235.55,
           "resnetv2"
          ],
          [
           2170.93,
           "resnet"
          ],
          [
           2170.93,
           "resnet"
          ],
          [
           2170.93,
           "resnet"
          ],
          [
           2170.93,
           "resnet"
          ],
          [
           2170.93,
           "resnet"
          ],
          [
           2170.93,
           "resnet"
          ],
          [
           2170.93,
           "resnet"
          ],
          [
           2073.34,
           "convnext"
          ],
          [
           2019.99,
           "vgg"
          ],
          [
           1936.11,
           "repvgg"
          ],
          [
           1893.61,
           "resnetaad"
          ],
          [
           1869.52,
           "resnet"
          ],
          [
           1853.06,
           "efficientnet"
          ],
          [
           1844.12,
           "crossvit"
          ],
          [
           1831.44,
           "swin"
          ],
          [
           1831.44,
           "swin"
          ],
          [
           1778.32,
           "vit"
          ],
          [
           1772.58,
           "regnetz"
          ],
          [
           1700.36,
           "crossvit"
          ],
          [
           1677.9,
           "resnet"
          ],
          [
           1668.56,
           "swin"
          ],
          [
           1651.71,
           "crossvit"
          ],
          [
           1642.03,
           "vgg"
          ],
          [
           1632.03,
           "vgg"
          ],
          [
           1614.79,
           "repvgg"
          ],
          [
           1605.58,
           "regnetx"
          ],
          [
           1605.58,
           "regnetx"
          ],
          [
           1586.28,
           "regnetx"
          ],
          [
           1507.31,
           "resnet"
          ],
          [
           1507.31,
           "resnet"
          ],
          [
           1507.31,
           "resnet"
          ],
          [
           1507.31,
           "resnet"
          ],
          [
           1507.31,
           "resnet"
          ],
          [
           1507.31,
           "resnet"
          ],
          [
           1507.31,
           "resnet"
          ],
          [
           1505.49,
           "efficientnet"
          ],
          [
           1505.01,
           "efficientnet"
          ],
          [
           1460.68,
           "vit"
          ],
          [
           1410.61,
           "convnext"
          ],
          [
           1410.61,
           "convnext"
          ],
          [
           1410.61,
           "convnext"
          ],
          [
           1410.61,
           "convnext"
          ],
          [
           1410.61,
           "convnext"
          ],
          [
           1377.87,
           "vit"
          ],
          [
           1377.87,
           "vit"
          ],
          [
           1368.52,
           "convit"
          ],
          [
           1367.75,
           "regnety"
          ],
          [
           1367.75,
           "regnety"
          ],
          [
           1367.75,
           "regnety"
          ],
          [
           1367.17,
           "vgg"
          ],
          [
           1363.24,
           "vgg"
          ],
          [
           1259.62,
           "regnetx"
          ],
          [
           1259.62,
           "regnetx"
          ],
          [
           1243.81,
           "repvgg"
          ],
          [
           1205.55,
           "crossvit"
          ],
          [
           1172.17,
           "crossvit"
          ],
          [
           1166.56,
           "regnetx"
          ],
          [
           1163.98,
           "vgg"
          ],
          [
           1143.01,
           "regnetz"
          ],
          [
           1123.67,
           "swin"
          ],
          [
           1123.67,
           "swin"
          ],
          [
           1108.89,
           "vit"
          ],
          [
           1095.82,
           "resnetrs"
          ],
          [
           1089.64,
           "efficientnetv2"
          ],
          [
           1073.46,
           "vit"
          ],
          [
           1073.46,
           "vit"
          ],
          [
           1073.46,
           "vit"
          ],
          [
           1073.46,
           "vit"
          ],
          [
           1073.46,
           "vit"
          ],
          [
           1039.59,
           "regnetz"
          ],
          [
           1009.91,
           "regnetz"
          ],
          [
           1001.81,
           "repvgg"
          ],
          [
           999.12,
           "resnetd"
          ],
          [
           999.12,
           "resnetd"
          ],
          [
           993.76,
           "beit"
          ],
          [
           982.94,
           "convnext"
          ],
          [
           982.94,
           "convnext"
          ],
          [
           982.94,
           "convnext"
          ],
          [
           982.94,
           "convnext"
          ],
          [
           982.94,
           "convnext"
          ],
          [
           982.94,
           "convnext"
          ],
          [
           982.94,
           "convnext"
          ],
          [
           974.19,
           "efficientnet"
          ],
          [
           849.33,
           "regnety"
          ],
          [
           849.33,
           "regnety"
          ],
          [
           849.16,
           "regnetv"
          ],
          [
           834.99,
           "resnetv2d"
          ],
          [
           821.03,
           "swin"
          ],
          [
           812.87,
           "repvgg"
          ],
          [
           797.2,
           "swin"
          ],
          [
           797.2,
           "swin"
          ],
          [
           777.95,
           "regnetx"
          ],
          [
           754.35,
           "regnety"
          ],
          [
           754.35,
           "regnety"
          ],
          [
           747.2,
           "crossvit"
          ],
          [
           721.71,
           "vit"
          ],
          [
           711.54,
           "resnetd"
          ],
          [
           711.54,
           "resnetd"
          ],
          [
           687.54,
           "convit"
          ],
          [
           683.58,
           "vit"
          ],
          [
           683.58,
           "vit"
          ],
          [
           665.44,
           "swin"
          ],
          [
           644.06,
           "repvgg"
          ],
          [
           628.07,
           "resnetrs"
          ],
          [
           623.38,
           "regnetx"
          ],
          [
           623.38,
           "regnetx"
          ],
          [
           607.41,
           "regnetz"
          ],
          [
           598.38,
           "regnetz"
          ],
          [
           582.99,
           "vit"
          ],
          [
           544.24,
           "convnext"
          ],
          [
           544.24,
           "convnext"
          ],
          [
           544.24,
           "convnext"
          ],
          [
           536.38,
           "regnety"
          ],
          [
           536.38,
           "regnety"
          ],
          [
           524.48,
           "resnetd"
          ],
          [
           479.45,
           "vit"
          ],
          [
           471.86,
           "regnety"
          ],
          [
           471.86,
           "regnety"
          ],
          [
           468.27,
           "regnetv"
          ],
          [
           467.72,
           "efficientnet"
          ],
          [
           457.64,
           "swin"
          ],
          [
           456.26,
           "resnetrs"
          ],
          [
           415.34,
           "regnety"
          ],
          [
           415.34,
           "regnety"
          ],
          [
           415.34,
           "regnety"
          ],
          [
           415.34,
           "regnety"
          ],
          [
           415.34,
           "regnety"
          ],
          [
           414.45,
           "regnety"
          ],
          [
           414.45,
           "regnety"
          ],
          [
           414.45,
           "regnety"
          ],
          [
           414.45,
           "regnety"
          ],
          [
           414.45,
           "regnety"
          ],
          [
           414.45,
           "regnety"
          ],
          [
           414.45,
           "regnety"
          ],
          [
           393.18,
           "efficientnetv2"
          ],
          [
           387.65,
           "regnetz"
          ],
          [
           354.58,
           "vit"
          ],
          [
           354.15,
           "crossvit"
          ],
          [
           328.45,
           "beit"
          ],
          [
           287.51,
           "resnetrs"
          ],
          [
           277.57,
           "vit"
          ],
          [
           277.57,
           "vit"
          ],
          [
           277.57,
           "vit"
          ],
          [
           262.23,
           "regnetx"
          ],
          [
           262.23,
           "regnetx"
          ],
          [
           259.11,
           "crossvit"
          ],
          [
           239.23,
           "beit"
          ],
          [
           236.31,
           "vit"
          ],
          [
           212.75,
           "swin"
          ],
          [
           212.75,
           "swin"
          ],
          [
           188.78,
           "resnetrs"
          ],
          [
           182.98,
           "vit"
          ],
          [
           182.98,
           "vit"
          ],
          [
           171.75,
           "vit"
          ],
          [
           134.22,
           "resnetrs"
          ],
          [
           125.78,
           "swin"
          ],
          [
           94.39,
           "vit"
          ],
          [
           82.25,
           "beit"
          ],
          [
           33.13,
           "beit"
          ]
         ],
         "hovertemplate": "<b>%{hovertext}</b><br><br>param_count_x=%{x}<br>secs=%{y}<br>infer_samples_per_sec=%{customdata[0]}<br>family=%{customdata[1]}<br>infer_img_size=%{marker.color}<extra></extra>",
         "hovertext": [
          "levit_128s",
          "regnetx_002",
          "regnety_002",
          "levit_128",
          "regnetx_004",
          "levit_192",
          "vit_small_patch32_224",
          "resnet18",
          "resnet18",
          "resnet18",
          "resnet18",
          "resnet18",
          "resnet18",
          "resnet18",
          "regnety_006",
          "vit_tiny_r_s16_p8_224",
          "regnety_004",
          "regnety_004",
          "levit_256",
          "efficientnet_lite0",
          "resnet18d",
          "regnetx_008",
          "regnetx_008",
          "regnetx_006",
          "regnety_008",
          "efficientnet_b0",
          "resnet34",
          "resnet34",
          "resnet34",
          "resnet34",
          "resnet34",
          "vit_tiny_patch16_224",
          "efficientnet_b1_pruned",
          "efficientnet_es",
          "efficientnet_es_pruned",
          "resnet26",
          "levit_384",
          "resnet34d",
          "mobilevit_xxs",
          "repvgg_b0",
          "resnet26d",
          "vit_base_patch32_224",
          "vit_base_patch32_224",
          "vit_base_patch32_224",
          "efficientnet_b1",
          "repvgg_a2",
          "crossvit_tiny_240",
          "efficientnet_b2_pruned",
          "vit_small_patch32_384",
          "resnet26t",
          "regnetx_016",
          "regnetx_016",
          "resnetv2_50",
          "crossvit_9_240",
          "crossvit_9_dagger_240",
          "resnet50",
          "resnet50",
          "resnet50",
          "resnet50",
          "resnet50",
          "resnet50",
          "resnet50",
          "resnet50",
          "resnet50",
          "resnet50",
          "resnet50",
          "resnet50",
          "resnet50",
          "resnet50",
          "resnet50",
          "resnet50",
          "resnet50",
          "resnet50",
          "efficientnet_em",
          "resnet32ts",
          "regnety_016",
          "regnety_016",
          "resnet33ts",
          "resnet50d",
          "resnet50d",
          "resnet50d",
          "resnet50d",
          "resnet50d",
          "convit_tiny",
          "efficientnet_b2",
          "efficientnet_b3_pruned",
          "mobilevit_xs",
          "resnetaa50d",
          "resnetrs50",
          "vit_small_patch16_224",
          "vit_small_patch16_224",
          "regnetz_b16",
          "vit_tiny_r_s16_p8_384",
          "resnetblur50",
          "vgg11_bn",
          "efficientnetv2_rw_t",
          "mobilevit_s",
          "convnext_tiny",
          "convnext_tiny",
          "convnext_tiny",
          "convnext_tiny",
          "convnext_tiny",
          "resnetv2_101",
          "resnet101",
          "resnet101",
          "resnet101",
          "resnet101",
          "resnet101",
          "resnet101",
          "resnet101",
          "convnext_tiny_hnf",
          "vgg13",
          "repvgg_b1",
          "resnetaa101d",
          "resnet51q",
          "efficientnet_b3",
          "crossvit_small_240",
          "swin_tiny_patch4_window7_224",
          "swin_tiny_patch4_window7_224",
          "vit_small_r26_s32_224",
          "regnetz_c16",
          "crossvit_15_240",
          "resnet61q",
          "swin_s3_tiny_224",
          "crossvit_15_dagger_240",
          "vgg13_bn",
          "vgg16",
          "repvgg_b1g4",
          "regnetx_032",
          "regnetx_032",
          "regnetx_040",
          "resnet152",
          "resnet152",
          "resnet152",
          "resnet152",
          "resnet152",
          "resnet152",
          "resnet152",
          "efficientnet_el",
          "efficientnet_el_pruned",
          "vit_tiny_patch16_384",
          "convnext_small",
          "convnext_small",
          "convnext_small",
          "convnext_small",
          "convnext_small",
          "vit_base_patch32_384",
          "vit_base_patch32_384",
          "convit_small",
          "regnety_032",
          "regnety_032",
          "regnety_032",
          "vgg19",
          "vgg16_bn",
          "regnetx_080",
          "regnetx_080",
          "repvgg_b2",
          "crossvit_18_240",
          "crossvit_18_dagger_240",
          "regnetx_064",
          "vgg19_bn",
          "regnetz_d8",
          "swin_small_patch4_window7_224",
          "swin_small_patch4_window7_224",
          "vit_base_patch16_224_miil",
          "resnetrs101",
          "efficientnetv2_rw_s",
          "vit_base_patch16_224",
          "vit_base_patch16_224",
          "vit_base_patch16_224",
          "vit_base_patch16_224",
          "vit_base_patch16_224",
          "regnetz_040",
          "regnetz_d32",
          "repvgg_b3",
          "resnet101d",
          "resnet101d",
          "beit_base_patch16_224",
          "convnext_base",
          "convnext_base",
          "convnext_base",
          "convnext_base",
          "convnext_base",
          "convnext_base",
          "convnext_base",
          "efficientnet_b4",
          "regnety_040",
          "regnety_040",
          "regnetv_040",
          "resnetv2_50d_evos",
          "swin_s3_small_224",
          "repvgg_b2g4",
          "swin_base_patch4_window7_224",
          "swin_base_patch4_window7_224",
          "regnetx_120",
          "regnety_120",
          "regnety_120",
          "crossvit_base_240",
          "vit_large_r50_s32_224",
          "resnet152d",
          "resnet152d",
          "convit_base",
          "vit_small_patch16_384",
          "vit_small_patch16_384",
          "swin_s3_base_224",
          "repvgg_b3g4",
          "resnetrs152",
          "regnetx_160",
          "regnetx_160",
          "regnetz_e8",
          "regnetz_c16_evos",
          "vit_small_r26_s32_384",
          "convnext_large",
          "convnext_large",
          "convnext_large",
          "regnety_080",
          "regnety_080",
          "resnet200d",
          "vit_large_patch32_384",
          "regnety_064",
          "regnety_064",
          "regnetv_064",
          "efficientnet_b5",
          "swin_large_patch4_window7_224",
          "resnetrs200",
          "regnety_320",
          "regnety_320",
          "regnety_320",
          "regnety_320",
          "regnety_320",
          "regnety_160",
          "regnety_160",
          "regnety_160",
          "regnety_160",
          "regnety_160",
          "regnety_160",
          "regnety_160",
          "efficientnetv2_rw_m",
          "regnetz_d8_evos",
          "vit_large_patch16_224",
          "crossvit_15_dagger_408",
          "beit_large_patch16_224",
          "resnetrs270",
          "vit_base_patch16_384",
          "vit_base_patch16_384",
          "vit_base_patch16_384",
          "regnetx_320",
          "regnetx_320",
          "crossvit_18_dagger_408",
          "beit_base_patch16_384",
          "vit_large_r50_s32_384",
          "swin_base_patch4_window12_384",
          "swin_base_patch4_window12_384",
          "resnetrs350",
          "vit_base_patch8_224",
          "vit_base_patch8_224",
          "vit_base_r50_s16_384",
          "resnetrs420",
          "swin_large_patch4_window12_384",
          "vit_large_patch16_384",
          "beit_large_patch16_384",
          "beit_large_patch16_512"
         ],
         "legendgroup": "",
         "marker": {
          "color": [
           224,
           224,
           224,
           224,
           224,
           224,
           224,
           224,
           224,
           224,
           224,
           224,
           224,
           224,
           224,
           224,
           224,
           224,
           224,
           224,
           224,
           224,
           224,
           224,
           224,
           224,
           224,
           224,
           224,
           224,
           224,
           224,
           240,
           224,
           224,
           224,
           224,
           224,
           256,
           224,
           224,
           224,
           224,
           224,
           256,
           224,
           240,
           260,
           384,
           256,
           224,
           224,
           224,
           240,
           240,
           224,
           224,
           224,
           224,
           224,
           224,
           224,
           224,
           224,
           224,
           224,
           224,
           224,
           224,
           224,
           224,
           224,
           224,
           240,
           256,
           224,
           224,
           256,
           224,
           224,
           224,
           224,
           224,
           224,
           288,
           300,
           256,
           224,
           224,
           224,
           224,
           288,
           384,
           224,
           224,
           288,
           256,
           224,
           224,
           224,
           224,
           224,
           224,
           224,
           224,
           224,
           224,
           224,
           224,
           224,
           224,
           224,
           224,
           224,
           288,
           320,
           240,
           224,
           224,
           224,
           320,
           240,
           288,
           224,
           240,
           224,
           224,
           224,
           224,
           224,
           224,
           224,
           224,
           224,
           224,
           224,
           224,
           224,
           300,
           300,
           384,
           224,
           224,
           224,
           224,
           224,
           384,
           384,
           224,
           288,
           288,
           288,
           224,
           224,
           224,
           224,
           224,
           240,
           240,
           224,
           224,
           320,
           224,
           224,
           224,
           288,
           384,
           224,
           224,
           224,
           224,
           224,
           320,
           320,
           224,
           320,
           320,
           224,
           224,
           224,
           224,
           224,
           224,
           224,
           224,
           384,
           288,
           288,
           288,
           288,
           224,
           224,
           224,
           224,
           224,
           224,
           224,
           240,
           224,
           320,
           320,
           224,
           384,
           384,
           224,
           224,
           320,
           224,
           224,
           320,
           320,
           384,
           224,
           224,
           224,
           288,
           288,
           320,
           384,
           288,
           288,
           288,
           456,
           224,
           320,
           224,
           224,
           224,
           224,
           224,
           288,
           288,
           288,
           288,
           288,
           288,
           288,
           416,
           320,
           224,
           408,
           224,
           352,
           384,
           384,
           384,
           224,
           224,
           408,
           384,
           384,
           384,
           384,
           384,
           224,
           224,
           384,
           416,
           384,
           384,
           384,
           512
          ],
          "coloraxis": "coloraxis",
          "symbol": "circle"
         },
         "mode": "markers",
         "name": "",
         "orientation": "v",
         "showlegend": false,
         "type": "scatter",
         "x": [
          7.78,
          2.68,
          3.16,
          9.21,
          5.16,
          10.95,
          22.88,
          11.69,
          11.69,
          11.69,
          11.69,
          11.69,
          11.69,
          11.69,
          6.06,
          6.34,
          4.34,
          4.34,
          18.89,
          4.65,
          11.71,
          7.26,
          7.26,
          6.2,
          6.26,
          5.29,
          21.8,
          21.8,
          21.8,
          21.8,
          21.8,
          5.72,
          6.33,
          5.44,
          5.44,
          16,
          39.13,
          21.82,
          1.27,
          15.82,
          16.01,
          88.22,
          88.22,
          88.22,
          7.79,
          28.21,
          7.01,
          8.31,
          22.92,
          16.01,
          9.19,
          9.19,
          25.55,
          8.55,
          8.78,
          25.56,
          25.56,
          25.56,
          25.56,
          25.56,
          25.56,
          25.56,
          25.56,
          25.56,
          25.56,
          25.56,
          25.56,
          25.56,
          25.56,
          25.56,
          25.56,
          25.56,
          25.56,
          6.9,
          17.96,
          11.2,
          11.2,
          19.68,
          25.58,
          25.58,
          25.58,
          25.58,
          25.58,
          5.71,
          9.11,
          9.86,
          2.32,
          25.58,
          35.69,
          22.05,
          22.05,
          9.72,
          6.36,
          25.56,
          132.87,
          13.65,
          5.58,
          28.59,
          28.59,
          28.59,
          28.59,
          28.59,
          44.54,
          44.55,
          44.55,
          44.55,
          44.55,
          44.55,
          44.55,
          44.55,
          28.59,
          133.05,
          57.42,
          44.57,
          35.7,
          12.23,
          26.86,
          28.29,
          28.29,
          36.43,
          13.46,
          27.53,
          36.85,
          28.33,
          28.21,
          133.05,
          138.36,
          39.97,
          15.3,
          15.3,
          22.12,
          60.19,
          60.19,
          60.19,
          60.19,
          60.19,
          60.19,
          60.19,
          10.59,
          10.59,
          5.79,
          50.22,
          50.22,
          50.22,
          50.22,
          50.22,
          88.3,
          88.3,
          27.78,
          19.44,
          19.44,
          19.44,
          143.67,
          138.37,
          39.57,
          39.57,
          89.02,
          43.27,
          44.27,
          26.21,
          143.68,
          23.37,
          49.61,
          49.61,
          86.54,
          63.62,
          23.94,
          86.57,
          86.57,
          86.57,
          86.57,
          86.57,
          27.12,
          27.58,
          123.09,
          44.57,
          44.57,
          86.53,
          88.59,
          88.59,
          88.59,
          88.59,
          88.59,
          88.59,
          88.59,
          19.34,
          20.65,
          20.65,
          20.64,
          25.59,
          49.74,
          61.76,
          87.77,
          87.77,
          46.11,
          51.82,
          51.82,
          105.03,
          328.99,
          60.21,
          60.21,
          86.54,
          22.2,
          22.2,
          71.13,
          83.83,
          86.62,
          54.28,
          54.28,
          57.7,
          13.49,
          36.47,
          197.77,
          197.77,
          197.77,
          39.18,
          39.18,
          64.69,
          306.63,
          30.58,
          30.58,
          30.58,
          30.39,
          196.53,
          93.21,
          145.05,
          145.05,
          145.05,
          145.05,
          145.05,
          83.59,
          83.59,
          83.59,
          83.59,
          83.59,
          83.59,
          83.59,
          53.24,
          23.46,
          304.33,
          28.5,
          304.43,
          129.86,
          86.86,
          86.86,
          86.86,
          107.81,
          107.81,
          44.61,
          86.74,
          329.09,
          87.9,
          87.9,
          163.96,
          86.58,
          86.58,
          98.95,
          191.89,
          196.74,
          304.72,
          305,
          305.67
         ],
         "xaxis": "x",
         "y": [
          4.654236751715086e-05,
          5.611048828469115e-05,
          5.9976920880845045e-05,
          6.822292249261998e-05,
          6.925193368711838e-05,
          7.756230968148262e-05,
          8.26542597112556e-05,
          9.236979323021786e-05,
          9.236979323021786e-05,
          9.236979323021786e-05,
          9.236979323021786e-05,
          9.236979323021786e-05,
          9.236979323021786e-05,
          9.236979323021786e-05,
          0.00010017450398594352,
          0.00010105327831992861,
          0.00010468376082691796,
          0.00010468376082691796,
          0.00010599687945186893,
          0.00011112172940969915,
          0.00011218547400045547,
          0.00011822399190402103,
          0.00011822399190402103,
          0.0001259786970023369,
          0.00012704688411164372,
          0.0001301779923689661,
          0.00015969338869370808,
          0.00015969338869370808,
          0.00015969338869370808,
          0.00015969338869370808,
          0.00015969338869370808,
          0.0001606500543800434,
          0.00016600486062231902,
          0.00017507769072525934,
          0.00017510804166170527,
          0.00017561482751111642,
          0.00017720128293728847,
          0.00017947263760167124,
          0.00019510063290645313,
          0.00019805588344807372,
          0.0002044542400742578,
          0.00023169601482854495,
          0.00023169601482854495,
          0.00023169601482854495,
          0.00024378530315921374,
          0.00025848743492578826,
          0.00025943432938820195,
          0.0002616848842960284,
          0.0002629917946560067,
          0.0002638710409448694,
          0.00026479614668647344,
          0.00026479614668647344,
          0.00027003891260730673,
          0.0002746551018558445,
          0.0002807190900209978,
          0.00028338807446305045,
          0.00028338807446305045,
          0.00028338807446305045,
          0.00028338807446305045,
          0.00028338807446305045,
          0.00028338807446305045,
          0.00028338807446305045,
          0.00028338807446305045,
          0.00028338807446305045,
          0.00028338807446305045,
          0.00028338807446305045,
          0.00028338807446305045,
          0.00028338807446305045,
          0.00028338807446305045,
          0.00028338807446305045,
          0.00028338807446305045,
          0.00028338807446305045,
          0.00028338807446305045,
          0.0002911538719097656,
          0.00029286350217890445,
          0.00029335406368716726,
          0.00029335406368716726,
          0.00029674294938752255,
          0.00031235065734195835,
          0.00031235065734195835,
          0.00031235065734195835,
          0.00031235065734195835,
          0.00031235065734195835,
          0.0003142578800163414,
          0.00032120258246876303,
          0.00032275451614256713,
          0.00032276493352656195,
          0.00034852799202567954,
          0.000351576645466595,
          0.0003523347461956656,
          0.0003523347461956656,
          0.00036824952587873543,
          0.0003702675182819587,
          0.00038181346121538863,
          0.0003856239395341663,
          0.00039287790926091805,
          0.0004140683875348853,
          0.00043947351073414054,
          0.00043947351073414054,
          0.00043947351073414054,
          0.00043947351073414054,
          0.00043947351073414054,
          0.0004473172150030194,
          0.00046063207933926936,
          0.00046063207933926936,
          0.00046063207933926936,
          0.00046063207933926936,
          0.00046063207933926936,
          0.00046063207933926936,
          0.00046063207933926936,
          0.00048231356169272765,
          0.000495051955702751,
          0.0005164995790528431,
          0.0005280918457338101,
          0.000534896657965681,
          0.000539647933688062,
          0.0005422640609070993,
          0.0005460184335823177,
          0.0005460184335823177,
          0.0005623284898106078,
          0.0005641494319015222,
          0.0005881107530170082,
          0.0005959830740806961,
          0.000599319173418996,
          0.0006054331571522846,
          0.000609002271578473,
          0.00061273383454961,
          0.0006192755714365336,
          0.0006228278877415016,
          0.0006228278877415016,
          0.0006304057291272663,
          0.0006634335339114052,
          0.0006634335339114052,
          0.0006634335339114052,
          0.0006634335339114052,
          0.0006634335339114052,
          0.0006634335339114052,
          0.0006634335339114052,
          0.0006642355645005945,
          0.0006644474123095528,
          0.0006846126461648,
          0.0007089131652263915,
          0.0007089131652263915,
          0.0007089131652263915,
          0.0007089131652263915,
          0.0007089131652263915,
          0.0007257578726585237,
          0.0007257578726585237,
          0.0007307163943530237,
          0.0007311277645768598,
          0.0007311277645768598,
          0.0007311277645768598,
          0.0007314379338341244,
          0.0007335465508641178,
          0.0007938902208602596,
          0.0007938902208602596,
          0.0008039813154742284,
          0.0008294969101240098,
          0.0008531185749507324,
          0.0008572212316554657,
          0.0008591212907438273,
          0.0008748829844008363,
          0.0008899409969119047,
          0.0008899409969119047,
          0.0009018027036045053,
          0.0009125586318920991,
          0.0009177342975661686,
          0.0009315670821455853,
          0.0009315670821455853,
          0.0009315670821455853,
          0.0009315670821455853,
          0.0009315670821455853,
          0.000961917679085024,
          0.0009901872444079175,
          0.0009981932701809725,
          0.0010008807750820723,
          0.0010008807750820723,
          0.0010062791820962809,
          0.001017356094980365,
          0.001017356094980365,
          0.001017356094980365,
          0.001017356094980365,
          0.001017356094980365,
          0.001017356094980365,
          0.001017356094980365,
          0.0010264938051098862,
          0.0011773986554107355,
          0.0011773986554107355,
          0.0011776343680813981,
          0.0011976191331632715,
          0.0012179822905374956,
          0.0012302090125112257,
          0.001254390366281987,
          0.001254390366281987,
          0.0012854296548621376,
          0.0013256445946841651,
          0.0013256445946841651,
          0.0013383297644539614,
          0.0013855980934170233,
          0.0014054023666975855,
          0.0014054023666975855,
          0.0014544608313698112,
          0.0014628865677755345,
          0.0014628865677755345,
          0.001502765087761481,
          0.0015526503741887404,
          0.0015921792156925183,
          0.001604157977477622,
          0.001604157977477622,
          0.0016463344363774057,
          0.00167117884956048,
          0.0017152952880838436,
          0.001837424665588711,
          0.001837424665588711,
          0.001837424665588711,
          0.0018643499011894553,
          0.0018643499011894553,
          0.0019066503965832825,
          0.002085723224528105,
          0.0021192726656211586,
          0.0021192726656211586,
          0.0021355201059217975,
          0.0021380313007782433,
          0.002185123678000175,
          0.0021917327839389824,
          0.002407666008571291,
          0.002407666008571291,
          0.002407666008571291,
          0.002407666008571291,
          0.002407666008571291,
          0.0024128362890577875,
          0.0024128362890577875,
          0.0024128362890577875,
          0.0024128362890577875,
          0.0024128362890577875,
          0.0024128362890577875,
          0.0024128362890577875,
          0.0025433643623785545,
          0.002579646588417387,
          0.0028202380280895707,
          0.002823662289990117,
          0.0030446034404018876,
          0.0034781398907864076,
          0.0036026948157221604,
          0.0036026948157221604,
          0.0036026948157221604,
          0.0038134462113411888,
          0.0038134462113411888,
          0.0038593647485623862,
          0.00418007774944614,
          0.004231729507849859,
          0.004700352526439483,
          0.004700352526439483,
          0.005297171310520182,
          0.005465078150617554,
          0.005465078150617554,
          0.005822416302765648,
          0.007450454477723141,
          0.007950389569088886,
          0.010594342621040365,
          0.0121580547112462,
          0.030184123151222455
         ],
         "yaxis": "y"
        }
       ],
       "layout": {
        "coloraxis": {
         "colorbar": {
          "title": {
           "text": "infer_img_size"
          }
         },
         "colorscale": [
          [
           0,
           "#0d0887"
          ],
          [
           0.1111111111111111,
           "#46039f"
          ],
          [
           0.2222222222222222,
           "#7201a8"
          ],
          [
           0.3333333333333333,
           "#9c179e"
          ],
          [
           0.4444444444444444,
           "#bd3786"
          ],
          [
           0.5555555555555556,
           "#d8576b"
          ],
          [
           0.6666666666666666,
           "#ed7953"
          ],
          [
           0.7777777777777778,
           "#fb9f3a"
          ],
          [
           0.8888888888888888,
           "#fdca26"
          ],
          [
           1,
           "#f0f921"
          ]
         ]
        },
        "height": 800,
        "legend": {
         "tracegroupgap": 0
        },
        "margin": {
         "t": 60
        },
        "template": {
         "data": {
          "bar": [
           {
            "error_x": {
             "color": "#2a3f5f"
            },
            "error_y": {
             "color": "#2a3f5f"
            },
            "marker": {
             "line": {
              "color": "#E5ECF6",
              "width": 0.5
             },
             "pattern": {
              "fillmode": "overlay",
              "size": 10,
              "solidity": 0.2
             }
            },
            "type": "bar"
           }
          ],
          "barpolar": [
           {
            "marker": {
             "line": {
              "color": "#E5ECF6",
              "width": 0.5
             },
             "pattern": {
              "fillmode": "overlay",
              "size": 10,
              "solidity": 0.2
             }
            },
            "type": "barpolar"
           }
          ],
          "carpet": [
           {
            "aaxis": {
             "endlinecolor": "#2a3f5f",
             "gridcolor": "white",
             "linecolor": "white",
             "minorgridcolor": "white",
             "startlinecolor": "#2a3f5f"
            },
            "baxis": {
             "endlinecolor": "#2a3f5f",
             "gridcolor": "white",
             "linecolor": "white",
             "minorgridcolor": "white",
             "startlinecolor": "#2a3f5f"
            },
            "type": "carpet"
           }
          ],
          "choropleth": [
           {
            "colorbar": {
             "outlinewidth": 0,
             "ticks": ""
            },
            "type": "choropleth"
           }
          ],
          "contour": [
           {
            "colorbar": {
             "outlinewidth": 0,
             "ticks": ""
            },
            "colorscale": [
             [
              0,
              "#0d0887"
             ],
             [
              0.1111111111111111,
              "#46039f"
             ],
             [
              0.2222222222222222,
              "#7201a8"
             ],
             [
              0.3333333333333333,
              "#9c179e"
             ],
             [
              0.4444444444444444,
              "#bd3786"
             ],
             [
              0.5555555555555556,
              "#d8576b"
             ],
             [
              0.6666666666666666,
              "#ed7953"
             ],
             [
              0.7777777777777778,
              "#fb9f3a"
             ],
             [
              0.8888888888888888,
              "#fdca26"
             ],
             [
              1,
              "#f0f921"
             ]
            ],
            "type": "contour"
           }
          ],
          "contourcarpet": [
           {
            "colorbar": {
             "outlinewidth": 0,
             "ticks": ""
            },
            "type": "contourcarpet"
           }
          ],
          "heatmap": [
           {
            "colorbar": {
             "outlinewidth": 0,
             "ticks": ""
            },
            "colorscale": [
             [
              0,
              "#0d0887"
             ],
             [
              0.1111111111111111,
              "#46039f"
             ],
             [
              0.2222222222222222,
              "#7201a8"
             ],
             [
              0.3333333333333333,
              "#9c179e"
             ],
             [
              0.4444444444444444,
              "#bd3786"
             ],
             [
              0.5555555555555556,
              "#d8576b"
             ],
             [
              0.6666666666666666,
              "#ed7953"
             ],
             [
              0.7777777777777778,
              "#fb9f3a"
             ],
             [
              0.8888888888888888,
              "#fdca26"
             ],
             [
              1,
              "#f0f921"
             ]
            ],
            "type": "heatmap"
           }
          ],
          "heatmapgl": [
           {
            "colorbar": {
             "outlinewidth": 0,
             "ticks": ""
            },
            "colorscale": [
             [
              0,
              "#0d0887"
             ],
             [
              0.1111111111111111,
              "#46039f"
             ],
             [
              0.2222222222222222,
              "#7201a8"
             ],
             [
              0.3333333333333333,
              "#9c179e"
             ],
             [
              0.4444444444444444,
              "#bd3786"
             ],
             [
              0.5555555555555556,
              "#d8576b"
             ],
             [
              0.6666666666666666,
              "#ed7953"
             ],
             [
              0.7777777777777778,
              "#fb9f3a"
             ],
             [
              0.8888888888888888,
              "#fdca26"
             ],
             [
              1,
              "#f0f921"
             ]
            ],
            "type": "heatmapgl"
           }
          ],
          "histogram": [
           {
            "marker": {
             "pattern": {
              "fillmode": "overlay",
              "size": 10,
              "solidity": 0.2
             }
            },
            "type": "histogram"
           }
          ],
          "histogram2d": [
           {
            "colorbar": {
             "outlinewidth": 0,
             "ticks": ""
            },
            "colorscale": [
             [
              0,
              "#0d0887"
             ],
             [
              0.1111111111111111,
              "#46039f"
             ],
             [
              0.2222222222222222,
              "#7201a8"
             ],
             [
              0.3333333333333333,
              "#9c179e"
             ],
             [
              0.4444444444444444,
              "#bd3786"
             ],
             [
              0.5555555555555556,
              "#d8576b"
             ],
             [
              0.6666666666666666,
              "#ed7953"
             ],
             [
              0.7777777777777778,
              "#fb9f3a"
             ],
             [
              0.8888888888888888,
              "#fdca26"
             ],
             [
              1,
              "#f0f921"
             ]
            ],
            "type": "histogram2d"
           }
          ],
          "histogram2dcontour": [
           {
            "colorbar": {
             "outlinewidth": 0,
             "ticks": ""
            },
            "colorscale": [
             [
              0,
              "#0d0887"
             ],
             [
              0.1111111111111111,
              "#46039f"
             ],
             [
              0.2222222222222222,
              "#7201a8"
             ],
             [
              0.3333333333333333,
              "#9c179e"
             ],
             [
              0.4444444444444444,
              "#bd3786"
             ],
             [
              0.5555555555555556,
              "#d8576b"
             ],
             [
              0.6666666666666666,
              "#ed7953"
             ],
             [
              0.7777777777777778,
              "#fb9f3a"
             ],
             [
              0.8888888888888888,
              "#fdca26"
             ],
             [
              1,
              "#f0f921"
             ]
            ],
            "type": "histogram2dcontour"
           }
          ],
          "mesh3d": [
           {
            "colorbar": {
             "outlinewidth": 0,
             "ticks": ""
            },
            "type": "mesh3d"
           }
          ],
          "parcoords": [
           {
            "line": {
             "colorbar": {
              "outlinewidth": 0,
              "ticks": ""
             }
            },
            "type": "parcoords"
           }
          ],
          "pie": [
           {
            "automargin": true,
            "type": "pie"
           }
          ],
          "scatter": [
           {
            "fillpattern": {
             "fillmode": "overlay",
             "size": 10,
             "solidity": 0.2
            },
            "type": "scatter"
           }
          ],
          "scatter3d": [
           {
            "line": {
             "colorbar": {
              "outlinewidth": 0,
              "ticks": ""
             }
            },
            "marker": {
             "colorbar": {
              "outlinewidth": 0,
              "ticks": ""
             }
            },
            "type": "scatter3d"
           }
          ],
          "scattercarpet": [
           {
            "marker": {
             "colorbar": {
              "outlinewidth": 0,
              "ticks": ""
             }
            },
            "type": "scattercarpet"
           }
          ],
          "scattergeo": [
           {
            "marker": {
             "colorbar": {
              "outlinewidth": 0,
              "ticks": ""
             }
            },
            "type": "scattergeo"
           }
          ],
          "scattergl": [
           {
            "marker": {
             "colorbar": {
              "outlinewidth": 0,
              "ticks": ""
             }
            },
            "type": "scattergl"
           }
          ],
          "scattermapbox": [
           {
            "marker": {
             "colorbar": {
              "outlinewidth": 0,
              "ticks": ""
             }
            },
            "type": "scattermapbox"
           }
          ],
          "scatterpolar": [
           {
            "marker": {
             "colorbar": {
              "outlinewidth": 0,
              "ticks": ""
             }
            },
            "type": "scatterpolar"
           }
          ],
          "scatterpolargl": [
           {
            "marker": {
             "colorbar": {
              "outlinewidth": 0,
              "ticks": ""
             }
            },
            "type": "scatterpolargl"
           }
          ],
          "scatterternary": [
           {
            "marker": {
             "colorbar": {
              "outlinewidth": 0,
              "ticks": ""
             }
            },
            "type": "scatterternary"
           }
          ],
          "surface": [
           {
            "colorbar": {
             "outlinewidth": 0,
             "ticks": ""
            },
            "colorscale": [
             [
              0,
              "#0d0887"
             ],
             [
              0.1111111111111111,
              "#46039f"
             ],
             [
              0.2222222222222222,
              "#7201a8"
             ],
             [
              0.3333333333333333,
              "#9c179e"
             ],
             [
              0.4444444444444444,
              "#bd3786"
             ],
             [
              0.5555555555555556,
              "#d8576b"
             ],
             [
              0.6666666666666666,
              "#ed7953"
             ],
             [
              0.7777777777777778,
              "#fb9f3a"
             ],
             [
              0.8888888888888888,
              "#fdca26"
             ],
             [
              1,
              "#f0f921"
             ]
            ],
            "type": "surface"
           }
          ],
          "table": [
           {
            "cells": {
             "fill": {
              "color": "#EBF0F8"
             },
             "line": {
              "color": "white"
             }
            },
            "header": {
             "fill": {
              "color": "#C8D4E3"
             },
             "line": {
              "color": "white"
             }
            },
            "type": "table"
           }
          ]
         },
         "layout": {
          "annotationdefaults": {
           "arrowcolor": "#2a3f5f",
           "arrowhead": 0,
           "arrowwidth": 1
          },
          "autotypenumbers": "strict",
          "coloraxis": {
           "colorbar": {
            "outlinewidth": 0,
            "ticks": ""
           }
          },
          "colorscale": {
           "diverging": [
            [
             0,
             "#8e0152"
            ],
            [
             0.1,
             "#c51b7d"
            ],
            [
             0.2,
             "#de77ae"
            ],
            [
             0.3,
             "#f1b6da"
            ],
            [
             0.4,
             "#fde0ef"
            ],
            [
             0.5,
             "#f7f7f7"
            ],
            [
             0.6,
             "#e6f5d0"
            ],
            [
             0.7,
             "#b8e186"
            ],
            [
             0.8,
             "#7fbc41"
            ],
            [
             0.9,
             "#4d9221"
            ],
            [
             1,
             "#276419"
            ]
           ],
           "sequential": [
            [
             0,
             "#0d0887"
            ],
            [
             0.1111111111111111,
             "#46039f"
            ],
            [
             0.2222222222222222,
             "#7201a8"
            ],
            [
             0.3333333333333333,
             "#9c179e"
            ],
            [
             0.4444444444444444,
             "#bd3786"
            ],
            [
             0.5555555555555556,
             "#d8576b"
            ],
            [
             0.6666666666666666,
             "#ed7953"
            ],
            [
             0.7777777777777778,
             "#fb9f3a"
            ],
            [
             0.8888888888888888,
             "#fdca26"
            ],
            [
             1,
             "#f0f921"
            ]
           ],
           "sequentialminus": [
            [
             0,
             "#0d0887"
            ],
            [
             0.1111111111111111,
             "#46039f"
            ],
            [
             0.2222222222222222,
             "#7201a8"
            ],
            [
             0.3333333333333333,
             "#9c179e"
            ],
            [
             0.4444444444444444,
             "#bd3786"
            ],
            [
             0.5555555555555556,
             "#d8576b"
            ],
            [
             0.6666666666666666,
             "#ed7953"
            ],
            [
             0.7777777777777778,
             "#fb9f3a"
            ],
            [
             0.8888888888888888,
             "#fdca26"
            ],
            [
             1,
             "#f0f921"
            ]
           ]
          },
          "colorway": [
           "#636efa",
           "#EF553B",
           "#00cc96",
           "#ab63fa",
           "#FFA15A",
           "#19d3f3",
           "#FF6692",
           "#B6E880",
           "#FF97FF",
           "#FECB52"
          ],
          "font": {
           "color": "#2a3f5f"
          },
          "geo": {
           "bgcolor": "white",
           "lakecolor": "white",
           "landcolor": "#E5ECF6",
           "showlakes": true,
           "showland": true,
           "subunitcolor": "white"
          },
          "hoverlabel": {
           "align": "left"
          },
          "hovermode": "closest",
          "mapbox": {
           "style": "light"
          },
          "paper_bgcolor": "white",
          "plot_bgcolor": "#E5ECF6",
          "polar": {
           "angularaxis": {
            "gridcolor": "white",
            "linecolor": "white",
            "ticks": ""
           },
           "bgcolor": "#E5ECF6",
           "radialaxis": {
            "gridcolor": "white",
            "linecolor": "white",
            "ticks": ""
           }
          },
          "scene": {
           "xaxis": {
            "backgroundcolor": "#E5ECF6",
            "gridcolor": "white",
            "gridwidth": 2,
            "linecolor": "white",
            "showbackground": true,
            "ticks": "",
            "zerolinecolor": "white"
           },
           "yaxis": {
            "backgroundcolor": "#E5ECF6",
            "gridcolor": "white",
            "gridwidth": 2,
            "linecolor": "white",
            "showbackground": true,
            "ticks": "",
            "zerolinecolor": "white"
           },
           "zaxis": {
            "backgroundcolor": "#E5ECF6",
            "gridcolor": "white",
            "gridwidth": 2,
            "linecolor": "white",
            "showbackground": true,
            "ticks": "",
            "zerolinecolor": "white"
           }
          },
          "shapedefaults": {
           "line": {
            "color": "#2a3f5f"
           }
          },
          "ternary": {
           "aaxis": {
            "gridcolor": "white",
            "linecolor": "white",
            "ticks": ""
           },
           "baxis": {
            "gridcolor": "white",
            "linecolor": "white",
            "ticks": ""
           },
           "bgcolor": "#E5ECF6",
           "caxis": {
            "gridcolor": "white",
            "linecolor": "white",
            "ticks": ""
           }
          },
          "title": {
           "x": 0.05
          },
          "xaxis": {
           "automargin": true,
           "gridcolor": "white",
           "linecolor": "white",
           "ticks": "",
           "title": {
            "standoff": 15
           },
           "zerolinecolor": "white",
           "zerolinewidth": 2
          },
          "yaxis": {
           "automargin": true,
           "gridcolor": "white",
           "linecolor": "white",
           "ticks": "",
           "title": {
            "standoff": 15
           },
           "zerolinecolor": "white",
           "zerolinewidth": 2
          }
         }
        },
        "title": {
         "text": "Speed vs. Parameter count"
        },
        "width": 1000,
        "xaxis": {
         "anchor": "y",
         "domain": [
          0,
          1
         ],
         "title": {
          "text": "Parameter count (in millions)"
         },
         "type": "log"
        },
        "yaxis": {
         "anchor": "x",
         "domain": [
          0,
          1
         ],
         "title": {
          "text": "secs (how many seconds it takes to process one image)"
         },
         "type": "log"
        }
       }
      },
      "text/html": [
       "<div>                            <div id=\"648e61bf-c2de-4770-98ed-1834fa2424af\" class=\"plotly-graph-div\" style=\"height:800px; width:1000px;\"></div>            <script type=\"text/javascript\">                require([\"plotly\"], function(Plotly) {                    window.PLOTLYENV=window.PLOTLYENV || {};                                    if (document.getElementById(\"648e61bf-c2de-4770-98ed-1834fa2424af\")) {                    Plotly.newPlot(                        \"648e61bf-c2de-4770-98ed-1834fa2424af\",                        [{\"customdata\":[[21485.8,\"levit\"],[17821.98,\"regnetx\"],[16673.08,\"regnety\"],[14657.83,\"levit\"],[14440.03,\"regnetx\"],[12892.86,\"levit\"],[12098.59,\"vit\"],[10826.05,\"resnet\"],[10826.05,\"resnet\"],[10826.05,\"resnet\"],[10826.05,\"resnet\"],[10826.05,\"resnet\"],[10826.05,\"resnet\"],[10826.05,\"resnet\"],[9982.58,\"regnety\"],[9895.77,\"vit\"],[9552.58,\"regnety\"],[9552.58,\"regnety\"],[9434.24,\"levit\"],[8999.14,\"efficientnet\"],[8913.81,\"resnetd\"],[8458.52,\"regnetx\"],[8458.52,\"regnetx\"],[7937.85,\"regnetx\"],[7871.11,\"regnety\"],[7681.79,\"efficientnet\"],[6262.0,\"resnet\"],[6262.0,\"resnet\"],[6262.0,\"resnet\"],[6262.0,\"resnet\"],[6262.0,\"resnet\"],[6224.71,\"vit\"],[6023.92,\"efficientnet\"],[5711.75,\"efficientnet\"],[5710.76,\"efficientnet\"],[5694.28,\"resnet\"],[5643.3,\"levit\"],[5571.88,\"resnetd\"],[5125.56,\"mobilevit\"],[5049.08,\"repvgg\"],[4891.07,\"resnetd\"],[4316.0,\"vit\"],[4316.0,\"vit\"],[4316.0,\"vit\"],[4101.97,\"efficientnet\"],[3868.66,\"repvgg\"],[3854.54,\"crossvit\"],[3821.39,\"efficientnet\"],[3802.4,\"vit\"],[3789.73,\"resnet\"],[3776.49,\"regnetx\"],[3776.49,\"regnetx\"],[3703.17,\"resnetv2\"],[3640.93,\"crossvit\"],[3562.28,\"crossvit\"],[3528.73,\"resnet\"],[3528.73,\"resnet\"],[3528.73,\"resnet\"],[3528.73,\"resnet\"],[3528.73,\"resnet\"],[3528.73,\"resnet\"],[3528.73,\"resnet\"],[3528.73,\"resnet\"],[3528.73,\"resnet\"],[3528.73,\"resnet\"],[3528.73,\"resnet\"],[3528.73,\"resnet\"],[3528.73,\"resnet\"],[3528.73,\"resnet\"],[3528.73,\"resnet\"],[3528.73,\"resnet\"],[3528.73,\"resnet\"],[3528.73,\"resnet\"],[3434.61,\"efficientnet\"],[3414.56,\"resnet\"],[3408.85,\"regnety\"],[3408.85,\"regnety\"],[3369.92,\"resnet\"],[3201.53,\"resnetd\"],[3201.53,\"resnetd\"],[3201.53,\"resnetd\"],[3201.53,\"resnetd\"],[3201.53,\"resnetd\"],[3182.1,\"convit\"],[3113.3,\"efficientnet\"],[3098.33,\"efficientnet\"],[3098.23,\"mobilevit\"],[2869.21,\"resnetaad\"],[2844.33,\"resnetrs\"],[2838.21,\"vit\"],[2838.21,\"vit\"],[2715.55,\"regnetz\"],[2700.75,\"vit\"],[2619.08,\"resnetblur\"],[2593.2,\"vgg\"],[2545.32,\"efficientnetv2\"],[2415.06,\"mobilevit\"],[2275.45,\"convnext\"],[2275.45,\"convnext\"],[2275.45,\"convnext\"],[2275.45,\"convnext\"],[2275.45,\"convnext\"],[2235.55,\"resnetv2\"],[2170.93,\"resnet\"],[2170.93,\"resnet\"],[2170.93,\"resnet\"],[2170.93,\"resnet\"],[2170.93,\"resnet\"],[2170.93,\"resnet\"],[2170.93,\"resnet\"],[2073.34,\"convnext\"],[2019.99,\"vgg\"],[1936.11,\"repvgg\"],[1893.61,\"resnetaad\"],[1869.52,\"resnet\"],[1853.06,\"efficientnet\"],[1844.12,\"crossvit\"],[1831.44,\"swin\"],[1831.44,\"swin\"],[1778.32,\"vit\"],[1772.58,\"regnetz\"],[1700.36,\"crossvit\"],[1677.9,\"resnet\"],[1668.56,\"swin\"],[1651.71,\"crossvit\"],[1642.03,\"vgg\"],[1632.03,\"vgg\"],[1614.79,\"repvgg\"],[1605.58,\"regnetx\"],[1605.58,\"regnetx\"],[1586.28,\"regnetx\"],[1507.31,\"resnet\"],[1507.31,\"resnet\"],[1507.31,\"resnet\"],[1507.31,\"resnet\"],[1507.31,\"resnet\"],[1507.31,\"resnet\"],[1507.31,\"resnet\"],[1505.49,\"efficientnet\"],[1505.01,\"efficientnet\"],[1460.68,\"vit\"],[1410.61,\"convnext\"],[1410.61,\"convnext\"],[1410.61,\"convnext\"],[1410.61,\"convnext\"],[1410.61,\"convnext\"],[1377.87,\"vit\"],[1377.87,\"vit\"],[1368.52,\"convit\"],[1367.75,\"regnety\"],[1367.75,\"regnety\"],[1367.75,\"regnety\"],[1367.17,\"vgg\"],[1363.24,\"vgg\"],[1259.62,\"regnetx\"],[1259.62,\"regnetx\"],[1243.81,\"repvgg\"],[1205.55,\"crossvit\"],[1172.17,\"crossvit\"],[1166.56,\"regnetx\"],[1163.98,\"vgg\"],[1143.01,\"regnetz\"],[1123.67,\"swin\"],[1123.67,\"swin\"],[1108.89,\"vit\"],[1095.82,\"resnetrs\"],[1089.64,\"efficientnetv2\"],[1073.46,\"vit\"],[1073.46,\"vit\"],[1073.46,\"vit\"],[1073.46,\"vit\"],[1073.46,\"vit\"],[1039.59,\"regnetz\"],[1009.91,\"regnetz\"],[1001.81,\"repvgg\"],[999.12,\"resnetd\"],[999.12,\"resnetd\"],[993.76,\"beit\"],[982.94,\"convnext\"],[982.94,\"convnext\"],[982.94,\"convnext\"],[982.94,\"convnext\"],[982.94,\"convnext\"],[982.94,\"convnext\"],[982.94,\"convnext\"],[974.19,\"efficientnet\"],[849.33,\"regnety\"],[849.33,\"regnety\"],[849.16,\"regnetv\"],[834.99,\"resnetv2d\"],[821.03,\"swin\"],[812.87,\"repvgg\"],[797.2,\"swin\"],[797.2,\"swin\"],[777.95,\"regnetx\"],[754.35,\"regnety\"],[754.35,\"regnety\"],[747.2,\"crossvit\"],[721.71,\"vit\"],[711.54,\"resnetd\"],[711.54,\"resnetd\"],[687.54,\"convit\"],[683.58,\"vit\"],[683.58,\"vit\"],[665.44,\"swin\"],[644.06,\"repvgg\"],[628.07,\"resnetrs\"],[623.38,\"regnetx\"],[623.38,\"regnetx\"],[607.41,\"regnetz\"],[598.38,\"regnetz\"],[582.99,\"vit\"],[544.24,\"convnext\"],[544.24,\"convnext\"],[544.24,\"convnext\"],[536.38,\"regnety\"],[536.38,\"regnety\"],[524.48,\"resnetd\"],[479.45,\"vit\"],[471.86,\"regnety\"],[471.86,\"regnety\"],[468.27,\"regnetv\"],[467.72,\"efficientnet\"],[457.64,\"swin\"],[456.26,\"resnetrs\"],[415.34,\"regnety\"],[415.34,\"regnety\"],[415.34,\"regnety\"],[415.34,\"regnety\"],[415.34,\"regnety\"],[414.45,\"regnety\"],[414.45,\"regnety\"],[414.45,\"regnety\"],[414.45,\"regnety\"],[414.45,\"regnety\"],[414.45,\"regnety\"],[414.45,\"regnety\"],[393.18,\"efficientnetv2\"],[387.65,\"regnetz\"],[354.58,\"vit\"],[354.15,\"crossvit\"],[328.45,\"beit\"],[287.51,\"resnetrs\"],[277.57,\"vit\"],[277.57,\"vit\"],[277.57,\"vit\"],[262.23,\"regnetx\"],[262.23,\"regnetx\"],[259.11,\"crossvit\"],[239.23,\"beit\"],[236.31,\"vit\"],[212.75,\"swin\"],[212.75,\"swin\"],[188.78,\"resnetrs\"],[182.98,\"vit\"],[182.98,\"vit\"],[171.75,\"vit\"],[134.22,\"resnetrs\"],[125.78,\"swin\"],[94.39,\"vit\"],[82.25,\"beit\"],[33.13,\"beit\"]],\"hovertemplate\":\"<b>%{hovertext}</b><br><br>param_count_x=%{x}<br>secs=%{y}<br>infer_samples_per_sec=%{customdata[0]}<br>family=%{customdata[1]}<br>infer_img_size=%{marker.color}<extra></extra>\",\"hovertext\":[\"levit_128s\",\"regnetx_002\",\"regnety_002\",\"levit_128\",\"regnetx_004\",\"levit_192\",\"vit_small_patch32_224\",\"resnet18\",\"resnet18\",\"resnet18\",\"resnet18\",\"resnet18\",\"resnet18\",\"resnet18\",\"regnety_006\",\"vit_tiny_r_s16_p8_224\",\"regnety_004\",\"regnety_004\",\"levit_256\",\"efficientnet_lite0\",\"resnet18d\",\"regnetx_008\",\"regnetx_008\",\"regnetx_006\",\"regnety_008\",\"efficientnet_b0\",\"resnet34\",\"resnet34\",\"resnet34\",\"resnet34\",\"resnet34\",\"vit_tiny_patch16_224\",\"efficientnet_b1_pruned\",\"efficientnet_es\",\"efficientnet_es_pruned\",\"resnet26\",\"levit_384\",\"resnet34d\",\"mobilevit_xxs\",\"repvgg_b0\",\"resnet26d\",\"vit_base_patch32_224\",\"vit_base_patch32_224\",\"vit_base_patch32_224\",\"efficientnet_b1\",\"repvgg_a2\",\"crossvit_tiny_240\",\"efficientnet_b2_pruned\",\"vit_small_patch32_384\",\"resnet26t\",\"regnetx_016\",\"regnetx_016\",\"resnetv2_50\",\"crossvit_9_240\",\"crossvit_9_dagger_240\",\"resnet50\",\"resnet50\",\"resnet50\",\"resnet50\",\"resnet50\",\"resnet50\",\"resnet50\",\"resnet50\",\"resnet50\",\"resnet50\",\"resnet50\",\"resnet50\",\"resnet50\",\"resnet50\",\"resnet50\",\"resnet50\",\"resnet50\",\"resnet50\",\"efficientnet_em\",\"resnet32ts\",\"regnety_016\",\"regnety_016\",\"resnet33ts\",\"resnet50d\",\"resnet50d\",\"resnet50d\",\"resnet50d\",\"resnet50d\",\"convit_tiny\",\"efficientnet_b2\",\"efficientnet_b3_pruned\",\"mobilevit_xs\",\"resnetaa50d\",\"resnetrs50\",\"vit_small_patch16_224\",\"vit_small_patch16_224\",\"regnetz_b16\",\"vit_tiny_r_s16_p8_384\",\"resnetblur50\",\"vgg11_bn\",\"efficientnetv2_rw_t\",\"mobilevit_s\",\"convnext_tiny\",\"convnext_tiny\",\"convnext_tiny\",\"convnext_tiny\",\"convnext_tiny\",\"resnetv2_101\",\"resnet101\",\"resnet101\",\"resnet101\",\"resnet101\",\"resnet101\",\"resnet101\",\"resnet101\",\"convnext_tiny_hnf\",\"vgg13\",\"repvgg_b1\",\"resnetaa101d\",\"resnet51q\",\"efficientnet_b3\",\"crossvit_small_240\",\"swin_tiny_patch4_window7_224\",\"swin_tiny_patch4_window7_224\",\"vit_small_r26_s32_224\",\"regnetz_c16\",\"crossvit_15_240\",\"resnet61q\",\"swin_s3_tiny_224\",\"crossvit_15_dagger_240\",\"vgg13_bn\",\"vgg16\",\"repvgg_b1g4\",\"regnetx_032\",\"regnetx_032\",\"regnetx_040\",\"resnet152\",\"resnet152\",\"resnet152\",\"resnet152\",\"resnet152\",\"resnet152\",\"resnet152\",\"efficientnet_el\",\"efficientnet_el_pruned\",\"vit_tiny_patch16_384\",\"convnext_small\",\"convnext_small\",\"convnext_small\",\"convnext_small\",\"convnext_small\",\"vit_base_patch32_384\",\"vit_base_patch32_384\",\"convit_small\",\"regnety_032\",\"regnety_032\",\"regnety_032\",\"vgg19\",\"vgg16_bn\",\"regnetx_080\",\"regnetx_080\",\"repvgg_b2\",\"crossvit_18_240\",\"crossvit_18_dagger_240\",\"regnetx_064\",\"vgg19_bn\",\"regnetz_d8\",\"swin_small_patch4_window7_224\",\"swin_small_patch4_window7_224\",\"vit_base_patch16_224_miil\",\"resnetrs101\",\"efficientnetv2_rw_s\",\"vit_base_patch16_224\",\"vit_base_patch16_224\",\"vit_base_patch16_224\",\"vit_base_patch16_224\",\"vit_base_patch16_224\",\"regnetz_040\",\"regnetz_d32\",\"repvgg_b3\",\"resnet101d\",\"resnet101d\",\"beit_base_patch16_224\",\"convnext_base\",\"convnext_base\",\"convnext_base\",\"convnext_base\",\"convnext_base\",\"convnext_base\",\"convnext_base\",\"efficientnet_b4\",\"regnety_040\",\"regnety_040\",\"regnetv_040\",\"resnetv2_50d_evos\",\"swin_s3_small_224\",\"repvgg_b2g4\",\"swin_base_patch4_window7_224\",\"swin_base_patch4_window7_224\",\"regnetx_120\",\"regnety_120\",\"regnety_120\",\"crossvit_base_240\",\"vit_large_r50_s32_224\",\"resnet152d\",\"resnet152d\",\"convit_base\",\"vit_small_patch16_384\",\"vit_small_patch16_384\",\"swin_s3_base_224\",\"repvgg_b3g4\",\"resnetrs152\",\"regnetx_160\",\"regnetx_160\",\"regnetz_e8\",\"regnetz_c16_evos\",\"vit_small_r26_s32_384\",\"convnext_large\",\"convnext_large\",\"convnext_large\",\"regnety_080\",\"regnety_080\",\"resnet200d\",\"vit_large_patch32_384\",\"regnety_064\",\"regnety_064\",\"regnetv_064\",\"efficientnet_b5\",\"swin_large_patch4_window7_224\",\"resnetrs200\",\"regnety_320\",\"regnety_320\",\"regnety_320\",\"regnety_320\",\"regnety_320\",\"regnety_160\",\"regnety_160\",\"regnety_160\",\"regnety_160\",\"regnety_160\",\"regnety_160\",\"regnety_160\",\"efficientnetv2_rw_m\",\"regnetz_d8_evos\",\"vit_large_patch16_224\",\"crossvit_15_dagger_408\",\"beit_large_patch16_224\",\"resnetrs270\",\"vit_base_patch16_384\",\"vit_base_patch16_384\",\"vit_base_patch16_384\",\"regnetx_320\",\"regnetx_320\",\"crossvit_18_dagger_408\",\"beit_base_patch16_384\",\"vit_large_r50_s32_384\",\"swin_base_patch4_window12_384\",\"swin_base_patch4_window12_384\",\"resnetrs350\",\"vit_base_patch8_224\",\"vit_base_patch8_224\",\"vit_base_r50_s16_384\",\"resnetrs420\",\"swin_large_patch4_window12_384\",\"vit_large_patch16_384\",\"beit_large_patch16_384\",\"beit_large_patch16_512\"],\"legendgroup\":\"\",\"marker\":{\"color\":[224,224,224,224,224,224,224,224,224,224,224,224,224,224,224,224,224,224,224,224,224,224,224,224,224,224,224,224,224,224,224,224,240,224,224,224,224,224,256,224,224,224,224,224,256,224,240,260,384,256,224,224,224,240,240,224,224,224,224,224,224,224,224,224,224,224,224,224,224,224,224,224,224,240,256,224,224,256,224,224,224,224,224,224,288,300,256,224,224,224,224,288,384,224,224,288,256,224,224,224,224,224,224,224,224,224,224,224,224,224,224,224,224,224,288,320,240,224,224,224,320,240,288,224,240,224,224,224,224,224,224,224,224,224,224,224,224,224,300,300,384,224,224,224,224,224,384,384,224,288,288,288,224,224,224,224,224,240,240,224,224,320,224,224,224,288,384,224,224,224,224,224,320,320,224,320,320,224,224,224,224,224,224,224,224,384,288,288,288,288,224,224,224,224,224,224,224,240,224,320,320,224,384,384,224,224,320,224,224,320,320,384,224,224,224,288,288,320,384,288,288,288,456,224,320,224,224,224,224,224,288,288,288,288,288,288,288,416,320,224,408,224,352,384,384,384,224,224,408,384,384,384,384,384,224,224,384,416,384,384,384,512],\"coloraxis\":\"coloraxis\",\"symbol\":\"circle\"},\"mode\":\"markers\",\"name\":\"\",\"orientation\":\"v\",\"showlegend\":false,\"x\":[7.78,2.68,3.16,9.21,5.16,10.95,22.88,11.69,11.69,11.69,11.69,11.69,11.69,11.69,6.06,6.34,4.34,4.34,18.89,4.65,11.71,7.26,7.26,6.2,6.26,5.29,21.8,21.8,21.8,21.8,21.8,5.72,6.33,5.44,5.44,16.0,39.13,21.82,1.27,15.82,16.01,88.22,88.22,88.22,7.79,28.21,7.01,8.31,22.92,16.01,9.19,9.19,25.55,8.55,8.78,25.56,25.56,25.56,25.56,25.56,25.56,25.56,25.56,25.56,25.56,25.56,25.56,25.56,25.56,25.56,25.56,25.56,25.56,6.9,17.96,11.2,11.2,19.68,25.58,25.58,25.58,25.58,25.58,5.71,9.11,9.86,2.32,25.58,35.69,22.05,22.05,9.72,6.36,25.56,132.87,13.65,5.58,28.59,28.59,28.59,28.59,28.59,44.54,44.55,44.55,44.55,44.55,44.55,44.55,44.55,28.59,133.05,57.42,44.57,35.7,12.23,26.86,28.29,28.29,36.43,13.46,27.53,36.85,28.33,28.21,133.05,138.36,39.97,15.3,15.3,22.12,60.19,60.19,60.19,60.19,60.19,60.19,60.19,10.59,10.59,5.79,50.22,50.22,50.22,50.22,50.22,88.3,88.3,27.78,19.44,19.44,19.44,143.67,138.37,39.57,39.57,89.02,43.27,44.27,26.21,143.68,23.37,49.61,49.61,86.54,63.62,23.94,86.57,86.57,86.57,86.57,86.57,27.12,27.58,123.09,44.57,44.57,86.53,88.59,88.59,88.59,88.59,88.59,88.59,88.59,19.34,20.65,20.65,20.64,25.59,49.74,61.76,87.77,87.77,46.11,51.82,51.82,105.03,328.99,60.21,60.21,86.54,22.2,22.2,71.13,83.83,86.62,54.28,54.28,57.7,13.49,36.47,197.77,197.77,197.77,39.18,39.18,64.69,306.63,30.58,30.58,30.58,30.39,196.53,93.21,145.05,145.05,145.05,145.05,145.05,83.59,83.59,83.59,83.59,83.59,83.59,83.59,53.24,23.46,304.33,28.5,304.43,129.86,86.86,86.86,86.86,107.81,107.81,44.61,86.74,329.09,87.9,87.9,163.96,86.58,86.58,98.95,191.89,196.74,304.72,305.0,305.67],\"xaxis\":\"x\",\"y\":[0.00004654236751715086,0.00005611048828469115,0.000059976920880845045,0.00006822292249261998,0.00006925193368711838,0.00007756230968148262,0.0000826542597112556,0.00009236979323021786,0.00009236979323021786,0.00009236979323021786,0.00009236979323021786,0.00009236979323021786,0.00009236979323021786,0.00009236979323021786,0.00010017450398594352,0.00010105327831992861,0.00010468376082691796,0.00010468376082691796,0.00010599687945186893,0.00011112172940969915,0.00011218547400045547,0.00011822399190402103,0.00011822399190402103,0.0001259786970023369,0.00012704688411164372,0.0001301779923689661,0.00015969338869370808,0.00015969338869370808,0.00015969338869370808,0.00015969338869370808,0.00015969338869370808,0.0001606500543800434,0.00016600486062231902,0.00017507769072525934,0.00017510804166170527,0.00017561482751111642,0.00017720128293728847,0.00017947263760167124,0.00019510063290645313,0.00019805588344807372,0.0002044542400742578,0.00023169601482854495,0.00023169601482854495,0.00023169601482854495,0.00024378530315921374,0.00025848743492578826,0.00025943432938820195,0.0002616848842960284,0.0002629917946560067,0.0002638710409448694,0.00026479614668647344,0.00026479614668647344,0.00027003891260730673,0.0002746551018558445,0.0002807190900209978,0.00028338807446305045,0.00028338807446305045,0.00028338807446305045,0.00028338807446305045,0.00028338807446305045,0.00028338807446305045,0.00028338807446305045,0.00028338807446305045,0.00028338807446305045,0.00028338807446305045,0.00028338807446305045,0.00028338807446305045,0.00028338807446305045,0.00028338807446305045,0.00028338807446305045,0.00028338807446305045,0.00028338807446305045,0.00028338807446305045,0.0002911538719097656,0.00029286350217890445,0.00029335406368716726,0.00029335406368716726,0.00029674294938752255,0.00031235065734195835,0.00031235065734195835,0.00031235065734195835,0.00031235065734195835,0.00031235065734195835,0.0003142578800163414,0.00032120258246876303,0.00032275451614256713,0.00032276493352656195,0.00034852799202567954,0.000351576645466595,0.0003523347461956656,0.0003523347461956656,0.00036824952587873543,0.0003702675182819587,0.00038181346121538863,0.0003856239395341663,0.00039287790926091805,0.0004140683875348853,0.00043947351073414054,0.00043947351073414054,0.00043947351073414054,0.00043947351073414054,0.00043947351073414054,0.0004473172150030194,0.00046063207933926936,0.00046063207933926936,0.00046063207933926936,0.00046063207933926936,0.00046063207933926936,0.00046063207933926936,0.00046063207933926936,0.00048231356169272765,0.000495051955702751,0.0005164995790528431,0.0005280918457338101,0.000534896657965681,0.000539647933688062,0.0005422640609070993,0.0005460184335823177,0.0005460184335823177,0.0005623284898106078,0.0005641494319015222,0.0005881107530170082,0.0005959830740806961,0.000599319173418996,0.0006054331571522846,0.000609002271578473,0.00061273383454961,0.0006192755714365336,0.0006228278877415016,0.0006228278877415016,0.0006304057291272663,0.0006634335339114052,0.0006634335339114052,0.0006634335339114052,0.0006634335339114052,0.0006634335339114052,0.0006634335339114052,0.0006634335339114052,0.0006642355645005945,0.0006644474123095528,0.0006846126461648,0.0007089131652263915,0.0007089131652263915,0.0007089131652263915,0.0007089131652263915,0.0007089131652263915,0.0007257578726585237,0.0007257578726585237,0.0007307163943530237,0.0007311277645768598,0.0007311277645768598,0.0007311277645768598,0.0007314379338341244,0.0007335465508641178,0.0007938902208602596,0.0007938902208602596,0.0008039813154742284,0.0008294969101240098,0.0008531185749507324,0.0008572212316554657,0.0008591212907438273,0.0008748829844008363,0.0008899409969119047,0.0008899409969119047,0.0009018027036045053,0.0009125586318920991,0.0009177342975661686,0.0009315670821455853,0.0009315670821455853,0.0009315670821455853,0.0009315670821455853,0.0009315670821455853,0.000961917679085024,0.0009901872444079175,0.0009981932701809725,0.0010008807750820723,0.0010008807750820723,0.0010062791820962809,0.001017356094980365,0.001017356094980365,0.001017356094980365,0.001017356094980365,0.001017356094980365,0.001017356094980365,0.001017356094980365,0.0010264938051098862,0.0011773986554107355,0.0011773986554107355,0.0011776343680813981,0.0011976191331632715,0.0012179822905374956,0.0012302090125112257,0.001254390366281987,0.001254390366281987,0.0012854296548621376,0.0013256445946841651,0.0013256445946841651,0.0013383297644539614,0.0013855980934170233,0.0014054023666975855,0.0014054023666975855,0.0014544608313698112,0.0014628865677755345,0.0014628865677755345,0.001502765087761481,0.0015526503741887404,0.0015921792156925183,0.001604157977477622,0.001604157977477622,0.0016463344363774057,0.00167117884956048,0.0017152952880838436,0.001837424665588711,0.001837424665588711,0.001837424665588711,0.0018643499011894553,0.0018643499011894553,0.0019066503965832825,0.002085723224528105,0.0021192726656211586,0.0021192726656211586,0.0021355201059217975,0.0021380313007782433,0.002185123678000175,0.0021917327839389824,0.002407666008571291,0.002407666008571291,0.002407666008571291,0.002407666008571291,0.002407666008571291,0.0024128362890577875,0.0024128362890577875,0.0024128362890577875,0.0024128362890577875,0.0024128362890577875,0.0024128362890577875,0.0024128362890577875,0.0025433643623785545,0.002579646588417387,0.0028202380280895707,0.002823662289990117,0.0030446034404018876,0.0034781398907864076,0.0036026948157221604,0.0036026948157221604,0.0036026948157221604,0.0038134462113411888,0.0038134462113411888,0.0038593647485623862,0.00418007774944614,0.004231729507849859,0.004700352526439483,0.004700352526439483,0.005297171310520182,0.005465078150617554,0.005465078150617554,0.005822416302765648,0.007450454477723141,0.007950389569088886,0.010594342621040365,0.0121580547112462,0.030184123151222455],\"yaxis\":\"y\",\"type\":\"scatter\"}],                        {\"template\":{\"data\":{\"histogram2dcontour\":[{\"type\":\"histogram2dcontour\",\"colorbar\":{\"outlinewidth\":0,\"ticks\":\"\"},\"colorscale\":[[0.0,\"#0d0887\"],[0.1111111111111111,\"#46039f\"],[0.2222222222222222,\"#7201a8\"],[0.3333333333333333,\"#9c179e\"],[0.4444444444444444,\"#bd3786\"],[0.5555555555555556,\"#d8576b\"],[0.6666666666666666,\"#ed7953\"],[0.7777777777777778,\"#fb9f3a\"],[0.8888888888888888,\"#fdca26\"],[1.0,\"#f0f921\"]]}],\"choropleth\":[{\"type\":\"choropleth\",\"colorbar\":{\"outlinewidth\":0,\"ticks\":\"\"}}],\"histogram2d\":[{\"type\":\"histogram2d\",\"colorbar\":{\"outlinewidth\":0,\"ticks\":\"\"},\"colorscale\":[[0.0,\"#0d0887\"],[0.1111111111111111,\"#46039f\"],[0.2222222222222222,\"#7201a8\"],[0.3333333333333333,\"#9c179e\"],[0.4444444444444444,\"#bd3786\"],[0.5555555555555556,\"#d8576b\"],[0.6666666666666666,\"#ed7953\"],[0.7777777777777778,\"#fb9f3a\"],[0.8888888888888888,\"#fdca26\"],[1.0,\"#f0f921\"]]}],\"heatmap\":[{\"type\":\"heatmap\",\"colorbar\":{\"outlinewidth\":0,\"ticks\":\"\"},\"colorscale\":[[0.0,\"#0d0887\"],[0.1111111111111111,\"#46039f\"],[0.2222222222222222,\"#7201a8\"],[0.3333333333333333,\"#9c179e\"],[0.4444444444444444,\"#bd3786\"],[0.5555555555555556,\"#d8576b\"],[0.6666666666666666,\"#ed7953\"],[0.7777777777777778,\"#fb9f3a\"],[0.8888888888888888,\"#fdca26\"],[1.0,\"#f0f921\"]]}],\"heatmapgl\":[{\"type\":\"heatmapgl\",\"colorbar\":{\"outlinewidth\":0,\"ticks\":\"\"},\"colorscale\":[[0.0,\"#0d0887\"],[0.1111111111111111,\"#46039f\"],[0.2222222222222222,\"#7201a8\"],[0.3333333333333333,\"#9c179e\"],[0.4444444444444444,\"#bd3786\"],[0.5555555555555556,\"#d8576b\"],[0.6666666666666666,\"#ed7953\"],[0.7777777777777778,\"#fb9f3a\"],[0.8888888888888888,\"#fdca26\"],[1.0,\"#f0f921\"]]}],\"contourcarpet\":[{\"type\":\"contourcarpet\",\"colorbar\":{\"outlinewidth\":0,\"ticks\":\"\"}}],\"contour\":[{\"type\":\"contour\",\"colorbar\":{\"outlinewidth\":0,\"ticks\":\"\"},\"colorscale\":[[0.0,\"#0d0887\"],[0.1111111111111111,\"#46039f\"],[0.2222222222222222,\"#7201a8\"],[0.3333333333333333,\"#9c179e\"],[0.4444444444444444,\"#bd3786\"],[0.5555555555555556,\"#d8576b\"],[0.6666666666666666,\"#ed7953\"],[0.7777777777777778,\"#fb9f3a\"],[0.8888888888888888,\"#fdca26\"],[1.0,\"#f0f921\"]]}],\"surface\":[{\"type\":\"surface\",\"colorbar\":{\"outlinewidth\":0,\"ticks\":\"\"},\"colorscale\":[[0.0,\"#0d0887\"],[0.1111111111111111,\"#46039f\"],[0.2222222222222222,\"#7201a8\"],[0.3333333333333333,\"#9c179e\"],[0.4444444444444444,\"#bd3786\"],[0.5555555555555556,\"#d8576b\"],[0.6666666666666666,\"#ed7953\"],[0.7777777777777778,\"#fb9f3a\"],[0.8888888888888888,\"#fdca26\"],[1.0,\"#f0f921\"]]}],\"mesh3d\":[{\"type\":\"mesh3d\",\"colorbar\":{\"outlinewidth\":0,\"ticks\":\"\"}}],\"scatter\":[{\"fillpattern\":{\"fillmode\":\"overlay\",\"size\":10,\"solidity\":0.2},\"type\":\"scatter\"}],\"parcoords\":[{\"type\":\"parcoords\",\"line\":{\"colorbar\":{\"outlinewidth\":0,\"ticks\":\"\"}}}],\"scatterpolargl\":[{\"type\":\"scatterpolargl\",\"marker\":{\"colorbar\":{\"outlinewidth\":0,\"ticks\":\"\"}}}],\"bar\":[{\"error_x\":{\"color\":\"#2a3f5f\"},\"error_y\":{\"color\":\"#2a3f5f\"},\"marker\":{\"line\":{\"color\":\"#E5ECF6\",\"width\":0.5},\"pattern\":{\"fillmode\":\"overlay\",\"size\":10,\"solidity\":0.2}},\"type\":\"bar\"}],\"scattergeo\":[{\"type\":\"scattergeo\",\"marker\":{\"colorbar\":{\"outlinewidth\":0,\"ticks\":\"\"}}}],\"scatterpolar\":[{\"type\":\"scatterpolar\",\"marker\":{\"colorbar\":{\"outlinewidth\":0,\"ticks\":\"\"}}}],\"histogram\":[{\"marker\":{\"pattern\":{\"fillmode\":\"overlay\",\"size\":10,\"solidity\":0.2}},\"type\":\"histogram\"}],\"scattergl\":[{\"type\":\"scattergl\",\"marker\":{\"colorbar\":{\"outlinewidth\":0,\"ticks\":\"\"}}}],\"scatter3d\":[{\"type\":\"scatter3d\",\"line\":{\"colorbar\":{\"outlinewidth\":0,\"ticks\":\"\"}},\"marker\":{\"colorbar\":{\"outlinewidth\":0,\"ticks\":\"\"}}}],\"scattermapbox\":[{\"type\":\"scattermapbox\",\"marker\":{\"colorbar\":{\"outlinewidth\":0,\"ticks\":\"\"}}}],\"scatterternary\":[{\"type\":\"scatterternary\",\"marker\":{\"colorbar\":{\"outlinewidth\":0,\"ticks\":\"\"}}}],\"scattercarpet\":[{\"type\":\"scattercarpet\",\"marker\":{\"colorbar\":{\"outlinewidth\":0,\"ticks\":\"\"}}}],\"carpet\":[{\"aaxis\":{\"endlinecolor\":\"#2a3f5f\",\"gridcolor\":\"white\",\"linecolor\":\"white\",\"minorgridcolor\":\"white\",\"startlinecolor\":\"#2a3f5f\"},\"baxis\":{\"endlinecolor\":\"#2a3f5f\",\"gridcolor\":\"white\",\"linecolor\":\"white\",\"minorgridcolor\":\"white\",\"startlinecolor\":\"#2a3f5f\"},\"type\":\"carpet\"}],\"table\":[{\"cells\":{\"fill\":{\"color\":\"#EBF0F8\"},\"line\":{\"color\":\"white\"}},\"header\":{\"fill\":{\"color\":\"#C8D4E3\"},\"line\":{\"color\":\"white\"}},\"type\":\"table\"}],\"barpolar\":[{\"marker\":{\"line\":{\"color\":\"#E5ECF6\",\"width\":0.5},\"pattern\":{\"fillmode\":\"overlay\",\"size\":10,\"solidity\":0.2}},\"type\":\"barpolar\"}],\"pie\":[{\"automargin\":true,\"type\":\"pie\"}]},\"layout\":{\"autotypenumbers\":\"strict\",\"colorway\":[\"#636efa\",\"#EF553B\",\"#00cc96\",\"#ab63fa\",\"#FFA15A\",\"#19d3f3\",\"#FF6692\",\"#B6E880\",\"#FF97FF\",\"#FECB52\"],\"font\":{\"color\":\"#2a3f5f\"},\"hovermode\":\"closest\",\"hoverlabel\":{\"align\":\"left\"},\"paper_bgcolor\":\"white\",\"plot_bgcolor\":\"#E5ECF6\",\"polar\":{\"bgcolor\":\"#E5ECF6\",\"angularaxis\":{\"gridcolor\":\"white\",\"linecolor\":\"white\",\"ticks\":\"\"},\"radialaxis\":{\"gridcolor\":\"white\",\"linecolor\":\"white\",\"ticks\":\"\"}},\"ternary\":{\"bgcolor\":\"#E5ECF6\",\"aaxis\":{\"gridcolor\":\"white\",\"linecolor\":\"white\",\"ticks\":\"\"},\"baxis\":{\"gridcolor\":\"white\",\"linecolor\":\"white\",\"ticks\":\"\"},\"caxis\":{\"gridcolor\":\"white\",\"linecolor\":\"white\",\"ticks\":\"\"}},\"coloraxis\":{\"colorbar\":{\"outlinewidth\":0,\"ticks\":\"\"}},\"colorscale\":{\"sequential\":[[0.0,\"#0d0887\"],[0.1111111111111111,\"#46039f\"],[0.2222222222222222,\"#7201a8\"],[0.3333333333333333,\"#9c179e\"],[0.4444444444444444,\"#bd3786\"],[0.5555555555555556,\"#d8576b\"],[0.6666666666666666,\"#ed7953\"],[0.7777777777777778,\"#fb9f3a\"],[0.8888888888888888,\"#fdca26\"],[1.0,\"#f0f921\"]],\"sequentialminus\":[[0.0,\"#0d0887\"],[0.1111111111111111,\"#46039f\"],[0.2222222222222222,\"#7201a8\"],[0.3333333333333333,\"#9c179e\"],[0.4444444444444444,\"#bd3786\"],[0.5555555555555556,\"#d8576b\"],[0.6666666666666666,\"#ed7953\"],[0.7777777777777778,\"#fb9f3a\"],[0.8888888888888888,\"#fdca26\"],[1.0,\"#f0f921\"]],\"diverging\":[[0,\"#8e0152\"],[0.1,\"#c51b7d\"],[0.2,\"#de77ae\"],[0.3,\"#f1b6da\"],[0.4,\"#fde0ef\"],[0.5,\"#f7f7f7\"],[0.6,\"#e6f5d0\"],[0.7,\"#b8e186\"],[0.8,\"#7fbc41\"],[0.9,\"#4d9221\"],[1,\"#276419\"]]},\"xaxis\":{\"gridcolor\":\"white\",\"linecolor\":\"white\",\"ticks\":\"\",\"title\":{\"standoff\":15},\"zerolinecolor\":\"white\",\"automargin\":true,\"zerolinewidth\":2},\"yaxis\":{\"gridcolor\":\"white\",\"linecolor\":\"white\",\"ticks\":\"\",\"title\":{\"standoff\":15},\"zerolinecolor\":\"white\",\"automargin\":true,\"zerolinewidth\":2},\"scene\":{\"xaxis\":{\"backgroundcolor\":\"#E5ECF6\",\"gridcolor\":\"white\",\"linecolor\":\"white\",\"showbackground\":true,\"ticks\":\"\",\"zerolinecolor\":\"white\",\"gridwidth\":2},\"yaxis\":{\"backgroundcolor\":\"#E5ECF6\",\"gridcolor\":\"white\",\"linecolor\":\"white\",\"showbackground\":true,\"ticks\":\"\",\"zerolinecolor\":\"white\",\"gridwidth\":2},\"zaxis\":{\"backgroundcolor\":\"#E5ECF6\",\"gridcolor\":\"white\",\"linecolor\":\"white\",\"showbackground\":true,\"ticks\":\"\",\"zerolinecolor\":\"white\",\"gridwidth\":2}},\"shapedefaults\":{\"line\":{\"color\":\"#2a3f5f\"}},\"annotationdefaults\":{\"arrowcolor\":\"#2a3f5f\",\"arrowhead\":0,\"arrowwidth\":1},\"geo\":{\"bgcolor\":\"white\",\"landcolor\":\"#E5ECF6\",\"subunitcolor\":\"white\",\"showland\":true,\"showlakes\":true,\"lakecolor\":\"white\"},\"title\":{\"x\":0.05},\"mapbox\":{\"style\":\"light\"}}},\"xaxis\":{\"anchor\":\"y\",\"domain\":[0.0,1.0],\"title\":{\"text\":\"Parameter count (in millions)\"},\"type\":\"log\"},\"yaxis\":{\"anchor\":\"x\",\"domain\":[0.0,1.0],\"title\":{\"text\":\"secs (how many seconds it takes to process one image)\"},\"type\":\"log\"},\"coloraxis\":{\"colorbar\":{\"title\":{\"text\":\"infer_img_size\"}},\"colorscale\":[[0.0,\"#0d0887\"],[0.1111111111111111,\"#46039f\"],[0.2222222222222222,\"#7201a8\"],[0.3333333333333333,\"#9c179e\"],[0.4444444444444444,\"#bd3786\"],[0.5555555555555556,\"#d8576b\"],[0.6666666666666666,\"#ed7953\"],[0.7777777777777778,\"#fb9f3a\"],[0.8888888888888888,\"#fdca26\"],[1.0,\"#f0f921\"]]},\"legend\":{\"tracegroupgap\":0},\"margin\":{\"t\":60},\"height\":800,\"width\":1000,\"title\":{\"text\":\"Speed vs. Parameter count\"}},                        {\"responsive\": true}                    ).then(function(){\n",
       "                            \n",
       "var gd = document.getElementById('648e61bf-c2de-4770-98ed-1834fa2424af');\n",
       "var x = new MutationObserver(function (mutations, observer) {{\n",
       "        var display = window.getComputedStyle(gd).display;\n",
       "        if (!display || display === 'none') {{\n",
       "            console.log([gd, 'removed!']);\n",
       "            Plotly.purge(gd);\n",
       "            observer.disconnect();\n",
       "        }}\n",
       "}});\n",
       "\n",
       "// Listen for the removal of the full notebook cells\n",
       "var notebookContainer = gd.closest('#notebook-container');\n",
       "if (notebookContainer) {{\n",
       "    x.observe(notebookContainer, {childList: true});\n",
       "}}\n",
       "\n",
       "// Listen for the clearing of the current output cell\n",
       "var outputEl = gd.closest('.output');\n",
       "if (outputEl) {{\n",
       "    x.observe(outputEl, {childList: true});\n",
       "}}\n",
       "\n",
       "                        })                };                });            </script>        </div>"
      ]
     },
     "metadata": {},
     "output_type": "display_data"
    }
   ],
   "source": [
    "fig = px.scatter(df, width=w, height=h,\n",
    "    x='param_count_x',  y='secs', log_x=True, log_y=True, color='infer_img_size',\n",
    "    hover_name='model', hover_data=['infer_samples_per_sec', 'family']\n",
    ")\n",
    "\n",
    "fig.update_xaxes(title_text='Parameter count (in millions)')\n",
    "fig.update_yaxes(title_text='secs (how many seconds it takes to process one image)')\n",
    "\n",
    "fig.update_layout(\n",
    "    title=\"Speed vs. Parameter count\",\n",
    ")"
   ]
  },
  {
   "cell_type": "markdown",
   "metadata": {},
   "source": [
    "## Training results"
   ]
  },
  {
   "cell_type": "markdown",
   "metadata": {},
   "source": [
    "We'll now replicate the above analysis for training performance. First we grab the data:"
   ]
  },
  {
   "cell_type": "code",
   "execution_count": 49,
   "metadata": {
    "ExecuteTime": {
     "end_time": "2023-12-08T03:12:26.919883Z",
     "start_time": "2023-12-08T03:12:26.895877Z"
    },
    "execution": {
     "iopub.execute_input": "2023-06-10T09:02:05.746219Z",
     "iopub.status.busy": "2023-06-10T09:02:05.745862Z",
     "iopub.status.idle": "2023-06-10T09:02:05.779506Z",
     "shell.execute_reply": "2023-06-10T09:02:05.778286Z",
     "shell.execute_reply.started": "2023-06-10T09:02:05.746176Z"
    }
   },
   "outputs": [],
   "source": [
    "tdf = get_data('train', 'train_samples_per_sec')"
   ]
  },
  {
   "cell_type": "markdown",
   "metadata": {},
   "source": [
    "Now we can repeat the same *family* plot we did above:"
   ]
  },
  {
   "cell_type": "code",
   "execution_count": 50,
   "metadata": {
    "ExecuteTime": {
     "end_time": "2023-12-08T03:12:27.754123Z",
     "start_time": "2023-12-08T03:12:27.651551Z"
    },
    "execution": {
     "iopub.execute_input": "2023-06-10T09:02:05.781341Z",
     "iopub.status.busy": "2023-06-10T09:02:05.781024Z",
     "iopub.status.idle": "2023-06-10T09:02:06.045794Z",
     "shell.execute_reply": "2023-06-10T09:02:06.044799Z",
     "shell.execute_reply.started": "2023-06-10T09:02:05.7813Z"
    }
   },
   "outputs": [
    {
     "data": {
      "application/vnd.plotly.v1+json": {
       "config": {
        "plotlyServerURL": "https://plot.ly"
       },
       "data": [
        {
         "customdata": [
          [
           224
          ],
          [
           224
          ],
          [
           224
          ],
          [
           224
          ],
          [
           224
          ]
         ],
         "hovertemplate": "<b>%{hovertext}</b><br><br>family=levit<br>secs=%{x}<br>top1=%{y}<br>size=%{marker.size}<br>train_img_size=%{customdata[0]}<extra></extra>",
         "hovertext": [
          "levit_128s",
          "levit_128",
          "levit_192",
          "levit_256",
          "levit_384"
         ],
         "legendgroup": "levit",
         "marker": {
          "color": "#636efa",
          "size": [
           50176,
           50176,
           50176,
           50176,
           50176
          ],
          "sizemode": "area",
          "sizeref": 655.36,
          "symbol": "circle"
         },
         "mode": "markers",
         "name": "levit",
         "orientation": "v",
         "showlegend": true,
         "type": "scatter",
         "x": [
          0.00015865108501477042,
          0.00022550151537018326,
          0.00026151037934695625,
          0.000342053415061296,
          0.0005556697765651828
         ],
         "xaxis": "x",
         "y": [
          76.526,
          78.49,
          79.838,
          81.514,
          82.596
         ],
         "yaxis": "y"
        },
        {
         "customdata": [
          [
           224
          ],
          [
           224
          ],
          [
           224
          ],
          [
           224
          ],
          [
           224
          ],
          [
           224
          ],
          [
           384
          ],
          [
           384
          ],
          [
           224
          ],
          [
           224
          ],
          [
           224
          ],
          [
           384
          ],
          [
           384
          ],
          [
           384
          ],
          [
           224
          ],
          [
           224
          ],
          [
           224
          ],
          [
           224
          ],
          [
           224
          ],
          [
           224
          ],
          [
           384
          ],
          [
           384
          ],
          [
           224
          ],
          [
           384
          ],
          [
           384
          ],
          [
           224
          ],
          [
           384
          ],
          [
           384
          ],
          [
           384
          ],
          [
           384
          ],
          [
           224
          ],
          [
           224
          ],
          [
           384
          ],
          [
           384
          ]
         ],
         "hovertemplate": "<b>%{hovertext}</b><br><br>family=vit<br>secs=%{x}<br>top1=%{y}<br>size=%{marker.size}<br>train_img_size=%{customdata[0]}<extra></extra>",
         "hovertext": [
          "vit_small_patch32_224",
          "vit_tiny_r_s16_p8_224",
          "vit_tiny_patch16_224",
          "vit_base_patch32_224",
          "vit_base_patch32_224",
          "vit_base_patch32_224",
          "vit_small_patch32_384",
          "vit_tiny_r_s16_p8_384",
          "vit_small_patch16_224",
          "vit_small_patch16_224",
          "vit_small_r26_s32_224",
          "vit_base_patch32_384",
          "vit_base_patch32_384",
          "vit_tiny_patch16_384",
          "vit_base_patch16_224_miil",
          "vit_base_patch16_224",
          "vit_base_patch16_224",
          "vit_base_patch16_224",
          "vit_base_patch16_224",
          "vit_base_patch16_224",
          "vit_small_patch16_384",
          "vit_small_patch16_384",
          "vit_large_r50_s32_224",
          "vit_small_r26_s32_384",
          "vit_large_patch32_384",
          "vit_large_patch16_224",
          "vit_base_patch16_384",
          "vit_base_patch16_384",
          "vit_base_patch16_384",
          "vit_large_r50_s32_384",
          "vit_base_patch8_224",
          "vit_base_patch8_224",
          "vit_base_r50_s16_384",
          "vit_large_patch16_384"
         ],
         "legendgroup": "vit",
         "marker": {
          "color": "#EF553B",
          "size": [
           50176,
           50176,
           50176,
           50176,
           50176,
           50176,
           147456,
           147456,
           50176,
           50176,
           50176,
           147456,
           147456,
           147456,
           50176,
           50176,
           50176,
           50176,
           50176,
           50176,
           147456,
           147456,
           50176,
           147456,
           147456,
           50176,
           147456,
           147456,
           147456,
           147456,
           50176,
           50176,
           147456,
           147456
          ],
          "sizemode": "area",
          "sizeref": 655.36,
          "symbol": "circle"
         },
         "mode": "markers",
         "name": "vit",
         "orientation": "v",
         "showlegend": true,
         "type": "scatter",
         "x": [
          0.00023073053903268528,
          0.00025923592802573695,
          0.0004485431319075642,
          0.0006199781767681778,
          0.0006199781767681778,
          0.0006199781767681778,
          0.0007068736392682444,
          0.0008379069085424609,
          0.0009731128908264647,
          0.0009731128908264647,
          0.0014655450361989624,
          0.0019330395113276114,
          0.0019330395113276114,
          0.001984363217843394,
          0.002551866690484089,
          0.002595851828777613,
          0.002595851828777613,
          0.002595851828777613,
          0.002595851828777613,
          0.002595851828777613,
          0.004245923913043478,
          0.004245923913043478,
          0.004369101712687872,
          0.004516507836141096,
          0.0061793239819563734,
          0.008666262241095415,
          0.010450412791305257,
          0.010450412791305257,
          0.010450412791305257,
          0.013199577613516367,
          0.01588310038119441,
          0.01588310038119441,
          0.016992353440951572,
          0.03466204506065858
         ],
         "xaxis": "x",
         "y": [
          75.994,
          71.798,
          75.454,
          80.716,
          74.894,
          73.694,
          80.486,
          75.962,
          81.384,
          78.846,
          81.864,
          83.35,
          78.752,
          78.424,
          84.266,
          85.096,
          84.532,
          81.786,
          80.244,
          79.154,
          83.802,
          81.116,
          84.422,
          84.048,
          81.51,
          85.834,
          85.996,
          84.2,
          81.102,
          86.182,
          86.218,
          85.798,
          84.976,
          87.084
         ],
         "yaxis": "y"
        },
        {
         "customdata": [
          [
           224
          ],
          [
           224
          ],
          [
           224
          ],
          [
           224
          ],
          [
           224
          ],
          [
           224
          ],
          [
           224
          ],
          [
           224
          ],
          [
           224
          ],
          [
           224
          ],
          [
           224
          ],
          [
           224
          ],
          [
           224
          ],
          [
           256
          ],
          [
           224
          ],
          [
           224
          ],
          [
           224
          ],
          [
           224
          ],
          [
           224
          ],
          [
           224
          ],
          [
           224
          ],
          [
           224
          ],
          [
           224
          ],
          [
           224
          ],
          [
           224
          ],
          [
           224
          ],
          [
           224
          ],
          [
           224
          ],
          [
           224
          ],
          [
           224
          ],
          [
           224
          ],
          [
           224
          ],
          [
           256
          ],
          [
           256
          ],
          [
           224
          ],
          [
           224
          ],
          [
           224
          ],
          [
           224
          ],
          [
           224
          ],
          [
           224
          ],
          [
           224
          ],
          [
           224
          ],
          [
           224
          ],
          [
           224
          ],
          [
           224
          ],
          [
           224
          ],
          [
           224
          ],
          [
           224
          ],
          [
           288
          ],
          [
           288
          ]
         ],
         "hovertemplate": "<b>%{hovertext}</b><br><br>family=resnet<br>secs=%{x}<br>top1=%{y}<br>size=%{marker.size}<br>train_img_size=%{customdata[0]}<extra></extra>",
         "hovertext": [
          "resnet18",
          "resnet18",
          "resnet18",
          "resnet18",
          "resnet18",
          "resnet18",
          "resnet18",
          "resnet34",
          "resnet34",
          "resnet34",
          "resnet34",
          "resnet34",
          "resnet26",
          "resnet26t",
          "resnet50",
          "resnet50",
          "resnet50",
          "resnet50",
          "resnet50",
          "resnet50",
          "resnet50",
          "resnet50",
          "resnet50",
          "resnet50",
          "resnet50",
          "resnet50",
          "resnet50",
          "resnet50",
          "resnet50",
          "resnet50",
          "resnet50",
          "resnet50",
          "resnet32ts",
          "resnet33ts",
          "resnet101",
          "resnet101",
          "resnet101",
          "resnet101",
          "resnet101",
          "resnet101",
          "resnet101",
          "resnet152",
          "resnet152",
          "resnet152",
          "resnet152",
          "resnet152",
          "resnet152",
          "resnet152",
          "resnet51q",
          "resnet61q"
         ],
         "legendgroup": "resnet",
         "marker": {
          "color": "#00cc96",
          "size": [
           50176,
           50176,
           50176,
           50176,
           50176,
           50176,
           50176,
           50176,
           50176,
           50176,
           50176,
           50176,
           50176,
           65536,
           50176,
           50176,
           50176,
           50176,
           50176,
           50176,
           50176,
           50176,
           50176,
           50176,
           50176,
           50176,
           50176,
           50176,
           50176,
           50176,
           50176,
           50176,
           65536,
           65536,
           50176,
           50176,
           50176,
           50176,
           50176,
           50176,
           50176,
           50176,
           50176,
           50176,
           50176,
           50176,
           50176,
           50176,
           82944,
           82944
          ],
          "sizemode": "area",
          "sizeref": 655.36,
          "symbol": "circle"
         },
         "mode": "markers",
         "name": "resnet",
         "orientation": "v",
         "showlegend": true,
         "type": "scatter",
         "x": [
          0.000279003066243698,
          0.000279003066243698,
          0.000279003066243698,
          0.000279003066243698,
          0.000279003066243698,
          0.000279003066243698,
          0.000279003066243698,
          0.0004805543675183692,
          0.0004805543675183692,
          0.0004805543675183692,
          0.0004805543675183692,
          0.0004805543675183692,
          0.0005087349795997273,
          0.000814431730260211,
          0.0008179223137386412,
          0.0008179223137386412,
          0.0008179223137386412,
          0.0008179223137386412,
          0.0008179223137386412,
          0.0008179223137386412,
          0.0008179223137386412,
          0.0008179223137386412,
          0.0008179223137386412,
          0.0008179223137386412,
          0.0008179223137386412,
          0.0008179223137386412,
          0.0008179223137386412,
          0.0008179223137386412,
          0.0008179223137386412,
          0.0008179223137386412,
          0.0008179223137386412,
          0.0008179223137386412,
          0.0009786938352075321,
          0.0009906973518659784,
          0.0013745704467353953,
          0.0013745704467353953,
          0.0013745704467353953,
          0.0013745704467353953,
          0.0013745704467353953,
          0.0013745704467353953,
          0.0013745704467353953,
          0.0020006802312786346,
          0.0020006802312786346,
          0.0020006802312786346,
          0.0020006802312786346,
          0.0020006802312786346,
          0.0020006802312786346,
          0.0020006802312786346,
          0.0035980282805022847,
          0.004809773459670049
         ],
         "xaxis": "x",
         "y": [
          73.282,
          73.158,
          72.594,
          72.372,
          70.838,
          69.76,
          68.254,
          77.918,
          77.158,
          76.48,
          74.578,
          72.97,
          76.366,
          78.332,
          81.214,
          81.182,
          80.972,
          80.912,
          80.87,
          80.85,
          80.772,
          80.706,
          80.676,
          80.454,
          79.976,
          79.836,
          79.64,
          79.234,
          78.998,
          78.048,
          77.58,
          76.13,
          79.392,
          79.726,
          82.778,
          82.322,
          82.236,
          81.89,
          79.814,
          79.31,
          77.376,
          83.45,
          82.732,
          82.608,
          82.288,
          80.546,
          79.694,
          78.322,
          82.36,
          82.524
         ],
         "yaxis": "y"
        },
        {
         "customdata": [
          [
           224
          ],
          [
           224
          ],
          [
           224
          ],
          [
           224
          ],
          [
           224
          ],
          [
           224
          ],
          [
           224
          ],
          [
           224
          ],
          [
           320
          ],
          [
           320
          ],
          [
           320
          ],
          [
           320
          ],
          [
           320
          ]
         ],
         "hovertemplate": "<b>%{hovertext}</b><br><br>family=resnetd<br>secs=%{x}<br>top1=%{y}<br>size=%{marker.size}<br>train_img_size=%{customdata[0]}<extra></extra>",
         "hovertext": [
          "resnet18d",
          "resnet34d",
          "resnet26d",
          "resnet50d",
          "resnet50d",
          "resnet50d",
          "resnet50d",
          "resnet50d",
          "resnet101d",
          "resnet101d",
          "resnet152d",
          "resnet152d",
          "resnet200d"
         ],
         "legendgroup": "resnetd",
         "marker": {
          "color": "#ab63fa",
          "size": [
           50176,
           50176,
           50176,
           50176,
           50176,
           50176,
           50176,
           50176,
           102400,
           102400,
           102400,
           102400,
           102400
          ],
          "sizemode": "area",
          "sizeref": 655.36,
          "symbol": "circle"
         },
         "mode": "markers",
         "name": "resnetd",
         "orientation": "v",
         "showlegend": true,
         "type": "scatter",
         "x": [
          0.0003533543932551713,
          0.0005558550996926121,
          0.0006213611537433903,
          0.0009343960531110716,
          0.0009343960531110716,
          0.0009343960531110716,
          0.0009343960531110716,
          0.0009343960531110716,
          0.003054274457102715,
          0.003054274457102715,
          0.0046277014207043365,
          0.0046277014207043365,
          0.006017209218364523
         ],
         "xaxis": "x",
         "y": [
          73.794,
          78.436,
          77.408,
          81.45,
          81.356,
          81.164,
          79.078,
          78.722,
          83.016,
          80.426,
          83.684,
          80.476,
          83.964
         ],
         "yaxis": "y"
        },
        {
         "customdata": [
          [
           224
          ],
          [
           224
          ],
          [
           224
          ],
          [
           224
          ],
          [
           224
          ],
          [
           224
          ],
          [
           224
          ],
          [
           224
          ],
          [
           224
          ],
          [
           224
          ],
          [
           224
          ],
          [
           224
          ],
          [
           224
          ],
          [
           224
          ],
          [
           224
          ],
          [
           224
          ],
          [
           224
          ],
          [
           224
          ]
         ],
         "hovertemplate": "<b>%{hovertext}</b><br><br>family=regnetx<br>secs=%{x}<br>top1=%{y}<br>size=%{marker.size}<br>train_img_size=%{customdata[0]}<extra></extra>",
         "hovertext": [
          "regnetx_002",
          "regnetx_004",
          "regnetx_006",
          "regnetx_008",
          "regnetx_008",
          "regnetx_016",
          "regnetx_016",
          "regnetx_032",
          "regnetx_032",
          "regnetx_040",
          "regnetx_080",
          "regnetx_080",
          "regnetx_064",
          "regnetx_120",
          "regnetx_160",
          "regnetx_160",
          "regnetx_320",
          "regnetx_320"
         ],
         "legendgroup": "regnetx",
         "marker": {
          "color": "#FFA15A",
          "size": [
           50176,
           50176,
           50176,
           50176,
           50176,
           50176,
           50176,
           50176,
           50176,
           50176,
           50176,
           50176,
           50176,
           50176,
           50176,
           50176,
           50176,
           50176
          ],
          "sizemode": "area",
          "sizeref": 655.36,
          "symbol": "circle"
         },
         "mode": "markers",
         "name": "regnetx",
         "orientation": "v",
         "showlegend": true,
         "type": "scatter",
         "x": [
          0.0004215904922912179,
          0.0008689456213830139,
          0.0012649261283141065,
          0.001689760054072322,
          0.001689760054072322,
          0.002637061258933045,
          0.002637061258933045,
          0.005628095452498874,
          0.005628095452498874,
          0.006177796997590659,
          0.0066657778962804955,
          0.0066657778962804955,
          0.008056070248932571,
          0.012896569512509672,
          0.015382248884786955,
          0.015382248884786955,
          0.021663778162911613,
          0.021663778162911613
         ],
         "xaxis": "x",
         "y": [
          68.746,
          72.398,
          73.868,
          77.304,
          75.03,
          79.436,
          76.924,
          80.926,
          78.168,
          78.492,
          81.538,
          79.202,
          79.066,
          79.588,
          82.566,
          79.866,
          82.81,
          80.246
         ],
         "yaxis": "y"
        },
        {
         "customdata": [
          [
           224
          ],
          [
           224
          ],
          [
           224
          ],
          [
           224
          ],
          [
           224
          ],
          [
           224
          ],
          [
           224
          ],
          [
           288
          ],
          [
           288
          ],
          [
           288
          ],
          [
           288
          ],
          [
           288
          ],
          [
           224
          ],
          [
           224
          ],
          [
           288
          ],
          [
           288
          ],
          [
           224
          ],
          [
           224
          ],
          [
           224
          ],
          [
           224
          ],
          [
           224
          ],
          [
           288
          ],
          [
           288
          ],
          [
           288
          ],
          [
           288
          ],
          [
           288
          ],
          [
           288
          ],
          [
           288
          ],
          [
           288
          ],
          [
           288
          ]
         ],
         "hovertemplate": "<b>%{hovertext}</b><br><br>family=regnety<br>secs=%{x}<br>top1=%{y}<br>size=%{marker.size}<br>train_img_size=%{customdata[0]}<extra></extra>",
         "hovertext": [
          "regnety_002",
          "regnety_004",
          "regnety_004",
          "regnety_006",
          "regnety_008",
          "regnety_016",
          "regnety_016",
          "regnety_032",
          "regnety_032",
          "regnety_032",
          "regnety_040",
          "regnety_040",
          "regnety_120",
          "regnety_120",
          "regnety_064",
          "regnety_064",
          "regnety_320",
          "regnety_320",
          "regnety_320",
          "regnety_320",
          "regnety_320",
          "regnety_080",
          "regnety_080",
          "regnety_160",
          "regnety_160",
          "regnety_160",
          "regnety_160",
          "regnety_160",
          "regnety_160",
          "regnety_160"
         ],
         "legendgroup": "regnety",
         "marker": {
          "color": "#19d3f3",
          "size": [
           50176,
           50176,
           50176,
           50176,
           50176,
           50176,
           50176,
           82944,
           82944,
           82944,
           82944,
           82944,
           50176,
           50176,
           82944,
           82944,
           50176,
           50176,
           50176,
           50176,
           50176,
           82944,
           82944,
           82944,
           82944,
           82944,
           82944,
           82944,
           82944,
           82944
          ],
          "sizemode": "area",
          "sizeref": 655.36,
          "symbol": "circle"
         },
         "mode": "markers",
         "name": "regnety",
         "orientation": "v",
         "showlegend": true,
         "type": "scatter",
         "x": [
          0.00044342751733801594,
          0.0009734728644439036,
          0.0009734728644439036,
          0.0012694221590332081,
          0.0015109848599317035,
          0.002829975096219153,
          0.002829975096219153,
          0.005617661929105107,
          0.005617661929105107,
          0.005617661929105107,
          0.008316008316008316,
          0.008316008316008316,
          0.013273161667109104,
          0.013273161667109104,
          0.013757050488375293,
          0.013757050488375293,
          0.014817009927396653,
          0.014817009927396653,
          0.014817009927396653,
          0.014817009927396653,
          0.014817009927396653,
          0.015278838808250572,
          0.015278838808250572,
          0.02077274615704196,
          0.02077274615704196,
          0.02077274615704196,
          0.02077274615704196,
          0.02077274615704196,
          0.02077274615704196,
          0.02077274615704196
         ],
         "xaxis": "x",
         "y": [
          70.278,
          75.598,
          74.028,
          75.27,
          76.302,
          80.668,
          77.862,
          82.728,
          81.756,
          78.876,
          83.044,
          79.232,
          85.4,
          80.386,
          83.72,
          79.714,
          86.836,
          84.546,
          83.334,
          83.162,
          80.808,
          83.926,
          79.868,
          86.01,
          85.986,
          85.986,
          83.782,
          83.69,
          82.642,
          80.298
         ],
         "yaxis": "y"
        },
        {
         "customdata": [
          [
           224
          ],
          [
           224
          ],
          [
           224
          ],
          [
           224
          ],
          [
           240
          ],
          [
           240
          ],
          [
           256
          ],
          [
           260
          ],
          [
           288
          ],
          [
           300
          ],
          [
           300
          ],
          [
           300
          ],
          [
           320
          ],
          [
           384
          ],
          [
           456
          ]
         ],
         "hovertemplate": "<b>%{hovertext}</b><br><br>family=efficientnet<br>secs=%{x}<br>top1=%{y}<br>size=%{marker.size}<br>train_img_size=%{customdata[0]}<extra></extra>",
         "hovertext": [
          "efficientnet_lite0",
          "efficientnet_b0",
          "efficientnet_es",
          "efficientnet_es_pruned",
          "efficientnet_b1_pruned",
          "efficientnet_em",
          "efficientnet_b1",
          "efficientnet_b2_pruned",
          "efficientnet_b2",
          "efficientnet_b3_pruned",
          "efficientnet_el",
          "efficientnet_el_pruned",
          "efficientnet_b3",
          "efficientnet_b4",
          "efficientnet_b5"
         ],
         "legendgroup": "efficientnet",
         "marker": {
          "color": "#FF6692",
          "size": [
           50176,
           50176,
           50176,
           50176,
           57600,
           57600,
           65536,
           67600,
           82944,
           90000,
           90000,
           90000,
           102400,
           147456,
           207936
          ],
          "sizemode": "area",
          "sizeref": 655.36,
          "symbol": "circle"
         },
         "mode": "markers",
         "name": "efficientnet",
         "orientation": "v",
         "showlegend": true,
         "type": "scatter",
         "x": [
          0.0004526361529548088,
          0.0005553796853218703,
          0.0006177300890149058,
          0.0006187850773790739,
          0.0007223763291724458,
          0.0010220141855568955,
          0.001047219109654313,
          0.0012109909538975743,
          0.0013808149569876141,
          0.0019251872244575787,
          0.0021957753282684117,
          0.002201091741503786,
          0.0028314174075542214,
          0.004141301196836046,
          0.010279605263157895
         ],
         "xaxis": "x",
         "y": [
          75.48,
          77.694,
          78.054,
          75.014,
          78.242,
          79.24,
          78.8,
          79.92,
          80.61,
          80.852,
          81.312,
          80.3,
          82.242,
          83.414,
          85.892
         ],
         "yaxis": "y"
        },
        {
         "customdata": [
          [
           224
          ],
          [
           224
          ],
          [
           224
          ],
          [
           224
          ],
          [
           224
          ],
          [
           224
          ],
          [
           224
          ],
          [
           224
          ]
         ],
         "hovertemplate": "<b>%{hovertext}</b><br><br>family=repvgg<br>secs=%{x}<br>top1=%{y}<br>size=%{marker.size}<br>train_img_size=%{customdata[0]}<extra></extra>",
         "hovertext": [
          "repvgg_b0",
          "repvgg_a2",
          "repvgg_b1",
          "repvgg_b2",
          "repvgg_b3",
          "repvgg_b1g4",
          "repvgg_b2g4",
          "repvgg_b3g4"
         ],
         "legendgroup": "repvgg",
         "marker": {
          "color": "#B6E880",
          "size": [
           50176,
           50176,
           50176,
           50176,
           50176,
           50176,
           50176,
           50176
          ],
          "sizemode": "area",
          "sizeref": 655.36,
          "symbol": "circle"
         },
         "mode": "markers",
         "name": "repvgg",
         "orientation": "v",
         "showlegend": true,
         "type": "scatter",
         "x": [
          0.0006304573968414084,
          0.0008755494072530513,
          0.0015941081761808359,
          0.0026313712075362473,
          0.003168969451134491,
          0.0056050669805504175,
          0.00977230528681716,
          0.011799410029498525
         ],
         "xaxis": "x",
         "y": [
          75.142,
          76.458,
          78.368,
          78.792,
          80.506,
          77.582,
          79.382,
          80.216
         ],
         "yaxis": "y"
        },
        {
         "customdata": [
          [
           256
          ],
          [
           256
          ],
          [
           256
          ]
         ],
         "hovertemplate": "<b>%{hovertext}</b><br><br>family=mobilevit<br>secs=%{x}<br>top1=%{y}<br>size=%{marker.size}<br>train_img_size=%{customdata[0]}<extra></extra>",
         "hovertext": [
          "mobilevit_xxs",
          "mobilevit_xs",
          "mobilevit_s"
         ],
         "legendgroup": "mobilevit",
         "marker": {
          "color": "#FF97FF",
          "size": [
           65536,
           65536,
           65536
          ],
          "sizemode": "area",
          "sizeref": 655.36,
          "symbol": "circle"
         },
         "mode": "markers",
         "name": "mobilevit",
         "orientation": "v",
         "showlegend": true,
         "type": "scatter",
         "x": [
          0.0006599091964945623,
          0.0010994931336653802,
          0.0013611738763509651
         ],
         "xaxis": "x",
         "y": [
          68.932,
          74.636,
          78.312
         ],
         "yaxis": "y"
        },
        {
         "customdata": [
          [
           240
          ],
          [
           240
          ],
          [
           240
          ],
          [
           240
          ],
          [
           240
          ],
          [
           240
          ],
          [
           240
          ],
          [
           240
          ],
          [
           240
          ],
          [
           408
          ],
          [
           408
          ]
         ],
         "hovertemplate": "<b>%{hovertext}</b><br><br>family=crossvit<br>secs=%{x}<br>top1=%{y}<br>size=%{marker.size}<br>train_img_size=%{customdata[0]}<extra></extra>",
         "hovertext": [
          "crossvit_tiny_240",
          "crossvit_9_240",
          "crossvit_9_dagger_240",
          "crossvit_small_240",
          "crossvit_15_240",
          "crossvit_15_dagger_240",
          "crossvit_18_240",
          "crossvit_18_dagger_240",
          "crossvit_base_240",
          "crossvit_15_dagger_408",
          "crossvit_18_dagger_408"
         ],
         "legendgroup": "crossvit",
         "marker": {
          "color": "#FECB52",
          "size": [
           57600,
           57600,
           57600,
           57600,
           57600,
           57600,
           57600,
           57600,
           57600,
           166464,
           166464
          ],
          "sizemode": "area",
          "sizeref": 655.36,
          "symbol": "circle"
         },
         "mode": "markers",
         "name": "crossvit",
         "orientation": "v",
         "showlegend": true,
         "type": "scatter",
         "x": [
          0.0007573864109730144,
          0.0008087343307723412,
          0.0008364071295343722,
          0.0016024613806807258,
          0.001759138725679907,
          0.0018183140592043056,
          0.0024990628514307135,
          0.002577651759247326,
          0.004000160006400256,
          0.008588851670531649,
          0.011364927832708264
         ],
         "xaxis": "x",
         "y": [
          73.336,
          73.958,
          76.98,
          81.016,
          81.534,
          82.33,
          82.396,
          82.516,
          82.216,
          83.842,
          84.198
         ],
         "yaxis": "y"
        },
        {
         "customdata": [
          [
           224
          ],
          [
           224
          ]
         ],
         "hovertemplate": "<b>%{hovertext}</b><br><br>family=resnetv2<br>secs=%{x}<br>top1=%{y}<br>size=%{marker.size}<br>train_img_size=%{customdata[0]}<extra></extra>",
         "hovertext": [
          "resnetv2_50",
          "resnetv2_101"
         ],
         "legendgroup": "resnetv2",
         "marker": {
          "color": "#636efa",
          "size": [
           50176,
           50176
          ],
          "sizemode": "area",
          "sizeref": 655.36,
          "symbol": "circle"
         },
         "mode": "markers",
         "name": "resnetv2",
         "orientation": "v",
         "showlegend": true,
         "type": "scatter",
         "x": [
          0.0007716049382716049,
          0.0013201494409167118
         ],
         "xaxis": "x",
         "y": [
          81.398,
          83.002
         ],
         "yaxis": "y"
        },
        {
         "customdata": [
          [
           224
          ],
          [
           224
          ],
          [
           224
          ]
         ],
         "hovertemplate": "<b>%{hovertext}</b><br><br>family=convit<br>secs=%{x}<br>top1=%{y}<br>size=%{marker.size}<br>train_img_size=%{customdata[0]}<extra></extra>",
         "hovertext": [
          "convit_tiny",
          "convit_small",
          "convit_base"
         ],
         "legendgroup": "convit",
         "marker": {
          "color": "#EF553B",
          "size": [
           50176,
           50176,
           50176
          ],
          "sizemode": "area",
          "sizeref": 655.36,
          "symbol": "circle"
         },
         "mode": "markers",
         "name": "convit",
         "orientation": "v",
         "showlegend": true,
         "type": "scatter",
         "x": [
          0.0009024537718055393,
          0.0022212843466092097,
          0.004373496610540126
         ],
         "xaxis": "x",
         "y": [
          73.112,
          81.42,
          82.29
         ],
         "yaxis": "y"
        },
        {
         "customdata": [
          [
           224
          ],
          [
           224
          ]
         ],
         "hovertemplate": "<b>%{hovertext}</b><br><br>family=resnetaad<br>secs=%{x}<br>top1=%{y}<br>size=%{marker.size}<br>train_img_size=%{customdata[0]}<extra></extra>",
         "hovertext": [
          "resnetaa50d",
          "resnetaa101d"
         ],
         "legendgroup": "resnetaad",
         "marker": {
          "color": "#00cc96",
          "size": [
           50176,
           50176
          ],
          "sizemode": "area",
          "sizeref": 655.36,
          "symbol": "circle"
         },
         "mode": "markers",
         "name": "resnetaad",
         "orientation": "v",
         "showlegend": true,
         "type": "scatter",
         "x": [
          0.0010616387455676581,
          0.00160970976932859
         ],
         "xaxis": "x",
         "y": [
          82.6,
          84.124
         ],
         "yaxis": "y"
        },
        {
         "customdata": [
          [
           224
          ],
          [
           224
          ],
          [
           224
          ],
          [
           224
          ],
          [
           224
          ],
          [
           224
          ],
          [
           224
          ],
          [
           224
          ]
         ],
         "hovertemplate": "<b>%{hovertext}</b><br><br>family=vgg<br>secs=%{x}<br>top1=%{y}<br>size=%{marker.size}<br>train_img_size=%{customdata[0]}<extra></extra>",
         "hovertext": [
          "vgg11",
          "vgg11_bn",
          "vgg13",
          "vgg13_bn",
          "vgg16",
          "vgg16_bn",
          "vgg19",
          "vgg19_bn"
         ],
         "legendgroup": "vgg",
         "marker": {
          "color": "#ab63fa",
          "size": [
           50176,
           50176,
           50176,
           50176,
           50176,
           50176,
           50176,
           50176
          ],
          "sizemode": "area",
          "sizeref": 655.36,
          "symbol": "circle"
         },
         "mode": "markers",
         "name": "vgg",
         "orientation": "v",
         "showlegend": true,
         "type": "scatter",
         "x": [
          0.001074575542660649,
          0.0012416499043929573,
          0.0015078180365193528,
          0.001758118110374655,
          0.001863967641521743,
          0.0021277953911951826,
          0.0022130748461912982,
          0.002501626056937009
         ],
         "xaxis": "x",
         "y": [
          69.022,
          70.382,
          69.932,
          71.588,
          71.592,
          73.37,
          72.378,
          74.216
         ],
         "yaxis": "y"
        },
        {
         "customdata": [
          [
           224
          ]
         ],
         "hovertemplate": "<b>%{hovertext}</b><br><br>family=resnetblur<br>secs=%{x}<br>top1=%{y}<br>size=%{marker.size}<br>train_img_size=%{customdata[0]}<extra></extra>",
         "hovertext": [
          "resnetblur50"
         ],
         "legendgroup": "resnetblur",
         "marker": {
          "color": "#FFA15A",
          "size": [
           50176
          ],
          "sizemode": "area",
          "sizeref": 655.36,
          "symbol": "circle"
         },
         "mode": "markers",
         "name": "resnetblur",
         "orientation": "v",
         "showlegend": true,
         "type": "scatter",
         "x": [
          0.001099408518217199
         ],
         "xaxis": "x",
         "y": [
          80.234
         ],
         "yaxis": "y"
        },
        {
         "customdata": [
          [
           224
          ],
          [
           288
          ],
          [
           320
          ],
          [
           320
          ],
          [
           352
          ],
          [
           384
          ],
          [
           416
          ]
         ],
         "hovertemplate": "<b>%{hovertext}</b><br><br>family=resnetrs<br>secs=%{x}<br>top1=%{y}<br>size=%{marker.size}<br>train_img_size=%{customdata[0]}<extra></extra>",
         "hovertext": [
          "resnetrs50",
          "resnetrs101",
          "resnetrs152",
          "resnetrs200",
          "resnetrs270",
          "resnetrs350",
          "resnetrs420"
         ],
         "legendgroup": "resnetrs",
         "marker": {
          "color": "#19d3f3",
          "size": [
           50176,
           82944,
           102400,
           102400,
           123904,
           147456,
           173056
          ],
          "sizemode": "area",
          "sizeref": 655.36,
          "symbol": "circle"
         },
         "mode": "markers",
         "name": "resnetrs",
         "orientation": "v",
         "showlegend": true,
         "type": "scatter",
         "x": [
          0.0011601466425356164,
          0.0031080997078386276,
          0.00584316933504733,
          0.00808080808080808,
          0.013285505513484789,
          0.021177467174925878,
          0.03105590062111801
         ],
         "xaxis": "x",
         "y": [
          79.896,
          82.284,
          83.702,
          84.444,
          84.428,
          84.714,
          85.006
         ],
         "yaxis": "y"
        },
        {
         "customdata": [
          [
           224
          ],
          [
           224
          ],
          [
           224
          ],
          [
           224
          ],
          [
           224
          ],
          [
           224
          ],
          [
           224
          ],
          [
           224
          ],
          [
           224
          ],
          [
           224
          ],
          [
           224
          ],
          [
           224
          ],
          [
           224
          ],
          [
           224
          ],
          [
           224
          ],
          [
           224
          ],
          [
           224
          ],
          [
           224
          ],
          [
           224
          ],
          [
           224
          ],
          [
           224
          ]
         ],
         "hovertemplate": "<b>%{hovertext}</b><br><br>family=convnext<br>secs=%{x}<br>top1=%{y}<br>size=%{marker.size}<br>train_img_size=%{customdata[0]}<extra></extra>",
         "hovertext": [
          "convnext_tiny",
          "convnext_tiny",
          "convnext_tiny",
          "convnext_tiny",
          "convnext_tiny",
          "convnext_tiny_hnf",
          "convnext_small",
          "convnext_small",
          "convnext_small",
          "convnext_small",
          "convnext_small",
          "convnext_base",
          "convnext_base",
          "convnext_base",
          "convnext_base",
          "convnext_base",
          "convnext_base",
          "convnext_base",
          "convnext_large",
          "convnext_large",
          "convnext_large"
         ],
         "legendgroup": "convnext",
         "marker": {
          "color": "#FF6692",
          "size": [
           50176,
           50176,
           50176,
           50176,
           50176,
           50176,
           50176,
           50176,
           50176,
           50176,
           50176,
           50176,
           50176,
           50176,
           50176,
           50176,
           50176,
           50176,
           50176,
           50176,
           50176
          ],
          "sizemode": "area",
          "sizeref": 655.36,
          "symbol": "circle"
         },
         "mode": "markers",
         "name": "convnext",
         "orientation": "v",
         "showlegend": true,
         "type": "scatter",
         "x": [
          0.0012801310854231474,
          0.0012801310854231474,
          0.0012801310854231474,
          0.0012801310854231474,
          0.0012801310854231474,
          0.0014666412448850886,
          0.0021101943488995335,
          0.0021101943488995335,
          0.0021101943488995335,
          0.0021101943488995335,
          0.0021101943488995335,
          0.0030553009471432934,
          0.0030553009471432934,
          0.0030553009471432934,
          0.0030553009471432934,
          0.0030553009471432934,
          0.0030553009471432934,
          0.0030553009471432934,
          0.005535872453498672,
          0.005535872453498672,
          0.005535872453498672
         ],
         "xaxis": "x",
         "y": [
          85.122,
          84.45,
          84.088,
          82.698,
          78.898,
          82.584,
          86.182,
          85.778,
          85.33,
          85.262,
          83.7,
          87.134,
          86.796,
          86.502,
          86.37,
          86.274,
          86.158,
          84.428,
          87.472,
          87.026,
          84.846
         ],
         "yaxis": "y"
        },
        {
         "customdata": [
          [
           288
          ],
          [
           384
          ],
          [
           416
          ]
         ],
         "hovertemplate": "<b>%{hovertext}</b><br><br>family=efficientnetv2<br>secs=%{x}<br>top1=%{y}<br>size=%{marker.size}<br>train_img_size=%{customdata[0]}<extra></extra>",
         "hovertext": [
          "efficientnetv2_rw_t",
          "efficientnetv2_rw_s",
          "efficientnetv2_rw_m"
         ],
         "legendgroup": "efficientnetv2",
         "marker": {
          "color": "#B6E880",
          "size": [
           82944,
           147456,
           173056
          ],
          "sizemode": "area",
          "sizeref": 655.36,
          "symbol": "circle"
         },
         "mode": "markers",
         "name": "efficientnetv2",
         "orientation": "v",
         "showlegend": true,
         "type": "scatter",
         "x": [
          0.00146096306685367,
          0.0033831788348332096,
          0.007923302432453847
         ],
         "xaxis": "x",
         "y": [
          82.35,
          83.808,
          84.812
         ],
         "yaxis": "y"
        },
        {
         "customdata": [
          [
           224
          ],
          [
           224
          ],
          [
           224
          ],
          [
           224
          ],
          [
           224
          ],
          [
           224
          ],
          [
           224
          ],
          [
           224
          ],
          [
           224
          ],
          [
           224
          ],
          [
           384
          ],
          [
           384
          ],
          [
           384
          ]
         ],
         "hovertemplate": "<b>%{hovertext}</b><br><br>family=swin<br>secs=%{x}<br>top1=%{y}<br>size=%{marker.size}<br>train_img_size=%{customdata[0]}<extra></extra>",
         "hovertext": [
          "swin_tiny_patch4_window7_224",
          "swin_tiny_patch4_window7_224",
          "swin_s3_tiny_224",
          "swin_small_patch4_window7_224",
          "swin_small_patch4_window7_224",
          "swin_s3_small_224",
          "swin_base_patch4_window7_224",
          "swin_base_patch4_window7_224",
          "swin_s3_base_224",
          "swin_large_patch4_window7_224",
          "swin_base_patch4_window12_384",
          "swin_base_patch4_window12_384",
          "swin_large_patch4_window12_384"
         ],
         "legendgroup": "swin",
         "marker": {
          "color": "#FF97FF",
          "size": [
           50176,
           50176,
           50176,
           50176,
           50176,
           50176,
           50176,
           50176,
           50176,
           50176,
           147456,
           147456,
           147456
          ],
          "sizemode": "area",
          "sizeref": 655.36,
          "symbol": "circle"
         },
         "mode": "markers",
         "name": "swin",
         "orientation": "v",
         "showlegend": true,
         "type": "scatter",
         "x": [
          0.0015640885274106513,
          0.0015640885274106513,
          0.0017278319165111619,
          0.002542071279678682,
          0.002542071279678682,
          0.003609456776755098,
          0.0036254214552441724,
          0.0036254214552441724,
          0.004564750992833341,
          0.006607201850016518,
          0.013585110718652357,
          0.013585110718652357,
          0.024378352023403216
         ],
         "xaxis": "x",
         "y": [
          81.376,
          80.968,
          82.144,
          83.298,
          83.208,
          83.756,
          85.272,
          83.606,
          83.92,
          86.312,
          86.438,
          84.476,
          87.132
         ],
         "yaxis": "y"
        },
        {
         "customdata": [
          [
           224
          ],
          [
           224
          ],
          [
           384
          ],
          [
           384
          ],
          [
           512
          ]
         ],
         "hovertemplate": "<b>%{hovertext}</b><br><br>family=beit<br>secs=%{x}<br>top1=%{y}<br>size=%{marker.size}<br>train_img_size=%{customdata[0]}<extra></extra>",
         "hovertext": [
          "beit_base_patch16_224",
          "beit_large_patch16_224",
          "beit_base_patch16_384",
          "beit_large_patch16_384",
          "beit_large_patch16_512"
         ],
         "legendgroup": "beit",
         "marker": {
          "color": "#FECB52",
          "size": [
           50176,
           50176,
           147456,
           147456,
           262144
          ],
          "sizemode": "area",
          "sizeref": 655.36,
          "symbol": "circle"
         },
         "mode": "markers",
         "name": "beit",
         "orientation": "v",
         "showlegend": true,
         "type": "scatter",
         "x": [
          0.0028385704958982655,
          0.009381743127873158,
          0.012087513598452797,
          0.039824771007566706,
          0.10615711252653928
         ],
         "xaxis": "x",
         "y": [
          85.212,
          87.478,
          86.8,
          88.402,
          88.596
         ],
         "yaxis": "y"
        },
        {
         "customdata": [
          [
           320
          ],
          [
           320
          ],
          [
           288
          ],
          [
           320
          ],
          [
           320
          ],
          [
           320
          ],
          [
           320
          ],
          [
           320
          ]
         ],
         "hovertemplate": "<b>%{hovertext}</b><br><br>family=regnetz<br>secs=%{x}<br>top1=%{y}<br>size=%{marker.size}<br>train_img_size=%{customdata[0]}<extra></extra>",
         "hovertext": [
          "regnetz_d8",
          "regnetz_c16",
          "regnetz_b16",
          "regnetz_e8",
          "regnetz_c16_evos",
          "regnetz_d8_evos",
          "regnetz_040",
          "regnetz_d32"
         ],
         "legendgroup": "regnetz",
         "marker": {
          "color": "#636efa",
          "size": [
           102400,
           102400,
           82944,
           102400,
           102400,
           102400,
           102400,
           102400
          ],
          "sizemode": "area",
          "sizeref": 655.36,
          "symbol": "circle"
         },
         "mode": "markers",
         "name": "regnetz",
         "orientation": "v",
         "showlegend": true,
         "type": "scatter",
         "x": [
          0.0032123353678123997,
          0.003997441637352095,
          0.005506607929515419,
          0.006836671908115129,
          0.008684324793747285,
          0.010453690152623877,
          0.010575296108291032,
          0.013854253255749514
         ],
         "xaxis": "x",
         "y": [
          84.054,
          82.634,
          80.728,
          85.036,
          82.632,
          84.126,
          84.24,
          84.022
         ],
         "yaxis": "y"
        },
        {
         "customdata": [
          [
           288
          ]
         ],
         "hovertemplate": "<b>%{hovertext}</b><br><br>family=resnetv2d<br>secs=%{x}<br>top1=%{y}<br>size=%{marker.size}<br>train_img_size=%{customdata[0]}<extra></extra>",
         "hovertext": [
          "resnetv2_50d_evos"
         ],
         "legendgroup": "resnetv2d",
         "marker": {
          "color": "#EF553B",
          "size": [
           82944
          ],
          "sizemode": "area",
          "sizeref": 655.36,
          "symbol": "circle"
         },
         "mode": "markers",
         "name": "resnetv2d",
         "orientation": "v",
         "showlegend": true,
         "type": "scatter",
         "x": [
          0.004472271914132379
         ],
         "xaxis": "x",
         "y": [
          82
         ],
         "yaxis": "y"
        },
        {
         "customdata": [
          [
           288
          ],
          [
           288
          ]
         ],
         "hovertemplate": "<b>%{hovertext}</b><br><br>family=regnetv<br>secs=%{x}<br>top1=%{y}<br>size=%{marker.size}<br>train_img_size=%{customdata[0]}<extra></extra>",
         "hovertext": [
          "regnetv_040",
          "regnetv_064"
         ],
         "legendgroup": "regnetv",
         "marker": {
          "color": "#00cc96",
          "size": [
           82944,
           82944
          ],
          "sizemode": "area",
          "sizeref": 655.36,
          "symbol": "circle"
         },
         "mode": "markers",
         "name": "regnetv",
         "orientation": "v",
         "showlegend": true,
         "type": "scatter",
         "x": [
          0.008409014463504878,
          0.013925637097897228
         ],
         "xaxis": "x",
         "y": [
          83.198,
          83.716
         ],
         "yaxis": "y"
        }
       ],
       "layout": {
        "height": 800,
        "legend": {
         "itemsizing": "constant",
         "title": {
          "text": "family"
         },
         "tracegroupgap": 0
        },
        "template": {
         "data": {
          "bar": [
           {
            "error_x": {
             "color": "#2a3f5f"
            },
            "error_y": {
             "color": "#2a3f5f"
            },
            "marker": {
             "line": {
              "color": "#E5ECF6",
              "width": 0.5
             },
             "pattern": {
              "fillmode": "overlay",
              "size": 10,
              "solidity": 0.2
             }
            },
            "type": "bar"
           }
          ],
          "barpolar": [
           {
            "marker": {
             "line": {
              "color": "#E5ECF6",
              "width": 0.5
             },
             "pattern": {
              "fillmode": "overlay",
              "size": 10,
              "solidity": 0.2
             }
            },
            "type": "barpolar"
           }
          ],
          "carpet": [
           {
            "aaxis": {
             "endlinecolor": "#2a3f5f",
             "gridcolor": "white",
             "linecolor": "white",
             "minorgridcolor": "white",
             "startlinecolor": "#2a3f5f"
            },
            "baxis": {
             "endlinecolor": "#2a3f5f",
             "gridcolor": "white",
             "linecolor": "white",
             "minorgridcolor": "white",
             "startlinecolor": "#2a3f5f"
            },
            "type": "carpet"
           }
          ],
          "choropleth": [
           {
            "colorbar": {
             "outlinewidth": 0,
             "ticks": ""
            },
            "type": "choropleth"
           }
          ],
          "contour": [
           {
            "colorbar": {
             "outlinewidth": 0,
             "ticks": ""
            },
            "colorscale": [
             [
              0,
              "#0d0887"
             ],
             [
              0.1111111111111111,
              "#46039f"
             ],
             [
              0.2222222222222222,
              "#7201a8"
             ],
             [
              0.3333333333333333,
              "#9c179e"
             ],
             [
              0.4444444444444444,
              "#bd3786"
             ],
             [
              0.5555555555555556,
              "#d8576b"
             ],
             [
              0.6666666666666666,
              "#ed7953"
             ],
             [
              0.7777777777777778,
              "#fb9f3a"
             ],
             [
              0.8888888888888888,
              "#fdca26"
             ],
             [
              1,
              "#f0f921"
             ]
            ],
            "type": "contour"
           }
          ],
          "contourcarpet": [
           {
            "colorbar": {
             "outlinewidth": 0,
             "ticks": ""
            },
            "type": "contourcarpet"
           }
          ],
          "heatmap": [
           {
            "colorbar": {
             "outlinewidth": 0,
             "ticks": ""
            },
            "colorscale": [
             [
              0,
              "#0d0887"
             ],
             [
              0.1111111111111111,
              "#46039f"
             ],
             [
              0.2222222222222222,
              "#7201a8"
             ],
             [
              0.3333333333333333,
              "#9c179e"
             ],
             [
              0.4444444444444444,
              "#bd3786"
             ],
             [
              0.5555555555555556,
              "#d8576b"
             ],
             [
              0.6666666666666666,
              "#ed7953"
             ],
             [
              0.7777777777777778,
              "#fb9f3a"
             ],
             [
              0.8888888888888888,
              "#fdca26"
             ],
             [
              1,
              "#f0f921"
             ]
            ],
            "type": "heatmap"
           }
          ],
          "heatmapgl": [
           {
            "colorbar": {
             "outlinewidth": 0,
             "ticks": ""
            },
            "colorscale": [
             [
              0,
              "#0d0887"
             ],
             [
              0.1111111111111111,
              "#46039f"
             ],
             [
              0.2222222222222222,
              "#7201a8"
             ],
             [
              0.3333333333333333,
              "#9c179e"
             ],
             [
              0.4444444444444444,
              "#bd3786"
             ],
             [
              0.5555555555555556,
              "#d8576b"
             ],
             [
              0.6666666666666666,
              "#ed7953"
             ],
             [
              0.7777777777777778,
              "#fb9f3a"
             ],
             [
              0.8888888888888888,
              "#fdca26"
             ],
             [
              1,
              "#f0f921"
             ]
            ],
            "type": "heatmapgl"
           }
          ],
          "histogram": [
           {
            "marker": {
             "pattern": {
              "fillmode": "overlay",
              "size": 10,
              "solidity": 0.2
             }
            },
            "type": "histogram"
           }
          ],
          "histogram2d": [
           {
            "colorbar": {
             "outlinewidth": 0,
             "ticks": ""
            },
            "colorscale": [
             [
              0,
              "#0d0887"
             ],
             [
              0.1111111111111111,
              "#46039f"
             ],
             [
              0.2222222222222222,
              "#7201a8"
             ],
             [
              0.3333333333333333,
              "#9c179e"
             ],
             [
              0.4444444444444444,
              "#bd3786"
             ],
             [
              0.5555555555555556,
              "#d8576b"
             ],
             [
              0.6666666666666666,
              "#ed7953"
             ],
             [
              0.7777777777777778,
              "#fb9f3a"
             ],
             [
              0.8888888888888888,
              "#fdca26"
             ],
             [
              1,
              "#f0f921"
             ]
            ],
            "type": "histogram2d"
           }
          ],
          "histogram2dcontour": [
           {
            "colorbar": {
             "outlinewidth": 0,
             "ticks": ""
            },
            "colorscale": [
             [
              0,
              "#0d0887"
             ],
             [
              0.1111111111111111,
              "#46039f"
             ],
             [
              0.2222222222222222,
              "#7201a8"
             ],
             [
              0.3333333333333333,
              "#9c179e"
             ],
             [
              0.4444444444444444,
              "#bd3786"
             ],
             [
              0.5555555555555556,
              "#d8576b"
             ],
             [
              0.6666666666666666,
              "#ed7953"
             ],
             [
              0.7777777777777778,
              "#fb9f3a"
             ],
             [
              0.8888888888888888,
              "#fdca26"
             ],
             [
              1,
              "#f0f921"
             ]
            ],
            "type": "histogram2dcontour"
           }
          ],
          "mesh3d": [
           {
            "colorbar": {
             "outlinewidth": 0,
             "ticks": ""
            },
            "type": "mesh3d"
           }
          ],
          "parcoords": [
           {
            "line": {
             "colorbar": {
              "outlinewidth": 0,
              "ticks": ""
             }
            },
            "type": "parcoords"
           }
          ],
          "pie": [
           {
            "automargin": true,
            "type": "pie"
           }
          ],
          "scatter": [
           {
            "fillpattern": {
             "fillmode": "overlay",
             "size": 10,
             "solidity": 0.2
            },
            "type": "scatter"
           }
          ],
          "scatter3d": [
           {
            "line": {
             "colorbar": {
              "outlinewidth": 0,
              "ticks": ""
             }
            },
            "marker": {
             "colorbar": {
              "outlinewidth": 0,
              "ticks": ""
             }
            },
            "type": "scatter3d"
           }
          ],
          "scattercarpet": [
           {
            "marker": {
             "colorbar": {
              "outlinewidth": 0,
              "ticks": ""
             }
            },
            "type": "scattercarpet"
           }
          ],
          "scattergeo": [
           {
            "marker": {
             "colorbar": {
              "outlinewidth": 0,
              "ticks": ""
             }
            },
            "type": "scattergeo"
           }
          ],
          "scattergl": [
           {
            "marker": {
             "colorbar": {
              "outlinewidth": 0,
              "ticks": ""
             }
            },
            "type": "scattergl"
           }
          ],
          "scattermapbox": [
           {
            "marker": {
             "colorbar": {
              "outlinewidth": 0,
              "ticks": ""
             }
            },
            "type": "scattermapbox"
           }
          ],
          "scatterpolar": [
           {
            "marker": {
             "colorbar": {
              "outlinewidth": 0,
              "ticks": ""
             }
            },
            "type": "scatterpolar"
           }
          ],
          "scatterpolargl": [
           {
            "marker": {
             "colorbar": {
              "outlinewidth": 0,
              "ticks": ""
             }
            },
            "type": "scatterpolargl"
           }
          ],
          "scatterternary": [
           {
            "marker": {
             "colorbar": {
              "outlinewidth": 0,
              "ticks": ""
             }
            },
            "type": "scatterternary"
           }
          ],
          "surface": [
           {
            "colorbar": {
             "outlinewidth": 0,
             "ticks": ""
            },
            "colorscale": [
             [
              0,
              "#0d0887"
             ],
             [
              0.1111111111111111,
              "#46039f"
             ],
             [
              0.2222222222222222,
              "#7201a8"
             ],
             [
              0.3333333333333333,
              "#9c179e"
             ],
             [
              0.4444444444444444,
              "#bd3786"
             ],
             [
              0.5555555555555556,
              "#d8576b"
             ],
             [
              0.6666666666666666,
              "#ed7953"
             ],
             [
              0.7777777777777778,
              "#fb9f3a"
             ],
             [
              0.8888888888888888,
              "#fdca26"
             ],
             [
              1,
              "#f0f921"
             ]
            ],
            "type": "surface"
           }
          ],
          "table": [
           {
            "cells": {
             "fill": {
              "color": "#EBF0F8"
             },
             "line": {
              "color": "white"
             }
            },
            "header": {
             "fill": {
              "color": "#C8D4E3"
             },
             "line": {
              "color": "white"
             }
            },
            "type": "table"
           }
          ]
         },
         "layout": {
          "annotationdefaults": {
           "arrowcolor": "#2a3f5f",
           "arrowhead": 0,
           "arrowwidth": 1
          },
          "autotypenumbers": "strict",
          "coloraxis": {
           "colorbar": {
            "outlinewidth": 0,
            "ticks": ""
           }
          },
          "colorscale": {
           "diverging": [
            [
             0,
             "#8e0152"
            ],
            [
             0.1,
             "#c51b7d"
            ],
            [
             0.2,
             "#de77ae"
            ],
            [
             0.3,
             "#f1b6da"
            ],
            [
             0.4,
             "#fde0ef"
            ],
            [
             0.5,
             "#f7f7f7"
            ],
            [
             0.6,
             "#e6f5d0"
            ],
            [
             0.7,
             "#b8e186"
            ],
            [
             0.8,
             "#7fbc41"
            ],
            [
             0.9,
             "#4d9221"
            ],
            [
             1,
             "#276419"
            ]
           ],
           "sequential": [
            [
             0,
             "#0d0887"
            ],
            [
             0.1111111111111111,
             "#46039f"
            ],
            [
             0.2222222222222222,
             "#7201a8"
            ],
            [
             0.3333333333333333,
             "#9c179e"
            ],
            [
             0.4444444444444444,
             "#bd3786"
            ],
            [
             0.5555555555555556,
             "#d8576b"
            ],
            [
             0.6666666666666666,
             "#ed7953"
            ],
            [
             0.7777777777777778,
             "#fb9f3a"
            ],
            [
             0.8888888888888888,
             "#fdca26"
            ],
            [
             1,
             "#f0f921"
            ]
           ],
           "sequentialminus": [
            [
             0,
             "#0d0887"
            ],
            [
             0.1111111111111111,
             "#46039f"
            ],
            [
             0.2222222222222222,
             "#7201a8"
            ],
            [
             0.3333333333333333,
             "#9c179e"
            ],
            [
             0.4444444444444444,
             "#bd3786"
            ],
            [
             0.5555555555555556,
             "#d8576b"
            ],
            [
             0.6666666666666666,
             "#ed7953"
            ],
            [
             0.7777777777777778,
             "#fb9f3a"
            ],
            [
             0.8888888888888888,
             "#fdca26"
            ],
            [
             1,
             "#f0f921"
            ]
           ]
          },
          "colorway": [
           "#636efa",
           "#EF553B",
           "#00cc96",
           "#ab63fa",
           "#FFA15A",
           "#19d3f3",
           "#FF6692",
           "#B6E880",
           "#FF97FF",
           "#FECB52"
          ],
          "font": {
           "color": "#2a3f5f"
          },
          "geo": {
           "bgcolor": "white",
           "lakecolor": "white",
           "landcolor": "#E5ECF6",
           "showlakes": true,
           "showland": true,
           "subunitcolor": "white"
          },
          "hoverlabel": {
           "align": "left"
          },
          "hovermode": "closest",
          "mapbox": {
           "style": "light"
          },
          "paper_bgcolor": "white",
          "plot_bgcolor": "#E5ECF6",
          "polar": {
           "angularaxis": {
            "gridcolor": "white",
            "linecolor": "white",
            "ticks": ""
           },
           "bgcolor": "#E5ECF6",
           "radialaxis": {
            "gridcolor": "white",
            "linecolor": "white",
            "ticks": ""
           }
          },
          "scene": {
           "xaxis": {
            "backgroundcolor": "#E5ECF6",
            "gridcolor": "white",
            "gridwidth": 2,
            "linecolor": "white",
            "showbackground": true,
            "ticks": "",
            "zerolinecolor": "white"
           },
           "yaxis": {
            "backgroundcolor": "#E5ECF6",
            "gridcolor": "white",
            "gridwidth": 2,
            "linecolor": "white",
            "showbackground": true,
            "ticks": "",
            "zerolinecolor": "white"
           },
           "zaxis": {
            "backgroundcolor": "#E5ECF6",
            "gridcolor": "white",
            "gridwidth": 2,
            "linecolor": "white",
            "showbackground": true,
            "ticks": "",
            "zerolinecolor": "white"
           }
          },
          "shapedefaults": {
           "line": {
            "color": "#2a3f5f"
           }
          },
          "ternary": {
           "aaxis": {
            "gridcolor": "white",
            "linecolor": "white",
            "ticks": ""
           },
           "baxis": {
            "gridcolor": "white",
            "linecolor": "white",
            "ticks": ""
           },
           "bgcolor": "#E5ECF6",
           "caxis": {
            "gridcolor": "white",
            "linecolor": "white",
            "ticks": ""
           }
          },
          "title": {
           "x": 0.05
          },
          "xaxis": {
           "automargin": true,
           "gridcolor": "white",
           "linecolor": "white",
           "ticks": "",
           "title": {
            "standoff": 15
           },
           "zerolinecolor": "white",
           "zerolinewidth": 2
          },
          "yaxis": {
           "automargin": true,
           "gridcolor": "white",
           "linecolor": "white",
           "ticks": "",
           "title": {
            "standoff": 15
           },
           "zerolinecolor": "white",
           "zerolinewidth": 2
          }
         }
        },
        "title": {
         "text": "Training"
        },
        "width": 1000,
        "xaxis": {
         "anchor": "y",
         "domain": [
          0,
          1
         ],
         "title": {
          "text": "secs (how many seconds it takes to process one image)"
         },
         "type": "log"
        },
        "yaxis": {
         "anchor": "x",
         "domain": [
          0,
          1
         ],
         "title": {
          "text": "top1 (accuracy on Imagenet)"
         }
        }
       }
      },
      "text/html": [
       "<div>                            <div id=\"aaf03c6c-e4d4-4541-8867-de57f20bff82\" class=\"plotly-graph-div\" style=\"height:800px; width:1000px;\"></div>            <script type=\"text/javascript\">                require([\"plotly\"], function(Plotly) {                    window.PLOTLYENV=window.PLOTLYENV || {};                                    if (document.getElementById(\"aaf03c6c-e4d4-4541-8867-de57f20bff82\")) {                    Plotly.newPlot(                        \"aaf03c6c-e4d4-4541-8867-de57f20bff82\",                        [{\"customdata\":[[224],[224],[224],[224],[224]],\"hovertemplate\":\"<b>%{hovertext}</b><br><br>family=levit<br>secs=%{x}<br>top1=%{y}<br>size=%{marker.size}<br>train_img_size=%{customdata[0]}<extra></extra>\",\"hovertext\":[\"levit_128s\",\"levit_128\",\"levit_192\",\"levit_256\",\"levit_384\"],\"legendgroup\":\"levit\",\"marker\":{\"color\":\"#636efa\",\"size\":[50176,50176,50176,50176,50176],\"sizemode\":\"area\",\"sizeref\":655.36,\"symbol\":\"circle\"},\"mode\":\"markers\",\"name\":\"levit\",\"orientation\":\"v\",\"showlegend\":true,\"x\":[0.00015865108501477042,0.00022550151537018326,0.00026151037934695625,0.000342053415061296,0.0005556697765651828],\"xaxis\":\"x\",\"y\":[76.526,78.49,79.838,81.514,82.596],\"yaxis\":\"y\",\"type\":\"scatter\"},{\"customdata\":[[224],[224],[224],[224],[224],[224],[384],[384],[224],[224],[224],[384],[384],[384],[224],[224],[224],[224],[224],[224],[384],[384],[224],[384],[384],[224],[384],[384],[384],[384],[224],[224],[384],[384]],\"hovertemplate\":\"<b>%{hovertext}</b><br><br>family=vit<br>secs=%{x}<br>top1=%{y}<br>size=%{marker.size}<br>train_img_size=%{customdata[0]}<extra></extra>\",\"hovertext\":[\"vit_small_patch32_224\",\"vit_tiny_r_s16_p8_224\",\"vit_tiny_patch16_224\",\"vit_base_patch32_224\",\"vit_base_patch32_224\",\"vit_base_patch32_224\",\"vit_small_patch32_384\",\"vit_tiny_r_s16_p8_384\",\"vit_small_patch16_224\",\"vit_small_patch16_224\",\"vit_small_r26_s32_224\",\"vit_base_patch32_384\",\"vit_base_patch32_384\",\"vit_tiny_patch16_384\",\"vit_base_patch16_224_miil\",\"vit_base_patch16_224\",\"vit_base_patch16_224\",\"vit_base_patch16_224\",\"vit_base_patch16_224\",\"vit_base_patch16_224\",\"vit_small_patch16_384\",\"vit_small_patch16_384\",\"vit_large_r50_s32_224\",\"vit_small_r26_s32_384\",\"vit_large_patch32_384\",\"vit_large_patch16_224\",\"vit_base_patch16_384\",\"vit_base_patch16_384\",\"vit_base_patch16_384\",\"vit_large_r50_s32_384\",\"vit_base_patch8_224\",\"vit_base_patch8_224\",\"vit_base_r50_s16_384\",\"vit_large_patch16_384\"],\"legendgroup\":\"vit\",\"marker\":{\"color\":\"#EF553B\",\"size\":[50176,50176,50176,50176,50176,50176,147456,147456,50176,50176,50176,147456,147456,147456,50176,50176,50176,50176,50176,50176,147456,147456,50176,147456,147456,50176,147456,147456,147456,147456,50176,50176,147456,147456],\"sizemode\":\"area\",\"sizeref\":655.36,\"symbol\":\"circle\"},\"mode\":\"markers\",\"name\":\"vit\",\"orientation\":\"v\",\"showlegend\":true,\"x\":[0.00023073053903268528,0.00025923592802573695,0.0004485431319075642,0.0006199781767681778,0.0006199781767681778,0.0006199781767681778,0.0007068736392682444,0.0008379069085424609,0.0009731128908264647,0.0009731128908264647,0.0014655450361989624,0.0019330395113276114,0.0019330395113276114,0.001984363217843394,0.002551866690484089,0.002595851828777613,0.002595851828777613,0.002595851828777613,0.002595851828777613,0.002595851828777613,0.004245923913043478,0.004245923913043478,0.004369101712687872,0.004516507836141096,0.0061793239819563734,0.008666262241095415,0.010450412791305257,0.010450412791305257,0.010450412791305257,0.013199577613516367,0.01588310038119441,0.01588310038119441,0.016992353440951572,0.03466204506065858],\"xaxis\":\"x\",\"y\":[75.994,71.798,75.454,80.716,74.894,73.694,80.486,75.962,81.384,78.846,81.864,83.35,78.752,78.424,84.266,85.096,84.532,81.786,80.244,79.154,83.802,81.116,84.422,84.048,81.51,85.834,85.996,84.2,81.102,86.182,86.218,85.798,84.976,87.084],\"yaxis\":\"y\",\"type\":\"scatter\"},{\"customdata\":[[224],[224],[224],[224],[224],[224],[224],[224],[224],[224],[224],[224],[224],[256],[224],[224],[224],[224],[224],[224],[224],[224],[224],[224],[224],[224],[224],[224],[224],[224],[224],[224],[256],[256],[224],[224],[224],[224],[224],[224],[224],[224],[224],[224],[224],[224],[224],[224],[288],[288]],\"hovertemplate\":\"<b>%{hovertext}</b><br><br>family=resnet<br>secs=%{x}<br>top1=%{y}<br>size=%{marker.size}<br>train_img_size=%{customdata[0]}<extra></extra>\",\"hovertext\":[\"resnet18\",\"resnet18\",\"resnet18\",\"resnet18\",\"resnet18\",\"resnet18\",\"resnet18\",\"resnet34\",\"resnet34\",\"resnet34\",\"resnet34\",\"resnet34\",\"resnet26\",\"resnet26t\",\"resnet50\",\"resnet50\",\"resnet50\",\"resnet50\",\"resnet50\",\"resnet50\",\"resnet50\",\"resnet50\",\"resnet50\",\"resnet50\",\"resnet50\",\"resnet50\",\"resnet50\",\"resnet50\",\"resnet50\",\"resnet50\",\"resnet50\",\"resnet50\",\"resnet32ts\",\"resnet33ts\",\"resnet101\",\"resnet101\",\"resnet101\",\"resnet101\",\"resnet101\",\"resnet101\",\"resnet101\",\"resnet152\",\"resnet152\",\"resnet152\",\"resnet152\",\"resnet152\",\"resnet152\",\"resnet152\",\"resnet51q\",\"resnet61q\"],\"legendgroup\":\"resnet\",\"marker\":{\"color\":\"#00cc96\",\"size\":[50176,50176,50176,50176,50176,50176,50176,50176,50176,50176,50176,50176,50176,65536,50176,50176,50176,50176,50176,50176,50176,50176,50176,50176,50176,50176,50176,50176,50176,50176,50176,50176,65536,65536,50176,50176,50176,50176,50176,50176,50176,50176,50176,50176,50176,50176,50176,50176,82944,82944],\"sizemode\":\"area\",\"sizeref\":655.36,\"symbol\":\"circle\"},\"mode\":\"markers\",\"name\":\"resnet\",\"orientation\":\"v\",\"showlegend\":true,\"x\":[0.000279003066243698,0.000279003066243698,0.000279003066243698,0.000279003066243698,0.000279003066243698,0.000279003066243698,0.000279003066243698,0.0004805543675183692,0.0004805543675183692,0.0004805543675183692,0.0004805543675183692,0.0004805543675183692,0.0005087349795997273,0.000814431730260211,0.0008179223137386412,0.0008179223137386412,0.0008179223137386412,0.0008179223137386412,0.0008179223137386412,0.0008179223137386412,0.0008179223137386412,0.0008179223137386412,0.0008179223137386412,0.0008179223137386412,0.0008179223137386412,0.0008179223137386412,0.0008179223137386412,0.0008179223137386412,0.0008179223137386412,0.0008179223137386412,0.0008179223137386412,0.0008179223137386412,0.0009786938352075321,0.0009906973518659784,0.0013745704467353953,0.0013745704467353953,0.0013745704467353953,0.0013745704467353953,0.0013745704467353953,0.0013745704467353953,0.0013745704467353953,0.0020006802312786346,0.0020006802312786346,0.0020006802312786346,0.0020006802312786346,0.0020006802312786346,0.0020006802312786346,0.0020006802312786346,0.0035980282805022847,0.004809773459670049],\"xaxis\":\"x\",\"y\":[73.282,73.158,72.594,72.372,70.838,69.76,68.254,77.918,77.158,76.48,74.578,72.97,76.366,78.332,81.214,81.182,80.972,80.912,80.87,80.85,80.772,80.706,80.676,80.454,79.976,79.836,79.64,79.234,78.998,78.048,77.58,76.13,79.392,79.726,82.778,82.322,82.236,81.89,79.814,79.31,77.376,83.45,82.732,82.608,82.288,80.546,79.694,78.322,82.36,82.524],\"yaxis\":\"y\",\"type\":\"scatter\"},{\"customdata\":[[224],[224],[224],[224],[224],[224],[224],[224],[320],[320],[320],[320],[320]],\"hovertemplate\":\"<b>%{hovertext}</b><br><br>family=resnetd<br>secs=%{x}<br>top1=%{y}<br>size=%{marker.size}<br>train_img_size=%{customdata[0]}<extra></extra>\",\"hovertext\":[\"resnet18d\",\"resnet34d\",\"resnet26d\",\"resnet50d\",\"resnet50d\",\"resnet50d\",\"resnet50d\",\"resnet50d\",\"resnet101d\",\"resnet101d\",\"resnet152d\",\"resnet152d\",\"resnet200d\"],\"legendgroup\":\"resnetd\",\"marker\":{\"color\":\"#ab63fa\",\"size\":[50176,50176,50176,50176,50176,50176,50176,50176,102400,102400,102400,102400,102400],\"sizemode\":\"area\",\"sizeref\":655.36,\"symbol\":\"circle\"},\"mode\":\"markers\",\"name\":\"resnetd\",\"orientation\":\"v\",\"showlegend\":true,\"x\":[0.0003533543932551713,0.0005558550996926121,0.0006213611537433903,0.0009343960531110716,0.0009343960531110716,0.0009343960531110716,0.0009343960531110716,0.0009343960531110716,0.003054274457102715,0.003054274457102715,0.0046277014207043365,0.0046277014207043365,0.006017209218364523],\"xaxis\":\"x\",\"y\":[73.794,78.436,77.408,81.45,81.356,81.164,79.078,78.722,83.016,80.426,83.684,80.476,83.964],\"yaxis\":\"y\",\"type\":\"scatter\"},{\"customdata\":[[224],[224],[224],[224],[224],[224],[224],[224],[224],[224],[224],[224],[224],[224],[224],[224],[224],[224]],\"hovertemplate\":\"<b>%{hovertext}</b><br><br>family=regnetx<br>secs=%{x}<br>top1=%{y}<br>size=%{marker.size}<br>train_img_size=%{customdata[0]}<extra></extra>\",\"hovertext\":[\"regnetx_002\",\"regnetx_004\",\"regnetx_006\",\"regnetx_008\",\"regnetx_008\",\"regnetx_016\",\"regnetx_016\",\"regnetx_032\",\"regnetx_032\",\"regnetx_040\",\"regnetx_080\",\"regnetx_080\",\"regnetx_064\",\"regnetx_120\",\"regnetx_160\",\"regnetx_160\",\"regnetx_320\",\"regnetx_320\"],\"legendgroup\":\"regnetx\",\"marker\":{\"color\":\"#FFA15A\",\"size\":[50176,50176,50176,50176,50176,50176,50176,50176,50176,50176,50176,50176,50176,50176,50176,50176,50176,50176],\"sizemode\":\"area\",\"sizeref\":655.36,\"symbol\":\"circle\"},\"mode\":\"markers\",\"name\":\"regnetx\",\"orientation\":\"v\",\"showlegend\":true,\"x\":[0.0004215904922912179,0.0008689456213830139,0.0012649261283141065,0.001689760054072322,0.001689760054072322,0.002637061258933045,0.002637061258933045,0.005628095452498874,0.005628095452498874,0.006177796997590659,0.0066657778962804955,0.0066657778962804955,0.008056070248932571,0.012896569512509672,0.015382248884786955,0.015382248884786955,0.021663778162911613,0.021663778162911613],\"xaxis\":\"x\",\"y\":[68.746,72.398,73.868,77.304,75.03,79.436,76.924,80.926,78.168,78.492,81.538,79.202,79.066,79.588,82.566,79.866,82.81,80.246],\"yaxis\":\"y\",\"type\":\"scatter\"},{\"customdata\":[[224],[224],[224],[224],[224],[224],[224],[288],[288],[288],[288],[288],[224],[224],[288],[288],[224],[224],[224],[224],[224],[288],[288],[288],[288],[288],[288],[288],[288],[288]],\"hovertemplate\":\"<b>%{hovertext}</b><br><br>family=regnety<br>secs=%{x}<br>top1=%{y}<br>size=%{marker.size}<br>train_img_size=%{customdata[0]}<extra></extra>\",\"hovertext\":[\"regnety_002\",\"regnety_004\",\"regnety_004\",\"regnety_006\",\"regnety_008\",\"regnety_016\",\"regnety_016\",\"regnety_032\",\"regnety_032\",\"regnety_032\",\"regnety_040\",\"regnety_040\",\"regnety_120\",\"regnety_120\",\"regnety_064\",\"regnety_064\",\"regnety_320\",\"regnety_320\",\"regnety_320\",\"regnety_320\",\"regnety_320\",\"regnety_080\",\"regnety_080\",\"regnety_160\",\"regnety_160\",\"regnety_160\",\"regnety_160\",\"regnety_160\",\"regnety_160\",\"regnety_160\"],\"legendgroup\":\"regnety\",\"marker\":{\"color\":\"#19d3f3\",\"size\":[50176,50176,50176,50176,50176,50176,50176,82944,82944,82944,82944,82944,50176,50176,82944,82944,50176,50176,50176,50176,50176,82944,82944,82944,82944,82944,82944,82944,82944,82944],\"sizemode\":\"area\",\"sizeref\":655.36,\"symbol\":\"circle\"},\"mode\":\"markers\",\"name\":\"regnety\",\"orientation\":\"v\",\"showlegend\":true,\"x\":[0.00044342751733801594,0.0009734728644439036,0.0009734728644439036,0.0012694221590332081,0.0015109848599317035,0.002829975096219153,0.002829975096219153,0.005617661929105107,0.005617661929105107,0.005617661929105107,0.008316008316008316,0.008316008316008316,0.013273161667109104,0.013273161667109104,0.013757050488375293,0.013757050488375293,0.014817009927396653,0.014817009927396653,0.014817009927396653,0.014817009927396653,0.014817009927396653,0.015278838808250572,0.015278838808250572,0.02077274615704196,0.02077274615704196,0.02077274615704196,0.02077274615704196,0.02077274615704196,0.02077274615704196,0.02077274615704196],\"xaxis\":\"x\",\"y\":[70.278,75.598,74.028,75.27,76.302,80.668,77.862,82.728,81.756,78.876,83.044,79.232,85.4,80.386,83.72,79.714,86.836,84.546,83.334,83.162,80.808,83.926,79.868,86.01,85.986,85.986,83.782,83.69,82.642,80.298],\"yaxis\":\"y\",\"type\":\"scatter\"},{\"customdata\":[[224],[224],[224],[224],[240],[240],[256],[260],[288],[300],[300],[300],[320],[384],[456]],\"hovertemplate\":\"<b>%{hovertext}</b><br><br>family=efficientnet<br>secs=%{x}<br>top1=%{y}<br>size=%{marker.size}<br>train_img_size=%{customdata[0]}<extra></extra>\",\"hovertext\":[\"efficientnet_lite0\",\"efficientnet_b0\",\"efficientnet_es\",\"efficientnet_es_pruned\",\"efficientnet_b1_pruned\",\"efficientnet_em\",\"efficientnet_b1\",\"efficientnet_b2_pruned\",\"efficientnet_b2\",\"efficientnet_b3_pruned\",\"efficientnet_el\",\"efficientnet_el_pruned\",\"efficientnet_b3\",\"efficientnet_b4\",\"efficientnet_b5\"],\"legendgroup\":\"efficientnet\",\"marker\":{\"color\":\"#FF6692\",\"size\":[50176,50176,50176,50176,57600,57600,65536,67600,82944,90000,90000,90000,102400,147456,207936],\"sizemode\":\"area\",\"sizeref\":655.36,\"symbol\":\"circle\"},\"mode\":\"markers\",\"name\":\"efficientnet\",\"orientation\":\"v\",\"showlegend\":true,\"x\":[0.0004526361529548088,0.0005553796853218703,0.0006177300890149058,0.0006187850773790739,0.0007223763291724458,0.0010220141855568955,0.001047219109654313,0.0012109909538975743,0.0013808149569876141,0.0019251872244575787,0.0021957753282684117,0.002201091741503786,0.0028314174075542214,0.004141301196836046,0.010279605263157895],\"xaxis\":\"x\",\"y\":[75.48,77.694,78.054,75.014,78.242,79.24,78.8,79.92,80.61,80.852,81.312,80.3,82.242,83.414,85.892],\"yaxis\":\"y\",\"type\":\"scatter\"},{\"customdata\":[[224],[224],[224],[224],[224],[224],[224],[224]],\"hovertemplate\":\"<b>%{hovertext}</b><br><br>family=repvgg<br>secs=%{x}<br>top1=%{y}<br>size=%{marker.size}<br>train_img_size=%{customdata[0]}<extra></extra>\",\"hovertext\":[\"repvgg_b0\",\"repvgg_a2\",\"repvgg_b1\",\"repvgg_b2\",\"repvgg_b3\",\"repvgg_b1g4\",\"repvgg_b2g4\",\"repvgg_b3g4\"],\"legendgroup\":\"repvgg\",\"marker\":{\"color\":\"#B6E880\",\"size\":[50176,50176,50176,50176,50176,50176,50176,50176],\"sizemode\":\"area\",\"sizeref\":655.36,\"symbol\":\"circle\"},\"mode\":\"markers\",\"name\":\"repvgg\",\"orientation\":\"v\",\"showlegend\":true,\"x\":[0.0006304573968414084,0.0008755494072530513,0.0015941081761808359,0.0026313712075362473,0.003168969451134491,0.0056050669805504175,0.00977230528681716,0.011799410029498525],\"xaxis\":\"x\",\"y\":[75.142,76.458,78.368,78.792,80.506,77.582,79.382,80.216],\"yaxis\":\"y\",\"type\":\"scatter\"},{\"customdata\":[[256],[256],[256]],\"hovertemplate\":\"<b>%{hovertext}</b><br><br>family=mobilevit<br>secs=%{x}<br>top1=%{y}<br>size=%{marker.size}<br>train_img_size=%{customdata[0]}<extra></extra>\",\"hovertext\":[\"mobilevit_xxs\",\"mobilevit_xs\",\"mobilevit_s\"],\"legendgroup\":\"mobilevit\",\"marker\":{\"color\":\"#FF97FF\",\"size\":[65536,65536,65536],\"sizemode\":\"area\",\"sizeref\":655.36,\"symbol\":\"circle\"},\"mode\":\"markers\",\"name\":\"mobilevit\",\"orientation\":\"v\",\"showlegend\":true,\"x\":[0.0006599091964945623,0.0010994931336653802,0.0013611738763509651],\"xaxis\":\"x\",\"y\":[68.932,74.636,78.312],\"yaxis\":\"y\",\"type\":\"scatter\"},{\"customdata\":[[240],[240],[240],[240],[240],[240],[240],[240],[240],[408],[408]],\"hovertemplate\":\"<b>%{hovertext}</b><br><br>family=crossvit<br>secs=%{x}<br>top1=%{y}<br>size=%{marker.size}<br>train_img_size=%{customdata[0]}<extra></extra>\",\"hovertext\":[\"crossvit_tiny_240\",\"crossvit_9_240\",\"crossvit_9_dagger_240\",\"crossvit_small_240\",\"crossvit_15_240\",\"crossvit_15_dagger_240\",\"crossvit_18_240\",\"crossvit_18_dagger_240\",\"crossvit_base_240\",\"crossvit_15_dagger_408\",\"crossvit_18_dagger_408\"],\"legendgroup\":\"crossvit\",\"marker\":{\"color\":\"#FECB52\",\"size\":[57600,57600,57600,57600,57600,57600,57600,57600,57600,166464,166464],\"sizemode\":\"area\",\"sizeref\":655.36,\"symbol\":\"circle\"},\"mode\":\"markers\",\"name\":\"crossvit\",\"orientation\":\"v\",\"showlegend\":true,\"x\":[0.0007573864109730144,0.0008087343307723412,0.0008364071295343722,0.0016024613806807258,0.001759138725679907,0.0018183140592043056,0.0024990628514307135,0.002577651759247326,0.004000160006400256,0.008588851670531649,0.011364927832708264],\"xaxis\":\"x\",\"y\":[73.336,73.958,76.98,81.016,81.534,82.33,82.396,82.516,82.216,83.842,84.198],\"yaxis\":\"y\",\"type\":\"scatter\"},{\"customdata\":[[224],[224]],\"hovertemplate\":\"<b>%{hovertext}</b><br><br>family=resnetv2<br>secs=%{x}<br>top1=%{y}<br>size=%{marker.size}<br>train_img_size=%{customdata[0]}<extra></extra>\",\"hovertext\":[\"resnetv2_50\",\"resnetv2_101\"],\"legendgroup\":\"resnetv2\",\"marker\":{\"color\":\"#636efa\",\"size\":[50176,50176],\"sizemode\":\"area\",\"sizeref\":655.36,\"symbol\":\"circle\"},\"mode\":\"markers\",\"name\":\"resnetv2\",\"orientation\":\"v\",\"showlegend\":true,\"x\":[0.0007716049382716049,0.0013201494409167118],\"xaxis\":\"x\",\"y\":[81.398,83.002],\"yaxis\":\"y\",\"type\":\"scatter\"},{\"customdata\":[[224],[224],[224]],\"hovertemplate\":\"<b>%{hovertext}</b><br><br>family=convit<br>secs=%{x}<br>top1=%{y}<br>size=%{marker.size}<br>train_img_size=%{customdata[0]}<extra></extra>\",\"hovertext\":[\"convit_tiny\",\"convit_small\",\"convit_base\"],\"legendgroup\":\"convit\",\"marker\":{\"color\":\"#EF553B\",\"size\":[50176,50176,50176],\"sizemode\":\"area\",\"sizeref\":655.36,\"symbol\":\"circle\"},\"mode\":\"markers\",\"name\":\"convit\",\"orientation\":\"v\",\"showlegend\":true,\"x\":[0.0009024537718055393,0.0022212843466092097,0.004373496610540126],\"xaxis\":\"x\",\"y\":[73.112,81.42,82.29],\"yaxis\":\"y\",\"type\":\"scatter\"},{\"customdata\":[[224],[224]],\"hovertemplate\":\"<b>%{hovertext}</b><br><br>family=resnetaad<br>secs=%{x}<br>top1=%{y}<br>size=%{marker.size}<br>train_img_size=%{customdata[0]}<extra></extra>\",\"hovertext\":[\"resnetaa50d\",\"resnetaa101d\"],\"legendgroup\":\"resnetaad\",\"marker\":{\"color\":\"#00cc96\",\"size\":[50176,50176],\"sizemode\":\"area\",\"sizeref\":655.36,\"symbol\":\"circle\"},\"mode\":\"markers\",\"name\":\"resnetaad\",\"orientation\":\"v\",\"showlegend\":true,\"x\":[0.0010616387455676581,0.00160970976932859],\"xaxis\":\"x\",\"y\":[82.6,84.124],\"yaxis\":\"y\",\"type\":\"scatter\"},{\"customdata\":[[224],[224],[224],[224],[224],[224],[224],[224]],\"hovertemplate\":\"<b>%{hovertext}</b><br><br>family=vgg<br>secs=%{x}<br>top1=%{y}<br>size=%{marker.size}<br>train_img_size=%{customdata[0]}<extra></extra>\",\"hovertext\":[\"vgg11\",\"vgg11_bn\",\"vgg13\",\"vgg13_bn\",\"vgg16\",\"vgg16_bn\",\"vgg19\",\"vgg19_bn\"],\"legendgroup\":\"vgg\",\"marker\":{\"color\":\"#ab63fa\",\"size\":[50176,50176,50176,50176,50176,50176,50176,50176],\"sizemode\":\"area\",\"sizeref\":655.36,\"symbol\":\"circle\"},\"mode\":\"markers\",\"name\":\"vgg\",\"orientation\":\"v\",\"showlegend\":true,\"x\":[0.001074575542660649,0.0012416499043929573,0.0015078180365193528,0.001758118110374655,0.001863967641521743,0.0021277953911951826,0.0022130748461912982,0.002501626056937009],\"xaxis\":\"x\",\"y\":[69.022,70.382,69.932,71.588,71.592,73.37,72.378,74.216],\"yaxis\":\"y\",\"type\":\"scatter\"},{\"customdata\":[[224]],\"hovertemplate\":\"<b>%{hovertext}</b><br><br>family=resnetblur<br>secs=%{x}<br>top1=%{y}<br>size=%{marker.size}<br>train_img_size=%{customdata[0]}<extra></extra>\",\"hovertext\":[\"resnetblur50\"],\"legendgroup\":\"resnetblur\",\"marker\":{\"color\":\"#FFA15A\",\"size\":[50176],\"sizemode\":\"area\",\"sizeref\":655.36,\"symbol\":\"circle\"},\"mode\":\"markers\",\"name\":\"resnetblur\",\"orientation\":\"v\",\"showlegend\":true,\"x\":[0.001099408518217199],\"xaxis\":\"x\",\"y\":[80.234],\"yaxis\":\"y\",\"type\":\"scatter\"},{\"customdata\":[[224],[288],[320],[320],[352],[384],[416]],\"hovertemplate\":\"<b>%{hovertext}</b><br><br>family=resnetrs<br>secs=%{x}<br>top1=%{y}<br>size=%{marker.size}<br>train_img_size=%{customdata[0]}<extra></extra>\",\"hovertext\":[\"resnetrs50\",\"resnetrs101\",\"resnetrs152\",\"resnetrs200\",\"resnetrs270\",\"resnetrs350\",\"resnetrs420\"],\"legendgroup\":\"resnetrs\",\"marker\":{\"color\":\"#19d3f3\",\"size\":[50176,82944,102400,102400,123904,147456,173056],\"sizemode\":\"area\",\"sizeref\":655.36,\"symbol\":\"circle\"},\"mode\":\"markers\",\"name\":\"resnetrs\",\"orientation\":\"v\",\"showlegend\":true,\"x\":[0.0011601466425356164,0.0031080997078386276,0.00584316933504733,0.00808080808080808,0.013285505513484789,0.021177467174925878,0.03105590062111801],\"xaxis\":\"x\",\"y\":[79.896,82.284,83.702,84.444,84.428,84.714,85.006],\"yaxis\":\"y\",\"type\":\"scatter\"},{\"customdata\":[[224],[224],[224],[224],[224],[224],[224],[224],[224],[224],[224],[224],[224],[224],[224],[224],[224],[224],[224],[224],[224]],\"hovertemplate\":\"<b>%{hovertext}</b><br><br>family=convnext<br>secs=%{x}<br>top1=%{y}<br>size=%{marker.size}<br>train_img_size=%{customdata[0]}<extra></extra>\",\"hovertext\":[\"convnext_tiny\",\"convnext_tiny\",\"convnext_tiny\",\"convnext_tiny\",\"convnext_tiny\",\"convnext_tiny_hnf\",\"convnext_small\",\"convnext_small\",\"convnext_small\",\"convnext_small\",\"convnext_small\",\"convnext_base\",\"convnext_base\",\"convnext_base\",\"convnext_base\",\"convnext_base\",\"convnext_base\",\"convnext_base\",\"convnext_large\",\"convnext_large\",\"convnext_large\"],\"legendgroup\":\"convnext\",\"marker\":{\"color\":\"#FF6692\",\"size\":[50176,50176,50176,50176,50176,50176,50176,50176,50176,50176,50176,50176,50176,50176,50176,50176,50176,50176,50176,50176,50176],\"sizemode\":\"area\",\"sizeref\":655.36,\"symbol\":\"circle\"},\"mode\":\"markers\",\"name\":\"convnext\",\"orientation\":\"v\",\"showlegend\":true,\"x\":[0.0012801310854231474,0.0012801310854231474,0.0012801310854231474,0.0012801310854231474,0.0012801310854231474,0.0014666412448850886,0.0021101943488995335,0.0021101943488995335,0.0021101943488995335,0.0021101943488995335,0.0021101943488995335,0.0030553009471432934,0.0030553009471432934,0.0030553009471432934,0.0030553009471432934,0.0030553009471432934,0.0030553009471432934,0.0030553009471432934,0.005535872453498672,0.005535872453498672,0.005535872453498672],\"xaxis\":\"x\",\"y\":[85.122,84.45,84.088,82.698,78.898,82.584,86.182,85.778,85.33,85.262,83.7,87.134,86.796,86.502,86.37,86.274,86.158,84.428,87.472,87.026,84.846],\"yaxis\":\"y\",\"type\":\"scatter\"},{\"customdata\":[[288],[384],[416]],\"hovertemplate\":\"<b>%{hovertext}</b><br><br>family=efficientnetv2<br>secs=%{x}<br>top1=%{y}<br>size=%{marker.size}<br>train_img_size=%{customdata[0]}<extra></extra>\",\"hovertext\":[\"efficientnetv2_rw_t\",\"efficientnetv2_rw_s\",\"efficientnetv2_rw_m\"],\"legendgroup\":\"efficientnetv2\",\"marker\":{\"color\":\"#B6E880\",\"size\":[82944,147456,173056],\"sizemode\":\"area\",\"sizeref\":655.36,\"symbol\":\"circle\"},\"mode\":\"markers\",\"name\":\"efficientnetv2\",\"orientation\":\"v\",\"showlegend\":true,\"x\":[0.00146096306685367,0.0033831788348332096,0.007923302432453847],\"xaxis\":\"x\",\"y\":[82.35,83.808,84.812],\"yaxis\":\"y\",\"type\":\"scatter\"},{\"customdata\":[[224],[224],[224],[224],[224],[224],[224],[224],[224],[224],[384],[384],[384]],\"hovertemplate\":\"<b>%{hovertext}</b><br><br>family=swin<br>secs=%{x}<br>top1=%{y}<br>size=%{marker.size}<br>train_img_size=%{customdata[0]}<extra></extra>\",\"hovertext\":[\"swin_tiny_patch4_window7_224\",\"swin_tiny_patch4_window7_224\",\"swin_s3_tiny_224\",\"swin_small_patch4_window7_224\",\"swin_small_patch4_window7_224\",\"swin_s3_small_224\",\"swin_base_patch4_window7_224\",\"swin_base_patch4_window7_224\",\"swin_s3_base_224\",\"swin_large_patch4_window7_224\",\"swin_base_patch4_window12_384\",\"swin_base_patch4_window12_384\",\"swin_large_patch4_window12_384\"],\"legendgroup\":\"swin\",\"marker\":{\"color\":\"#FF97FF\",\"size\":[50176,50176,50176,50176,50176,50176,50176,50176,50176,50176,147456,147456,147456],\"sizemode\":\"area\",\"sizeref\":655.36,\"symbol\":\"circle\"},\"mode\":\"markers\",\"name\":\"swin\",\"orientation\":\"v\",\"showlegend\":true,\"x\":[0.0015640885274106513,0.0015640885274106513,0.0017278319165111619,0.002542071279678682,0.002542071279678682,0.003609456776755098,0.0036254214552441724,0.0036254214552441724,0.004564750992833341,0.006607201850016518,0.013585110718652357,0.013585110718652357,0.024378352023403216],\"xaxis\":\"x\",\"y\":[81.376,80.968,82.144,83.298,83.208,83.756,85.272,83.606,83.92,86.312,86.438,84.476,87.132],\"yaxis\":\"y\",\"type\":\"scatter\"},{\"customdata\":[[224],[224],[384],[384],[512]],\"hovertemplate\":\"<b>%{hovertext}</b><br><br>family=beit<br>secs=%{x}<br>top1=%{y}<br>size=%{marker.size}<br>train_img_size=%{customdata[0]}<extra></extra>\",\"hovertext\":[\"beit_base_patch16_224\",\"beit_large_patch16_224\",\"beit_base_patch16_384\",\"beit_large_patch16_384\",\"beit_large_patch16_512\"],\"legendgroup\":\"beit\",\"marker\":{\"color\":\"#FECB52\",\"size\":[50176,50176,147456,147456,262144],\"sizemode\":\"area\",\"sizeref\":655.36,\"symbol\":\"circle\"},\"mode\":\"markers\",\"name\":\"beit\",\"orientation\":\"v\",\"showlegend\":true,\"x\":[0.0028385704958982655,0.009381743127873158,0.012087513598452797,0.039824771007566706,0.10615711252653928],\"xaxis\":\"x\",\"y\":[85.212,87.478,86.8,88.402,88.596],\"yaxis\":\"y\",\"type\":\"scatter\"},{\"customdata\":[[320],[320],[288],[320],[320],[320],[320],[320]],\"hovertemplate\":\"<b>%{hovertext}</b><br><br>family=regnetz<br>secs=%{x}<br>top1=%{y}<br>size=%{marker.size}<br>train_img_size=%{customdata[0]}<extra></extra>\",\"hovertext\":[\"regnetz_d8\",\"regnetz_c16\",\"regnetz_b16\",\"regnetz_e8\",\"regnetz_c16_evos\",\"regnetz_d8_evos\",\"regnetz_040\",\"regnetz_d32\"],\"legendgroup\":\"regnetz\",\"marker\":{\"color\":\"#636efa\",\"size\":[102400,102400,82944,102400,102400,102400,102400,102400],\"sizemode\":\"area\",\"sizeref\":655.36,\"symbol\":\"circle\"},\"mode\":\"markers\",\"name\":\"regnetz\",\"orientation\":\"v\",\"showlegend\":true,\"x\":[0.0032123353678123997,0.003997441637352095,0.005506607929515419,0.006836671908115129,0.008684324793747285,0.010453690152623877,0.010575296108291032,0.013854253255749514],\"xaxis\":\"x\",\"y\":[84.054,82.634,80.728,85.036,82.632,84.126,84.24,84.022],\"yaxis\":\"y\",\"type\":\"scatter\"},{\"customdata\":[[288]],\"hovertemplate\":\"<b>%{hovertext}</b><br><br>family=resnetv2d<br>secs=%{x}<br>top1=%{y}<br>size=%{marker.size}<br>train_img_size=%{customdata[0]}<extra></extra>\",\"hovertext\":[\"resnetv2_50d_evos\"],\"legendgroup\":\"resnetv2d\",\"marker\":{\"color\":\"#EF553B\",\"size\":[82944],\"sizemode\":\"area\",\"sizeref\":655.36,\"symbol\":\"circle\"},\"mode\":\"markers\",\"name\":\"resnetv2d\",\"orientation\":\"v\",\"showlegend\":true,\"x\":[0.004472271914132379],\"xaxis\":\"x\",\"y\":[82.0],\"yaxis\":\"y\",\"type\":\"scatter\"},{\"customdata\":[[288],[288]],\"hovertemplate\":\"<b>%{hovertext}</b><br><br>family=regnetv<br>secs=%{x}<br>top1=%{y}<br>size=%{marker.size}<br>train_img_size=%{customdata[0]}<extra></extra>\",\"hovertext\":[\"regnetv_040\",\"regnetv_064\"],\"legendgroup\":\"regnetv\",\"marker\":{\"color\":\"#00cc96\",\"size\":[82944,82944],\"sizemode\":\"area\",\"sizeref\":655.36,\"symbol\":\"circle\"},\"mode\":\"markers\",\"name\":\"regnetv\",\"orientation\":\"v\",\"showlegend\":true,\"x\":[0.008409014463504878,0.013925637097897228],\"xaxis\":\"x\",\"y\":[83.198,83.716],\"yaxis\":\"y\",\"type\":\"scatter\"}],                        {\"template\":{\"data\":{\"histogram2dcontour\":[{\"type\":\"histogram2dcontour\",\"colorbar\":{\"outlinewidth\":0,\"ticks\":\"\"},\"colorscale\":[[0.0,\"#0d0887\"],[0.1111111111111111,\"#46039f\"],[0.2222222222222222,\"#7201a8\"],[0.3333333333333333,\"#9c179e\"],[0.4444444444444444,\"#bd3786\"],[0.5555555555555556,\"#d8576b\"],[0.6666666666666666,\"#ed7953\"],[0.7777777777777778,\"#fb9f3a\"],[0.8888888888888888,\"#fdca26\"],[1.0,\"#f0f921\"]]}],\"choropleth\":[{\"type\":\"choropleth\",\"colorbar\":{\"outlinewidth\":0,\"ticks\":\"\"}}],\"histogram2d\":[{\"type\":\"histogram2d\",\"colorbar\":{\"outlinewidth\":0,\"ticks\":\"\"},\"colorscale\":[[0.0,\"#0d0887\"],[0.1111111111111111,\"#46039f\"],[0.2222222222222222,\"#7201a8\"],[0.3333333333333333,\"#9c179e\"],[0.4444444444444444,\"#bd3786\"],[0.5555555555555556,\"#d8576b\"],[0.6666666666666666,\"#ed7953\"],[0.7777777777777778,\"#fb9f3a\"],[0.8888888888888888,\"#fdca26\"],[1.0,\"#f0f921\"]]}],\"heatmap\":[{\"type\":\"heatmap\",\"colorbar\":{\"outlinewidth\":0,\"ticks\":\"\"},\"colorscale\":[[0.0,\"#0d0887\"],[0.1111111111111111,\"#46039f\"],[0.2222222222222222,\"#7201a8\"],[0.3333333333333333,\"#9c179e\"],[0.4444444444444444,\"#bd3786\"],[0.5555555555555556,\"#d8576b\"],[0.6666666666666666,\"#ed7953\"],[0.7777777777777778,\"#fb9f3a\"],[0.8888888888888888,\"#fdca26\"],[1.0,\"#f0f921\"]]}],\"heatmapgl\":[{\"type\":\"heatmapgl\",\"colorbar\":{\"outlinewidth\":0,\"ticks\":\"\"},\"colorscale\":[[0.0,\"#0d0887\"],[0.1111111111111111,\"#46039f\"],[0.2222222222222222,\"#7201a8\"],[0.3333333333333333,\"#9c179e\"],[0.4444444444444444,\"#bd3786\"],[0.5555555555555556,\"#d8576b\"],[0.6666666666666666,\"#ed7953\"],[0.7777777777777778,\"#fb9f3a\"],[0.8888888888888888,\"#fdca26\"],[1.0,\"#f0f921\"]]}],\"contourcarpet\":[{\"type\":\"contourcarpet\",\"colorbar\":{\"outlinewidth\":0,\"ticks\":\"\"}}],\"contour\":[{\"type\":\"contour\",\"colorbar\":{\"outlinewidth\":0,\"ticks\":\"\"},\"colorscale\":[[0.0,\"#0d0887\"],[0.1111111111111111,\"#46039f\"],[0.2222222222222222,\"#7201a8\"],[0.3333333333333333,\"#9c179e\"],[0.4444444444444444,\"#bd3786\"],[0.5555555555555556,\"#d8576b\"],[0.6666666666666666,\"#ed7953\"],[0.7777777777777778,\"#fb9f3a\"],[0.8888888888888888,\"#fdca26\"],[1.0,\"#f0f921\"]]}],\"surface\":[{\"type\":\"surface\",\"colorbar\":{\"outlinewidth\":0,\"ticks\":\"\"},\"colorscale\":[[0.0,\"#0d0887\"],[0.1111111111111111,\"#46039f\"],[0.2222222222222222,\"#7201a8\"],[0.3333333333333333,\"#9c179e\"],[0.4444444444444444,\"#bd3786\"],[0.5555555555555556,\"#d8576b\"],[0.6666666666666666,\"#ed7953\"],[0.7777777777777778,\"#fb9f3a\"],[0.8888888888888888,\"#fdca26\"],[1.0,\"#f0f921\"]]}],\"mesh3d\":[{\"type\":\"mesh3d\",\"colorbar\":{\"outlinewidth\":0,\"ticks\":\"\"}}],\"scatter\":[{\"fillpattern\":{\"fillmode\":\"overlay\",\"size\":10,\"solidity\":0.2},\"type\":\"scatter\"}],\"parcoords\":[{\"type\":\"parcoords\",\"line\":{\"colorbar\":{\"outlinewidth\":0,\"ticks\":\"\"}}}],\"scatterpolargl\":[{\"type\":\"scatterpolargl\",\"marker\":{\"colorbar\":{\"outlinewidth\":0,\"ticks\":\"\"}}}],\"bar\":[{\"error_x\":{\"color\":\"#2a3f5f\"},\"error_y\":{\"color\":\"#2a3f5f\"},\"marker\":{\"line\":{\"color\":\"#E5ECF6\",\"width\":0.5},\"pattern\":{\"fillmode\":\"overlay\",\"size\":10,\"solidity\":0.2}},\"type\":\"bar\"}],\"scattergeo\":[{\"type\":\"scattergeo\",\"marker\":{\"colorbar\":{\"outlinewidth\":0,\"ticks\":\"\"}}}],\"scatterpolar\":[{\"type\":\"scatterpolar\",\"marker\":{\"colorbar\":{\"outlinewidth\":0,\"ticks\":\"\"}}}],\"histogram\":[{\"marker\":{\"pattern\":{\"fillmode\":\"overlay\",\"size\":10,\"solidity\":0.2}},\"type\":\"histogram\"}],\"scattergl\":[{\"type\":\"scattergl\",\"marker\":{\"colorbar\":{\"outlinewidth\":0,\"ticks\":\"\"}}}],\"scatter3d\":[{\"type\":\"scatter3d\",\"line\":{\"colorbar\":{\"outlinewidth\":0,\"ticks\":\"\"}},\"marker\":{\"colorbar\":{\"outlinewidth\":0,\"ticks\":\"\"}}}],\"scattermapbox\":[{\"type\":\"scattermapbox\",\"marker\":{\"colorbar\":{\"outlinewidth\":0,\"ticks\":\"\"}}}],\"scatterternary\":[{\"type\":\"scatterternary\",\"marker\":{\"colorbar\":{\"outlinewidth\":0,\"ticks\":\"\"}}}],\"scattercarpet\":[{\"type\":\"scattercarpet\",\"marker\":{\"colorbar\":{\"outlinewidth\":0,\"ticks\":\"\"}}}],\"carpet\":[{\"aaxis\":{\"endlinecolor\":\"#2a3f5f\",\"gridcolor\":\"white\",\"linecolor\":\"white\",\"minorgridcolor\":\"white\",\"startlinecolor\":\"#2a3f5f\"},\"baxis\":{\"endlinecolor\":\"#2a3f5f\",\"gridcolor\":\"white\",\"linecolor\":\"white\",\"minorgridcolor\":\"white\",\"startlinecolor\":\"#2a3f5f\"},\"type\":\"carpet\"}],\"table\":[{\"cells\":{\"fill\":{\"color\":\"#EBF0F8\"},\"line\":{\"color\":\"white\"}},\"header\":{\"fill\":{\"color\":\"#C8D4E3\"},\"line\":{\"color\":\"white\"}},\"type\":\"table\"}],\"barpolar\":[{\"marker\":{\"line\":{\"color\":\"#E5ECF6\",\"width\":0.5},\"pattern\":{\"fillmode\":\"overlay\",\"size\":10,\"solidity\":0.2}},\"type\":\"barpolar\"}],\"pie\":[{\"automargin\":true,\"type\":\"pie\"}]},\"layout\":{\"autotypenumbers\":\"strict\",\"colorway\":[\"#636efa\",\"#EF553B\",\"#00cc96\",\"#ab63fa\",\"#FFA15A\",\"#19d3f3\",\"#FF6692\",\"#B6E880\",\"#FF97FF\",\"#FECB52\"],\"font\":{\"color\":\"#2a3f5f\"},\"hovermode\":\"closest\",\"hoverlabel\":{\"align\":\"left\"},\"paper_bgcolor\":\"white\",\"plot_bgcolor\":\"#E5ECF6\",\"polar\":{\"bgcolor\":\"#E5ECF6\",\"angularaxis\":{\"gridcolor\":\"white\",\"linecolor\":\"white\",\"ticks\":\"\"},\"radialaxis\":{\"gridcolor\":\"white\",\"linecolor\":\"white\",\"ticks\":\"\"}},\"ternary\":{\"bgcolor\":\"#E5ECF6\",\"aaxis\":{\"gridcolor\":\"white\",\"linecolor\":\"white\",\"ticks\":\"\"},\"baxis\":{\"gridcolor\":\"white\",\"linecolor\":\"white\",\"ticks\":\"\"},\"caxis\":{\"gridcolor\":\"white\",\"linecolor\":\"white\",\"ticks\":\"\"}},\"coloraxis\":{\"colorbar\":{\"outlinewidth\":0,\"ticks\":\"\"}},\"colorscale\":{\"sequential\":[[0.0,\"#0d0887\"],[0.1111111111111111,\"#46039f\"],[0.2222222222222222,\"#7201a8\"],[0.3333333333333333,\"#9c179e\"],[0.4444444444444444,\"#bd3786\"],[0.5555555555555556,\"#d8576b\"],[0.6666666666666666,\"#ed7953\"],[0.7777777777777778,\"#fb9f3a\"],[0.8888888888888888,\"#fdca26\"],[1.0,\"#f0f921\"]],\"sequentialminus\":[[0.0,\"#0d0887\"],[0.1111111111111111,\"#46039f\"],[0.2222222222222222,\"#7201a8\"],[0.3333333333333333,\"#9c179e\"],[0.4444444444444444,\"#bd3786\"],[0.5555555555555556,\"#d8576b\"],[0.6666666666666666,\"#ed7953\"],[0.7777777777777778,\"#fb9f3a\"],[0.8888888888888888,\"#fdca26\"],[1.0,\"#f0f921\"]],\"diverging\":[[0,\"#8e0152\"],[0.1,\"#c51b7d\"],[0.2,\"#de77ae\"],[0.3,\"#f1b6da\"],[0.4,\"#fde0ef\"],[0.5,\"#f7f7f7\"],[0.6,\"#e6f5d0\"],[0.7,\"#b8e186\"],[0.8,\"#7fbc41\"],[0.9,\"#4d9221\"],[1,\"#276419\"]]},\"xaxis\":{\"gridcolor\":\"white\",\"linecolor\":\"white\",\"ticks\":\"\",\"title\":{\"standoff\":15},\"zerolinecolor\":\"white\",\"automargin\":true,\"zerolinewidth\":2},\"yaxis\":{\"gridcolor\":\"white\",\"linecolor\":\"white\",\"ticks\":\"\",\"title\":{\"standoff\":15},\"zerolinecolor\":\"white\",\"automargin\":true,\"zerolinewidth\":2},\"scene\":{\"xaxis\":{\"backgroundcolor\":\"#E5ECF6\",\"gridcolor\":\"white\",\"linecolor\":\"white\",\"showbackground\":true,\"ticks\":\"\",\"zerolinecolor\":\"white\",\"gridwidth\":2},\"yaxis\":{\"backgroundcolor\":\"#E5ECF6\",\"gridcolor\":\"white\",\"linecolor\":\"white\",\"showbackground\":true,\"ticks\":\"\",\"zerolinecolor\":\"white\",\"gridwidth\":2},\"zaxis\":{\"backgroundcolor\":\"#E5ECF6\",\"gridcolor\":\"white\",\"linecolor\":\"white\",\"showbackground\":true,\"ticks\":\"\",\"zerolinecolor\":\"white\",\"gridwidth\":2}},\"shapedefaults\":{\"line\":{\"color\":\"#2a3f5f\"}},\"annotationdefaults\":{\"arrowcolor\":\"#2a3f5f\",\"arrowhead\":0,\"arrowwidth\":1},\"geo\":{\"bgcolor\":\"white\",\"landcolor\":\"#E5ECF6\",\"subunitcolor\":\"white\",\"showland\":true,\"showlakes\":true,\"lakecolor\":\"white\"},\"title\":{\"x\":0.05},\"mapbox\":{\"style\":\"light\"}}},\"xaxis\":{\"anchor\":\"y\",\"domain\":[0.0,1.0],\"title\":{\"text\":\"secs (how many seconds it takes to process one image)\"},\"type\":\"log\"},\"yaxis\":{\"anchor\":\"x\",\"domain\":[0.0,1.0],\"title\":{\"text\":\"top1 (accuracy on Imagenet)\"}},\"legend\":{\"title\":{\"text\":\"family\"},\"tracegroupgap\":0,\"itemsizing\":\"constant\"},\"title\":{\"text\":\"Training\"},\"height\":800,\"width\":1000},                        {\"responsive\": true}                    ).then(function(){\n",
       "                            \n",
       "var gd = document.getElementById('aaf03c6c-e4d4-4541-8867-de57f20bff82');\n",
       "var x = new MutationObserver(function (mutations, observer) {{\n",
       "        var display = window.getComputedStyle(gd).display;\n",
       "        if (!display || display === 'none') {{\n",
       "            console.log([gd, 'removed!']);\n",
       "            Plotly.purge(gd);\n",
       "            observer.disconnect();\n",
       "        }}\n",
       "}});\n",
       "\n",
       "// Listen for the removal of the full notebook cells\n",
       "var notebookContainer = gd.closest('#notebook-container');\n",
       "if (notebookContainer) {{\n",
       "    x.observe(notebookContainer, {childList: true});\n",
       "}}\n",
       "\n",
       "// Listen for the clearing of the current output cell\n",
       "var outputEl = gd.closest('.output');\n",
       "if (outputEl) {{\n",
       "    x.observe(outputEl, {childList: true});\n",
       "}}\n",
       "\n",
       "                        })                };                });            </script>        </div>"
      ]
     },
     "metadata": {},
     "output_type": "display_data"
    }
   ],
   "source": [
    "show_all(tdf, 'Training', 'train_img_size')"
   ]
  },
  {
   "cell_type": "markdown",
   "metadata": {},
   "source": [
    "...and we'll also look at our chosen subset of models:"
   ]
  },
  {
   "cell_type": "code",
   "execution_count": 51,
   "metadata": {
    "ExecuteTime": {
     "end_time": "2023-12-08T03:12:37.028710Z",
     "start_time": "2023-12-08T03:12:36.936833Z"
    },
    "execution": {
     "iopub.execute_input": "2023-06-10T09:02:06.04771Z",
     "iopub.status.busy": "2023-06-10T09:02:06.047407Z",
     "iopub.status.idle": "2023-06-10T09:02:06.291487Z",
     "shell.execute_reply": "2023-06-10T09:02:06.290335Z",
     "shell.execute_reply.started": "2023-06-10T09:02:06.047672Z"
    }
   },
   "outputs": [
    {
     "data": {
      "application/vnd.plotly.v1+json": {
       "config": {
        "plotlyServerURL": "https://plot.ly"
       },
       "data": [
        {
         "customdata": [
          [
           224
          ],
          [
           224
          ],
          [
           224
          ],
          [
           224
          ],
          [
           224
          ]
         ],
         "hovertemplate": "<b>%{hovertext}</b><br><br>family=levit<br>secs=%{x}<br>top1=%{y}<br>size=%{marker.size}<br>train_img_size=%{customdata[0]}<extra></extra>",
         "hovertext": [
          "levit_128s",
          "levit_128",
          "levit_192",
          "levit_256",
          "levit_384"
         ],
         "legendgroup": "levit",
         "marker": {
          "color": "#636efa",
          "size": [
           50176,
           50176,
           50176,
           50176,
           50176
          ],
          "sizemode": "area",
          "sizeref": 655.36,
          "symbol": "circle"
         },
         "mode": "markers",
         "name": "levit",
         "orientation": "v",
         "showlegend": true,
         "type": "scatter",
         "x": [
          0.00015865108501477042,
          0.00022550151537018326,
          0.00026151037934695625,
          0.000342053415061296,
          0.0005556697765651828
         ],
         "xaxis": "x",
         "y": [
          76.526,
          78.49,
          79.838,
          81.514,
          82.596
         ],
         "yaxis": "y"
        },
        {
         "hovertemplate": "<b>OLS trendline</b><br>top1 = 11.4642 * log10(secs) + 120.491<br>R<sup>2</sup>=0.944715<br><br>family=levit<br>secs=%{x}<br>top1=%{y} <b>(trend)</b><extra></extra>",
         "legendgroup": "levit",
         "marker": {
          "color": "#636efa",
          "symbol": "circle"
         },
         "mode": "lines",
         "name": "levit",
         "showlegend": false,
         "type": "scatter",
         "x": [
          0.00015865108501477042,
          0.00022550151537018326,
          0.00026151037934695625,
          0.000342053415061296,
          0.0005556697765651828
         ],
         "xaxis": "x",
         "y": [
          76.93184652926372,
          78.68250384396545,
          79.42010451720392,
          80.75688786183711,
          83.17265724772933
         ],
         "yaxis": "y"
        },
        {
         "customdata": [
          [
           224
          ],
          [
           224
          ],
          [
           224
          ],
          [
           224
          ],
          [
           224
          ],
          [
           224
          ],
          [
           224
          ],
          [
           224
          ],
          [
           224
          ],
          [
           224
          ],
          [
           224
          ],
          [
           224
          ],
          [
           224
          ],
          [
           256
          ],
          [
           224
          ],
          [
           224
          ],
          [
           224
          ],
          [
           224
          ],
          [
           224
          ],
          [
           224
          ],
          [
           224
          ],
          [
           224
          ],
          [
           224
          ],
          [
           224
          ],
          [
           224
          ],
          [
           224
          ],
          [
           224
          ],
          [
           224
          ],
          [
           224
          ],
          [
           224
          ],
          [
           224
          ],
          [
           224
          ],
          [
           256
          ],
          [
           256
          ],
          [
           224
          ],
          [
           224
          ],
          [
           224
          ],
          [
           224
          ],
          [
           224
          ],
          [
           224
          ],
          [
           224
          ],
          [
           224
          ],
          [
           224
          ],
          [
           224
          ],
          [
           224
          ],
          [
           224
          ],
          [
           224
          ],
          [
           224
          ],
          [
           288
          ],
          [
           288
          ]
         ],
         "hovertemplate": "<b>%{hovertext}</b><br><br>family=resnet<br>secs=%{x}<br>top1=%{y}<br>size=%{marker.size}<br>train_img_size=%{customdata[0]}<extra></extra>",
         "hovertext": [
          "resnet18",
          "resnet18",
          "resnet18",
          "resnet18",
          "resnet18",
          "resnet18",
          "resnet18",
          "resnet34",
          "resnet34",
          "resnet34",
          "resnet34",
          "resnet34",
          "resnet26",
          "resnet26t",
          "resnet50",
          "resnet50",
          "resnet50",
          "resnet50",
          "resnet50",
          "resnet50",
          "resnet50",
          "resnet50",
          "resnet50",
          "resnet50",
          "resnet50",
          "resnet50",
          "resnet50",
          "resnet50",
          "resnet50",
          "resnet50",
          "resnet50",
          "resnet50",
          "resnet32ts",
          "resnet33ts",
          "resnet101",
          "resnet101",
          "resnet101",
          "resnet101",
          "resnet101",
          "resnet101",
          "resnet101",
          "resnet152",
          "resnet152",
          "resnet152",
          "resnet152",
          "resnet152",
          "resnet152",
          "resnet152",
          "resnet51q",
          "resnet61q"
         ],
         "legendgroup": "resnet",
         "marker": {
          "color": "#EF553B",
          "size": [
           50176,
           50176,
           50176,
           50176,
           50176,
           50176,
           50176,
           50176,
           50176,
           50176,
           50176,
           50176,
           50176,
           65536,
           50176,
           50176,
           50176,
           50176,
           50176,
           50176,
           50176,
           50176,
           50176,
           50176,
           50176,
           50176,
           50176,
           50176,
           50176,
           50176,
           50176,
           50176,
           65536,
           65536,
           50176,
           50176,
           50176,
           50176,
           50176,
           50176,
           50176,
           50176,
           50176,
           50176,
           50176,
           50176,
           50176,
           50176,
           82944,
           82944
          ],
          "sizemode": "area",
          "sizeref": 655.36,
          "symbol": "circle"
         },
         "mode": "markers",
         "name": "resnet",
         "orientation": "v",
         "showlegend": true,
         "type": "scatter",
         "x": [
          0.000279003066243698,
          0.000279003066243698,
          0.000279003066243698,
          0.000279003066243698,
          0.000279003066243698,
          0.000279003066243698,
          0.000279003066243698,
          0.0004805543675183692,
          0.0004805543675183692,
          0.0004805543675183692,
          0.0004805543675183692,
          0.0004805543675183692,
          0.0005087349795997273,
          0.000814431730260211,
          0.0008179223137386412,
          0.0008179223137386412,
          0.0008179223137386412,
          0.0008179223137386412,
          0.0008179223137386412,
          0.0008179223137386412,
          0.0008179223137386412,
          0.0008179223137386412,
          0.0008179223137386412,
          0.0008179223137386412,
          0.0008179223137386412,
          0.0008179223137386412,
          0.0008179223137386412,
          0.0008179223137386412,
          0.0008179223137386412,
          0.0008179223137386412,
          0.0008179223137386412,
          0.0008179223137386412,
          0.0009786938352075321,
          0.0009906973518659784,
          0.0013745704467353953,
          0.0013745704467353953,
          0.0013745704467353953,
          0.0013745704467353953,
          0.0013745704467353953,
          0.0013745704467353953,
          0.0013745704467353953,
          0.0020006802312786346,
          0.0020006802312786346,
          0.0020006802312786346,
          0.0020006802312786346,
          0.0020006802312786346,
          0.0020006802312786346,
          0.0020006802312786346,
          0.0035980282805022847,
          0.004809773459670049
         ],
         "xaxis": "x",
         "y": [
          73.282,
          73.158,
          72.594,
          72.372,
          70.838,
          69.76,
          68.254,
          77.918,
          77.158,
          76.48,
          74.578,
          72.97,
          76.366,
          78.332,
          81.214,
          81.182,
          80.972,
          80.912,
          80.87,
          80.85,
          80.772,
          80.706,
          80.676,
          80.454,
          79.976,
          79.836,
          79.64,
          79.234,
          78.998,
          78.048,
          77.58,
          76.13,
          79.392,
          79.726,
          82.778,
          82.322,
          82.236,
          81.89,
          79.814,
          79.31,
          77.376,
          83.45,
          82.732,
          82.608,
          82.288,
          80.546,
          79.694,
          78.322,
          82.36,
          82.524
         ],
         "yaxis": "y"
        },
        {
         "hovertemplate": "<b>OLS trendline</b><br>top1 = 10.2924 * log10(secs) + 110.15<br>R<sup>2</sup>=0.672103<br><br>family=resnet<br>secs=%{x}<br>top1=%{y} <b>(trend)</b><extra></extra>",
         "legendgroup": "resnet",
         "marker": {
          "color": "#EF553B",
          "symbol": "circle"
         },
         "mode": "lines",
         "name": "resnet",
         "showlegend": false,
         "type": "scatter",
         "x": [
          0.000279003066243698,
          0.000279003066243698,
          0.000279003066243698,
          0.000279003066243698,
          0.000279003066243698,
          0.000279003066243698,
          0.000279003066243698,
          0.0004805543675183692,
          0.0004805543675183692,
          0.0004805543675183692,
          0.0004805543675183692,
          0.0004805543675183692,
          0.0005087349795997273,
          0.000814431730260211,
          0.0008179223137386412,
          0.0008179223137386412,
          0.0008179223137386412,
          0.0008179223137386412,
          0.0008179223137386412,
          0.0008179223137386412,
          0.0008179223137386412,
          0.0008179223137386412,
          0.0008179223137386412,
          0.0008179223137386412,
          0.0008179223137386412,
          0.0008179223137386412,
          0.0008179223137386412,
          0.0008179223137386412,
          0.0008179223137386412,
          0.0008179223137386412,
          0.0008179223137386412,
          0.0008179223137386412,
          0.0009786938352075321,
          0.0009906973518659784,
          0.0013745704467353953,
          0.0013745704467353953,
          0.0013745704467353953,
          0.0013745704467353953,
          0.0013745704467353953,
          0.0013745704467353953,
          0.0013745704467353953,
          0.0020006802312786346,
          0.0020006802312786346,
          0.0020006802312786346,
          0.0020006802312786346,
          0.0020006802312786346,
          0.0020006802312786346,
          0.0020006802312786346,
          0.0035980282805022847,
          0.004809773459670049
         ],
         "xaxis": "x",
         "y": [
          73.56696861190552,
          73.56696861190552,
          73.56696861190552,
          73.56696861190552,
          73.56696861190552,
          73.56696861190552,
          73.56696861190552,
          75.99734498828545,
          75.99734498828545,
          75.99734498828545,
          75.99734498828545,
          75.99734498828545,
          76.2520718465248,
          78.35545448781572,
          78.37457125594048,
          78.37457125594048,
          78.37457125594048,
          78.37457125594048,
          78.37457125594048,
          78.37457125594048,
          78.37457125594048,
          78.37457125594048,
          78.37457125594048,
          78.37457125594048,
          78.37457125594048,
          78.37457125594048,
          78.37457125594048,
          78.37457125594048,
          78.37457125594048,
          78.37457125594048,
          78.37457125594048,
          78.37457125594048,
          79.17670583607934,
          79.23119523643626,
          80.69503935085184,
          80.69503935085184,
          80.69503935085184,
          80.69503935085184,
          80.69503935085184,
          80.69503935085184,
          80.69503935085184,
          82.37280728374353,
          82.37280728374353,
          82.37280728374353,
          82.37280728374353,
          82.37280728374353,
          82.37280728374353,
          82.37280728374353,
          84.99620016310867,
          86.29365815617196
         ],
         "yaxis": "y"
        },
        {
         "customdata": [
          [
           224
          ],
          [
           224
          ],
          [
           224
          ],
          [
           224
          ],
          [
           224
          ],
          [
           224
          ],
          [
           224
          ],
          [
           224
          ],
          [
           320
          ],
          [
           320
          ],
          [
           320
          ],
          [
           320
          ],
          [
           320
          ]
         ],
         "hovertemplate": "<b>%{hovertext}</b><br><br>family=resnetd<br>secs=%{x}<br>top1=%{y}<br>size=%{marker.size}<br>train_img_size=%{customdata[0]}<extra></extra>",
         "hovertext": [
          "resnet18d",
          "resnet34d",
          "resnet26d",
          "resnet50d",
          "resnet50d",
          "resnet50d",
          "resnet50d",
          "resnet50d",
          "resnet101d",
          "resnet101d",
          "resnet152d",
          "resnet152d",
          "resnet200d"
         ],
         "legendgroup": "resnetd",
         "marker": {
          "color": "#00cc96",
          "size": [
           50176,
           50176,
           50176,
           50176,
           50176,
           50176,
           50176,
           50176,
           102400,
           102400,
           102400,
           102400,
           102400
          ],
          "sizemode": "area",
          "sizeref": 655.36,
          "symbol": "circle"
         },
         "mode": "markers",
         "name": "resnetd",
         "orientation": "v",
         "showlegend": true,
         "type": "scatter",
         "x": [
          0.0003533543932551713,
          0.0005558550996926121,
          0.0006213611537433903,
          0.0009343960531110716,
          0.0009343960531110716,
          0.0009343960531110716,
          0.0009343960531110716,
          0.0009343960531110716,
          0.003054274457102715,
          0.003054274457102715,
          0.0046277014207043365,
          0.0046277014207043365,
          0.006017209218364523
         ],
         "xaxis": "x",
         "y": [
          73.794,
          78.436,
          77.408,
          81.45,
          81.356,
          81.164,
          79.078,
          78.722,
          83.016,
          80.426,
          83.684,
          80.476,
          83.964
         ],
         "yaxis": "y"
        },
        {
         "hovertemplate": "<b>OLS trendline</b><br>top1 = 5.46902 * log10(secs) + 95.7864<br>R<sup>2</sup>=0.628381<br><br>family=resnetd<br>secs=%{x}<br>top1=%{y} <b>(trend)</b><extra></extra>",
         "legendgroup": "resnetd",
         "marker": {
          "color": "#00cc96",
          "symbol": "circle"
         },
         "mode": "lines",
         "name": "resnetd",
         "showlegend": false,
         "type": "scatter",
         "x": [
          0.0003533543932551713,
          0.0005558550996926121,
          0.0006213611537433903,
          0.0009343960531110716,
          0.0009343960531110716,
          0.0009343960531110716,
          0.0009343960531110716,
          0.0009343960531110716,
          0.003054274457102715,
          0.003054274457102715,
          0.0046277014207043365,
          0.0046277014207043365,
          0.006017209218364523
         ],
         "xaxis": "x",
         "y": [
          76.90849425388384,
          77.98453017763589,
          78.24913511607788,
          79.21817400293456,
          79.21817400293456,
          79.21817400293456,
          79.21817400293456,
          79.21817400293456,
          82.03131305246265,
          82.03131305246265,
          83.01823768150729,
          83.01823768150729,
          83.64186896979007
         ],
         "yaxis": "y"
        },
        {
         "customdata": [
          [
           224
          ],
          [
           224
          ],
          [
           224
          ],
          [
           224
          ],
          [
           224
          ],
          [
           224
          ],
          [
           224
          ],
          [
           224
          ],
          [
           224
          ],
          [
           224
          ],
          [
           224
          ],
          [
           224
          ],
          [
           224
          ],
          [
           224
          ],
          [
           224
          ],
          [
           224
          ],
          [
           224
          ],
          [
           224
          ]
         ],
         "hovertemplate": "<b>%{hovertext}</b><br><br>family=regnetx<br>secs=%{x}<br>top1=%{y}<br>size=%{marker.size}<br>train_img_size=%{customdata[0]}<extra></extra>",
         "hovertext": [
          "regnetx_002",
          "regnetx_004",
          "regnetx_006",
          "regnetx_008",
          "regnetx_008",
          "regnetx_016",
          "regnetx_016",
          "regnetx_032",
          "regnetx_032",
          "regnetx_040",
          "regnetx_080",
          "regnetx_080",
          "regnetx_064",
          "regnetx_120",
          "regnetx_160",
          "regnetx_160",
          "regnetx_320",
          "regnetx_320"
         ],
         "legendgroup": "regnetx",
         "marker": {
          "color": "#ab63fa",
          "size": [
           50176,
           50176,
           50176,
           50176,
           50176,
           50176,
           50176,
           50176,
           50176,
           50176,
           50176,
           50176,
           50176,
           50176,
           50176,
           50176,
           50176,
           50176
          ],
          "sizemode": "area",
          "sizeref": 655.36,
          "symbol": "circle"
         },
         "mode": "markers",
         "name": "regnetx",
         "orientation": "v",
         "showlegend": true,
         "type": "scatter",
         "x": [
          0.0004215904922912179,
          0.0008689456213830139,
          0.0012649261283141065,
          0.001689760054072322,
          0.001689760054072322,
          0.002637061258933045,
          0.002637061258933045,
          0.005628095452498874,
          0.005628095452498874,
          0.006177796997590659,
          0.0066657778962804955,
          0.0066657778962804955,
          0.008056070248932571,
          0.012896569512509672,
          0.015382248884786955,
          0.015382248884786955,
          0.021663778162911613,
          0.021663778162911613
         ],
         "xaxis": "x",
         "y": [
          68.746,
          72.398,
          73.868,
          77.304,
          75.03,
          79.436,
          76.924,
          80.926,
          78.168,
          78.492,
          81.538,
          79.202,
          79.066,
          79.588,
          82.566,
          79.866,
          82.81,
          80.246
         ],
         "yaxis": "y"
        },
        {
         "hovertemplate": "<b>OLS trendline</b><br>top1 = 6.57304 * log10(secs) + 93.4706<br>R<sup>2</sup>=0.807124<br><br>family=regnetx<br>secs=%{x}<br>top1=%{y} <b>(trend)</b><extra></extra>",
         "legendgroup": "regnetx",
         "marker": {
          "color": "#ab63fa",
          "symbol": "circle"
         },
         "mode": "lines",
         "name": "regnetx",
         "showlegend": false,
         "type": "scatter",
         "x": [
          0.0004215904922912179,
          0.0008689456213830139,
          0.0012649261283141065,
          0.001689760054072322,
          0.001689760054072322,
          0.002637061258933045,
          0.002637061258933045,
          0.005628095452498874,
          0.005628095452498874,
          0.006177796997590659,
          0.0066657778962804955,
          0.0066657778962804955,
          0.008056070248932571,
          0.012896569512509672,
          0.015382248884786955,
          0.015382248884786955,
          0.021663778162911613,
          0.021663778162911613
         ],
         "xaxis": "x",
         "y": [
          71.28585487111548,
          73.35045710741375,
          74.42233886848834,
          75.24896300134071,
          75.24896300134071,
          76.51949908558133,
          76.51949908558133,
          78.68361343092042,
          78.68361343092042,
          78.94963850078476,
          79.16666176662225,
          79.16666176662225,
          79.70744121364272,
          81.05064732831512,
          81.55378447903153,
          81.55378447903153,
          82.5312892916237,
          82.5312892916237
         ],
         "yaxis": "y"
        },
        {
         "customdata": [
          [
           224
          ],
          [
           224
          ],
          [
           224
          ],
          [
           224
          ],
          [
           224
          ],
          [
           224
          ],
          [
           224
          ],
          [
           224
          ]
         ],
         "hovertemplate": "<b>%{hovertext}</b><br><br>family=vgg<br>secs=%{x}<br>top1=%{y}<br>size=%{marker.size}<br>train_img_size=%{customdata[0]}<extra></extra>",
         "hovertext": [
          "vgg11",
          "vgg11_bn",
          "vgg13",
          "vgg13_bn",
          "vgg16",
          "vgg16_bn",
          "vgg19",
          "vgg19_bn"
         ],
         "legendgroup": "vgg",
         "marker": {
          "color": "#FFA15A",
          "size": [
           50176,
           50176,
           50176,
           50176,
           50176,
           50176,
           50176,
           50176
          ],
          "sizemode": "area",
          "sizeref": 655.36,
          "symbol": "circle"
         },
         "mode": "markers",
         "name": "vgg",
         "orientation": "v",
         "showlegend": true,
         "type": "scatter",
         "x": [
          0.001074575542660649,
          0.0012416499043929573,
          0.0015078180365193528,
          0.001758118110374655,
          0.001863967641521743,
          0.0021277953911951826,
          0.0022130748461912982,
          0.002501626056937009
         ],
         "xaxis": "x",
         "y": [
          69.022,
          70.382,
          69.932,
          71.588,
          71.592,
          73.37,
          72.378,
          74.216
         ],
         "yaxis": "y"
        },
        {
         "hovertemplate": "<b>OLS trendline</b><br>top1 = 12.9585 * log10(secs) + 107.374<br>R<sup>2</sup>=0.885938<br><br>family=vgg<br>secs=%{x}<br>top1=%{y} <b>(trend)</b><extra></extra>",
         "legendgroup": "vgg",
         "marker": {
          "color": "#FFA15A",
          "symbol": "circle"
         },
         "mode": "lines",
         "name": "vgg",
         "showlegend": false,
         "type": "scatter",
         "x": [
          0.001074575542660649,
          0.0012416499043929573,
          0.0015078180365193528,
          0.001758118110374655,
          0.001863967641521743,
          0.0021277953911951826,
          0.0022130748461912982,
          0.002501626056937009
         ],
         "xaxis": "x",
         "y": [
          68.90298324828241,
          69.71628704046174,
          70.80933322468682,
          71.67365339544185,
          72.00267376015799,
          72.74767704773949,
          72.96882981982682,
          73.65856246340248
         ],
         "yaxis": "y"
        },
        {
         "customdata": [
          [
           224
          ],
          [
           224
          ],
          [
           224
          ],
          [
           224
          ],
          [
           224
          ],
          [
           224
          ],
          [
           224
          ],
          [
           224
          ],
          [
           224
          ],
          [
           224
          ],
          [
           224
          ],
          [
           224
          ],
          [
           224
          ],
          [
           224
          ],
          [
           224
          ],
          [
           224
          ],
          [
           224
          ],
          [
           224
          ],
          [
           224
          ],
          [
           224
          ],
          [
           224
          ]
         ],
         "hovertemplate": "<b>%{hovertext}</b><br><br>family=convnext<br>secs=%{x}<br>top1=%{y}<br>size=%{marker.size}<br>train_img_size=%{customdata[0]}<extra></extra>",
         "hovertext": [
          "convnext_tiny",
          "convnext_tiny",
          "convnext_tiny",
          "convnext_tiny",
          "convnext_tiny",
          "convnext_tiny_hnf",
          "convnext_small",
          "convnext_small",
          "convnext_small",
          "convnext_small",
          "convnext_small",
          "convnext_base",
          "convnext_base",
          "convnext_base",
          "convnext_base",
          "convnext_base",
          "convnext_base",
          "convnext_base",
          "convnext_large",
          "convnext_large",
          "convnext_large"
         ],
         "legendgroup": "convnext",
         "marker": {
          "color": "#19d3f3",
          "size": [
           50176,
           50176,
           50176,
           50176,
           50176,
           50176,
           50176,
           50176,
           50176,
           50176,
           50176,
           50176,
           50176,
           50176,
           50176,
           50176,
           50176,
           50176,
           50176,
           50176,
           50176
          ],
          "sizemode": "area",
          "sizeref": 655.36,
          "symbol": "circle"
         },
         "mode": "markers",
         "name": "convnext",
         "orientation": "v",
         "showlegend": true,
         "type": "scatter",
         "x": [
          0.0012801310854231474,
          0.0012801310854231474,
          0.0012801310854231474,
          0.0012801310854231474,
          0.0012801310854231474,
          0.0014666412448850886,
          0.0021101943488995335,
          0.0021101943488995335,
          0.0021101943488995335,
          0.0021101943488995335,
          0.0021101943488995335,
          0.0030553009471432934,
          0.0030553009471432934,
          0.0030553009471432934,
          0.0030553009471432934,
          0.0030553009471432934,
          0.0030553009471432934,
          0.0030553009471432934,
          0.005535872453498672,
          0.005535872453498672,
          0.005535872453498672
         ],
         "xaxis": "x",
         "y": [
          85.122,
          84.45,
          84.088,
          82.698,
          78.898,
          82.584,
          86.182,
          85.778,
          85.33,
          85.262,
          83.7,
          87.134,
          86.796,
          86.502,
          86.37,
          86.274,
          86.158,
          84.428,
          87.472,
          87.026,
          84.846
         ],
         "yaxis": "y"
        },
        {
         "hovertemplate": "<b>OLS trendline</b><br>top1 = 6.17519 * log10(secs) + 101.288<br>R<sup>2</sup>=0.439434<br><br>family=convnext<br>secs=%{x}<br>top1=%{y} <b>(trend)</b><extra></extra>",
         "legendgroup": "convnext",
         "marker": {
          "color": "#19d3f3",
          "symbol": "circle"
         },
         "mode": "lines",
         "name": "convnext",
         "showlegend": false,
         "type": "scatter",
         "x": [
          0.0012801310854231474,
          0.0012801310854231474,
          0.0012801310854231474,
          0.0012801310854231474,
          0.0012801310854231474,
          0.0014666412448850886,
          0.0021101943488995335,
          0.0021101943488995335,
          0.0021101943488995335,
          0.0021101943488995335,
          0.0021101943488995335,
          0.0030553009471432934,
          0.0030553009471432934,
          0.0030553009471432934,
          0.0030553009471432934,
          0.0030553009471432934,
          0.0030553009471432934,
          0.0030553009471432934,
          0.005535872453498672,
          0.005535872453498672,
          0.005535872453498672
         ],
         "xaxis": "x",
         "y": [
          83.42472180338545,
          83.42472180338545,
          83.42472180338545,
          83.42472180338545,
          83.42472180338545,
          83.78948700648877,
          84.76515847525616,
          84.76515847525616,
          84.76515847525616,
          84.76515847525616,
          84.76515847525616,
          85.7577066046458,
          85.7577066046458,
          85.7577066046458,
          85.7577066046458,
          85.7577066046458,
          85.7577066046458,
          85.7577066046458,
          87.35172178926105,
          87.35172178926105,
          87.35172178926105
         ],
         "yaxis": "y"
        },
        {
         "customdata": [
          [
           288
          ],
          [
           384
          ],
          [
           416
          ]
         ],
         "hovertemplate": "<b>%{hovertext}</b><br><br>family=efficientnetv2<br>secs=%{x}<br>top1=%{y}<br>size=%{marker.size}<br>train_img_size=%{customdata[0]}<extra></extra>",
         "hovertext": [
          "efficientnetv2_rw_t",
          "efficientnetv2_rw_s",
          "efficientnetv2_rw_m"
         ],
         "legendgroup": "efficientnetv2",
         "marker": {
          "color": "#FF6692",
          "size": [
           82944,
           147456,
           173056
          ],
          "sizemode": "area",
          "sizeref": 655.36,
          "symbol": "circle"
         },
         "mode": "markers",
         "name": "efficientnetv2",
         "orientation": "v",
         "showlegend": true,
         "type": "scatter",
         "x": [
          0.00146096306685367,
          0.0033831788348332096,
          0.007923302432453847
         ],
         "xaxis": "x",
         "y": [
          82.35,
          83.808,
          84.812
         ],
         "yaxis": "y"
        },
        {
         "hovertemplate": "<b>OLS trendline</b><br>top1 = 3.35158 * log10(secs) + 91.9319<br>R<sup>2</sup>=0.987967<br><br>family=efficientnetv2<br>secs=%{x}<br>top1=%{y} <b>(trend)</b><extra></extra>",
         "legendgroup": "efficientnetv2",
         "marker": {
          "color": "#FF6692",
          "symbol": "circle"
         },
         "mode": "lines",
         "name": "efficientnetv2",
         "showlegend": false,
         "type": "scatter",
         "x": [
          0.00146096306685367,
          0.0033831788348332096,
          0.007923302432453847
         ],
         "xaxis": "x",
         "y": [
          82.42892403321241,
          83.65119737976141,
          84.88987858702619
         ],
         "yaxis": "y"
        },
        {
         "customdata": [
          [
           224
          ],
          [
           224
          ],
          [
           224
          ],
          [
           224
          ],
          [
           224
          ],
          [
           224
          ],
          [
           224
          ],
          [
           224
          ],
          [
           224
          ],
          [
           224
          ],
          [
           384
          ],
          [
           384
          ],
          [
           384
          ]
         ],
         "hovertemplate": "<b>%{hovertext}</b><br><br>family=swin<br>secs=%{x}<br>top1=%{y}<br>size=%{marker.size}<br>train_img_size=%{customdata[0]}<extra></extra>",
         "hovertext": [
          "swin_tiny_patch4_window7_224",
          "swin_tiny_patch4_window7_224",
          "swin_s3_tiny_224",
          "swin_small_patch4_window7_224",
          "swin_small_patch4_window7_224",
          "swin_s3_small_224",
          "swin_base_patch4_window7_224",
          "swin_base_patch4_window7_224",
          "swin_s3_base_224",
          "swin_large_patch4_window7_224",
          "swin_base_patch4_window12_384",
          "swin_base_patch4_window12_384",
          "swin_large_patch4_window12_384"
         ],
         "legendgroup": "swin",
         "marker": {
          "color": "#B6E880",
          "size": [
           50176,
           50176,
           50176,
           50176,
           50176,
           50176,
           50176,
           50176,
           50176,
           50176,
           147456,
           147456,
           147456
          ],
          "sizemode": "area",
          "sizeref": 655.36,
          "symbol": "circle"
         },
         "mode": "markers",
         "name": "swin",
         "orientation": "v",
         "showlegend": true,
         "type": "scatter",
         "x": [
          0.0015640885274106513,
          0.0015640885274106513,
          0.0017278319165111619,
          0.002542071279678682,
          0.002542071279678682,
          0.003609456776755098,
          0.0036254214552441724,
          0.0036254214552441724,
          0.004564750992833341,
          0.006607201850016518,
          0.013585110718652357,
          0.013585110718652357,
          0.024378352023403216
         ],
         "xaxis": "x",
         "y": [
          81.376,
          80.968,
          82.144,
          83.298,
          83.208,
          83.756,
          85.272,
          83.606,
          83.92,
          86.312,
          86.438,
          84.476,
          87.132
         ],
         "yaxis": "y"
        },
        {
         "hovertemplate": "<b>OLS trendline</b><br>top1 = 4.39329 * log10(secs) + 94.3862<br>R<sup>2</sup>=0.778111<br><br>family=swin<br>secs=%{x}<br>top1=%{y} <b>(trend)</b><extra></extra>",
         "legendgroup": "swin",
         "marker": {
          "color": "#B6E880",
          "symbol": "circle"
         },
         "mode": "lines",
         "name": "swin",
         "showlegend": false,
         "type": "scatter",
         "x": [
          0.0015640885274106513,
          0.0015640885274106513,
          0.0017278319165111619,
          0.002542071279678682,
          0.002542071279678682,
          0.003609456776755098,
          0.0036254214552441724,
          0.0036254214552441724,
          0.004564750992833341,
          0.006607201850016518,
          0.013585110718652357,
          0.013585110718652357,
          0.024378352023403216
         ],
         "xaxis": "x",
         "y": [
          82.05981506767428,
          82.05981506767428,
          82.24978153696055,
          82.98647539515518,
          82.98647539515518,
          83.65537155240702,
          83.6637919695314,
          83.6637919695314,
          84.10337814611503,
          84.8089422703854,
          86.18424168350984,
          86.18424168350984,
          87.29987826239132
         ],
         "yaxis": "y"
        },
        {
         "customdata": [
          [
           224
          ],
          [
           224
          ],
          [
           384
          ],
          [
           384
          ],
          [
           512
          ]
         ],
         "hovertemplate": "<b>%{hovertext}</b><br><br>family=beit<br>secs=%{x}<br>top1=%{y}<br>size=%{marker.size}<br>train_img_size=%{customdata[0]}<extra></extra>",
         "hovertext": [
          "beit_base_patch16_224",
          "beit_large_patch16_224",
          "beit_base_patch16_384",
          "beit_large_patch16_384",
          "beit_large_patch16_512"
         ],
         "legendgroup": "beit",
         "marker": {
          "color": "#FF97FF",
          "size": [
           50176,
           50176,
           147456,
           147456,
           262144
          ],
          "sizemode": "area",
          "sizeref": 655.36,
          "symbol": "circle"
         },
         "mode": "markers",
         "name": "beit",
         "orientation": "v",
         "showlegend": true,
         "type": "scatter",
         "x": [
          0.0028385704958982655,
          0.009381743127873158,
          0.012087513598452797,
          0.039824771007566706,
          0.10615711252653928
         ],
         "xaxis": "x",
         "y": [
          85.212,
          87.478,
          86.8,
          88.402,
          88.596
         ],
         "yaxis": "y"
        },
        {
         "hovertemplate": "<b>OLS trendline</b><br>top1 = 2.11281 * log10(secs) + 91.0441<br>R<sup>2</sup>=0.866259<br><br>family=beit<br>secs=%{x}<br>top1=%{y} <b>(trend)</b><extra></extra>",
         "legendgroup": "beit",
         "marker": {
          "color": "#FF97FF",
          "symbol": "circle"
         },
         "mode": "lines",
         "name": "beit",
         "showlegend": false,
         "type": "scatter",
         "x": [
          0.0028385704958982655,
          0.009381743127873158,
          0.012087513598452797,
          0.039824771007566706,
          0.10615711252653928
         ],
         "xaxis": "x",
         "y": [
          85.6629931409614,
          86.75993002199237,
          86.99245203535592,
          88.08649956032826,
          88.98612524136216
         ],
         "yaxis": "y"
        }
       ],
       "layout": {
        "height": 800,
        "legend": {
         "itemsizing": "constant",
         "title": {
          "text": "family"
         },
         "tracegroupgap": 0
        },
        "template": {
         "data": {
          "bar": [
           {
            "error_x": {
             "color": "#2a3f5f"
            },
            "error_y": {
             "color": "#2a3f5f"
            },
            "marker": {
             "line": {
              "color": "#E5ECF6",
              "width": 0.5
             },
             "pattern": {
              "fillmode": "overlay",
              "size": 10,
              "solidity": 0.2
             }
            },
            "type": "bar"
           }
          ],
          "barpolar": [
           {
            "marker": {
             "line": {
              "color": "#E5ECF6",
              "width": 0.5
             },
             "pattern": {
              "fillmode": "overlay",
              "size": 10,
              "solidity": 0.2
             }
            },
            "type": "barpolar"
           }
          ],
          "carpet": [
           {
            "aaxis": {
             "endlinecolor": "#2a3f5f",
             "gridcolor": "white",
             "linecolor": "white",
             "minorgridcolor": "white",
             "startlinecolor": "#2a3f5f"
            },
            "baxis": {
             "endlinecolor": "#2a3f5f",
             "gridcolor": "white",
             "linecolor": "white",
             "minorgridcolor": "white",
             "startlinecolor": "#2a3f5f"
            },
            "type": "carpet"
           }
          ],
          "choropleth": [
           {
            "colorbar": {
             "outlinewidth": 0,
             "ticks": ""
            },
            "type": "choropleth"
           }
          ],
          "contour": [
           {
            "colorbar": {
             "outlinewidth": 0,
             "ticks": ""
            },
            "colorscale": [
             [
              0,
              "#0d0887"
             ],
             [
              0.1111111111111111,
              "#46039f"
             ],
             [
              0.2222222222222222,
              "#7201a8"
             ],
             [
              0.3333333333333333,
              "#9c179e"
             ],
             [
              0.4444444444444444,
              "#bd3786"
             ],
             [
              0.5555555555555556,
              "#d8576b"
             ],
             [
              0.6666666666666666,
              "#ed7953"
             ],
             [
              0.7777777777777778,
              "#fb9f3a"
             ],
             [
              0.8888888888888888,
              "#fdca26"
             ],
             [
              1,
              "#f0f921"
             ]
            ],
            "type": "contour"
           }
          ],
          "contourcarpet": [
           {
            "colorbar": {
             "outlinewidth": 0,
             "ticks": ""
            },
            "type": "contourcarpet"
           }
          ],
          "heatmap": [
           {
            "colorbar": {
             "outlinewidth": 0,
             "ticks": ""
            },
            "colorscale": [
             [
              0,
              "#0d0887"
             ],
             [
              0.1111111111111111,
              "#46039f"
             ],
             [
              0.2222222222222222,
              "#7201a8"
             ],
             [
              0.3333333333333333,
              "#9c179e"
             ],
             [
              0.4444444444444444,
              "#bd3786"
             ],
             [
              0.5555555555555556,
              "#d8576b"
             ],
             [
              0.6666666666666666,
              "#ed7953"
             ],
             [
              0.7777777777777778,
              "#fb9f3a"
             ],
             [
              0.8888888888888888,
              "#fdca26"
             ],
             [
              1,
              "#f0f921"
             ]
            ],
            "type": "heatmap"
           }
          ],
          "heatmapgl": [
           {
            "colorbar": {
             "outlinewidth": 0,
             "ticks": ""
            },
            "colorscale": [
             [
              0,
              "#0d0887"
             ],
             [
              0.1111111111111111,
              "#46039f"
             ],
             [
              0.2222222222222222,
              "#7201a8"
             ],
             [
              0.3333333333333333,
              "#9c179e"
             ],
             [
              0.4444444444444444,
              "#bd3786"
             ],
             [
              0.5555555555555556,
              "#d8576b"
             ],
             [
              0.6666666666666666,
              "#ed7953"
             ],
             [
              0.7777777777777778,
              "#fb9f3a"
             ],
             [
              0.8888888888888888,
              "#fdca26"
             ],
             [
              1,
              "#f0f921"
             ]
            ],
            "type": "heatmapgl"
           }
          ],
          "histogram": [
           {
            "marker": {
             "pattern": {
              "fillmode": "overlay",
              "size": 10,
              "solidity": 0.2
             }
            },
            "type": "histogram"
           }
          ],
          "histogram2d": [
           {
            "colorbar": {
             "outlinewidth": 0,
             "ticks": ""
            },
            "colorscale": [
             [
              0,
              "#0d0887"
             ],
             [
              0.1111111111111111,
              "#46039f"
             ],
             [
              0.2222222222222222,
              "#7201a8"
             ],
             [
              0.3333333333333333,
              "#9c179e"
             ],
             [
              0.4444444444444444,
              "#bd3786"
             ],
             [
              0.5555555555555556,
              "#d8576b"
             ],
             [
              0.6666666666666666,
              "#ed7953"
             ],
             [
              0.7777777777777778,
              "#fb9f3a"
             ],
             [
              0.8888888888888888,
              "#fdca26"
             ],
             [
              1,
              "#f0f921"
             ]
            ],
            "type": "histogram2d"
           }
          ],
          "histogram2dcontour": [
           {
            "colorbar": {
             "outlinewidth": 0,
             "ticks": ""
            },
            "colorscale": [
             [
              0,
              "#0d0887"
             ],
             [
              0.1111111111111111,
              "#46039f"
             ],
             [
              0.2222222222222222,
              "#7201a8"
             ],
             [
              0.3333333333333333,
              "#9c179e"
             ],
             [
              0.4444444444444444,
              "#bd3786"
             ],
             [
              0.5555555555555556,
              "#d8576b"
             ],
             [
              0.6666666666666666,
              "#ed7953"
             ],
             [
              0.7777777777777778,
              "#fb9f3a"
             ],
             [
              0.8888888888888888,
              "#fdca26"
             ],
             [
              1,
              "#f0f921"
             ]
            ],
            "type": "histogram2dcontour"
           }
          ],
          "mesh3d": [
           {
            "colorbar": {
             "outlinewidth": 0,
             "ticks": ""
            },
            "type": "mesh3d"
           }
          ],
          "parcoords": [
           {
            "line": {
             "colorbar": {
              "outlinewidth": 0,
              "ticks": ""
             }
            },
            "type": "parcoords"
           }
          ],
          "pie": [
           {
            "automargin": true,
            "type": "pie"
           }
          ],
          "scatter": [
           {
            "fillpattern": {
             "fillmode": "overlay",
             "size": 10,
             "solidity": 0.2
            },
            "type": "scatter"
           }
          ],
          "scatter3d": [
           {
            "line": {
             "colorbar": {
              "outlinewidth": 0,
              "ticks": ""
             }
            },
            "marker": {
             "colorbar": {
              "outlinewidth": 0,
              "ticks": ""
             }
            },
            "type": "scatter3d"
           }
          ],
          "scattercarpet": [
           {
            "marker": {
             "colorbar": {
              "outlinewidth": 0,
              "ticks": ""
             }
            },
            "type": "scattercarpet"
           }
          ],
          "scattergeo": [
           {
            "marker": {
             "colorbar": {
              "outlinewidth": 0,
              "ticks": ""
             }
            },
            "type": "scattergeo"
           }
          ],
          "scattergl": [
           {
            "marker": {
             "colorbar": {
              "outlinewidth": 0,
              "ticks": ""
             }
            },
            "type": "scattergl"
           }
          ],
          "scattermapbox": [
           {
            "marker": {
             "colorbar": {
              "outlinewidth": 0,
              "ticks": ""
             }
            },
            "type": "scattermapbox"
           }
          ],
          "scatterpolar": [
           {
            "marker": {
             "colorbar": {
              "outlinewidth": 0,
              "ticks": ""
             }
            },
            "type": "scatterpolar"
           }
          ],
          "scatterpolargl": [
           {
            "marker": {
             "colorbar": {
              "outlinewidth": 0,
              "ticks": ""
             }
            },
            "type": "scatterpolargl"
           }
          ],
          "scatterternary": [
           {
            "marker": {
             "colorbar": {
              "outlinewidth": 0,
              "ticks": ""
             }
            },
            "type": "scatterternary"
           }
          ],
          "surface": [
           {
            "colorbar": {
             "outlinewidth": 0,
             "ticks": ""
            },
            "colorscale": [
             [
              0,
              "#0d0887"
             ],
             [
              0.1111111111111111,
              "#46039f"
             ],
             [
              0.2222222222222222,
              "#7201a8"
             ],
             [
              0.3333333333333333,
              "#9c179e"
             ],
             [
              0.4444444444444444,
              "#bd3786"
             ],
             [
              0.5555555555555556,
              "#d8576b"
             ],
             [
              0.6666666666666666,
              "#ed7953"
             ],
             [
              0.7777777777777778,
              "#fb9f3a"
             ],
             [
              0.8888888888888888,
              "#fdca26"
             ],
             [
              1,
              "#f0f921"
             ]
            ],
            "type": "surface"
           }
          ],
          "table": [
           {
            "cells": {
             "fill": {
              "color": "#EBF0F8"
             },
             "line": {
              "color": "white"
             }
            },
            "header": {
             "fill": {
              "color": "#C8D4E3"
             },
             "line": {
              "color": "white"
             }
            },
            "type": "table"
           }
          ]
         },
         "layout": {
          "annotationdefaults": {
           "arrowcolor": "#2a3f5f",
           "arrowhead": 0,
           "arrowwidth": 1
          },
          "autotypenumbers": "strict",
          "coloraxis": {
           "colorbar": {
            "outlinewidth": 0,
            "ticks": ""
           }
          },
          "colorscale": {
           "diverging": [
            [
             0,
             "#8e0152"
            ],
            [
             0.1,
             "#c51b7d"
            ],
            [
             0.2,
             "#de77ae"
            ],
            [
             0.3,
             "#f1b6da"
            ],
            [
             0.4,
             "#fde0ef"
            ],
            [
             0.5,
             "#f7f7f7"
            ],
            [
             0.6,
             "#e6f5d0"
            ],
            [
             0.7,
             "#b8e186"
            ],
            [
             0.8,
             "#7fbc41"
            ],
            [
             0.9,
             "#4d9221"
            ],
            [
             1,
             "#276419"
            ]
           ],
           "sequential": [
            [
             0,
             "#0d0887"
            ],
            [
             0.1111111111111111,
             "#46039f"
            ],
            [
             0.2222222222222222,
             "#7201a8"
            ],
            [
             0.3333333333333333,
             "#9c179e"
            ],
            [
             0.4444444444444444,
             "#bd3786"
            ],
            [
             0.5555555555555556,
             "#d8576b"
            ],
            [
             0.6666666666666666,
             "#ed7953"
            ],
            [
             0.7777777777777778,
             "#fb9f3a"
            ],
            [
             0.8888888888888888,
             "#fdca26"
            ],
            [
             1,
             "#f0f921"
            ]
           ],
           "sequentialminus": [
            [
             0,
             "#0d0887"
            ],
            [
             0.1111111111111111,
             "#46039f"
            ],
            [
             0.2222222222222222,
             "#7201a8"
            ],
            [
             0.3333333333333333,
             "#9c179e"
            ],
            [
             0.4444444444444444,
             "#bd3786"
            ],
            [
             0.5555555555555556,
             "#d8576b"
            ],
            [
             0.6666666666666666,
             "#ed7953"
            ],
            [
             0.7777777777777778,
             "#fb9f3a"
            ],
            [
             0.8888888888888888,
             "#fdca26"
            ],
            [
             1,
             "#f0f921"
            ]
           ]
          },
          "colorway": [
           "#636efa",
           "#EF553B",
           "#00cc96",
           "#ab63fa",
           "#FFA15A",
           "#19d3f3",
           "#FF6692",
           "#B6E880",
           "#FF97FF",
           "#FECB52"
          ],
          "font": {
           "color": "#2a3f5f"
          },
          "geo": {
           "bgcolor": "white",
           "lakecolor": "white",
           "landcolor": "#E5ECF6",
           "showlakes": true,
           "showland": true,
           "subunitcolor": "white"
          },
          "hoverlabel": {
           "align": "left"
          },
          "hovermode": "closest",
          "mapbox": {
           "style": "light"
          },
          "paper_bgcolor": "white",
          "plot_bgcolor": "#E5ECF6",
          "polar": {
           "angularaxis": {
            "gridcolor": "white",
            "linecolor": "white",
            "ticks": ""
           },
           "bgcolor": "#E5ECF6",
           "radialaxis": {
            "gridcolor": "white",
            "linecolor": "white",
            "ticks": ""
           }
          },
          "scene": {
           "xaxis": {
            "backgroundcolor": "#E5ECF6",
            "gridcolor": "white",
            "gridwidth": 2,
            "linecolor": "white",
            "showbackground": true,
            "ticks": "",
            "zerolinecolor": "white"
           },
           "yaxis": {
            "backgroundcolor": "#E5ECF6",
            "gridcolor": "white",
            "gridwidth": 2,
            "linecolor": "white",
            "showbackground": true,
            "ticks": "",
            "zerolinecolor": "white"
           },
           "zaxis": {
            "backgroundcolor": "#E5ECF6",
            "gridcolor": "white",
            "gridwidth": 2,
            "linecolor": "white",
            "showbackground": true,
            "ticks": "",
            "zerolinecolor": "white"
           }
          },
          "shapedefaults": {
           "line": {
            "color": "#2a3f5f"
           }
          },
          "ternary": {
           "aaxis": {
            "gridcolor": "white",
            "linecolor": "white",
            "ticks": ""
           },
           "baxis": {
            "gridcolor": "white",
            "linecolor": "white",
            "ticks": ""
           },
           "bgcolor": "#E5ECF6",
           "caxis": {
            "gridcolor": "white",
            "linecolor": "white",
            "ticks": ""
           }
          },
          "title": {
           "x": 0.05
          },
          "xaxis": {
           "automargin": true,
           "gridcolor": "white",
           "linecolor": "white",
           "ticks": "",
           "title": {
            "standoff": 15
           },
           "zerolinecolor": "white",
           "zerolinewidth": 2
          },
          "yaxis": {
           "automargin": true,
           "gridcolor": "white",
           "linecolor": "white",
           "ticks": "",
           "title": {
            "standoff": 15
           },
           "zerolinecolor": "white",
           "zerolinewidth": 2
          }
         }
        },
        "title": {
         "text": "Training"
        },
        "width": 1000,
        "xaxis": {
         "anchor": "y",
         "domain": [
          0,
          1
         ],
         "title": {
          "text": "secs (how many seconds it takes to process one image)"
         },
         "type": "log"
        },
        "yaxis": {
         "anchor": "x",
         "domain": [
          0,
          1
         ],
         "title": {
          "text": "top1 (accuracy on Imagenet)"
         }
        }
       }
      },
      "text/html": [
       "<div>                            <div id=\"a9684ed1-a1eb-49fe-aba5-b60c6debacbc\" class=\"plotly-graph-div\" style=\"height:800px; width:1000px;\"></div>            <script type=\"text/javascript\">                require([\"plotly\"], function(Plotly) {                    window.PLOTLYENV=window.PLOTLYENV || {};                                    if (document.getElementById(\"a9684ed1-a1eb-49fe-aba5-b60c6debacbc\")) {                    Plotly.newPlot(                        \"a9684ed1-a1eb-49fe-aba5-b60c6debacbc\",                        [{\"customdata\":[[224],[224],[224],[224],[224]],\"hovertemplate\":\"<b>%{hovertext}</b><br><br>family=levit<br>secs=%{x}<br>top1=%{y}<br>size=%{marker.size}<br>train_img_size=%{customdata[0]}<extra></extra>\",\"hovertext\":[\"levit_128s\",\"levit_128\",\"levit_192\",\"levit_256\",\"levit_384\"],\"legendgroup\":\"levit\",\"marker\":{\"color\":\"#636efa\",\"size\":[50176,50176,50176,50176,50176],\"sizemode\":\"area\",\"sizeref\":655.36,\"symbol\":\"circle\"},\"mode\":\"markers\",\"name\":\"levit\",\"orientation\":\"v\",\"showlegend\":true,\"x\":[0.00015865108501477042,0.00022550151537018326,0.00026151037934695625,0.000342053415061296,0.0005556697765651828],\"xaxis\":\"x\",\"y\":[76.526,78.49,79.838,81.514,82.596],\"yaxis\":\"y\",\"type\":\"scatter\"},{\"hovertemplate\":\"<b>OLS trendline</b><br>top1 = 11.4642 * log10(secs) + 120.491<br>R<sup>2</sup>=0.944715<br><br>family=levit<br>secs=%{x}<br>top1=%{y} <b>(trend)</b><extra></extra>\",\"legendgroup\":\"levit\",\"marker\":{\"color\":\"#636efa\",\"symbol\":\"circle\"},\"mode\":\"lines\",\"name\":\"levit\",\"showlegend\":false,\"x\":[0.00015865108501477042,0.00022550151537018326,0.00026151037934695625,0.000342053415061296,0.0005556697765651828],\"xaxis\":\"x\",\"y\":[76.93184652926372,78.68250384396545,79.42010451720392,80.75688786183711,83.17265724772933],\"yaxis\":\"y\",\"type\":\"scatter\"},{\"customdata\":[[224],[224],[224],[224],[224],[224],[224],[224],[224],[224],[224],[224],[224],[256],[224],[224],[224],[224],[224],[224],[224],[224],[224],[224],[224],[224],[224],[224],[224],[224],[224],[224],[256],[256],[224],[224],[224],[224],[224],[224],[224],[224],[224],[224],[224],[224],[224],[224],[288],[288]],\"hovertemplate\":\"<b>%{hovertext}</b><br><br>family=resnet<br>secs=%{x}<br>top1=%{y}<br>size=%{marker.size}<br>train_img_size=%{customdata[0]}<extra></extra>\",\"hovertext\":[\"resnet18\",\"resnet18\",\"resnet18\",\"resnet18\",\"resnet18\",\"resnet18\",\"resnet18\",\"resnet34\",\"resnet34\",\"resnet34\",\"resnet34\",\"resnet34\",\"resnet26\",\"resnet26t\",\"resnet50\",\"resnet50\",\"resnet50\",\"resnet50\",\"resnet50\",\"resnet50\",\"resnet50\",\"resnet50\",\"resnet50\",\"resnet50\",\"resnet50\",\"resnet50\",\"resnet50\",\"resnet50\",\"resnet50\",\"resnet50\",\"resnet50\",\"resnet50\",\"resnet32ts\",\"resnet33ts\",\"resnet101\",\"resnet101\",\"resnet101\",\"resnet101\",\"resnet101\",\"resnet101\",\"resnet101\",\"resnet152\",\"resnet152\",\"resnet152\",\"resnet152\",\"resnet152\",\"resnet152\",\"resnet152\",\"resnet51q\",\"resnet61q\"],\"legendgroup\":\"resnet\",\"marker\":{\"color\":\"#EF553B\",\"size\":[50176,50176,50176,50176,50176,50176,50176,50176,50176,50176,50176,50176,50176,65536,50176,50176,50176,50176,50176,50176,50176,50176,50176,50176,50176,50176,50176,50176,50176,50176,50176,50176,65536,65536,50176,50176,50176,50176,50176,50176,50176,50176,50176,50176,50176,50176,50176,50176,82944,82944],\"sizemode\":\"area\",\"sizeref\":655.36,\"symbol\":\"circle\"},\"mode\":\"markers\",\"name\":\"resnet\",\"orientation\":\"v\",\"showlegend\":true,\"x\":[0.000279003066243698,0.000279003066243698,0.000279003066243698,0.000279003066243698,0.000279003066243698,0.000279003066243698,0.000279003066243698,0.0004805543675183692,0.0004805543675183692,0.0004805543675183692,0.0004805543675183692,0.0004805543675183692,0.0005087349795997273,0.000814431730260211,0.0008179223137386412,0.0008179223137386412,0.0008179223137386412,0.0008179223137386412,0.0008179223137386412,0.0008179223137386412,0.0008179223137386412,0.0008179223137386412,0.0008179223137386412,0.0008179223137386412,0.0008179223137386412,0.0008179223137386412,0.0008179223137386412,0.0008179223137386412,0.0008179223137386412,0.0008179223137386412,0.0008179223137386412,0.0008179223137386412,0.0009786938352075321,0.0009906973518659784,0.0013745704467353953,0.0013745704467353953,0.0013745704467353953,0.0013745704467353953,0.0013745704467353953,0.0013745704467353953,0.0013745704467353953,0.0020006802312786346,0.0020006802312786346,0.0020006802312786346,0.0020006802312786346,0.0020006802312786346,0.0020006802312786346,0.0020006802312786346,0.0035980282805022847,0.004809773459670049],\"xaxis\":\"x\",\"y\":[73.282,73.158,72.594,72.372,70.838,69.76,68.254,77.918,77.158,76.48,74.578,72.97,76.366,78.332,81.214,81.182,80.972,80.912,80.87,80.85,80.772,80.706,80.676,80.454,79.976,79.836,79.64,79.234,78.998,78.048,77.58,76.13,79.392,79.726,82.778,82.322,82.236,81.89,79.814,79.31,77.376,83.45,82.732,82.608,82.288,80.546,79.694,78.322,82.36,82.524],\"yaxis\":\"y\",\"type\":\"scatter\"},{\"hovertemplate\":\"<b>OLS trendline</b><br>top1 = 10.2924 * log10(secs) + 110.15<br>R<sup>2</sup>=0.672103<br><br>family=resnet<br>secs=%{x}<br>top1=%{y} <b>(trend)</b><extra></extra>\",\"legendgroup\":\"resnet\",\"marker\":{\"color\":\"#EF553B\",\"symbol\":\"circle\"},\"mode\":\"lines\",\"name\":\"resnet\",\"showlegend\":false,\"x\":[0.000279003066243698,0.000279003066243698,0.000279003066243698,0.000279003066243698,0.000279003066243698,0.000279003066243698,0.000279003066243698,0.0004805543675183692,0.0004805543675183692,0.0004805543675183692,0.0004805543675183692,0.0004805543675183692,0.0005087349795997273,0.000814431730260211,0.0008179223137386412,0.0008179223137386412,0.0008179223137386412,0.0008179223137386412,0.0008179223137386412,0.0008179223137386412,0.0008179223137386412,0.0008179223137386412,0.0008179223137386412,0.0008179223137386412,0.0008179223137386412,0.0008179223137386412,0.0008179223137386412,0.0008179223137386412,0.0008179223137386412,0.0008179223137386412,0.0008179223137386412,0.0008179223137386412,0.0009786938352075321,0.0009906973518659784,0.0013745704467353953,0.0013745704467353953,0.0013745704467353953,0.0013745704467353953,0.0013745704467353953,0.0013745704467353953,0.0013745704467353953,0.0020006802312786346,0.0020006802312786346,0.0020006802312786346,0.0020006802312786346,0.0020006802312786346,0.0020006802312786346,0.0020006802312786346,0.0035980282805022847,0.004809773459670049],\"xaxis\":\"x\",\"y\":[73.56696861190552,73.56696861190552,73.56696861190552,73.56696861190552,73.56696861190552,73.56696861190552,73.56696861190552,75.99734498828545,75.99734498828545,75.99734498828545,75.99734498828545,75.99734498828545,76.2520718465248,78.35545448781572,78.37457125594048,78.37457125594048,78.37457125594048,78.37457125594048,78.37457125594048,78.37457125594048,78.37457125594048,78.37457125594048,78.37457125594048,78.37457125594048,78.37457125594048,78.37457125594048,78.37457125594048,78.37457125594048,78.37457125594048,78.37457125594048,78.37457125594048,78.37457125594048,79.17670583607934,79.23119523643626,80.69503935085184,80.69503935085184,80.69503935085184,80.69503935085184,80.69503935085184,80.69503935085184,80.69503935085184,82.37280728374353,82.37280728374353,82.37280728374353,82.37280728374353,82.37280728374353,82.37280728374353,82.37280728374353,84.99620016310867,86.29365815617196],\"yaxis\":\"y\",\"type\":\"scatter\"},{\"customdata\":[[224],[224],[224],[224],[224],[224],[224],[224],[320],[320],[320],[320],[320]],\"hovertemplate\":\"<b>%{hovertext}</b><br><br>family=resnetd<br>secs=%{x}<br>top1=%{y}<br>size=%{marker.size}<br>train_img_size=%{customdata[0]}<extra></extra>\",\"hovertext\":[\"resnet18d\",\"resnet34d\",\"resnet26d\",\"resnet50d\",\"resnet50d\",\"resnet50d\",\"resnet50d\",\"resnet50d\",\"resnet101d\",\"resnet101d\",\"resnet152d\",\"resnet152d\",\"resnet200d\"],\"legendgroup\":\"resnetd\",\"marker\":{\"color\":\"#00cc96\",\"size\":[50176,50176,50176,50176,50176,50176,50176,50176,102400,102400,102400,102400,102400],\"sizemode\":\"area\",\"sizeref\":655.36,\"symbol\":\"circle\"},\"mode\":\"markers\",\"name\":\"resnetd\",\"orientation\":\"v\",\"showlegend\":true,\"x\":[0.0003533543932551713,0.0005558550996926121,0.0006213611537433903,0.0009343960531110716,0.0009343960531110716,0.0009343960531110716,0.0009343960531110716,0.0009343960531110716,0.003054274457102715,0.003054274457102715,0.0046277014207043365,0.0046277014207043365,0.006017209218364523],\"xaxis\":\"x\",\"y\":[73.794,78.436,77.408,81.45,81.356,81.164,79.078,78.722,83.016,80.426,83.684,80.476,83.964],\"yaxis\":\"y\",\"type\":\"scatter\"},{\"hovertemplate\":\"<b>OLS trendline</b><br>top1 = 5.46902 * log10(secs) + 95.7864<br>R<sup>2</sup>=0.628381<br><br>family=resnetd<br>secs=%{x}<br>top1=%{y} <b>(trend)</b><extra></extra>\",\"legendgroup\":\"resnetd\",\"marker\":{\"color\":\"#00cc96\",\"symbol\":\"circle\"},\"mode\":\"lines\",\"name\":\"resnetd\",\"showlegend\":false,\"x\":[0.0003533543932551713,0.0005558550996926121,0.0006213611537433903,0.0009343960531110716,0.0009343960531110716,0.0009343960531110716,0.0009343960531110716,0.0009343960531110716,0.003054274457102715,0.003054274457102715,0.0046277014207043365,0.0046277014207043365,0.006017209218364523],\"xaxis\":\"x\",\"y\":[76.90849425388384,77.98453017763589,78.24913511607788,79.21817400293456,79.21817400293456,79.21817400293456,79.21817400293456,79.21817400293456,82.03131305246265,82.03131305246265,83.01823768150729,83.01823768150729,83.64186896979007],\"yaxis\":\"y\",\"type\":\"scatter\"},{\"customdata\":[[224],[224],[224],[224],[224],[224],[224],[224],[224],[224],[224],[224],[224],[224],[224],[224],[224],[224]],\"hovertemplate\":\"<b>%{hovertext}</b><br><br>family=regnetx<br>secs=%{x}<br>top1=%{y}<br>size=%{marker.size}<br>train_img_size=%{customdata[0]}<extra></extra>\",\"hovertext\":[\"regnetx_002\",\"regnetx_004\",\"regnetx_006\",\"regnetx_008\",\"regnetx_008\",\"regnetx_016\",\"regnetx_016\",\"regnetx_032\",\"regnetx_032\",\"regnetx_040\",\"regnetx_080\",\"regnetx_080\",\"regnetx_064\",\"regnetx_120\",\"regnetx_160\",\"regnetx_160\",\"regnetx_320\",\"regnetx_320\"],\"legendgroup\":\"regnetx\",\"marker\":{\"color\":\"#ab63fa\",\"size\":[50176,50176,50176,50176,50176,50176,50176,50176,50176,50176,50176,50176,50176,50176,50176,50176,50176,50176],\"sizemode\":\"area\",\"sizeref\":655.36,\"symbol\":\"circle\"},\"mode\":\"markers\",\"name\":\"regnetx\",\"orientation\":\"v\",\"showlegend\":true,\"x\":[0.0004215904922912179,0.0008689456213830139,0.0012649261283141065,0.001689760054072322,0.001689760054072322,0.002637061258933045,0.002637061258933045,0.005628095452498874,0.005628095452498874,0.006177796997590659,0.0066657778962804955,0.0066657778962804955,0.008056070248932571,0.012896569512509672,0.015382248884786955,0.015382248884786955,0.021663778162911613,0.021663778162911613],\"xaxis\":\"x\",\"y\":[68.746,72.398,73.868,77.304,75.03,79.436,76.924,80.926,78.168,78.492,81.538,79.202,79.066,79.588,82.566,79.866,82.81,80.246],\"yaxis\":\"y\",\"type\":\"scatter\"},{\"hovertemplate\":\"<b>OLS trendline</b><br>top1 = 6.57304 * log10(secs) + 93.4706<br>R<sup>2</sup>=0.807124<br><br>family=regnetx<br>secs=%{x}<br>top1=%{y} <b>(trend)</b><extra></extra>\",\"legendgroup\":\"regnetx\",\"marker\":{\"color\":\"#ab63fa\",\"symbol\":\"circle\"},\"mode\":\"lines\",\"name\":\"regnetx\",\"showlegend\":false,\"x\":[0.0004215904922912179,0.0008689456213830139,0.0012649261283141065,0.001689760054072322,0.001689760054072322,0.002637061258933045,0.002637061258933045,0.005628095452498874,0.005628095452498874,0.006177796997590659,0.0066657778962804955,0.0066657778962804955,0.008056070248932571,0.012896569512509672,0.015382248884786955,0.015382248884786955,0.021663778162911613,0.021663778162911613],\"xaxis\":\"x\",\"y\":[71.28585487111548,73.35045710741375,74.42233886848834,75.24896300134071,75.24896300134071,76.51949908558133,76.51949908558133,78.68361343092042,78.68361343092042,78.94963850078476,79.16666176662225,79.16666176662225,79.70744121364272,81.05064732831512,81.55378447903153,81.55378447903153,82.5312892916237,82.5312892916237],\"yaxis\":\"y\",\"type\":\"scatter\"},{\"customdata\":[[224],[224],[224],[224],[224],[224],[224],[224]],\"hovertemplate\":\"<b>%{hovertext}</b><br><br>family=vgg<br>secs=%{x}<br>top1=%{y}<br>size=%{marker.size}<br>train_img_size=%{customdata[0]}<extra></extra>\",\"hovertext\":[\"vgg11\",\"vgg11_bn\",\"vgg13\",\"vgg13_bn\",\"vgg16\",\"vgg16_bn\",\"vgg19\",\"vgg19_bn\"],\"legendgroup\":\"vgg\",\"marker\":{\"color\":\"#FFA15A\",\"size\":[50176,50176,50176,50176,50176,50176,50176,50176],\"sizemode\":\"area\",\"sizeref\":655.36,\"symbol\":\"circle\"},\"mode\":\"markers\",\"name\":\"vgg\",\"orientation\":\"v\",\"showlegend\":true,\"x\":[0.001074575542660649,0.0012416499043929573,0.0015078180365193528,0.001758118110374655,0.001863967641521743,0.0021277953911951826,0.0022130748461912982,0.002501626056937009],\"xaxis\":\"x\",\"y\":[69.022,70.382,69.932,71.588,71.592,73.37,72.378,74.216],\"yaxis\":\"y\",\"type\":\"scatter\"},{\"hovertemplate\":\"<b>OLS trendline</b><br>top1 = 12.9585 * log10(secs) + 107.374<br>R<sup>2</sup>=0.885938<br><br>family=vgg<br>secs=%{x}<br>top1=%{y} <b>(trend)</b><extra></extra>\",\"legendgroup\":\"vgg\",\"marker\":{\"color\":\"#FFA15A\",\"symbol\":\"circle\"},\"mode\":\"lines\",\"name\":\"vgg\",\"showlegend\":false,\"x\":[0.001074575542660649,0.0012416499043929573,0.0015078180365193528,0.001758118110374655,0.001863967641521743,0.0021277953911951826,0.0022130748461912982,0.002501626056937009],\"xaxis\":\"x\",\"y\":[68.90298324828241,69.71628704046174,70.80933322468682,71.67365339544185,72.00267376015799,72.74767704773949,72.96882981982682,73.65856246340248],\"yaxis\":\"y\",\"type\":\"scatter\"},{\"customdata\":[[224],[224],[224],[224],[224],[224],[224],[224],[224],[224],[224],[224],[224],[224],[224],[224],[224],[224],[224],[224],[224]],\"hovertemplate\":\"<b>%{hovertext}</b><br><br>family=convnext<br>secs=%{x}<br>top1=%{y}<br>size=%{marker.size}<br>train_img_size=%{customdata[0]}<extra></extra>\",\"hovertext\":[\"convnext_tiny\",\"convnext_tiny\",\"convnext_tiny\",\"convnext_tiny\",\"convnext_tiny\",\"convnext_tiny_hnf\",\"convnext_small\",\"convnext_small\",\"convnext_small\",\"convnext_small\",\"convnext_small\",\"convnext_base\",\"convnext_base\",\"convnext_base\",\"convnext_base\",\"convnext_base\",\"convnext_base\",\"convnext_base\",\"convnext_large\",\"convnext_large\",\"convnext_large\"],\"legendgroup\":\"convnext\",\"marker\":{\"color\":\"#19d3f3\",\"size\":[50176,50176,50176,50176,50176,50176,50176,50176,50176,50176,50176,50176,50176,50176,50176,50176,50176,50176,50176,50176,50176],\"sizemode\":\"area\",\"sizeref\":655.36,\"symbol\":\"circle\"},\"mode\":\"markers\",\"name\":\"convnext\",\"orientation\":\"v\",\"showlegend\":true,\"x\":[0.0012801310854231474,0.0012801310854231474,0.0012801310854231474,0.0012801310854231474,0.0012801310854231474,0.0014666412448850886,0.0021101943488995335,0.0021101943488995335,0.0021101943488995335,0.0021101943488995335,0.0021101943488995335,0.0030553009471432934,0.0030553009471432934,0.0030553009471432934,0.0030553009471432934,0.0030553009471432934,0.0030553009471432934,0.0030553009471432934,0.005535872453498672,0.005535872453498672,0.005535872453498672],\"xaxis\":\"x\",\"y\":[85.122,84.45,84.088,82.698,78.898,82.584,86.182,85.778,85.33,85.262,83.7,87.134,86.796,86.502,86.37,86.274,86.158,84.428,87.472,87.026,84.846],\"yaxis\":\"y\",\"type\":\"scatter\"},{\"hovertemplate\":\"<b>OLS trendline</b><br>top1 = 6.17519 * log10(secs) + 101.288<br>R<sup>2</sup>=0.439434<br><br>family=convnext<br>secs=%{x}<br>top1=%{y} <b>(trend)</b><extra></extra>\",\"legendgroup\":\"convnext\",\"marker\":{\"color\":\"#19d3f3\",\"symbol\":\"circle\"},\"mode\":\"lines\",\"name\":\"convnext\",\"showlegend\":false,\"x\":[0.0012801310854231474,0.0012801310854231474,0.0012801310854231474,0.0012801310854231474,0.0012801310854231474,0.0014666412448850886,0.0021101943488995335,0.0021101943488995335,0.0021101943488995335,0.0021101943488995335,0.0021101943488995335,0.0030553009471432934,0.0030553009471432934,0.0030553009471432934,0.0030553009471432934,0.0030553009471432934,0.0030553009471432934,0.0030553009471432934,0.005535872453498672,0.005535872453498672,0.005535872453498672],\"xaxis\":\"x\",\"y\":[83.42472180338545,83.42472180338545,83.42472180338545,83.42472180338545,83.42472180338545,83.78948700648877,84.76515847525616,84.76515847525616,84.76515847525616,84.76515847525616,84.76515847525616,85.7577066046458,85.7577066046458,85.7577066046458,85.7577066046458,85.7577066046458,85.7577066046458,85.7577066046458,87.35172178926105,87.35172178926105,87.35172178926105],\"yaxis\":\"y\",\"type\":\"scatter\"},{\"customdata\":[[288],[384],[416]],\"hovertemplate\":\"<b>%{hovertext}</b><br><br>family=efficientnetv2<br>secs=%{x}<br>top1=%{y}<br>size=%{marker.size}<br>train_img_size=%{customdata[0]}<extra></extra>\",\"hovertext\":[\"efficientnetv2_rw_t\",\"efficientnetv2_rw_s\",\"efficientnetv2_rw_m\"],\"legendgroup\":\"efficientnetv2\",\"marker\":{\"color\":\"#FF6692\",\"size\":[82944,147456,173056],\"sizemode\":\"area\",\"sizeref\":655.36,\"symbol\":\"circle\"},\"mode\":\"markers\",\"name\":\"efficientnetv2\",\"orientation\":\"v\",\"showlegend\":true,\"x\":[0.00146096306685367,0.0033831788348332096,0.007923302432453847],\"xaxis\":\"x\",\"y\":[82.35,83.808,84.812],\"yaxis\":\"y\",\"type\":\"scatter\"},{\"hovertemplate\":\"<b>OLS trendline</b><br>top1 = 3.35158 * log10(secs) + 91.9319<br>R<sup>2</sup>=0.987967<br><br>family=efficientnetv2<br>secs=%{x}<br>top1=%{y} <b>(trend)</b><extra></extra>\",\"legendgroup\":\"efficientnetv2\",\"marker\":{\"color\":\"#FF6692\",\"symbol\":\"circle\"},\"mode\":\"lines\",\"name\":\"efficientnetv2\",\"showlegend\":false,\"x\":[0.00146096306685367,0.0033831788348332096,0.007923302432453847],\"xaxis\":\"x\",\"y\":[82.42892403321241,83.65119737976141,84.88987858702619],\"yaxis\":\"y\",\"type\":\"scatter\"},{\"customdata\":[[224],[224],[224],[224],[224],[224],[224],[224],[224],[224],[384],[384],[384]],\"hovertemplate\":\"<b>%{hovertext}</b><br><br>family=swin<br>secs=%{x}<br>top1=%{y}<br>size=%{marker.size}<br>train_img_size=%{customdata[0]}<extra></extra>\",\"hovertext\":[\"swin_tiny_patch4_window7_224\",\"swin_tiny_patch4_window7_224\",\"swin_s3_tiny_224\",\"swin_small_patch4_window7_224\",\"swin_small_patch4_window7_224\",\"swin_s3_small_224\",\"swin_base_patch4_window7_224\",\"swin_base_patch4_window7_224\",\"swin_s3_base_224\",\"swin_large_patch4_window7_224\",\"swin_base_patch4_window12_384\",\"swin_base_patch4_window12_384\",\"swin_large_patch4_window12_384\"],\"legendgroup\":\"swin\",\"marker\":{\"color\":\"#B6E880\",\"size\":[50176,50176,50176,50176,50176,50176,50176,50176,50176,50176,147456,147456,147456],\"sizemode\":\"area\",\"sizeref\":655.36,\"symbol\":\"circle\"},\"mode\":\"markers\",\"name\":\"swin\",\"orientation\":\"v\",\"showlegend\":true,\"x\":[0.0015640885274106513,0.0015640885274106513,0.0017278319165111619,0.002542071279678682,0.002542071279678682,0.003609456776755098,0.0036254214552441724,0.0036254214552441724,0.004564750992833341,0.006607201850016518,0.013585110718652357,0.013585110718652357,0.024378352023403216],\"xaxis\":\"x\",\"y\":[81.376,80.968,82.144,83.298,83.208,83.756,85.272,83.606,83.92,86.312,86.438,84.476,87.132],\"yaxis\":\"y\",\"type\":\"scatter\"},{\"hovertemplate\":\"<b>OLS trendline</b><br>top1 = 4.39329 * log10(secs) + 94.3862<br>R<sup>2</sup>=0.778111<br><br>family=swin<br>secs=%{x}<br>top1=%{y} <b>(trend)</b><extra></extra>\",\"legendgroup\":\"swin\",\"marker\":{\"color\":\"#B6E880\",\"symbol\":\"circle\"},\"mode\":\"lines\",\"name\":\"swin\",\"showlegend\":false,\"x\":[0.0015640885274106513,0.0015640885274106513,0.0017278319165111619,0.002542071279678682,0.002542071279678682,0.003609456776755098,0.0036254214552441724,0.0036254214552441724,0.004564750992833341,0.006607201850016518,0.013585110718652357,0.013585110718652357,0.024378352023403216],\"xaxis\":\"x\",\"y\":[82.05981506767428,82.05981506767428,82.24978153696055,82.98647539515518,82.98647539515518,83.65537155240702,83.6637919695314,83.6637919695314,84.10337814611503,84.8089422703854,86.18424168350984,86.18424168350984,87.29987826239132],\"yaxis\":\"y\",\"type\":\"scatter\"},{\"customdata\":[[224],[224],[384],[384],[512]],\"hovertemplate\":\"<b>%{hovertext}</b><br><br>family=beit<br>secs=%{x}<br>top1=%{y}<br>size=%{marker.size}<br>train_img_size=%{customdata[0]}<extra></extra>\",\"hovertext\":[\"beit_base_patch16_224\",\"beit_large_patch16_224\",\"beit_base_patch16_384\",\"beit_large_patch16_384\",\"beit_large_patch16_512\"],\"legendgroup\":\"beit\",\"marker\":{\"color\":\"#FF97FF\",\"size\":[50176,50176,147456,147456,262144],\"sizemode\":\"area\",\"sizeref\":655.36,\"symbol\":\"circle\"},\"mode\":\"markers\",\"name\":\"beit\",\"orientation\":\"v\",\"showlegend\":true,\"x\":[0.0028385704958982655,0.009381743127873158,0.012087513598452797,0.039824771007566706,0.10615711252653928],\"xaxis\":\"x\",\"y\":[85.212,87.478,86.8,88.402,88.596],\"yaxis\":\"y\",\"type\":\"scatter\"},{\"hovertemplate\":\"<b>OLS trendline</b><br>top1 = 2.11281 * log10(secs) + 91.0441<br>R<sup>2</sup>=0.866259<br><br>family=beit<br>secs=%{x}<br>top1=%{y} <b>(trend)</b><extra></extra>\",\"legendgroup\":\"beit\",\"marker\":{\"color\":\"#FF97FF\",\"symbol\":\"circle\"},\"mode\":\"lines\",\"name\":\"beit\",\"showlegend\":false,\"x\":[0.0028385704958982655,0.009381743127873158,0.012087513598452797,0.039824771007566706,0.10615711252653928],\"xaxis\":\"x\",\"y\":[85.6629931409614,86.75993002199237,86.99245203535592,88.08649956032826,88.98612524136216],\"yaxis\":\"y\",\"type\":\"scatter\"}],                        {\"template\":{\"data\":{\"histogram2dcontour\":[{\"type\":\"histogram2dcontour\",\"colorbar\":{\"outlinewidth\":0,\"ticks\":\"\"},\"colorscale\":[[0.0,\"#0d0887\"],[0.1111111111111111,\"#46039f\"],[0.2222222222222222,\"#7201a8\"],[0.3333333333333333,\"#9c179e\"],[0.4444444444444444,\"#bd3786\"],[0.5555555555555556,\"#d8576b\"],[0.6666666666666666,\"#ed7953\"],[0.7777777777777778,\"#fb9f3a\"],[0.8888888888888888,\"#fdca26\"],[1.0,\"#f0f921\"]]}],\"choropleth\":[{\"type\":\"choropleth\",\"colorbar\":{\"outlinewidth\":0,\"ticks\":\"\"}}],\"histogram2d\":[{\"type\":\"histogram2d\",\"colorbar\":{\"outlinewidth\":0,\"ticks\":\"\"},\"colorscale\":[[0.0,\"#0d0887\"],[0.1111111111111111,\"#46039f\"],[0.2222222222222222,\"#7201a8\"],[0.3333333333333333,\"#9c179e\"],[0.4444444444444444,\"#bd3786\"],[0.5555555555555556,\"#d8576b\"],[0.6666666666666666,\"#ed7953\"],[0.7777777777777778,\"#fb9f3a\"],[0.8888888888888888,\"#fdca26\"],[1.0,\"#f0f921\"]]}],\"heatmap\":[{\"type\":\"heatmap\",\"colorbar\":{\"outlinewidth\":0,\"ticks\":\"\"},\"colorscale\":[[0.0,\"#0d0887\"],[0.1111111111111111,\"#46039f\"],[0.2222222222222222,\"#7201a8\"],[0.3333333333333333,\"#9c179e\"],[0.4444444444444444,\"#bd3786\"],[0.5555555555555556,\"#d8576b\"],[0.6666666666666666,\"#ed7953\"],[0.7777777777777778,\"#fb9f3a\"],[0.8888888888888888,\"#fdca26\"],[1.0,\"#f0f921\"]]}],\"heatmapgl\":[{\"type\":\"heatmapgl\",\"colorbar\":{\"outlinewidth\":0,\"ticks\":\"\"},\"colorscale\":[[0.0,\"#0d0887\"],[0.1111111111111111,\"#46039f\"],[0.2222222222222222,\"#7201a8\"],[0.3333333333333333,\"#9c179e\"],[0.4444444444444444,\"#bd3786\"],[0.5555555555555556,\"#d8576b\"],[0.6666666666666666,\"#ed7953\"],[0.7777777777777778,\"#fb9f3a\"],[0.8888888888888888,\"#fdca26\"],[1.0,\"#f0f921\"]]}],\"contourcarpet\":[{\"type\":\"contourcarpet\",\"colorbar\":{\"outlinewidth\":0,\"ticks\":\"\"}}],\"contour\":[{\"type\":\"contour\",\"colorbar\":{\"outlinewidth\":0,\"ticks\":\"\"},\"colorscale\":[[0.0,\"#0d0887\"],[0.1111111111111111,\"#46039f\"],[0.2222222222222222,\"#7201a8\"],[0.3333333333333333,\"#9c179e\"],[0.4444444444444444,\"#bd3786\"],[0.5555555555555556,\"#d8576b\"],[0.6666666666666666,\"#ed7953\"],[0.7777777777777778,\"#fb9f3a\"],[0.8888888888888888,\"#fdca26\"],[1.0,\"#f0f921\"]]}],\"surface\":[{\"type\":\"surface\",\"colorbar\":{\"outlinewidth\":0,\"ticks\":\"\"},\"colorscale\":[[0.0,\"#0d0887\"],[0.1111111111111111,\"#46039f\"],[0.2222222222222222,\"#7201a8\"],[0.3333333333333333,\"#9c179e\"],[0.4444444444444444,\"#bd3786\"],[0.5555555555555556,\"#d8576b\"],[0.6666666666666666,\"#ed7953\"],[0.7777777777777778,\"#fb9f3a\"],[0.8888888888888888,\"#fdca26\"],[1.0,\"#f0f921\"]]}],\"mesh3d\":[{\"type\":\"mesh3d\",\"colorbar\":{\"outlinewidth\":0,\"ticks\":\"\"}}],\"scatter\":[{\"fillpattern\":{\"fillmode\":\"overlay\",\"size\":10,\"solidity\":0.2},\"type\":\"scatter\"}],\"parcoords\":[{\"type\":\"parcoords\",\"line\":{\"colorbar\":{\"outlinewidth\":0,\"ticks\":\"\"}}}],\"scatterpolargl\":[{\"type\":\"scatterpolargl\",\"marker\":{\"colorbar\":{\"outlinewidth\":0,\"ticks\":\"\"}}}],\"bar\":[{\"error_x\":{\"color\":\"#2a3f5f\"},\"error_y\":{\"color\":\"#2a3f5f\"},\"marker\":{\"line\":{\"color\":\"#E5ECF6\",\"width\":0.5},\"pattern\":{\"fillmode\":\"overlay\",\"size\":10,\"solidity\":0.2}},\"type\":\"bar\"}],\"scattergeo\":[{\"type\":\"scattergeo\",\"marker\":{\"colorbar\":{\"outlinewidth\":0,\"ticks\":\"\"}}}],\"scatterpolar\":[{\"type\":\"scatterpolar\",\"marker\":{\"colorbar\":{\"outlinewidth\":0,\"ticks\":\"\"}}}],\"histogram\":[{\"marker\":{\"pattern\":{\"fillmode\":\"overlay\",\"size\":10,\"solidity\":0.2}},\"type\":\"histogram\"}],\"scattergl\":[{\"type\":\"scattergl\",\"marker\":{\"colorbar\":{\"outlinewidth\":0,\"ticks\":\"\"}}}],\"scatter3d\":[{\"type\":\"scatter3d\",\"line\":{\"colorbar\":{\"outlinewidth\":0,\"ticks\":\"\"}},\"marker\":{\"colorbar\":{\"outlinewidth\":0,\"ticks\":\"\"}}}],\"scattermapbox\":[{\"type\":\"scattermapbox\",\"marker\":{\"colorbar\":{\"outlinewidth\":0,\"ticks\":\"\"}}}],\"scatterternary\":[{\"type\":\"scatterternary\",\"marker\":{\"colorbar\":{\"outlinewidth\":0,\"ticks\":\"\"}}}],\"scattercarpet\":[{\"type\":\"scattercarpet\",\"marker\":{\"colorbar\":{\"outlinewidth\":0,\"ticks\":\"\"}}}],\"carpet\":[{\"aaxis\":{\"endlinecolor\":\"#2a3f5f\",\"gridcolor\":\"white\",\"linecolor\":\"white\",\"minorgridcolor\":\"white\",\"startlinecolor\":\"#2a3f5f\"},\"baxis\":{\"endlinecolor\":\"#2a3f5f\",\"gridcolor\":\"white\",\"linecolor\":\"white\",\"minorgridcolor\":\"white\",\"startlinecolor\":\"#2a3f5f\"},\"type\":\"carpet\"}],\"table\":[{\"cells\":{\"fill\":{\"color\":\"#EBF0F8\"},\"line\":{\"color\":\"white\"}},\"header\":{\"fill\":{\"color\":\"#C8D4E3\"},\"line\":{\"color\":\"white\"}},\"type\":\"table\"}],\"barpolar\":[{\"marker\":{\"line\":{\"color\":\"#E5ECF6\",\"width\":0.5},\"pattern\":{\"fillmode\":\"overlay\",\"size\":10,\"solidity\":0.2}},\"type\":\"barpolar\"}],\"pie\":[{\"automargin\":true,\"type\":\"pie\"}]},\"layout\":{\"autotypenumbers\":\"strict\",\"colorway\":[\"#636efa\",\"#EF553B\",\"#00cc96\",\"#ab63fa\",\"#FFA15A\",\"#19d3f3\",\"#FF6692\",\"#B6E880\",\"#FF97FF\",\"#FECB52\"],\"font\":{\"color\":\"#2a3f5f\"},\"hovermode\":\"closest\",\"hoverlabel\":{\"align\":\"left\"},\"paper_bgcolor\":\"white\",\"plot_bgcolor\":\"#E5ECF6\",\"polar\":{\"bgcolor\":\"#E5ECF6\",\"angularaxis\":{\"gridcolor\":\"white\",\"linecolor\":\"white\",\"ticks\":\"\"},\"radialaxis\":{\"gridcolor\":\"white\",\"linecolor\":\"white\",\"ticks\":\"\"}},\"ternary\":{\"bgcolor\":\"#E5ECF6\",\"aaxis\":{\"gridcolor\":\"white\",\"linecolor\":\"white\",\"ticks\":\"\"},\"baxis\":{\"gridcolor\":\"white\",\"linecolor\":\"white\",\"ticks\":\"\"},\"caxis\":{\"gridcolor\":\"white\",\"linecolor\":\"white\",\"ticks\":\"\"}},\"coloraxis\":{\"colorbar\":{\"outlinewidth\":0,\"ticks\":\"\"}},\"colorscale\":{\"sequential\":[[0.0,\"#0d0887\"],[0.1111111111111111,\"#46039f\"],[0.2222222222222222,\"#7201a8\"],[0.3333333333333333,\"#9c179e\"],[0.4444444444444444,\"#bd3786\"],[0.5555555555555556,\"#d8576b\"],[0.6666666666666666,\"#ed7953\"],[0.7777777777777778,\"#fb9f3a\"],[0.8888888888888888,\"#fdca26\"],[1.0,\"#f0f921\"]],\"sequentialminus\":[[0.0,\"#0d0887\"],[0.1111111111111111,\"#46039f\"],[0.2222222222222222,\"#7201a8\"],[0.3333333333333333,\"#9c179e\"],[0.4444444444444444,\"#bd3786\"],[0.5555555555555556,\"#d8576b\"],[0.6666666666666666,\"#ed7953\"],[0.7777777777777778,\"#fb9f3a\"],[0.8888888888888888,\"#fdca26\"],[1.0,\"#f0f921\"]],\"diverging\":[[0,\"#8e0152\"],[0.1,\"#c51b7d\"],[0.2,\"#de77ae\"],[0.3,\"#f1b6da\"],[0.4,\"#fde0ef\"],[0.5,\"#f7f7f7\"],[0.6,\"#e6f5d0\"],[0.7,\"#b8e186\"],[0.8,\"#7fbc41\"],[0.9,\"#4d9221\"],[1,\"#276419\"]]},\"xaxis\":{\"gridcolor\":\"white\",\"linecolor\":\"white\",\"ticks\":\"\",\"title\":{\"standoff\":15},\"zerolinecolor\":\"white\",\"automargin\":true,\"zerolinewidth\":2},\"yaxis\":{\"gridcolor\":\"white\",\"linecolor\":\"white\",\"ticks\":\"\",\"title\":{\"standoff\":15},\"zerolinecolor\":\"white\",\"automargin\":true,\"zerolinewidth\":2},\"scene\":{\"xaxis\":{\"backgroundcolor\":\"#E5ECF6\",\"gridcolor\":\"white\",\"linecolor\":\"white\",\"showbackground\":true,\"ticks\":\"\",\"zerolinecolor\":\"white\",\"gridwidth\":2},\"yaxis\":{\"backgroundcolor\":\"#E5ECF6\",\"gridcolor\":\"white\",\"linecolor\":\"white\",\"showbackground\":true,\"ticks\":\"\",\"zerolinecolor\":\"white\",\"gridwidth\":2},\"zaxis\":{\"backgroundcolor\":\"#E5ECF6\",\"gridcolor\":\"white\",\"linecolor\":\"white\",\"showbackground\":true,\"ticks\":\"\",\"zerolinecolor\":\"white\",\"gridwidth\":2}},\"shapedefaults\":{\"line\":{\"color\":\"#2a3f5f\"}},\"annotationdefaults\":{\"arrowcolor\":\"#2a3f5f\",\"arrowhead\":0,\"arrowwidth\":1},\"geo\":{\"bgcolor\":\"white\",\"landcolor\":\"#E5ECF6\",\"subunitcolor\":\"white\",\"showland\":true,\"showlakes\":true,\"lakecolor\":\"white\"},\"title\":{\"x\":0.05},\"mapbox\":{\"style\":\"light\"}}},\"xaxis\":{\"anchor\":\"y\",\"domain\":[0.0,1.0],\"title\":{\"text\":\"secs (how many seconds it takes to process one image)\"},\"type\":\"log\"},\"yaxis\":{\"anchor\":\"x\",\"domain\":[0.0,1.0],\"title\":{\"text\":\"top1 (accuracy on Imagenet)\"}},\"legend\":{\"title\":{\"text\":\"family\"},\"tracegroupgap\":0,\"itemsizing\":\"constant\"},\"title\":{\"text\":\"Training\"},\"height\":800,\"width\":1000},                        {\"responsive\": true}                    ).then(function(){\n",
       "                            \n",
       "var gd = document.getElementById('a9684ed1-a1eb-49fe-aba5-b60c6debacbc');\n",
       "var x = new MutationObserver(function (mutations, observer) {{\n",
       "        var display = window.getComputedStyle(gd).display;\n",
       "        if (!display || display === 'none') {{\n",
       "            console.log([gd, 'removed!']);\n",
       "            Plotly.purge(gd);\n",
       "            observer.disconnect();\n",
       "        }}\n",
       "}});\n",
       "\n",
       "// Listen for the removal of the full notebook cells\n",
       "var notebookContainer = gd.closest('#notebook-container');\n",
       "if (notebookContainer) {{\n",
       "    x.observe(notebookContainer, {childList: true});\n",
       "}}\n",
       "\n",
       "// Listen for the clearing of the current output cell\n",
       "var outputEl = gd.closest('.output');\n",
       "if (outputEl) {{\n",
       "    x.observe(outputEl, {childList: true});\n",
       "}}\n",
       "\n",
       "                        })                };                });            </script>        </div>"
      ]
     },
     "metadata": {},
     "output_type": "display_data"
    }
   ],
   "source": [
    "show_subs(tdf, 'Training', 'train_img_size')"
   ]
  },
  {
   "cell_type": "markdown",
   "metadata": {},
   "source": [
    "Finally, we should remember that speed depends on hardware. If you're using something other than a modern NVIDIA GPU, your results may be different. In particular, I suspect that transformers-based models might have worse performance in general on CPUs (although I need to study this more to be sure)."
   ]
  },
  {
   "cell_type": "code",
   "execution_count": null,
   "metadata": {},
   "outputs": [],
   "source": []
  }
 ],
 "metadata": {
  "kernelspec": {
   "display_name": "fastai_related",
   "language": "python",
   "name": "fastai_related"
  },
  "language_info": {
   "codemirror_mode": {
    "name": "ipython",
    "version": 3
   },
   "file_extension": ".py",
   "mimetype": "text/x-python",
   "name": "python",
   "nbconvert_exporter": "python",
   "pygments_lexer": "ipython3",
   "version": "3.10.5"
  },
  "toc": {
   "base_numbering": 1,
   "nav_menu": {},
   "number_sections": true,
   "sideBar": true,
   "skip_h1_title": false,
   "title_cell": "Table of Contents",
   "title_sidebar": "Contents",
   "toc_cell": false,
   "toc_position": {
    "height": "calc(100% - 180px)",
    "left": "10px",
    "top": "150px",
    "width": "384px"
   },
   "toc_section_display": true,
   "toc_window_display": true
  }
 },
 "nbformat": 4,
 "nbformat_minor": 4
}
