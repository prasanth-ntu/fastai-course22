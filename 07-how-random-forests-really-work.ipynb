{
 "cells": [
  {
   "cell_type": "markdown",
   "metadata": {},
   "source": [
    "## Introduction"
   ]
  },
  {
   "cell_type": "markdown",
   "metadata": {},
   "source": [
    "Previously I've shown how to create a [linear model and neural net from scratch](https://www.kaggle.com/code/jhoward/linear-model-and-neural-net-from-scratch), and used it to create a solid submission to Kaggle's [Titanic](https://www.kaggle.com/competitions/titanic/) competition. However, for *tabular* data (i.e data that looks like spreadsheet or database tables, such as the data for the Titanic competition) it's more common to see good results by using ensembles of decision trees, such as Random Forests and Gradient Boosting Machines.\n",
    "\n",
    "In this notebook, we're going to learn all about Random Forests, by building one from scratch, and using it to submit to the Titanic competition! That might sound like a pretty big stretch, but I think you'll be surprised to discover how straightforward it actually is.\n",
    "\n",
    "We'll start by importing the basic set of libraries we normally need for data science work, and setting numpy to use our display space more efficiently:"
   ]
  },
  {
   "cell_type": "code",
   "execution_count": 1,
   "metadata": {
    "ExecuteTime": {
     "end_time": "2023-06-24T04:15:04.596256Z",
     "start_time": "2023-06-24T04:15:03.978051Z"
    },
    "_cell_guid": "b1076dfc-b9ad-4769-8c92-a6c4dae69d19",
    "_uuid": "8f2839f25d086af736a60e9eeb907d3b93b6e0e5",
    "execution": {
     "iopub.execute_input": "2022-05-23T04:37:24.640765Z",
     "iopub.status.busy": "2022-05-23T04:37:24.640339Z",
     "iopub.status.idle": "2022-05-23T04:37:25.174055Z",
     "shell.execute_reply": "2022-05-23T04:37:25.172992Z",
     "shell.execute_reply.started": "2022-05-23T04:37:24.640663Z"
    }
   },
   "outputs": [],
   "source": [
    "from fastai.imports import *\n",
    "np.set_printoptions(linewidth=130)"
   ]
  },
  {
   "cell_type": "markdown",
   "metadata": {},
   "source": [
    "## Data preprocessing"
   ]
  },
  {
   "cell_type": "markdown",
   "metadata": {},
   "source": [
    "We'll create `DataFrame`s from the CSV files just like we did in the \"*linear model and neural net from scratch*\" notebook, and do much the same preprocessing (so go back and check that out if you're not already familiar with the dataset):"
   ]
  },
  {
   "cell_type": "code",
   "execution_count": 2,
   "metadata": {
    "ExecuteTime": {
     "end_time": "2023-06-24T04:15:05.493541Z",
     "start_time": "2023-06-24T04:15:04.607758Z"
    },
    "execution": {
     "iopub.execute_input": "2022-05-23T04:37:26.152841Z",
     "iopub.status.busy": "2022-05-23T04:37:26.152518Z",
     "iopub.status.idle": "2022-05-23T04:37:26.205303Z",
     "shell.execute_reply": "2022-05-23T04:37:26.204112Z",
     "shell.execute_reply.started": "2022-05-23T04:37:26.152806Z"
    }
   },
   "outputs": [
    {
     "name": "stdout",
     "output_type": "stream",
     "text": [
      "Warning: Your Kaggle API key is readable by other users on this system! To fix this, you can run 'chmod 600 /Users/prasanth.thangavel/.kaggle/kaggle.json'\n",
      "titanic.zip: Skipping, found more recently modified local copy (use --force to force download)\n"
     ]
    }
   ],
   "source": [
    "import os\n",
    "iskaggle = os.environ.get('KAGGLE_KERNEL_RUN_TYPE', '')\n",
    "\n",
    "if iskaggle: path = Path('../input/titanic')\n",
    "else:\n",
    "    import zipfile,kaggle\n",
    "    path = Path('titanic')\n",
    "    kaggle.api.competition_download_cli(str(path))\n",
    "    zipfile.ZipFile(f'{path}.zip').extractall(path)\n",
    "\n",
    "df = pd.read_csv(path/'train.csv')\n",
    "tst_df = pd.read_csv(path/'test.csv')\n",
    "modes = df.mode().iloc[0]"
   ]
  },
  {
   "cell_type": "markdown",
   "metadata": {},
   "source": [
    "One difference with Random Forests however is that we don't generally have to create *dummy variables* like we did for non-numeric columns in the linear models and neural network. Instead, we can just convert those fields to *categorical variables*, which internally in Pandas makes a list of all the unique values in the column, and replaces each value with a number. The number is just an index for looking up the value in the list of all unique values."
   ]
  },
  {
   "cell_type": "code",
   "execution_count": 3,
   "metadata": {
    "ExecuteTime": {
     "end_time": "2023-06-24T04:15:05.511917Z",
     "start_time": "2023-06-24T04:15:05.496663Z"
    },
    "execution": {
     "iopub.execute_input": "2022-05-23T04:37:26.941371Z",
     "iopub.status.busy": "2022-05-23T04:37:26.941013Z",
     "iopub.status.idle": "2022-05-23T04:37:26.9692Z",
     "shell.execute_reply": "2022-05-23T04:37:26.968016Z",
     "shell.execute_reply.started": "2022-05-23T04:37:26.941337Z"
    }
   },
   "outputs": [],
   "source": [
    "def proc_data(df):\n",
    "    df['Fare'] = df.Fare.fillna(0)\n",
    "    df.fillna(modes, inplace=True)\n",
    "    df['LogFare'] = np.log1p(df['Fare'])\n",
    "    df['Embarked'] = pd.Categorical(df.Embarked)\n",
    "    df['Sex'] = pd.Categorical(df.Sex)\n",
    "\n",
    "proc_data(df)\n",
    "proc_data(tst_df)"
   ]
  },
  {
   "cell_type": "markdown",
   "metadata": {},
   "source": [
    "<span style=\"color:blue\">We'll make a list of the continuous, categorical, and dependent variables. Note that we no longer consider `Pclass` a categorical variable. That's because it's *ordered* (i.e 1st, 2nd, and 3rd class have an order), and <b>decision trees, as we'll see, only care about order, not about absolute value</b>.</span>"
   ]
  },
  {
   "cell_type": "code",
   "execution_count": 5,
   "metadata": {
    "ExecuteTime": {
     "end_time": "2023-06-24T04:15:46.981161Z",
     "start_time": "2023-06-24T04:15:46.971852Z"
    },
    "execution": {
     "iopub.execute_input": "2022-05-23T04:37:27.728358Z",
     "iopub.status.busy": "2022-05-23T04:37:27.728077Z",
     "iopub.status.idle": "2022-05-23T04:37:27.733013Z",
     "shell.execute_reply": "2022-05-23T04:37:27.732245Z",
     "shell.execute_reply.started": "2022-05-23T04:37:27.728328Z"
    }
   },
   "outputs": [],
   "source": [
    "cats=[\"Sex\",\"Embarked\"]\n",
    "conts=['Age', 'SibSp', 'Parch', 'LogFare',\"Pclass\"]\n",
    "dep=\"Survived\""
   ]
  },
  {
   "cell_type": "markdown",
   "metadata": {},
   "source": [
    "Even although we've made the `cats` columns categorical, they are still shown by Pandas as their original values:"
   ]
  },
  {
   "cell_type": "code",
   "execution_count": 9,
   "metadata": {
    "ExecuteTime": {
     "end_time": "2023-06-24T04:16:59.043272Z",
     "start_time": "2023-06-24T04:16:59.032078Z"
    },
    "execution": {
     "iopub.execute_input": "2022-05-23T04:37:28.64687Z",
     "iopub.status.busy": "2022-05-23T04:37:28.645995Z",
     "iopub.status.idle": "2022-05-23T04:37:28.657163Z",
     "shell.execute_reply": "2022-05-23T04:37:28.656275Z",
     "shell.execute_reply.started": "2022-05-23T04:37:28.646831Z"
    }
   },
   "outputs": [
    {
     "data": {
      "text/plain": [
       "0      male\n",
       "1    female\n",
       "2    female\n",
       "3    female\n",
       "4      male\n",
       "Name: Sex, dtype: category\n",
       "Categories (2, object): ['female', 'male']"
      ]
     },
     "execution_count": 9,
     "metadata": {},
     "output_type": "execute_result"
    }
   ],
   "source": [
    "df.Sex.head()"
   ]
  },
  {
   "cell_type": "markdown",
   "metadata": {},
   "source": [
    "However behind the scenes they're now stored as integers, with indices that are looked up in the `Categories` list shown in the output above. We can view the stored values by looking in the `cat.codes` attribute:"
   ]
  },
  {
   "cell_type": "code",
   "execution_count": 7,
   "metadata": {
    "ExecuteTime": {
     "end_time": "2023-06-24T04:16:39.808606Z",
     "start_time": "2023-06-24T04:16:39.786006Z"
    },
    "execution": {
     "iopub.execute_input": "2022-05-23T04:37:29.606313Z",
     "iopub.status.busy": "2022-05-23T04:37:29.605974Z",
     "iopub.status.idle": "2022-05-23T04:37:29.613586Z",
     "shell.execute_reply": "2022-05-23T04:37:29.612892Z",
     "shell.execute_reply.started": "2022-05-23T04:37:29.606276Z"
    }
   },
   "outputs": [
    {
     "data": {
      "text/plain": [
       "0    1\n",
       "1    0\n",
       "2    0\n",
       "3    0\n",
       "4    1\n",
       "dtype: int8"
      ]
     },
     "execution_count": 7,
     "metadata": {},
     "output_type": "execute_result"
    }
   ],
   "source": [
    "df.Sex.cat.codes.head()"
   ]
  },
  {
   "cell_type": "code",
   "execution_count": 11,
   "metadata": {
    "ExecuteTime": {
     "end_time": "2023-06-24T04:17:26.269751Z",
     "start_time": "2023-06-24T04:17:26.256944Z"
    }
   },
   "outputs": [
    {
     "data": {
      "text/plain": [
       "0    S\n",
       "1    C\n",
       "2    S\n",
       "3    S\n",
       "4    S\n",
       "Name: Embarked, dtype: category\n",
       "Categories (3, object): ['C', 'Q', 'S']"
      ]
     },
     "execution_count": 11,
     "metadata": {},
     "output_type": "execute_result"
    }
   ],
   "source": [
    "df.Embarked.head()"
   ]
  },
  {
   "cell_type": "code",
   "execution_count": 12,
   "metadata": {
    "ExecuteTime": {
     "end_time": "2023-06-24T04:17:34.692555Z",
     "start_time": "2023-06-24T04:17:34.676833Z"
    }
   },
   "outputs": [
    {
     "data": {
      "text/plain": [
       "0    2\n",
       "1    0\n",
       "2    2\n",
       "3    2\n",
       "4    2\n",
       "dtype: int8"
      ]
     },
     "execution_count": 12,
     "metadata": {},
     "output_type": "execute_result"
    }
   ],
   "source": [
    "df.Embarked.cat.codes.head()"
   ]
  },
  {
   "cell_type": "markdown",
   "metadata": {},
   "source": [
    "## Binary splits"
   ]
  },
  {
   "cell_type": "markdown",
   "metadata": {},
   "source": [
    "<span style=\"color:blue\">Before we create a <b>Random Forest or Gradient Boosting Machine</b>, we'll first need to learn how to create a <b>*decision tree*</b>, from which both of these models are built. And to create a decision tree, we'll first need to create a <b>*binary split*</b>, since that's what a decision tree is built from. So, we are going to learn bottom-up.</span>\n",
    "\n",
    "<span style=\"color:blue\">A binary split is where all rows are placed into one of two groups, based on whether they're above or below some threshold of some column</span>. For example, we could split the rows of our dataset into males and females, by using the threshold `0.5` and the column `Sex` (since the values in the column are `0` for `female` and `1` for `male`). We can use a plot to see how that would split up our data -- we'll use the [Seaborn](https://seaborn.pydata.org/) library, which is a layer on top of [matplotlib](https://matplotlib.org/) that makes some useful charts easier to create, and more aesthetically pleasing by default:"
   ]
  },
  {
   "cell_type": "code",
   "execution_count": 13,
   "metadata": {
    "ExecuteTime": {
     "end_time": "2023-06-24T04:19:07.097264Z",
     "start_time": "2023-06-24T04:19:06.534388Z"
    },
    "execution": {
     "iopub.execute_input": "2022-05-23T04:37:31.229486Z",
     "iopub.status.busy": "2022-05-23T04:37:31.228601Z",
     "iopub.status.idle": "2022-05-23T04:37:32.45072Z",
     "shell.execute_reply": "2022-05-23T04:37:32.449794Z",
     "shell.execute_reply.started": "2022-05-23T04:37:31.229441Z"
    }
   },
   "outputs": [
    {
     "data": {
      "image/png": "[encoded data removed]",
      "text/plain": [
       "<Figure size 1100x500 with 2 Axes>"
      ]
     },
     "metadata": {},
     "output_type": "display_data"
    }
   ],
   "source": [
    "import seaborn as sns\n",
    "\n",
    "fig,axs = plt.subplots(1,2, figsize=(11,5))\n",
    "sns.barplot(data=df, y=dep, x=\"Sex\", ax=axs[0]).set(title=\"Survival rate\")\n",
    "sns.countplot(data=df, x=\"Sex\", ax=axs[1]).set(title=\"Histogram\");"
   ]
  },
  {
   "cell_type": "markdown",
   "metadata": {},
   "source": [
    "Here we see that (on the left) if we split the data into males and females, we'd have groups that have very different survival rates: >70% for females, and <20% for males. We can also see (on the right) that the split would be reasonably even, with over 300 passengers (out of around 900) in each group.\n",
    "\n",
    "We could create a very simple \"model\" which simply says that all females survive, and no males do. To do so, we better first split our data into a training and validation set, to see how accurate this approach turns out to be:"
   ]
  },
  {
   "cell_type": "code",
   "execution_count": 16,
   "metadata": {
    "ExecuteTime": {
     "end_time": "2023-06-24T04:20:31.327635Z",
     "start_time": "2023-06-24T04:20:31.311808Z"
    },
    "execution": {
     "iopub.execute_input": "2022-05-23T04:37:32.688753Z",
     "iopub.status.busy": "2022-05-23T04:37:32.688257Z",
     "iopub.status.idle": "2022-05-23T04:37:32.908453Z",
     "shell.execute_reply": "2022-05-23T04:37:32.907399Z",
     "shell.execute_reply.started": "2022-05-23T04:37:32.688718Z"
    }
   },
   "outputs": [],
   "source": [
    "from numpy import random\n",
    "from sklearn.model_selection import train_test_split\n",
    "\n",
    "random.seed(42)\n",
    "trn_df,val_df = train_test_split(df, test_size=0.25)\n",
    "trn_df[cats] = trn_df[cats].apply(lambda x: x.cat.codes)\n",
    "val_df[cats] = val_df[cats].apply(lambda x: x.cat.codes)"
   ]
  },
  {
   "cell_type": "code",
   "execution_count": 17,
   "metadata": {
    "ExecuteTime": {
     "end_time": "2023-06-24T04:20:39.476668Z",
     "start_time": "2023-06-24T04:20:39.456565Z"
    }
   },
   "outputs": [
    {
     "data": {
      "text/html": [
       "<div>\n",
       "<style scoped>\n",
       "    .dataframe tbody tr th:only-of-type {\n",
       "        vertical-align: middle;\n",
       "    }\n",
       "\n",
       "    .dataframe tbody tr th {\n",
       "        vertical-align: top;\n",
       "    }\n",
       "\n",
       "    .dataframe thead th {\n",
       "        text-align: right;\n",
       "    }\n",
       "</style>\n",
       "<table border=\"1\" class=\"dataframe\">\n",
       "  <thead>\n",
       "    <tr style=\"text-align: right;\">\n",
       "      <th></th>\n",
       "      <th>PassengerId</th>\n",
       "      <th>Survived</th>\n",
       "      <th>Pclass</th>\n",
       "      <th>Name</th>\n",
       "      <th>Sex</th>\n",
       "      <th>Age</th>\n",
       "      <th>SibSp</th>\n",
       "      <th>Parch</th>\n",
       "      <th>Ticket</th>\n",
       "      <th>Fare</th>\n",
       "      <th>Cabin</th>\n",
       "      <th>Embarked</th>\n",
       "      <th>LogFare</th>\n",
       "    </tr>\n",
       "  </thead>\n",
       "  <tbody>\n",
       "    <tr>\n",
       "      <th>298</th>\n",
       "      <td>299</td>\n",
       "      <td>1</td>\n",
       "      <td>1</td>\n",
       "      <td>Saalfeld, Mr. Adolphe</td>\n",
       "      <td>1</td>\n",
       "      <td>24.0</td>\n",
       "      <td>0</td>\n",
       "      <td>0</td>\n",
       "      <td>19988</td>\n",
       "      <td>30.50</td>\n",
       "      <td>C106</td>\n",
       "      <td>2</td>\n",
       "      <td>3.449988</td>\n",
       "    </tr>\n",
       "    <tr>\n",
       "      <th>884</th>\n",
       "      <td>885</td>\n",
       "      <td>0</td>\n",
       "      <td>3</td>\n",
       "      <td>Sutehall, Mr. Henry Jr</td>\n",
       "      <td>1</td>\n",
       "      <td>25.0</td>\n",
       "      <td>0</td>\n",
       "      <td>0</td>\n",
       "      <td>SOTON/OQ 392076</td>\n",
       "      <td>7.05</td>\n",
       "      <td>B96 B98</td>\n",
       "      <td>2</td>\n",
       "      <td>2.085672</td>\n",
       "    </tr>\n",
       "    <tr>\n",
       "      <th>247</th>\n",
       "      <td>248</td>\n",
       "      <td>1</td>\n",
       "      <td>2</td>\n",
       "      <td>Hamalainen, Mrs. William (Anna)</td>\n",
       "      <td>0</td>\n",
       "      <td>24.0</td>\n",
       "      <td>0</td>\n",
       "      <td>2</td>\n",
       "      <td>250649</td>\n",
       "      <td>14.50</td>\n",
       "      <td>B96 B98</td>\n",
       "      <td>2</td>\n",
       "      <td>2.740840</td>\n",
       "    </tr>\n",
       "  </tbody>\n",
       "</table>\n",
       "</div>"
      ],
      "text/plain": [
       "     PassengerId  Survived  Pclass                             Name  Sex  \\\n",
       "298          299         1       1            Saalfeld, Mr. Adolphe    1   \n",
       "884          885         0       3           Sutehall, Mr. Henry Jr    1   \n",
       "247          248         1       2  Hamalainen, Mrs. William (Anna)    0   \n",
       "\n",
       "      Age  SibSp  Parch           Ticket   Fare    Cabin  Embarked   LogFare  \n",
       "298  24.0      0      0            19988  30.50     C106         2  3.449988  \n",
       "884  25.0      0      0  SOTON/OQ 392076   7.05  B96 B98         2  2.085672  \n",
       "247  24.0      0      2           250649  14.50  B96 B98         2  2.740840  "
      ]
     },
     "execution_count": 17,
     "metadata": {},
     "output_type": "execute_result"
    }
   ],
   "source": [
    "trn_df.head(3)"
   ]
  },
  {
   "cell_type": "markdown",
   "metadata": {},
   "source": [
    "(In the previous step we also replaced the categorical variables with their integer codes, since some of the models we'll be building in a moment require that.)\n",
    "\n",
    "Now we can create our independent variables (the `x` variables) and dependent (the `y` variable):"
   ]
  },
  {
   "cell_type": "code",
   "execution_count": 18,
   "metadata": {
    "ExecuteTime": {
     "end_time": "2023-06-24T04:21:15.995425Z",
     "start_time": "2023-06-24T04:21:15.976908Z"
    },
    "execution": {
     "iopub.execute_input": "2022-05-23T04:37:33.154552Z",
     "iopub.status.busy": "2022-05-23T04:37:33.153932Z",
     "iopub.status.idle": "2022-05-23T04:37:33.164771Z",
     "shell.execute_reply": "2022-05-23T04:37:33.163736Z",
     "shell.execute_reply.started": "2022-05-23T04:37:33.154505Z"
    }
   },
   "outputs": [],
   "source": [
    "def xs_y(df):\n",
    "    xs = df[cats+conts].copy()\n",
    "    return xs,df[dep] if dep in df else None\n",
    "\n",
    "trn_xs,trn_y = xs_y(trn_df)\n",
    "val_xs,val_y = xs_y(val_df)"
   ]
  },
  {
   "cell_type": "markdown",
   "metadata": {},
   "source": [
    "Here's the predictions for our extremely simple model, where `female` is coded as `0`:"
   ]
  },
  {
   "cell_type": "code",
   "execution_count": 19,
   "metadata": {
    "ExecuteTime": {
     "end_time": "2023-06-24T04:22:11.692066Z",
     "start_time": "2023-06-24T04:22:11.680620Z"
    },
    "execution": {
     "iopub.execute_input": "2022-05-23T04:37:33.932259Z",
     "iopub.status.busy": "2022-05-23T04:37:33.931549Z",
     "iopub.status.idle": "2022-05-23T04:37:33.940681Z",
     "shell.execute_reply": "2022-05-23T04:37:33.93969Z",
     "shell.execute_reply.started": "2022-05-23T04:37:33.932218Z"
    }
   },
   "outputs": [],
   "source": [
    "preds = val_xs.Sex==0 # We predict if female, then survived (preds=1), else not survied (preds=0)"
   ]
  },
  {
   "cell_type": "markdown",
   "metadata": {},
   "source": [
    "We'll use mean absolute error to measure how good this model is:"
   ]
  },
  {
   "cell_type": "code",
   "execution_count": 20,
   "metadata": {
    "ExecuteTime": {
     "end_time": "2023-06-24T04:22:12.184839Z",
     "start_time": "2023-06-24T04:22:12.175754Z"
    },
    "execution": {
     "iopub.execute_input": "2022-05-23T04:37:34.580131Z",
     "iopub.status.busy": "2022-05-23T04:37:34.579605Z",
     "iopub.status.idle": "2022-05-23T04:37:34.588669Z",
     "shell.execute_reply": "2022-05-23T04:37:34.58794Z",
     "shell.execute_reply.started": "2022-05-23T04:37:34.580088Z"
    }
   },
   "outputs": [
    {
     "data": {
      "text/plain": [
       "0.21524663677130046"
      ]
     },
     "execution_count": 20,
     "metadata": {},
     "output_type": "execute_result"
    }
   ],
   "source": [
    "from sklearn.metrics import mean_absolute_error\n",
    "mean_absolute_error(val_y, preds)"
   ]
  },
  {
   "cell_type": "code",
   "execution_count": 21,
   "metadata": {
    "ExecuteTime": {
     "end_time": "2023-06-24T04:22:35.871193Z",
     "start_time": "2023-06-24T04:22:35.858070Z"
    }
   },
   "outputs": [
    {
     "data": {
      "text/plain": [
       "0.7847533632286996"
      ]
     },
     "execution_count": 21,
     "metadata": {},
     "output_type": "execute_result"
    }
   ],
   "source": [
    "from sklearn.metrics import accuracy_score\n",
    "accuracy_score(val_y, preds)"
   ]
  },
  {
   "cell_type": "markdown",
   "metadata": {},
   "source": [
    "Alternatively, we could try splitting on a continuous column. We have to use a somewhat different chart to see how this might work -- here's an example of how we could look at `LogFare`:"
   ]
  },
  {
   "cell_type": "code",
   "execution_count": 25,
   "metadata": {
    "ExecuteTime": {
     "end_time": "2023-06-24T04:24:06.099812Z",
     "start_time": "2023-06-24T04:24:05.853029Z"
    },
    "execution": {
     "iopub.execute_input": "2022-05-23T04:37:36.079566Z",
     "iopub.status.busy": "2022-05-23T04:37:36.078932Z",
     "iopub.status.idle": "2022-05-23T04:37:36.428338Z",
     "shell.execute_reply": "2022-05-23T04:37:36.427385Z",
     "shell.execute_reply.started": "2022-05-23T04:37:36.079515Z"
    }
   },
   "outputs": [
    {
     "data": {
      "image/png": "[encoded data removed]",
      "text/plain": [
       "<Figure size 1100x500 with 2 Axes>"
      ]
     },
     "metadata": {},
     "output_type": "display_data"
    }
   ],
   "source": [
    "df_fare = trn_df[trn_df.LogFare>0]\n",
    "fig,axs = plt.subplots(1,2, figsize=(11,5))\n",
    "sns.boxenplot(data=df_fare, x=dep, y=\"LogFare\", ax=axs[0])\n",
    "sns.kdeplot(data=df_fare, x=\"LogFare\", ax=axs[1]);\n",
    "axs[0].grid(axis='y', which=\"both\")"
   ]
  },
  {
   "cell_type": "code",
   "execution_count": 28,
   "metadata": {
    "ExecuteTime": {
     "end_time": "2023-06-24T04:24:43.830001Z",
     "start_time": "2023-06-24T04:24:43.816543Z"
    }
   },
   "outputs": [
    {
     "data": {
      "text/plain": [
       "Survived\n",
       "0    2.442347\n",
       "1    3.256044\n",
       "Name: LogFare, dtype: float64"
      ]
     },
     "execution_count": 28,
     "metadata": {},
     "output_type": "execute_result"
    }
   ],
   "source": [
    "df_fare.groupby('Survived')['LogFare'].apply(np.median)"
   ]
  },
  {
   "cell_type": "markdown",
   "metadata": {},
   "source": [
    "The [boxenplot](https://seaborn.pydata.org/generated/seaborn.boxenplot.html) above shows quantiles of `LogFare` for each group of `Survived==0` and `Survived==1`. It shows that the average `LogFare` for passengers that didn't survive is around `2.5`, and for those that did it's around `3.2`. So it seems that people that paid more for their tickets were more likely to get put on a lifeboat.\n",
    "\n",
    "Let's create a simple model based on this observation:"
   ]
  },
  {
   "cell_type": "code",
   "execution_count": 29,
   "metadata": {
    "ExecuteTime": {
     "end_time": "2023-06-24T04:25:06.540397Z",
     "start_time": "2023-06-24T04:25:06.529831Z"
    },
    "execution": {
     "iopub.execute_input": "2022-05-23T04:37:38.68033Z",
     "iopub.status.busy": "2022-05-23T04:37:38.680007Z",
     "iopub.status.idle": "2022-05-23T04:37:38.68637Z",
     "shell.execute_reply": "2022-05-23T04:37:38.685259Z",
     "shell.execute_reply.started": "2022-05-23T04:37:38.680295Z"
    }
   },
   "outputs": [],
   "source": [
    "preds = val_xs.LogFare>2.7"
   ]
  },
  {
   "cell_type": "markdown",
   "metadata": {},
   "source": [
    "...and test it out:"
   ]
  },
  {
   "cell_type": "code",
   "execution_count": 31,
   "metadata": {
    "ExecuteTime": {
     "end_time": "2023-06-24T04:25:15.845377Z",
     "start_time": "2023-06-24T04:25:15.832004Z"
    },
    "execution": {
     "iopub.execute_input": "2022-05-23T04:37:40.107202Z",
     "iopub.status.busy": "2022-05-23T04:37:40.106891Z",
     "iopub.status.idle": "2022-05-23T04:37:40.114544Z",
     "shell.execute_reply": "2022-05-23T04:37:40.113805Z",
     "shell.execute_reply.started": "2022-05-23T04:37:40.107167Z"
    }
   },
   "outputs": [
    {
     "data": {
      "text/plain": [
       "0.336322869955157"
      ]
     },
     "execution_count": 31,
     "metadata": {},
     "output_type": "execute_result"
    }
   ],
   "source": [
    "mean_absolute_error(val_y, preds)"
   ]
  },
  {
   "cell_type": "markdown",
   "metadata": {},
   "source": [
    "This is quite a bit less accurate than our model that used `Sex` as the single binary split.\n",
    "\n",
    "Ideally, we'd like some way to try more columns and breakpoints more easily. We could create a function that returns how good our model is, in order to more quickly try out a few different splits. We'll create a `score` function to do this. Instead of returning the mean absolute error, we'll calculate a measure of *impurity* -- that is, how much the binary split creates two groups where the rows in a group are each similar to each other, or dissimilar.\n",
    "\n",
    "We can measure the similarity of rows inside a group by taking the standard deviation of the dependent variable. If it's higher, then it means the rows are more different to each other. We'll then multiply this by the number of rows, since a bigger group as more impact than a smaller group:"
   ]
  },
  {
   "cell_type": "code",
   "execution_count": 36,
   "metadata": {
    "ExecuteTime": {
     "end_time": "2023-06-24T04:28:35.101337Z",
     "start_time": "2023-06-24T04:28:35.094215Z"
    },
    "execution": {
     "iopub.execute_input": "2022-05-23T04:37:40.630562Z",
     "iopub.status.busy": "2022-05-23T04:37:40.62976Z",
     "iopub.status.idle": "2022-05-23T04:37:40.636571Z",
     "shell.execute_reply": "2022-05-23T04:37:40.635377Z",
     "shell.execute_reply.started": "2022-05-23T04:37:40.630514Z"
    }
   },
   "outputs": [],
   "source": [
    "def _side_score(side, y):\n",
    "    tot = side.sum()\n",
    "    if tot<=1: return 0\n",
    "    return y[side].std()*tot # How similar are the values in a group. Can be mesured by S.D."
   ]
  },
  {
   "cell_type": "markdown",
   "metadata": {},
   "source": [
    "Now we've got that written, we can calculate the score for a split by adding up the scores for the \"left hand side\" (lhs) and \"right hand side\" (rhs):"
   ]
  },
  {
   "cell_type": "code",
   "execution_count": 37,
   "metadata": {
    "ExecuteTime": {
     "end_time": "2023-06-24T04:28:35.376687Z",
     "start_time": "2023-06-24T04:28:35.369362Z"
    },
    "execution": {
     "iopub.execute_input": "2022-05-23T04:37:41.160896Z",
     "iopub.status.busy": "2022-05-23T04:37:41.160555Z",
     "iopub.status.idle": "2022-05-23T04:37:41.166645Z",
     "shell.execute_reply": "2022-05-23T04:37:41.165803Z",
     "shell.execute_reply.started": "2022-05-23T04:37:41.160861Z"
    }
   },
   "outputs": [],
   "source": [
    "def score(col, y, split):\n",
    "    '''Lower score means better split'''\n",
    "    lhs = col<=split\n",
    "    return (_side_score(lhs,y) + _side_score(~lhs,y))/len(y)"
   ]
  },
  {
   "cell_type": "markdown",
   "metadata": {},
   "source": [
    "For instance, here's the impurity score for the split on `Sex`:"
   ]
  },
  {
   "cell_type": "code",
   "execution_count": 38,
   "metadata": {
    "ExecuteTime": {
     "end_time": "2023-06-24T04:28:35.921452Z",
     "start_time": "2023-06-24T04:28:35.908343Z"
    },
    "execution": {
     "iopub.execute_input": "2022-05-23T04:37:42.530883Z",
     "iopub.status.busy": "2022-05-23T04:37:42.529881Z",
     "iopub.status.idle": "2022-05-23T04:37:42.542981Z",
     "shell.execute_reply": "2022-05-23T04:37:42.541924Z",
     "shell.execute_reply.started": "2022-05-23T04:37:42.530826Z"
    }
   },
   "outputs": [
    {
     "data": {
      "text/plain": [
       "0.40787530982063946"
      ]
     },
     "execution_count": 38,
     "metadata": {},
     "output_type": "execute_result"
    }
   ],
   "source": [
    "score(trn_xs[\"Sex\"], trn_y, 0.5)"
   ]
  },
  {
   "cell_type": "markdown",
   "metadata": {},
   "source": [
    "...and for `LogFare`:"
   ]
  },
  {
   "cell_type": "code",
   "execution_count": 40,
   "metadata": {
    "ExecuteTime": {
     "end_time": "2023-06-24T04:28:57.235951Z",
     "start_time": "2023-06-24T04:28:57.220114Z"
    },
    "execution": {
     "iopub.execute_input": "2022-05-23T04:37:43.657577Z",
     "iopub.status.busy": "2022-05-23T04:37:43.656642Z",
     "iopub.status.idle": "2022-05-23T04:37:43.665306Z",
     "shell.execute_reply": "2022-05-23T04:37:43.66471Z",
     "shell.execute_reply.started": "2022-05-23T04:37:43.657534Z"
    }
   },
   "outputs": [
    {
     "data": {
      "text/plain": [
       "0.47180873952099694"
      ]
     },
     "execution_count": 40,
     "metadata": {},
     "output_type": "execute_result"
    }
   ],
   "source": [
    "score(trn_xs[\"LogFare\"], trn_y, 2.7)"
   ]
  },
  {
   "cell_type": "markdown",
   "metadata": {},
   "source": [
    "As we'd expect from our earlier tests, `Sex` appears to be a better split.\n",
    "\n",
    "To make it easier to find the best binary split, we can create a simple interactive tool (note that this only works in Kaggle if you click \"Copy and Edit\" in the top right to open the notebook editor):"
   ]
  },
  {
   "cell_type": "code",
   "execution_count": 41,
   "metadata": {
    "ExecuteTime": {
     "end_time": "2023-06-24T04:28:57.594350Z",
     "start_time": "2023-06-24T04:28:57.557107Z"
    },
    "execution": {
     "iopub.execute_input": "2022-05-23T04:37:44.159662Z",
     "iopub.status.busy": "2022-05-23T04:37:44.159112Z",
     "iopub.status.idle": "2022-05-23T04:37:44.20316Z",
     "shell.execute_reply": "2022-05-23T04:37:44.202647Z",
     "shell.execute_reply.started": "2022-05-23T04:37:44.159612Z"
    }
   },
   "outputs": [
    {
     "data": {
      "application/vnd.jupyter.widget-view+json": {
       "model_id": "dd9f89eb82c6484c9189e777f31bfc57",
       "version_major": 2,
       "version_minor": 0
      },
      "text/plain": [
       "interactive(children=(Dropdown(description='nm', options=('Age', 'SibSp', 'Parch', 'LogFare', 'Pclass'), value…"
      ]
     },
     "metadata": {},
     "output_type": "display_data"
    }
   ],
   "source": [
    "def iscore(nm, split):\n",
    "    col = trn_xs[nm]\n",
    "    return score(col, trn_y, split)\n",
    "\n",
    "from ipywidgets import interact\n",
    "interact(nm=conts, split=15.5)(iscore);"
   ]
  },
  {
   "cell_type": "markdown",
   "metadata": {},
   "source": [
    "Try selecting different columns and split points using the dropdown and slider above. What splits can you find that increase the purity of the data?\n",
    "\n",
    "We can do the same thing for the categorical variables:"
   ]
  },
  {
   "cell_type": "code",
   "execution_count": 42,
   "metadata": {
    "ExecuteTime": {
     "end_time": "2023-06-24T04:29:18.588596Z",
     "start_time": "2023-06-24T04:29:18.564969Z"
    },
    "execution": {
     "iopub.execute_input": "2022-05-23T04:37:45.542149Z",
     "iopub.status.busy": "2022-05-23T04:37:45.541373Z",
     "iopub.status.idle": "2022-05-23T04:37:45.587574Z",
     "shell.execute_reply": "2022-05-23T04:37:45.58671Z",
     "shell.execute_reply.started": "2022-05-23T04:37:45.542101Z"
    }
   },
   "outputs": [
    {
     "data": {
      "application/vnd.jupyter.widget-view+json": {
       "model_id": "ed4b8a2e162d46849079118945b6e86c",
       "version_major": 2,
       "version_minor": 0
      },
      "text/plain": [
       "interactive(children=(Dropdown(description='nm', options=('Sex', 'Embarked'), value='Sex'), IntSlider(value=2,…"
      ]
     },
     "metadata": {},
     "output_type": "display_data"
    }
   ],
   "source": [
    "interact(nm=cats, split=2)(iscore);"
   ]
  },
  {
   "cell_type": "markdown",
   "metadata": {},
   "source": [
    "That works well enough, but it's rather slow and fiddly. Perhaps we could get the computer to automatically find the best split point for a column for us? For example, to find the best split point for `age` we'd first need to make a list of all the possible split points (i.e all the unique values of that field)...:"
   ]
  },
  {
   "cell_type": "code",
   "execution_count": 44,
   "metadata": {
    "ExecuteTime": {
     "end_time": "2023-06-24T04:30:15.284365Z",
     "start_time": "2023-06-24T04:30:15.268867Z"
    },
    "execution": {
     "iopub.execute_input": "2022-05-23T04:37:47.225685Z",
     "iopub.status.busy": "2022-05-23T04:37:47.225336Z",
     "iopub.status.idle": "2022-05-23T04:37:47.234728Z",
     "shell.execute_reply": "2022-05-23T04:37:47.233526Z",
     "shell.execute_reply.started": "2022-05-23T04:37:47.225646Z"
    }
   },
   "outputs": [
    {
     "data": {
      "text/plain": [
       "array([ 0.42,  0.67,  0.75,  0.83,  0.92,  1.  ,  2.  ,  3.  ,  4.  ,  5.  ,  6.  ,  7.  ,  8.  ,  9.  , 10.  , 11.  , 12.  ,\n",
       "       13.  , 14.  , 14.5 , 15.  , 16.  , 17.  , 18.  , 19.  , 20.  , 21.  , 22.  , 23.  , 24.  , 24.5 , 25.  , 26.  , 27.  ,\n",
       "       28.  , 28.5 , 29.  , 30.  , 31.  , 32.  , 32.5 , 33.  , 34.  , 34.5 , 35.  , 36.  , 36.5 , 37.  , 38.  , 39.  , 40.  ,\n",
       "       40.5 , 41.  , 42.  , 43.  , 44.  , 45.  , 45.5 , 46.  , 47.  , 48.  , 49.  , 50.  , 51.  , 52.  , 53.  , 54.  , 55.  ,\n",
       "       55.5 , 56.  , 57.  , 58.  , 59.  , 60.  , 61.  , 62.  , 64.  , 65.  , 70.  , 70.5 , 74.  , 80.  ])"
      ]
     },
     "execution_count": 44,
     "metadata": {},
     "output_type": "execute_result"
    }
   ],
   "source": [
    "nm = \"Age\"\n",
    "col = trn_xs[nm]\n",
    "unq = col.unique()\n",
    "unq.sort()\n",
    "unq"
   ]
  },
  {
   "cell_type": "markdown",
   "metadata": {},
   "source": [
    "...and find which index of those values is where `score()` is the lowest:"
   ]
  },
  {
   "cell_type": "code",
   "execution_count": 46,
   "metadata": {
    "ExecuteTime": {
     "end_time": "2023-06-24T04:30:57.757745Z",
     "start_time": "2023-06-24T04:30:57.737323Z"
    }
   },
   "outputs": [
    {
     "data": {
      "text/plain": [
       "array([0.48447755, 0.48351588, 0.48158676, 0.48061929, 0.47964987, 0.480937  , 0.48347294, 0.48171397, 0.47987776, 0.47884826,\n",
       "       0.47831672, 0.47949847, 0.47957573, 0.48092137, 0.48130659, 0.48200571, 0.48163287, 0.48124801, 0.48151498, 0.48183316,\n",
       "       0.48105614, 0.48202484, 0.48178211, 0.48337829, 0.48439618, 0.48501782, 0.48545475, 0.48556795, 0.48550856, 0.48554074,\n",
       "       0.48550094, 0.48504976, 0.48480161, 0.48561331, 0.4852559 , 0.48513473, 0.48529147, 0.48530156, 0.48543741, 0.48569729,\n",
       "       0.48571309, 0.48571467, 0.4856701 , 0.48563657, 0.48579877, 0.48579767, 0.4858019 , 0.48580095, 0.48580002, 0.48580178,\n",
       "       0.48580211, 0.48579777, 0.4857996 , 0.48580236, 0.48579236, 0.48580043, 0.48580303, 0.4858034 , 0.4857613 , 0.4855666 ,\n",
       "       0.48579394, 0.48580506, 0.48580434, 0.48580707, 0.48579364, 0.48580788, 0.48581017, 0.48580597, 0.48581077, 0.48576815,\n",
       "       0.48580167, 0.48545792, 0.48567909, 0.48542059, 0.48557468, 0.48492654, 0.4852198 , 0.48548666, 0.48590271, 0.48601112,\n",
       "       0.48447755, 0.48543732])"
      ]
     },
     "execution_count": 46,
     "metadata": {},
     "output_type": "execute_result"
    }
   ],
   "source": [
    "scores"
   ]
  },
  {
   "cell_type": "code",
   "execution_count": 48,
   "metadata": {
    "ExecuteTime": {
     "end_time": "2023-06-24T04:32:01.259897Z",
     "start_time": "2023-06-24T04:32:01.216530Z"
    },
    "execution": {
     "iopub.execute_input": "2022-05-23T04:37:49.070221Z",
     "iopub.status.busy": "2022-05-23T04:37:49.069942Z",
     "iopub.status.idle": "2022-05-23T04:37:49.150766Z",
     "shell.execute_reply": "2022-05-23T04:37:49.14992Z",
     "shell.execute_reply.started": "2022-05-23T04:37:49.070191Z"
    }
   },
   "outputs": [
    {
     "data": {
      "text/plain": [
       "(10, 6.0)"
      ]
     },
     "execution_count": 48,
     "metadata": {},
     "output_type": "execute_result"
    }
   ],
   "source": [
    "scores = np.array([score(col, trn_y, o) for o in unq if not np.isnan(o)])\n",
    "scores.argmin(), unq[scores.argmin()]"
   ]
  },
  {
   "cell_type": "markdown",
   "metadata": {},
   "source": [
    "Based on this, it looks like, for instance, that for the `Age` column, `6` is the optimal cutoff according to our training set.\n",
    "\n",
    "We can write a little function that implements this idea:"
   ]
  },
  {
   "cell_type": "code",
   "execution_count": 49,
   "metadata": {
    "ExecuteTime": {
     "end_time": "2023-06-24T04:32:02.534484Z",
     "start_time": "2023-06-24T04:32:02.496126Z"
    },
    "execution": {
     "iopub.execute_input": "2022-05-23T04:37:50.094341Z",
     "iopub.status.busy": "2022-05-23T04:37:50.093867Z",
     "iopub.status.idle": "2022-05-23T04:37:50.175498Z",
     "shell.execute_reply": "2022-05-23T04:37:50.174679Z",
     "shell.execute_reply.started": "2022-05-23T04:37:50.094305Z"
    }
   },
   "outputs": [
    {
     "data": {
      "text/plain": [
       "(6.0, 0.478316717508991)"
      ]
     },
     "execution_count": 49,
     "metadata": {},
     "output_type": "execute_result"
    }
   ],
   "source": [
    "def min_col(df, nm):\n",
    "    col,y = df[nm],df[dep]\n",
    "    unq = col.dropna().unique()\n",
    "    scores = np.array([score(col, y, o) for o in unq if not np.isnan(o)])\n",
    "    idx = scores.argmin()\n",
    "    return unq[idx],scores[idx]\n",
    "\n",
    "min_col(trn_df, \"Age\")"
   ]
  },
  {
   "cell_type": "markdown",
   "metadata": {},
   "source": [
    "Let's try all the columns:"
   ]
  },
  {
   "cell_type": "code",
   "execution_count": 50,
   "metadata": {
    "ExecuteTime": {
     "end_time": "2023-06-24T04:32:05.161951Z",
     "start_time": "2023-06-24T04:32:05.058372Z"
    },
    "execution": {
     "iopub.execute_input": "2022-05-23T04:37:51.295064Z",
     "iopub.status.busy": "2022-05-23T04:37:51.294528Z",
     "iopub.status.idle": "2022-05-23T04:37:51.577522Z",
     "shell.execute_reply": "2022-05-23T04:37:51.57682Z",
     "shell.execute_reply.started": "2022-05-23T04:37:51.29503Z"
    }
   },
   "outputs": [
    {
     "data": {
      "text/plain": [
       "{'Sex': (0, 0.40787530982063946),\n",
       " 'Embarked': (0, 0.47883342573147836),\n",
       " 'Age': (6.0, 0.478316717508991),\n",
       " 'SibSp': (4, 0.4783740258817434),\n",
       " 'Parch': (0, 0.4805296527841601),\n",
       " 'LogFare': (2.4390808375825834, 0.4620823937736597),\n",
       " 'Pclass': (2, 0.46048261885806596)}"
      ]
     },
     "execution_count": 50,
     "metadata": {},
     "output_type": "execute_result"
    }
   ],
   "source": [
    "cols = cats+conts\n",
    "{o:min_col(trn_df, o) for o in cols}"
   ]
  },
  {
   "cell_type": "markdown",
   "metadata": {},
   "source": [
    "According to this, `Sex<=0` is the best split we can use.\n",
    "\n",
    "<span style=\"color:blue\">We've just re-invented the <b>[OneR](https://link.springer.com/article/10.1023/A:1022631118932) classifier (or at least, a minor variant of it), which was found to be one of the most effective classifiers in real-world datasets, compared to the algorithms in use in 1993</b>. Since it's so simple and surprisingly effective, it makes for a great *baseline* -- that is, a starting point that you can use to compare your more sophisticated models to.</span>\n",
    "\n",
    "We found earlier that out OneR rule had an error of around `0.215`, so we'll keep that in mind as we try out more sophisticated approaches."
   ]
  },
  {
   "cell_type": "markdown",
   "metadata": {},
   "source": [
    "## Creating a decision tree"
   ]
  },
  {
   "cell_type": "markdown",
   "metadata": {},
   "source": [
    "How can we improve our OneR classifier, which predicts survival based only on `Sex`?\n",
    "\n",
    "How about we take each of our two groups, `female` and `male`, and create one more binary split for each of them. That is: fine the single best split for females, and the single best split for males. To do this, all we have to do is repeat the previous section's steps, once for males, and once for females.\n",
    "\n",
    "First, we'll remove `Sex` from the list of possible splits (since we've already used it, and there's only one possible split for that binary column), and create our two groups:"
   ]
  },
  {
   "cell_type": "code",
   "execution_count": 25,
   "metadata": {
    "ExecuteTime": {
     "end_time": "2023-06-24T04:04:40.040018Z",
     "start_time": "2023-06-24T04:04:40.023055Z"
    },
    "execution": {
     "iopub.execute_input": "2022-05-23T04:37:52.822448Z",
     "iopub.status.busy": "2022-05-23T04:37:52.821912Z",
     "iopub.status.idle": "2022-05-23T04:37:52.829494Z",
     "shell.execute_reply": "2022-05-23T04:37:52.82831Z",
     "shell.execute_reply.started": "2022-05-23T04:37:52.822405Z"
    }
   },
   "outputs": [],
   "source": [
    "cols.remove(\"Sex\")\n",
    "ismale = trn_df.Sex==1\n",
    "males,females = trn_df[ismale],trn_df[~ismale]"
   ]
  },
  {
   "cell_type": "markdown",
   "metadata": {},
   "source": [
    "Now let's find the single best binary split for males...:"
   ]
  },
  {
   "cell_type": "code",
   "execution_count": 26,
   "metadata": {
    "ExecuteTime": {
     "end_time": "2023-06-24T04:04:40.665289Z",
     "start_time": "2023-06-24T04:04:40.584942Z"
    },
    "execution": {
     "iopub.execute_input": "2022-05-23T04:37:54.372844Z",
     "iopub.status.busy": "2022-05-23T04:37:54.372319Z",
     "iopub.status.idle": "2022-05-23T04:37:54.585566Z",
     "shell.execute_reply": "2022-05-23T04:37:54.584693Z",
     "shell.execute_reply.started": "2022-05-23T04:37:54.372801Z"
    }
   },
   "outputs": [
    {
     "data": {
      "text/plain": [
       "{'Embarked': (0, 0.3875581870410906),\n",
       " 'Age': (6.0, 0.3739828371010595),\n",
       " 'SibSp': (4, 0.3875864227586273),\n",
       " 'Parch': (0, 0.3874704821461959),\n",
       " 'LogFare': (2.803360380906535, 0.3804856231758151),\n",
       " 'Pclass': (1, 0.38155442004360934)}"
      ]
     },
     "execution_count": 26,
     "metadata": {},
     "output_type": "execute_result"
    }
   ],
   "source": [
    "{o:min_col(males, o) for o in cols}"
   ]
  },
  {
   "cell_type": "markdown",
   "metadata": {},
   "source": [
    "...and for females:"
   ]
  },
  {
   "cell_type": "code",
   "execution_count": 27,
   "metadata": {
    "ExecuteTime": {
     "end_time": "2023-06-24T04:04:40.893182Z",
     "start_time": "2023-06-24T04:04:40.836975Z"
    },
    "execution": {
     "iopub.execute_input": "2022-05-23T04:37:55.970401Z",
     "iopub.status.busy": "2022-05-23T04:37:55.969784Z",
     "iopub.status.idle": "2022-05-23T04:37:56.171762Z",
     "shell.execute_reply": "2022-05-23T04:37:56.170711Z",
     "shell.execute_reply.started": "2022-05-23T04:37:55.970348Z"
    }
   },
   "outputs": [
    {
     "data": {
      "text/plain": [
       "{'Embarked': (0, 0.4295252982857327),\n",
       " 'Age': (50.0, 0.4225927658431649),\n",
       " 'SibSp': (4, 0.42319212059713535),\n",
       " 'Parch': (3, 0.4193314500446158),\n",
       " 'LogFare': (4.256321678298823, 0.41350598332911376),\n",
       " 'Pclass': (2, 0.3335388911567601)}"
      ]
     },
     "execution_count": 27,
     "metadata": {},
     "output_type": "execute_result"
    }
   ],
   "source": [
    "{o:min_col(females, o) for o in cols}"
   ]
  },
  {
   "cell_type": "markdown",
   "metadata": {},
   "source": [
    "We can see that the best next binary split for males is `Age<=6`, and for females is `Pclass<=2`.\n",
    "\n",
    "By adding these rules, we have created a *decision tree*, where our model will first check whether `Sex` is female or male, and depending on the result will then check either the above `Age` or `Pclass` rules, as appropriate. We could then repeat the process, creating new additional rules for each of the four groups we've now created.\n",
    "\n",
    "Rather than writing that code manually, we can use `DecisionTreeClassifier`, from *sklearn*, which does exactly that for us:"
   ]
  },
  {
   "cell_type": "code",
   "execution_count": 28,
   "metadata": {
    "ExecuteTime": {
     "end_time": "2023-06-24T04:04:41.797387Z",
     "start_time": "2023-06-24T04:04:41.121015Z"
    },
    "execution": {
     "iopub.execute_input": "2022-05-23T04:37:57.022761Z",
     "iopub.status.busy": "2022-05-23T04:37:57.022405Z",
     "iopub.status.idle": "2022-05-23T04:37:57.201325Z",
     "shell.execute_reply": "2022-05-23T04:37:57.200214Z",
     "shell.execute_reply.started": "2022-05-23T04:37:57.022724Z"
    }
   },
   "outputs": [],
   "source": [
    "from sklearn.tree import DecisionTreeClassifier, export_graphviz\n",
    "\n",
    "m = DecisionTreeClassifier(max_leaf_nodes=4).fit(trn_xs, trn_y);"
   ]
  },
  {
   "cell_type": "markdown",
   "metadata": {},
   "source": [
    "One handy feature or this class is that it provides a function for drawing a tree representing the rules:"
   ]
  },
  {
   "cell_type": "code",
   "execution_count": 47,
   "metadata": {
    "ExecuteTime": {
     "end_time": "2023-06-24T04:05:19.353926Z",
     "start_time": "2023-06-24T04:05:19.339961Z"
    },
    "execution": {
     "iopub.execute_input": "2022-05-23T04:37:57.253844Z",
     "iopub.status.busy": "2022-05-23T04:37:57.253469Z",
     "iopub.status.idle": "2022-05-23T04:37:57.274531Z",
     "shell.execute_reply": "2022-05-23T04:37:57.27374Z",
     "shell.execute_reply.started": "2022-05-23T04:37:57.253805Z"
    }
   },
   "outputs": [],
   "source": [
    "import graphviz\n",
    "\n",
    "def draw_tree(t, df, size=6.5, ratio=0.6, precision=2, **kwargs):\n",
    "    s=export_graphviz(t, out_file=None, feature_names=df.columns, filled=True, rounded=True,\n",
    "                      special_characters=True, rotate=False, precision=precision, **kwargs)\n",
    "    return graphviz.Source(re.sub('Tree {', f'Tree {{ size={size}; ratio={ratio}', s))"
   ]
  },
  {
   "cell_type": "code",
   "execution_count": 48,
   "metadata": {
    "ExecuteTime": {
     "end_time": "2023-06-24T04:05:19.800788Z",
     "start_time": "2023-06-24T04:05:19.696578Z"
    },
    "execution": {
     "iopub.execute_input": "2022-05-23T04:37:58.207169Z",
     "iopub.status.busy": "2022-05-23T04:37:58.206306Z",
     "iopub.status.idle": "2022-05-23T04:37:59.286087Z",
     "shell.execute_reply": "2022-05-23T04:37:59.284841Z",
     "shell.execute_reply.started": "2022-05-23T04:37:58.207112Z"
    }
   },
   "outputs": [
    {
     "data": {
      "image/svg+xml": [
       "<?xml version=\"1.0\" encoding=\"UTF-8\" standalone=\"no\"?>\n",
       "<!DOCTYPE svg PUBLIC \"-//W3C//DTD SVG 1.1//EN\"\n",
       " \"http://www.w3.org/Graphics/SVG/1.1/DTD/svg11.dtd\">\n",
       "<!-- Generated by graphviz version 8.0.5 (20230430.1635)\n",
       " -->\n",
       "<!-- Title: Tree Pages: 1 -->\n",
       "<svg width=\"720pt\" height=\"434pt\"\n",
       " viewBox=\"0.00 0.00 720.00 433.92\" xmlns=\"http://www.w3.org/2000/svg\" xmlns:xlink=\"http://www.w3.org/1999/xlink\">\n",
       "<g id=\"graph0\" class=\"graph\" transform=\"scale(0.633458 0.633458) rotate(0) translate(4 681)\">\n",
       "<title>Tree</title>\n",
       "<polygon fill=\"white\" stroke=\"none\" points=\"-4,4 -4,-681 1132.62,-681 1132.62,4 -4,4\"/>\n",
       "<!-- 0 -->\n",
       "<g id=\"node1\" class=\"node\">\n",
       "<title>0</title>\n",
       "<path fill=\"#f5ceb2\" stroke=\"black\" d=\"M595.83,-677C595.83,-677 495.83,-677 495.83,-677 489.83,-677 483.83,-671 483.83,-665 483.83,-665 483.83,-621 483.83,-621 483.83,-615 489.83,-609 495.83,-609 495.83,-609 595.83,-609 595.83,-609 601.83,-609 607.83,-615 607.83,-621 607.83,-621 607.83,-665 607.83,-665 607.83,-671 601.83,-677 595.83,-677\"/>\n",
       "<text text-anchor=\"start\" x=\"517.33\" y=\"-659.7\" font-family=\"Helvetica,sans-Serif\" font-size=\"14.00\">Sex ≤ 0.5</text>\n",
       "<text text-anchor=\"start\" x=\"514.33\" y=\"-644.7\" font-family=\"Helvetica,sans-Serif\" font-size=\"14.00\">gini = 0.47</text>\n",
       "<text text-anchor=\"start\" x=\"501.2\" y=\"-629.7\" font-family=\"Helvetica,sans-Serif\" font-size=\"14.00\">samples = 668</text>\n",
       "<text text-anchor=\"start\" x=\"491.83\" y=\"-614.7\" font-family=\"Helvetica,sans-Serif\" font-size=\"14.00\">value = [415, 253]</text>\n",
       "</g>\n",
       "<!-- 1 -->\n",
       "<g id=\"node2\" class=\"node\">\n",
       "<title>1</title>\n",
       "<path fill=\"#7ebfee\" stroke=\"black\" d=\"M450.08,-573C450.08,-573 357.58,-573 357.58,-573 351.58,-573 345.58,-567 345.58,-561 345.58,-561 345.58,-517 345.58,-517 345.58,-511 351.58,-505 357.58,-505 357.58,-505 450.08,-505 450.08,-505 456.08,-505 462.08,-511 462.08,-517 462.08,-517 462.08,-561 462.08,-561 462.08,-567 456.08,-573 450.08,-573\"/>\n",
       "<text text-anchor=\"start\" x=\"367.08\" y=\"-555.7\" font-family=\"Helvetica,sans-Serif\" font-size=\"14.00\">Pclass ≤ 2.5</text>\n",
       "<text text-anchor=\"start\" x=\"372.33\" y=\"-540.7\" font-family=\"Helvetica,sans-Serif\" font-size=\"14.00\">gini = 0.38</text>\n",
       "<text text-anchor=\"start\" x=\"359.2\" y=\"-525.7\" font-family=\"Helvetica,sans-Serif\" font-size=\"14.00\">samples = 229</text>\n",
       "<text text-anchor=\"start\" x=\"353.58\" y=\"-510.7\" font-family=\"Helvetica,sans-Serif\" font-size=\"14.00\">value = [59, 170]</text>\n",
       "</g>\n",
       "<!-- 0&#45;&gt;1 -->\n",
       "<g id=\"edge1\" class=\"edge\">\n",
       "<title>0&#45;&gt;1</title>\n",
       "<path fill=\"none\" stroke=\"black\" d=\"M499.33,-608.6C486.46,-599.36 472.36,-589.23 459.05,-579.66\"/>\n",
       "<polygon fill=\"black\" stroke=\"black\" points=\"461.59,-576.47 451.43,-573.47 457.51,-582.15 461.59,-576.47\"/>\n",
       "<text text-anchor=\"middle\" x=\"454.47\" y=\"-592.34\" font-family=\"Helvetica,sans-Serif\" font-size=\"14.00\">True</text>\n",
       "</g>\n",
       "<!-- 8 -->\n",
       "<g id=\"node9\" class=\"node\">\n",
       "<title>8</title>\n",
       "<path fill=\"#eb9e67\" stroke=\"black\" d=\"M744.08,-573C744.08,-573 651.58,-573 651.58,-573 645.58,-573 639.58,-567 639.58,-561 639.58,-561 639.58,-517 639.58,-517 639.58,-511 645.58,-505 651.58,-505 651.58,-505 744.08,-505 744.08,-505 750.08,-505 756.08,-511 756.08,-517 756.08,-517 756.08,-561 756.08,-561 756.08,-567 750.08,-573 744.08,-573\"/>\n",
       "<text text-anchor=\"start\" x=\"652.08\" y=\"-555.7\" font-family=\"Helvetica,sans-Serif\" font-size=\"14.00\">LogFare ≤ 3.31</text>\n",
       "<text text-anchor=\"start\" x=\"666.33\" y=\"-540.7\" font-family=\"Helvetica,sans-Serif\" font-size=\"14.00\">gini = 0.31</text>\n",
       "<text text-anchor=\"start\" x=\"653.2\" y=\"-525.7\" font-family=\"Helvetica,sans-Serif\" font-size=\"14.00\">samples = 439</text>\n",
       "<text text-anchor=\"start\" x=\"647.58\" y=\"-510.7\" font-family=\"Helvetica,sans-Serif\" font-size=\"14.00\">value = [356, 83]</text>\n",
       "</g>\n",
       "<!-- 0&#45;&gt;8 -->\n",
       "<g id=\"edge8\" class=\"edge\">\n",
       "<title>0&#45;&gt;8</title>\n",
       "<path fill=\"none\" stroke=\"black\" d=\"M595.6,-608.6C609.51,-599.27 624.75,-589.04 639.13,-579.39\"/>\n",
       "<polygon fill=\"black\" stroke=\"black\" points=\"640.59,-581.95 646.94,-573.47 636.69,-576.14 640.59,-581.95\"/>\n",
       "<text text-anchor=\"middle\" x=\"643.12\" y=\"-592.2\" font-family=\"Helvetica,sans-Serif\" font-size=\"14.00\">False</text>\n",
       "</g>\n",
       "<!-- 2 -->\n",
       "<g id=\"node3\" class=\"node\">\n",
       "<title>2</title>\n",
       "<path fill=\"#40a0e6\" stroke=\"black\" d=\"M237.33,-469C237.33,-469 152.33,-469 152.33,-469 146.33,-469 140.33,-463 140.33,-457 140.33,-457 140.33,-413 140.33,-413 140.33,-407 146.33,-401 152.33,-401 152.33,-401 237.33,-401 237.33,-401 243.33,-401 249.33,-407 249.33,-413 249.33,-413 249.33,-457 249.33,-457 249.33,-463 243.33,-469 237.33,-469\"/>\n",
       "<text text-anchor=\"start\" x=\"159.95\" y=\"-451.7\" font-family=\"Helvetica,sans-Serif\" font-size=\"14.00\">SibSp ≤ 0.5</text>\n",
       "<text text-anchor=\"start\" x=\"163.33\" y=\"-436.7\" font-family=\"Helvetica,sans-Serif\" font-size=\"14.00\">gini = 0.06</text>\n",
       "<text text-anchor=\"start\" x=\"150.2\" y=\"-421.7\" font-family=\"Helvetica,sans-Serif\" font-size=\"14.00\">samples = 120</text>\n",
       "<text text-anchor=\"start\" x=\"148.33\" y=\"-406.7\" font-family=\"Helvetica,sans-Serif\" font-size=\"14.00\">value = [4, 116]</text>\n",
       "</g>\n",
       "<!-- 1&#45;&gt;2 -->\n",
       "<g id=\"edge2\" class=\"edge\">\n",
       "<title>1&#45;&gt;2</title>\n",
       "<path fill=\"none\" stroke=\"black\" d=\"M345.33,-509.45C318.66,-496.43 286.99,-480.98 259.6,-467.61\"/>\n",
       "<polygon fill=\"black\" stroke=\"black\" points=\"261.24,-464.03 250.72,-462.79 258.17,-470.32 261.24,-464.03\"/>\n",
       "</g>\n",
       "<!-- 5 -->\n",
       "<g id=\"node6\" class=\"node\">\n",
       "<title>5</title>\n",
       "<path fill=\"#fffdfb\" stroke=\"black\" d=\"M446.33,-469C446.33,-469 361.33,-469 361.33,-469 355.33,-469 349.33,-463 349.33,-457 349.33,-457 349.33,-413 349.33,-413 349.33,-407 355.33,-401 361.33,-401 361.33,-401 446.33,-401 446.33,-401 452.33,-401 458.33,-407 458.33,-413 458.33,-413 458.33,-457 458.33,-457 458.33,-463 452.33,-469 446.33,-469\"/>\n",
       "<text text-anchor=\"start\" x=\"361.83\" y=\"-451.7\" font-family=\"Helvetica,sans-Serif\" font-size=\"14.00\">LogFare ≤ 2.7</text>\n",
       "<text text-anchor=\"start\" x=\"376.08\" y=\"-436.7\" font-family=\"Helvetica,sans-Serif\" font-size=\"14.00\">gini = 0.5</text>\n",
       "<text text-anchor=\"start\" x=\"359.2\" y=\"-421.7\" font-family=\"Helvetica,sans-Serif\" font-size=\"14.00\">samples = 109</text>\n",
       "<text text-anchor=\"start\" x=\"357.33\" y=\"-406.7\" font-family=\"Helvetica,sans-Serif\" font-size=\"14.00\">value = [55, 54]</text>\n",
       "</g>\n",
       "<!-- 1&#45;&gt;5 -->\n",
       "<g id=\"edge5\" class=\"edge\">\n",
       "<title>1&#45;&gt;5</title>\n",
       "<path fill=\"none\" stroke=\"black\" d=\"M403.83,-504.6C403.83,-496.85 403.83,-488.49 403.83,-480.35\"/>\n",
       "<polygon fill=\"black\" stroke=\"black\" points=\"407.33,-480.47 403.83,-470.47 400.33,-480.47 407.33,-480.47\"/>\n",
       "</g>\n",
       "<!-- 3 -->\n",
       "<g id=\"node4\" class=\"node\">\n",
       "<title>3</title>\n",
       "<path fill=\"#3c9ee5\" stroke=\"black\" d=\"M96.58,-357.5C96.58,-357.5 19.08,-357.5 19.08,-357.5 13.08,-357.5 7.08,-351.5 7.08,-345.5 7.08,-345.5 7.08,-316.5 7.08,-316.5 7.08,-310.5 13.08,-304.5 19.08,-304.5 19.08,-304.5 96.58,-304.5 96.58,-304.5 102.58,-304.5 108.58,-310.5 108.58,-316.5 108.58,-316.5 108.58,-345.5 108.58,-345.5 108.58,-351.5 102.58,-357.5 96.58,-357.5\"/>\n",
       "<text text-anchor=\"start\" x=\"26.33\" y=\"-340.2\" font-family=\"Helvetica,sans-Serif\" font-size=\"14.00\">gini = 0.03</text>\n",
       "<text text-anchor=\"start\" x=\"16.95\" y=\"-325.2\" font-family=\"Helvetica,sans-Serif\" font-size=\"14.00\">samples = 67</text>\n",
       "<text text-anchor=\"start\" x=\"15.08\" y=\"-310.2\" font-family=\"Helvetica,sans-Serif\" font-size=\"14.00\">value = [1, 66]</text>\n",
       "</g>\n",
       "<!-- 2&#45;&gt;3 -->\n",
       "<g id=\"edge3\" class=\"edge\">\n",
       "<title>2&#45;&gt;3</title>\n",
       "<path fill=\"none\" stroke=\"black\" d=\"M149.97,-400.6C134.17,-388.84 116.45,-375.65 100.81,-364\"/>\n",
       "<polygon fill=\"black\" stroke=\"black\" points=\"103.46,-360.87 93.35,-357.71 99.28,-366.49 103.46,-360.87\"/>\n",
       "</g>\n",
       "<!-- 4 -->\n",
       "<g id=\"node5\" class=\"node\">\n",
       "<title>4</title>\n",
       "<path fill=\"#45a3e7\" stroke=\"black\" d=\"M233.58,-357.5C233.58,-357.5 156.08,-357.5 156.08,-357.5 150.08,-357.5 144.08,-351.5 144.08,-345.5 144.08,-345.5 144.08,-316.5 144.08,-316.5 144.08,-310.5 150.08,-304.5 156.08,-304.5 156.08,-304.5 233.58,-304.5 233.58,-304.5 239.58,-304.5 245.58,-310.5 245.58,-316.5 245.58,-316.5 245.58,-345.5 245.58,-345.5 245.58,-351.5 239.58,-357.5 233.58,-357.5\"/>\n",
       "<text text-anchor=\"start\" x=\"163.33\" y=\"-340.2\" font-family=\"Helvetica,sans-Serif\" font-size=\"14.00\">gini = 0.11</text>\n",
       "<text text-anchor=\"start\" x=\"153.95\" y=\"-325.2\" font-family=\"Helvetica,sans-Serif\" font-size=\"14.00\">samples = 53</text>\n",
       "<text text-anchor=\"start\" x=\"152.08\" y=\"-310.2\" font-family=\"Helvetica,sans-Serif\" font-size=\"14.00\">value = [3, 50]</text>\n",
       "</g>\n",
       "<!-- 2&#45;&gt;4 -->\n",
       "<g id=\"edge4\" class=\"edge\">\n",
       "<title>2&#45;&gt;4</title>\n",
       "<path fill=\"none\" stroke=\"black\" d=\"M194.83,-400.6C194.83,-390.36 194.83,-379.04 194.83,-368.6\"/>\n",
       "<polygon fill=\"black\" stroke=\"black\" points=\"198.33,-368.71 194.83,-358.71 191.33,-368.71 198.33,-368.71\"/>\n",
       "</g>\n",
       "<!-- 6 -->\n",
       "<g id=\"node7\" class=\"node\">\n",
       "<title>6</title>\n",
       "<path fill=\"#cbe5f8\" stroke=\"black\" d=\"M377.33,-357.5C377.33,-357.5 292.33,-357.5 292.33,-357.5 286.33,-357.5 280.33,-351.5 280.33,-345.5 280.33,-345.5 280.33,-316.5 280.33,-316.5 280.33,-310.5 286.33,-304.5 292.33,-304.5 292.33,-304.5 377.33,-304.5 377.33,-304.5 383.33,-304.5 389.33,-310.5 389.33,-316.5 389.33,-316.5 389.33,-345.5 389.33,-345.5 389.33,-351.5 383.33,-357.5 377.33,-357.5\"/>\n",
       "<text text-anchor=\"start\" x=\"303.33\" y=\"-340.2\" font-family=\"Helvetica,sans-Serif\" font-size=\"14.00\">gini = 0.49</text>\n",
       "<text text-anchor=\"start\" x=\"293.95\" y=\"-325.2\" font-family=\"Helvetica,sans-Serif\" font-size=\"14.00\">samples = 59</text>\n",
       "<text text-anchor=\"start\" x=\"288.33\" y=\"-310.2\" font-family=\"Helvetica,sans-Serif\" font-size=\"14.00\">value = [25, 34]</text>\n",
       "</g>\n",
       "<!-- 5&#45;&gt;6 -->\n",
       "<g id=\"edge6\" class=\"edge\">\n",
       "<title>5&#45;&gt;6</title>\n",
       "<path fill=\"none\" stroke=\"black\" d=\"M381.23,-400.6C373.86,-389.71 365.67,-377.59 358.24,-366.61\"/>\n",
       "<polygon fill=\"black\" stroke=\"black\" points=\"360.72,-365.03 352.22,-358.71 354.92,-368.95 360.72,-365.03\"/>\n",
       "</g>\n",
       "<!-- 7 -->\n",
       "<g id=\"node8\" class=\"node\">\n",
       "<title>7</title>\n",
       "<path fill=\"#f6d5bd\" stroke=\"black\" d=\"M521.33,-357.5C521.33,-357.5 436.33,-357.5 436.33,-357.5 430.33,-357.5 424.33,-351.5 424.33,-345.5 424.33,-345.5 424.33,-316.5 424.33,-316.5 424.33,-310.5 430.33,-304.5 436.33,-304.5 436.33,-304.5 521.33,-304.5 521.33,-304.5 527.33,-304.5 533.33,-310.5 533.33,-316.5 533.33,-316.5 533.33,-345.5 533.33,-345.5 533.33,-351.5 527.33,-357.5 521.33,-357.5\"/>\n",
       "<text text-anchor=\"start\" x=\"447.33\" y=\"-340.2\" font-family=\"Helvetica,sans-Serif\" font-size=\"14.00\">gini = 0.48</text>\n",
       "<text text-anchor=\"start\" x=\"437.95\" y=\"-325.2\" font-family=\"Helvetica,sans-Serif\" font-size=\"14.00\">samples = 50</text>\n",
       "<text text-anchor=\"start\" x=\"432.33\" y=\"-310.2\" font-family=\"Helvetica,sans-Serif\" font-size=\"14.00\">value = [30, 20]</text>\n",
       "</g>\n",
       "<!-- 5&#45;&gt;7 -->\n",
       "<g id=\"edge7\" class=\"edge\">\n",
       "<title>5&#45;&gt;7</title>\n",
       "<path fill=\"none\" stroke=\"black\" d=\"M428.38,-400.6C436.48,-389.6 445.48,-377.35 453.62,-366.28\"/>\n",
       "<polygon fill=\"black\" stroke=\"black\" points=\"456.82,-368.84 459.93,-358.71 451.18,-364.69 456.82,-368.84\"/>\n",
       "</g>\n",
       "<!-- 9 -->\n",
       "<g id=\"node10\" class=\"node\">\n",
       "<title>9</title>\n",
       "<path fill=\"#e99659\" stroke=\"black\" d=\"M744.08,-469C744.08,-469 651.58,-469 651.58,-469 645.58,-469 639.58,-463 639.58,-457 639.58,-457 639.58,-413 639.58,-413 639.58,-407 645.58,-401 651.58,-401 651.58,-401 744.08,-401 744.08,-401 750.08,-401 756.08,-407 756.08,-413 756.08,-413 756.08,-457 756.08,-457 756.08,-463 750.08,-469 744.08,-469\"/>\n",
       "<text text-anchor=\"start\" x=\"665.2\" y=\"-451.7\" font-family=\"Helvetica,sans-Serif\" font-size=\"14.00\">Age ≤ 20.5</text>\n",
       "<text text-anchor=\"start\" x=\"666.33\" y=\"-436.7\" font-family=\"Helvetica,sans-Serif\" font-size=\"14.00\">gini = 0.24</text>\n",
       "<text text-anchor=\"start\" x=\"653.2\" y=\"-421.7\" font-family=\"Helvetica,sans-Serif\" font-size=\"14.00\">samples = 320</text>\n",
       "<text text-anchor=\"start\" x=\"647.58\" y=\"-406.7\" font-family=\"Helvetica,sans-Serif\" font-size=\"14.00\">value = [275, 45]</text>\n",
       "</g>\n",
       "<!-- 8&#45;&gt;9 -->\n",
       "<g id=\"edge9\" class=\"edge\">\n",
       "<title>8&#45;&gt;9</title>\n",
       "<path fill=\"none\" stroke=\"black\" d=\"M697.83,-504.6C697.83,-496.85 697.83,-488.49 697.83,-480.35\"/>\n",
       "<polygon fill=\"black\" stroke=\"black\" points=\"701.33,-480.47 697.83,-470.47 694.33,-480.47 701.33,-480.47\"/>\n",
       "</g>\n",
       "<!-- 18 -->\n",
       "<g id=\"node19\" class=\"node\">\n",
       "<title>18</title>\n",
       "<path fill=\"#f1bc96\" stroke=\"black\" d=\"M964.33,-469C964.33,-469 879.33,-469 879.33,-469 873.33,-469 867.33,-463 867.33,-457 867.33,-457 867.33,-413 867.33,-413 867.33,-407 873.33,-401 879.33,-401 879.33,-401 964.33,-401 964.33,-401 970.33,-401 976.33,-407 976.33,-413 976.33,-413 976.33,-457 976.33,-457 976.33,-463 970.33,-469 964.33,-469\"/>\n",
       "<text text-anchor=\"start\" x=\"886.95\" y=\"-451.7\" font-family=\"Helvetica,sans-Serif\" font-size=\"14.00\">SibSp ≤ 0.5</text>\n",
       "<text text-anchor=\"start\" x=\"890.33\" y=\"-436.7\" font-family=\"Helvetica,sans-Serif\" font-size=\"14.00\">gini = 0.43</text>\n",
       "<text text-anchor=\"start\" x=\"877.2\" y=\"-421.7\" font-family=\"Helvetica,sans-Serif\" font-size=\"14.00\">samples = 119</text>\n",
       "<text text-anchor=\"start\" x=\"875.33\" y=\"-406.7\" font-family=\"Helvetica,sans-Serif\" font-size=\"14.00\">value = [81, 38]</text>\n",
       "</g>\n",
       "<!-- 8&#45;&gt;18 -->\n",
       "<g id=\"edge18\" class=\"edge\">\n",
       "<title>8&#45;&gt;18</title>\n",
       "<path fill=\"none\" stroke=\"black\" d=\"M756.39,-511.33C787.4,-497.21 825.55,-479.84 857.4,-465.34\"/>\n",
       "<polygon fill=\"black\" stroke=\"black\" points=\"858.42,-468.26 866.07,-460.93 855.52,-461.89 858.42,-468.26\"/>\n",
       "</g>\n",
       "<!-- 10 -->\n",
       "<g id=\"node11\" class=\"node\">\n",
       "<title>10</title>\n",
       "<path fill=\"#f1b992\" stroke=\"black\" d=\"M666.33,-357.5C666.33,-357.5 581.33,-357.5 581.33,-357.5 575.33,-357.5 569.33,-351.5 569.33,-345.5 569.33,-345.5 569.33,-316.5 569.33,-316.5 569.33,-310.5 575.33,-304.5 581.33,-304.5 581.33,-304.5 666.33,-304.5 666.33,-304.5 672.33,-304.5 678.33,-310.5 678.33,-316.5 678.33,-316.5 678.33,-345.5 678.33,-345.5 678.33,-351.5 672.33,-357.5 666.33,-357.5\"/>\n",
       "<text text-anchor=\"start\" x=\"592.33\" y=\"-340.2\" font-family=\"Helvetica,sans-Serif\" font-size=\"14.00\">gini = 0.43</text>\n",
       "<text text-anchor=\"start\" x=\"582.95\" y=\"-325.2\" font-family=\"Helvetica,sans-Serif\" font-size=\"14.00\">samples = 55</text>\n",
       "<text text-anchor=\"start\" x=\"577.33\" y=\"-310.2\" font-family=\"Helvetica,sans-Serif\" font-size=\"14.00\">value = [38, 17]</text>\n",
       "</g>\n",
       "<!-- 9&#45;&gt;10 -->\n",
       "<g id=\"edge10\" class=\"edge\">\n",
       "<title>9&#45;&gt;10</title>\n",
       "<path fill=\"none\" stroke=\"black\" d=\"M673.6,-400.6C665.61,-389.6 656.73,-377.35 648.7,-366.28\"/>\n",
       "<polygon fill=\"black\" stroke=\"black\" points=\"651.18,-364.74 642.48,-358.71 645.52,-368.86 651.18,-364.74\"/>\n",
       "</g>\n",
       "<!-- 11 -->\n",
       "<g id=\"node12\" class=\"node\">\n",
       "<title>11</title>\n",
       "<path fill=\"#e89050\" stroke=\"black\" d=\"M819.08,-365C819.08,-365 726.58,-365 726.58,-365 720.58,-365 714.58,-359 714.58,-353 714.58,-353 714.58,-309 714.58,-309 714.58,-303 720.58,-297 726.58,-297 726.58,-297 819.08,-297 819.08,-297 825.08,-297 831.08,-303 831.08,-309 831.08,-309 831.08,-353 831.08,-353 831.08,-359 825.08,-365 819.08,-365\"/>\n",
       "<text text-anchor=\"start\" x=\"740.2\" y=\"-347.7\" font-family=\"Helvetica,sans-Serif\" font-size=\"14.00\">Age ≤ 32.5</text>\n",
       "<text text-anchor=\"start\" x=\"741.33\" y=\"-332.7\" font-family=\"Helvetica,sans-Serif\" font-size=\"14.00\">gini = 0.19</text>\n",
       "<text text-anchor=\"start\" x=\"728.2\" y=\"-317.7\" font-family=\"Helvetica,sans-Serif\" font-size=\"14.00\">samples = 265</text>\n",
       "<text text-anchor=\"start\" x=\"722.58\" y=\"-302.7\" font-family=\"Helvetica,sans-Serif\" font-size=\"14.00\">value = [237, 28]</text>\n",
       "</g>\n",
       "<!-- 9&#45;&gt;11 -->\n",
       "<g id=\"edge11\" class=\"edge\">\n",
       "<title>9&#45;&gt;11</title>\n",
       "<path fill=\"none\" stroke=\"black\" d=\"M722.38,-400.6C728.6,-392.15 735.36,-382.96 741.85,-374.13\"/>\n",
       "<polygon fill=\"black\" stroke=\"black\" points=\"745.11,-376.6 748.21,-366.47 739.47,-372.46 745.11,-376.6\"/>\n",
       "</g>\n",
       "<!-- 12 -->\n",
       "<g id=\"node13\" class=\"node\">\n",
       "<title>12</title>\n",
       "<path fill=\"#e99356\" stroke=\"black\" d=\"M746.08,-261C746.08,-261 653.58,-261 653.58,-261 647.58,-261 641.58,-255 641.58,-249 641.58,-249 641.58,-205 641.58,-205 641.58,-199 647.58,-193 653.58,-193 653.58,-193 746.08,-193 746.08,-193 752.08,-193 758.08,-199 758.08,-205 758.08,-205 758.08,-249 758.08,-249 758.08,-255 752.08,-261 746.08,-261\"/>\n",
       "<text text-anchor=\"start\" x=\"663.45\" y=\"-243.7\" font-family=\"Helvetica,sans-Serif\" font-size=\"14.00\">Age ≤ 24.75</text>\n",
       "<text text-anchor=\"start\" x=\"668.33\" y=\"-228.7\" font-family=\"Helvetica,sans-Serif\" font-size=\"14.00\">gini = 0.22</text>\n",
       "<text text-anchor=\"start\" x=\"655.2\" y=\"-213.7\" font-family=\"Helvetica,sans-Serif\" font-size=\"14.00\">samples = 181</text>\n",
       "<text text-anchor=\"start\" x=\"649.58\" y=\"-198.7\" font-family=\"Helvetica,sans-Serif\" font-size=\"14.00\">value = [158, 23]</text>\n",
       "</g>\n",
       "<!-- 11&#45;&gt;12 -->\n",
       "<g id=\"edge12\" class=\"edge\">\n",
       "<title>11&#45;&gt;12</title>\n",
       "<path fill=\"none\" stroke=\"black\" d=\"M748.92,-296.6C742.94,-288.24 736.43,-279.15 730.18,-270.41\"/>\n",
       "<polygon fill=\"black\" stroke=\"black\" points=\"732.45,-268.57 723.78,-262.47 726.76,-272.64 732.45,-268.57\"/>\n",
       "</g>\n",
       "<!-- 17 -->\n",
       "<g id=\"node18\" class=\"node\">\n",
       "<title>17</title>\n",
       "<path fill=\"#e78946\" stroke=\"black\" d=\"M883.58,-253.5C883.58,-253.5 806.08,-253.5 806.08,-253.5 800.08,-253.5 794.08,-247.5 794.08,-241.5 794.08,-241.5 794.08,-212.5 794.08,-212.5 794.08,-206.5 800.08,-200.5 806.08,-200.5 806.08,-200.5 883.58,-200.5 883.58,-200.5 889.58,-200.5 895.58,-206.5 895.58,-212.5 895.58,-212.5 895.58,-241.5 895.58,-241.5 895.58,-247.5 889.58,-253.5 883.58,-253.5\"/>\n",
       "<text text-anchor=\"start\" x=\"813.33\" y=\"-236.2\" font-family=\"Helvetica,sans-Serif\" font-size=\"14.00\">gini = 0.11</text>\n",
       "<text text-anchor=\"start\" x=\"803.95\" y=\"-221.2\" font-family=\"Helvetica,sans-Serif\" font-size=\"14.00\">samples = 84</text>\n",
       "<text text-anchor=\"start\" x=\"802.08\" y=\"-206.2\" font-family=\"Helvetica,sans-Serif\" font-size=\"14.00\">value = [79, 5]</text>\n",
       "</g>\n",
       "<!-- 11&#45;&gt;17 -->\n",
       "<g id=\"edge17\" class=\"edge\">\n",
       "<title>11&#45;&gt;17</title>\n",
       "<path fill=\"none\" stroke=\"black\" d=\"M796.4,-296.6C804.09,-285.71 812.64,-273.59 820.4,-262.61\"/>\n",
       "<polygon fill=\"black\" stroke=\"black\" points=\"823.77,-264.89 826.68,-254.71 818.06,-260.86 823.77,-264.89\"/>\n",
       "</g>\n",
       "<!-- 13 -->\n",
       "<g id=\"node14\" class=\"node\">\n",
       "<title>13</title>\n",
       "<path fill=\"#e88d4c\" stroke=\"black\" d=\"M672.08,-157C672.08,-157 579.58,-157 579.58,-157 573.58,-157 567.58,-151 567.58,-145 567.58,-145 567.58,-101 567.58,-101 567.58,-95 573.58,-89 579.58,-89 579.58,-89 672.08,-89 672.08,-89 678.08,-89 684.08,-95 684.08,-101 684.08,-101 684.08,-145 684.08,-145 684.08,-151 678.08,-157 672.08,-157\"/>\n",
       "<text text-anchor=\"start\" x=\"580.08\" y=\"-139.7\" font-family=\"Helvetica,sans-Serif\" font-size=\"14.00\">LogFare ≤ 2.18</text>\n",
       "<text text-anchor=\"start\" x=\"594.33\" y=\"-124.7\" font-family=\"Helvetica,sans-Serif\" font-size=\"14.00\">gini = 0.16</text>\n",
       "<text text-anchor=\"start\" x=\"581.2\" y=\"-109.7\" font-family=\"Helvetica,sans-Serif\" font-size=\"14.00\">samples = 114</text>\n",
       "<text text-anchor=\"start\" x=\"575.58\" y=\"-94.7\" font-family=\"Helvetica,sans-Serif\" font-size=\"14.00\">value = [104, 10]</text>\n",
       "</g>\n",
       "<!-- 12&#45;&gt;13 -->\n",
       "<g id=\"edge13\" class=\"edge\">\n",
       "<title>12&#45;&gt;13</title>\n",
       "<path fill=\"none\" stroke=\"black\" d=\"M675.6,-192.6C669.46,-184.15 662.8,-174.96 656.4,-166.13\"/>\n",
       "<polygon fill=\"black\" stroke=\"black\" points=\"658.82,-164.51 650.11,-158.47 653.15,-168.62 658.82,-164.51\"/>\n",
       "</g>\n",
       "<!-- 16 -->\n",
       "<g id=\"node17\" class=\"node\">\n",
       "<title>16</title>\n",
       "<path fill=\"#eb9f69\" stroke=\"black\" d=\"M817.33,-149.5C817.33,-149.5 732.33,-149.5 732.33,-149.5 726.33,-149.5 720.33,-143.5 720.33,-137.5 720.33,-137.5 720.33,-108.5 720.33,-108.5 720.33,-102.5 726.33,-96.5 732.33,-96.5 732.33,-96.5 817.33,-96.5 817.33,-96.5 823.33,-96.5 829.33,-102.5 829.33,-108.5 829.33,-108.5 829.33,-137.5 829.33,-137.5 829.33,-143.5 823.33,-149.5 817.33,-149.5\"/>\n",
       "<text text-anchor=\"start\" x=\"743.33\" y=\"-132.2\" font-family=\"Helvetica,sans-Serif\" font-size=\"14.00\">gini = 0.31</text>\n",
       "<text text-anchor=\"start\" x=\"733.95\" y=\"-117.2\" font-family=\"Helvetica,sans-Serif\" font-size=\"14.00\">samples = 67</text>\n",
       "<text text-anchor=\"start\" x=\"728.33\" y=\"-102.2\" font-family=\"Helvetica,sans-Serif\" font-size=\"14.00\">value = [54, 13]</text>\n",
       "</g>\n",
       "<!-- 12&#45;&gt;16 -->\n",
       "<g id=\"edge16\" class=\"edge\">\n",
       "<title>12&#45;&gt;16</title>\n",
       "<path fill=\"none\" stroke=\"black\" d=\"M724.38,-192.6C732.48,-181.6 741.48,-169.35 749.62,-158.28\"/>\n",
       "<polygon fill=\"black\" stroke=\"black\" points=\"752.82,-160.84 755.93,-150.71 747.18,-156.69 752.82,-160.84\"/>\n",
       "</g>\n",
       "<!-- 14 -->\n",
       "<g id=\"node15\" class=\"node\">\n",
       "<title>14</title>\n",
       "<path fill=\"#e99254\" stroke=\"black\" d=\"M596.58,-53.5C596.58,-53.5 519.08,-53.5 519.08,-53.5 513.08,-53.5 507.08,-47.5 507.08,-41.5 507.08,-41.5 507.08,-12.5 507.08,-12.5 507.08,-6.5 513.08,-0.5 519.08,-0.5 519.08,-0.5 596.58,-0.5 596.58,-0.5 602.58,-0.5 608.58,-6.5 608.58,-12.5 608.58,-12.5 608.58,-41.5 608.58,-41.5 608.58,-47.5 602.58,-53.5 596.58,-53.5\"/>\n",
       "<text text-anchor=\"start\" x=\"526.33\" y=\"-36.2\" font-family=\"Helvetica,sans-Serif\" font-size=\"14.00\">gini = 0.21</text>\n",
       "<text text-anchor=\"start\" x=\"516.95\" y=\"-21.2\" font-family=\"Helvetica,sans-Serif\" font-size=\"14.00\">samples = 50</text>\n",
       "<text text-anchor=\"start\" x=\"515.08\" y=\"-6.2\" font-family=\"Helvetica,sans-Serif\" font-size=\"14.00\">value = [44, 6]</text>\n",
       "</g>\n",
       "<!-- 13&#45;&gt;14 -->\n",
       "<g id=\"edge14\" class=\"edge\">\n",
       "<title>13&#45;&gt;14</title>\n",
       "<path fill=\"none\" stroke=\"black\" d=\"M601.66,-88.59C595.61,-80.22 589.1,-71.22 582.99,-62.79\"/>\n",
       "<polygon fill=\"black\" stroke=\"black\" points=\"585.27,-60.96 576.57,-54.91 579.6,-65.07 585.27,-60.96\"/>\n",
       "</g>\n",
       "<!-- 15 -->\n",
       "<g id=\"node16\" class=\"node\">\n",
       "<title>15</title>\n",
       "<path fill=\"#e78946\" stroke=\"black\" d=\"M732.58,-53.5C732.58,-53.5 655.08,-53.5 655.08,-53.5 649.08,-53.5 643.08,-47.5 643.08,-41.5 643.08,-41.5 643.08,-12.5 643.08,-12.5 643.08,-6.5 649.08,-0.5 655.08,-0.5 655.08,-0.5 732.58,-0.5 732.58,-0.5 738.58,-0.5 744.58,-6.5 744.58,-12.5 744.58,-12.5 744.58,-41.5 744.58,-41.5 744.58,-47.5 738.58,-53.5 732.58,-53.5\"/>\n",
       "<text text-anchor=\"start\" x=\"662.33\" y=\"-36.2\" font-family=\"Helvetica,sans-Serif\" font-size=\"14.00\">gini = 0.12</text>\n",
       "<text text-anchor=\"start\" x=\"652.95\" y=\"-21.2\" font-family=\"Helvetica,sans-Serif\" font-size=\"14.00\">samples = 64</text>\n",
       "<text text-anchor=\"start\" x=\"651.08\" y=\"-6.2\" font-family=\"Helvetica,sans-Serif\" font-size=\"14.00\">value = [60, 4]</text>\n",
       "</g>\n",
       "<!-- 13&#45;&gt;15 -->\n",
       "<g id=\"edge15\" class=\"edge\">\n",
       "<title>13&#45;&gt;15</title>\n",
       "<path fill=\"none\" stroke=\"black\" d=\"M649.99,-88.59C656.05,-80.22 662.56,-71.22 668.66,-62.79\"/>\n",
       "<polygon fill=\"black\" stroke=\"black\" points=\"672.06,-65.07 675.08,-54.91 666.39,-60.96 672.06,-65.07\"/>\n",
       "</g>\n",
       "<!-- 19 -->\n",
       "<g id=\"node20\" class=\"node\">\n",
       "<title>19</title>\n",
       "<path fill=\"#f6d5bd\" stroke=\"black\" d=\"M964.33,-357.5C964.33,-357.5 879.33,-357.5 879.33,-357.5 873.33,-357.5 867.33,-351.5 867.33,-345.5 867.33,-345.5 867.33,-316.5 867.33,-316.5 867.33,-310.5 873.33,-304.5 879.33,-304.5 879.33,-304.5 964.33,-304.5 964.33,-304.5 970.33,-304.5 976.33,-310.5 976.33,-316.5 976.33,-316.5 976.33,-345.5 976.33,-345.5 976.33,-351.5 970.33,-357.5 964.33,-357.5\"/>\n",
       "<text text-anchor=\"start\" x=\"890.33\" y=\"-340.2\" font-family=\"Helvetica,sans-Serif\" font-size=\"14.00\">gini = 0.48</text>\n",
       "<text text-anchor=\"start\" x=\"880.95\" y=\"-325.2\" font-family=\"Helvetica,sans-Serif\" font-size=\"14.00\">samples = 60</text>\n",
       "<text text-anchor=\"start\" x=\"875.33\" y=\"-310.2\" font-family=\"Helvetica,sans-Serif\" font-size=\"14.00\">value = [36, 24]</text>\n",
       "</g>\n",
       "<!-- 18&#45;&gt;19 -->\n",
       "<g id=\"edge19\" class=\"edge\">\n",
       "<title>18&#45;&gt;19</title>\n",
       "<path fill=\"none\" stroke=\"black\" d=\"M921.83,-400.6C921.83,-390.36 921.83,-379.04 921.83,-368.6\"/>\n",
       "<polygon fill=\"black\" stroke=\"black\" points=\"925.33,-368.71 921.83,-358.71 918.33,-368.71 925.33,-368.71\"/>\n",
       "</g>\n",
       "<!-- 20 -->\n",
       "<g id=\"node21\" class=\"node\">\n",
       "<title>20</title>\n",
       "<path fill=\"#eda877\" stroke=\"black\" d=\"M1109.33,-357.5C1109.33,-357.5 1024.33,-357.5 1024.33,-357.5 1018.33,-357.5 1012.33,-351.5 1012.33,-345.5 1012.33,-345.5 1012.33,-316.5 1012.33,-316.5 1012.33,-310.5 1018.33,-304.5 1024.33,-304.5 1024.33,-304.5 1109.33,-304.5 1109.33,-304.5 1115.33,-304.5 1121.33,-310.5 1121.33,-316.5 1121.33,-316.5 1121.33,-345.5 1121.33,-345.5 1121.33,-351.5 1115.33,-357.5 1109.33,-357.5\"/>\n",
       "<text text-anchor=\"start\" x=\"1035.33\" y=\"-340.2\" font-family=\"Helvetica,sans-Serif\" font-size=\"14.00\">gini = 0.36</text>\n",
       "<text text-anchor=\"start\" x=\"1025.95\" y=\"-325.2\" font-family=\"Helvetica,sans-Serif\" font-size=\"14.00\">samples = 59</text>\n",
       "<text text-anchor=\"start\" x=\"1020.33\" y=\"-310.2\" font-family=\"Helvetica,sans-Serif\" font-size=\"14.00\">value = [45, 14]</text>\n",
       "</g>\n",
       "<!-- 18&#45;&gt;20 -->\n",
       "<g id=\"edge20\" class=\"edge\">\n",
       "<title>18&#45;&gt;20</title>\n",
       "<path fill=\"none\" stroke=\"black\" d=\"M969.31,-400.6C986.03,-388.84 1004.78,-375.65 1021.34,-364\"/>\n",
       "<polygon fill=\"black\" stroke=\"black\" points=\"1023.12,-366.32 1029.28,-357.71 1019.09,-360.6 1023.12,-366.32\"/>\n",
       "</g>\n",
       "</g>\n",
       "</svg>\n"
      ],
      "text/plain": [
       "<graphviz.sources.Source at 0x139603640>"
      ]
     },
     "execution_count": 48,
     "metadata": {},
     "output_type": "execute_result"
    }
   ],
   "source": [
    "draw_tree(m, trn_xs, size=10)"
   ]
  },
  {
   "cell_type": "markdown",
   "metadata": {},
   "source": [
    "We can see that it's found exactly the same splits as we did!\n",
    "\n",
    "In this picture, the more orange nodes have a lower survival rate, and blue have higher survival. Each node shows how many rows (\"*samples*\") match that set of rules, and shows how many perish or survive (\"*values*\"). There's also something called \"*gini*\". That's another measure of impurity, and it's very similar to the `score()` we created earlier. It's defined as follows:"
   ]
  },
  {
   "cell_type": "code",
   "execution_count": 49,
   "metadata": {
    "ExecuteTime": {
     "end_time": "2023-06-24T04:05:20.799284Z",
     "start_time": "2023-06-24T04:05:20.786583Z"
    },
    "execution": {
     "iopub.execute_input": "2022-05-23T04:37:59.76912Z",
     "iopub.status.busy": "2022-05-23T04:37:59.76879Z",
     "iopub.status.idle": "2022-05-23T04:37:59.776055Z",
     "shell.execute_reply": "2022-05-23T04:37:59.774896Z",
     "shell.execute_reply.started": "2022-05-23T04:37:59.769086Z"
    }
   },
   "outputs": [],
   "source": [
    "def gini(cond):\n",
    "    act = df.loc[cond, dep]\n",
    "    return 1 - act.mean()**2 - (1-act).mean()**2"
   ]
  },
  {
   "cell_type": "markdown",
   "metadata": {},
   "source": [
    "What this calculates is the probability that, if you pick two rows from a group, you'll get the same `Survived` result each time. If the group is all the same, the probability is `1.0`, and `0.0` if they're all different:"
   ]
  },
  {
   "cell_type": "code",
   "execution_count": 50,
   "metadata": {
    "ExecuteTime": {
     "end_time": "2023-06-24T04:05:21.126265Z",
     "start_time": "2023-06-24T04:05:21.109631Z"
    },
    "execution": {
     "iopub.execute_input": "2022-05-23T04:38:01.166595Z",
     "iopub.status.busy": "2022-05-23T04:38:01.166139Z",
     "iopub.status.idle": "2022-05-23T04:38:01.177753Z",
     "shell.execute_reply": "2022-05-23T04:38:01.176747Z",
     "shell.execute_reply.started": "2022-05-23T04:38:01.166562Z"
    }
   },
   "outputs": [
    {
     "data": {
      "text/plain": [
       "(0.3828350034484158, 0.3064437162277842)"
      ]
     },
     "execution_count": 50,
     "metadata": {},
     "output_type": "execute_result"
    }
   ],
   "source": [
    "gini(df.Sex=='female'), gini(df.Sex=='male')"
   ]
  },
  {
   "cell_type": "markdown",
   "metadata": {},
   "source": [
    "Let's see how this model compares to our OneR version:"
   ]
  },
  {
   "cell_type": "code",
   "execution_count": 51,
   "metadata": {
    "ExecuteTime": {
     "end_time": "2023-06-24T04:05:21.408890Z",
     "start_time": "2023-06-24T04:05:21.384905Z"
    },
    "execution": {
     "iopub.execute_input": "2022-05-23T04:38:02.057241Z",
     "iopub.status.busy": "2022-05-23T04:38:02.056429Z",
     "iopub.status.idle": "2022-05-23T04:38:02.068392Z",
     "shell.execute_reply": "2022-05-23T04:38:02.067471Z",
     "shell.execute_reply.started": "2022-05-23T04:38:02.057192Z"
    }
   },
   "outputs": [
    {
     "data": {
      "text/plain": [
       "0.18385650224215247"
      ]
     },
     "execution_count": 51,
     "metadata": {},
     "output_type": "execute_result"
    }
   ],
   "source": [
    "mean_absolute_error(val_y, m.predict(val_xs))"
   ]
  },
  {
   "cell_type": "markdown",
   "metadata": {},
   "source": [
    "It's a tiny bit worse. Since this is such a small dataset (we've only got around 200 rows in our validation set) this small difference isn't really meaningful. Perhaps we'll see better results if we create a bigger tree:"
   ]
  },
  {
   "cell_type": "code",
   "execution_count": 55,
   "metadata": {
    "ExecuteTime": {
     "end_time": "2023-06-24T04:05:27.923848Z",
     "start_time": "2023-06-24T04:05:27.808841Z"
    },
    "execution": {
     "iopub.execute_input": "2022-05-23T04:38:02.926983Z",
     "iopub.status.busy": "2022-05-23T04:38:02.926216Z",
     "iopub.status.idle": "2022-05-23T04:38:02.981361Z",
     "shell.execute_reply": "2022-05-23T04:38:02.98003Z",
     "shell.execute_reply.started": "2022-05-23T04:38:02.926945Z"
    }
   },
   "outputs": [
    {
     "data": {
      "image/svg+xml": [
       "<?xml version=\"1.0\" encoding=\"UTF-8\" standalone=\"no\"?>\n",
       "<!DOCTYPE svg PUBLIC \"-//W3C//DTD SVG 1.1//EN\"\n",
       " \"http://www.w3.org/Graphics/SVG/1.1/DTD/svg11.dtd\">\n",
       "<!-- Generated by graphviz version 8.0.5 (20230430.1635)\n",
       " -->\n",
       "<!-- Title: Tree Pages: 1 -->\n",
       "<svg width=\"720pt\" height=\"434pt\"\n",
       " viewBox=\"0.00 0.00 720.00 433.92\" xmlns=\"http://www.w3.org/2000/svg\" xmlns:xlink=\"http://www.w3.org/1999/xlink\">\n",
       "<g id=\"graph0\" class=\"graph\" transform=\"scale(0.633458 0.633458) rotate(0) translate(4 681)\">\n",
       "<title>Tree</title>\n",
       "<polygon fill=\"white\" stroke=\"none\" points=\"-4,4 -4,-681 1132.62,-681 1132.62,4 -4,4\"/>\n",
       "<!-- 0 -->\n",
       "<g id=\"node1\" class=\"node\">\n",
       "<title>0</title>\n",
       "<path fill=\"#f5ceb2\" stroke=\"black\" d=\"M595.83,-677C595.83,-677 495.83,-677 495.83,-677 489.83,-677 483.83,-671 483.83,-665 483.83,-665 483.83,-621 483.83,-621 483.83,-615 489.83,-609 495.83,-609 495.83,-609 595.83,-609 595.83,-609 601.83,-609 607.83,-615 607.83,-621 607.83,-621 607.83,-665 607.83,-665 607.83,-671 601.83,-677 595.83,-677\"/>\n",
       "<text text-anchor=\"start\" x=\"517.33\" y=\"-659.7\" font-family=\"Helvetica,sans-Serif\" font-size=\"14.00\">Sex ≤ 0.5</text>\n",
       "<text text-anchor=\"start\" x=\"514.33\" y=\"-644.7\" font-family=\"Helvetica,sans-Serif\" font-size=\"14.00\">gini = 0.47</text>\n",
       "<text text-anchor=\"start\" x=\"501.2\" y=\"-629.7\" font-family=\"Helvetica,sans-Serif\" font-size=\"14.00\">samples = 668</text>\n",
       "<text text-anchor=\"start\" x=\"491.83\" y=\"-614.7\" font-family=\"Helvetica,sans-Serif\" font-size=\"14.00\">value = [415, 253]</text>\n",
       "</g>\n",
       "<!-- 1 -->\n",
       "<g id=\"node2\" class=\"node\">\n",
       "<title>1</title>\n",
       "<path fill=\"#7ebfee\" stroke=\"black\" d=\"M450.08,-573C450.08,-573 357.58,-573 357.58,-573 351.58,-573 345.58,-567 345.58,-561 345.58,-561 345.58,-517 345.58,-517 345.58,-511 351.58,-505 357.58,-505 357.58,-505 450.08,-505 450.08,-505 456.08,-505 462.08,-511 462.08,-517 462.08,-517 462.08,-561 462.08,-561 462.08,-567 456.08,-573 450.08,-573\"/>\n",
       "<text text-anchor=\"start\" x=\"367.08\" y=\"-555.7\" font-family=\"Helvetica,sans-Serif\" font-size=\"14.00\">Pclass ≤ 2.5</text>\n",
       "<text text-anchor=\"start\" x=\"372.33\" y=\"-540.7\" font-family=\"Helvetica,sans-Serif\" font-size=\"14.00\">gini = 0.38</text>\n",
       "<text text-anchor=\"start\" x=\"359.2\" y=\"-525.7\" font-family=\"Helvetica,sans-Serif\" font-size=\"14.00\">samples = 229</text>\n",
       "<text text-anchor=\"start\" x=\"353.58\" y=\"-510.7\" font-family=\"Helvetica,sans-Serif\" font-size=\"14.00\">value = [59, 170]</text>\n",
       "</g>\n",
       "<!-- 0&#45;&gt;1 -->\n",
       "<g id=\"edge1\" class=\"edge\">\n",
       "<title>0&#45;&gt;1</title>\n",
       "<path fill=\"none\" stroke=\"black\" d=\"M499.33,-608.6C486.46,-599.36 472.36,-589.23 459.05,-579.66\"/>\n",
       "<polygon fill=\"black\" stroke=\"black\" points=\"461.59,-576.47 451.43,-573.47 457.51,-582.15 461.59,-576.47\"/>\n",
       "<text text-anchor=\"middle\" x=\"454.47\" y=\"-592.34\" font-family=\"Helvetica,sans-Serif\" font-size=\"14.00\">True</text>\n",
       "</g>\n",
       "<!-- 8 -->\n",
       "<g id=\"node9\" class=\"node\">\n",
       "<title>8</title>\n",
       "<path fill=\"#eb9e67\" stroke=\"black\" d=\"M744.08,-573C744.08,-573 651.58,-573 651.58,-573 645.58,-573 639.58,-567 639.58,-561 639.58,-561 639.58,-517 639.58,-517 639.58,-511 645.58,-505 651.58,-505 651.58,-505 744.08,-505 744.08,-505 750.08,-505 756.08,-511 756.08,-517 756.08,-517 756.08,-561 756.08,-561 756.08,-567 750.08,-573 744.08,-573\"/>\n",
       "<text text-anchor=\"start\" x=\"652.08\" y=\"-555.7\" font-family=\"Helvetica,sans-Serif\" font-size=\"14.00\">LogFare ≤ 3.31</text>\n",
       "<text text-anchor=\"start\" x=\"666.33\" y=\"-540.7\" font-family=\"Helvetica,sans-Serif\" font-size=\"14.00\">gini = 0.31</text>\n",
       "<text text-anchor=\"start\" x=\"653.2\" y=\"-525.7\" font-family=\"Helvetica,sans-Serif\" font-size=\"14.00\">samples = 439</text>\n",
       "<text text-anchor=\"start\" x=\"647.58\" y=\"-510.7\" font-family=\"Helvetica,sans-Serif\" font-size=\"14.00\">value = [356, 83]</text>\n",
       "</g>\n",
       "<!-- 0&#45;&gt;8 -->\n",
       "<g id=\"edge8\" class=\"edge\">\n",
       "<title>0&#45;&gt;8</title>\n",
       "<path fill=\"none\" stroke=\"black\" d=\"M595.6,-608.6C609.51,-599.27 624.75,-589.04 639.13,-579.39\"/>\n",
       "<polygon fill=\"black\" stroke=\"black\" points=\"640.59,-581.95 646.94,-573.47 636.69,-576.14 640.59,-581.95\"/>\n",
       "<text text-anchor=\"middle\" x=\"643.12\" y=\"-592.2\" font-family=\"Helvetica,sans-Serif\" font-size=\"14.00\">False</text>\n",
       "</g>\n",
       "<!-- 2 -->\n",
       "<g id=\"node3\" class=\"node\">\n",
       "<title>2</title>\n",
       "<path fill=\"#40a0e6\" stroke=\"black\" d=\"M237.33,-469C237.33,-469 152.33,-469 152.33,-469 146.33,-469 140.33,-463 140.33,-457 140.33,-457 140.33,-413 140.33,-413 140.33,-407 146.33,-401 152.33,-401 152.33,-401 237.33,-401 237.33,-401 243.33,-401 249.33,-407 249.33,-413 249.33,-413 249.33,-457 249.33,-457 249.33,-463 243.33,-469 237.33,-469\"/>\n",
       "<text text-anchor=\"start\" x=\"159.95\" y=\"-451.7\" font-family=\"Helvetica,sans-Serif\" font-size=\"14.00\">SibSp ≤ 0.5</text>\n",
       "<text text-anchor=\"start\" x=\"163.33\" y=\"-436.7\" font-family=\"Helvetica,sans-Serif\" font-size=\"14.00\">gini = 0.06</text>\n",
       "<text text-anchor=\"start\" x=\"150.2\" y=\"-421.7\" font-family=\"Helvetica,sans-Serif\" font-size=\"14.00\">samples = 120</text>\n",
       "<text text-anchor=\"start\" x=\"148.33\" y=\"-406.7\" font-family=\"Helvetica,sans-Serif\" font-size=\"14.00\">value = [4, 116]</text>\n",
       "</g>\n",
       "<!-- 1&#45;&gt;2 -->\n",
       "<g id=\"edge2\" class=\"edge\">\n",
       "<title>1&#45;&gt;2</title>\n",
       "<path fill=\"none\" stroke=\"black\" d=\"M345.33,-509.45C318.66,-496.43 286.99,-480.98 259.6,-467.61\"/>\n",
       "<polygon fill=\"black\" stroke=\"black\" points=\"261.24,-464.03 250.72,-462.79 258.17,-470.32 261.24,-464.03\"/>\n",
       "</g>\n",
       "<!-- 5 -->\n",
       "<g id=\"node6\" class=\"node\">\n",
       "<title>5</title>\n",
       "<path fill=\"#fffdfb\" stroke=\"black\" d=\"M446.33,-469C446.33,-469 361.33,-469 361.33,-469 355.33,-469 349.33,-463 349.33,-457 349.33,-457 349.33,-413 349.33,-413 349.33,-407 355.33,-401 361.33,-401 361.33,-401 446.33,-401 446.33,-401 452.33,-401 458.33,-407 458.33,-413 458.33,-413 458.33,-457 458.33,-457 458.33,-463 452.33,-469 446.33,-469\"/>\n",
       "<text text-anchor=\"start\" x=\"361.83\" y=\"-451.7\" font-family=\"Helvetica,sans-Serif\" font-size=\"14.00\">LogFare ≤ 2.7</text>\n",
       "<text text-anchor=\"start\" x=\"376.08\" y=\"-436.7\" font-family=\"Helvetica,sans-Serif\" font-size=\"14.00\">gini = 0.5</text>\n",
       "<text text-anchor=\"start\" x=\"359.2\" y=\"-421.7\" font-family=\"Helvetica,sans-Serif\" font-size=\"14.00\">samples = 109</text>\n",
       "<text text-anchor=\"start\" x=\"357.33\" y=\"-406.7\" font-family=\"Helvetica,sans-Serif\" font-size=\"14.00\">value = [55, 54]</text>\n",
       "</g>\n",
       "<!-- 1&#45;&gt;5 -->\n",
       "<g id=\"edge5\" class=\"edge\">\n",
       "<title>1&#45;&gt;5</title>\n",
       "<path fill=\"none\" stroke=\"black\" d=\"M403.83,-504.6C403.83,-496.85 403.83,-488.49 403.83,-480.35\"/>\n",
       "<polygon fill=\"black\" stroke=\"black\" points=\"407.33,-480.47 403.83,-470.47 400.33,-480.47 407.33,-480.47\"/>\n",
       "</g>\n",
       "<!-- 3 -->\n",
       "<g id=\"node4\" class=\"node\">\n",
       "<title>3</title>\n",
       "<path fill=\"#3c9ee5\" stroke=\"black\" d=\"M96.58,-357.5C96.58,-357.5 19.08,-357.5 19.08,-357.5 13.08,-357.5 7.08,-351.5 7.08,-345.5 7.08,-345.5 7.08,-316.5 7.08,-316.5 7.08,-310.5 13.08,-304.5 19.08,-304.5 19.08,-304.5 96.58,-304.5 96.58,-304.5 102.58,-304.5 108.58,-310.5 108.58,-316.5 108.58,-316.5 108.58,-345.5 108.58,-345.5 108.58,-351.5 102.58,-357.5 96.58,-357.5\"/>\n",
       "<text text-anchor=\"start\" x=\"26.33\" y=\"-340.2\" font-family=\"Helvetica,sans-Serif\" font-size=\"14.00\">gini = 0.03</text>\n",
       "<text text-anchor=\"start\" x=\"16.95\" y=\"-325.2\" font-family=\"Helvetica,sans-Serif\" font-size=\"14.00\">samples = 67</text>\n",
       "<text text-anchor=\"start\" x=\"15.08\" y=\"-310.2\" font-family=\"Helvetica,sans-Serif\" font-size=\"14.00\">value = [1, 66]</text>\n",
       "</g>\n",
       "<!-- 2&#45;&gt;3 -->\n",
       "<g id=\"edge3\" class=\"edge\">\n",
       "<title>2&#45;&gt;3</title>\n",
       "<path fill=\"none\" stroke=\"black\" d=\"M149.97,-400.6C134.17,-388.84 116.45,-375.65 100.81,-364\"/>\n",
       "<polygon fill=\"black\" stroke=\"black\" points=\"103.46,-360.87 93.35,-357.71 99.28,-366.49 103.46,-360.87\"/>\n",
       "</g>\n",
       "<!-- 4 -->\n",
       "<g id=\"node5\" class=\"node\">\n",
       "<title>4</title>\n",
       "<path fill=\"#45a3e7\" stroke=\"black\" d=\"M233.58,-357.5C233.58,-357.5 156.08,-357.5 156.08,-357.5 150.08,-357.5 144.08,-351.5 144.08,-345.5 144.08,-345.5 144.08,-316.5 144.08,-316.5 144.08,-310.5 150.08,-304.5 156.08,-304.5 156.08,-304.5 233.58,-304.5 233.58,-304.5 239.58,-304.5 245.58,-310.5 245.58,-316.5 245.58,-316.5 245.58,-345.5 245.58,-345.5 245.58,-351.5 239.58,-357.5 233.58,-357.5\"/>\n",
       "<text text-anchor=\"start\" x=\"163.33\" y=\"-340.2\" font-family=\"Helvetica,sans-Serif\" font-size=\"14.00\">gini = 0.11</text>\n",
       "<text text-anchor=\"start\" x=\"153.95\" y=\"-325.2\" font-family=\"Helvetica,sans-Serif\" font-size=\"14.00\">samples = 53</text>\n",
       "<text text-anchor=\"start\" x=\"152.08\" y=\"-310.2\" font-family=\"Helvetica,sans-Serif\" font-size=\"14.00\">value = [3, 50]</text>\n",
       "</g>\n",
       "<!-- 2&#45;&gt;4 -->\n",
       "<g id=\"edge4\" class=\"edge\">\n",
       "<title>2&#45;&gt;4</title>\n",
       "<path fill=\"none\" stroke=\"black\" d=\"M194.83,-400.6C194.83,-390.36 194.83,-379.04 194.83,-368.6\"/>\n",
       "<polygon fill=\"black\" stroke=\"black\" points=\"198.33,-368.71 194.83,-358.71 191.33,-368.71 198.33,-368.71\"/>\n",
       "</g>\n",
       "<!-- 6 -->\n",
       "<g id=\"node7\" class=\"node\">\n",
       "<title>6</title>\n",
       "<path fill=\"#cbe5f8\" stroke=\"black\" d=\"M377.33,-357.5C377.33,-357.5 292.33,-357.5 292.33,-357.5 286.33,-357.5 280.33,-351.5 280.33,-345.5 280.33,-345.5 280.33,-316.5 280.33,-316.5 280.33,-310.5 286.33,-304.5 292.33,-304.5 292.33,-304.5 377.33,-304.5 377.33,-304.5 383.33,-304.5 389.33,-310.5 389.33,-316.5 389.33,-316.5 389.33,-345.5 389.33,-345.5 389.33,-351.5 383.33,-357.5 377.33,-357.5\"/>\n",
       "<text text-anchor=\"start\" x=\"303.33\" y=\"-340.2\" font-family=\"Helvetica,sans-Serif\" font-size=\"14.00\">gini = 0.49</text>\n",
       "<text text-anchor=\"start\" x=\"293.95\" y=\"-325.2\" font-family=\"Helvetica,sans-Serif\" font-size=\"14.00\">samples = 59</text>\n",
       "<text text-anchor=\"start\" x=\"288.33\" y=\"-310.2\" font-family=\"Helvetica,sans-Serif\" font-size=\"14.00\">value = [25, 34]</text>\n",
       "</g>\n",
       "<!-- 5&#45;&gt;6 -->\n",
       "<g id=\"edge6\" class=\"edge\">\n",
       "<title>5&#45;&gt;6</title>\n",
       "<path fill=\"none\" stroke=\"black\" d=\"M381.23,-400.6C373.86,-389.71 365.67,-377.59 358.24,-366.61\"/>\n",
       "<polygon fill=\"black\" stroke=\"black\" points=\"360.72,-365.03 352.22,-358.71 354.92,-368.95 360.72,-365.03\"/>\n",
       "</g>\n",
       "<!-- 7 -->\n",
       "<g id=\"node8\" class=\"node\">\n",
       "<title>7</title>\n",
       "<path fill=\"#f6d5bd\" stroke=\"black\" d=\"M521.33,-357.5C521.33,-357.5 436.33,-357.5 436.33,-357.5 430.33,-357.5 424.33,-351.5 424.33,-345.5 424.33,-345.5 424.33,-316.5 424.33,-316.5 424.33,-310.5 430.33,-304.5 436.33,-304.5 436.33,-304.5 521.33,-304.5 521.33,-304.5 527.33,-304.5 533.33,-310.5 533.33,-316.5 533.33,-316.5 533.33,-345.5 533.33,-345.5 533.33,-351.5 527.33,-357.5 521.33,-357.5\"/>\n",
       "<text text-anchor=\"start\" x=\"447.33\" y=\"-340.2\" font-family=\"Helvetica,sans-Serif\" font-size=\"14.00\">gini = 0.48</text>\n",
       "<text text-anchor=\"start\" x=\"437.95\" y=\"-325.2\" font-family=\"Helvetica,sans-Serif\" font-size=\"14.00\">samples = 50</text>\n",
       "<text text-anchor=\"start\" x=\"432.33\" y=\"-310.2\" font-family=\"Helvetica,sans-Serif\" font-size=\"14.00\">value = [30, 20]</text>\n",
       "</g>\n",
       "<!-- 5&#45;&gt;7 -->\n",
       "<g id=\"edge7\" class=\"edge\">\n",
       "<title>5&#45;&gt;7</title>\n",
       "<path fill=\"none\" stroke=\"black\" d=\"M428.38,-400.6C436.48,-389.6 445.48,-377.35 453.62,-366.28\"/>\n",
       "<polygon fill=\"black\" stroke=\"black\" points=\"456.82,-368.84 459.93,-358.71 451.18,-364.69 456.82,-368.84\"/>\n",
       "</g>\n",
       "<!-- 9 -->\n",
       "<g id=\"node10\" class=\"node\">\n",
       "<title>9</title>\n",
       "<path fill=\"#e99659\" stroke=\"black\" d=\"M744.08,-469C744.08,-469 651.58,-469 651.58,-469 645.58,-469 639.58,-463 639.58,-457 639.58,-457 639.58,-413 639.58,-413 639.58,-407 645.58,-401 651.58,-401 651.58,-401 744.08,-401 744.08,-401 750.08,-401 756.08,-407 756.08,-413 756.08,-413 756.08,-457 756.08,-457 756.08,-463 750.08,-469 744.08,-469\"/>\n",
       "<text text-anchor=\"start\" x=\"665.2\" y=\"-451.7\" font-family=\"Helvetica,sans-Serif\" font-size=\"14.00\">Age ≤ 20.5</text>\n",
       "<text text-anchor=\"start\" x=\"666.33\" y=\"-436.7\" font-family=\"Helvetica,sans-Serif\" font-size=\"14.00\">gini = 0.24</text>\n",
       "<text text-anchor=\"start\" x=\"653.2\" y=\"-421.7\" font-family=\"Helvetica,sans-Serif\" font-size=\"14.00\">samples = 320</text>\n",
       "<text text-anchor=\"start\" x=\"647.58\" y=\"-406.7\" font-family=\"Helvetica,sans-Serif\" font-size=\"14.00\">value = [275, 45]</text>\n",
       "</g>\n",
       "<!-- 8&#45;&gt;9 -->\n",
       "<g id=\"edge9\" class=\"edge\">\n",
       "<title>8&#45;&gt;9</title>\n",
       "<path fill=\"none\" stroke=\"black\" d=\"M697.83,-504.6C697.83,-496.85 697.83,-488.49 697.83,-480.35\"/>\n",
       "<polygon fill=\"black\" stroke=\"black\" points=\"701.33,-480.47 697.83,-470.47 694.33,-480.47 701.33,-480.47\"/>\n",
       "</g>\n",
       "<!-- 18 -->\n",
       "<g id=\"node19\" class=\"node\">\n",
       "<title>18</title>\n",
       "<path fill=\"#f1bc96\" stroke=\"black\" d=\"M964.33,-469C964.33,-469 879.33,-469 879.33,-469 873.33,-469 867.33,-463 867.33,-457 867.33,-457 867.33,-413 867.33,-413 867.33,-407 873.33,-401 879.33,-401 879.33,-401 964.33,-401 964.33,-401 970.33,-401 976.33,-407 976.33,-413 976.33,-413 976.33,-457 976.33,-457 976.33,-463 970.33,-469 964.33,-469\"/>\n",
       "<text text-anchor=\"start\" x=\"886.95\" y=\"-451.7\" font-family=\"Helvetica,sans-Serif\" font-size=\"14.00\">SibSp ≤ 0.5</text>\n",
       "<text text-anchor=\"start\" x=\"890.33\" y=\"-436.7\" font-family=\"Helvetica,sans-Serif\" font-size=\"14.00\">gini = 0.43</text>\n",
       "<text text-anchor=\"start\" x=\"877.2\" y=\"-421.7\" font-family=\"Helvetica,sans-Serif\" font-size=\"14.00\">samples = 119</text>\n",
       "<text text-anchor=\"start\" x=\"875.33\" y=\"-406.7\" font-family=\"Helvetica,sans-Serif\" font-size=\"14.00\">value = [81, 38]</text>\n",
       "</g>\n",
       "<!-- 8&#45;&gt;18 -->\n",
       "<g id=\"edge18\" class=\"edge\">\n",
       "<title>8&#45;&gt;18</title>\n",
       "<path fill=\"none\" stroke=\"black\" d=\"M756.39,-511.33C787.4,-497.21 825.55,-479.84 857.4,-465.34\"/>\n",
       "<polygon fill=\"black\" stroke=\"black\" points=\"858.42,-468.26 866.07,-460.93 855.52,-461.89 858.42,-468.26\"/>\n",
       "</g>\n",
       "<!-- 10 -->\n",
       "<g id=\"node11\" class=\"node\">\n",
       "<title>10</title>\n",
       "<path fill=\"#f1b992\" stroke=\"black\" d=\"M666.33,-357.5C666.33,-357.5 581.33,-357.5 581.33,-357.5 575.33,-357.5 569.33,-351.5 569.33,-345.5 569.33,-345.5 569.33,-316.5 569.33,-316.5 569.33,-310.5 575.33,-304.5 581.33,-304.5 581.33,-304.5 666.33,-304.5 666.33,-304.5 672.33,-304.5 678.33,-310.5 678.33,-316.5 678.33,-316.5 678.33,-345.5 678.33,-345.5 678.33,-351.5 672.33,-357.5 666.33,-357.5\"/>\n",
       "<text text-anchor=\"start\" x=\"592.33\" y=\"-340.2\" font-family=\"Helvetica,sans-Serif\" font-size=\"14.00\">gini = 0.43</text>\n",
       "<text text-anchor=\"start\" x=\"582.95\" y=\"-325.2\" font-family=\"Helvetica,sans-Serif\" font-size=\"14.00\">samples = 55</text>\n",
       "<text text-anchor=\"start\" x=\"577.33\" y=\"-310.2\" font-family=\"Helvetica,sans-Serif\" font-size=\"14.00\">value = [38, 17]</text>\n",
       "</g>\n",
       "<!-- 9&#45;&gt;10 -->\n",
       "<g id=\"edge10\" class=\"edge\">\n",
       "<title>9&#45;&gt;10</title>\n",
       "<path fill=\"none\" stroke=\"black\" d=\"M673.6,-400.6C665.61,-389.6 656.73,-377.35 648.7,-366.28\"/>\n",
       "<polygon fill=\"black\" stroke=\"black\" points=\"651.18,-364.74 642.48,-358.71 645.52,-368.86 651.18,-364.74\"/>\n",
       "</g>\n",
       "<!-- 11 -->\n",
       "<g id=\"node12\" class=\"node\">\n",
       "<title>11</title>\n",
       "<path fill=\"#e89050\" stroke=\"black\" d=\"M819.08,-365C819.08,-365 726.58,-365 726.58,-365 720.58,-365 714.58,-359 714.58,-353 714.58,-353 714.58,-309 714.58,-309 714.58,-303 720.58,-297 726.58,-297 726.58,-297 819.08,-297 819.08,-297 825.08,-297 831.08,-303 831.08,-309 831.08,-309 831.08,-353 831.08,-353 831.08,-359 825.08,-365 819.08,-365\"/>\n",
       "<text text-anchor=\"start\" x=\"740.2\" y=\"-347.7\" font-family=\"Helvetica,sans-Serif\" font-size=\"14.00\">Age ≤ 32.5</text>\n",
       "<text text-anchor=\"start\" x=\"741.33\" y=\"-332.7\" font-family=\"Helvetica,sans-Serif\" font-size=\"14.00\">gini = 0.19</text>\n",
       "<text text-anchor=\"start\" x=\"728.2\" y=\"-317.7\" font-family=\"Helvetica,sans-Serif\" font-size=\"14.00\">samples = 265</text>\n",
       "<text text-anchor=\"start\" x=\"722.58\" y=\"-302.7\" font-family=\"Helvetica,sans-Serif\" font-size=\"14.00\">value = [237, 28]</text>\n",
       "</g>\n",
       "<!-- 9&#45;&gt;11 -->\n",
       "<g id=\"edge11\" class=\"edge\">\n",
       "<title>9&#45;&gt;11</title>\n",
       "<path fill=\"none\" stroke=\"black\" d=\"M722.38,-400.6C728.6,-392.15 735.36,-382.96 741.85,-374.13\"/>\n",
       "<polygon fill=\"black\" stroke=\"black\" points=\"745.11,-376.6 748.21,-366.47 739.47,-372.46 745.11,-376.6\"/>\n",
       "</g>\n",
       "<!-- 12 -->\n",
       "<g id=\"node13\" class=\"node\">\n",
       "<title>12</title>\n",
       "<path fill=\"#e99356\" stroke=\"black\" d=\"M746.08,-261C746.08,-261 653.58,-261 653.58,-261 647.58,-261 641.58,-255 641.58,-249 641.58,-249 641.58,-205 641.58,-205 641.58,-199 647.58,-193 653.58,-193 653.58,-193 746.08,-193 746.08,-193 752.08,-193 758.08,-199 758.08,-205 758.08,-205 758.08,-249 758.08,-249 758.08,-255 752.08,-261 746.08,-261\"/>\n",
       "<text text-anchor=\"start\" x=\"663.45\" y=\"-243.7\" font-family=\"Helvetica,sans-Serif\" font-size=\"14.00\">Age ≤ 24.75</text>\n",
       "<text text-anchor=\"start\" x=\"668.33\" y=\"-228.7\" font-family=\"Helvetica,sans-Serif\" font-size=\"14.00\">gini = 0.22</text>\n",
       "<text text-anchor=\"start\" x=\"655.2\" y=\"-213.7\" font-family=\"Helvetica,sans-Serif\" font-size=\"14.00\">samples = 181</text>\n",
       "<text text-anchor=\"start\" x=\"649.58\" y=\"-198.7\" font-family=\"Helvetica,sans-Serif\" font-size=\"14.00\">value = [158, 23]</text>\n",
       "</g>\n",
       "<!-- 11&#45;&gt;12 -->\n",
       "<g id=\"edge12\" class=\"edge\">\n",
       "<title>11&#45;&gt;12</title>\n",
       "<path fill=\"none\" stroke=\"black\" d=\"M748.92,-296.6C742.94,-288.24 736.43,-279.15 730.18,-270.41\"/>\n",
       "<polygon fill=\"black\" stroke=\"black\" points=\"732.45,-268.57 723.78,-262.47 726.76,-272.64 732.45,-268.57\"/>\n",
       "</g>\n",
       "<!-- 17 -->\n",
       "<g id=\"node18\" class=\"node\">\n",
       "<title>17</title>\n",
       "<path fill=\"#e78946\" stroke=\"black\" d=\"M883.58,-253.5C883.58,-253.5 806.08,-253.5 806.08,-253.5 800.08,-253.5 794.08,-247.5 794.08,-241.5 794.08,-241.5 794.08,-212.5 794.08,-212.5 794.08,-206.5 800.08,-200.5 806.08,-200.5 806.08,-200.5 883.58,-200.5 883.58,-200.5 889.58,-200.5 895.58,-206.5 895.58,-212.5 895.58,-212.5 895.58,-241.5 895.58,-241.5 895.58,-247.5 889.58,-253.5 883.58,-253.5\"/>\n",
       "<text text-anchor=\"start\" x=\"813.33\" y=\"-236.2\" font-family=\"Helvetica,sans-Serif\" font-size=\"14.00\">gini = 0.11</text>\n",
       "<text text-anchor=\"start\" x=\"803.95\" y=\"-221.2\" font-family=\"Helvetica,sans-Serif\" font-size=\"14.00\">samples = 84</text>\n",
       "<text text-anchor=\"start\" x=\"802.08\" y=\"-206.2\" font-family=\"Helvetica,sans-Serif\" font-size=\"14.00\">value = [79, 5]</text>\n",
       "</g>\n",
       "<!-- 11&#45;&gt;17 -->\n",
       "<g id=\"edge17\" class=\"edge\">\n",
       "<title>11&#45;&gt;17</title>\n",
       "<path fill=\"none\" stroke=\"black\" d=\"M796.4,-296.6C804.09,-285.71 812.64,-273.59 820.4,-262.61\"/>\n",
       "<polygon fill=\"black\" stroke=\"black\" points=\"823.77,-264.89 826.68,-254.71 818.06,-260.86 823.77,-264.89\"/>\n",
       "</g>\n",
       "<!-- 13 -->\n",
       "<g id=\"node14\" class=\"node\">\n",
       "<title>13</title>\n",
       "<path fill=\"#e88d4c\" stroke=\"black\" d=\"M672.08,-157C672.08,-157 579.58,-157 579.58,-157 573.58,-157 567.58,-151 567.58,-145 567.58,-145 567.58,-101 567.58,-101 567.58,-95 573.58,-89 579.58,-89 579.58,-89 672.08,-89 672.08,-89 678.08,-89 684.08,-95 684.08,-101 684.08,-101 684.08,-145 684.08,-145 684.08,-151 678.08,-157 672.08,-157\"/>\n",
       "<text text-anchor=\"start\" x=\"580.08\" y=\"-139.7\" font-family=\"Helvetica,sans-Serif\" font-size=\"14.00\">LogFare ≤ 2.18</text>\n",
       "<text text-anchor=\"start\" x=\"594.33\" y=\"-124.7\" font-family=\"Helvetica,sans-Serif\" font-size=\"14.00\">gini = 0.16</text>\n",
       "<text text-anchor=\"start\" x=\"581.2\" y=\"-109.7\" font-family=\"Helvetica,sans-Serif\" font-size=\"14.00\">samples = 114</text>\n",
       "<text text-anchor=\"start\" x=\"575.58\" y=\"-94.7\" font-family=\"Helvetica,sans-Serif\" font-size=\"14.00\">value = [104, 10]</text>\n",
       "</g>\n",
       "<!-- 12&#45;&gt;13 -->\n",
       "<g id=\"edge13\" class=\"edge\">\n",
       "<title>12&#45;&gt;13</title>\n",
       "<path fill=\"none\" stroke=\"black\" d=\"M675.6,-192.6C669.46,-184.15 662.8,-174.96 656.4,-166.13\"/>\n",
       "<polygon fill=\"black\" stroke=\"black\" points=\"658.82,-164.51 650.11,-158.47 653.15,-168.62 658.82,-164.51\"/>\n",
       "</g>\n",
       "<!-- 16 -->\n",
       "<g id=\"node17\" class=\"node\">\n",
       "<title>16</title>\n",
       "<path fill=\"#eb9f69\" stroke=\"black\" d=\"M817.33,-149.5C817.33,-149.5 732.33,-149.5 732.33,-149.5 726.33,-149.5 720.33,-143.5 720.33,-137.5 720.33,-137.5 720.33,-108.5 720.33,-108.5 720.33,-102.5 726.33,-96.5 732.33,-96.5 732.33,-96.5 817.33,-96.5 817.33,-96.5 823.33,-96.5 829.33,-102.5 829.33,-108.5 829.33,-108.5 829.33,-137.5 829.33,-137.5 829.33,-143.5 823.33,-149.5 817.33,-149.5\"/>\n",
       "<text text-anchor=\"start\" x=\"743.33\" y=\"-132.2\" font-family=\"Helvetica,sans-Serif\" font-size=\"14.00\">gini = 0.31</text>\n",
       "<text text-anchor=\"start\" x=\"733.95\" y=\"-117.2\" font-family=\"Helvetica,sans-Serif\" font-size=\"14.00\">samples = 67</text>\n",
       "<text text-anchor=\"start\" x=\"728.33\" y=\"-102.2\" font-family=\"Helvetica,sans-Serif\" font-size=\"14.00\">value = [54, 13]</text>\n",
       "</g>\n",
       "<!-- 12&#45;&gt;16 -->\n",
       "<g id=\"edge16\" class=\"edge\">\n",
       "<title>12&#45;&gt;16</title>\n",
       "<path fill=\"none\" stroke=\"black\" d=\"M724.38,-192.6C732.48,-181.6 741.48,-169.35 749.62,-158.28\"/>\n",
       "<polygon fill=\"black\" stroke=\"black\" points=\"752.82,-160.84 755.93,-150.71 747.18,-156.69 752.82,-160.84\"/>\n",
       "</g>\n",
       "<!-- 14 -->\n",
       "<g id=\"node15\" class=\"node\">\n",
       "<title>14</title>\n",
       "<path fill=\"#e99254\" stroke=\"black\" d=\"M596.58,-53.5C596.58,-53.5 519.08,-53.5 519.08,-53.5 513.08,-53.5 507.08,-47.5 507.08,-41.5 507.08,-41.5 507.08,-12.5 507.08,-12.5 507.08,-6.5 513.08,-0.5 519.08,-0.5 519.08,-0.5 596.58,-0.5 596.58,-0.5 602.58,-0.5 608.58,-6.5 608.58,-12.5 608.58,-12.5 608.58,-41.5 608.58,-41.5 608.58,-47.5 602.58,-53.5 596.58,-53.5\"/>\n",
       "<text text-anchor=\"start\" x=\"526.33\" y=\"-36.2\" font-family=\"Helvetica,sans-Serif\" font-size=\"14.00\">gini = 0.21</text>\n",
       "<text text-anchor=\"start\" x=\"516.95\" y=\"-21.2\" font-family=\"Helvetica,sans-Serif\" font-size=\"14.00\">samples = 50</text>\n",
       "<text text-anchor=\"start\" x=\"515.08\" y=\"-6.2\" font-family=\"Helvetica,sans-Serif\" font-size=\"14.00\">value = [44, 6]</text>\n",
       "</g>\n",
       "<!-- 13&#45;&gt;14 -->\n",
       "<g id=\"edge14\" class=\"edge\">\n",
       "<title>13&#45;&gt;14</title>\n",
       "<path fill=\"none\" stroke=\"black\" d=\"M601.66,-88.59C595.61,-80.22 589.1,-71.22 582.99,-62.79\"/>\n",
       "<polygon fill=\"black\" stroke=\"black\" points=\"585.27,-60.96 576.57,-54.91 579.6,-65.07 585.27,-60.96\"/>\n",
       "</g>\n",
       "<!-- 15 -->\n",
       "<g id=\"node16\" class=\"node\">\n",
       "<title>15</title>\n",
       "<path fill=\"#e78946\" stroke=\"black\" d=\"M732.58,-53.5C732.58,-53.5 655.08,-53.5 655.08,-53.5 649.08,-53.5 643.08,-47.5 643.08,-41.5 643.08,-41.5 643.08,-12.5 643.08,-12.5 643.08,-6.5 649.08,-0.5 655.08,-0.5 655.08,-0.5 732.58,-0.5 732.58,-0.5 738.58,-0.5 744.58,-6.5 744.58,-12.5 744.58,-12.5 744.58,-41.5 744.58,-41.5 744.58,-47.5 738.58,-53.5 732.58,-53.5\"/>\n",
       "<text text-anchor=\"start\" x=\"662.33\" y=\"-36.2\" font-family=\"Helvetica,sans-Serif\" font-size=\"14.00\">gini = 0.12</text>\n",
       "<text text-anchor=\"start\" x=\"652.95\" y=\"-21.2\" font-family=\"Helvetica,sans-Serif\" font-size=\"14.00\">samples = 64</text>\n",
       "<text text-anchor=\"start\" x=\"651.08\" y=\"-6.2\" font-family=\"Helvetica,sans-Serif\" font-size=\"14.00\">value = [60, 4]</text>\n",
       "</g>\n",
       "<!-- 13&#45;&gt;15 -->\n",
       "<g id=\"edge15\" class=\"edge\">\n",
       "<title>13&#45;&gt;15</title>\n",
       "<path fill=\"none\" stroke=\"black\" d=\"M649.99,-88.59C656.05,-80.22 662.56,-71.22 668.66,-62.79\"/>\n",
       "<polygon fill=\"black\" stroke=\"black\" points=\"672.06,-65.07 675.08,-54.91 666.39,-60.96 672.06,-65.07\"/>\n",
       "</g>\n",
       "<!-- 19 -->\n",
       "<g id=\"node20\" class=\"node\">\n",
       "<title>19</title>\n",
       "<path fill=\"#f6d5bd\" stroke=\"black\" d=\"M964.33,-357.5C964.33,-357.5 879.33,-357.5 879.33,-357.5 873.33,-357.5 867.33,-351.5 867.33,-345.5 867.33,-345.5 867.33,-316.5 867.33,-316.5 867.33,-310.5 873.33,-304.5 879.33,-304.5 879.33,-304.5 964.33,-304.5 964.33,-304.5 970.33,-304.5 976.33,-310.5 976.33,-316.5 976.33,-316.5 976.33,-345.5 976.33,-345.5 976.33,-351.5 970.33,-357.5 964.33,-357.5\"/>\n",
       "<text text-anchor=\"start\" x=\"890.33\" y=\"-340.2\" font-family=\"Helvetica,sans-Serif\" font-size=\"14.00\">gini = 0.48</text>\n",
       "<text text-anchor=\"start\" x=\"880.95\" y=\"-325.2\" font-family=\"Helvetica,sans-Serif\" font-size=\"14.00\">samples = 60</text>\n",
       "<text text-anchor=\"start\" x=\"875.33\" y=\"-310.2\" font-family=\"Helvetica,sans-Serif\" font-size=\"14.00\">value = [36, 24]</text>\n",
       "</g>\n",
       "<!-- 18&#45;&gt;19 -->\n",
       "<g id=\"edge19\" class=\"edge\">\n",
       "<title>18&#45;&gt;19</title>\n",
       "<path fill=\"none\" stroke=\"black\" d=\"M921.83,-400.6C921.83,-390.36 921.83,-379.04 921.83,-368.6\"/>\n",
       "<polygon fill=\"black\" stroke=\"black\" points=\"925.33,-368.71 921.83,-358.71 918.33,-368.71 925.33,-368.71\"/>\n",
       "</g>\n",
       "<!-- 20 -->\n",
       "<g id=\"node21\" class=\"node\">\n",
       "<title>20</title>\n",
       "<path fill=\"#eda877\" stroke=\"black\" d=\"M1109.33,-357.5C1109.33,-357.5 1024.33,-357.5 1024.33,-357.5 1018.33,-357.5 1012.33,-351.5 1012.33,-345.5 1012.33,-345.5 1012.33,-316.5 1012.33,-316.5 1012.33,-310.5 1018.33,-304.5 1024.33,-304.5 1024.33,-304.5 1109.33,-304.5 1109.33,-304.5 1115.33,-304.5 1121.33,-310.5 1121.33,-316.5 1121.33,-316.5 1121.33,-345.5 1121.33,-345.5 1121.33,-351.5 1115.33,-357.5 1109.33,-357.5\"/>\n",
       "<text text-anchor=\"start\" x=\"1035.33\" y=\"-340.2\" font-family=\"Helvetica,sans-Serif\" font-size=\"14.00\">gini = 0.36</text>\n",
       "<text text-anchor=\"start\" x=\"1025.95\" y=\"-325.2\" font-family=\"Helvetica,sans-Serif\" font-size=\"14.00\">samples = 59</text>\n",
       "<text text-anchor=\"start\" x=\"1020.33\" y=\"-310.2\" font-family=\"Helvetica,sans-Serif\" font-size=\"14.00\">value = [45, 14]</text>\n",
       "</g>\n",
       "<!-- 18&#45;&gt;20 -->\n",
       "<g id=\"edge20\" class=\"edge\">\n",
       "<title>18&#45;&gt;20</title>\n",
       "<path fill=\"none\" stroke=\"black\" d=\"M969.31,-400.6C986.03,-388.84 1004.78,-375.65 1021.34,-364\"/>\n",
       "<polygon fill=\"black\" stroke=\"black\" points=\"1023.12,-366.32 1029.28,-357.71 1019.09,-360.6 1023.12,-366.32\"/>\n",
       "</g>\n",
       "</g>\n",
       "</svg>\n"
      ],
      "text/plain": [
       "<graphviz.sources.Source at 0x139628970>"
      ]
     },
     "execution_count": 55,
     "metadata": {},
     "output_type": "execute_result"
    }
   ],
   "source": [
    "m = DecisionTreeClassifier(min_samples_leaf=50)\n",
    "m.fit(trn_xs, trn_y)\n",
    "draw_tree(m, trn_xs, size=10)"
   ]
  },
  {
   "cell_type": "code",
   "execution_count": 53,
   "metadata": {
    "ExecuteTime": {
     "end_time": "2023-06-24T04:05:21.765677Z",
     "start_time": "2023-06-24T04:05:21.761067Z"
    },
    "execution": {
     "iopub.execute_input": "2022-05-23T04:38:03.953946Z",
     "iopub.status.busy": "2022-05-23T04:38:03.953608Z",
     "iopub.status.idle": "2022-05-23T04:38:03.965301Z",
     "shell.execute_reply": "2022-05-23T04:38:03.964474Z",
     "shell.execute_reply.started": "2022-05-23T04:38:03.953912Z"
    }
   },
   "outputs": [
    {
     "data": {
      "text/plain": [
       "0.18385650224215247"
      ]
     },
     "execution_count": 53,
     "metadata": {},
     "output_type": "execute_result"
    }
   ],
   "source": [
    "mean_absolute_error(val_y, m.predict(val_xs))"
   ]
  },
  {
   "cell_type": "markdown",
   "metadata": {},
   "source": [
    "It looks like this is an improvement, although again it's a bit hard to tell with small datasets like this. Let's try submitting it to Kaggle:"
   ]
  },
  {
   "cell_type": "code",
   "execution_count": 54,
   "metadata": {
    "ExecuteTime": {
     "end_time": "2023-06-24T04:05:23.008558Z",
     "start_time": "2023-06-24T04:05:22.196827Z"
    },
    "execution": {
     "iopub.execute_input": "2022-05-23T04:38:04.158937Z",
     "iopub.status.busy": "2022-05-23T04:38:04.158557Z",
     "iopub.status.idle": "2022-05-23T04:38:04.183949Z",
     "shell.execute_reply": "2022-05-23T04:38:04.182841Z",
     "shell.execute_reply.started": "2022-05-23T04:38:04.158902Z"
    },
    "scrolled": true
   },
   "outputs": [
    {
     "ename": "AttributeError",
     "evalue": "Can only use .cat accessor with a 'category' dtype",
     "output_type": "error",
     "traceback": [
      "\u001b[0;31m---------------------------------------------------------------------------\u001b[0m",
      "\u001b[0;31mAttributeError\u001b[0m                            Traceback (most recent call last)",
      "Cell \u001b[0;32mIn[54], line 1\u001b[0m\n\u001b[0;32m----> 1\u001b[0m tst_df[cats] \u001b[38;5;241m=\u001b[39m \u001b[43mtst_df\u001b[49m\u001b[43m[\u001b[49m\u001b[43mcats\u001b[49m\u001b[43m]\u001b[49m\u001b[38;5;241;43m.\u001b[39;49m\u001b[43mapply\u001b[49m\u001b[43m(\u001b[49m\u001b[38;5;28;43;01mlambda\u001b[39;49;00m\u001b[43m \u001b[49m\u001b[43mx\u001b[49m\u001b[43m:\u001b[49m\u001b[43m \u001b[49m\u001b[43mx\u001b[49m\u001b[38;5;241;43m.\u001b[39;49m\u001b[43mcat\u001b[49m\u001b[38;5;241;43m.\u001b[39;49m\u001b[43mcodes\u001b[49m\u001b[43m)\u001b[49m\n\u001b[1;32m      2\u001b[0m tst_xs,_ \u001b[38;5;241m=\u001b[39m xs_y(tst_df)\n\u001b[1;32m      4\u001b[0m \u001b[38;5;28;01mdef\u001b[39;00m \u001b[38;5;21msubm\u001b[39m(preds, suff):\n",
      "File \u001b[0;32m~/.pyenv/versions/3.10.5/envs/fastai_related/lib/python3.10/site-packages/pandas/core/frame.py:9423\u001b[0m, in \u001b[0;36mDataFrame.apply\u001b[0;34m(self, func, axis, raw, result_type, args, **kwargs)\u001b[0m\n\u001b[1;32m   9412\u001b[0m \u001b[38;5;28;01mfrom\u001b[39;00m \u001b[38;5;21;01mpandas\u001b[39;00m\u001b[38;5;21;01m.\u001b[39;00m\u001b[38;5;21;01mcore\u001b[39;00m\u001b[38;5;21;01m.\u001b[39;00m\u001b[38;5;21;01mapply\u001b[39;00m \u001b[38;5;28;01mimport\u001b[39;00m frame_apply\n\u001b[1;32m   9414\u001b[0m op \u001b[38;5;241m=\u001b[39m frame_apply(\n\u001b[1;32m   9415\u001b[0m     \u001b[38;5;28mself\u001b[39m,\n\u001b[1;32m   9416\u001b[0m     func\u001b[38;5;241m=\u001b[39mfunc,\n\u001b[0;32m   (...)\u001b[0m\n\u001b[1;32m   9421\u001b[0m     kwargs\u001b[38;5;241m=\u001b[39mkwargs,\n\u001b[1;32m   9422\u001b[0m )\n\u001b[0;32m-> 9423\u001b[0m \u001b[38;5;28;01mreturn\u001b[39;00m \u001b[43mop\u001b[49m\u001b[38;5;241;43m.\u001b[39;49m\u001b[43mapply\u001b[49m\u001b[43m(\u001b[49m\u001b[43m)\u001b[49m\u001b[38;5;241m.\u001b[39m__finalize__(\u001b[38;5;28mself\u001b[39m, method\u001b[38;5;241m=\u001b[39m\u001b[38;5;124m\"\u001b[39m\u001b[38;5;124mapply\u001b[39m\u001b[38;5;124m\"\u001b[39m)\n",
      "File \u001b[0;32m~/.pyenv/versions/3.10.5/envs/fastai_related/lib/python3.10/site-packages/pandas/core/apply.py:678\u001b[0m, in \u001b[0;36mFrameApply.apply\u001b[0;34m(self)\u001b[0m\n\u001b[1;32m    675\u001b[0m \u001b[38;5;28;01melif\u001b[39;00m \u001b[38;5;28mself\u001b[39m\u001b[38;5;241m.\u001b[39mraw:\n\u001b[1;32m    676\u001b[0m     \u001b[38;5;28;01mreturn\u001b[39;00m \u001b[38;5;28mself\u001b[39m\u001b[38;5;241m.\u001b[39mapply_raw()\n\u001b[0;32m--> 678\u001b[0m \u001b[38;5;28;01mreturn\u001b[39;00m \u001b[38;5;28;43mself\u001b[39;49m\u001b[38;5;241;43m.\u001b[39;49m\u001b[43mapply_standard\u001b[49m\u001b[43m(\u001b[49m\u001b[43m)\u001b[49m\n",
      "File \u001b[0;32m~/.pyenv/versions/3.10.5/envs/fastai_related/lib/python3.10/site-packages/pandas/core/apply.py:798\u001b[0m, in \u001b[0;36mFrameApply.apply_standard\u001b[0;34m(self)\u001b[0m\n\u001b[1;32m    797\u001b[0m \u001b[38;5;28;01mdef\u001b[39;00m \u001b[38;5;21mapply_standard\u001b[39m(\u001b[38;5;28mself\u001b[39m):\n\u001b[0;32m--> 798\u001b[0m     results, res_index \u001b[38;5;241m=\u001b[39m \u001b[38;5;28;43mself\u001b[39;49m\u001b[38;5;241;43m.\u001b[39;49m\u001b[43mapply_series_generator\u001b[49m\u001b[43m(\u001b[49m\u001b[43m)\u001b[49m\n\u001b[1;32m    800\u001b[0m     \u001b[38;5;66;03m# wrap results\u001b[39;00m\n\u001b[1;32m    801\u001b[0m     \u001b[38;5;28;01mreturn\u001b[39;00m \u001b[38;5;28mself\u001b[39m\u001b[38;5;241m.\u001b[39mwrap_results(results, res_index)\n",
      "File \u001b[0;32m~/.pyenv/versions/3.10.5/envs/fastai_related/lib/python3.10/site-packages/pandas/core/apply.py:814\u001b[0m, in \u001b[0;36mFrameApply.apply_series_generator\u001b[0;34m(self)\u001b[0m\n\u001b[1;32m    811\u001b[0m \u001b[38;5;28;01mwith\u001b[39;00m option_context(\u001b[38;5;124m\"\u001b[39m\u001b[38;5;124mmode.chained_assignment\u001b[39m\u001b[38;5;124m\"\u001b[39m, \u001b[38;5;28;01mNone\u001b[39;00m):\n\u001b[1;32m    812\u001b[0m     \u001b[38;5;28;01mfor\u001b[39;00m i, v \u001b[38;5;129;01min\u001b[39;00m \u001b[38;5;28menumerate\u001b[39m(series_gen):\n\u001b[1;32m    813\u001b[0m         \u001b[38;5;66;03m# ignore SettingWithCopy here in case the user mutates\u001b[39;00m\n\u001b[0;32m--> 814\u001b[0m         results[i] \u001b[38;5;241m=\u001b[39m \u001b[38;5;28;43mself\u001b[39;49m\u001b[38;5;241;43m.\u001b[39;49m\u001b[43mf\u001b[49m\u001b[43m(\u001b[49m\u001b[43mv\u001b[49m\u001b[43m)\u001b[49m\n\u001b[1;32m    815\u001b[0m         \u001b[38;5;28;01mif\u001b[39;00m \u001b[38;5;28misinstance\u001b[39m(results[i], ABCSeries):\n\u001b[1;32m    816\u001b[0m             \u001b[38;5;66;03m# If we have a view on v, we need to make a copy because\u001b[39;00m\n\u001b[1;32m    817\u001b[0m             \u001b[38;5;66;03m#  series_generator will swap out the underlying data\u001b[39;00m\n\u001b[1;32m    818\u001b[0m             results[i] \u001b[38;5;241m=\u001b[39m results[i]\u001b[38;5;241m.\u001b[39mcopy(deep\u001b[38;5;241m=\u001b[39m\u001b[38;5;28;01mFalse\u001b[39;00m)\n",
      "Cell \u001b[0;32mIn[54], line 1\u001b[0m, in \u001b[0;36m<lambda>\u001b[0;34m(x)\u001b[0m\n\u001b[0;32m----> 1\u001b[0m tst_df[cats] \u001b[38;5;241m=\u001b[39m tst_df[cats]\u001b[38;5;241m.\u001b[39mapply(\u001b[38;5;28;01mlambda\u001b[39;00m x: \u001b[43mx\u001b[49m\u001b[38;5;241;43m.\u001b[39;49m\u001b[43mcat\u001b[49m\u001b[38;5;241m.\u001b[39mcodes)\n\u001b[1;32m      2\u001b[0m tst_xs,_ \u001b[38;5;241m=\u001b[39m xs_y(tst_df)\n\u001b[1;32m      4\u001b[0m \u001b[38;5;28;01mdef\u001b[39;00m \u001b[38;5;21msubm\u001b[39m(preds, suff):\n",
      "File \u001b[0;32m~/.pyenv/versions/3.10.5/envs/fastai_related/lib/python3.10/site-packages/pandas/core/generic.py:5989\u001b[0m, in \u001b[0;36mNDFrame.__getattr__\u001b[0;34m(self, name)\u001b[0m\n\u001b[1;32m   5982\u001b[0m \u001b[38;5;28;01mif\u001b[39;00m (\n\u001b[1;32m   5983\u001b[0m     name \u001b[38;5;129;01mnot\u001b[39;00m \u001b[38;5;129;01min\u001b[39;00m \u001b[38;5;28mself\u001b[39m\u001b[38;5;241m.\u001b[39m_internal_names_set\n\u001b[1;32m   5984\u001b[0m     \u001b[38;5;129;01mand\u001b[39;00m name \u001b[38;5;129;01mnot\u001b[39;00m \u001b[38;5;129;01min\u001b[39;00m \u001b[38;5;28mself\u001b[39m\u001b[38;5;241m.\u001b[39m_metadata\n\u001b[1;32m   5985\u001b[0m     \u001b[38;5;129;01mand\u001b[39;00m name \u001b[38;5;129;01mnot\u001b[39;00m \u001b[38;5;129;01min\u001b[39;00m \u001b[38;5;28mself\u001b[39m\u001b[38;5;241m.\u001b[39m_accessors\n\u001b[1;32m   5986\u001b[0m     \u001b[38;5;129;01mand\u001b[39;00m \u001b[38;5;28mself\u001b[39m\u001b[38;5;241m.\u001b[39m_info_axis\u001b[38;5;241m.\u001b[39m_can_hold_identifiers_and_holds_name(name)\n\u001b[1;32m   5987\u001b[0m ):\n\u001b[1;32m   5988\u001b[0m     \u001b[38;5;28;01mreturn\u001b[39;00m \u001b[38;5;28mself\u001b[39m[name]\n\u001b[0;32m-> 5989\u001b[0m \u001b[38;5;28;01mreturn\u001b[39;00m \u001b[38;5;28;43mobject\u001b[39;49m\u001b[38;5;241;43m.\u001b[39;49m\u001b[38;5;21;43m__getattribute__\u001b[39;49m\u001b[43m(\u001b[49m\u001b[38;5;28;43mself\u001b[39;49m\u001b[43m,\u001b[49m\u001b[43m \u001b[49m\u001b[43mname\u001b[49m\u001b[43m)\u001b[49m\n",
      "File \u001b[0;32m~/.pyenv/versions/3.10.5/envs/fastai_related/lib/python3.10/site-packages/pandas/core/accessor.py:224\u001b[0m, in \u001b[0;36mCachedAccessor.__get__\u001b[0;34m(self, obj, cls)\u001b[0m\n\u001b[1;32m    221\u001b[0m \u001b[38;5;28;01mif\u001b[39;00m obj \u001b[38;5;129;01mis\u001b[39;00m \u001b[38;5;28;01mNone\u001b[39;00m:\n\u001b[1;32m    222\u001b[0m     \u001b[38;5;66;03m# we're accessing the attribute of the class, i.e., Dataset.geo\u001b[39;00m\n\u001b[1;32m    223\u001b[0m     \u001b[38;5;28;01mreturn\u001b[39;00m \u001b[38;5;28mself\u001b[39m\u001b[38;5;241m.\u001b[39m_accessor\n\u001b[0;32m--> 224\u001b[0m accessor_obj \u001b[38;5;241m=\u001b[39m \u001b[38;5;28;43mself\u001b[39;49m\u001b[38;5;241;43m.\u001b[39;49m\u001b[43m_accessor\u001b[49m\u001b[43m(\u001b[49m\u001b[43mobj\u001b[49m\u001b[43m)\u001b[49m\n\u001b[1;32m    225\u001b[0m \u001b[38;5;66;03m# Replace the property with the accessor object. Inspired by:\u001b[39;00m\n\u001b[1;32m    226\u001b[0m \u001b[38;5;66;03m# https://www.pydanny.com/cached-property.html\u001b[39;00m\n\u001b[1;32m    227\u001b[0m \u001b[38;5;66;03m# We need to use object.__setattr__ because we overwrite __setattr__ on\u001b[39;00m\n\u001b[1;32m    228\u001b[0m \u001b[38;5;66;03m# NDFrame\u001b[39;00m\n\u001b[1;32m    229\u001b[0m \u001b[38;5;28mobject\u001b[39m\u001b[38;5;241m.\u001b[39m\u001b[38;5;21m__setattr__\u001b[39m(obj, \u001b[38;5;28mself\u001b[39m\u001b[38;5;241m.\u001b[39m_name, accessor_obj)\n",
      "File \u001b[0;32m~/.pyenv/versions/3.10.5/envs/fastai_related/lib/python3.10/site-packages/pandas/core/arrays/categorical.py:2445\u001b[0m, in \u001b[0;36mCategoricalAccessor.__init__\u001b[0;34m(self, data)\u001b[0m\n\u001b[1;32m   2444\u001b[0m \u001b[38;5;28;01mdef\u001b[39;00m \u001b[38;5;21m__init__\u001b[39m(\u001b[38;5;28mself\u001b[39m, data) \u001b[38;5;241m-\u001b[39m\u001b[38;5;241m>\u001b[39m \u001b[38;5;28;01mNone\u001b[39;00m:\n\u001b[0;32m-> 2445\u001b[0m     \u001b[38;5;28;43mself\u001b[39;49m\u001b[38;5;241;43m.\u001b[39;49m\u001b[43m_validate\u001b[49m\u001b[43m(\u001b[49m\u001b[43mdata\u001b[49m\u001b[43m)\u001b[49m\n\u001b[1;32m   2446\u001b[0m     \u001b[38;5;28mself\u001b[39m\u001b[38;5;241m.\u001b[39m_parent \u001b[38;5;241m=\u001b[39m data\u001b[38;5;241m.\u001b[39mvalues\n\u001b[1;32m   2447\u001b[0m     \u001b[38;5;28mself\u001b[39m\u001b[38;5;241m.\u001b[39m_index \u001b[38;5;241m=\u001b[39m data\u001b[38;5;241m.\u001b[39mindex\n",
      "File \u001b[0;32m~/.pyenv/versions/3.10.5/envs/fastai_related/lib/python3.10/site-packages/pandas/core/arrays/categorical.py:2454\u001b[0m, in \u001b[0;36mCategoricalAccessor._validate\u001b[0;34m(data)\u001b[0m\n\u001b[1;32m   2451\u001b[0m \u001b[38;5;129m@staticmethod\u001b[39m\n\u001b[1;32m   2452\u001b[0m \u001b[38;5;28;01mdef\u001b[39;00m \u001b[38;5;21m_validate\u001b[39m(data):\n\u001b[1;32m   2453\u001b[0m     \u001b[38;5;28;01mif\u001b[39;00m \u001b[38;5;129;01mnot\u001b[39;00m is_categorical_dtype(data\u001b[38;5;241m.\u001b[39mdtype):\n\u001b[0;32m-> 2454\u001b[0m         \u001b[38;5;28;01mraise\u001b[39;00m \u001b[38;5;167;01mAttributeError\u001b[39;00m(\u001b[38;5;124m\"\u001b[39m\u001b[38;5;124mCan only use .cat accessor with a \u001b[39m\u001b[38;5;124m'\u001b[39m\u001b[38;5;124mcategory\u001b[39m\u001b[38;5;124m'\u001b[39m\u001b[38;5;124m dtype\u001b[39m\u001b[38;5;124m\"\u001b[39m)\n",
      "\u001b[0;31mAttributeError\u001b[0m: Can only use .cat accessor with a 'category' dtype"
     ]
    }
   ],
   "source": [
    "tst_df[cats] = tst_df[cats].apply(lambda x: x.cat.codes)\n",
    "tst_xs,_ = xs_y(tst_df)\n",
    "\n",
    "def subm(preds, suff):\n",
    "    tst_df['Survived'] = preds\n",
    "    sub_df = tst_df[['PassengerId','Survived']]\n",
    "    sub_df.to_csv(f'sub-{suff}.csv', index=False)\n",
    "\n",
    "subm(m.predict(tst_xs), 'tree')"
   ]
  },
  {
   "cell_type": "markdown",
   "metadata": {},
   "source": [
    "When I submitted this, I got a score of 0.765, which isn't as good as our linear models or most of our neural nets, but it's pretty close to those results.\n",
    "\n",
    "Hopefully you can now see why we didn't really need to create dummy variables, but instead just converted the labels into numbers using some (potentially arbitary) ordering of categories. For instance, here's how the first few items of `Embarked` are labeled:"
   ]
  },
  {
   "cell_type": "code",
   "execution_count": 37,
   "metadata": {
    "ExecuteTime": {
     "end_time": "2023-06-24T04:04:50.061424Z",
     "start_time": "2023-06-24T04:04:50.048836Z"
    },
    "execution": {
     "iopub.execute_input": "2022-05-23T04:40:33.30121Z",
     "iopub.status.busy": "2022-05-23T04:40:33.300898Z",
     "iopub.status.idle": "2022-05-23T04:40:33.310952Z",
     "shell.execute_reply": "2022-05-23T04:40:33.309927Z",
     "shell.execute_reply.started": "2022-05-23T04:40:33.301175Z"
    }
   },
   "outputs": [
    {
     "data": {
      "text/plain": [
       "0    S\n",
       "1    C\n",
       "2    S\n",
       "3    S\n",
       "4    S\n",
       "Name: Embarked, dtype: category\n",
       "Categories (3, object): ['C', 'Q', 'S']"
      ]
     },
     "execution_count": 37,
     "metadata": {},
     "output_type": "execute_result"
    }
   ],
   "source": [
    "df.Embarked.head()"
   ]
  },
  {
   "cell_type": "markdown",
   "metadata": {},
   "source": [
    "...resulting in these integer codes:"
   ]
  },
  {
   "cell_type": "code",
   "execution_count": 38,
   "metadata": {
    "ExecuteTime": {
     "end_time": "2023-06-24T04:04:50.359253Z",
     "start_time": "2023-06-24T04:04:50.346319Z"
    },
    "execution": {
     "iopub.execute_input": "2022-05-23T04:41:09.343513Z",
     "iopub.status.busy": "2022-05-23T04:41:09.34246Z",
     "iopub.status.idle": "2022-05-23T04:41:09.351674Z",
     "shell.execute_reply": "2022-05-23T04:41:09.350699Z",
     "shell.execute_reply.started": "2022-05-23T04:41:09.343456Z"
    }
   },
   "outputs": [
    {
     "data": {
      "text/plain": [
       "0    2\n",
       "1    0\n",
       "2    2\n",
       "3    2\n",
       "4    2\n",
       "dtype: int8"
      ]
     },
     "execution_count": 38,
     "metadata": {},
     "output_type": "execute_result"
    }
   ],
   "source": [
    "df.Embarked.cat.codes.head()"
   ]
  },
  {
   "cell_type": "markdown",
   "metadata": {},
   "source": [
    "So let's say we wanted to split into \"C\" in one group, vs \"Q\" or \"S\" in the other group. Then we just have to split on codes `<=0` (since `C` is mapped to category `0`). Note that if we wanted to split into \"Q\" in one group, we'd need to use two binary splits, first to separate \"C\" from \"Q\" and \"S\", and then a second split to separate \"Q\" from \"S\". For this reason, sometimes it can still be helpful to use dummy variables for categorical variables with few levels (like this one).\n",
    "\n",
    "In practice, I often use dummy variables for <4 levels, and numeric codes for >=4 levels."
   ]
  },
  {
   "cell_type": "markdown",
   "metadata": {},
   "source": [
    "## The random forest"
   ]
  },
  {
   "cell_type": "markdown",
   "metadata": {},
   "source": [
    "We can't make the decision tree much bigger than the example above, since some leaf nodes already have only 50 rows in them. That's not a lot of data to make a prediction.\n",
    "\n",
    "So how could we use bigger trees? One big insight came from Leo Breiman: what if we create lots of bigger trees, and take the average of their predictions? Taking the average prediction of a bunch of models in this way is known as [bagging](https://link.springer.com/article/10.1007/BF00058655).\n",
    "\n",
    "The idea is that we want each model's predictions in the averaged ensemble to be uncorrelated with each other model. That way, if we average the predictions, the average will be equal to the true target value -- that's because the average of lots of uncorrelated random errors is zero. That's quite an amazing insight!\n",
    "\n",
    "One way we can create a bunch of uncorrelated models is to train each of them on a different random subset of the data. Here's how we can create a tree on a random subset of the data:"
   ]
  },
  {
   "cell_type": "code",
   "execution_count": 39,
   "metadata": {
    "ExecuteTime": {
     "end_time": "2023-06-24T04:04:50.885629Z",
     "start_time": "2023-06-24T04:04:50.876472Z"
    },
    "execution": {
     "iopub.execute_input": "2022-05-23T04:51:20.332256Z",
     "iopub.status.busy": "2022-05-23T04:51:20.331981Z",
     "iopub.status.idle": "2022-05-23T04:51:20.338451Z",
     "shell.execute_reply": "2022-05-23T04:51:20.337562Z",
     "shell.execute_reply.started": "2022-05-23T04:51:20.332229Z"
    }
   },
   "outputs": [],
   "source": [
    "def get_tree(prop=0.75):\n",
    "    n = len(trn_y)\n",
    "    idxs = random.choice(n, int(n*prop))\n",
    "    return DecisionTreeClassifier(min_samples_leaf=5).fit(trn_xs.iloc[idxs], trn_y.iloc[idxs])"
   ]
  },
  {
   "cell_type": "markdown",
   "metadata": {},
   "source": [
    "Now we can create as many trees as we want:"
   ]
  },
  {
   "cell_type": "code",
   "execution_count": 40,
   "metadata": {
    "ExecuteTime": {
     "end_time": "2023-06-24T04:04:51.285021Z",
     "start_time": "2023-06-24T04:04:51.152552Z"
    },
    "execution": {
     "iopub.execute_input": "2022-05-23T04:51:23.113575Z",
     "iopub.status.busy": "2022-05-23T04:51:23.113271Z",
     "iopub.status.idle": "2022-05-23T04:51:23.392216Z",
     "shell.execute_reply": "2022-05-23T04:51:23.391179Z",
     "shell.execute_reply.started": "2022-05-23T04:51:23.113547Z"
    }
   },
   "outputs": [],
   "source": [
    "trees = [get_tree() for t in range(100)]"
   ]
  },
  {
   "cell_type": "markdown",
   "metadata": {},
   "source": [
    "Our prediction will be the average of these trees' predictions:"
   ]
  },
  {
   "cell_type": "code",
   "execution_count": 41,
   "metadata": {
    "ExecuteTime": {
     "end_time": "2023-06-24T04:04:51.421192Z",
     "start_time": "2023-06-24T04:04:51.373150Z"
    },
    "execution": {
     "iopub.execute_input": "2022-05-23T04:51:24.13079Z",
     "iopub.status.busy": "2022-05-23T04:51:24.130425Z",
     "iopub.status.idle": "2022-05-23T04:51:24.27515Z",
     "shell.execute_reply": "2022-05-23T04:51:24.274245Z",
     "shell.execute_reply.started": "2022-05-23T04:51:24.130754Z"
    }
   },
   "outputs": [
    {
     "data": {
      "text/plain": [
       "0.2272645739910314"
      ]
     },
     "execution_count": 41,
     "metadata": {},
     "output_type": "execute_result"
    }
   ],
   "source": [
    "all_probs = [t.predict(val_xs) for t in trees]\n",
    "avg_probs = np.stack(all_probs).mean(0)\n",
    "\n",
    "mean_absolute_error(val_y, avg_probs)"
   ]
  },
  {
   "cell_type": "markdown",
   "metadata": {},
   "source": [
    "This is nearly identical to what `sklearn`'s `RandomForestClassifier` does. The main extra piece in a \"real\" random forest is that as well as choosing a random sample of data for each tree, it also picks a random subset of columns for each split. Here's how we repeat the above process with a random forest:"
   ]
  },
  {
   "cell_type": "code",
   "execution_count": 42,
   "metadata": {
    "ExecuteTime": {
     "end_time": "2023-06-24T04:04:55.026522Z",
     "start_time": "2023-06-24T04:04:51.829295Z"
    },
    "execution": {
     "iopub.execute_input": "2022-05-23T04:51:24.302789Z",
     "iopub.status.busy": "2022-05-23T04:51:24.302442Z",
     "iopub.status.idle": "2022-05-23T04:51:24.586127Z",
     "shell.execute_reply": "2022-05-23T04:51:24.584999Z",
     "shell.execute_reply.started": "2022-05-23T04:51:24.302754Z"
    }
   },
   "outputs": [
    {
     "data": {
      "text/plain": [
       "0.18834080717488788"
      ]
     },
     "execution_count": 42,
     "metadata": {},
     "output_type": "execute_result"
    }
   ],
   "source": [
    "from sklearn.ensemble import RandomForestClassifier\n",
    "\n",
    "rf = RandomForestClassifier(100, min_samples_leaf=5)\n",
    "rf.fit(trn_xs, trn_y);\n",
    "mean_absolute_error(val_y, rf.predict(val_xs))"
   ]
  },
  {
   "cell_type": "markdown",
   "metadata": {},
   "source": [
    "We can submit that to Kaggle too:"
   ]
  },
  {
   "cell_type": "code",
   "execution_count": 43,
   "metadata": {
    "ExecuteTime": {
     "end_time": "2023-06-24T04:04:55.037377Z",
     "start_time": "2023-06-24T04:04:55.027621Z"
    },
    "execution": {
     "iopub.execute_input": "2022-05-23T04:51:26.868302Z",
     "iopub.status.busy": "2022-05-23T04:51:26.867535Z",
     "iopub.status.idle": "2022-05-23T04:51:26.902301Z",
     "shell.execute_reply": "2022-05-23T04:51:26.901088Z",
     "shell.execute_reply.started": "2022-05-23T04:51:26.868252Z"
    }
   },
   "outputs": [],
   "source": [
    "subm(rf.predict(tst_xs), 'rf')"
   ]
  },
  {
   "cell_type": "markdown",
   "metadata": {},
   "source": [
    "I found that gave nearly an identical result as our single tree (which, in turn, was slightly lower than our linear and neural net models in the previous notebook)."
   ]
  },
  {
   "cell_type": "markdown",
   "metadata": {},
   "source": [
    "One particularly nice feature of random forests is they can tell us which independent variables were the most important in the model, using `feature_importances_`:"
   ]
  },
  {
   "cell_type": "code",
   "execution_count": 56,
   "metadata": {
    "ExecuteTime": {
     "end_time": "2023-06-24T04:05:59.552007Z",
     "start_time": "2023-06-24T04:05:59.424353Z"
    },
    "execution": {
     "iopub.execute_input": "2022-05-23T04:53:08.654508Z",
     "iopub.status.busy": "2022-05-23T04:53:08.654163Z",
     "iopub.status.idle": "2022-05-23T04:53:08.906439Z",
     "shell.execute_reply": "2022-05-23T04:53:08.904724Z",
     "shell.execute_reply.started": "2022-05-23T04:53:08.654445Z"
    }
   },
   "outputs": [
    {
     "data": {
      "image/png": "[encoded data removed]",
      "text/plain": [
       "<Figure size 640x480 with 1 Axes>"
      ]
     },
     "metadata": {},
     "output_type": "display_data"
    }
   ],
   "source": [
    "pd.DataFrame(dict(cols=trn_xs.columns, imp=m.feature_importances_)).plot('cols', 'imp', 'barh');"
   ]
  },
  {
   "cell_type": "markdown",
   "metadata": {},
   "source": [
    "We can see that `Sex` is by far the most important predictor, with `Pclass` a distant second, and `LogFare` and `Age` behind that. In datasets with many columns, I generally recommend creating a feature importance plot as soon as possible, in order to find which columns are worth studying more closely. (Note also that we didn't really need to take the `log()` of `Fare`, since random forests only care about order, and `log()` doesn't change the order -- we only did it to make our graphs earlier easier to read.)\n",
    "\n",
    "For details about deriving and understanding feature importances, and the many other important diagnostic tools provided by random forests, take a look at [chapter 8](https://github.com/fastai/fastbook/blob/master/08_collab.ipynb) of [our book](https://www.amazon.com/Deep-Learning-Coders-fastai-PyTorch/dp/1492045527)."
   ]
  },
  {
   "cell_type": "markdown",
   "metadata": {},
   "source": [
    "## Conclusion"
   ]
  },
  {
   "cell_type": "markdown",
   "metadata": {},
   "source": [
    "So what can we take away from all this?\n",
    "\n",
    "I think the first thing I'd note from this is that, clearly, more complex models aren't always better. Our \"OneR\" model, consisting of a single binary split, was nearly as good as our more complex models. Perhaps in practice a simple model like this might be much easier to use, and could be worth considering. Our random forest wasn't an improvement on the single decision tree at all.\n",
    "\n",
    "So we should always be careful to benchmark simple models, as see if they're good enough for our needs. In practice, you will often find that simple models will have trouble providing adequate accuracy for more complex tasks, such as recommendation systems, NLP, computer vision, or multivariate time series. But there's no need to guess -- it's so easy to try a few different models, there's no reason not to give the simpler ones a go too!\n",
    "\n",
    "Another thing I think we can take away is that random forests aren't actually that complicated at all. We were able to implement the key features of them in a notebook quite quickly. And they aren't sensitive to issues like normalization, interactions, or non-linear transformations, which make them extremely easy to work with, and hard to mess up!"
   ]
  },
  {
   "cell_type": "markdown",
   "metadata": {},
   "source": [
    "If you found this notebook useful, please remember to click the little up-arrow at the top to upvote it, since I like to know when people have found my work useful, and it helps others find it too. (BTW, be sure you're looking at my [original notebook here](https://www.kaggle.com/jhoward/how-random-forests-work) when you do that, and are not on your own copy of it, otherwise your upvote won't get counted!) And if you have any questions or comments, please pop them below -- I read every comment I receive!"
   ]
  }
 ],
 "metadata": {
  "kernelspec": {
   "display_name": "fastai_related",
   "language": "python",
   "name": "fastai_related"
  },
  "language_info": {
   "codemirror_mode": {
    "name": "ipython",
    "version": 3
   },
   "file_extension": ".py",
   "mimetype": "text/x-python",
   "name": "python",
   "nbconvert_exporter": "python",
   "pygments_lexer": "ipython3",
   "version": "3.10.5"
  },
  "toc": {
   "base_numbering": 1,
   "nav_menu": {
    "height": "133.002px",
    "width": "196.553px"
   },
   "number_sections": false,
   "sideBar": true,
   "skip_h1_title": false,
   "title_cell": "Table of Contents",
   "title_sidebar": "Contents",
   "toc_cell": false,
   "toc_position": {
    "height": "calc(100% - 180px)",
    "left": "10px",
    "top": "150px",
    "width": "384px"
   },
   "toc_section_display": true,
   "toc_window_display": true
  }
 },
 "nbformat": 4,
 "nbformat_minor": 4
}
